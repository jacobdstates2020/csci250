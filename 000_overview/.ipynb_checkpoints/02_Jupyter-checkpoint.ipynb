{
 "cells": [
  {
   "cell_type": "markdown",
   "metadata": {
    "hide_input": false,
    "slideshow": {
     "slide_type": "slide"
    }
   },
   "source": [
    "<img src=\"https://www.mines.edu/webcentral/wp-content/uploads/sites/267/2019/02/horizontallightbackground.jpg\" width=\"100%\"> \n",
    "### CSCI250 Python Computing: Building a Sensor System\n",
    "<hr style=\"height:5px\" width=\"100%\" align=\"left\">\n",
    "\n",
    "# Jupyter notebooks"
   ]
  },
  {
   "cell_type": "markdown",
   "metadata": {
    "slideshow": {
     "slide_type": "slide"
    }
   },
   "source": [
    "# Objective\n",
    "* build **reproducible documents** built using Jupyter notebooks\n",
    "\n",
    "<img src=\"http://jupyter.org/assets/main-logo.svg\" width=\"25%\" align=\"left\">"
   ]
  },
  {
   "cell_type": "markdown",
   "metadata": {
    "slideshow": {
     "slide_type": "slide"
    }
   },
   "source": [
    "# Resources\n",
    "\n",
    "* [Basic intro to Jupyter](http://jupyter.org) \n",
    "* [Expanded documentation](https://jupyter-notebook.readthedocs.io)\n",
    "* [Tips and tricks](https://www.dataquest.io/blog/jupyter-notebook-tips-tricks-shortcuts)"
   ]
  },
  {
   "cell_type": "markdown",
   "metadata": {
    "slideshow": {
     "slide_type": "slide"
    }
   },
   "source": [
    "# What are Jupyter notebooks? \n",
    "Web-based applications handling a computational environment:\n",
    "* software **development**\n",
    "* project **documentation**\n",
    "* code **execution**\n",
    "* results **communication**\n",
    "\n",
    "Provide an **interactive computing environment** mixing code, text, plots and mathematical expressions written with [$\\LaTeX$](https://www.latex-project.org).\n",
    "\n",
    "*** \n",
    "\n",
    "The name is an acronym of its core languages: **JU**lia, **PYT**hon, and **R**. \n",
    "\n",
    "Jupyter notebooks have the extension `.ipynb`."
   ]
  },
  {
   "cell_type": "markdown",
   "metadata": {
    "slideshow": {
     "slide_type": "slide"
    }
   },
   "source": [
    "# Why use Jupyter notebooks?\n",
    "\n",
    "Jupyter notebooks provide a convenient mechanism for\n",
    "* **transferring information** from one user to another\n",
    "* **ensuring reproducibility** of computing and data analysis\n",
    "\n",
    "*** \n",
    "\n",
    "We will use Jupyter notebooks\n",
    "* to transfer explanations and exercises and \n",
    "* to collect assignments (e.g. labs). "
   ]
  },
  {
   "cell_type": "markdown",
   "metadata": {
    "slideshow": {
     "slide_type": "slide"
    }
   },
   "source": [
    "# Jupyter components\n",
    "1. **web application**: a tool for document development\n",
    "\n",
    "2. **kernels**: independent processes to run code\n",
    "\n",
    "3. **notebooks**: all content visible in the web application\n",
    "\n",
    "*** \n",
    "\n",
    "The **web application** interprets the **notebooks** and calls the **kernels** to execute necessary code to generate data and  displays. "
   ]
  },
  {
   "cell_type": "markdown",
   "metadata": {
    "slideshow": {
     "slide_type": "slide"
    }
   },
   "source": [
    "# Jupyter launch\n",
    "\n",
    "In terminal, change to the directory where you keep CSCI250 files. \n",
    "\n",
    "`cd ~/csci250`\n",
    "\n",
    "\n",
    "\n",
    "Then, start Jupyter notebooks using the command\n",
    "\n",
    "`jupyter notebook`\n",
    "\n",
    "This opens a Chromium browser window with a list of the files and directories available on your system, i.e. the **Jupyter dashboard**. "
   ]
  },
  {
   "cell_type": "markdown",
   "metadata": {
    "slideshow": {
     "slide_type": "slide"
    }
   },
   "source": [
    "<img src=\"https://www.dropbox.com/s/z9tqjxaelhln00o/jupyter1.png?raw=1\" width=100%>"
   ]
  },
  {
   "cell_type": "markdown",
   "metadata": {
    "heading_collapsed": true,
    "slideshow": {
     "slide_type": "slide"
    }
   },
   "source": [
    "# Managing notebooks\n",
    "\n",
    "Generate a new notebook by clicking **NEW** in the browser window. \n",
    "\n",
    "This can also be done through the menu: **File > New Notebook**. \n",
    "\n",
    "Make sure you specify Python 3 when creating new notebooks. \n",
    "\n",
    "Notebooks are saved in the current directory and open in a new tab. \n",
    "\n",
    "Notebooks appear on the dashboard listed alphabetically.\n",
    "\n",
    "To maintain order, create subdirectories for different topics."
   ]
  },
  {
   "cell_type": "markdown",
   "metadata": {
    "slideshow": {
     "slide_type": "slide"
    }
   },
   "source": [
    "# Jupyter kernels \n",
    "Every open notebook has an interactive session connected to a **kernel**. \n",
    "\n",
    "Kernels execute code sent by the user and communicate back results. \n",
    "\n",
    "Kernels remain active even if the web browser window is closed.\n",
    "\n",
    "Reopening a notebook connects the web application to its kernel. \n",
    "\n",
    "Use the menu bar to rename notebooks to something meaningful. \n",
    "\n",
    "An empty notebook contains a single **Code cell** identified by `In[ ]:`."
   ]
  },
  {
   "cell_type": "markdown",
   "metadata": {
    "slideshow": {
     "slide_type": "slide"
    }
   },
   "source": [
    "<img src=\"https://www.dropbox.com/s/h108bxytcwzpsfq/jupyter2.png?raw=1\" width=100%>"
   ]
  },
  {
   "cell_type": "markdown",
   "metadata": {
    "slideshow": {
     "slide_type": "slide"
    }
   },
   "source": [
    "# Jupyter cells\n",
    "\n",
    "Jupyter notebooks consists of a linear sequence of cells. \n",
    "\n",
    "There are different kinds of cells:\n",
    "\n",
    "* raw cells\n",
    "* code cells\n",
    "* markdown cells"
   ]
  },
  {
   "cell_type": "markdown",
   "metadata": {
    "slideshow": {
     "slide_type": "slide"
    }
   },
   "source": [
    "## Raw cells\n",
    "Are neither executed, nor subject to rich formatting."
   ]
  },
  {
   "cell_type": "raw",
   "metadata": {},
   "source": [
    "Raw cell demo. \n",
    "\n",
    "It neither contain code, nor rich formatted text."
   ]
  },
  {
   "cell_type": "markdown",
   "metadata": {
    "slideshow": {
     "slide_type": "slide"
    }
   },
   "source": [
    "## Code cells\n",
    "Allow to \n",
    "* **write code** with full syntax highlighting and tab completion\n",
    "* **execute code** in interactive mode. \n",
    "\n",
    "Python is the default programming language. \n",
    "\n",
    "When executed, the results are displayed right after the cell."
   ]
  },
  {
   "cell_type": "code",
   "execution_count": 1,
   "metadata": {
    "slideshow": {
     "slide_type": "slide"
    }
   },
   "outputs": [
    {
     "name": "stdout",
     "output_type": "stream",
     "text": [
      "Hello world!\n"
     ]
    }
   ],
   "source": [
    "# code cell demo\n",
    "\n",
    "print(\"Hello world!\")"
   ]
  },
  {
   "cell_type": "markdown",
   "metadata": {
    "slideshow": {
     "slide_type": "slide"
    }
   },
   "source": [
    "## Markdown cells\n",
    "\n",
    "Contain explanatory text describing the content of a notebook. \n",
    "\n",
    "The content is written in the [**Markdown language**](https://jupyter-notebook.readthedocs.io/en/stable/examples/Notebook/Working%20With%20Markdown%20Cells.html). \n",
    "\n",
    "When a markdown cell is executed, its content formats in **rich text**. \n",
    "\n",
    "Markdown allows arbitrary HTML code for formatting. \n",
    "\n",
    "Markdown allows mathematical content in $\\LaTeX$ notation.\n",
    "\n",
    "A good summary of markdown syntax is [here](https://github.com/adam-p/markdown-here/wiki/Markdown-Here-Cheatsheet)."
   ]
  },
  {
   "cell_type": "markdown",
   "metadata": {
    "slideshow": {
     "slide_type": "slide"
    }
   },
   "source": [
    "# Markdown cell demo:\n",
    "\n",
    "Here's a bulleted list:\n",
    "* Hello\n",
    "* World!\n",
    "\n",
    "Here are examples of math expressions written with [$\\LaTeX$](https://www.latex-project.org):\n",
    "\n",
    "$a^2 + b^2 = c^2$\n",
    "\n",
    "$\\tan x = \\dfrac{\\sin x}{\\cos x}$"
   ]
  },
  {
   "cell_type": "markdown",
   "metadata": {
    "slideshow": {
     "slide_type": "slide"
    }
   },
   "source": [
    "### Pictures - Markdown syntax\n",
    "\n",
    "`![Alternative text](link to image)`\n",
    "\n",
    "![Bart](bart.jpg)\n",
    "\n",
    "This syntax is convenient but offers limited editing options."
   ]
  },
  {
   "attachments": {
    "lisa.gif": {
     "image/gif": "[encoded data removed]"
    }
   },
   "cell_type": "markdown",
   "metadata": {
    "slideshow": {
     "slide_type": "slide"
    }
   },
   "source": [
    "### Pictures - Markdown syntax\n",
    "\n",
    "`![Alternative text](attachment:image)`\n",
    "\n",
    "![lisa.gif](attachment:lisa.gif)\n",
    "\n",
    "**Embeds** an image into the notebook. \n",
    "\n",
    "Can also use **Edit > Insert Image**. "
   ]
  },
  {
   "cell_type": "markdown",
   "metadata": {
    "slideshow": {
     "slide_type": "slide"
    }
   },
   "source": [
    "### Pictures - HTML syntax\n",
    "`<img src=\"link to image\" [options...] />`\n",
    "\n",
    "This allows modifications: scaling, positioning, rotating, etc. \n",
    "\n",
    "* `width=\"val\"`: e.g. `\"width=50%\"` or `\"width=500px\"`.\n",
    "\n",
    "* `align=\"val\"`: `left`, `right`, `top`, `bottom`, or `middle`\n",
    "\n",
    "* `style=\"transform:rotate(val)\"`: e.g. `45deg`"
   ]
  },
  {
   "cell_type": "markdown",
   "metadata": {
    "slideshow": {
     "slide_type": "slide"
    }
   },
   "source": [
    "<img src=\"bart.jpg\" width=\"10%\" align=\"left\" style=\"transform:rotate(+45deg)\" />\n",
    "\n",
    "<img src=\"lisa.jpg\" width=\"30%\" align=\"center\" style=\"transform:rotate(0deg)\" />"
   ]
  },
  {
   "cell_type": "markdown",
   "metadata": {
    "slideshow": {
     "slide_type": "slide"
    }
   },
   "source": [
    "# Jupyter execution\n",
    "\n",
    "Cells exist in two modes:\n",
    "\n",
    "**Command mode** - for navigation and display \n",
    "\n",
    "**Edit mode** - for coding and editing\n",
    "\n",
    "***\n",
    "\n",
    "* Pressing **Enter** changes a cell to edit mode.\n",
    "\n",
    "* Pressing **Ctrl+Enter** executes the cell.\n",
    "\n",
    "* Pressing **Shift+Enter** executes the cell and moves to the next."
   ]
  },
  {
   "cell_type": "markdown",
   "metadata": {
    "slideshow": {
     "slide_type": "slide"
    }
   },
   "source": [
    "<img src=\"https://www.dropbox.com/s/8b7q64wz8fmthf6/jupyter3.png?raw=1\" width=100%>"
   ]
  },
  {
   "cell_type": "markdown",
   "metadata": {
    "slideshow": {
     "slide_type": "slide"
    }
   },
   "source": [
    "<img src=\"https://www.dropbox.com/s/pyj4zb76r9p2phu/jupyter4.png?raw=1\" width=100%>"
   ]
  },
  {
   "cell_type": "markdown",
   "metadata": {
    "slideshow": {
     "slide_type": "slide"
    }
   },
   "source": [
    "# Non-sequential execution\n",
    "\n",
    "Each code cell can be executed in any order. \n",
    "\n",
    "The kernel knows **what it did before, not what is currently written**:\n",
    "\n",
    "* one can create a variable, then delete the code that created it\n",
    "* the kernel remembers that variable from before"
   ]
  },
  {
   "cell_type": "code",
   "execution_count": 6,
   "metadata": {},
   "outputs": [],
   "source": [
    "a = 5"
   ]
  },
  {
   "cell_type": "code",
   "execution_count": 7,
   "metadata": {},
   "outputs": [
    {
     "name": "stdout",
     "output_type": "stream",
     "text": [
      "5\n"
     ]
    }
   ],
   "source": [
    "print(a)"
   ]
  },
  {
   "cell_type": "code",
   "execution_count": 4,
   "metadata": {},
   "outputs": [],
   "source": [
    "a = 10"
   ]
  },
  {
   "cell_type": "markdown",
   "metadata": {
    "slideshow": {
     "slide_type": "slide"
    }
   },
   "source": [
    "# Closing notebooks\n",
    "\n",
    "Save your notebook using the disk icon in the notebook window. \n",
    "\n",
    "Then, turn off the kernel by selecting **File > Close and Halt**. \n",
    "\n",
    "This closes the notebook and returns to the Jupyter dashboard."
   ]
  },
  {
   "cell_type": "markdown",
   "metadata": {
    "heading_collapsed": true,
    "slideshow": {
     "slide_type": "slide"
    }
   },
   "source": [
    "# Jupyter shutdown\n",
    "\n",
    "In the Jupyter dashboard, click **Quit** to stop the Jupyter server. \n",
    "\n",
    "or\n",
    "\n",
    "From the terminal from where you started Jupyter press `Ctrl+C`.\n",
    "\n",
    "Respond `y` when asked if you want to shutdown the Jupyter server. \n",
    "\n",
    "The browser remains open, but notebooks cannot be executed."
   ]
  },
  {
   "cell_type": "markdown",
   "metadata": {
    "hidden": true,
    "slideshow": {
     "slide_type": "slide"
    }
   },
   "source": [
    "<img src=\"http://www.dropbox.com/s/fcucolyuzdjl80k/todo.jpg?raw=1\" width=\"10%\" align=\"right\">\n",
    "\n",
    "Visit the [User Manual](https://jupyter.brynmawr.edu/services/public/dblank/Jupyter%20Notebook%20Users%20Manual.ipynb)\n",
    "and familiarize yourself with the layout and menu structure of Jupyter notebooks. \n",
    "\n",
    "Download from Canvas the available Jupyter notebooks into the `csci250` directory you created in your home directory. \n",
    "\n",
    "Practice creating new notebooks, adding and removing cells of different kinds, executing cells, etc."
   ]
  }
 ],
 "metadata": {
  "celltoolbar": "Slideshow",
  "kernelspec": {
   "display_name": "Python 3",
   "language": "python",
   "name": "python3"
  },
  "language_info": {
   "codemirror_mode": {
    "name": "ipython",
    "version": 3
   },
   "file_extension": ".py",
   "mimetype": "text/x-python",
   "name": "python",
   "nbconvert_exporter": "python",
   "pygments_lexer": "ipython3",
   "version": "3.8.3"
  },
  "varInspector": {
   "cols": {
    "lenName": 16,
    "lenType": 16,
    "lenVar": 40
   },
   "kernels_config": {
    "python": {
     "delete_cmd_postfix": "",
     "delete_cmd_prefix": "del ",
     "library": "var_list.py",
     "varRefreshCmd": "print(var_dic_list())"
    },
    "r": {
     "delete_cmd_postfix": ") ",
     "delete_cmd_prefix": "rm(",
     "library": "var_list.r",
     "varRefreshCmd": "cat(var_dic_list()) "
    }
   },
   "types_to_exclude": [
    "module",
    "function",
    "builtin_function_or_method",
    "instance",
    "_Feature"
   ],
   "window_display": false
  }
 },
 "nbformat": 4,
 "nbformat_minor": 4
}
