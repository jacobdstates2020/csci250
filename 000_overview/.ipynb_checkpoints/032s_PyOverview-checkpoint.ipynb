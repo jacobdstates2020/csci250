{
 "cells": [
  {
   "cell_type": "markdown",
   "metadata": {
    "slideshow": {
     "slide_type": "slide"
    }
   },
   "source": [
    "<img src=\"https://www.mines.edu/webcentral/wp-content/uploads/sites/267/2019/02/horizontallightbackground.jpg\" width=\"100%\"> \n",
    "### CSCI250 Python Computing: Building a Sensor System\n",
    "<hr style=\"height:5px\" width=\"100%\" align=\"left\">\n",
    "\n",
    "# Python overview"
   ]
  },
  {
   "cell_type": "markdown",
   "metadata": {
    "slideshow": {
     "slide_type": "slide"
    }
   },
   "source": [
    "# Objectives\n",
    "* give an overview of the Python programming language \n",
    "* provide links to supporting Jupyter notebooks \n",
    "\n",
    "<img src=\"https://www.python.org/static/img/python-logo@2x.png\" width=100% align=\"left\">"
   ]
  },
  {
   "cell_type": "markdown",
   "metadata": {
    "slideshow": {
     "slide_type": "slide"
    }
   },
   "source": [
    "# Resources\n",
    "\n",
    "* [Python introduction](https://docs.python.org/3/tutorial)\n",
    "* [Beginner's Guide](https://wiki.python.org/moin/BeginnersGuide)\n",
    "* [Developer's guide](https://devguide.python.org)\n",
    "* [Standard Libraries](https://docs.python.org/3/library)\n",
    "* [Programiz Python tutorial](https://www.programiz.com/python-programming/tutorial)"
   ]
  },
  {
   "cell_type": "markdown",
   "metadata": {
    "slideshow": {
     "slide_type": "slide"
    }
   },
   "source": [
    "# Python keywords\n",
    "**Reserved words** or **keywords** unavailable as identifiers.\n",
    "\n",
    "<img src=\"https://www.dropbox.com/s/u628vjn2uc5h3ua/notebook.png?raw=1\" width=\"10%\" align=\"right\">\n",
    "\n",
    "See the [keyword notebook](s_PyKeywords.ipynb) for more info."
   ]
  },
  {
   "cell_type": "code",
   "execution_count": null,
   "metadata": {
    "scrolled": true,
    "slideshow": {
     "slide_type": "slide"
    }
   },
   "outputs": [],
   "source": [
    "# incorrect assignment to a Python keyword\n",
    "if = 78.2"
   ]
  },
  {
   "cell_type": "markdown",
   "metadata": {
    "slideshow": {
     "slide_type": "slide"
    }
   },
   "source": [
    "# Python magic\n",
    "Built-in commands that \n",
    "* control its own behavior \n",
    "* provide access to the OS.\n",
    "\n",
    "<img src=\"https://www.dropbox.com/s/u628vjn2uc5h3ua/notebook.png?raw=1\" width=\"10%\" align=\"right\">\n",
    "\n",
    "See the [magic notebook](s_PyMagic.ipynb) for more info."
   ]
  },
  {
   "cell_type": "code",
   "execution_count": null,
   "metadata": {
    "slideshow": {
     "slide_type": "slide"
    }
   },
   "outputs": [],
   "source": [
    "# use magic to execute Linux commands\n",
    "%ls -latr"
   ]
  },
  {
   "cell_type": "markdown",
   "metadata": {
    "slideshow": {
     "slide_type": "slide"
    }
   },
   "source": [
    "# Python data types\n",
    "\n",
    "Encapsulate data using \n",
    "* **basic** types \n",
    "    * `int`, `float`, `bool`, `complex`\n",
    "* **compound** types\n",
    "    * `string`, `list`, `typle`, `dict`, `set`\n",
    "\n",
    "<img src=\"https://www.dropbox.com/s/u628vjn2uc5h3ua/notebook.png?raw=1\" width=\"10%\" align=\"right\">\n",
    "\n",
    "See the [types notebook](s_PyType.ipynb) for more info."
   ]
  },
  {
   "cell_type": "code",
   "execution_count": null,
   "metadata": {
    "slideshow": {
     "slide_type": "slide"
    }
   },
   "outputs": [],
   "source": [
    "i = 7                      # int\n",
    "f = 3.14                   # float\n",
    "s = \"Hello CSCI250 class!\" # string\n",
    "l = [3,5,7,8,0,1]          # list\n",
    "\n",
    "print( type(i) )\n",
    "print( type(f) )\n",
    "print( type(s) )\n",
    "print( type(l) )"
   ]
  },
  {
   "cell_type": "markdown",
   "metadata": {
    "slideshow": {
     "slide_type": "slide"
    }
   },
   "source": [
    "# Python operators\n",
    "\n",
    "Builtins whose behavior adjusts automatically to the data type.\n",
    "\n",
    "<img src=\"https://www.dropbox.com/s/u628vjn2uc5h3ua/notebook.png?raw=1\" width=\"10%\" align=\"right\">\n",
    "\n",
    "See the [operators notebook](s_PyOperators.ipynb) for more info."
   ]
  },
  {
   "cell_type": "code",
   "execution_count": null,
   "metadata": {
    "slideshow": {
     "slide_type": "slide"
    }
   },
   "outputs": [],
   "source": [
    "n = 5\n",
    "print( n**2 )\n",
    "\n",
    "print('')\n",
    "print( n/2  )\n",
    "print( n//2 )\n",
    "print( n%2  )\n",
    "\n",
    "print('')\n",
    "x = True\n",
    "y = False\n",
    "print( not y and (y or x))"
   ]
  },
  {
   "cell_type": "markdown",
   "metadata": {
    "slideshow": {
     "slide_type": "slide"
    }
   },
   "source": [
    "# Python conditionals\n",
    "\n",
    "Builtins that limit specific code execution under set circumstances.\n",
    "\n",
    "<img src=\"https://www.dropbox.com/s/u628vjn2uc5h3ua/notebook.png?raw=1\" width=\"10%\" align=\"right\">\n",
    "\n",
    "See the [conditionals notebook](s_PyConditionals.ipynb) for more info."
   ]
  },
  {
   "cell_type": "code",
   "execution_count": null,
   "metadata": {
    "slideshow": {
     "slide_type": "slide"
    }
   },
   "outputs": [],
   "source": [
    "import datetime\n",
    "now = datetime.datetime.now()\n",
    "h = now.hour                         # find the current hour\n",
    "\n",
    "if( h < 12 ):                        # define greeting based on the hour\n",
    "    print('Good morning!')\n",
    "else:\n",
    "    print('Good afternoon!')"
   ]
  },
  {
   "cell_type": "markdown",
   "metadata": {
    "slideshow": {
     "slide_type": "slide"
    }
   },
   "source": [
    "# Python loops\n",
    "\n",
    "Builtins for repeated execution of blocks of code.\n",
    "\n",
    "<img src=\"https://www.dropbox.com/s/u628vjn2uc5h3ua/notebook.png?raw=1\" width=\"10%\" align=\"right\">\n",
    "\n",
    "See the [loops notebook](s_PyLoops.ipynb) for more info."
   ]
  },
  {
   "cell_type": "code",
   "execution_count": null,
   "metadata": {
    "slideshow": {
     "slide_type": "slide"
    }
   },
   "outputs": [],
   "source": [
    "for i in range(10):\n",
    "    print (i,end=' ')"
   ]
  },
  {
   "cell_type": "markdown",
   "metadata": {
    "slideshow": {
     "slide_type": "slide"
    }
   },
   "source": [
    "# Python functions\n",
    "\n",
    "Code units that encapsulate a given purpose and functionality.\n",
    "\n",
    "<img src=\"https://www.dropbox.com/s/u628vjn2uc5h3ua/notebook.png?raw=1\" width=\"10%\" align=\"right\">\n",
    "\n",
    "See the [functions notebook](s_PyFunctions.ipynb) for more info."
   ]
  },
  {
   "cell_type": "code",
   "execution_count": null,
   "metadata": {
    "slideshow": {
     "slide_type": "slide"
    }
   },
   "outputs": [],
   "source": [
    "def myPow(a):\n",
    "    return a*a\n",
    "\n",
    "myPow(2)"
   ]
  },
  {
   "cell_type": "markdown",
   "metadata": {
    "slideshow": {
     "slide_type": "slide"
    }
   },
   "source": [
    "# Python modules\n",
    "\n",
    "Files grouping functions by purpose and application.\n",
    "\n",
    "<img src=\"https://www.dropbox.com/s/u628vjn2uc5h3ua/notebook.png?raw=1\" width=\"10%\" align=\"right\">\n",
    "\n",
    "See the [modules notebook](s_PyModules.ipynb) for more info."
   ]
  },
  {
   "cell_type": "code",
   "execution_count": null,
   "metadata": {},
   "outputs": [],
   "source": [
    "import time,math"
   ]
  },
  {
   "cell_type": "markdown",
   "metadata": {
    "slideshow": {
     "slide_type": "slide"
    }
   },
   "source": [
    "### `numpy` module\n",
    "\n",
    "An external module for optimal handling of array structures.\n",
    "\n",
    "<img src=\"https://www.dropbox.com/s/u628vjn2uc5h3ua/notebook.png?raw=1\" width=\"10%\" align=\"right\">\n",
    "\n",
    "See the [1D](s_NpArrays1D.ipynb) and [2D](s_NpArrays2D.ipynb) array notebooks for definition and uses.\n",
    "\n",
    "See [1D](s_NpVectorize1D.ipynb) and [2D](s_NpArrays2D.ipynb) vectorization notebooks for fast execution."
   ]
  },
  {
   "cell_type": "code",
   "execution_count": null,
   "metadata": {
    "slideshow": {
     "slide_type": "slide"
    }
   },
   "outputs": [],
   "source": [
    "import numpy as np\n",
    "\n",
    "t = np.arange(0, 2*np.pi, np.pi/10)\n",
    "f = np.sin(t)"
   ]
  },
  {
   "cell_type": "markdown",
   "metadata": {
    "slideshow": {
     "slide_type": "slide"
    }
   },
   "source": [
    "### `matplotlib` library\n",
    "\n",
    "An external module defining convenient plotting functions.\n",
    "\n",
    "<img src=\"https://www.dropbox.com/s/u628vjn2uc5h3ua/notebook.png?raw=1\" width=\"10%\" align=\"right\">\n",
    "\n",
    "See the [1D](s_MpPlots1D.ipynb), [2D](s_MpPlots2D.ipynb) plotting notebooks for array plotting support."
   ]
  },
  {
   "cell_type": "code",
   "execution_count": null,
   "metadata": {
    "slideshow": {
     "slide_type": "slide"
    }
   },
   "outputs": [],
   "source": [
    "import matplotlib.pyplot as plt\n",
    "\n",
    "plt.figure(figsize=(15,5))\n",
    "plt.plot(t,f,'-');"
   ]
  },
  {
   "cell_type": "markdown",
   "metadata": {
    "slideshow": {
     "slide_type": "slide"
    }
   },
   "source": [
    "### `threading` library\n",
    "\n",
    "An external module for concurrent execution using  threads.\n",
    "\n",
    "<img src=\"https://www.dropbox.com/s/u628vjn2uc5h3ua/notebook.png?raw=1\" width=\"10%\" align=\"right\">\n",
    "\n",
    "See the [concurrency notebook](s_NpConcurrency.ipynb) for info on threading.\n",
    "\n",
    "See the [parallelism notebook](s_NpParallelism.ipynb) for info on parallel execution."
   ]
  },
  {
   "cell_type": "code",
   "execution_count": null,
   "metadata": {
    "slideshow": {
     "slide_type": "slide"
    }
   },
   "outputs": [],
   "source": [
    "import time, threading\n",
    "\n",
    "# define a function\n",
    "def myFunc(i,t):\n",
    "    time.sleep(t)\n",
    "    \n",
    "# define threads\n",
    "ta = threading.Thread( target = myFunc, args = (0, 4.0) )\n",
    "tb = threading.Thread( target = myFunc, args = (1, 8.0) )\n",
    "\n",
    "# start threads\n",
    "ta.start()\n",
    "tb.start()\n",
    "\n",
    "# monitor threads every 1s\n",
    "for i in range(10):\n",
    "    print('%ds:   %d %d'%(i,ta.is_alive(),tb.is_alive()) )\n",
    "    time.sleep(1)"
   ]
  },
  {
   "cell_type": "markdown",
   "metadata": {
    "slideshow": {
     "slide_type": "slide"
    }
   },
   "source": [
    "# Python OOP\n",
    "\n",
    "Object Oriented Programming allows for\n",
    "* encapsulation\n",
    "* inheritance\n",
    "* polymorphism.\n",
    "\n",
    "<img src=\"https://www.dropbox.com/s/u628vjn2uc5h3ua/notebook.png?raw=1\" width=\"10%\" align=\"right\">\n",
    "\n",
    "See the [OOP basics notebook](s_PyOOPBasics.ipynb) for a summary introduction.\n",
    "\n",
    "See the [OOP extensions notebook](s_PyOOPExtensions.ipynb) for advanced features."
   ]
  },
  {
   "cell_type": "code",
   "execution_count": null,
   "metadata": {
    "slideshow": {
     "slide_type": "slide"
    }
   },
   "outputs": [],
   "source": [
    "# define a class\n",
    "class Car:\n",
    "    '''a generic car'''                     # documentation\n",
    "    noWheels = 4                            # class variable\n",
    "    def __init__(self, make, color):        # constructor\n",
    "        self.make  = make                   # instance variables\n",
    "        self.color = color\n",
    "        \n",
    "    def info(self):                         # member function\n",
    "        print(\"a\", self.color, self.make,)"
   ]
  },
  {
   "cell_type": "code",
   "execution_count": null,
   "metadata": {},
   "outputs": [],
   "source": [
    "# define objects\n",
    "carA = Car('Toyota','white')\n",
    "carB = Car('Ford','blue')\n",
    "\n",
    "# use object method\n",
    "carA.info()\n",
    "carB.info()"
   ]
  },
  {
   "cell_type": "markdown",
   "metadata": {
    "slideshow": {
     "slide_type": "slide"
    }
   },
   "source": [
    "# Python data storage\n",
    "\n",
    "Python facilitates simple or optimized external data storage.\n",
    "\n",
    "<img src=\"https://www.dropbox.com/s/u628vjn2uc5h3ua/notebook.png?raw=1\" width=\"10%\" align=\"right\">\n",
    "\n",
    "See the [Python file I/O notebook](s_PyFileIO.ipynb) for a basic data handling.\n",
    "\n",
    "See the [`numpy` file I/O notebook](s_NpFileIO.ipynb) for optimized data handling."
   ]
  },
  {
   "cell_type": "code",
   "execution_count": null,
   "metadata": {
    "slideshow": {
     "slide_type": "slide"
    }
   },
   "outputs": [],
   "source": [
    "myCollege = ['School','of','Mines']\n",
    "\n",
    "f = open('info.txt','w')\n",
    "for w in myCollege:\n",
    "    f.write(w+'\\n')\n",
    "f.close()"
   ]
  },
  {
   "cell_type": "code",
   "execution_count": null,
   "metadata": {},
   "outputs": [],
   "source": [
    "%ls -la i*.txt"
   ]
  },
  {
   "cell_type": "code",
   "execution_count": null,
   "metadata": {},
   "outputs": [],
   "source": [
    "%cat info.txt"
   ]
  },
  {
   "cell_type": "markdown",
   "metadata": {
    "slideshow": {
     "slide_type": "slide"
    }
   },
   "source": [
    "<img src=\"https://www.dropbox.com/s/wj23ce93pa9j8pe/exercise.png?raw=1\" width=\"10%\" align=\"left\">\n",
    "\n",
    "# Exercise\n",
    "Compute the [Golden Ratio](https://en.wikipedia.org/wiki/Golden_ratio) using [Lucas numbers](https://en.wikipedia.org/wiki/Lucas_number).\n",
    "\n",
    "Print the Golden Ratio values as a function of the sequence index.\n",
    "\n",
    "Save the sequence to a ASCII file using Python commands."
   ]
  }
 ],
 "metadata": {
  "celltoolbar": "Slideshow",
  "kernelspec": {
   "display_name": "Python 3 (ipykernel)",
   "language": "python",
   "name": "python3"
  },
  "language_info": {
   "codemirror_mode": {
    "name": "ipython",
    "version": 3
   },
   "file_extension": ".py",
   "mimetype": "text/x-python",
   "name": "python",
   "nbconvert_exporter": "python",
   "pygments_lexer": "ipython3",
   "version": "3.9.2"
  }
 },
 "nbformat": 4,
 "nbformat_minor": 2
}
