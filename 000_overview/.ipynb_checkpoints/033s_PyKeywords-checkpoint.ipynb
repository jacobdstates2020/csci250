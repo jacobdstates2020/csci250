{
 "cells": [
  {
   "cell_type": "markdown",
   "metadata": {
    "slideshow": {
     "slide_type": "slide"
    }
   },
   "source": [
    "<img src=\"https://www.mines.edu/webcentral/wp-content/uploads/sites/267/2019/02/horizontallightbackground.jpg\" width=\"100%\"> \n",
    "### CSCI250 Python Computing: Building a Sensor System\n",
    "<hr style=\"height:5px\" width=\"100%\" align=\"left\">\n",
    "\n",
    "# Python keywords"
   ]
  },
  {
   "cell_type": "markdown",
   "metadata": {
    "slideshow": {
     "slide_type": "slide"
    }
   },
   "source": [
    "# Objectives\n",
    "* summarize the main Python keywords\n",
    "* practice basic operations with Python keywords"
   ]
  },
  {
   "cell_type": "markdown",
   "metadata": {
    "slideshow": {
     "slide_type": "slide"
    }
   },
   "source": [
    "# Resources\n",
    "* [Python introduction](https://docs.python.org/3/tutorial)\n",
    "* [Programiz Python tutorial](https://www.programiz.com/python-programming/keyword-list)"
   ]
  },
  {
   "cell_type": "markdown",
   "metadata": {
    "slideshow": {
     "slide_type": "slide"
    }
   },
   "source": [
    "# Definition\n",
    "\n",
    "**Reserved words** that define Python syntax and structure:\n",
    "\n",
    "* cannot be identifiers (functions, variables,...)\n",
    "* are case sensitive\n",
    "\n"
   ]
  },
  {
   "cell_type": "markdown",
   "metadata": {
    "slideshow": {
     "slide_type": "slide"
    }
   },
   "source": [
    "# `keyword` list"
   ]
  },
  {
   "cell_type": "code",
   "execution_count": null,
   "metadata": {
    "scrolled": false,
    "slideshow": {
     "slide_type": "-"
    }
   },
   "outputs": [],
   "source": [
    "import keyword\n",
    "print( keyword.kwlist )"
   ]
  },
  {
   "cell_type": "markdown",
   "metadata": {
    "slideshow": {
     "slide_type": "slide"
    }
   },
   "source": [
    "<img src=\"http://www.dropbox.com/s/fcucolyuzdjl80k/todo.jpg?raw=1\" width=\"10%\" align=\"right\">\n",
    "\n",
    "Add cells to practice with each of the Python keywords.\n",
    "\n",
    "Use the `help()` function to learn about each keyword."
   ]
  },
  {
   "cell_type": "code",
   "execution_count": null,
   "metadata": {
    "scrolled": true
   },
   "outputs": [],
   "source": [
    "help('from') # list keyword in quotes"
   ]
  },
  {
   "cell_type": "markdown",
   "metadata": {
    "slideshow": {
     "slide_type": "slide"
    }
   },
   "source": [
    "# `True`, `False`, `None`\n",
    "\n",
    "* `True`,`False`: Boolean logical values\n",
    "* `None`: indicates absence of a value"
   ]
  },
  {
   "cell_type": "code",
   "execution_count": null,
   "metadata": {
    "slideshow": {
     "slide_type": "-"
    }
   },
   "outputs": [],
   "source": [
    "2 > 1"
   ]
  },
  {
   "cell_type": "code",
   "execution_count": null,
   "metadata": {
    "slideshow": {
     "slide_type": "-"
    }
   },
   "outputs": [],
   "source": [
    "1 > 2"
   ]
  },
  {
   "cell_type": "code",
   "execution_count": null,
   "metadata": {},
   "outputs": [],
   "source": [
    "a,b = 2,None\n",
    "print(a,a+b)"
   ]
  },
  {
   "cell_type": "markdown",
   "metadata": {
    "slideshow": {
     "slide_type": "slide"
    }
   },
   "source": [
    "# `and`, `or`, `not`\n",
    "\n",
    "* `and` is `True` only if both operands are `True`\n",
    "* `or` is `True` if any of the operands is `True`\n",
    "* `not` inverts the truth value"
   ]
  },
  {
   "cell_type": "code",
   "execution_count": null,
   "metadata": {
    "slideshow": {
     "slide_type": "-"
    }
   },
   "outputs": [],
   "source": [
    "a = True\n",
    "\n",
    "print(a, not a)"
   ]
  },
  {
   "cell_type": "code",
   "execution_count": null,
   "metadata": {
    "slideshow": {
     "slide_type": "-"
    }
   },
   "outputs": [],
   "source": [
    "b = False\n",
    "\n",
    "print(a,b, a and b)\n",
    "print(a,b, a  or b)"
   ]
  },
  {
   "cell_type": "markdown",
   "metadata": {
    "slideshow": {
     "slide_type": "slide"
    }
   },
   "source": [
    "# `if`, `else`, `elif`\n",
    "\n",
    "Used for conditional branching or decision making.\n",
    "\n",
    "***\n",
    "<img src=\"https://www.dropbox.com/s/u628vjn2uc5h3ua/notebook.png?raw=1\" width=\"10%\" align=\"right\">\n",
    "\n",
    "See the [conditionals notebook](s_PyConditionals.ipynb) for more info."
   ]
  },
  {
   "cell_type": "code",
   "execution_count": null,
   "metadata": {
    "slideshow": {
     "slide_type": "-"
    }
   },
   "outputs": [],
   "source": [
    "# assignment to two int variables\n",
    "a,b = 1,2\n",
    "\n",
    "# logical comparison of the ints\n",
    "if a > b:\n",
    "    print(\"a is bigger\")\n",
    "elif a < b:\n",
    "    print(\"b is bigger\")\n",
    "else:\n",
    "    print(\"a and b are equal\")"
   ]
  },
  {
   "cell_type": "markdown",
   "metadata": {
    "slideshow": {
     "slide_type": "slide"
    }
   },
   "source": [
    "# `assert`\n",
    "\n",
    "`assert condition, error message` \n",
    "\n",
    "* if condition is `True`, nothing happens\n",
    "* if condition is `False`, raise `AssertionError`"
   ]
  },
  {
   "cell_type": "code",
   "execution_count": null,
   "metadata": {
    "slideshow": {
     "slide_type": "-"
    }
   },
   "outputs": [],
   "source": [
    "myTime = int(input('Enter the time:'))\n",
    "assert myTime > 0, \"time cannot be negative\"\n",
    "\n",
    "print(myTime)"
   ]
  },
  {
   "cell_type": "markdown",
   "metadata": {
    "slideshow": {
     "slide_type": "slide"
    }
   },
   "source": [
    "# `del`\n",
    "\n",
    "Used to delete the reference to an object."
   ]
  },
  {
   "cell_type": "code",
   "execution_count": null,
   "metadata": {
    "slideshow": {
     "slide_type": "-"
    }
   },
   "outputs": [],
   "source": [
    "a,b = 1,2\n",
    "print(a,b)"
   ]
  },
  {
   "cell_type": "code",
   "execution_count": null,
   "metadata": {
    "slideshow": {
     "slide_type": "-"
    }
   },
   "outputs": [],
   "source": [
    "del(b)\n",
    "print(a,b)"
   ]
  },
  {
   "cell_type": "markdown",
   "metadata": {
    "slideshow": {
     "slide_type": "slide"
    }
   },
   "source": [
    "# `def`\n",
    "\n",
    "Used to define custom functions. \n",
    "\n",
    "A **function** is a block of code that accomplishes a specific task. \n",
    "\n",
    "Functions are useful to organize code and to reduce its redundancy.\n",
    "\n",
    "***\n",
    "<img src=\"https://www.dropbox.com/s/u628vjn2uc5h3ua/notebook.png?raw=1\" width=\"10%\" align=\"right\">\n",
    "\n",
    "See the [functions notebook](s_PyFunctions.ipynb) for more info."
   ]
  },
  {
   "cell_type": "markdown",
   "metadata": {
    "slideshow": {
     "slide_type": "slide"
    }
   },
   "source": [
    "# `pass`\n",
    "Is a null statement - nothing happens when executed."
   ]
  },
  {
   "cell_type": "code",
   "execution_count": null,
   "metadata": {},
   "outputs": [],
   "source": [
    "def myRatio(a,b):\n",
    "    pass"
   ]
  },
  {
   "cell_type": "code",
   "execution_count": null,
   "metadata": {},
   "outputs": [],
   "source": [
    "print( myRatio(3.0,2.0))"
   ]
  },
  {
   "cell_type": "markdown",
   "metadata": {
    "slideshow": {
     "slide_type": "slide"
    }
   },
   "source": [
    "# `return`\n",
    "Used inside a function to exit and return a value."
   ]
  },
  {
   "cell_type": "code",
   "execution_count": null,
   "metadata": {},
   "outputs": [],
   "source": [
    "def myRatio(a,b):\n",
    "    return a / b"
   ]
  },
  {
   "cell_type": "code",
   "execution_count": null,
   "metadata": {},
   "outputs": [],
   "source": [
    "print( myRatio(3.0,2.0))"
   ]
  },
  {
   "cell_type": "code",
   "execution_count": null,
   "metadata": {},
   "outputs": [],
   "source": [
    "print( myRatio(3.0,0.0))"
   ]
  },
  {
   "cell_type": "markdown",
   "metadata": {
    "slideshow": {
     "slide_type": "slide"
    }
   },
   "source": [
    "# `try`, `except`,  `finally`\n",
    "\n",
    "* `try`...`except`: used to catch exceptions\n",
    "    * exceptions are errors indicating that something went wrong during execution. \n",
    "\n",
    "* `finally`: executed even if there is an exception."
   ]
  },
  {
   "cell_type": "code",
   "execution_count": null,
   "metadata": {
    "slideshow": {
     "slide_type": "slide"
    }
   },
   "outputs": [],
   "source": [
    "def myRatio(a,b):\n",
    "    try:\n",
    "        c = a / b\n",
    "    except(ZeroDivisionError):\n",
    "        print('myR: b cannot be 0') \n",
    "    else:\n",
    "        return c\n",
    "    finally:\n",
    "        print(\"myR: complete\")"
   ]
  },
  {
   "cell_type": "code",
   "execution_count": null,
   "metadata": {
    "slideshow": {
     "slide_type": "-"
    }
   },
   "outputs": [],
   "source": [
    "print( myRatio(3.0,2.0))"
   ]
  },
  {
   "cell_type": "code",
   "execution_count": null,
   "metadata": {
    "slideshow": {
     "slide_type": "-"
    }
   },
   "outputs": [],
   "source": [
    "print( myRatio(3.0,0.0))"
   ]
  },
  {
   "cell_type": "markdown",
   "metadata": {
    "slideshow": {
     "slide_type": "slide"
    }
   },
   "source": [
    "# `from`, `import`, `as`\n",
    "\n",
    "`import` is used to import modules into the current namespace. \n",
    "\n",
    "`from`…`import` is used to import specific attributes or functions into the current namespace. \n",
    "\n",
    "`as` is used to create an alias while importing a module.\n",
    "\n",
    "***\n",
    "<img src=\"https://www.dropbox.com/s/u628vjn2uc5h3ua/notebook.png?raw=1\" width=\"10%\" align=\"right\">\n",
    "\n",
    "See the [modules notebook](s_PyModules.ipynb) for more info."
   ]
  },
  {
   "cell_type": "code",
   "execution_count": null,
   "metadata": {
    "scrolled": true,
    "slideshow": {
     "slide_type": "slide"
    }
   },
   "outputs": [],
   "source": [
    "import time\n",
    "print( time.ctime() )"
   ]
  },
  {
   "cell_type": "code",
   "execution_count": null,
   "metadata": {
    "scrolled": true
   },
   "outputs": [],
   "source": [
    "print( time.ctime() )\n",
    "time.sleep(2)\n",
    "print( time.ctime() )"
   ]
  },
  {
   "cell_type": "markdown",
   "metadata": {
    "slideshow": {
     "slide_type": "slide"
    }
   },
   "source": [
    "# `for`, `while`\n",
    "* `for` - executes for a fixed number of passes\n",
    "* `while` - executes until its condition is `False` \n",
    "***\n",
    "<img src=\"https://www.dropbox.com/s/u628vjn2uc5h3ua/notebook.png?raw=1\" width=\"10%\" align=\"right\">\n",
    "\n",
    "See the [loop notebook](s_PyLoops.ipynb) for more info."
   ]
  },
  {
   "cell_type": "code",
   "execution_count": null,
   "metadata": {
    "slideshow": {
     "slide_type": "slide"
    }
   },
   "outputs": [],
   "source": [
    "for i in range(5):             # loop 5 times\n",
    "    print('.',end=' ')\n",
    "    time.sleep(0.5)            # pause for 0.5s"
   ]
  },
  {
   "cell_type": "code",
   "execution_count": null,
   "metadata": {},
   "outputs": [],
   "source": [
    "import time\n",
    "\n",
    "tick = time.time()\n",
    "while time.time() < tick + 5:  # loop for 5s\n",
    "    print('.',end=' ')\n",
    "    time.sleep(0.5)            # pause for 0.5s"
   ]
  },
  {
   "cell_type": "markdown",
   "metadata": {
    "slideshow": {
     "slide_type": "slide"
    }
   },
   "source": [
    "# `break`, `continue`\n",
    "\n",
    "Use inside loops to alter their normal behavior:\n",
    "* `break` ends the loop it is in and hands control to the statement immediately following the loop.\n",
    "* `continue` ends the current iteration of the loop, and hands control to the next cycle of the loop."
   ]
  },
  {
   "cell_type": "code",
   "execution_count": null,
   "metadata": {
    "slideshow": {
     "slide_type": "slide"
    }
   },
   "outputs": [],
   "source": [
    "for i in range(8):\n",
    "    if (i == 3):\n",
    "        continue           # skip one step of the loop\n",
    "    else:\n",
    "        print(i,end=',')"
   ]
  },
  {
   "cell_type": "code",
   "execution_count": null,
   "metadata": {
    "slideshow": {
     "slide_type": "-"
    }
   },
   "outputs": [],
   "source": [
    "for i in range(8):\n",
    "    if (i == 3):\n",
    "        break              # exit the loop\n",
    "    else:\n",
    "        print(i,end=',')"
   ]
  },
  {
   "cell_type": "markdown",
   "metadata": {
    "slideshow": {
     "slide_type": "slide"
    }
   },
   "source": [
    "# `global`\n",
    "\n",
    "Indicates that a variable defined inside a function is available outside."
   ]
  },
  {
   "cell_type": "code",
   "execution_count": null,
   "metadata": {},
   "outputs": [],
   "source": [
    "def myF():\n",
    "    x = -1      # local x - is different from global x\n",
    "    \n",
    "myF()\n",
    "print(x)        # global x is unchanged"
   ]
  },
  {
   "cell_type": "code",
   "execution_count": null,
   "metadata": {},
   "outputs": [],
   "source": [
    "def myF():\n",
    "    global y    # global y defined inside a function\n",
    "    y = -1\n",
    "\n",
    "myF()\n",
    "print(y)"
   ]
  },
  {
   "cell_type": "markdown",
   "metadata": {
    "slideshow": {
     "slide_type": "slide"
    }
   },
   "source": [
    "# `nolocal`\n",
    "\n",
    "Declares that a variable in a nested function is not local."
   ]
  },
  {
   "cell_type": "code",
   "execution_count": null,
   "metadata": {},
   "outputs": [],
   "source": [
    "def myFOUT():\n",
    "    x = 1          # x local to myFOUT\n",
    "    \n",
    "    def myFIN():   # define nested function\n",
    "        x = 2      # x local to myFIN\n",
    "    \n",
    "    myFIN()\n",
    "    return x       # the myFOUT x is unchanged\n",
    "\n",
    "myFOUT()"
   ]
  },
  {
   "cell_type": "code",
   "execution_count": null,
   "metadata": {},
   "outputs": [],
   "source": [
    "def myFOUT():\n",
    "    x = 1          # x local to myFOUT\n",
    "    \n",
    "    def myFIN():   # define nested function\n",
    "        nonlocal x # specify that x is not local to myFIN\n",
    "        x = 2      # operation modifies x defined in myFOUT\n",
    "    \n",
    "    myFIN()\n",
    "    return x       # the myFOUT x is changed\n",
    "\n",
    "myFOUT()"
   ]
  },
  {
   "cell_type": "markdown",
   "metadata": {
    "slideshow": {
     "slide_type": "slide"
    }
   },
   "source": [
    "# `in`\n",
    "Used to test if a value is contained in a sequence:\n",
    "* `list`\n",
    "* `tuple`\n",
    "* `string`\n",
    "* `set`"
   ]
  },
  {
   "cell_type": "code",
   "execution_count": null,
   "metadata": {
    "slideshow": {
     "slide_type": "-"
    }
   },
   "outputs": [],
   "source": [
    "l = ['a','b','c']\n",
    "\n",
    "print('a' in l)\n",
    "\n",
    "print('d' in l)"
   ]
  },
  {
   "cell_type": "markdown",
   "metadata": {
    "slideshow": {
     "slide_type": "slide"
    }
   },
   "source": [
    "# `is`\n",
    "\n",
    "Used to test if two objects **are of the same kind**. \n",
    "\n",
    "Is different from `==` which tests if variables **are equal**."
   ]
  },
  {
   "cell_type": "code",
   "execution_count": null,
   "metadata": {
    "scrolled": true,
    "slideshow": {
     "slide_type": "-"
    }
   },
   "outputs": [],
   "source": [
    "# variables are not the same kind\n",
    "a = 2           # int\n",
    "b = 2.0         # float\n",
    "\n",
    "print(a is b)   # are not of the same kind\n",
    "print(a == b)   # have the same value"
   ]
  },
  {
   "cell_type": "markdown",
   "metadata": {
    "slideshow": {
     "slide_type": "slide"
    }
   },
   "source": [
    "# `with`, `as`\n",
    "Wrap a block with methods defined by the context manager."
   ]
  },
  {
   "cell_type": "code",
   "execution_count": null,
   "metadata": {
    "slideshow": {
     "slide_type": "-"
    }
   },
   "outputs": [],
   "source": [
    "f = open('demod.py') # open the file\n",
    "for l in f:          # loop over the file content\n",
    "    print(f.read())  # print file content\n",
    "f.close()            # close the file\n",
    "\n",
    "f.closed"
   ]
  },
  {
   "cell_type": "code",
   "execution_count": null,
   "metadata": {
    "slideshow": {
     "slide_type": "slide"
    }
   },
   "outputs": [],
   "source": [
    "# open the file and loop over its content;\n",
    "# when done, close the file\n",
    "with open('demod.py', 'r') as f:\n",
    "    print(f.read())\n",
    "    \n",
    "f.closed"
   ]
  },
  {
   "cell_type": "markdown",
   "metadata": {
    "heading_collapsed": true,
    "slideshow": {
     "slide_type": "slide"
    }
   },
   "source": [
    "# `class`\n",
    "Defines a **class**, i.e. a collection of attributes and methods that represent a specific logical entity, i.e. an **object**. \n",
    "\n",
    "Classes are central to **object-oriented programming** (OOP).\n",
    "\n",
    "***\n",
    "<img src=\"https://www.dropbox.com/s/u628vjn2uc5h3ua/notebook.png?raw=1\" width=\"10%\" align=\"right\">\n",
    "\n",
    "See the [OOP notebook](s_PyOOPBasics.ipynb) for more info."
   ]
  }
 ],
 "metadata": {
  "celltoolbar": "Slideshow",
  "kernelspec": {
   "display_name": "Python 3 (ipykernel)",
   "language": "python",
   "name": "python3"
  },
  "language_info": {
   "codemirror_mode": {
    "name": "ipython",
    "version": 3
   },
   "file_extension": ".py",
   "mimetype": "text/x-python",
   "name": "python",
   "nbconvert_exporter": "python",
   "pygments_lexer": "ipython3",
   "version": "3.9.2"
  },
  "varInspector": {
   "cols": {
    "lenName": 16,
    "lenType": 16,
    "lenVar": 40
   },
   "kernels_config": {
    "python": {
     "delete_cmd_postfix": "",
     "delete_cmd_prefix": "del ",
     "library": "var_list.py",
     "varRefreshCmd": "print(var_dic_list())"
    },
    "r": {
     "delete_cmd_postfix": ") ",
     "delete_cmd_prefix": "rm(",
     "library": "var_list.r",
     "varRefreshCmd": "cat(var_dic_list()) "
    }
   },
   "types_to_exclude": [
    "module",
    "function",
    "builtin_function_or_method",
    "instance",
    "_Feature"
   ],
   "window_display": false
  }
 },
 "nbformat": 4,
 "nbformat_minor": 2
}
