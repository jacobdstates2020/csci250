{
 "cells": [
  {
   "cell_type": "markdown",
   "metadata": {
    "slideshow": {
     "slide_type": "slide"
    }
   },
   "source": [
    "<img src=\"https://www.mines.edu/webcentral/wp-content/uploads/sites/267/2019/02/horizontallightbackground.jpg\" width=\"100%\"> \n",
    "### CSCI250 Python Computing: Building a Sensor System\n",
    "<hr style=\"height:5px\" width=\"100%\" align=\"left\">\n",
    "\n",
    "# Python conditionals"
   ]
  },
  {
   "cell_type": "markdown",
   "metadata": {
    "slideshow": {
     "slide_type": "slide"
    }
   },
   "source": [
    "# Objective\n",
    "* introduce conditional code execution"
   ]
  },
  {
   "cell_type": "markdown",
   "metadata": {
    "slideshow": {
     "slide_type": "slide"
    }
   },
   "source": [
    "# Resources\n",
    "* [Python introduction](https://docs.python.org/3/tutorial)"
   ]
  },
  {
   "cell_type": "markdown",
   "metadata": {
    "slideshow": {
     "slide_type": "slide"
    }
   },
   "source": [
    "# `if`\n",
    "\n",
    "Provides conditional execution of a body of code:\n",
    "\n",
    "`\n",
    "if <test expression>:\n",
    "    body of if\n",
    "`\n",
    "***\n",
    "   \n",
    "* The statements are executed only if the condition is `True`. \n",
    "* Non-zero values are interpreted as `True`."
   ]
  },
  {
   "cell_type": "code",
   "execution_count": null,
   "metadata": {
    "slideshow": {
     "slide_type": "slide"
    }
   },
   "outputs": [],
   "source": [
    "a = +1\n",
    "\n",
    "if a > 0:\n",
    "    print('a is positive')\n",
    "print('the if block is complete')"
   ]
  },
  {
   "cell_type": "markdown",
   "metadata": {
    "slideshow": {
     "slide_type": "slide"
    }
   },
   "source": [
    "# `if...else`\n",
    "\n",
    "Provides an alternative body of code if the test expression is `False`:\n",
    "\n",
    "`\n",
    "if <test expression>:\n",
    "    body of if\n",
    "else:\n",
    "    body of else\n",
    "`\n",
    "\n",
    "*** \n",
    "* The `if` code executes if the test is `True`.\n",
    "* Otherwise the `else` code executes."
   ]
  },
  {
   "cell_type": "code",
   "execution_count": null,
   "metadata": {
    "slideshow": {
     "slide_type": "slide"
    }
   },
   "outputs": [],
   "source": [
    "a = +1\n",
    "\n",
    "if a > 0:\n",
    "    print('a is positive')\n",
    "else:\n",
    "    print('a is negative or zero')\n",
    "print('the if/else block is complete')"
   ]
  },
  {
   "cell_type": "markdown",
   "metadata": {
    "slideshow": {
     "slide_type": "slide"
    }
   },
   "source": [
    "# `if...elif...else`\n",
    "\n",
    "Provides an alternative test expression with a body of code:\n",
    "\n",
    "`\n",
    "if <test expression>:\n",
    "    body of if\n",
    "elif <other test expression>:\n",
    "    body of elif\n",
    "else:\n",
    "    body of else\n",
    "`\n",
    "*** \n",
    "* The `if` code executes if the test is `True`.\n",
    "* Otherwise the `elif` code executes if its test is `True`.\n",
    "* Otherwise the `else` code executes.\n",
    "\n",
    "Can have an arbitrary number of `elif`'s."
   ]
  },
  {
   "cell_type": "code",
   "execution_count": null,
   "metadata": {
    "scrolled": true,
    "slideshow": {
     "slide_type": "slide"
    }
   },
   "outputs": [],
   "source": [
    "a = -1\n",
    "\n",
    "if a > 0:\n",
    "    print('a is positive')\n",
    "elif a < 0:\n",
    "    print('a is negative')\n",
    "else:\n",
    "    print('a is zero')\n",
    "print('the if/elif/else block is complete')"
   ]
  },
  {
   "cell_type": "markdown",
   "metadata": {
    "slideshow": {
     "slide_type": "slide"
    }
   },
   "source": [
    "### Nested conditionals\n",
    "\n",
    "Multiple `if...elif...else` statements can be nested.\n",
    "\n",
    "Indentation indicates what statement belongs to what conditional."
   ]
  },
  {
   "cell_type": "markdown",
   "metadata": {
    "slideshow": {
     "slide_type": "slide"
    }
   },
   "source": [
    "# `pass`\n",
    "The null statement - is not executed and serves as a placeholder."
   ]
  },
  {
   "cell_type": "code",
   "execution_count": null,
   "metadata": {},
   "outputs": [],
   "source": [
    "a = 0\n",
    "\n",
    "if a > 0:\n",
    "    print('a is positive')\n",
    "elif a < 0:\n",
    "    print('a is negative')\n",
    "else:\n",
    "    pass # don't know yet what to do in this case\n",
    "print('the if/elif/else block is complete')"
   ]
  },
  {
   "cell_type": "markdown",
   "metadata": {
    "slideshow": {
     "slide_type": "slide"
    }
   },
   "source": [
    "# `assert`\n",
    "\n",
    "Are boolean expressions that are supposed to be always `True`. \n",
    "\n",
    "`assert <test condition>`\n",
    "\n",
    "or with an optional error message:\n",
    "\n",
    "`assert <test condition>,<error message>`\n",
    "*** \n",
    "\n",
    "* If the test is `True`, the program moves to the next line of code. \n",
    "* If the test is `False`, the program returns `AssertionError`. "
   ]
  },
  {
   "cell_type": "markdown",
   "metadata": {
    "slideshow": {
     "slide_type": "slide"
    }
   },
   "source": [
    "The `assert` statements are good debugging mechanisms as they cause the program to halt when necessary conditions are not satisfied\n",
    "\n",
    "User-defined error messages indicate what condition was violated and at what position inside the code."
   ]
  },
  {
   "cell_type": "code",
   "execution_count": null,
   "metadata": {},
   "outputs": [],
   "source": [
    "name = 'Bart Simpson'\n",
    "assert len(name)!=0 ,'cannot say Hello to empty string|'\n",
    "print('Hello,',name,'!')"
   ]
  },
  {
   "cell_type": "code",
   "execution_count": null,
   "metadata": {},
   "outputs": [],
   "source": [
    "name = ''\n",
    "assert len(name)!=0 ,'cannot say Hello to empty string'\n",
    "print('Hello,',name,'!')"
   ]
  },
  {
   "cell_type": "markdown",
   "metadata": {
    "slideshow": {
     "slide_type": "slide"
    }
   },
   "source": [
    "# `try...except...finally`\n",
    "A convenient mechanism for exception handling. \n",
    "\n",
    "`\n",
    "try:\n",
    "    body of try\n",
    "except <Error>:\n",
    "    body of except\n",
    "finally:   \n",
    "    body of finally\n",
    "`\n",
    "\n",
    "*** \n",
    "\n",
    "* If no exception occurs in `try`, its block executes. \n",
    "* If an exception occurs, then the body of `except` executes. \n",
    "\n",
    "The `finally` block executes after either the `try` or `except` blocks.\n",
    "\n"
   ]
  },
  {
   "cell_type": "code",
   "execution_count": null,
   "metadata": {
    "slideshow": {
     "slide_type": "slide"
    }
   },
   "outputs": [],
   "source": [
    "name = ''\n",
    "\n",
    "try:\n",
    "    assert len(name) != 0\n",
    "    print('Hello,',name,'!')\n",
    "except AssertionError:\n",
    "    print('Hello world!')\n",
    "finally:\n",
    "    print('clean-up time')"
   ]
  },
  {
   "cell_type": "markdown",
   "metadata": {
    "slideshow": {
     "slide_type": "slide"
    }
   },
   "source": [
    "`try` can have multiple `except` clauses. \n",
    "\n",
    "The `except` blocks \n",
    "* follow specific exception names\n",
    "* execute specific code adequate for the exception"
   ]
  },
  {
   "cell_type": "markdown",
   "metadata": {
    "slideshow": {
     "slide_type": "slide"
    }
   },
   "source": [
    "# Infinite loop example\n",
    "\n",
    "We will often make use of endless loops, e.g. to collect data.\n",
    "\n",
    "* The Jupyter stop button creates an exception\n",
    "    * `KeyboardInterrupt` \n",
    "\n",
    "* The infinite loop catches the exception and runs cleanup code."
   ]
  },
  {
   "cell_type": "code",
   "execution_count": null,
   "metadata": {
    "slideshow": {
     "slide_type": "slide"
    }
   },
   "outputs": [],
   "source": [
    "try:\n",
    "    print(\"Running an infinite loop! Press the stop button to exit.\")\n",
    "    while True:\n",
    "        pass\n",
    "\n",
    "except KeyboardInterrupt:\n",
    "    print(\"Exception has occured!\")\n",
    "    \n",
    "finally: \n",
    "    print(\"clean-up time\")"
   ]
  },
  {
   "cell_type": "markdown",
   "metadata": {
    "slideshow": {
     "slide_type": "slide"
    }
   },
   "source": [
    "<img src=\"https://www.dropbox.com/s/wj23ce93pa9j8pe/demo.png?raw=1\" width=\"10%\" align=\"left\">\n",
    "\n",
    "# Exercise\n",
    "Change the input variable to make the statement print `TRUE`."
   ]
  },
  {
   "cell_type": "code",
   "execution_count": null,
   "metadata": {},
   "outputs": [],
   "source": [
    "# Edit the input values\n",
    "input1 = +1\n",
    "input2 = -1\n",
    "input3 = False\n",
    "input4 = True\n",
    "input5 = False\n",
    "\n",
    "if input2 > input1 and (input3 or input5) and not input4:\n",
    "    print(\"TRUE\")\n",
    "else:\n",
    "    print(\"FALSE\")"
   ]
  },
  {
   "cell_type": "markdown",
   "metadata": {
    "slideshow": {
     "slide_type": "slide"
    }
   },
   "source": [
    "<img src=\"https://www.dropbox.com/s/wj23ce93pa9j8pe/demo.png?raw=1\" width=\"10%\" align=\"left\">\n",
    "\n",
    "# Exercise\n",
    "\n",
    "Write code that runs for a set time, e.g. 10s (use the `time` module). You decide what the loop does. \n",
    "\n",
    "Create an infinite loop with the same content. Use exceptions to stop the infinite execution gracefully."
   ]
  }
 ],
 "metadata": {
  "celltoolbar": "Slideshow",
  "kernelspec": {
   "display_name": "Python 3 (ipykernel)",
   "language": "python",
   "name": "python3"
  },
  "language_info": {
   "codemirror_mode": {
    "name": "ipython",
    "version": 3
   },
   "file_extension": ".py",
   "mimetype": "text/x-python",
   "name": "python",
   "nbconvert_exporter": "python",
   "pygments_lexer": "ipython3",
   "version": "3.9.2"
  },
  "varInspector": {
   "cols": {
    "lenName": 16,
    "lenType": 16,
    "lenVar": 40
   },
   "kernels_config": {
    "python": {
     "delete_cmd_postfix": "",
     "delete_cmd_prefix": "del ",
     "library": "var_list.py",
     "varRefreshCmd": "print(var_dic_list())"
    },
    "r": {
     "delete_cmd_postfix": ") ",
     "delete_cmd_prefix": "rm(",
     "library": "var_list.r",
     "varRefreshCmd": "cat(var_dic_list()) "
    }
   },
   "types_to_exclude": [
    "module",
    "function",
    "builtin_function_or_method",
    "instance",
    "_Feature"
   ],
   "window_display": false
  }
 },
 "nbformat": 4,
 "nbformat_minor": 2
}
