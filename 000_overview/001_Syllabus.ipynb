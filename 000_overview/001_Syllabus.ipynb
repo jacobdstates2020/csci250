{
 "cells": [
  {
   "cell_type": "markdown",
   "metadata": {
    "solution": "hidden",
    "solution_first": true
   },
   "source": [
    "# <img src=\"https://www.mines.edu/webcentral/wp-content/uploads/sites/267/2019/02/horizontallightbackground.jpg\" width=\"100%\"> \n",
    "\n",
    "### CSCI250 Python Computing: Building a Sensor System\n",
    "<hr style=\"height:5px\" width=\"100%\" align=\"left\">\n",
    "\n",
    "# Syllabus"
   ]
  },
  {
   "cell_type": "markdown",
   "metadata": {},
   "source": [
    "# Instructors"
   ]
  },
  {
   "cell_type": "markdown",
   "metadata": {},
   "source": [
    "### Paul Sava psava@mines.edu\n",
    "Department of Geophysics <br>\n",
    "www.mines.edu/~psava <br>\n",
    "**Phone**: 303-384-2362 <br>\n",
    "**Office**: Green Center 287\n",
    "\n",
    "**Office hours**: TBA"
   ]
  },
  {
   "cell_type": "markdown",
   "metadata": {},
   "source": [
    "### Cole Callihan cacallihan@mines.edu\n",
    "Department of Computer Science <br>\n",
    "https://www.linkedin.com/in/colecallihan <br>\n",
    "**Phone**: 719-377-7482 <br>\n",
    "**Office**: TBA\n",
    "\n",
    "**Office hours**: TBA"
   ]
  },
  {
   "cell_type": "markdown",
   "metadata": {},
   "source": [
    "# Teaching Assistants"
   ]
  },
  {
   "cell_type": "markdown",
   "metadata": {},
   "source": [
    "### Emma St. Laurent <stlaurent@mines.edu>\n",
    "**Office hours**: TBA\n",
    "\n",
    "### Seunghoo Kim <seunghookim@mines.edu>\n",
    "**Office hours**: TBA\n",
    "\n",
    "### Eric McKevitt <emckevitt@mines.edu>\n",
    "**Office hours**: TBA"
   ]
  },
  {
   "cell_type": "markdown",
   "metadata": {
    "hide_input": false
   },
   "source": [
    "# Meetings"
   ]
  },
  {
   "cell_type": "markdown",
   "metadata": {
    "hide_input": false
   },
   "source": [
    "### Sections A,C: \n",
    "* **Time**: MWF, 4-4:50am\n",
    "* **Room**: Marquez Hall, room 22\n",
    "* **instructor** Cole\n",
    "* **TA**: Seunghoo\n",
    "\n",
    "### Sections B,D: \n",
    "* **Time**: MWF, 3-3:50am\n",
    "* **Room**: Marquez Hall, room 22\n",
    "* **instructor**: Paul\n",
    "* **TAs**: Emma, Eric "
   ]
  },
  {
   "cell_type": "markdown",
   "metadata": {},
   "source": [
    "# Instructional activity"
   ]
  },
  {
   "cell_type": "markdown",
   "metadata": {},
   "source": [
    "* 3 lecture hours/labs\n",
    "* 3 semester hours"
   ]
  },
  {
   "cell_type": "markdown",
   "metadata": {},
   "source": [
    "# Course designation"
   ]
  },
  {
   "cell_type": "markdown",
   "metadata": {},
   "source": [
    "* Major requirement"
   ]
  },
  {
   "cell_type": "markdown",
   "metadata": {},
   "source": [
    "# Course description"
   ]
  },
  {
   "cell_type": "markdown",
   "metadata": {},
   "source": [
    "This course will teach students the skills needed for data collection, analysis, and visualization on a small embedded device (e.g., Raspberry Pi). Students will learn basic Linux, Python, and the programming skills needed to control the hardware and associated sensors. This hands-on course includes a baseline project, four introductory projects (e.g., acoustic, acceleration, magnetic field, optical), and a final Capstone project. The Capstone project will have students create their own application using the techniques learned during the first half of the semester; students will then present their Capstone project through a formal presentation, write-up, and demonstration. "
   ]
  },
  {
   "cell_type": "markdown",
   "metadata": {},
   "source": [
    "# Equipment"
   ]
  },
  {
   "cell_type": "markdown",
   "metadata": {},
   "source": [
    "Students are required to acquire the **CSM Computer Science Kit**:\n",
    "* includes the [**Raspberry Pi 4 starter kit**](https://www.sparkfun.com/products/16388)\n",
    "* includes the [**Sparkfun Essential Sensor kit**](https://www.sparkfun.com/products/12862)\n",
    "* a few additional sensors\n",
    "\n",
    "Students can use their own **Keyboard/Mouse** or use **headless** setup for remote connection."
   ]
  },
  {
   "cell_type": "markdown",
   "metadata": {},
   "source": [
    "# Student learning outcomes"
   ]
  },
  {
   "cell_type": "markdown",
   "metadata": {},
   "source": [
    "At the completion of the course, students will be able to: \n",
    "* Develop operational programing capabilities using the Python programing language in a Linux environment.\t\t\t\n",
    "* Build and control electronic circuits using a variety of sensors to sense physical phenomena.\t\t\t\n",
    "* Collect data corresponding to sensed physical phenomena in digital form and store them for further processing.\t\t\t\n",
    "* Process data collected in digital format using efficient (vectorized) numerical techniques.\t\t\t\n",
    "* Analyze and plot multidimensional data using standard Python plotting libraries.\n",
    "* Summarize physical/numerical experiments in fully reproducible electronic documents.\n",
    "* Design novel standalone tools and/or experiments using electronic circuits controlled by Python code.\t"
   ]
  },
  {
   "cell_type": "markdown",
   "metadata": {},
   "source": [
    "# Policy on academic integrity/misconduct"
   ]
  },
  {
   "cell_type": "markdown",
   "metadata": {},
   "source": [
    "The Colorado School of Mines affirms the principle that all individuals associated with the Mines academic community have a responsibility for establishing, maintaining an fostering an understanding and appreciation for academic integrity. In broad terms, this implies protecting the environment of mutual trust within which scholarly exchange occurs, supporting the ability of the faculty to fairly and effectively evaluate every students' academic achievements, and giving credence to the university’s educational mission, its scholarly objectives and the substance of the degrees it awards. The protection of academic integrity requires there to be clear and consistent standards, as well as confrontation and sanctions when individuals violate those standards. The Colorado School of Mines desires an environment free of any and all forms of academic misconduct and expects students to act with integrity at all times.\n",
    "\n",
    "Academic misconduct is the intentional act of fraud, in which an individual seeks to claim credit for the work and efforts of another without authorization, or uses unauthorized materials or fabricated information in any academic exercise. Student Academic Misconduct arises when a student violates the principle of academic integrity. Such behavior erodes mutual trust, distorts the fair evaluation of academic achievements, violates the ethical code of behavior upon which education and scholarship rest, and undermines the credibility of the university. Because of the serious institutional and individual ramifications, student misconduct arising from violations of academic integrity is not tolerated at Mines. If a student is found to have engaged in such misconduct sanctions such as change of a grade, loss of institutional privileges, or academic suspension or dismissal may be imposed.\n",
    "\n",
    "[The complete policy](http://3a2vzv37nkuw3esf6a3u2t7s-wpengine.netdna-ssl.com/policy-library/wp-content/uploads/sites/87/2018/04/STU_Academic_Integrity_final-2018.pdf) is available online."
   ]
  },
  {
   "cell_type": "markdown",
   "metadata": {},
   "source": [
    "# Grading procedures"
   ]
  },
  {
   "cell_type": "markdown",
   "metadata": {},
   "source": [
    "The grade will consists of \n",
    "* **Labs: 70%** <br>\n",
    "The labs have both HW and SW components, and have opportunities for extra credit. \n",
    "All labs are scored on a scale of 100 points and have different weights commensurate with their difficulty.\n",
    "\n",
    "* **Quizzes: 10%** <br>\n",
    "Points are earned through completion of online quizzes covering SW elements.\n",
    "\n",
    "* **Capstone: 20%** <br>\n",
    "The capstone project will feature both HW and SW components and may include components that are not included in the CSM Computer Science Kit.\n",
    "\n",
    "*Final grades* will be determined using the following scale:\n",
    "* A 90-100\n",
    "* B 80-89\n",
    "* C 70-79\n",
    "* D 60-69\n",
    "* F   <60 \n",
    "<br>\n",
    "Scores can be challenged within a week of the assignment due date."
   ]
  },
  {
   "cell_type": "markdown",
   "metadata": {},
   "source": [
    "# Class policies"
   ]
  },
  {
   "cell_type": "markdown",
   "metadata": {
    "heading_collapsed": true
   },
   "source": [
    "### Late policy\n",
    "\n",
    "Since the labs are assigned in close succession, it is important that the reports are returned promptly by the due date. No lab write-ups will be accepted past due date, unless arrangements have been made with the Instructor or the TA ahead of time. Students who seek partial credit should submit incomplete labs by the due date.\n",
    "\n",
    "### Absence policy\n",
    "Students who participate in school-sanctioned activities must announce their absences to the instructor in advance.\n",
    "\n",
    "### Coursework return policy\n",
    "Homeworks and exams will be graded and returned as quickly as possible, generally within a week."
   ]
  },
  {
   "cell_type": "markdown",
   "metadata": {},
   "source": [
    "# Disability support services"
   ]
  },
  {
   "cell_type": "markdown",
   "metadata": {},
   "source": [
    "The Colorado School of Mines is committed to ensuring the full participation of all students in its programs, including students with disabilities. If you are registered with Disability Support Services (DSS) please confirm I received your accommodation letter and meet with me at your earliest convenience so we can discuss your needs in this course and make alternative testing arrangements, if applicable. For questions or other inquiries regarding disabilities or academic accommodations, I encourage you to visit [Disability Support Services](www.mines.edu/disability-support-services) for more information. "
   ]
  },
  {
   "cell_type": "markdown",
   "metadata": {},
   "source": [
    "# Discrimination, harassment and title IX"
   ]
  },
  {
   "cell_type": "markdown",
   "metadata": {},
   "source": [
    "All learning opportunities at Mines, including this course, require a safe environment for everyone to be productive and able to share and learn without fear of discrimination or harassment. Mines’ core values of respect, diversity, compassion, and collaboration will be honored in this course (More information can be [found here](http://inside.mines.edu/UserFiles/File/FacultySenate/Documents/ValuesAndAspirationsStatement2-14-17.pdf) and the standards in this class are the same as those expected in any professional work environment. Discrimination or harassment of any type will not be tolerated. As a participant in this course, we expect you to respect your instructor and your classmates. As your instructor, it is my responsibility to foster a learning environment that supports diversity of thoughts, perspectives and experiences, and honors your identities. \n",
    "\n",
    "To help accomplish this:\n",
    "* Course rosters are provided to the instructor with the students’ legal name. I will honor your request to address you by an alternate name or gender pronoun. Please advise me of this preference early in the semester so that I may make appropriate changes to my records. \n",
    "* If something is said or done in this course (by anyone, including myself) that made you or others feel uncomfortable, or if your performance in the course is being impacted by your experiences outside of the course, please report it to: \n",
    "\n",
    "    * **me** (if you are comfortable doing so): psava@mines.edu, or using\n",
    "    * [transparent report](https://www.mines.edu/institutional-equity-title-ix/reporting)\n",
    "    * [anonymous report](https://www.mines.edu/institutional-equity-title-ix/submit-report). \n",
    "\n",
    "In this course, we will cultivate a community that supports survivors, prevents interpersonal violence, and promotes a harassment free environment. Title IX and Colorado State law protects individuals from discrimination based on sex and gender in educational programs and activities. Mines takes this obligation seriously and is committed to providing a campus community free from gender and sex-based discrimination. Discrimination, including sexual harassment, sexual violence, dating violence, domestic violence, and stalking, is prohibited and will not be tolerated within the Mines campus community. If these issues have affected you or someone you know, you can access the appropriate resources here: (http://www.mines.edu/title-ix). You can also contact the Mines Title IX Coordinator, Carole Goddard, at 303.273.3260 or titleix@mines.edu for more information. It's on us, all of the Mines community, to engineer a culture of respect.\n",
    "\n",
    "[It's on us](https://www.itsonus.org/our-story/), all of the Mines community, to engineer a culture of respect."
   ]
  },
  {
   "cell_type": "markdown",
   "metadata": {},
   "source": [
    "# CARE @ Mines"
   ]
  },
  {
   "cell_type": "markdown",
   "metadata": {},
   "source": [
    "If you feel overwhelmed, anxious, depressed, distressed, mentally or physically unhealthy, or concerned about your wellbeing overall, there are resources both on- and off-campus available to you. If you need assistance, please ask for help from a trusted faculty or staff member, fellow student, or any of the resources below. As a community of care, we can help one another get through difficult times. If you need help, reach out. If you are concerned for another student, offer assistance and/or ask for help on their behalf. Students seeking resources for themselves or others should visit http://care.mines.edu. \n",
    "\n",
    "Additional suggestions for referrals for support, depending on comfort level and needs include:\n",
    "•\t[Student Outreach & Support (SOS)](https://mines.edu/sos) for various resources and options, or to submit an online “SOS Referral ” about someone you’re concerned about, or email sos@mines.edu \n",
    "•\t[CASA](https://www.mines.edu/casa) for academic advising, tutoring, academic support, and academic workshops\n",
    "•\t[Counseling Center](https://www.mines.edu/counseling-center) or students may call 303-273-3377 to make an appointment. There are also online resources for students on the website. Located in the Wellness Center 2nd floor. Located at 1770 Elm St. \n",
    "•\t[Health Center](https://www.mines.edu/student-health) or students may call 303-273-3381 for appointment. Located in Wellness Center 1st floor.\n",
    "•\t[Colorado Crisis Services](http://coloradocrisisservices.org) For crisis support 24 hrs/7 days, either by phone, text, or in person, Colorado Crisis Services is a great confidential resource, available to anyone. http://coloradocrisisservices.org, 1-844-493-8255, or text “TALK” to 38255. Walk-in location addresses are posted on the website.\n",
    "•\tFood and/or Housing: Any student who faces challenges securing their food or housing and believes this may affect their performance in the course is urged to contact Student Outreach and Support (mines.edu/sos). Furthermore, please notify your professor if you are comfortable in doing so. This will enable your professor to provide resources that may be available.\n",
    "\n",
    "All of these options are available for free for students. The Counseling Center, Health Center, and Colorado Crisis Services are confidential resources. The Counseling Center will also make referrals to off-campus counselors, if preferred.\n",
    "\n",
    "In an emergency, you should call 911, and they will dispatch a Mines or Golden PD officer to assist.\n"
   ]
  }
 ],
 "metadata": {
  "hide_input": false,
  "kernelspec": {
   "display_name": "Python 3 (ipykernel)",
   "language": "python",
   "name": "python3"
  },
  "language_info": {
   "codemirror_mode": {
    "name": "ipython",
    "version": 3
   },
   "file_extension": ".py",
   "mimetype": "text/x-python",
   "name": "python",
   "nbconvert_exporter": "python",
   "pygments_lexer": "ipython3",
   "version": "3.9.7"
  },
  "varInspector": {
   "cols": {
    "lenName": 16,
    "lenType": 16,
    "lenVar": 40
   },
   "kernels_config": {
    "python": {
     "delete_cmd_postfix": "",
     "delete_cmd_prefix": "del ",
     "library": "var_list.py",
     "varRefreshCmd": "print(var_dic_list())"
    },
    "r": {
     "delete_cmd_postfix": ") ",
     "delete_cmd_prefix": "rm(",
     "library": "var_list.r",
     "varRefreshCmd": "cat(var_dic_list()) "
    }
   },
   "types_to_exclude": [
    "module",
    "function",
    "builtin_function_or_method",
    "instance",
    "_Feature"
   ],
   "window_display": false
  }
 },
 "nbformat": 4,
 "nbformat_minor": 2
}
