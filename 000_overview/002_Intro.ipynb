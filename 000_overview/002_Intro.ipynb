{
 "cells": [
  {
   "cell_type": "markdown",
   "metadata": {
    "slideshow": {
     "slide_type": "slide"
    }
   },
   "source": [
    "<img src=\"https://www.mines.edu/webcentral/wp-content/uploads/sites/267/2019/02/horizontallightbackground.jpg\" width=\"100%\"> \n",
    "\n",
    "### CSCI250 Python Computing: Building a Sensor System\n",
    "<hr style=\"height:5px\" width=\"100%\" align=\"left\">\n",
    "\n",
    "#  Class introduction"
   ]
  },
  {
   "cell_type": "markdown",
   "metadata": {
    "slideshow": {
     "slide_type": "slide"
    }
   },
   "source": [
    "# Instructor: Paul Sava\n",
    "Professor - Geophysics\n",
    "\n",
    "<psava@mines.edu>"
   ]
  },
  {
   "cell_type": "markdown",
   "metadata": {
    "slideshow": {
     "slide_type": "slide"
    }
   },
   "source": [
    "I am a geophysicist specializing in **imaging**, i.e. *the process by which we see inside objects* of various kinds, origins, sizes, etc. \n",
    "\n",
    "I work on imaging in the **interior** of the Earth and other planetary objects (other planets, comets, asteroids, etc). \n",
    "\n",
    "Imaging uses measurements of physical **fields** (e.g. elastic, electromagnetic) by sensors deployed in the vicinity of the target.\n",
    "\n",
    "These data undergo heavy **processing**, similar to  medical imaging, revealing the interior of the target  by its physical characteristics. "
   ]
  },
  {
   "cell_type": "markdown",
   "metadata": {
    "slideshow": {
     "slide_type": "slide"
    }
   },
   "source": [
    "# Instructor: Cole Callihan\n",
    "Masters Student - Computer Science\n",
    "\n",
    "<cacallihan@mines.edu>\n"
   ]
  },
  {
   "cell_type": "markdown",
   "metadata": {
    "slideshow": {
     "slide_type": "slide"
    }
   },
   "source": [
    "I am a CS student at Mines, and I enjoy teaching and game development! I also did the business minor track for my undergrad and would love to continue pursuing either startups or business development, specifically in computer science. My plan for my MSc degree is to add more classes in the CS Department to give students a broader opportunity to do what they want, specifically in design and web development.\n",
    "\n",
    "In my free time, I enjoy working out and playing video games, as well as gymnastics. I took a creative writing class at Mines and had a lot of fun with it. I also have found a small passion for teaching and enjoy helping students understand the material, so if you have any questions or need any help with the course material, feel free to come to my office during hours or reach out via email!"
   ]
  },
  {
   "cell_type": "markdown",
   "metadata": {
    "slideshow": {
     "slide_type": "slide"
    }
   },
   "source": [
    "# TAs\n",
    "\n",
    "\n",
    "### Emma St. Laurent \n",
    "<stlaurent@mines.edu>\n",
    "\n",
    "### Seunghoo Kim \n",
    "<seunghookim@mines.edu>\n",
    "\n",
    "### Eric McKevitt \n",
    "<emckevitt@mines.edu>"
   ]
  },
  {
   "cell_type": "markdown",
   "metadata": {
    "slideshow": {
     "slide_type": "slide"
    }
   },
   "source": [
    "# Logistics\n",
    "\n",
    "* Classroom instruction:\n",
    "    * **3pm session**: Paul & Emma & Eric\n",
    "    * **4pm session**: Cole & Seunghoo\n",
    "***\n",
    "* Common office hours - all instructors/TAs for all students\n",
    "* Common Canvas - same assignments for all students\n"
   ]
  },
  {
   "cell_type": "markdown",
   "metadata": {
    "slideshow": {
     "slide_type": "slide"
    }
   },
   "source": [
    "# Office hours\n",
    "\n",
    "* times are to be announced\n",
    "* meetings in-person\n",
    "* [zoom](https://zoom.us) by prior arrangement\n",
    "* several sessions per week"
   ]
  },
  {
   "cell_type": "markdown",
   "metadata": {
    "slideshow": {
     "slide_type": "slide"
    }
   },
   "source": [
    "\n",
    "# Objective\n",
    "**This class aims to develop skills & tools enabling scientists and engineers to understand and interact with the physical world.**\n",
    "\n",
    "*** \n",
    "The necessary toolkit includes the ability to: \n",
    "* **sense** phenomena from the physical environment\n",
    "* **capture** relevant information in digital form\n",
    "* **process** data efficiently to extract insight\n",
    "* **display** results to summarize information\n",
    "* **communicate** results for transparent peer review"
   ]
  },
  {
   "cell_type": "markdown",
   "metadata": {
    "slideshow": {
     "slide_type": "slide"
    }
   },
   "source": [
    "# Description\n",
    "This is\n",
    "* **not** a programming class, \n",
    "* **not** an electronics class, \n",
    "* **not** a (geo)physics class, \n",
    "* **not** an engineering class. \n",
    "\n",
    "The is a multidisciplinary class for **all scientists & engineers**.\n",
    "\n",
    "The skills/techniques learned are **relevant for many majors**. "
   ]
  },
  {
   "cell_type": "markdown",
   "metadata": {
    "slideshow": {
     "slide_type": "slide"
    }
   },
   "source": [
    "# Legacy\n",
    "\n",
    "The class builds on past editions, with a few tweaks:\n",
    "\n",
    "**format**: we continue a hybrid course (classroom/online)\n",
    "\n",
    "**content**: we have rebalanced hardware and software topics\n",
    "\n",
    "**logistics**: we will maintain some COVID-19 procedures\n",
    "\n",
    "*** \n",
    "\n",
    "We will continue to use an **open platform** and **open software**."
   ]
  },
  {
   "cell_type": "markdown",
   "metadata": {
    "slideshow": {
     "slide_type": "slide"
    }
   },
   "source": [
    "# Outcomes\n",
    "\n",
    "* Develop operational programing capabilities using the Python programing language in a Linux environment.\t\t\t\n",
    "* Build and control electronic circuits using a variety of sensors in order to sense multiple phenomena from the physical environment.\t\t\t\n",
    "* Collect data corresponding to sensed physical phenomena in digital form and store them for further processing.\t\t\t\n",
    "* Process data collected in digital format using efficient (vectorized) numerical techniques.\t\t\t\n",
    "* Analyze and plot multidimensional data using standard Python plotting libraries.\n",
    "* Summarize physical/numerical experiments in fully reproducible electronic documents.\n",
    "* Design novel standalone tools and/or experiments using electronic circuits controlled by Python code.\t\t\t"
   ]
  },
  {
   "cell_type": "markdown",
   "metadata": {
    "slideshow": {
     "slide_type": "slide"
    }
   },
   "source": [
    "# Resources: Linux\n",
    "\n",
    "[**Linux**](https://www.linux.org) is a powerful and popular operating system. \n",
    "\n",
    "Use it to control the RPi and the associated electronic circuits.\n",
    "\n",
    "The best way to master Linux is by practice:\n",
    "* [Linux Pocket Guide](https://doc.lagout.org/operating%20system%20/linux/Linux%20Pocket%20Guide.pdf)\n",
    "* [Linux in a Nutshell](https://doc.lagout.org/operating%20system%20/linux/Linux%20in%20a%20Nutshell%2C%206th%20Ed.pdf)"
   ]
  },
  {
   "cell_type": "markdown",
   "metadata": {
    "slideshow": {
     "slide_type": "slide"
    }
   },
   "source": [
    "# Resources: Python\n",
    "\n",
    "[**Python**](https://www.python.org) is a versatile and popular programming language. \n",
    "\n",
    "Many diverse and powerful libraries are available freely. \n",
    "\n",
    "Rapidly evolving due to an active developer community.\n",
    "\n",
    "* [Beginner's guide](https://wiki.python.org/moin/BeginnersGuide)\n",
    "* [Developer's guide](https://devguide.python.org)"
   ]
  },
  {
   "cell_type": "markdown",
   "metadata": {
    "slideshow": {
     "slide_type": "slide"
    }
   },
   "source": [
    "# Resources: Jupyter\n",
    "\n",
    "[**Jupyter**](https://jupyter.org) notebooks allow to create and share documents.\n",
    "\n",
    "Allows development of interconnected text, images and code.\n",
    "\n",
    "Growing community of users, on and off campus.\n",
    "\n",
    "* [Jupyter documentation](https://jupyter.org/documentation)\n",
    "* [Jupyter basics](https://jupyter-notebook.readthedocs.io/en/stable/examples/Notebook/Notebook%20Basics.html)\n"
   ]
  },
  {
   "cell_type": "markdown",
   "metadata": {
    "slideshow": {
     "slide_type": "slide"
    }
   },
   "source": [
    "# Reproducible research\n",
    "\n",
    "Essential to validate and communicate S&E results.\n",
    "* natural sciences - **field/laboratory reproducibility**\n",
    "* numerical analysis  - **computational reproducibility**\n",
    "\n",
    "*** \n",
    "Read\n",
    "\n",
    "[An invitation to reproducible computational research](https://academic.oup.com/biostatistics/article/11/3/385/257703)\n",
    "\n",
    "by [David Donoho](https://statistics.stanford.edu/people/david-donoho) (Stanford University)"
   ]
  },
  {
   "cell_type": "markdown",
   "metadata": {
    "slideshow": {
     "slide_type": "slide"
    }
   },
   "source": [
    "# Equipment: RPi\n",
    "the [**Raspberry Pi 4 starter kit**](https://www.sparkfun.com/products/16388)\n",
    "\n",
    "<img src=\"https://cdn.sparkfun.com//assets/parts/1/5/1/0/5/16388-Raspberry_Pi_4_Hardware_Starter_Kit_-_4GB-01.jpg\" width=75%>"
   ]
  },
  {
   "cell_type": "markdown",
   "metadata": {
    "slideshow": {
     "slide_type": "notes"
    }
   },
   "source": [
    "* Raspberry Pi 4 Model B (4GB)\n",
    "* USB C Wall Adapter - 5.1V, 3A (Black)\n",
    "* USB Type C to Type C Cable - 1 Meter, 100W, USB 2.0\n",
    "* Aluminum Heatsink Case for Raspberry Pi 4 - Obsidian Black\n",
    "* SparkFun Qwiic SHIM for Raspberry Pi\n",
    "* Micro HDMI Cable - 3ft\n",
    "* Kingston Canvas Go! Plus 64GB MicroSD Card with Adapter\n",
    "* 2 X 20 Pin Extended GPIO Header - 16mm/7.30mm\n",
    "* Jumper Wires Premium 6\" M/F --- 10 Pack\n",
    "* Jumper Wires Standard 7\" M/M --- 30 Pack\n",
    "* SparkFun USB Mini-B Cable --- 6 Foot\n",
    "* Raspberry Pi GPIO Ribbon Cable --- 40-pin, 6\"\n",
    "* Resistor 330 Ohm 1/6 Watt PTH --- 20 pack\n",
    "* Assorted LED (20 pack)\n",
    "* Multicolor Buttons (4 pack)\n",
    "* Breadboard --- Full-Size (Bare)\n",
    "* SparkFun FTDI Basic Breakout --- 3.3V\n",
    "* SparkFun Pi Wedge"
   ]
  },
  {
   "cell_type": "markdown",
   "metadata": {
    "slideshow": {
     "slide_type": "slide"
    }
   },
   "source": [
    "# Equipment: sensors\n",
    "the [**Sparkfun Essential Sensor kit**](https://www.sparkfun.com/products/12862)\n",
    "\n",
    "<img src=\"https://cdn.sparkfun.com//assets/parts/9/7/3/1/12862-01.jpg\" width=75%>"
   ]
  },
  {
   "cell_type": "markdown",
   "metadata": {
    "slideshow": {
     "slide_type": "notes"
    }
   },
   "source": [
    "* Triple Axis Accelerometer Breakout - MMA8452Q - Senses acceleration along all three axes, with a range of up to ±3g. Fully analog interface.\n",
    "* Hall Effect Sensor - Holding a magnet near this sensor will cause the output pin to toggle. This makes for a robust presence sensor.\n",
    "* Tilt Sensor - A simple AT407 basic tilt switch that can easily be used to detect orientation on your project.\n",
    "* Piezo Element - These two Piezo elements come in handy when you need to detect vibration or a knock. You can use these for tap or knock sensors pretty easily by reading the voltage on the output.\n",
    "* Insulated Reed Switch - Senses magnetic fields, makes for a great non-contact switch.\n",
    "* IR Receiver Diode - The TSOP382 is a miniaturized receiver for infrared remote control systems.\n",
    "* Infrared LED - This is a very simple, clear infrared LED. These devices operate between 940-950nm and work well for generic IR systems.\n",
    "* TMP36 - Temperature Sensor - The TMP36 is a low voltage, precision centigrade temperature sensor. It provides a voltage output that is linearly proportional to the Celsius temperature.\n",
    "* Trimpot 10K with Knob - This 10K trimmable potentiometer has a small knob built right in and it's breadboard friendly to boot!\n",
    "* 0.25\" Magnet Square - Plays nicely with the reed switch. Embed the magnet into stuffed animals or inside a box to create a hidden actuator to the reed switch.\n",
    "* 0.5\" Force Sensitive Resistor - A force sensing resistor with a 0.5\" diameter sensing area. Great for sensing pressure (i.e. if it's being squeezed).\n",
    "* Mini Photocell - The photocell will vary its resistance based on how much light it's exposed to. Will vary from 1kΩ in the light to 10kΩ in the dark.\n",
    "* Flex Sensor - As the sensor is flexed, the resistance across the sensor increases. Useful for sensing motion or positioning\n",
    "* Piezo Buzzer/Speaker - This is a small 12mm round speaker that operates around the audible 2kHz range. You can use these speakers to create simple music or user interfaces.\n",
    "* Resistor 1.0M Ohm 1/6 Watt PTH - Two 1/6th Watt, +/- 5% tolerance PTH resistors. Commonly used in breadboards and perf boards"
   ]
  },
  {
   "cell_type": "markdown",
   "metadata": {
    "slideshow": {
     "slide_type": "slide"
    }
   },
   "source": [
    "# Schedule\n",
    "\n",
    "**Split sections (A,B,C,D) and [alternate](https://docs.google.com/spreadsheets/d/1toqoqqjJbBULR53Y1MR9VOqywlTdHmtfRf9PnUS7CaM/edit#gid=275293357) between:**\n",
    "\n",
    "<div class=\"alert alert-block alert-info\">\n",
    "    \n",
    "### software sessions:\n",
    "Use Python for data processing, storage and display.\n",
    "</div>\n",
    "\n",
    "<div class=\"alert alert-block alert-danger\">\n",
    "    \n",
    "### hardware sessions:\n",
    "Use sensors to form circuits and collect data into the RPi.\n",
    "</div>"
   ]
  },
  {
   "cell_type": "markdown",
   "metadata": {
    "slideshow": {
     "slide_type": "slide"
    }
   },
   "source": [
    "<div class=\"alert alert-block alert-info\">\n",
    "    \n",
    "## software sessions\n",
    "* online delivery\n",
    "* flexible schedule\n",
    "* pre-made videos on [Canvas](https://elearning.mines.edu/courses/25453)\n",
    "* use Jupyter notebooks\n",
    "* complete quizzes and labs\n",
    "</div>"
   ]
  },
  {
   "cell_type": "markdown",
   "metadata": {
    "slideshow": {
     "slide_type": "slide"
    }
   },
   "source": [
    "<div class=\"alert alert-block alert-danger\">\n",
    "    \n",
    "## hardware sessions\n",
    "* in class delivery\n",
    "* formal schedule\n",
    "* video hints on [Canvas](https://elearning.mines.edu/courses/25453)\n",
    "* use Jupyter notebooks\n",
    "* complete labs\n",
    "</div>"
   ]
  },
  {
   "cell_type": "markdown",
   "metadata": {
    "slideshow": {
     "slide_type": "slide"
    }
   },
   "source": [
    "# RPi kit (white box)\n",
    "\n",
    "**Contact**:\n",
    "* Paul Sava, <psava@mines.edu>, GC 287\n",
    "\n",
    "**Pick-up time**:\n",
    "* 4pm-5pm T\n",
    "* 10-11am W"
   ]
  },
  {
   "cell_type": "markdown",
   "metadata": {
    "slideshow": {
     "slide_type": "slide"
    }
   },
   "source": [
    "# sensor  kit (red box)\n",
    "\n",
    "**Contact**: \n",
    "* Justyna Glode, <jglode@mines.edu>, CTLM 244 \n",
    "* Samuel Araujo, <saraujo@mines.edu>, CTLM 244\n",
    "\n",
    "**Pick-up time**:\n",
    "* 10am-3pm M-F\n",
    "\n",
    "**Payment** (please make 24hrs before picking-up the kits):\n",
    "* **$99.36** by credit card (includes CC fee) \n",
    "* [https://mines.eventsair.com/23cs1165a-kit/purchase](https://mines.eventsair.com/23cs1165a-kit/purchase)"
   ]
  },
  {
   "cell_type": "markdown",
   "metadata": {
    "slideshow": {
     "slide_type": "slide"
    }
   },
   "source": [
    "# Additional hardware\n",
    "\n",
    "* we will purchase additional sensors\n",
    "    * for classroom labs\n",
    "    * for Capstone projects"
   ]
  },
  {
   "cell_type": "markdown",
   "metadata": {
    "slideshow": {
     "slide_type": "slide"
    }
   },
   "source": [
    "# Assignments\n",
    "### labs (70%): classroom & online\n",
    "   * 1HW + 1SW for every course module\n",
    "   * reproducible notebooks - [Jupyter](__Jupyter.ipynb)"
   ]
  },
  {
   "cell_type": "markdown",
   "metadata": {
    "slideshow": {
     "slide_type": "slide"
    }
   },
   "source": [
    "# Assignments\n",
    "### quizzes (10%): online\n",
    "   * for most software (online) classes\n",
    "   * programming questions - [Autograder](__AutoGrader.ipynb)"
   ]
  },
  {
   "cell_type": "markdown",
   "metadata": {
    "slideshow": {
     "slide_type": "slide"
    }
   },
   "source": [
    "# Assignments\n",
    "### capstone (20%): classroom & online\n",
    "   * self-guided, multi-week, small groups\n",
    "   * reproducible report; video presentation"
   ]
  },
  {
   "cell_type": "markdown",
   "metadata": {
    "slideshow": {
     "slide_type": "slide"
    }
   },
   "source": [
    "# Grading\n",
    "\n",
    "A:   $\\ge90$\n",
    "\n",
    "B: $[80-90)$\n",
    "\n",
    "C: $[70-80)$\n",
    "\n",
    "D: $[60-70)$\n",
    "\n",
    "F: $<60$\n",
    "\n",
    "*** \n",
    "Scores can be challenged <1 week from due date. \n",
    "\n",
    "**TAs have first call on all grade corrections or adjustments.**"
   ]
  },
  {
   "cell_type": "markdown",
   "metadata": {
    "slideshow": {
     "slide_type": "slide"
    }
   },
   "source": [
    "# Late policy\n",
    "\n",
    "Late assignments are accepted only with **prior arrangements**. \n",
    "\n",
    "Incomplete labs submitted by due date receive partial credit."
   ]
  },
  {
   "cell_type": "markdown",
   "metadata": {
    "heading_collapsed": true,
    "slideshow": {
     "slide_type": "slide"
    }
   },
   "source": [
    "# Absence policy\n",
    "\n",
    "School-sanctioned activities must be announced **ahead of time**.\n",
    "\n",
    "Involuntary (i.e. health-related) absences will not be penalized."
   ]
  },
  {
   "cell_type": "markdown",
   "metadata": {
    "slideshow": {
     "slide_type": "slide"
    }
   },
   "source": [
    "# Disability accommodation\n",
    "\n",
    "Students who seek it should **discuss** with us **immediately**."
   ]
  },
  {
   "cell_type": "markdown",
   "metadata": {
    "slideshow": {
     "slide_type": "slide"
    }
   },
   "source": [
    "# Class environment \n",
    "\n",
    "We want all to feel as equal members of a **community of peers**.\n",
    "\n",
    "We will have **no tolerance** for aggression, harassment or abuse.\n",
    "\n",
    "We will abide by the Mines [core values](https://www.mines.edu/president/planning/):\n",
    "\n",
    "* Innovation\n",
    "* Inspiration\n",
    "* Challenge\n",
    "* Openess\n",
    "* Respect\n",
    "* Diversity\n",
    "* Compassion\n",
    "* Collaboration "
   ]
  },
  {
   "cell_type": "markdown",
   "metadata": {
    "slideshow": {
     "slide_type": "slide"
    }
   },
   "source": [
    "# Academic integrity\n",
    "Labs and quizzes are **individual exercises**. \n",
    "\n",
    "All submissions are subject to the [Mines Honor Code](http://inside.mines.edu/~epoeter/_GW/CSMHonorCodeUndergradHandbook.pdf).\n",
    "\n",
    "We will not tolerate cheating or dishonest behavior. \n",
    "\n",
    "We do not seek penalties, but will not hesitate apply them."
   ]
  },
  {
   "cell_type": "markdown",
   "metadata": {
    "slideshow": {
     "slide_type": "slide"
    }
   },
   "source": [
    "# Text editor\n",
    "\n",
    "Gain proficiency with at least one text editor. \n",
    "\n",
    "> **vi**, **pico**, **nano**, **leafpad**, **emacs**, **atom**\n",
    "\n",
    "Ensure that it does not modify the structure of ASCII files:\n",
    "\n",
    "**N.B.** Do not use *Libre/Microsoft/Google Office* programs!"
   ]
  },
  {
   "cell_type": "markdown",
   "metadata": {
    "slideshow": {
     "slide_type": "slide"
    }
   },
   "source": [
    "<img src=\"http://www.dropbox.com/s/fcucolyuzdjl80k/todo.jpg?raw=1\" width=\"10%\" align=\"right\">\n",
    "\n",
    "Get your **RPi & sensor kit** - this week.\n",
    "\n",
    "Respond to the **office hours** survey - this week.\n",
    "\n",
    "Monitor the **Canvas** page - all times.\n",
    "\n",
    "**N.B.** \n",
    "* RPi + misc: loaned (return as you receive)\n",
    "* sensors: purchased (yours to keep)"
   ]
  }
 ],
 "metadata": {
  "celltoolbar": "Slideshow",
  "hide_input": false,
  "kernelspec": {
   "display_name": "Python 3 (ipykernel)",
   "language": "python",
   "name": "python3"
  },
  "language_info": {
   "codemirror_mode": {
    "name": "ipython",
    "version": 3
   },
   "file_extension": ".py",
   "mimetype": "text/x-python",
   "name": "python",
   "nbconvert_exporter": "python",
   "pygments_lexer": "ipython3",
   "version": "3.9.7"
  },
  "varInspector": {
   "cols": {
    "lenName": 16,
    "lenType": 16,
    "lenVar": 40
   },
   "kernels_config": {
    "python": {
     "delete_cmd_postfix": "",
     "delete_cmd_prefix": "del ",
     "library": "var_list.py",
     "varRefreshCmd": "print(var_dic_list())"
    },
    "r": {
     "delete_cmd_postfix": ") ",
     "delete_cmd_prefix": "rm(",
     "library": "var_list.r",
     "varRefreshCmd": "cat(var_dic_list()) "
    }
   },
   "types_to_exclude": [
    "module",
    "function",
    "builtin_function_or_method",
    "instance",
    "_Feature"
   ],
   "window_display": false
  }
 },
 "nbformat": 4,
 "nbformat_minor": 2
}
