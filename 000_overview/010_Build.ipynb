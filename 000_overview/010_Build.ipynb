{
 "cells": [
  {
   "cell_type": "markdown",
   "metadata": {
    "slideshow": {
     "slide_type": "slide"
    }
   },
   "source": [
    "<img src=\"https://www.mines.edu/webcentral/wp-content/uploads/sites/267/2019/02/horizontallightbackground.jpg\" width=\"100%\"> \n",
    "\n",
    "### CSCI250 Python Computing: Building a Sensor System\n",
    "<hr style=\"height:5px\" width=\"100%\" align=\"left\">\n",
    "\n",
    "# Build & configure"
   ]
  },
  {
   "cell_type": "markdown",
   "metadata": {
    "slideshow": {
     "slide_type": "slide"
    }
   },
   "source": [
    "# Objectives\n",
    "\n",
    "* Assemble & configure the \n",
    "[**Raspberry Pi 4 starter kit**](https://www.sparkfun.com/products/16388).\n",
    "* Setup headless access to the RPi.\n",
    "\n",
    "**N.B.**: Visit the [sparkfun](https://www.sparkfun.com) webpage for info on electronic components."
   ]
  },
  {
   "cell_type": "markdown",
   "metadata": {
    "slideshow": {
     "slide_type": "slide"
    }
   },
   "source": [
    "<img src=\"https://cdn.sparkfun.com//assets/parts/1/5/1/0/5/16388-Raspberry_Pi_4_Hardware_Starter_Kit_-_4GB-01.jpg\" width=50%>"
   ]
  },
  {
   "cell_type": "markdown",
   "metadata": {
    "slideshow": {
     "slide_type": "slide"
    }
   },
   "source": [
    "# Installation"
   ]
  },
  {
   "cell_type": "markdown",
   "metadata": {
    "slideshow": {
     "slide_type": "slide"
    }
   },
   "source": [
    "Get the [Raspberry Pi 4](https://www.sparkfun.com/products/16388) - an entire Linux computer on a small board. \n",
    "\n",
    "<img src=\"https://cdn.sparkfun.com//assets/parts/1/4/0/2/2/15447-Raspberry_Pi_4_Model_B__4_GB_-01.jpg\" width=50%>"
   ]
  },
  {
   "cell_type": "markdown",
   "metadata": {
    "slideshow": {
     "slide_type": "slide"
    }
   },
   "source": [
    "Get the [RPi Heatsink](https://www.sparkfun.com/products/15773) - a case designed to keep the RPi clean and cool.\n",
    "\n",
    "<img src=\"https://cdn.sparkfun.com//assets/parts/1/4/3/7/2/15773-Pimoroni_Aluminum_Heatsink_Case_for_Raspberry_Pi_4_-_Black-02.jpg\" width=75%>"
   ]
  },
  {
   "cell_type": "markdown",
   "metadata": {
    "slideshow": {
     "slide_type": "slide"
    }
   },
   "source": [
    "Remove the film and paper from the thermal pad matching the CPU. \n",
    "\n",
    "Attach the side that had the paper to the RPi's CPU.\n",
    "\n",
    "<img src=\"https://cdn.sparkfun.com/r/600-600/assets/learn_tutorials/1/1/3/1/Raspberry_Pi_4_Thermal_Tape.jpg\" width=75%>\n",
    "\n",
    "Extra thermal pads may be available for other chips - attach these too."
   ]
  },
  {
   "cell_type": "markdown",
   "metadata": {
    "slideshow": {
     "slide_type": "slide"
    }
   },
   "source": [
    "Place the top of the heat sink case with the cutout for the GPIO pins.\n",
    "\n",
    "\n",
    "<img src=\"https://cdn.sparkfun.com/r/600-600/assets/learn_tutorials/1/1/3/1/Raspberry_Pi_4_Heat_Sink_Top.jpg\" width=75%>"
   ]
  },
  {
   "cell_type": "markdown",
   "metadata": {
    "slideshow": {
     "slide_type": "slide"
    }
   },
   "source": [
    "Align the mounting holes of the bottom of the heat sink case.\n",
    "\n",
    "<img src=\"https://cdn.sparkfun.com/r/600-600/assets/learn_tutorials/1/1/3/1/Raspberry_Pi_4_Heat_Sink_Bottom.jpg\" width=75%>"
   ]
  },
  {
   "cell_type": "markdown",
   "metadata": {
    "slideshow": {
     "slide_type": "slide"
    }
   },
   "source": [
    "Screw and tighten the hex bolts using the Allen key.\n",
    "\n",
    "<img src=\"https://cdn.sparkfun.com/r/600-600/assets/learn_tutorials/1/1/3/1/Raspberry_Pi_4_Heat_Sink_Hex_Bolts.jpg\" width=75%>"
   ]
  },
  {
   "cell_type": "markdown",
   "metadata": {
    "slideshow": {
     "slide_type": "slide"
    }
   },
   "source": [
    "The RPi with the heat sink enclosure should look like this.\n",
    "\n",
    "<img src=\"https://cdn.sparkfun.com/r/600-600/assets/learn_tutorials/1/1/3/1/Raspberry_Pi_4_Heat_Sink.jpg\" width=75%>"
   ]
  },
  {
   "cell_type": "markdown",
   "metadata": {
    "slideshow": {
     "slide_type": "slide"
    }
   },
   "source": [
    "Insert the [microSD Card](https://www.sparkfun.com/products/16498) into its socket.\n",
    "\n",
    "**N.B.**: We provide an SD card pre-installed with useful packages.\n",
    "\n",
    "<img src=\"https://cdn.sparkfun.com/r/600-600/assets/learn_tutorials/1/1/3/1/Raspberry_Pi_4_Insert_MicroSD_Card.jpg\" width=75%>"
   ]
  },
  {
   "cell_type": "markdown",
   "metadata": {
    "slideshow": {
     "slide_type": "slide"
    }
   },
   "source": [
    "Connect the [wall adapter](https://www.sparkfun.com/products/16272) to the [USB-C cable](https://www.sparkfun.com/products/16395) and to the RPI. \n",
    "\n",
    "**N.B.**: **DO NOT** connect the HDMI cable (seen here in red).\n",
    "\n",
    "<img src=\"https://cdn.sparkfun.com/r/600-600/assets/learn_tutorials/1/1/3/1/Raspberry_Pi_4_Power.jpg\" width=75%>"
   ]
  },
  {
   "cell_type": "markdown",
   "metadata": {
    "slideshow": {
     "slide_type": "slide"
    }
   },
   "source": [
    "### Troubleshooting\n",
    "\n",
    "* **DO NOT** power your RPi from your computer's USB port. \n",
    "* The RPi needs up to 15W, which USB ports cannot supply. \n",
    "* Use the wall adapter, or another 15W supply."
   ]
  },
  {
   "cell_type": "markdown",
   "metadata": {
    "slideshow": {
     "slide_type": "slide"
    }
   },
   "source": [
    "# First time boot\n",
    "\n",
    "After plugging the USB-C cable, 2 LEDs next to the port start flashing:\n",
    "* the red LED indicates that the RPi has power\n",
    "* the green LED indicates RPi activity"
   ]
  },
  {
   "cell_type": "markdown",
   "metadata": {
    "slideshow": {
     "slide_type": "slide"
    }
   },
   "source": [
    "### Troubleshooting\n",
    "\n",
    "If the **red LED is not lit**, the board is not getting power:\n",
    "* Ensure the USB-C cable is connected correctly.\n",
    "* Ensure the wall adapter is plugged in correctly.\n",
    "* Ensure the outlet you're using has power running to it.\n",
    "   "
   ]
  },
  {
   "cell_type": "markdown",
   "metadata": {
    "slideshow": {
     "slide_type": "slide"
    }
   },
   "source": [
    " \n",
    "### Troubleshooting\n",
    "\n",
    "If the **green LED is not flashing**, no activity is occurring:\n",
    "* Disconnect the power to shutdown the RPi.\n",
    "* Re-insert the SD card. \n",
    "* Connect the power to restart the RPi."
   ]
  },
  {
   "cell_type": "markdown",
   "metadata": {
    "slideshow": {
     "slide_type": "slide"
    }
   },
   "source": [
    "# Configure the RPi for remote access\n",
    "\n",
    "After ~2 minutes, unplug your RPi and remove the SD card.\n",
    "\n",
    "**N.B.**: in the future we will shut down the RPis without unplugging. "
   ]
  },
  {
   "cell_type": "markdown",
   "metadata": {
    "slideshow": {
     "slide_type": "slide"
    }
   },
   "source": [
    "## Move the SD card to a networked computer\n",
    "\n",
    "Log into the classroom computer or your own laptop.\n",
    "\n",
    "* Find the [microSD to USB adapter](https://www.sparkfun.com/products/13004) in your kit. \n",
    "* Insert the SD card into the adapter.\n",
    "* Insert the adapter into the classroom computer USB slot. \n",
    "\n",
    "<img src=\"https://cdn.sparkfun.com//assets/parts/9/9/5/8/13004-01.jpg\" width=35%>"
   ]
  },
  {
   "cell_type": "markdown",
   "metadata": {
    "slideshow": {
     "slide_type": "slide"
    }
   },
   "source": [
    "### Troubleshooting\n",
    "\n",
    "A dialog box may appear, asking whether to format the SD card. \n",
    "\n",
    "If this dialog box appears, just close it.\n",
    "\n",
    "**N.B.**: **Do not format the SD card - all installed software will be lost**. "
   ]
  },
  {
   "cell_type": "markdown",
   "metadata": {
    "slideshow": {
     "slide_type": "slide"
    }
   },
   "source": [
    "## Find the RPi MAC address\n",
    "\n",
    "* Open the file browser on your classroom computer.\n",
    "* Find the SD card in a directory called `boot`.\n",
    "* Open the file `/boot/CSM_mac.txt`.\n",
    "* Copy the RPi [MAC](https://en.wikipedia.org/wiki/MAC_address) address."
   ]
  },
  {
   "cell_type": "markdown",
   "metadata": {
    "slideshow": {
     "slide_type": "slide"
    }
   },
   "source": [
    "## Network registration\n",
    "\n",
    "Go to [https://netreg.mines.edu](https://netreg.mines.edu/cgi-bin/networking/register.cgi) and accept the policy at the bottom.\n",
    "* Enter `Linux` for the Operating System.\n",
    "* Paste the MAC address into the network registration.\n",
    "* Enter your credentials, then click Register. \n",
    "* Wait up to 5 minutes to register your RPi."
   ]
  },
  {
   "cell_type": "markdown",
   "metadata": {
    "slideshow": {
     "slide_type": "slide"
    }
   },
   "source": [
    "## Autopi registration\n",
    "\n",
    "Go to [https://autopi.mines.edu](https://autopi.mines.edu/) and login with your credentials. \n",
    "\n",
    "* Click `Register` at the top of the page. \n",
    "* Copy the random string that will identify your RPi. \n",
    "* Paste this string into `/boot/CSM_device_id.txt`.\n",
    "* Save and close the file."
   ]
  },
  {
   "cell_type": "markdown",
   "metadata": {
    "slideshow": {
     "slide_type": "slide"
    }
   },
   "source": [
    "## Restart the RPi\n",
    "\n",
    "* Eject the SD card from the classroom computer.\n",
    "* Re-insert the SD card into the RPi.\n",
    "* Reconnect the RPi USB-C power cable to restart. "
   ]
  },
  {
   "cell_type": "markdown",
   "metadata": {
    "slideshow": {
     "slide_type": "slide"
    }
   },
   "source": [
    "## Check the RPi network status\n",
    "\n",
    "Go back to [https://autopi.mines.edu](https://autopi.mines.edu/) and check the status of your RPi. \n",
    "\n",
    "<img src=\"https://www.dropbox.com/s/g0ajb4a3lmk3kkz/autopi.png?raw=1\">\n",
    "\n",
    "**N.B.**: the `SSH` and `VNC` boxes should be highlighted in green."
   ]
  },
  {
   "cell_type": "markdown",
   "metadata": {
    "slideshow": {
     "slide_type": "slide"
    }
   },
   "source": [
    "## Get the RPi IP address\n",
    "\n",
    "Note the numbers in the `IP Address` field:\n",
    "* the format is `138.67.???.???`\n",
    "\n",
    "**N.B.**: The IP address can change after every RPi boot. Return to [https://autopi.mines.edu](https://autopi.mines.edu/) after RPi restart and get the updated IP."
   ]
  },
  {
   "cell_type": "markdown",
   "metadata": {
    "slideshow": {
     "slide_type": "slide"
    }
   },
   "source": [
    "# Connect remotely to the RPi\n",
    "\n",
    "Open **VNC Viewer** on the classroom computer. \n",
    "\n",
    "* Click on the Windows search bar, and type `VNC Viewer`.\n",
    "\n",
    "In the VNC Viewer, enter the IP address of your RPi, then hit Enter.\n",
    "\n",
    "**N.B.**: You may get a security window warning you about trusting the device you're connecting to. Click the button to trust your RPi."
   ]
  },
  {
   "cell_type": "markdown",
   "metadata": {
    "slideshow": {
     "slide_type": "slide"
    }
   },
   "source": [
    "<img src=\"https://www.dropbox.com/s/1xxq9geqx6g1yui/vnc.PNG?raw=1\">"
   ]
  },
  {
   "cell_type": "markdown",
   "metadata": {
    "slideshow": {
     "slide_type": "slide"
    }
   },
   "source": [
    "You will be given a place to enter your credentials. **These are not your MultiPass credentials**, but the login credentials for the RPi:\n",
    "* Username: **pi**\n",
    "* Password: **raspberry**\n",
    "\n",
    "<img src=\"https://www.dropbox.com/s/xmcr1d3r3uu891y/vnc_login.PNG?raw=1\">"
   ]
  },
  {
   "cell_type": "markdown",
   "metadata": {
    "slideshow": {
     "slide_type": "slide"
    }
   },
   "source": [
    "Once you connect, you will see the RPi's desktop background. \n",
    "\n",
    "This is how the RPi would show on a monitor (the background image may differ).\n",
    "\n",
    "<img src=\"https://www.dropbox.com/s/cycgg1iovy55uvq/vnc_view.PNG?raw=1\">"
   ]
  },
  {
   "cell_type": "markdown",
   "metadata": {
    "slideshow": {
     "slide_type": "slide"
    }
   },
   "source": [
    "# RPi Setup\n",
    "\n",
    "From this point you can access the RPi like a normal computer.\n",
    "\n",
    "We have done most of the setup, but there are a few things to do."
   ]
  },
  {
   "cell_type": "markdown",
   "metadata": {
    "slideshow": {
     "slide_type": "slide"
    }
   },
   "source": [
    "## Password\n",
    "\n",
    "By default, the login credentials for the RPi are\n",
    "\n",
    "* Username: **pi**\n",
    "* Password: **raspberry**\n",
    "\n",
    "We recommend that you change the password to avoid being hacked."
   ]
  },
  {
   "cell_type": "markdown",
   "metadata": {
    "slideshow": {
     "slide_type": "slide"
    }
   },
   "source": [
    "To change the password:\n",
    "* Click the raspberry icon in the top left corner\n",
    "* Hover over **Preferences**, click **Raspberry Pi Configuration**\n",
    "* In the **System** tab, click **Change Password**\n",
    "* Enter a new password, then click OK"
   ]
  },
  {
   "cell_type": "markdown",
   "metadata": {
    "slideshow": {
     "slide_type": "slide"
    }
   },
   "source": [
    "# Shutdown or Reboot\n",
    "\n",
    "**Never simply unplug the RPi** - it has to be shutdown properly to execute a clean exit with all processes stopped. Unplugging could corrupt the SD card."
   ]
  },
  {
   "cell_type": "markdown",
   "metadata": {
    "slideshow": {
     "slide_type": "slide"
    }
   },
   "source": [
    "There are 2 ways to properly shut down the RPi:\n",
    "1. Use the GUI: \n",
    "    * **Menu > Logout > Shutdown** or \n",
    "    * **Menu > Logout > Reboot**.\n",
    "2. Use the terminal and type \n",
    "    * `sudo shutdown now` to shutdown, or \n",
    "    * `sudo reboot now` to reboot."
   ]
  },
  {
   "cell_type": "markdown",
   "metadata": {
    "slideshow": {
     "slide_type": "slide"
    }
   },
   "source": [
    "Once the shutdown finishes, \n",
    "* the green LED flashes 10 times, then turns off. \n",
    "* the red LED remains lit while power is connected.\n",
    "\n",
    "At this point, you can unplug the power supply. \n",
    "\n",
    "**N.B.**: Make sure you don't accidentally unplug someone else's power."
   ]
  },
  {
   "cell_type": "markdown",
   "metadata": {
    "slideshow": {
     "slide_type": "slide"
    }
   },
   "source": [
    "# Optional customization\n",
    "\n",
    "At this point, your RPi should be set up sufficiently. \n",
    "\n",
    "The following steps are optional ways to customize your RPi.\n",
    "\n",
    "Feel free to explore your RPi and everything available to you. "
   ]
  },
  {
   "cell_type": "markdown",
   "metadata": {
    "slideshow": {
     "slide_type": "slide"
    }
   },
   "source": [
    "## Desktop\n",
    "\n",
    "You can customize the desktop settings (such as the image). \n",
    "\n",
    "Right click the desktop and select **Desktop Preferences**. \n",
    "\n",
    "Feel free to explore this menu and customize at will."
   ]
  },
  {
   "cell_type": "markdown",
   "metadata": {
    "slideshow": {
     "slide_type": "slide"
    }
   },
   "source": [
    "## Task bar\n",
    "\n",
    "Right click the task bar and click **Panel Settings** to move the task bar. \n",
    "\n",
    "You can then change the position to any edge you like. \n",
    "\n",
    "There are several other settings here that you can explore."
   ]
  },
  {
   "cell_type": "markdown",
   "metadata": {
    "slideshow": {
     "slide_type": "slide"
    }
   },
   "source": [
    "## Time\n",
    "\n",
    "Right click on the time display at top right to open the clock menu. \n",
    "\n",
    "To change its format, select one of the following:\n",
    " \n",
    "* **%r** will give a 12 hour clock with am/pm \n",
    "* **%R** will give a 24 hour clock\n",
    "* **%X** will give a 24 hour clock with seconds \n",
    "* **%x** will give the date in DD/MM/YY\n",
    "* **%d** will give the day in number format \n",
    "* **%D** will give the date in MM/DD/YY\n",
    "* **%a** will give the abbreviated day name \n",
    "* **%A** will give the full day name\n",
    "\n",
    "You can select, for example, **%a %D %r**."
   ]
  }
 ],
 "metadata": {
  "celltoolbar": "Slideshow",
  "hide_input": false,
  "kernelspec": {
   "display_name": "Python 3 (ipykernel)",
   "language": "python",
   "name": "python3"
  },
  "language_info": {
   "codemirror_mode": {
    "name": "ipython",
    "version": 3
   },
   "file_extension": ".py",
   "mimetype": "text/x-python",
   "name": "python",
   "nbconvert_exporter": "python",
   "pygments_lexer": "ipython3",
   "version": "3.9.7"
  },
  "varInspector": {
   "cols": {
    "lenName": 16,
    "lenType": 16,
    "lenVar": 40
   },
   "kernels_config": {
    "python": {
     "delete_cmd_postfix": "",
     "delete_cmd_prefix": "del ",
     "library": "var_list.py",
     "varRefreshCmd": "print(var_dic_list())"
    },
    "r": {
     "delete_cmd_postfix": ") ",
     "delete_cmd_prefix": "rm(",
     "library": "var_list.r",
     "varRefreshCmd": "cat(var_dic_list()) "
    }
   },
   "types_to_exclude": [
    "module",
    "function",
    "builtin_function_or_method",
    "instance",
    "_Feature"
   ],
   "window_display": false
  }
 },
 "nbformat": 4,
 "nbformat_minor": 4
}
