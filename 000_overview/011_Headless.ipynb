{
 "cells": [
  {
   "cell_type": "markdown",
   "metadata": {
    "slideshow": {
     "slide_type": "slide"
    }
   },
   "source": [
    "<img src=\"https://www.mines.edu/webcentral/wp-content/uploads/sites/267/2019/02/horizontallightbackground.jpg\" width=\"100%\"> \n",
    "\n",
    "### CSCI250 Python Computing: Building a Sensor System\n",
    "<hr style=\"height:5px\" width=\"100%\" align=\"left\">\n",
    "\n",
    "# Headless setup"
   ]
  },
  {
   "cell_type": "markdown",
   "metadata": {
    "slideshow": {
     "slide_type": "slide"
    }
   },
   "source": [
    "# Objectives\n",
    "\n",
    "* Setup headless mode on an RPi.\n",
    "* Introduce remote access by **Virtual Network Computing**.\n",
    "\n",
    "<img src=\"https://www.macupdate.com/images/icons256/36976.png\" width=\"25%\" align=\"left\">"
   ]
  },
  {
   "cell_type": "markdown",
   "metadata": {
    "slideshow": {
     "slide_type": "slide"
    }
   },
   "source": [
    "# What is headless?\n",
    "\n",
    "An RPi usage mode without a monitor/keyboard/mouse. \n",
    "\n",
    "It simplifies setup and avoids the need for peripherals.\n",
    "\n",
    "Only power is supplied to the RPi; it is controlled remotely. \n",
    "\n",
    "The RPi and the remote computer must be on the same network."
   ]
  },
  {
   "cell_type": "markdown",
   "metadata": {
    "slideshow": {
     "slide_type": "slide"
    }
   },
   "source": [
    "# Virtual Network Computing"
   ]
  },
  {
   "cell_type": "markdown",
   "metadata": {
    "slideshow": {
     "slide_type": "slide"
    }
   },
   "source": [
    "# VNC \n",
    "\n",
    "[**Virtual Network Computing**](https://en.wikipedia.org/wiki/Virtual_Network_Computing) allows to use the RPi through a virtual desktop.\n",
    "\n",
    "*** \n",
    "\n",
    "VNC needs to be enabled on the RPi - this should be done already. \n",
    "\n",
    "If needed, enable VNC manually:\n",
    "\n",
    "> **Menu > Preferences > Raspberry Pi Configuration > Interfaces**"
   ]
  },
  {
   "cell_type": "markdown",
   "metadata": {
    "slideshow": {
     "slide_type": "slide"
    }
   },
   "source": [
    "## step 1\n",
    "\n",
    "You can access your RPi through software called [VNC Viewer](https://www.realvnc.com/en/connect/download/viewer). \n",
    "\n",
    "Launch **VNC Viewer** to open its GUI. \n",
    "\n",
    "* Ensure that you are on the same network as the RPi.\n",
    "\n",
    "* Type the RPi IP address from [autopi](https://autopi.mines.edu) and pres **Enter**. "
   ]
  },
  {
   "cell_type": "markdown",
   "metadata": {
    "slideshow": {
     "slide_type": "slide"
    }
   },
   "source": [
    "<img src=\"https://www.dropbox.com/s/1xxq9geqx6g1yui/vnc.PNG?raw=1\">"
   ]
  },
  {
   "cell_type": "markdown",
   "metadata": {
    "slideshow": {
     "slide_type": "slide"
    }
   },
   "source": [
    "## step 2\n",
    "Enter your credentials for the RPi:\n",
    "* Username: **pi**\n",
    "* Password: **raspberry**\n",
    "\n",
    "<img src=\"https://www.dropbox.com/s/xmcr1d3r3uu891y/vnc_login.PNG?raw=1\">"
   ]
  },
  {
   "cell_type": "markdown",
   "metadata": {
    "slideshow": {
     "slide_type": "slide"
    }
   },
   "source": [
    "## step 3\n",
    "Once you connect, you will see the RPi's desktop background. \n",
    "\n",
    "This is how the RPi would show on a monitor (the background image may differ).\n",
    "\n",
    "<img src=\"https://www.dropbox.com/s/cycgg1iovy55uvq/vnc_view.PNG?raw=1\">"
   ]
  },
  {
   "cell_type": "markdown",
   "metadata": {
    "slideshow": {
     "slide_type": "slide"
    }
   },
   "source": [
    "<div class=\"alert alert-block alert-warning\">\n",
    "\n",
    "## VNC usage\n",
    "\n",
    "1. Power on the RPi;\n",
    "2. Log into campus computer (or your laptop);\n",
    "3. Go to [autopi](https://autopi.mines.edu) to get the RPi IP address;\n",
    "    ***\n",
    "4. Connect to the RPi through the VNC Viewer.\n",
    "    \n",
    "</div>"
   ]
  },
  {
   "cell_type": "markdown",
   "metadata": {
    "slideshow": {
     "slide_type": "slide"
    }
   },
   "source": [
    "## VNC shutdown\n",
    "\n",
    "Shutdown the RPi normally (**Menu > Shutdown**)\n",
    "\n",
    "* The VNC connection is terminated immediately. \n",
    "* Do not unplug the RPi until the green LED stops blinking."
   ]
  },
  {
   "cell_type": "markdown",
   "metadata": {
    "heading_collapsed": true,
    "slideshow": {
     "slide_type": "slide"
    }
   },
   "source": [
    "# SSH\n",
    "\n",
    "[**Secure Shell**](https://www.ssh.com/academy/ssh) allows to connect to the RPi though a secure tunnel.\n",
    "\n",
    "***\n",
    "\n",
    "SSH needs to be enabled on the RPi - this should be done already.\n",
    "\n",
    "If needed, enable SSH manually: \n",
    "\n",
    "> **Menu > Preferences > Raspberry Pi Configuration > Interfaces**"
   ]
  },
  {
   "cell_type": "markdown",
   "metadata": {
    "slideshow": {
     "slide_type": "slide"
    }
   },
   "source": [
    "# SSH tunneling on Windows"
   ]
  },
  {
   "cell_type": "markdown",
   "metadata": {
    "slideshow": {
     "slide_type": "slide"
    }
   },
   "source": [
    "## step 1\n",
    "\n",
    "To create an SSH tunnel, run [PuTTY](https://www.chiark.greenend.org.uk/~sgtatham/putty/latest.html) on the campus computers. \n",
    "* type `PuTTY` into the Windows search bar to open the GUI \n",
    "* type the IP address of your RPi in the Host Name field\n",
    "\n",
    "<img src=\"https://www.dropbox.com/s/4rdvvz4bruspmpu/putty.PNG?raw=1\">"
   ]
  },
  {
   "cell_type": "markdown",
   "metadata": {
    "heading_collapsed": true,
    "slideshow": {
     "slide_type": "slide"
    }
   },
   "source": [
    "## step 2\n",
    "\n",
    "In the tree on the left, expand SSH then click Tunnels. \n",
    "\n",
    "* in the Source port field, type `8889`\n",
    "* in the Destination field, type `localhost:8888`\n",
    "* click Add, then click Open.\n",
    "\n",
    "<img src=\"https://www.dropbox.com/s/d4hrw0clz2b6kl0/putty_tunnels.PNG?raw=1\">"
   ]
  },
  {
   "cell_type": "markdown",
   "metadata": {
    "slideshow": {
     "slide_type": "slide"
    }
   },
   "source": [
    "## step 3\n",
    "\n",
    "A terminal opens with a prompt to login into the RPi \n",
    "* Username: **pi**\n",
    "* Password: **raspberry**\n",
    "\n",
    "<img src=\"https://www.dropbox.com/s/npyw59tyg6t4z7j/putty_login.PNG?raw=1\">"
   ]
  },
  {
   "cell_type": "markdown",
   "metadata": {
    "slideshow": {
     "slide_type": "slide"
    }
   },
   "source": [
    "## step 4\n",
    "\n",
    "Start Jupyter by typing `jupyter notebook`.\n",
    "\n",
    "<img src=\"https://www.dropbox.com/s/8jako6xnm91zhci/putty_view.PNG?raw=1\">"
   ]
  },
  {
   "cell_type": "markdown",
   "metadata": {
    "slideshow": {
     "slide_type": "slide"
    }
   },
   "source": [
    "## step 5\n",
    "\n",
    "Open a web browser on your Windows computer (not on the RPi)\n",
    "\n",
    "Enter `localhost:8889` on the address line.\n",
    "> You should get to the login page for Jupyter running on the RPi. "
   ]
  },
  {
   "cell_type": "markdown",
   "metadata": {
    "slideshow": {
     "slide_type": "slide"
    }
   },
   "source": [
    "<div class=\"alert alert-block alert-warning\">\n",
    "\n",
    "# SSH tunneling on Windows\n",
    "1. Power on the RPi;\n",
    "2. Log into campus computer (or your laptop);\n",
    "3. Go to [autopi](https://autopi.mines.edu) to get the RPi IP address;\n",
    "    ***\n",
    "4. Start an SSH tunnel to the RPi through PuTTY\n",
    "5. Log into the RPi and start Jupyter;\n",
    "    ***\n",
    "6. Connect to the RPi Jupyter through the local web browser.\n",
    "* enter address `localhost:8889`\n",
    "    \n",
    "</div>"
   ]
  },
  {
   "cell_type": "markdown",
   "metadata": {
    "slideshow": {
     "slide_type": "slide"
    }
   },
   "source": [
    "# SSH tunneling on Mac"
   ]
  },
  {
   "cell_type": "markdown",
   "metadata": {
    "slideshow": {
     "slide_type": "slide"
    }
   },
   "source": [
    "<div class=\"alert alert-block alert-warning\">\n",
    "\n",
    "# SSH tunneling on Mac\n",
    "1. Power on the RPi;\n",
    "2. Log into campus computer (or your laptop);\n",
    "3. Go to [autopi](https://autopi.mines.edu) to get the RPi IP address;\n",
    "    *** \n",
    "4. Start an SSH tunnel to the RPi through a terminal\n",
    "> `ssh pi@138.67.???.??? -N -f -L 8889:localhost:8888`\n",
    "5. Connect to the RPi through a terminal and start Jupyter;\n",
    "> `ssh pi@138.67.???.???`\n",
    "then    \n",
    "> `jupyter notebook`\n",
    "    ***\n",
    "6. Connect to the RPi Jupyter through the local web browser.\n",
    "* enter address `localhost:8889`\n",
    "    \n",
    "</div>"
   ]
  },
  {
   "cell_type": "markdown",
   "metadata": {
    "heading_collapsed": true,
    "slideshow": {
     "slide_type": "slide"
    }
   },
   "source": [
    "## SSH shutdown\n",
    "\n",
    "Terminate Jupyter by pressing `Ctrl+C` in the terminal\n",
    "\n",
    "Type `sudo shutdown now`. \n",
    "\n",
    "* The SSH connection is terminated immediately. \n",
    "* Do not unplug the RPi until the green LED stops blinking."
   ]
  }
 ],
 "metadata": {
  "celltoolbar": "Slideshow",
  "hide_input": false,
  "kernelspec": {
   "display_name": "Python 3 (ipykernel)",
   "language": "python",
   "name": "python3"
  },
  "language_info": {
   "codemirror_mode": {
    "name": "ipython",
    "version": 3
   },
   "file_extension": ".py",
   "mimetype": "text/x-python",
   "name": "python",
   "nbconvert_exporter": "python",
   "pygments_lexer": "ipython3",
   "version": "3.9.7"
  },
  "varInspector": {
   "cols": {
    "lenName": 16,
    "lenType": 16,
    "lenVar": 40
   },
   "kernels_config": {
    "python": {
     "delete_cmd_postfix": "",
     "delete_cmd_prefix": "del ",
     "library": "var_list.py",
     "varRefreshCmd": "print(var_dic_list())"
    },
    "r": {
     "delete_cmd_postfix": ") ",
     "delete_cmd_prefix": "rm(",
     "library": "var_list.r",
     "varRefreshCmd": "cat(var_dic_list()) "
    }
   },
   "types_to_exclude": [
    "module",
    "function",
    "builtin_function_or_method",
    "instance",
    "_Feature"
   ],
   "window_display": false
  }
 },
 "nbformat": 4,
 "nbformat_minor": 4
}
