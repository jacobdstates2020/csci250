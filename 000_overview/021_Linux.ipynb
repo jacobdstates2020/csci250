{
 "cells": [
  {
   "cell_type": "markdown",
   "metadata": {
    "slideshow": {
     "slide_type": "slide"
    }
   },
   "source": [
    "<img src=\"https://www.mines.edu/webcentral/wp-content/uploads/sites/267/2019/02/horizontallightbackground.jpg\" width=\"100%\"> \n",
    "### CSCI250 Python Computing: Building a Sensor System\n",
    "<hr style=\"height:5px\" width=\"100%\" align=\"left\">\n",
    "\n",
    "# Introduction to Linux OS"
   ]
  },
  {
   "cell_type": "markdown",
   "metadata": {
    "slideshow": {
     "slide_type": "slide"
    }
   },
   "source": [
    "# Objective\n",
    "\n",
    "* introduce the **Linux operating system**\n",
    "* introduce basic command-line operations.\n",
    "\n",
    "<img src=\"https://www.linuxfoundation.org/wp-content/uploads/2017/05/linux_logo-300x184.png\" width=25% align=\"left\">"
   ]
  },
  {
   "cell_type": "markdown",
   "metadata": {
    "slideshow": {
     "slide_type": "slide"
    }
   },
   "source": [
    "# Resources\n",
    "\n",
    "* [Linux](https://www.linux.org)\n",
    "* [Raspbian](https://www.raspberrypi.org/documentation/raspbian)"
   ]
  },
  {
   "cell_type": "markdown",
   "metadata": {
    "slideshow": {
     "slide_type": "slide"
    }
   },
   "source": [
    "# Operating system\n",
    "\n",
    "The **operating system** is simply the software designed to support basic operations on a computer and provide an interface between the user and the system hardware. Examples of operating systems include\n",
    "* Unix \n",
    "* Mac Os\n",
    "* Windows\n",
    "* ..."
   ]
  },
  {
   "cell_type": "markdown",
   "metadata": {
    "slideshow": {
     "slide_type": "slide"
    }
   },
   "source": [
    "In this class, we will use **Linux** which is a version of the Unix OS and is available in multiple flavors. The flavor running on the RPi is called **Raspbian**. It is **free** (anyone can download it free of charge) and **open** (the source code is available in its entirety). Linux also allows interaction with hardware at system level, which makes it the appropriate tool for developing sensor systems, as we will do later in this class.\n",
    "\n",
    "We will use only the Raspbian OS in this class, although various SW elements discussed in the class are available on other platforms, e.g. on Mac OS."
   ]
  },
  {
   "cell_type": "markdown",
   "metadata": {
    "slideshow": {
     "slide_type": "slide"
    }
   },
   "source": [
    "# Command line\n",
    "\n",
    "A convenient way to interact with Linux is in **command line** mode, which represents a text-based interface to the system. The command line is available in a **terminal** which you can start on the RPi by selecting **Menu > Accessories > Terminal**. The terminal presents a **prompt** at which you can enter commands. "
   ]
  },
  {
   "cell_type": "markdown",
   "metadata": {
    "slideshow": {
     "slide_type": "slide"
    }
   },
   "source": [
    "<img src=\"https://www.dropbox.com/s/h46cb5ir4liijb2/terminal.png?raw=1\">"
   ]
  },
  {
   "cell_type": "markdown",
   "metadata": {
    "slideshow": {
     "slide_type": "slide"
    }
   },
   "source": [
    "Within the terminal you interact with the system using a program called **shell**. There are multiple shells, and the default one running on the RPi is called **bash**. You can check what your shell is by entering the following command at the terminal, followed by RETURN:\n",
    "\n",
    "`echo $SHELL`\n",
    "\n",
    "`echo` is a Linux program which allows you to get information directly into the terminal. There are multiple uses of this program, but in this case we simply ask it to return the value of an **environment variable** named `$SHELL`. Such variables are useful to customize the system, or to instruct it to function in specific ways. The dollar sign indicates that we are requesting an environment variable."
   ]
  },
  {
   "cell_type": "markdown",
   "metadata": {
    "slideshow": {
     "slide_type": "slide"
    }
   },
   "source": [
    "<img src=\"https://www.dropbox.com/s/nn576j8o8mruupy/echo.png?raw=1\">"
   ]
  },
  {
   "cell_type": "markdown",
   "metadata": {
    "slideshow": {
     "slide_type": "slide"
    }
   },
   "source": [
    "There are many other environment variable and you can see them by calling the Linux program `env` (simply type the name in the terminal and press RETURN):\n",
    "\n",
    "`env`"
   ]
  },
  {
   "cell_type": "markdown",
   "metadata": {
    "slideshow": {
     "slide_type": "slide"
    }
   },
   "source": [
    "<img src=\"https://www.dropbox.com/s/5hqo7pmv3bjabnb/env.png?raw=1\">"
   ]
  },
  {
   "cell_type": "markdown",
   "metadata": {
    "slideshow": {
     "slide_type": "slide"
    }
   },
   "source": [
    "# Pipes\n",
    "\n",
    "Linux programs can be chained in so-called **pipes**. In a pipe, Linux takes the output of a program and passes it as input to another program. For example, we can look for a specific environment variable `USER` by calling the program `grep`:\n",
    "\n",
    "`env | grep USER`\n",
    "\n",
    "The variable `USER` contains your user name on the system. The vertical line indicates that a **pipe** is established and the output from the program `env` is piped to the program `grep`."
   ]
  },
  {
   "cell_type": "markdown",
   "metadata": {
    "slideshow": {
     "slide_type": "slide"
    }
   },
   "source": [
    "<img src=\"https://www.dropbox.com/s/mfelt3hhwl40n8f/grep.png?raw=1\">"
   ]
  },
  {
   "cell_type": "markdown",
   "metadata": {
    "slideshow": {
     "slide_type": "slide"
    }
   },
   "source": [
    "# Manual\n",
    "\n",
    "Each Linux program comes with documentation which can be accessed using the program `man` (manual). You can run \n",
    "\n",
    "`man echo`\n",
    "\n",
    "to find information about the program `echo`. "
   ]
  },
  {
   "cell_type": "markdown",
   "metadata": {
    "slideshow": {
     "slide_type": "slide"
    }
   },
   "source": [
    "<img src=\"https://www.dropbox.com/s/1k6z22dez5ks0jw/man1.png?raw=1\">"
   ]
  },
  {
   "cell_type": "markdown",
   "metadata": {
    "slideshow": {
     "slide_type": "slide"
    }
   },
   "source": [
    "You can search the man pages for specific keywords using \n",
    "\n",
    "`man -k keywords`"
   ]
  },
  {
   "cell_type": "markdown",
   "metadata": {
    "slideshow": {
     "slide_type": "slide"
    }
   },
   "source": [
    "<img src=\"https://www.dropbox.com/s/2a4zbh55y2gbxv3/man2.png?raw=1\">"
   ]
  },
  {
   "cell_type": "markdown",
   "metadata": {
    "slideshow": {
     "slide_type": "slide"
    }
   },
   "source": [
    "# Listing\n",
    "\n",
    "Within a terminal, we have access to the **file system**, which represents all the files present on the system. The files are organized in a tree of directories. \n",
    "\n",
    "One common command line action is to check what files are available at any position in the file system. You accomplish this using the program `ls`."
   ]
  },
  {
   "cell_type": "markdown",
   "metadata": {
    "slideshow": {
     "slide_type": "slide"
    }
   },
   "source": [
    "<img src=\"https://www.dropbox.com/s/7b5n1idgtxc5vdi/ls1.png?raw=1\">"
   ]
  },
  {
   "cell_type": "markdown",
   "metadata": {
    "slideshow": {
     "slide_type": "slide"
    }
   },
   "source": [
    "The program `ls` takes options that modify its behavior. These options are controlled using letters that follow a minus sign. For example the command \n",
    "\n",
    "`ls -ltr`\n",
    "\n",
    "gives a long (`l`) listing of the files sorted by time (`t`) in reverse order (`r`).\n",
    "\n",
    "\n",
    "In Linux all file names are **case sensitive**. Although it is best to avoid it, the file names can contain spaces."
   ]
  },
  {
   "cell_type": "markdown",
   "metadata": {
    "slideshow": {
     "slide_type": "slide"
    }
   },
   "source": [
    "<img src=\"https://www.dropbox.com/s/om7bvengfu1dfqg/ls2.png?raw=1\">"
   ]
  },
  {
   "cell_type": "markdown",
   "metadata": {
    "slideshow": {
     "slide_type": "slide"
    }
   },
   "source": [
    "Some files are not immediately visible to the user. These are called **hidden files** and have names that begin with a dot. You can see all (`a`) files in a directory with a command like\n",
    "\n",
    "`ls -latr`\n",
    "\n",
    "which lists all files in long form sorted by time in reverse order."
   ]
  },
  {
   "cell_type": "markdown",
   "metadata": {
    "slideshow": {
     "slide_type": "slide"
    }
   },
   "source": [
    "<img src=\"https://www.dropbox.com/s/6lv8c7rthavshv5/ls3.png?raw=1\">"
   ]
  },
  {
   "cell_type": "markdown",
   "metadata": {
    "slideshow": {
     "slide_type": "slide"
    }
   },
   "source": [
    "# Navigation \n",
    "\n",
    "A useful Linux command is `pwd` which returns information about the current position in the file system tree, or the **path to working directory**. For example you can run\n",
    "\n",
    "`pwd`\n",
    "\n",
    "to find out your current position in the tree. You can also find documentation about the program `pwd` using\n",
    "\n",
    "`man pwd`"
   ]
  },
  {
   "cell_type": "markdown",
   "metadata": {
    "slideshow": {
     "slide_type": "slide"
    }
   },
   "source": [
    "<img src=\"https://www.dropbox.com/s/aded2zbk8u9xvzo/pwd.png?raw=1\">"
   ]
  },
  {
   "cell_type": "markdown",
   "metadata": {
    "slideshow": {
     "slide_type": "slide"
    }
   },
   "source": [
    "The `ls` command shows regular files with their extensions, but also directories that begin at the current location in the tree. You can move to other directories with the command `cd`.\n",
    "\n",
    "`cd dirname`\n",
    "\n",
    "which changes to some \"lower\" directory in the tree named `dirname`. Following this command, your position in the file system tree is different, as seen using the command  `pwd`. "
   ]
  },
  {
   "cell_type": "markdown",
   "metadata": {
    "slideshow": {
     "slide_type": "slide"
    }
   },
   "source": [
    "<img src=\"https://www.dropbox.com/s/66jteytt5ni7uxk/cd1.png?raw=1\">"
   ]
  },
  {
   "cell_type": "markdown",
   "metadata": {
    "slideshow": {
     "slide_type": "slide"
    }
   },
   "source": [
    "You can return to the \"upper\" directory in the tree using the command\n",
    "\n",
    "`cd ..`"
   ]
  },
  {
   "cell_type": "markdown",
   "metadata": {
    "slideshow": {
     "slide_type": "slide"
    }
   },
   "source": [
    "<img src=\"https://www.dropbox.com/s/92ubxsti8616zd7/cd2.png?raw=1\">"
   ]
  },
  {
   "cell_type": "markdown",
   "metadata": {
    "slideshow": {
     "slide_type": "slide"
    }
   },
   "source": [
    "You can return to your `HOME` directory from anywhere in the tree using the command\n",
    "\n",
    "`cd ~`\n",
    "\n",
    "or\n",
    "\n",
    "`cd $HOME`\n",
    "\n",
    "or simply by typing\n",
    "\n",
    "`cd`"
   ]
  },
  {
   "cell_type": "markdown",
   "metadata": {
    "slideshow": {
     "slide_type": "slide"
    }
   },
   "source": [
    "# Add/remove\n",
    "\n",
    "You can make new empty files using the command\n",
    "\n",
    "`touch filename`\n",
    "\n",
    "and you can remove a file using the command\n",
    "\n",
    "`rm filename`\n",
    "\n",
    "The command `touch` cam also be used to change the *last modified* time of a file. You can check the time a file was last modified using a long `ls` command."
   ]
  },
  {
   "cell_type": "markdown",
   "metadata": {
    "slideshow": {
     "slide_type": "slide"
    }
   },
   "source": [
    "Likewise, you can make new directories using the command\n",
    "\n",
    "`mkdir dirname`\n",
    "\n",
    "and you can remove directories using the command\n",
    "\n",
    "`rmdir dirname`"
   ]
  },
  {
   "cell_type": "markdown",
   "metadata": {
    "slideshow": {
     "slide_type": "slide"
    }
   },
   "source": [
    "<img src=\"https://www.dropbox.com/s/d4hi3pedoutsiqk/touch.png?raw=1\">"
   ]
  },
  {
   "cell_type": "markdown",
   "metadata": {
    "slideshow": {
     "slide_type": "slide"
    }
   },
   "source": [
    "You cannot remove a directory unless it is empty. Alternatively, you can force directory removal by issuing a recursive `rm` command with the `-r` flag\n",
    "\n",
    "`rm -r dirname`\n",
    "\n",
    "**Be careful** - this command removes the directory **dirname** and all files and other directories contained in it. You can erase a lot of files with this command and will not be able to recover them."
   ]
  },
  {
   "cell_type": "markdown",
   "metadata": {
    "slideshow": {
     "slide_type": "slide"
    }
   },
   "source": [
    "<img src=\"https://www.dropbox.com/s/zmy9e82ypiu73s4/rm.png?raw=1\">"
   ]
  },
  {
   "cell_type": "markdown",
   "metadata": {
    "slideshow": {
     "slide_type": "slide"
    }
   },
   "source": [
    "# Wildcards\n",
    "\n",
    "You can act on specific groups of files using wildcards. For example, \n",
    "\n",
    "`ls -l *.py`\n",
    "\n",
    "lists all the files with the `.py` extension, i.e. the Python files. The command\n",
    "\n",
    "`ls -ltr e*.py`\n",
    "\n",
    "lists all files whose name begins with letter 'e'. "
   ]
  },
  {
   "cell_type": "markdown",
   "metadata": {
    "slideshow": {
     "slide_type": "slide"
    }
   },
   "source": [
    "The command\n",
    "\n",
    "`ls -ltr e???.py`\n",
    "\n",
    "lists all Python files with a name composed of 4 characters starting with an 'e'. The command \n",
    "\n",
    "`ls -ltr *.*py*`\n",
    "\n",
    "lists all the files whose extension contains the letters 'py' in any configuration (alone, preceded or followed by other characters, etc)."
   ]
  },
  {
   "cell_type": "markdown",
   "metadata": {
    "slideshow": {
     "slide_type": "slide"
    }
   },
   "source": [
    "<img src=\"https://www.dropbox.com/s/h4jn51lmbgj6vv9/wild.png?raw=1\">"
   ]
  },
  {
   "cell_type": "markdown",
   "metadata": {
    "slideshow": {
     "slide_type": "slide"
    }
   },
   "source": [
    "# Configuration\n",
    "\n",
    "The configuration file for `bash` is located in the home directory and it is named \n",
    "\n",
    "`.bashrc`\n",
    "\n",
    "It is a hidden file (its name starts with a dot), which you can only see with a `ls` executed with the '-a' option.\n",
    "\n",
    "<img src=\"https://www.dropbox.com/s/aomp4ec0v4nieg5/bashrc.png?raw=1\">"
   ]
  },
  {
   "cell_type": "markdown",
   "metadata": {
    "slideshow": {
     "slide_type": "slide"
    }
   },
   "source": [
    "# Aliases\n",
    "\n",
    "For long commands used frequently we can use **aliases** which reduce typing. For example, the long listing command \n",
    "\n",
    "`ls -ltr`\n",
    "\n",
    "is frequently used. It makes sense to define an alias\n",
    "\n",
    "`alias l=ls -ltr`\n",
    "\n",
    "and then simply issue the command\n",
    "\n",
    "`l`\n",
    "\n",
    "to get the same behavior of `ls -ltr`, i.e. long listing with files sorted by time in reverse order. You can remove an alias using the command `unalias`, for example\n",
    "\n",
    "`unalias l`"
   ]
  },
  {
   "cell_type": "markdown",
   "metadata": {
    "slideshow": {
     "slide_type": "slide"
    }
   },
   "source": [
    "<img src=\"https://www.dropbox.com/s/tgdnq4vogffrxrz/alias1.png?raw=1\">"
   ]
  },
  {
   "cell_type": "markdown",
   "metadata": {
    "slideshow": {
     "slide_type": "slide"
    }
   },
   "source": [
    "This way of defining aliases is volatile, since it only applies to the terminal in which it was issued. We can make this alias permanent by adding it the configuration file of the **bash** shell. To do that, open the bash configuration file \n",
    "\n",
    "`~/.bashrc`\n",
    "\n",
    "with a text editor and then add your alias at the bottom of the file."
   ]
  },
  {
   "cell_type": "markdown",
   "metadata": {
    "slideshow": {
     "slide_type": "slide"
    }
   },
   "source": [
    "<img src=\"https://www.dropbox.com/s/jzc2trgp3a7dh26/alias2.png?raw=1\">"
   ]
  },
  {
   "cell_type": "markdown",
   "metadata": {
    "slideshow": {
     "slide_type": "slide"
    }
   },
   "source": [
    "# Move\n",
    "\n",
    "You can move a file to another by using the command `mv`\n",
    "\n",
    "`mv filename1 filename2`\n",
    "\n",
    "or \n",
    "\n",
    "`mv filename1 dirname`\n",
    "\n",
    "or \n",
    "\n",
    "`mv <filename1 dirname/filename2`"
   ]
  },
  {
   "cell_type": "markdown",
   "metadata": {
    "slideshow": {
     "slide_type": "slide"
    }
   },
   "source": [
    "<img src=\"https://www.dropbox.com/s/f0h6j2uccawj692/mv1.png?raw=1\">"
   ]
  },
  {
   "cell_type": "markdown",
   "metadata": {
    "slideshow": {
     "slide_type": "slide"
    }
   },
   "source": [
    "You can move an entire directory into another with the same command\n",
    "\n",
    "`mv dirname1 dirname2`\n",
    "\n",
    "The command `mv` is how we rename files in Linux."
   ]
  },
  {
   "cell_type": "markdown",
   "metadata": {
    "slideshow": {
     "slide_type": "slide"
    }
   },
   "source": [
    "<img src=\"https://www.dropbox.com/s/clim25ym5tz6zjf/mv2.png?raw=1\">"
   ]
  },
  {
   "cell_type": "markdown",
   "metadata": {
    "slideshow": {
     "slide_type": "slide"
    }
   },
   "source": [
    "# Display\n",
    "\n",
    "You can view the content of a file in the terminal screen using the command\n",
    "\n",
    "`cat filename`"
   ]
  },
  {
   "cell_type": "markdown",
   "metadata": {
    "slideshow": {
     "slide_type": "slide"
    }
   },
   "source": [
    "<img src=\"https://www.dropbox.com/s/w47umni8y4p473q/cat1.png?raw=1\">"
   ]
  },
  {
   "cell_type": "markdown",
   "metadata": {
    "slideshow": {
     "slide_type": "slide"
    }
   },
   "source": [
    "If the file is long and you want to see individual pages of the file, pipe the output of `cat` into the program `more`\n",
    "\n",
    "`cat filename | more`"
   ]
  },
  {
   "cell_type": "markdown",
   "metadata": {
    "slideshow": {
     "slide_type": "slide"
    }
   },
   "source": [
    "<img src=\"https://www.dropbox.com/s/9nofnuansyx1y77/cat2.png?raw=1\">"
   ]
  },
  {
   "cell_type": "markdown",
   "metadata": {
    "slideshow": {
     "slide_type": "slide"
    }
   },
   "source": [
    "If you want to see the last few lines of a file, use the program `tail`\n",
    "\n",
    "`tail filename`"
   ]
  },
  {
   "cell_type": "markdown",
   "metadata": {
    "slideshow": {
     "slide_type": "slide"
    }
   },
   "source": [
    "<img src=\"https://www.dropbox.com/s/oenrrjoy9qirh8c/tail.png?raw=1\">"
   ]
  },
  {
   "cell_type": "markdown",
   "metadata": {
    "slideshow": {
     "slide_type": "slide"
    }
   },
   "source": [
    "If we want more clarity of the information displayed in the terminal, you can clear it before running a new command that displays information using\n",
    "\n",
    "`clear`"
   ]
  },
  {
   "cell_type": "markdown",
   "metadata": {
    "slideshow": {
     "slide_type": "slide"
    }
   },
   "source": [
    "# Permissions\n",
    "\n",
    "Every file on a Linux system is characterized by access permissions, which can be\n",
    "* read (`r`)\n",
    "* write (`w`)\n",
    "* execute (`x`)\n",
    "\n",
    "Permissions are granted to\n",
    "* the **user** (the person logged into the system)\n",
    "* the **group** (the group to which the user belongs)\n",
    "* **other** (all other users)\n",
    "\n",
    "The permissions are listed in order for the user/group/other. "
   ]
  },
  {
   "cell_type": "markdown",
   "metadata": {
    "slideshow": {
     "slide_type": "slide"
    }
   },
   "source": [
    "For example\n",
    "\n",
    "<img src=\"https://www.dropbox.com/s/hahh8ybmhsfhnl8/perm1.png?raw=1\">\n",
    "\n",
    "indicates that the file `aa.sh` grants the user read and write permissions, while the group and other have only read permissions."
   ]
  },
  {
   "cell_type": "markdown",
   "metadata": {
    "slideshow": {
     "slide_type": "slide"
    }
   },
   "source": [
    "We can add **execute** permissions to the **user** using the command\n",
    "\n",
    "`chmod u+x filename`\n",
    "\n",
    "The file `aa.sh` is now executable, so its user permissions are `rwx`. The terminal shows the file in green to indicates its new executable status."
   ]
  },
  {
   "cell_type": "markdown",
   "metadata": {
    "slideshow": {
     "slide_type": "slide"
    }
   },
   "source": [
    "<img src=\"https://www.dropbox.com/s/0zaroihy6nbj2rz/perm2.png?raw=1\">"
   ]
  },
  {
   "cell_type": "markdown",
   "metadata": {
    "slideshow": {
     "slide_type": "slide"
    }
   },
   "source": [
    "# History\n",
    "\n",
    "Occasionally we may want to repeat a command we have executed previously. We can get a listing of the previous commands using the program\n",
    "\n",
    "`history`\n",
    "\n",
    "We can select an earlier command by highlighting and  pasting it in the terminal using the middle mouse button. Alternatively, we can call an earlier command using its number\n",
    "\n",
    "`!number`"
   ]
  },
  {
   "cell_type": "markdown",
   "metadata": {
    "slideshow": {
     "slide_type": "slide"
    }
   },
   "source": [
    "<img src=\"https://www.dropbox.com/s/eetahbq7eisrvgk/hist.png?raw=1\">"
   ]
  },
  {
   "cell_type": "markdown",
   "metadata": {
    "slideshow": {
     "slide_type": "slide"
    }
   },
   "source": [
    "# Path\n",
    "\n",
    "The Linux programs are available in the file system as executable files. The shell knows knows where to find the programs by interrogating an environment variable called `$PATH`. We can find the content of this variable using\n",
    "\n",
    "`echo $PATH`\n",
    "\n",
    "or \n",
    "\n",
    "`env | grep PATH`"
   ]
  },
  {
   "cell_type": "markdown",
   "metadata": {
    "slideshow": {
     "slide_type": "slide"
    }
   },
   "source": [
    "<img src=\"https://www.dropbox.com/s/qqziwj4vwuy66e9/path1.png?raw=1\">"
   ]
  },
  {
   "cell_type": "markdown",
   "metadata": {
    "slideshow": {
     "slide_type": "slide"
    }
   },
   "source": [
    "We can also find the path to a given program using the command\n",
    "\n",
    "`which progName`"
   ]
  },
  {
   "cell_type": "markdown",
   "metadata": {
    "slideshow": {
     "slide_type": "slide"
    }
   },
   "source": [
    "<img src=\"https://www.dropbox.com/s/j79rkp4dz9e7jpp/which.png?raw=1\">"
   ]
  },
  {
   "cell_type": "markdown",
   "metadata": {
    "slideshow": {
     "slide_type": "slide"
    }
   },
   "source": [
    "File positions in the tree can be defined either using their **absolute path**, or their **relative path** to our current position in the tree:"
   ]
  },
  {
   "cell_type": "markdown",
   "metadata": {
    "slideshow": {
     "slide_type": "slide"
    }
   },
   "source": [
    "<img src=\"https://www.dropbox.com/s/simgktrh7t3i36a/path2.png?raw=1\">"
   ]
  },
  {
   "cell_type": "markdown",
   "metadata": {
    "slideshow": {
     "slide_type": "slide"
    }
   },
   "source": [
    "# Links\n",
    "\n",
    "We may occasionally want to make a certain directory available at multiple locations in the file tree, but without making multiple copies. Copies are not productive, as files might be modified differently in different directories and therefore go out of sync. \n",
    "\n",
    "The solution is to use **symbolic links** generated with the program `ln`\n",
    "\n",
    "`ln -s targetdir linkname`"
   ]
  },
  {
   "cell_type": "markdown",
   "metadata": {
    "slideshow": {
     "slide_type": "slide"
    }
   },
   "source": [
    "<img src=\"https://www.dropbox.com/s/yzu0wxz0y2dwuls/ln.png?raw=1\">"
   ]
  },
  {
   "cell_type": "markdown",
   "metadata": {
    "slideshow": {
     "slide_type": "slide"
    }
   },
   "source": [
    "A link can be removed using the program `unlink`\n",
    "\n",
    "`unlink linkname`"
   ]
  }
 ],
 "metadata": {
  "celltoolbar": "Slideshow",
  "kernelspec": {
   "display_name": "Python 3",
   "language": "python",
   "name": "python3"
  },
  "language_info": {
   "codemirror_mode": {
    "name": "ipython",
    "version": 3
   },
   "file_extension": ".py",
   "mimetype": "text/x-python",
   "name": "python",
   "nbconvert_exporter": "python",
   "pygments_lexer": "ipython3",
   "version": "3.8.3"
  },
  "varInspector": {
   "cols": {
    "lenName": 16,
    "lenType": 16,
    "lenVar": 40
   },
   "kernels_config": {
    "python": {
     "delete_cmd_postfix": "",
     "delete_cmd_prefix": "del ",
     "library": "var_list.py",
     "varRefreshCmd": "print(var_dic_list())"
    },
    "r": {
     "delete_cmd_postfix": ") ",
     "delete_cmd_prefix": "rm(",
     "library": "var_list.r",
     "varRefreshCmd": "cat(var_dic_list()) "
    }
   },
   "types_to_exclude": [
    "module",
    "function",
    "builtin_function_or_method",
    "instance",
    "_Feature"
   ],
   "window_display": false
  }
 },
 "nbformat": 4,
 "nbformat_minor": 2
}
