{
 "cells": [
  {
   "cell_type": "markdown",
   "metadata": {
    "slideshow": {
     "slide_type": "slide"
    }
   },
   "source": [
    "<img src=\"https://www.mines.edu/webcentral/wp-content/uploads/sites/267/2019/02/horizontallightbackground.jpg\" width=\"100%\"> \n",
    "### CSCI250 Python Computing: Building a Sensor System\n",
    "<hr style=\"height:5px\" width=\"100%\" align=\"left\">\n",
    "\n",
    "# Python keywords"
   ]
  },
  {
   "cell_type": "markdown",
   "metadata": {
    "slideshow": {
     "slide_type": "slide"
    }
   },
   "source": [
    "# Objectives\n",
    "* summarize the main Python keywords\n",
    "* practice basic operations with Python keywords"
   ]
  },
  {
   "cell_type": "markdown",
   "metadata": {
    "slideshow": {
     "slide_type": "slide"
    }
   },
   "source": [
    "# Resources\n",
    "* [Python introduction](https://docs.python.org/3/tutorial)\n",
    "* [Programiz Python tutorial](https://www.programiz.com/python-programming/keyword-list)"
   ]
  },
  {
   "cell_type": "markdown",
   "metadata": {
    "slideshow": {
     "slide_type": "slide"
    }
   },
   "source": [
    "# Definition\n",
    "\n",
    "**Reserved words** that define Python syntax and structure:\n",
    "\n",
    "* cannot be identifiers (functions, variables,...)\n",
    "* are case sensitive\n",
    "\n"
   ]
  },
  {
   "cell_type": "markdown",
   "metadata": {
    "slideshow": {
     "slide_type": "slide"
    }
   },
   "source": [
    "# `keyword` list"
   ]
  },
  {
   "cell_type": "code",
   "execution_count": 10,
   "metadata": {
    "scrolled": false,
    "slideshow": {
     "slide_type": "-"
    }
   },
   "outputs": [
    {
     "name": "stdout",
     "output_type": "stream",
     "text": [
      "['False', 'None', 'True', '__peg_parser__', 'and', 'as', 'assert', 'async', 'await', 'break', 'class', 'continue', 'def', 'del', 'elif', 'else', 'except', 'finally', 'for', 'from', 'global', 'if', 'import', 'in', 'is', 'lambda', 'nonlocal', 'not', 'or', 'pass', 'raise', 'return', 'try', 'while', 'with', 'yield']\n"
     ]
    }
   ],
   "source": [
    "import keyword\n",
    "print( keyword.kwlist )"
   ]
  },
  {
   "cell_type": "markdown",
   "metadata": {
    "slideshow": {
     "slide_type": "slide"
    }
   },
   "source": [
    "<img src=\"http://www.dropbox.com/s/fcucolyuzdjl80k/todo.jpg?raw=1\" width=\"10%\" align=\"right\">\n",
    "\n",
    "Add cells to practice with each of the Python keywords.\n",
    "\n",
    "Use the `help()` function to learn about each keyword."
   ]
  },
  {
   "cell_type": "code",
   "execution_count": 14,
   "metadata": {},
   "outputs": [
    {
     "name": "stdout",
     "output_type": "stream",
     "text": [
      "Lambdas\n",
      "*******\n",
      "\n",
      "   lambda_expr        ::= \"lambda\" [parameter_list] \":\" expression\n",
      "   lambda_expr_nocond ::= \"lambda\" [parameter_list] \":\" expression_nocond\n",
      "\n",
      "Lambda expressions (sometimes called lambda forms) are used to create\n",
      "anonymous functions. The expression \"lambda parameters: expression\"\n",
      "yields a function object.  The unnamed object behaves like a function\n",
      "object defined with:\n",
      "\n",
      "   def <lambda>(parameters):\n",
      "       return expression\n",
      "\n",
      "See section Function definitions for the syntax of parameter lists.\n",
      "Note that functions created with lambda expressions cannot contain\n",
      "statements or annotations.\n",
      "\n",
      "Related help topics: FUNCTIONS\n",
      "\n"
     ]
    }
   ],
   "source": [
    "help('lambda')"
   ]
  },
  {
   "cell_type": "code",
   "execution_count": 1,
   "metadata": {
    "scrolled": true
   },
   "outputs": [
    {
     "name": "stdout",
     "output_type": "stream",
     "text": [
      "The \"import\" statement\n",
      "**********************\n",
      "\n",
      "   import_stmt     ::= \"import\" module [\"as\" identifier] (\",\" module [\"as\" identifier])*\n",
      "                   | \"from\" relative_module \"import\" identifier [\"as\" identifier]\n",
      "                   (\",\" identifier [\"as\" identifier])*\n",
      "                   | \"from\" relative_module \"import\" \"(\" identifier [\"as\" identifier]\n",
      "                   (\",\" identifier [\"as\" identifier])* [\",\"] \")\"\n",
      "                   | \"from\" module \"import\" \"*\"\n",
      "   module          ::= (identifier \".\")* identifier\n",
      "   relative_module ::= \".\"* module | \".\"+\n",
      "\n",
      "The basic import statement (no \"from\" clause) is executed in two\n",
      "steps:\n",
      "\n",
      "1. find a module, loading and initializing it if necessary\n",
      "\n",
      "2. define a name or names in the local namespace for the scope where\n",
      "   the \"import\" statement occurs.\n",
      "\n",
      "When the statement contains multiple clauses (separated by commas) the\n",
      "two steps are carried out separately for each clause, just as though\n",
      "the clauses had been separated out into individual import statements.\n",
      "\n",
      "The details of the first step, finding and loading modules are\n",
      "described in greater detail in the section on the import system, which\n",
      "also describes the various types of packages and modules that can be\n",
      "imported, as well as all the hooks that can be used to customize the\n",
      "import system. Note that failures in this step may indicate either\n",
      "that the module could not be located, *or* that an error occurred\n",
      "while initializing the module, which includes execution of the\n",
      "module’s code.\n",
      "\n",
      "If the requested module is retrieved successfully, it will be made\n",
      "available in the local namespace in one of three ways:\n",
      "\n",
      "* If the module name is followed by \"as\", then the name following \"as\"\n",
      "  is bound directly to the imported module.\n",
      "\n",
      "* If no other name is specified, and the module being imported is a\n",
      "  top level module, the module’s name is bound in the local namespace\n",
      "  as a reference to the imported module\n",
      "\n",
      "* If the module being imported is *not* a top level module, then the\n",
      "  name of the top level package that contains the module is bound in\n",
      "  the local namespace as a reference to the top level package. The\n",
      "  imported module must be accessed using its full qualified name\n",
      "  rather than directly\n",
      "\n",
      "The \"from\" form uses a slightly more complex process:\n",
      "\n",
      "1. find the module specified in the \"from\" clause, loading and\n",
      "   initializing it if necessary;\n",
      "\n",
      "2. for each of the identifiers specified in the \"import\" clauses:\n",
      "\n",
      "   1. check if the imported module has an attribute by that name\n",
      "\n",
      "   2. if not, attempt to import a submodule with that name and then\n",
      "      check the imported module again for that attribute\n",
      "\n",
      "   3. if the attribute is not found, \"ImportError\" is raised.\n",
      "\n",
      "   4. otherwise, a reference to that value is stored in the local\n",
      "      namespace, using the name in the \"as\" clause if it is present,\n",
      "      otherwise using the attribute name\n",
      "\n",
      "Examples:\n",
      "\n",
      "   import foo                 # foo imported and bound locally\n",
      "   import foo.bar.baz         # foo.bar.baz imported, foo bound locally\n",
      "   import foo.bar.baz as fbb  # foo.bar.baz imported and bound as fbb\n",
      "   from foo.bar import baz    # foo.bar.baz imported and bound as baz\n",
      "   from foo import attr       # foo imported and foo.attr bound as attr\n",
      "\n",
      "If the list of identifiers is replaced by a star (\"'*'\"), all public\n",
      "names defined in the module are bound in the local namespace for the\n",
      "scope where the \"import\" statement occurs.\n",
      "\n",
      "The *public names* defined by a module are determined by checking the\n",
      "module’s namespace for a variable named \"__all__\"; if defined, it must\n",
      "be a sequence of strings which are names defined or imported by that\n",
      "module.  The names given in \"__all__\" are all considered public and\n",
      "are required to exist.  If \"__all__\" is not defined, the set of public\n",
      "names includes all names found in the module’s namespace which do not\n",
      "begin with an underscore character (\"'_'\").  \"__all__\" should contain\n",
      "the entire public API. It is intended to avoid accidentally exporting\n",
      "items that are not part of the API (such as library modules which were\n",
      "imported and used within the module).\n",
      "\n",
      "The wild card form of import — \"from module import *\" — is only\n",
      "allowed at the module level.  Attempting to use it in class or\n",
      "function definitions will raise a \"SyntaxError\".\n",
      "\n",
      "When specifying what module to import you do not have to specify the\n",
      "absolute name of the module. When a module or package is contained\n",
      "within another package it is possible to make a relative import within\n",
      "the same top package without having to mention the package name. By\n",
      "using leading dots in the specified module or package after \"from\" you\n",
      "can specify how high to traverse up the current package hierarchy\n",
      "without specifying exact names. One leading dot means the current\n",
      "package where the module making the import exists. Two dots means up\n",
      "one package level. Three dots is up two levels, etc. So if you execute\n",
      "\"from . import mod\" from a module in the \"pkg\" package then you will\n",
      "end up importing \"pkg.mod\". If you execute \"from ..subpkg2 import mod\"\n",
      "from within \"pkg.subpkg1\" you will import \"pkg.subpkg2.mod\". The\n",
      "specification for relative imports is contained in the Package\n",
      "Relative Imports section.\n",
      "\n",
      "\"importlib.import_module()\" is provided to support applications that\n",
      "determine dynamically the modules to be loaded.\n",
      "\n",
      "Raises an auditing event \"import\" with arguments \"module\", \"filename\",\n",
      "\"sys.path\", \"sys.meta_path\", \"sys.path_hooks\".\n",
      "\n",
      "\n",
      "Future statements\n",
      "=================\n",
      "\n",
      "A *future statement* is a directive to the compiler that a particular\n",
      "module should be compiled using syntax or semantics that will be\n",
      "available in a specified future release of Python where the feature\n",
      "becomes standard.\n",
      "\n",
      "The future statement is intended to ease migration to future versions\n",
      "of Python that introduce incompatible changes to the language.  It\n",
      "allows use of the new features on a per-module basis before the\n",
      "release in which the feature becomes standard.\n",
      "\n",
      "   future_stmt ::= \"from\" \"__future__\" \"import\" feature [\"as\" identifier]\n",
      "                   (\",\" feature [\"as\" identifier])*\n",
      "                   | \"from\" \"__future__\" \"import\" \"(\" feature [\"as\" identifier]\n",
      "                   (\",\" feature [\"as\" identifier])* [\",\"] \")\"\n",
      "   feature     ::= identifier\n",
      "\n",
      "A future statement must appear near the top of the module.  The only\n",
      "lines that can appear before a future statement are:\n",
      "\n",
      "* the module docstring (if any),\n",
      "\n",
      "* comments,\n",
      "\n",
      "* blank lines, and\n",
      "\n",
      "* other future statements.\n",
      "\n",
      "The only feature that requires using the future statement is\n",
      "\"annotations\" (see **PEP 563**).\n",
      "\n",
      "All historical features enabled by the future statement are still\n",
      "recognized by Python 3.  The list includes \"absolute_import\",\n",
      "\"division\", \"generators\", \"generator_stop\", \"unicode_literals\",\n",
      "\"print_function\", \"nested_scopes\" and \"with_statement\".  They are all\n",
      "redundant because they are always enabled, and only kept for backwards\n",
      "compatibility.\n",
      "\n",
      "A future statement is recognized and treated specially at compile\n",
      "time: Changes to the semantics of core constructs are often\n",
      "implemented by generating different code.  It may even be the case\n",
      "that a new feature introduces new incompatible syntax (such as a new\n",
      "reserved word), in which case the compiler may need to parse the\n",
      "module differently.  Such decisions cannot be pushed off until\n",
      "runtime.\n",
      "\n",
      "For any given release, the compiler knows which feature names have\n",
      "been defined, and raises a compile-time error if a future statement\n",
      "contains a feature not known to it.\n",
      "\n",
      "The direct runtime semantics are the same as for any import statement:\n",
      "there is a standard module \"__future__\", described later, and it will\n",
      "be imported in the usual way at the time the future statement is\n",
      "executed.\n",
      "\n",
      "The interesting runtime semantics depend on the specific feature\n",
      "enabled by the future statement.\n",
      "\n",
      "Note that there is nothing special about the statement:\n",
      "\n",
      "   import __future__ [as name]\n",
      "\n",
      "That is not a future statement; it’s an ordinary import statement with\n",
      "no special semantics or syntax restrictions.\n",
      "\n",
      "Code compiled by calls to the built-in functions \"exec()\" and\n",
      "\"compile()\" that occur in a module \"M\" containing a future statement\n",
      "will, by default, use the new syntax or semantics associated with the\n",
      "future statement.  This can be controlled by optional arguments to\n",
      "\"compile()\" — see the documentation of that function for details.\n",
      "\n",
      "A future statement typed at an interactive interpreter prompt will\n",
      "take effect for the rest of the interpreter session.  If an\n",
      "interpreter is started with the \"-i\" option, is passed a script name\n",
      "to execute, and the script includes a future statement, it will be in\n",
      "effect in the interactive session started after the script is\n",
      "executed.\n",
      "\n",
      "See also:\n",
      "\n",
      "  **PEP 236** - Back to the __future__\n",
      "     The original proposal for the __future__ mechanism.\n",
      "\n",
      "Related help topics: MODULES\n",
      "\n"
     ]
    }
   ],
   "source": [
    "help('from') # list keyword in quotes"
   ]
  },
  {
   "cell_type": "markdown",
   "metadata": {
    "slideshow": {
     "slide_type": "slide"
    }
   },
   "source": [
    "# `True`, `False`, `None`\n",
    "\n",
    "* `True`,`False`: Boolean logical values\n",
    "* `None`: indicates absence of a value"
   ]
  },
  {
   "cell_type": "code",
   "execution_count": 2,
   "metadata": {
    "slideshow": {
     "slide_type": "-"
    }
   },
   "outputs": [
    {
     "data": {
      "text/plain": [
       "True"
      ]
     },
     "execution_count": 2,
     "metadata": {},
     "output_type": "execute_result"
    }
   ],
   "source": [
    "2 > 1"
   ]
  },
  {
   "cell_type": "code",
   "execution_count": 3,
   "metadata": {
    "slideshow": {
     "slide_type": "-"
    }
   },
   "outputs": [
    {
     "data": {
      "text/plain": [
       "False"
      ]
     },
     "execution_count": 3,
     "metadata": {},
     "output_type": "execute_result"
    }
   ],
   "source": [
    "1 > 2"
   ]
  },
  {
   "cell_type": "code",
   "execution_count": 6,
   "metadata": {},
   "outputs": [
    {
     "ename": "TypeError",
     "evalue": "unsupported operand type(s) for +: 'int' and 'NoneType'",
     "output_type": "error",
     "traceback": [
      "\u001b[0;31m---------------------------------------------------------------------------\u001b[0m",
      "\u001b[0;31mTypeError\u001b[0m                                 Traceback (most recent call last)",
      "Input \u001b[0;32mIn [6]\u001b[0m, in \u001b[0;36m<cell line: 2>\u001b[0;34m()\u001b[0m\n\u001b[1;32m      1\u001b[0m a,b \u001b[38;5;241m=\u001b[39m \u001b[38;5;241m2\u001b[39m, \u001b[38;5;28;01mNone\u001b[39;00m\n\u001b[0;32m----> 2\u001b[0m \u001b[38;5;28mprint\u001b[39m(a,\u001b[43ma\u001b[49m\u001b[38;5;241;43m+\u001b[39;49m\u001b[43mb\u001b[49m)\n",
      "\u001b[0;31mTypeError\u001b[0m: unsupported operand type(s) for +: 'int' and 'NoneType'"
     ]
    }
   ],
   "source": [
    "a,b = 2, None\n",
    "print(a,a+b)"
   ]
  },
  {
   "cell_type": "markdown",
   "metadata": {
    "slideshow": {
     "slide_type": "slide"
    }
   },
   "source": [
    "# `and`, `or`, `not`\n",
    "\n",
    "* `and` is `True` only if both operands are `True`\n",
    "* `or` is `True` if any of the operands is `True`\n",
    "* `not` inverts the truth value"
   ]
  },
  {
   "cell_type": "code",
   "execution_count": 7,
   "metadata": {
    "slideshow": {
     "slide_type": "-"
    }
   },
   "outputs": [
    {
     "name": "stdout",
     "output_type": "stream",
     "text": [
      "True False\n"
     ]
    }
   ],
   "source": [
    "a = True\n",
    "\n",
    "print(a, not a)"
   ]
  },
  {
   "cell_type": "code",
   "execution_count": 8,
   "metadata": {
    "slideshow": {
     "slide_type": "-"
    }
   },
   "outputs": [
    {
     "name": "stdout",
     "output_type": "stream",
     "text": [
      "True False False\n",
      "True False True\n"
     ]
    }
   ],
   "source": [
    "b = False\n",
    "\n",
    "print(a,b, a and b)\n",
    "print(a,b, a  or b)"
   ]
  },
  {
   "cell_type": "markdown",
   "metadata": {
    "slideshow": {
     "slide_type": "slide"
    }
   },
   "source": [
    "# `if`, `else`, `elif`\n",
    "\n",
    "Used for conditional branching or decision making.\n",
    "\n",
    "***\n",
    "<img src=\"https://www.dropbox.com/s/u628vjn2uc5h3ua/notebook.png?raw=1\" width=\"10%\" align=\"right\">\n",
    "\n",
    "See the [conditionals notebook](s_PyConditionals.ipynb) for more info."
   ]
  },
  {
   "cell_type": "code",
   "execution_count": 17,
   "metadata": {
    "slideshow": {
     "slide_type": "-"
    }
   },
   "outputs": [
    {
     "name": "stdout",
     "output_type": "stream",
     "text": [
      "a is bigger\n"
     ]
    }
   ],
   "source": [
    "# assignment to two int variables\n",
    "a,b = 2,1\n",
    "\n",
    "# logical comparison of the ints\n",
    "if a > b:\n",
    "    print(\"a is bigger\")\n",
    "elif a < b:\n",
    "    print(\"b is bigger\")\n",
    "else:\n",
    "    print(\"a and b are equal\")"
   ]
  },
  {
   "cell_type": "markdown",
   "metadata": {
    "slideshow": {
     "slide_type": "slide"
    }
   },
   "source": [
    "# `assert`\n",
    "\n",
    "`assert condition, error message` \n",
    "\n",
    "* if condition is `True`, nothing happens\n",
    "* if condition is `False`, raise `AssertionError`"
   ]
  },
  {
   "cell_type": "code",
   "execution_count": 20,
   "metadata": {
    "slideshow": {
     "slide_type": "-"
    }
   },
   "outputs": [
    {
     "name": "stdout",
     "output_type": "stream",
     "text": [
      "Enter the time:-1\n"
     ]
    },
    {
     "ename": "AssertionError",
     "evalue": "time cannot be negative",
     "output_type": "error",
     "traceback": [
      "\u001b[0;31m---------------------------------------------------------------------------\u001b[0m",
      "\u001b[0;31mAssertionError\u001b[0m                            Traceback (most recent call last)",
      "Input \u001b[0;32mIn [20]\u001b[0m, in \u001b[0;36m<cell line: 2>\u001b[0;34m()\u001b[0m\n\u001b[1;32m      1\u001b[0m myTime \u001b[38;5;241m=\u001b[39m \u001b[38;5;28mint\u001b[39m(\u001b[38;5;28minput\u001b[39m(\u001b[38;5;124m'\u001b[39m\u001b[38;5;124mEnter the time:\u001b[39m\u001b[38;5;124m'\u001b[39m))\n\u001b[0;32m----> 2\u001b[0m \u001b[38;5;28;01massert\u001b[39;00m myTime \u001b[38;5;241m>\u001b[39m \u001b[38;5;241m0\u001b[39m, \u001b[38;5;124m\"\u001b[39m\u001b[38;5;124mtime cannot be negative\u001b[39m\u001b[38;5;124m\"\u001b[39m\n\u001b[1;32m      4\u001b[0m \u001b[38;5;28mprint\u001b[39m(myTime)\n",
      "\u001b[0;31mAssertionError\u001b[0m: time cannot be negative"
     ]
    }
   ],
   "source": [
    "myTime = int(input('Enter the time:'))\n",
    "assert myTime > 0, \"time cannot be negative\"\n",
    "\n",
    "print(myTime)"
   ]
  },
  {
   "cell_type": "markdown",
   "metadata": {
    "slideshow": {
     "slide_type": "slide"
    }
   },
   "source": [
    "# `del`\n",
    "\n",
    "Used to delete the reference to an object."
   ]
  },
  {
   "cell_type": "code",
   "execution_count": 23,
   "metadata": {
    "slideshow": {
     "slide_type": "-"
    }
   },
   "outputs": [
    {
     "name": "stdout",
     "output_type": "stream",
     "text": [
      "1 2\n"
     ]
    }
   ],
   "source": [
    "a,b = 1,2\n",
    "print(a,b)"
   ]
  },
  {
   "cell_type": "code",
   "execution_count": 22,
   "metadata": {
    "slideshow": {
     "slide_type": "-"
    }
   },
   "outputs": [
    {
     "ename": "NameError",
     "evalue": "name 'b' is not defined",
     "output_type": "error",
     "traceback": [
      "\u001b[0;31m---------------------------------------------------------------------------\u001b[0m",
      "\u001b[0;31mNameError\u001b[0m                                 Traceback (most recent call last)",
      "Input \u001b[0;32mIn [22]\u001b[0m, in \u001b[0;36m<cell line: 2>\u001b[0;34m()\u001b[0m\n\u001b[1;32m      1\u001b[0m \u001b[38;5;28;01mdel\u001b[39;00m(b)\n\u001b[0;32m----> 2\u001b[0m \u001b[38;5;28mprint\u001b[39m(a,\u001b[43mb\u001b[49m)\n",
      "\u001b[0;31mNameError\u001b[0m: name 'b' is not defined"
     ]
    }
   ],
   "source": [
    "del(b)\n",
    "print(a,b)"
   ]
  },
  {
   "cell_type": "markdown",
   "metadata": {
    "slideshow": {
     "slide_type": "slide"
    }
   },
   "source": [
    "# `def`\n",
    "\n",
    "Used to define custom functions. \n",
    "\n",
    "A **function** is a block of code that accomplishes a specific task. \n",
    "\n",
    "Functions are useful to organize code and to reduce its redundancy.\n",
    "\n",
    "***\n",
    "<img src=\"https://www.dropbox.com/s/u628vjn2uc5h3ua/notebook.png?raw=1\" width=\"10%\" align=\"right\">\n",
    "\n",
    "See the [functions notebook](s_PyFunctions.ipynb) for more info."
   ]
  },
  {
   "cell_type": "markdown",
   "metadata": {
    "slideshow": {
     "slide_type": "slide"
    }
   },
   "source": [
    "# `pass`\n",
    "Is a null statement - nothing happens when executed."
   ]
  },
  {
   "cell_type": "code",
   "execution_count": 25,
   "metadata": {},
   "outputs": [],
   "source": [
    "def myRatio(a,b):\n",
    "    pass"
   ]
  },
  {
   "cell_type": "code",
   "execution_count": 26,
   "metadata": {},
   "outputs": [
    {
     "name": "stdout",
     "output_type": "stream",
     "text": [
      "None\n"
     ]
    }
   ],
   "source": [
    "print( myRatio(3.0,2.0))"
   ]
  },
  {
   "cell_type": "markdown",
   "metadata": {
    "slideshow": {
     "slide_type": "slide"
    }
   },
   "source": [
    "# `return`\n",
    "Used inside a function to exit and return a value."
   ]
  },
  {
   "cell_type": "code",
   "execution_count": 27,
   "metadata": {},
   "outputs": [],
   "source": [
    "def myRatio(a,b):\n",
    "    return a / b"
   ]
  },
  {
   "cell_type": "code",
   "execution_count": 28,
   "metadata": {},
   "outputs": [
    {
     "name": "stdout",
     "output_type": "stream",
     "text": [
      "1.5\n"
     ]
    }
   ],
   "source": [
    "print( myRatio(3.0,2.0))"
   ]
  },
  {
   "cell_type": "code",
   "execution_count": 29,
   "metadata": {},
   "outputs": [
    {
     "ename": "ZeroDivisionError",
     "evalue": "float division by zero",
     "output_type": "error",
     "traceback": [
      "\u001b[0;31m---------------------------------------------------------------------------\u001b[0m",
      "\u001b[0;31mZeroDivisionError\u001b[0m                         Traceback (most recent call last)",
      "Input \u001b[0;32mIn [29]\u001b[0m, in \u001b[0;36m<cell line: 1>\u001b[0;34m()\u001b[0m\n\u001b[0;32m----> 1\u001b[0m \u001b[38;5;28mprint\u001b[39m( \u001b[43mmyRatio\u001b[49m\u001b[43m(\u001b[49m\u001b[38;5;241;43m3.0\u001b[39;49m\u001b[43m,\u001b[49m\u001b[38;5;241;43m0.0\u001b[39;49m\u001b[43m)\u001b[49m)\n",
      "Input \u001b[0;32mIn [27]\u001b[0m, in \u001b[0;36mmyRatio\u001b[0;34m(a, b)\u001b[0m\n\u001b[1;32m      1\u001b[0m \u001b[38;5;28;01mdef\u001b[39;00m \u001b[38;5;21mmyRatio\u001b[39m(a,b):\n\u001b[0;32m----> 2\u001b[0m     \u001b[38;5;28;01mreturn\u001b[39;00m \u001b[43ma\u001b[49m\u001b[43m \u001b[49m\u001b[38;5;241;43m/\u001b[39;49m\u001b[43m \u001b[49m\u001b[43mb\u001b[49m\n",
      "\u001b[0;31mZeroDivisionError\u001b[0m: float division by zero"
     ]
    }
   ],
   "source": [
    "print( myRatio(3.0,0.0))"
   ]
  },
  {
   "cell_type": "markdown",
   "metadata": {
    "slideshow": {
     "slide_type": "slide"
    }
   },
   "source": [
    "# `try`, `except`,  `finally`\n",
    "\n",
    "* `try`...`except`: used to catch exceptions\n",
    "    * exceptions are errors indicating that something went wrong during execution. \n",
    "\n",
    "* `finally`: executed even if there is an exception."
   ]
  },
  {
   "cell_type": "code",
   "execution_count": 30,
   "metadata": {
    "slideshow": {
     "slide_type": "slide"
    }
   },
   "outputs": [],
   "source": [
    "def myRatio(a,b):\n",
    "    try:\n",
    "        c = a / b\n",
    "    except(ZeroDivisionError):\n",
    "        print('myR: b cannot be 0') \n",
    "    else:\n",
    "        return c\n",
    "    finally:\n",
    "        print(\"myR: complete\")"
   ]
  },
  {
   "cell_type": "code",
   "execution_count": 31,
   "metadata": {
    "slideshow": {
     "slide_type": "-"
    }
   },
   "outputs": [
    {
     "name": "stdout",
     "output_type": "stream",
     "text": [
      "myR: complete\n",
      "1.5\n"
     ]
    }
   ],
   "source": [
    "print( myRatio(3.0,2.0))"
   ]
  },
  {
   "cell_type": "code",
   "execution_count": 32,
   "metadata": {
    "slideshow": {
     "slide_type": "-"
    }
   },
   "outputs": [
    {
     "name": "stdout",
     "output_type": "stream",
     "text": [
      "myR: b cannot be 0\n",
      "myR: complete\n",
      "None\n"
     ]
    }
   ],
   "source": [
    "print( myRatio(3.0,0.0))"
   ]
  },
  {
   "cell_type": "markdown",
   "metadata": {
    "slideshow": {
     "slide_type": "slide"
    }
   },
   "source": [
    "# `from`, `import`, `as`\n",
    "\n",
    "`import` is used to import modules into the current namespace. \n",
    "\n",
    "`from`…`import` is used to import specific attributes or functions into the current namespace. \n",
    "\n",
    "`as` is used to create an alias while importing a module.\n",
    "\n",
    "***\n",
    "<img src=\"https://www.dropbox.com/s/u628vjn2uc5h3ua/notebook.png?raw=1\" width=\"10%\" align=\"right\">\n",
    "\n",
    "See the [modules notebook](s_PyModules.ipynb) for more info."
   ]
  },
  {
   "cell_type": "code",
   "execution_count": 33,
   "metadata": {
    "scrolled": true,
    "slideshow": {
     "slide_type": "slide"
    }
   },
   "outputs": [
    {
     "name": "stdout",
     "output_type": "stream",
     "text": [
      "Thu Sep 15 14:57:38 2022\n"
     ]
    }
   ],
   "source": [
    "import time\n",
    "print( time.ctime() )"
   ]
  },
  {
   "cell_type": "code",
   "execution_count": 34,
   "metadata": {
    "scrolled": true
   },
   "outputs": [
    {
     "name": "stdout",
     "output_type": "stream",
     "text": [
      "Thu Sep 15 14:57:42 2022\n",
      "Thu Sep 15 14:57:44 2022\n"
     ]
    }
   ],
   "source": [
    "print( time.ctime() )\n",
    "time.sleep(2)\n",
    "print( time.ctime() )"
   ]
  },
  {
   "cell_type": "code",
   "execution_count": 35,
   "metadata": {},
   "outputs": [
    {
     "name": "stdout",
     "output_type": "stream",
     "text": [
      "Help on built-in module time:\n",
      "\n",
      "NAME\n",
      "    time - This module provides various functions to manipulate time values.\n",
      "\n",
      "DESCRIPTION\n",
      "    There are two standard representations of time.  One is the number\n",
      "    of seconds since the Epoch, in UTC (a.k.a. GMT).  It may be an integer\n",
      "    or a floating point number (to represent fractions of seconds).\n",
      "    The Epoch is system-defined; on Unix, it is generally January 1st, 1970.\n",
      "    The actual value can be retrieved by calling gmtime(0).\n",
      "    \n",
      "    The other representation is a tuple of 9 integers giving local time.\n",
      "    The tuple items are:\n",
      "      year (including century, e.g. 1998)\n",
      "      month (1-12)\n",
      "      day (1-31)\n",
      "      hours (0-23)\n",
      "      minutes (0-59)\n",
      "      seconds (0-59)\n",
      "      weekday (0-6, Monday is 0)\n",
      "      Julian day (day in the year, 1-366)\n",
      "      DST (Daylight Savings Time) flag (-1, 0 or 1)\n",
      "    If the DST flag is 0, the time is given in the regular time zone;\n",
      "    if it is 1, the time is given in the DST time zone;\n",
      "    if it is -1, mktime() should guess based on the date and time.\n",
      "\n",
      "CLASSES\n",
      "    builtins.tuple(builtins.object)\n",
      "        struct_time\n",
      "    \n",
      "    class struct_time(builtins.tuple)\n",
      "     |  struct_time(iterable=(), /)\n",
      "     |  \n",
      "     |  The time value as returned by gmtime(), localtime(), and strptime(), and\n",
      "     |  accepted by asctime(), mktime() and strftime().  May be considered as a\n",
      "     |  sequence of 9 integers.\n",
      "     |  \n",
      "     |  Note that several fields' values are not the same as those defined by\n",
      "     |  the C language standard for struct tm.  For example, the value of the\n",
      "     |  field tm_year is the actual year, not year - 1900.  See individual\n",
      "     |  fields' descriptions for details.\n",
      "     |  \n",
      "     |  Method resolution order:\n",
      "     |      struct_time\n",
      "     |      builtins.tuple\n",
      "     |      builtins.object\n",
      "     |  \n",
      "     |  Methods defined here:\n",
      "     |  \n",
      "     |  __reduce__(...)\n",
      "     |      Helper for pickle.\n",
      "     |  \n",
      "     |  __repr__(self, /)\n",
      "     |      Return repr(self).\n",
      "     |  \n",
      "     |  ----------------------------------------------------------------------\n",
      "     |  Static methods defined here:\n",
      "     |  \n",
      "     |  __new__(*args, **kwargs) from builtins.type\n",
      "     |      Create and return a new object.  See help(type) for accurate signature.\n",
      "     |  \n",
      "     |  ----------------------------------------------------------------------\n",
      "     |  Data descriptors defined here:\n",
      "     |  \n",
      "     |  tm_gmtoff\n",
      "     |      offset from UTC in seconds\n",
      "     |  \n",
      "     |  tm_hour\n",
      "     |      hours, range [0, 23]\n",
      "     |  \n",
      "     |  tm_isdst\n",
      "     |      1 if summer time is in effect, 0 if not, and -1 if unknown\n",
      "     |  \n",
      "     |  tm_mday\n",
      "     |      day of month, range [1, 31]\n",
      "     |  \n",
      "     |  tm_min\n",
      "     |      minutes, range [0, 59]\n",
      "     |  \n",
      "     |  tm_mon\n",
      "     |      month of year, range [1, 12]\n",
      "     |  \n",
      "     |  tm_sec\n",
      "     |      seconds, range [0, 61])\n",
      "     |  \n",
      "     |  tm_wday\n",
      "     |      day of week, range [0, 6], Monday is 0\n",
      "     |  \n",
      "     |  tm_yday\n",
      "     |      day of year, range [1, 366]\n",
      "     |  \n",
      "     |  tm_year\n",
      "     |      year, for example, 1993\n",
      "     |  \n",
      "     |  tm_zone\n",
      "     |      abbreviation of timezone name\n",
      "     |  \n",
      "     |  ----------------------------------------------------------------------\n",
      "     |  Data and other attributes defined here:\n",
      "     |  \n",
      "     |  n_fields = 11\n",
      "     |  \n",
      "     |  n_sequence_fields = 9\n",
      "     |  \n",
      "     |  n_unnamed_fields = 0\n",
      "     |  \n",
      "     |  ----------------------------------------------------------------------\n",
      "     |  Methods inherited from builtins.tuple:\n",
      "     |  \n",
      "     |  __add__(self, value, /)\n",
      "     |      Return self+value.\n",
      "     |  \n",
      "     |  __contains__(self, key, /)\n",
      "     |      Return key in self.\n",
      "     |  \n",
      "     |  __eq__(self, value, /)\n",
      "     |      Return self==value.\n",
      "     |  \n",
      "     |  __ge__(self, value, /)\n",
      "     |      Return self>=value.\n",
      "     |  \n",
      "     |  __getattribute__(self, name, /)\n",
      "     |      Return getattr(self, name).\n",
      "     |  \n",
      "     |  __getitem__(self, key, /)\n",
      "     |      Return self[key].\n",
      "     |  \n",
      "     |  __getnewargs__(self, /)\n",
      "     |  \n",
      "     |  __gt__(self, value, /)\n",
      "     |      Return self>value.\n",
      "     |  \n",
      "     |  __hash__(self, /)\n",
      "     |      Return hash(self).\n",
      "     |  \n",
      "     |  __iter__(self, /)\n",
      "     |      Implement iter(self).\n",
      "     |  \n",
      "     |  __le__(self, value, /)\n",
      "     |      Return self<=value.\n",
      "     |  \n",
      "     |  __len__(self, /)\n",
      "     |      Return len(self).\n",
      "     |  \n",
      "     |  __lt__(self, value, /)\n",
      "     |      Return self<value.\n",
      "     |  \n",
      "     |  __mul__(self, value, /)\n",
      "     |      Return self*value.\n",
      "     |  \n",
      "     |  __ne__(self, value, /)\n",
      "     |      Return self!=value.\n",
      "     |  \n",
      "     |  __rmul__(self, value, /)\n",
      "     |      Return value*self.\n",
      "     |  \n",
      "     |  count(self, value, /)\n",
      "     |      Return number of occurrences of value.\n",
      "     |  \n",
      "     |  index(self, value, start=0, stop=2147483647, /)\n",
      "     |      Return first index of value.\n",
      "     |      \n",
      "     |      Raises ValueError if the value is not present.\n",
      "     |  \n",
      "     |  ----------------------------------------------------------------------\n",
      "     |  Class methods inherited from builtins.tuple:\n",
      "     |  \n",
      "     |  __class_getitem__(...) from builtins.type\n",
      "     |      See PEP 585\n",
      "\n",
      "FUNCTIONS\n",
      "    asctime(...)\n",
      "        asctime([tuple]) -> string\n",
      "        \n",
      "        Convert a time tuple to a string, e.g. 'Sat Jun 06 16:26:11 1998'.\n",
      "        When the time tuple is not present, current time as returned by localtime()\n",
      "        is used.\n",
      "    \n",
      "    clock_getres(...)\n",
      "        clock_getres(clk_id) -> floating point number\n",
      "        \n",
      "        Return the resolution (precision) of the specified clock clk_id.\n",
      "    \n",
      "    clock_gettime(...)\n",
      "        clock_gettime(clk_id) -> float\n",
      "        \n",
      "        Return the time of the specified clock clk_id.\n",
      "    \n",
      "    clock_gettime_ns(...)\n",
      "        clock_gettime_ns(clk_id) -> int\n",
      "        \n",
      "        Return the time of the specified clock clk_id as nanoseconds.\n",
      "    \n",
      "    clock_settime(...)\n",
      "        clock_settime(clk_id, time)\n",
      "        \n",
      "        Set the time of the specified clock clk_id.\n",
      "    \n",
      "    clock_settime_ns(...)\n",
      "        clock_settime_ns(clk_id, time)\n",
      "        \n",
      "        Set the time of the specified clock clk_id with nanoseconds.\n",
      "    \n",
      "    ctime(...)\n",
      "        ctime(seconds) -> string\n",
      "        \n",
      "        Convert a time in seconds since the Epoch to a string in local time.\n",
      "        This is equivalent to asctime(localtime(seconds)). When the time tuple is\n",
      "        not present, current time as returned by localtime() is used.\n",
      "    \n",
      "    get_clock_info(...)\n",
      "        get_clock_info(name: str) -> dict\n",
      "        \n",
      "        Get information of the specified clock.\n",
      "    \n",
      "    gmtime(...)\n",
      "        gmtime([seconds]) -> (tm_year, tm_mon, tm_mday, tm_hour, tm_min,\n",
      "                               tm_sec, tm_wday, tm_yday, tm_isdst)\n",
      "        \n",
      "        Convert seconds since the Epoch to a time tuple expressing UTC (a.k.a.\n",
      "        GMT).  When 'seconds' is not passed in, convert the current time instead.\n",
      "        \n",
      "        If the platform supports the tm_gmtoff and tm_zone, they are available as\n",
      "        attributes only.\n",
      "    \n",
      "    localtime(...)\n",
      "        localtime([seconds]) -> (tm_year,tm_mon,tm_mday,tm_hour,tm_min,\n",
      "                                  tm_sec,tm_wday,tm_yday,tm_isdst)\n",
      "        \n",
      "        Convert seconds since the Epoch to a time tuple expressing local time.\n",
      "        When 'seconds' is not passed in, convert the current time instead.\n",
      "    \n",
      "    mktime(...)\n",
      "        mktime(tuple) -> floating point number\n",
      "        \n",
      "        Convert a time tuple in local time to seconds since the Epoch.\n",
      "        Note that mktime(gmtime(0)) will not generally return zero for most\n",
      "        time zones; instead the returned value will either be equal to that\n",
      "        of the timezone or altzone attributes on the time module.\n",
      "    \n",
      "    monotonic(...)\n",
      "        monotonic() -> float\n",
      "        \n",
      "        Monotonic clock, cannot go backward.\n",
      "    \n",
      "    monotonic_ns(...)\n",
      "        monotonic_ns() -> int\n",
      "        \n",
      "        Monotonic clock, cannot go backward, as nanoseconds.\n",
      "    \n",
      "    perf_counter(...)\n",
      "        perf_counter() -> float\n",
      "        \n",
      "        Performance counter for benchmarking.\n",
      "    \n",
      "    perf_counter_ns(...)\n",
      "        perf_counter_ns() -> int\n",
      "        \n",
      "        Performance counter for benchmarking as nanoseconds.\n",
      "    \n",
      "    process_time(...)\n",
      "        process_time() -> float\n",
      "        \n",
      "        Process time for profiling: sum of the kernel and user-space CPU time.\n",
      "    \n",
      "    process_time_ns(...)\n",
      "        process_time() -> int\n",
      "        \n",
      "        Process time for profiling as nanoseconds:\n",
      "        sum of the kernel and user-space CPU time.\n",
      "    \n",
      "    pthread_getcpuclockid(...)\n",
      "        pthread_getcpuclockid(thread_id) -> int\n",
      "        \n",
      "        Return the clk_id of a thread's CPU time clock.\n",
      "    \n",
      "    sleep(...)\n",
      "        sleep(seconds)\n",
      "        \n",
      "        Delay execution for a given number of seconds.  The argument may be\n",
      "        a floating point number for subsecond precision.\n",
      "    \n",
      "    strftime(...)\n",
      "        strftime(format[, tuple]) -> string\n",
      "        \n",
      "        Convert a time tuple to a string according to a format specification.\n",
      "        See the library reference manual for formatting codes. When the time tuple\n",
      "        is not present, current time as returned by localtime() is used.\n",
      "        \n",
      "        Commonly used format codes:\n",
      "        \n",
      "        %Y  Year with century as a decimal number.\n",
      "        %m  Month as a decimal number [01,12].\n",
      "        %d  Day of the month as a decimal number [01,31].\n",
      "        %H  Hour (24-hour clock) as a decimal number [00,23].\n",
      "        %M  Minute as a decimal number [00,59].\n",
      "        %S  Second as a decimal number [00,61].\n",
      "        %z  Time zone offset from UTC.\n",
      "        %a  Locale's abbreviated weekday name.\n",
      "        %A  Locale's full weekday name.\n",
      "        %b  Locale's abbreviated month name.\n",
      "        %B  Locale's full month name.\n",
      "        %c  Locale's appropriate date and time representation.\n",
      "        %I  Hour (12-hour clock) as a decimal number [01,12].\n",
      "        %p  Locale's equivalent of either AM or PM.\n",
      "        \n",
      "        Other codes may be available on your platform.  See documentation for\n",
      "        the C library strftime function.\n",
      "    \n",
      "    strptime(...)\n",
      "        strptime(string, format) -> struct_time\n",
      "        \n",
      "        Parse a string to a time tuple according to a format specification.\n",
      "        See the library reference manual for formatting codes (same as\n",
      "        strftime()).\n",
      "        \n",
      "        Commonly used format codes:\n",
      "        \n",
      "        %Y  Year with century as a decimal number.\n",
      "        %m  Month as a decimal number [01,12].\n",
      "        %d  Day of the month as a decimal number [01,31].\n",
      "        %H  Hour (24-hour clock) as a decimal number [00,23].\n",
      "        %M  Minute as a decimal number [00,59].\n",
      "        %S  Second as a decimal number [00,61].\n",
      "        %z  Time zone offset from UTC.\n",
      "        %a  Locale's abbreviated weekday name.\n",
      "        %A  Locale's full weekday name.\n",
      "        %b  Locale's abbreviated month name.\n",
      "        %B  Locale's full month name.\n",
      "        %c  Locale's appropriate date and time representation.\n",
      "        %I  Hour (12-hour clock) as a decimal number [01,12].\n",
      "        %p  Locale's equivalent of either AM or PM.\n",
      "        \n",
      "        Other codes may be available on your platform.  See documentation for\n",
      "        the C library strftime function.\n",
      "    \n",
      "    thread_time(...)\n",
      "        thread_time() -> float\n",
      "        \n",
      "        Thread time for profiling: sum of the kernel and user-space CPU time.\n",
      "    \n",
      "    thread_time_ns(...)\n",
      "        thread_time() -> int\n",
      "        \n",
      "        Thread time for profiling as nanoseconds:\n",
      "        sum of the kernel and user-space CPU time.\n",
      "    \n",
      "    time(...)\n",
      "        time() -> floating point number\n",
      "        \n",
      "        Return the current time in seconds since the Epoch.\n",
      "        Fractions of a second may be present if the system clock provides them.\n",
      "    \n",
      "    time_ns(...)\n",
      "        time_ns() -> int\n",
      "        \n",
      "        Return the current time in nanoseconds since the Epoch.\n",
      "    \n",
      "    tzset(...)\n",
      "        tzset()\n",
      "        \n",
      "        Initialize, or reinitialize, the local timezone to the value stored in\n",
      "        os.environ['TZ']. The TZ environment variable should be specified in\n",
      "        standard Unix timezone format as documented in the tzset man page\n",
      "        (eg. 'US/Eastern', 'Europe/Amsterdam'). Unknown timezones will silently\n",
      "        fall back to UTC. If the TZ environment variable is not set, the local\n",
      "        timezone is set to the systems best guess of wallclock time.\n",
      "        Changing the TZ environment variable without calling tzset *may* change\n",
      "        the local timezone used by methods such as localtime, but this behaviour\n",
      "        should not be relied on.\n",
      "\n",
      "DATA\n",
      "    CLOCK_BOOTTIME = 7\n",
      "    CLOCK_MONOTONIC = 1\n",
      "    CLOCK_MONOTONIC_RAW = 4\n",
      "    CLOCK_PROCESS_CPUTIME_ID = 2\n",
      "    CLOCK_REALTIME = 0\n",
      "    CLOCK_TAI = 11\n",
      "    CLOCK_THREAD_CPUTIME_ID = 3\n",
      "    altzone = 21600\n",
      "    daylight = 1\n",
      "    timezone = 25200\n",
      "    tzname = ('MST', 'MDT')\n",
      "\n",
      "FILE\n",
      "    (built-in)\n",
      "\n",
      "\n"
     ]
    }
   ],
   "source": [
    "help('time')"
   ]
  },
  {
   "cell_type": "markdown",
   "metadata": {
    "slideshow": {
     "slide_type": "slide"
    }
   },
   "source": [
    "# `for`, `while`\n",
    "* `for` - executes for a fixed number of passes\n",
    "* `while` - executes until its condition is `False` \n",
    "***\n",
    "<img src=\"https://www.dropbox.com/s/u628vjn2uc5h3ua/notebook.png?raw=1\" width=\"10%\" align=\"right\">\n",
    "\n",
    "See the [loop notebook](s_PyLoops.ipynb) for more info."
   ]
  },
  {
   "cell_type": "code",
   "execution_count": 81,
   "metadata": {
    "slideshow": {
     "slide_type": "slide"
    }
   },
   "outputs": [
    {
     "name": "stdout",
     "output_type": "stream",
     "text": [
      ". . . . . "
     ]
    }
   ],
   "source": [
    "for i in range(5):             # loop 5 times\n",
    "    print('.',end=' ')\n",
    "    time.sleep(0.5)            # pause for 0.5s"
   ]
  },
  {
   "cell_type": "code",
   "execution_count": 83,
   "metadata": {},
   "outputs": [
    {
     "name": "stdout",
     "output_type": "stream",
     "text": [
      ". . . . . . . . . . "
     ]
    }
   ],
   "source": [
    "import time\n",
    "\n",
    "tick = time.time()\n",
    "while time.time() < tick + 5:  # loop for 5s\n",
    "    print('.',end=' ')\n",
    "    time.sleep(0.5)            # pause for 0.5s"
   ]
  },
  {
   "cell_type": "markdown",
   "metadata": {
    "slideshow": {
     "slide_type": "slide"
    }
   },
   "source": [
    "# `break`, `continue`\n",
    "\n",
    "Use inside loops to alter their normal behavior:\n",
    "* `break` ends the loop it is in and hands control to the statement immediately following the loop.\n",
    "* `continue` ends the current iteration of the loop, and hands control to the next cycle of the loop."
   ]
  },
  {
   "cell_type": "code",
   "execution_count": 84,
   "metadata": {
    "slideshow": {
     "slide_type": "slide"
    }
   },
   "outputs": [
    {
     "name": "stdout",
     "output_type": "stream",
     "text": [
      "0,1,2,4,5,6,7,"
     ]
    }
   ],
   "source": [
    "for i in range(8):\n",
    "    if (i == 3):\n",
    "        continue           # skip one step of the loop\n",
    "    else:\n",
    "        print(i,end=',')"
   ]
  },
  {
   "cell_type": "code",
   "execution_count": 85,
   "metadata": {
    "slideshow": {
     "slide_type": "-"
    }
   },
   "outputs": [
    {
     "name": "stdout",
     "output_type": "stream",
     "text": [
      "0,1,2,"
     ]
    }
   ],
   "source": [
    "for i in range(8):\n",
    "    if (i == 3):\n",
    "        break              # exit the loop\n",
    "    else:\n",
    "        print(i,end=',')"
   ]
  },
  {
   "cell_type": "markdown",
   "metadata": {
    "slideshow": {
     "slide_type": "slide"
    }
   },
   "source": [
    "# `global`\n",
    "\n",
    "Indicates that a variable defined inside a function is available outside."
   ]
  },
  {
   "cell_type": "code",
   "execution_count": 86,
   "metadata": {},
   "outputs": [
    {
     "ename": "NameError",
     "evalue": "name 'x' is not defined",
     "output_type": "error",
     "traceback": [
      "\u001b[0;31m---------------------------------------------------------------------------\u001b[0m",
      "\u001b[0;31mNameError\u001b[0m                                 Traceback (most recent call last)",
      "Input \u001b[0;32mIn [86]\u001b[0m, in \u001b[0;36m<cell line: 5>\u001b[0;34m()\u001b[0m\n\u001b[1;32m      2\u001b[0m     x \u001b[38;5;241m=\u001b[39m \u001b[38;5;241m-\u001b[39m\u001b[38;5;241m1\u001b[39m      \u001b[38;5;66;03m# local x - is different from global x\u001b[39;00m\n\u001b[1;32m      4\u001b[0m myF()\n\u001b[0;32m----> 5\u001b[0m \u001b[38;5;28mprint\u001b[39m(\u001b[43mx\u001b[49m)\n",
      "\u001b[0;31mNameError\u001b[0m: name 'x' is not defined"
     ]
    }
   ],
   "source": [
    "def myF():\n",
    "    x = -1      # local x - is different from global x\n",
    "    \n",
    "myF()\n",
    "print(x)        # global x is unchanged"
   ]
  },
  {
   "cell_type": "code",
   "execution_count": 87,
   "metadata": {},
   "outputs": [
    {
     "name": "stdout",
     "output_type": "stream",
     "text": [
      "-1\n"
     ]
    }
   ],
   "source": [
    "def myF():\n",
    "    global y    # global y defined inside a function\n",
    "    y = -1\n",
    "\n",
    "myF()\n",
    "print(y)"
   ]
  },
  {
   "cell_type": "markdown",
   "metadata": {
    "slideshow": {
     "slide_type": "slide"
    }
   },
   "source": [
    "# `nolocal`\n",
    "\n",
    "Declares that a variable in a nested function is not local."
   ]
  },
  {
   "cell_type": "code",
   "execution_count": 88,
   "metadata": {},
   "outputs": [
    {
     "data": {
      "text/plain": [
       "1"
      ]
     },
     "execution_count": 88,
     "metadata": {},
     "output_type": "execute_result"
    }
   ],
   "source": [
    "def myFOUT():\n",
    "    x = 1          # x local to myFOUT\n",
    "    \n",
    "    def myFIN():   # define nested function\n",
    "        x = 2      # x local to myFIN\n",
    "    \n",
    "    myFIN()\n",
    "    return x       # the myFOUT x is unchanged\n",
    "\n",
    "myFOUT()"
   ]
  },
  {
   "cell_type": "code",
   "execution_count": 89,
   "metadata": {},
   "outputs": [
    {
     "data": {
      "text/plain": [
       "2"
      ]
     },
     "execution_count": 89,
     "metadata": {},
     "output_type": "execute_result"
    }
   ],
   "source": [
    "def myFOUT():\n",
    "    x = 1          # x local to myFOUT\n",
    "    \n",
    "    def myFIN():   # define nested function\n",
    "        nonlocal x # specify that x is not local to myFIN\n",
    "        x = 2      # operation modifies x defined in myFOUT\n",
    "    \n",
    "    myFIN()\n",
    "    return x       # the myFOUT x is changed\n",
    "\n",
    "myFOUT()"
   ]
  },
  {
   "cell_type": "markdown",
   "metadata": {
    "slideshow": {
     "slide_type": "slide"
    }
   },
   "source": [
    "# `in`\n",
    "Used to test if a value is contained in a sequence:\n",
    "* `list`\n",
    "* `tuple`\n",
    "* `string`\n",
    "* `set`"
   ]
  },
  {
   "cell_type": "code",
   "execution_count": 90,
   "metadata": {
    "slideshow": {
     "slide_type": "-"
    }
   },
   "outputs": [
    {
     "name": "stdout",
     "output_type": "stream",
     "text": [
      "True\n",
      "False\n"
     ]
    }
   ],
   "source": [
    "l = ['a','b','c']\n",
    "\n",
    "print('a' in l)\n",
    "\n",
    "print('d' in l)"
   ]
  },
  {
   "cell_type": "code",
   "execution_count": 92,
   "metadata": {},
   "outputs": [
    {
     "name": "stdout",
     "output_type": "stream",
     "text": [
      "True\n",
      "True\n"
     ]
    }
   ],
   "source": [
    "string = 'The cat and the dog'\n",
    "\n",
    "print('c' in string)\n",
    "print(' ' in string)"
   ]
  },
  {
   "cell_type": "markdown",
   "metadata": {
    "slideshow": {
     "slide_type": "slide"
    }
   },
   "source": [
    "# `is`\n",
    "\n",
    "Used to test if two objects **are of the same kind**. \n",
    "\n",
    "Is different from `==` which tests if variables **are equal**."
   ]
  },
  {
   "cell_type": "code",
   "execution_count": null,
   "metadata": {
    "scrolled": true,
    "slideshow": {
     "slide_type": "-"
    }
   },
   "outputs": [],
   "source": [
    "# variables are not the same kind\n",
    "a = 2           # int\n",
    "b = 2.0         # float\n",
    "\n",
    "print(a is b)   # are not of the same kind\n",
    "print(a == b)   # have the same value"
   ]
  },
  {
   "cell_type": "markdown",
   "metadata": {
    "slideshow": {
     "slide_type": "slide"
    }
   },
   "source": [
    "# `with`, `as`\n",
    "Wrap a block with methods defined by the context manager."
   ]
  },
  {
   "cell_type": "code",
   "execution_count": 95,
   "metadata": {
    "slideshow": {
     "slide_type": "-"
    }
   },
   "outputs": [
    {
     "name": "stdout",
     "output_type": "stream",
     "text": [
      "\n",
      "a, b = 1,2\n",
      "t = a+b\n",
      "print(t)\n"
     ]
    },
    {
     "data": {
      "text/plain": [
       "True"
      ]
     },
     "execution_count": 95,
     "metadata": {},
     "output_type": "execute_result"
    }
   ],
   "source": [
    "f = open('demod.py') # open the file\n",
    "for l in f:          # loop over the file content\n",
    "    print(f.read())  # print file content\n",
    "f.close()            # close the file\n",
    "\n",
    "f.closed"
   ]
  },
  {
   "cell_type": "code",
   "execution_count": 96,
   "metadata": {},
   "outputs": [
    {
     "name": "stdout",
     "output_type": "stream",
     "text": [
      "Help on built-in function open in module io:\n",
      "\n",
      "open(file, mode='r', buffering=-1, encoding=None, errors=None, newline=None, closefd=True, opener=None)\n",
      "    Open file and return a stream.  Raise OSError upon failure.\n",
      "    \n",
      "    file is either a text or byte string giving the name (and the path\n",
      "    if the file isn't in the current working directory) of the file to\n",
      "    be opened or an integer file descriptor of the file to be\n",
      "    wrapped. (If a file descriptor is given, it is closed when the\n",
      "    returned I/O object is closed, unless closefd is set to False.)\n",
      "    \n",
      "    mode is an optional string that specifies the mode in which the file\n",
      "    is opened. It defaults to 'r' which means open for reading in text\n",
      "    mode.  Other common values are 'w' for writing (truncating the file if\n",
      "    it already exists), 'x' for creating and writing to a new file, and\n",
      "    'a' for appending (which on some Unix systems, means that all writes\n",
      "    append to the end of the file regardless of the current seek position).\n",
      "    In text mode, if encoding is not specified the encoding used is platform\n",
      "    dependent: locale.getpreferredencoding(False) is called to get the\n",
      "    current locale encoding. (For reading and writing raw bytes use binary\n",
      "    mode and leave encoding unspecified.) The available modes are:\n",
      "    \n",
      "    ========= ===============================================================\n",
      "    Character Meaning\n",
      "    --------- ---------------------------------------------------------------\n",
      "    'r'       open for reading (default)\n",
      "    'w'       open for writing, truncating the file first\n",
      "    'x'       create a new file and open it for writing\n",
      "    'a'       open for writing, appending to the end of the file if it exists\n",
      "    'b'       binary mode\n",
      "    't'       text mode (default)\n",
      "    '+'       open a disk file for updating (reading and writing)\n",
      "    'U'       universal newline mode (deprecated)\n",
      "    ========= ===============================================================\n",
      "    \n",
      "    The default mode is 'rt' (open for reading text). For binary random\n",
      "    access, the mode 'w+b' opens and truncates the file to 0 bytes, while\n",
      "    'r+b' opens the file without truncation. The 'x' mode implies 'w' and\n",
      "    raises an `FileExistsError` if the file already exists.\n",
      "    \n",
      "    Python distinguishes between files opened in binary and text modes,\n",
      "    even when the underlying operating system doesn't. Files opened in\n",
      "    binary mode (appending 'b' to the mode argument) return contents as\n",
      "    bytes objects without any decoding. In text mode (the default, or when\n",
      "    't' is appended to the mode argument), the contents of the file are\n",
      "    returned as strings, the bytes having been first decoded using a\n",
      "    platform-dependent encoding or using the specified encoding if given.\n",
      "    \n",
      "    'U' mode is deprecated and will raise an exception in future versions\n",
      "    of Python.  It has no effect in Python 3.  Use newline to control\n",
      "    universal newlines mode.\n",
      "    \n",
      "    buffering is an optional integer used to set the buffering policy.\n",
      "    Pass 0 to switch buffering off (only allowed in binary mode), 1 to select\n",
      "    line buffering (only usable in text mode), and an integer > 1 to indicate\n",
      "    the size of a fixed-size chunk buffer.  When no buffering argument is\n",
      "    given, the default buffering policy works as follows:\n",
      "    \n",
      "    * Binary files are buffered in fixed-size chunks; the size of the buffer\n",
      "      is chosen using a heuristic trying to determine the underlying device's\n",
      "      \"block size\" and falling back on `io.DEFAULT_BUFFER_SIZE`.\n",
      "      On many systems, the buffer will typically be 4096 or 8192 bytes long.\n",
      "    \n",
      "    * \"Interactive\" text files (files for which isatty() returns True)\n",
      "      use line buffering.  Other text files use the policy described above\n",
      "      for binary files.\n",
      "    \n",
      "    encoding is the name of the encoding used to decode or encode the\n",
      "    file. This should only be used in text mode. The default encoding is\n",
      "    platform dependent, but any encoding supported by Python can be\n",
      "    passed.  See the codecs module for the list of supported encodings.\n",
      "    \n",
      "    errors is an optional string that specifies how encoding errors are to\n",
      "    be handled---this argument should not be used in binary mode. Pass\n",
      "    'strict' to raise a ValueError exception if there is an encoding error\n",
      "    (the default of None has the same effect), or pass 'ignore' to ignore\n",
      "    errors. (Note that ignoring encoding errors can lead to data loss.)\n",
      "    See the documentation for codecs.register or run 'help(codecs.Codec)'\n",
      "    for a list of the permitted encoding error strings.\n",
      "    \n",
      "    newline controls how universal newlines works (it only applies to text\n",
      "    mode). It can be None, '', '\\n', '\\r', and '\\r\\n'.  It works as\n",
      "    follows:\n",
      "    \n",
      "    * On input, if newline is None, universal newlines mode is\n",
      "      enabled. Lines in the input can end in '\\n', '\\r', or '\\r\\n', and\n",
      "      these are translated into '\\n' before being returned to the\n",
      "      caller. If it is '', universal newline mode is enabled, but line\n",
      "      endings are returned to the caller untranslated. If it has any of\n",
      "      the other legal values, input lines are only terminated by the given\n",
      "      string, and the line ending is returned to the caller untranslated.\n",
      "    \n",
      "    * On output, if newline is None, any '\\n' characters written are\n",
      "      translated to the system default line separator, os.linesep. If\n",
      "      newline is '' or '\\n', no translation takes place. If newline is any\n",
      "      of the other legal values, any '\\n' characters written are translated\n",
      "      to the given string.\n",
      "    \n",
      "    If closefd is False, the underlying file descriptor will be kept open\n",
      "    when the file is closed. This does not work when a file name is given\n",
      "    and must be True in that case.\n",
      "    \n",
      "    A custom opener can be used by passing a callable as *opener*. The\n",
      "    underlying file descriptor for the file object is then obtained by\n",
      "    calling *opener* with (*file*, *flags*). *opener* must return an open\n",
      "    file descriptor (passing os.open as *opener* results in functionality\n",
      "    similar to passing None).\n",
      "    \n",
      "    open() returns a file object whose type depends on the mode, and\n",
      "    through which the standard file operations such as reading and writing\n",
      "    are performed. When open() is used to open a file in a text mode ('w',\n",
      "    'r', 'wt', 'rt', etc.), it returns a TextIOWrapper. When used to open\n",
      "    a file in a binary mode, the returned class varies: in read binary\n",
      "    mode, it returns a BufferedReader; in write binary and append binary\n",
      "    modes, it returns a BufferedWriter, and in read/write mode, it returns\n",
      "    a BufferedRandom.\n",
      "    \n",
      "    It is also possible to use a string or bytearray as a file for both\n",
      "    reading and writing. For strings StringIO can be used like a file\n",
      "    opened in a text mode, and for bytes a BytesIO can be used like a file\n",
      "    opened in a binary mode.\n",
      "\n"
     ]
    }
   ],
   "source": [
    "help('open')"
   ]
  },
  {
   "cell_type": "code",
   "execution_count": 104,
   "metadata": {
    "slideshow": {
     "slide_type": "slide"
    }
   },
   "outputs": [
    {
     "name": "stdout",
     "output_type": "stream",
     "text": [
      "b'##This is a file that you can read.\\n\\na, b = 1,2\\nt = a+b\\nprint(t)'\n"
     ]
    },
    {
     "data": {
      "text/plain": [
       "True"
      ]
     },
     "execution_count": 104,
     "metadata": {},
     "output_type": "execute_result"
    }
   ],
   "source": [
    "# open the file and loop over its content;\n",
    "# when done, close the file\n",
    "with open('demod.py', 'r+b') as f:\n",
    "    print(f.read())\n",
    "    \n",
    "f.closed"
   ]
  },
  {
   "cell_type": "markdown",
   "metadata": {
    "heading_collapsed": true,
    "slideshow": {
     "slide_type": "slide"
    }
   },
   "source": [
    "# `class`\n",
    "Defines a **class**, i.e. a collection of attributes and methods that represent a specific logical entity, i.e. an **object**. \n",
    "\n",
    "Classes are central to **object-oriented programming** (OOP).\n",
    "\n",
    "***\n",
    "<img src=\"https://www.dropbox.com/s/u628vjn2uc5h3ua/notebook.png?raw=1\" width=\"10%\" align=\"right\">\n",
    "\n",
    "See the [OOP notebook](s_PyOOPBasics.ipynb) for more info."
   ]
  }
 ],
 "metadata": {
  "celltoolbar": "Slideshow",
  "kernelspec": {
   "display_name": "Python 3 (ipykernel)",
   "language": "python",
   "name": "python3"
  },
  "language_info": {
   "codemirror_mode": {
    "name": "ipython",
    "version": 3
   },
   "file_extension": ".py",
   "mimetype": "text/x-python",
   "name": "python",
   "nbconvert_exporter": "python",
   "pygments_lexer": "ipython3",
   "version": "3.9.2"
  },
  "varInspector": {
   "cols": {
    "lenName": 16,
    "lenType": 16,
    "lenVar": 40
   },
   "kernels_config": {
    "python": {
     "delete_cmd_postfix": "",
     "delete_cmd_prefix": "del ",
     "library": "var_list.py",
     "varRefreshCmd": "print(var_dic_list())"
    },
    "r": {
     "delete_cmd_postfix": ") ",
     "delete_cmd_prefix": "rm(",
     "library": "var_list.r",
     "varRefreshCmd": "cat(var_dic_list()) "
    }
   },
   "types_to_exclude": [
    "module",
    "function",
    "builtin_function_or_method",
    "instance",
    "_Feature"
   ],
   "window_display": false
  }
 },
 "nbformat": 4,
 "nbformat_minor": 2
}
