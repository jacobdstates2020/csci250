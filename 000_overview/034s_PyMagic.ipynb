{
 "cells": [
  {
   "cell_type": "markdown",
   "metadata": {},
   "source": [
    "<img src=\"https://www.mines.edu/webcentral/wp-content/uploads/sites/267/2019/02/horizontallightbackground.jpg\" width=\"100%\"> \n",
    "### CSCI250 Python Computing: Building a Sensor System\n",
    "<hr style=\"height:5px\" width=\"100%\" align=\"left\">\n",
    "\n",
    "# Python magic commands"
   ]
  },
  {
   "cell_type": "markdown",
   "metadata": {
    "slideshow": {
     "slide_type": "slide"
    }
   },
   "source": [
    "# Objective\n",
    "\n",
    "Introduce the Python magic commands to access OS programs."
   ]
  },
  {
   "cell_type": "markdown",
   "metadata": {
    "slideshow": {
     "slide_type": "slide"
    }
   },
   "source": [
    "# Resources\n",
    "* [Python introduction](https://docs.python.org/3/tutorial)"
   ]
  },
  {
   "cell_type": "markdown",
   "metadata": {
    "slideshow": {
     "slide_type": "slide"
    }
   },
   "source": [
    "# magic commands\n",
    "\n",
    "Control Python behavior and access to the OS. \n",
    "\n",
    "The command `%magic` provides basic info."
   ]
  },
  {
   "cell_type": "code",
   "execution_count": 1,
   "metadata": {
    "scrolled": true
   },
   "outputs": [],
   "source": [
    "%magic"
   ]
  },
  {
   "cell_type": "markdown",
   "metadata": {
    "slideshow": {
     "slide_type": "slide"
    }
   },
   "source": [
    "## `%timeit`, `%%timeit`\n",
    "\n",
    "Provide the execution time of a specific block of code. \n",
    "* `%`: times the following statement \n",
    "* `%%`: times the entire code cell"
   ]
  },
  {
   "cell_type": "code",
   "execution_count": 2,
   "metadata": {},
   "outputs": [
    {
     "name": "stdout",
     "output_type": "stream",
     "text": [
      "269 ns ± 0.464 ns per loop (mean ± std. dev. of 7 runs, 1,000,000 loops each)\n"
     ]
    }
   ],
   "source": [
    "%timeit range(100)"
   ]
  },
  {
   "cell_type": "code",
   "execution_count": 3,
   "metadata": {},
   "outputs": [
    {
     "name": "stdout",
     "output_type": "stream",
     "text": [
      "555 ns ± 1.25 ns per loop (mean ± std. dev. of 7 runs, 1,000,000 loops each)\n"
     ]
    }
   ],
   "source": [
    "%%timeit\n",
    "range(100)\n",
    "range(200)"
   ]
  },
  {
   "cell_type": "markdown",
   "metadata": {
    "slideshow": {
     "slide_type": "slide"
    }
   },
   "source": [
    "## OS commands\n",
    "Execute Linux OS commands.\n",
    "\n",
    "***\n",
    "<img src=\"https://www.dropbox.com/s/u628vjn2uc5h3ua/notebook.png?raw=1\" width=\"10%\" align=\"right\">\n",
    "\n",
    "See the [Linux notebook](../info/__Linux.ipynb) for more info on OS commands."
   ]
  },
  {
   "cell_type": "code",
   "execution_count": 4,
   "metadata": {},
   "outputs": [
    {
     "data": {
      "text/plain": [
       "'/home/pi/Documents/csci250/000_overview'"
      ]
     },
     "execution_count": 4,
     "metadata": {},
     "output_type": "execute_result"
    }
   ],
   "source": [
    "# find current position in the directory tree\n",
    "%pwd"
   ]
  },
  {
   "cell_type": "code",
   "execution_count": 5,
   "metadata": {
    "scrolled": true
   },
   "outputs": [
    {
     "name": "stdout",
     "output_type": "stream",
     "text": [
      "total 1252\r\n",
      "-rw-r--r-- 1 pi pi  21500 Sep 10 22:08 00_Intro.ipynb\r\n",
      "-rw-r--r-- 1 pi pi  17016 Sep 10 22:08 00_Syllabus.ipynb\r\n",
      "-rw-r--r-- 1 pi pi  17521 Sep 10 22:08 01_Build.ipynb\r\n",
      "-rw-r--r-- 1 pi pi  10391 Sep 10 22:08 01_Headless.ipynb\r\n",
      "-rw-r--r-- 1 pi pi 628975 Sep 10 22:08 02_AutoGrader.ipynb\r\n",
      "-rw-r--r-- 1 pi pi  25100 Sep 10 22:08 02_Linux.ipynb\r\n",
      "-rw-r--r-- 1 pi pi 421743 Sep 15 13:48 031s_PyIntro.ipynb\r\n",
      "-rw-r--r-- 1 pi pi  16140 Sep 15 13:54 032s_PyOverview.ipynb\r\n",
      "-rw-r--r-- 1 pi pi  18314 Sep 14 15:10 033s_PyKeywords.ipynb\r\n",
      "-rw-r--r-- 1 pi pi   3976 Sep 15 13:55 034s_PyMagic.ipynb\r\n",
      "-rw-r--r-- 1 pi pi  11178 Sep 11 17:50 041s_PyType.ipynb\r\n",
      "-rw-r--r-- 1 pi pi  19912 Sep 10 22:08 042s_PyTypeNumbers.ipynb\r\n",
      "-rw-r--r-- 1 pi pi  10922 Sep 10 22:08 043s_PyOperators.ipynb\r\n",
      "-rw-r--r-- 1 pi pi  16445 Sep 10 22:08 051s_PyLoops.ipynb\r\n",
      "-rw-r--r-- 1 pi pi  10582 Sep 10 22:08 052s_PyConditionals.ipynb\r\n",
      "drwxr-xr-x 3 pi pi   4096 Sep 15 11:58 \u001b[0m\u001b[01;34msl0_infrastructure\u001b[0m/\r\n"
     ]
    }
   ],
   "source": [
    "# list files in the current directory\n",
    "%ls -l"
   ]
  },
  {
   "cell_type": "markdown",
   "metadata": {
    "slideshow": {
     "slide_type": "slide"
    }
   },
   "source": [
    "## `%reset` \n",
    "Remove all user-defined variables from the name space.\n",
    "\n",
    "Builtin functions remain available even after reset."
   ]
  },
  {
   "cell_type": "code",
   "execution_count": 9,
   "metadata": {},
   "outputs": [
    {
     "name": "stdout",
     "output_type": "stream",
     "text": [
      "Thu Sep 15 14:07:24 2022\n"
     ]
    }
   ],
   "source": [
    "import time\n",
    "print( time.ctime() )"
   ]
  },
  {
   "cell_type": "code",
   "execution_count": 7,
   "metadata": {},
   "outputs": [
    {
     "name": "stdout",
     "output_type": "stream",
     "text": [
      "Once deleted, variables cannot be recovered. Proceed (y/[n])? y\n"
     ]
    }
   ],
   "source": [
    "%reset"
   ]
  },
  {
   "cell_type": "code",
   "execution_count": 10,
   "metadata": {},
   "outputs": [
    {
     "name": "stdout",
     "output_type": "stream",
     "text": [
      "Thu Sep 15 14:07:28 2022\n"
     ]
    }
   ],
   "source": [
    "# this should not work anymore\n",
    "print( time.ctime() )"
   ]
  },
  {
   "cell_type": "code",
   "execution_count": null,
   "metadata": {},
   "outputs": [],
   "source": []
  }
 ],
 "metadata": {
  "celltoolbar": "Slideshow",
  "kernelspec": {
   "display_name": "Python 3 (ipykernel)",
   "language": "python",
   "name": "python3"
  },
  "language_info": {
   "codemirror_mode": {
    "name": "ipython",
    "version": 3
   },
   "file_extension": ".py",
   "mimetype": "text/x-python",
   "name": "python",
   "nbconvert_exporter": "python",
   "pygments_lexer": "ipython3",
   "version": "3.9.2"
  }
 },
 "nbformat": 4,
 "nbformat_minor": 2
}
