{
 "cells": [
  {
   "cell_type": "markdown",
   "metadata": {
    "slideshow": {
     "slide_type": "slide"
    }
   },
   "source": [
    "<img src=\"https://www.mines.edu/webcentral/wp-content/uploads/sites/267/2019/02/horizontallightbackground.jpg\" width=\"100%\"> \n",
    "### CSCI250 Python Computing: Building a Sensor System\n",
    "<hr style=\"height:5px\" width=\"100%\" align=\"left\">\n",
    "\n",
    "# Python operators"
   ]
  },
  {
   "cell_type": "markdown",
   "metadata": {
    "slideshow": {
     "slide_type": "slide"
    }
   },
   "source": [
    "# Objectives\n",
    "* introduce Python data operators\n",
    "* practice with built-in operators"
   ]
  },
  {
   "cell_type": "markdown",
   "metadata": {
    "slideshow": {
     "slide_type": "slide"
    }
   },
   "source": [
    "# Resources\n",
    "* [Python introduction](https://docs.python.org/3/tutorial)\n",
    "* [Programiz Python tutorial](https://www.programiz.com/python-programming/operators)"
   ]
  },
  {
   "cell_type": "markdown",
   "metadata": {
    "slideshow": {
     "slide_type": "slide"
    }
   },
   "source": [
    "# Definition\n",
    "\n",
    "**Operators** are symbols performing arithmetic or logical operations. \n",
    "\n",
    "The values provided to the operator are called **operands**."
   ]
  },
  {
   "cell_type": "markdown",
   "metadata": {
    "slideshow": {
     "slide_type": "slide"
    }
   },
   "source": [
    "<img src=\"http://www.dropbox.com/s/fcucolyuzdjl80k/todo.jpg?raw=1\" width=\"10%\" align=\"right\">\n",
    "\n",
    "For each of the operators listed below, add new code cells to test/demonstrate their functionality. \n",
    "\n",
    "If possible, use different basic data types \n",
    "* `int`\n",
    "* `float`\n",
    "* `bool`\n",
    "* `complex`\n",
    "\n",
    "Add notes to yourself in the notebook, for future reference."
   ]
  },
  {
   "cell_type": "markdown",
   "metadata": {
    "slideshow": {
     "slide_type": "slide"
    }
   },
   "source": [
    "# Arithmetic operators\n",
    "Used to perform mathematical operations.\n",
    "\n",
    "`+ - * / % // **`"
   ]
  },
  {
   "cell_type": "code",
   "execution_count": null,
   "metadata": {
    "slideshow": {
     "slide_type": "-"
    }
   },
   "outputs": [],
   "source": [
    "x,y = 7,2\n",
    "\n",
    "print('x  + y =',x  + y)   # addition\n",
    "print('x  - y =',x  - y)   # subtraction\n",
    "print('x  * y =',x  * y)   # multiplication\n",
    "print('x  / y =',x  / y)   # division\n",
    "print('x  % y =',x  % y)   # modulo\n",
    "print('x // y =',x // y)   # floor division\n",
    "print('x ** y =',x ** y)   # exponent"
   ]
  },
  {
   "cell_type": "markdown",
   "metadata": {
    "slideshow": {
     "slide_type": "slide"
    }
   },
   "source": [
    "# Comparison operators\n",
    "Used to compare values.\n",
    "\n",
    "`> < == != >= <=`"
   ]
  },
  {
   "cell_type": "code",
   "execution_count": null,
   "metadata": {
    "slideshow": {
     "slide_type": "-"
    }
   },
   "outputs": [],
   "source": [
    "x,y = 7,2\n",
    "\n",
    "print('x > y  =',x  > y)  # greater than\n",
    "print('x < y  =',x  < y)  #    less than\n",
    "print('x == y =',x == y)  #     equal to\n",
    "print('x != y =',x != y)  # not equal to\n",
    "print('x >= y =',x >= y)  # greater than or equal\n",
    "print('x <= y =',x <= y)  #    less than or equal"
   ]
  },
  {
   "cell_type": "markdown",
   "metadata": {
    "slideshow": {
     "slide_type": "slide"
    }
   },
   "source": [
    "# Logical operators\n",
    "Used to combine logical variables.\n",
    "\n",
    "`and or not`"
   ]
  },
  {
   "cell_type": "code",
   "execution_count": null,
   "metadata": {},
   "outputs": [],
   "source": [
    "x,y = True,False\n",
    "\n",
    "print('x and y =',x and y) # logical AND\n",
    "print('x  or y =',x  or y) # logical  OR\n",
    "print('not y   =',  not y) # logical NOT"
   ]
  },
  {
   "cell_type": "markdown",
   "metadata": {
    "slideshow": {
     "slide_type": "slide"
    }
   },
   "source": [
    "# Bitwise operators\n",
    "Used to act on operands as if they were string of binary digits.\n",
    "\n",
    "`& | ^ >> <<`"
   ]
  },
  {
   "cell_type": "code",
   "execution_count": null,
   "metadata": {},
   "outputs": [],
   "source": [
    "# print an integer in decimal and binary formats\n",
    "# the binary uses 8 characters with leading zeros and sign\n",
    "def bitPrint(s,x):\n",
    "    print( format(s,'6s'),\n",
    "           format(x,'>4d'),\n",
    "           format(x,'+08b'))"
   ]
  },
  {
   "cell_type": "code",
   "execution_count": null,
   "metadata": {
    "slideshow": {
     "slide_type": "slide"
    }
   },
   "outputs": [],
   "source": [
    "x,y = 56,9\n",
    "\n",
    "bitPrint('x',x)\n",
    "bitPrint('y',y)"
   ]
  },
  {
   "cell_type": "code",
   "execution_count": null,
   "metadata": {
    "slideshow": {
     "slide_type": "-"
    }
   },
   "outputs": [],
   "source": [
    "bitPrint('x&y',x & y)   # bitwise AND\n",
    "bitPrint('x|y',x | y)   # bitwise OR\n",
    "bitPrint('x^y',x ^ y)   # bitwise XOR\n",
    "bitPrint(' ~y',   ~y)   # bitwise NOT "
   ]
  },
  {
   "cell_type": "code",
   "execution_count": null,
   "metadata": {
    "scrolled": false,
    "slideshow": {
     "slide_type": "-"
    }
   },
   "outputs": [],
   "source": [
    "bitPrint('x>>3',x>>3) # bitwise shift right (  divide by 2^3)\n",
    "bitPrint('x<<3',x<<3) # bitwise shift left  (multiply by 2^3)"
   ]
  },
  {
   "cell_type": "markdown",
   "metadata": {
    "slideshow": {
     "slide_type": "slide"
    }
   },
   "source": [
    "### bitwise NOT\n",
    "\n",
    "**N.B.**: the bitwise NOT operator behaves a bit counter intuitively because the binary forms are signed, and thus `~i` is `-i-1`"
   ]
  },
  {
   "cell_type": "code",
   "execution_count": null,
   "metadata": {},
   "outputs": [],
   "source": [
    "x = 9\n",
    "y = ~x\n",
    "\n",
    "bitPrint('x',x)\n",
    "bitPrint('y',y) # strange result"
   ]
  },
  {
   "cell_type": "markdown",
   "metadata": {
    "slideshow": {
     "slide_type": "slide"
    }
   },
   "source": [
    "A more intuitive way to handle the bitwise NOT operator is:"
   ]
  },
  {
   "cell_type": "code",
   "execution_count": null,
   "metadata": {},
   "outputs": [],
   "source": [
    "def bitNOT(n):\n",
    "    m = (1 << n.bit_length()) - 1  # binary of 1's of the same length\n",
    "    return m ^ n                   # bitwise OR to swap 0's and 1's"
   ]
  },
  {
   "cell_type": "code",
   "execution_count": null,
   "metadata": {
    "scrolled": true
   },
   "outputs": [],
   "source": [
    "n = 9\n",
    "bitPrint('n',n)\n",
    "\n",
    "k = n.bit_length()\n",
    "m = (1 << k) - 1\n",
    "bitPrint('m',m)\n",
    "\n",
    "p = m ^ n\n",
    "bitPrint('p',p)"
   ]
  },
  {
   "cell_type": "markdown",
   "metadata": {
    "slideshow": {
     "slide_type": "slide"
    }
   },
   "source": [
    "`bitNOT()` applies the more intuitive bitwise NOT operation:"
   ]
  },
  {
   "cell_type": "code",
   "execution_count": null,
   "metadata": {
    "slideshow": {
     "slide_type": "-"
    }
   },
   "outputs": [],
   "source": [
    "x = 9\n",
    "y = bitNOT(x)\n",
    "\n",
    "bitPrint('x',x)\n",
    "bitPrint('y',y)"
   ]
  },
  {
   "cell_type": "markdown",
   "metadata": {
    "slideshow": {
     "slide_type": "slide"
    }
   },
   "source": [
    "# Assignment operators\n",
    "Used to assign values to variables.\n",
    "\n",
    "`+= -= *= /= **= //= %= &= |= ^= >>= <<=`"
   ]
  },
  {
   "cell_type": "code",
   "execution_count": null,
   "metadata": {
    "slideshow": {
     "slide_type": "-"
    }
   },
   "outputs": [],
   "source": [
    "a,x = 3,14; x  += a; print(x)    # x = x  + a\n",
    "a,x = 3,14; x  -= a; print(x)    # x = x  - a\n",
    "a,x = 3,14; x  *= a; print(x)    # x = x  * a\n",
    "a,x = 3,14; x  /= a; print(x)    # x = x  / a\n",
    "a,x = 3,14; x  %= a; print(x)    # x = x  % a\n",
    "a,x = 3,14; x //= a; print(x)    # x = x // a\n",
    "a,x = 3,14; x **= a; print(x)    # x = x ** a"
   ]
  },
  {
   "cell_type": "code",
   "execution_count": null,
   "metadata": {
    "slideshow": {
     "slide_type": "slide"
    }
   },
   "outputs": [],
   "source": [
    "a,x = 3,14\n",
    "\n",
    "bitPrint('a',a)\n",
    "bitPrint('x',x)"
   ]
  },
  {
   "cell_type": "code",
   "execution_count": null,
   "metadata": {
    "scrolled": true,
    "slideshow": {
     "slide_type": "-"
    }
   },
   "outputs": [],
   "source": [
    "a,x = 3,14; x  &= a; bitPrint( '&=',x)   # x = x  & a\n",
    "a,x = 3,14; x  |= a; bitPrint( '|=',x)   # x = x  | a\n",
    "a,x = 3,14; x  ^= a; bitPrint( '^=',x)   # x = x  ^ a\n",
    "a,x = 3,14; x >>= a; bitPrint('>>=',x)   # x = x >> a\n",
    "a,x = 3,14; x <<= a; bitPrint('<<=',x)   # x = x << a"
   ]
  },
  {
   "cell_type": "markdown",
   "metadata": {
    "slideshow": {
     "slide_type": "slide"
    }
   },
   "source": [
    "# Identity operator\n",
    "Used to check if variables are located at the same address in memory.\n",
    "\n",
    "`is`"
   ]
  },
  {
   "cell_type": "code",
   "execution_count": null,
   "metadata": {},
   "outputs": [],
   "source": [
    "a,x = 3,14\n",
    "\n",
    "print(x is     a)\n",
    "print(x is not a)"
   ]
  },
  {
   "cell_type": "markdown",
   "metadata": {
    "slideshow": {
     "slide_type": "slide"
    }
   },
   "source": [
    "# Membership operator\n",
    "Used to test whether a variable is found in a sequence.\n",
    "\n",
    "`in`"
   ]
  },
  {
   "cell_type": "code",
   "execution_count": null,
   "metadata": {},
   "outputs": [],
   "source": [
    "s = 'Colorado School of Mines'\n",
    "\n",
    "print('M' in     s)\n",
    "print('M' not in s)"
   ]
  }
 ],
 "metadata": {
  "celltoolbar": "Slideshow",
  "kernelspec": {
   "display_name": "Python 3 (ipykernel)",
   "language": "python",
   "name": "python3"
  },
  "language_info": {
   "codemirror_mode": {
    "name": "ipython",
    "version": 3
   },
   "file_extension": ".py",
   "mimetype": "text/x-python",
   "name": "python",
   "nbconvert_exporter": "python",
   "pygments_lexer": "ipython3",
   "version": "3.9.2"
  },
  "varInspector": {
   "cols": {
    "lenName": 16,
    "lenType": 16,
    "lenVar": 40
   },
   "kernels_config": {
    "python": {
     "delete_cmd_postfix": "",
     "delete_cmd_prefix": "del ",
     "library": "var_list.py",
     "varRefreshCmd": "print(var_dic_list())"
    },
    "r": {
     "delete_cmd_postfix": ") ",
     "delete_cmd_prefix": "rm(",
     "library": "var_list.r",
     "varRefreshCmd": "cat(var_dic_list()) "
    }
   },
   "types_to_exclude": [
    "module",
    "function",
    "builtin_function_or_method",
    "instance",
    "_Feature"
   ],
   "window_display": false
  }
 },
 "nbformat": 4,
 "nbformat_minor": 2
}
