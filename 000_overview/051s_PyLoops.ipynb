{
 "cells": [
  {
   "cell_type": "markdown",
   "metadata": {
    "slideshow": {
     "slide_type": "slide"
    }
   },
   "source": [
    "<img src=\"https://www.mines.edu/webcentral/wp-content/uploads/sites/267/2019/02/horizontallightbackground.jpg\" width=\"100%\"> \n",
    "### CSCI250 Python Computing: Building a Sensor System\n",
    "<hr style=\"height:5px\" width=\"100%\" align=\"left\">\n",
    "\n",
    "# Python loops"
   ]
  },
  {
   "cell_type": "markdown",
   "metadata": {
    "slideshow": {
     "slide_type": "slide"
    }
   },
   "source": [
    "# Objective\n",
    "* introduce repeated code execution"
   ]
  },
  {
   "cell_type": "markdown",
   "metadata": {
    "slideshow": {
     "slide_type": "slide"
    }
   },
   "source": [
    "# Resources\n",
    "* [Python introduction](https://docs.python.org/3/tutorial)"
   ]
  },
  {
   "cell_type": "markdown",
   "metadata": {
    "slideshow": {
     "slide_type": "slide"
    }
   },
   "source": [
    "# `range()`\n",
    "Generates a sequence of numbers used as the sequence of a loop. \n",
    "\n",
    "Does not store the values in memory, but generates them one at a time.\n",
    "\n",
    "`\n",
    "range(start,stop,step)\n",
    "`\n",
    "* `start` defaults to 0\n",
    "* `step` defaults to 1\n",
    "* `stop` is required"
   ]
  },
  {
   "cell_type": "markdown",
   "metadata": {
    "slideshow": {
     "slide_type": "slide"
    }
   },
   "source": [
    "# `for`\n",
    "\n",
    "Iterates over a block of code as directed by the items in a sequence. \n",
    "\n",
    "\n",
    "`\n",
    "for val in sequence:\n",
    "    body of statement\n",
    "`\n"
   ]
  },
  {
   "cell_type": "code",
   "execution_count": 1,
   "metadata": {
    "scrolled": true,
    "slideshow": {
     "slide_type": "-"
    }
   },
   "outputs": [
    {
     "name": "stdout",
     "output_type": "stream",
     "text": [
      "0 0\n",
      "1 1\n",
      "2 3\n",
      "3 6\n",
      "4 10\n",
      "5 15\n",
      "6 21\n",
      "7 28\n",
      "8 36\n",
      "9 45\n"
     ]
    }
   ],
   "source": [
    "n = 10\n",
    "\n",
    "s = 0              # initialize sum\n",
    "for i in range(n): # generate numbers i one at a time\n",
    "    s += i         # update sum\n",
    "    print(i,s)"
   ]
  },
  {
   "cell_type": "markdown",
   "metadata": {
    "slideshow": {
     "slide_type": "slide"
    }
   },
   "source": [
    "The `for` loop can also be used to iterate over compound types.\n",
    "\n",
    "***\n",
    "<img src=\"https://www.dropbox.com/s/u628vjn2uc5h3ua/notebook.png?raw=1\" width=\"10%\" align=\"right\">\n",
    "\n",
    "See the [types notebook](s_PyType.ipynb) for more info on compound types."
   ]
  },
  {
   "cell_type": "markdown",
   "metadata": {
    "slideshow": {
     "slide_type": "slide"
    }
   },
   "source": [
    "# `list()`\n",
    "Captures the items returned by the `range()` function. "
   ]
  },
  {
   "cell_type": "code",
   "execution_count": null,
   "metadata": {},
   "outputs": [],
   "source": [
    "n = 10\n",
    "\n",
    "print( list(range(  n  )) )\n",
    "\n",
    "print( list(range(4,n  )) )\n",
    "\n",
    "print( list(range(4,n,2)) )"
   ]
  },
  {
   "cell_type": "code",
   "execution_count": null,
   "metadata": {
    "slideshow": {
     "slide_type": "slide"
    }
   },
   "outputs": [],
   "source": [
    "n = 10\n",
    "\n",
    "# capture the output of range in a list\n",
    "myNums = list( range(n) )\n",
    "print(myNums)"
   ]
  },
  {
   "cell_type": "code",
   "execution_count": null,
   "metadata": {},
   "outputs": [],
   "source": [
    "s = 0              # initialize sum\n",
    "for i in myNums:\n",
    "    s += i         # update sum\n",
    "    print(i,s)"
   ]
  },
  {
   "cell_type": "code",
   "execution_count": null,
   "metadata": {
    "scrolled": true,
    "slideshow": {
     "slide_type": "slide"
    }
   },
   "outputs": [],
   "source": [
    "s = 'Colorado'\n",
    "print(s)\n",
    "for i in s:\n",
    "    print(i, end=' ')"
   ]
  },
  {
   "cell_type": "code",
   "execution_count": null,
   "metadata": {
    "scrolled": true
   },
   "outputs": [],
   "source": [
    "t = tuple(s)\n",
    "print(t)\n",
    "for i in t:\n",
    "    print(i, end=' ')"
   ]
  },
  {
   "cell_type": "code",
   "execution_count": null,
   "metadata": {},
   "outputs": [],
   "source": [
    "l = list(s)\n",
    "print(l)\n",
    "for i in l:\n",
    "    print(i, end=' ')"
   ]
  },
  {
   "cell_type": "markdown",
   "metadata": {
    "slideshow": {
     "slide_type": "slide"
    }
   },
   "source": [
    "# `for...else`\n",
    "Adds a block of code to be executed at the completion of the loop.\n",
    "\n",
    "`\n",
    "for val in sequence:\n",
    "    body of loop\n",
    "else:\n",
    "    post loop statement(s)\n",
    "`"
   ]
  },
  {
   "cell_type": "code",
   "execution_count": null,
   "metadata": {
    "scrolled": true,
    "slideshow": {
     "slide_type": "-"
    }
   },
   "outputs": [],
   "source": [
    "s = 'Colorado'\n",
    "\n",
    "for i in s:\n",
    "    print(i, end=' ')\n",
    "else:\n",
    "    print('')\n",
    "    print('The string has',len(s),'characters')"
   ]
  },
  {
   "cell_type": "markdown",
   "metadata": {
    "slideshow": {
     "slide_type": "slide"
    }
   },
   "source": [
    "<img src=\"https://www.dropbox.com/s/7vd3ezqkyhdxmap/demo.png?raw=1\" width=\"10%\" align=\"left\">\n",
    "\n",
    "# Demo\n",
    "Construct the Fibonacci sequence of $n$ numbers using a `for` loop."
   ]
  },
  {
   "cell_type": "code",
   "execution_count": null,
   "metadata": {
    "scrolled": true,
    "slideshow": {
     "slide_type": "slide"
    }
   },
   "outputs": [],
   "source": [
    "n = 10\n",
    "\n",
    "a = 0              # initialize index 0\n",
    "print(0,a) \n",
    "\n",
    "b = 1              # initialize index 1\n",
    "print(1,b)\n",
    "\n",
    "for i in range(2,n):\n",
    "    c = a + b      # next Fibonacci number\n",
    "    print(i,c)\n",
    "    \n",
    "    a = b          # reset a,b for next pass\n",
    "    b = c"
   ]
  },
  {
   "cell_type": "markdown",
   "metadata": {
    "slideshow": {
     "slide_type": "slide"
    }
   },
   "source": [
    "# `while`\n",
    "Iterate over a block of code until a certain condition is satisfied. \n",
    "\n",
    "`\n",
    "while <test condition>:\n",
    "    body of while\n",
    "`\n",
    "\n",
    "*** \n",
    "The test is evaluated after the loop statements are executed once.\n",
    "\n",
    "The execution continues if the condition is `True`."
   ]
  },
  {
   "cell_type": "code",
   "execution_count": null,
   "metadata": {
    "scrolled": true,
    "slideshow": {
     "slide_type": "slide"
    }
   },
   "outputs": [],
   "source": [
    "n = 10\n",
    "s = 0           # initialize sum\n",
    "i = 1           # initialize counter\n",
    "\n",
    "while i < n:\n",
    "    s += i      # update sum\n",
    "    print(i,s)\n",
    "    \n",
    "    i += 1      # update counter\n",
    "    \n",
    "print(s)"
   ]
  },
  {
   "cell_type": "markdown",
   "metadata": {
    "slideshow": {
     "slide_type": "slide"
    }
   },
   "source": [
    "# `while...else`\n",
    "Ends the `while` loop with code executed if the test is `False`.\n",
    "\n",
    "`\n",
    "while <test condition>:\n",
    "    body of while\n",
    "else:\n",
    "    alternative statement(s)\n",
    "`\n"
   ]
  },
  {
   "cell_type": "code",
   "execution_count": null,
   "metadata": {
    "scrolled": true,
    "slideshow": {
     "slide_type": "slide"
    }
   },
   "outputs": [],
   "source": [
    "n = 10\n",
    "s = 0           # initialize sum\n",
    "i = 1           # initialize counter\n",
    "\n",
    "while i < n:\n",
    "    s += i      # update sum\n",
    "    print(i,s)\n",
    "    \n",
    "    i += 1      # update counter\n",
    "else:\n",
    "    print('test condition is False')\n",
    "    \n",
    "print(s)"
   ]
  },
  {
   "cell_type": "markdown",
   "metadata": {
    "slideshow": {
     "slide_type": "slide"
    }
   },
   "source": [
    "<img src=\"https://www.dropbox.com/s/7vd3ezqkyhdxmap/demo.png?raw=1\" width=\"10%\" align=\"left\">\n",
    "\n",
    "# Demo\n",
    "Construct the Fibonacci sequence of $n$ numbers using a `while` loop."
   ]
  },
  {
   "cell_type": "code",
   "execution_count": null,
   "metadata": {
    "slideshow": {
     "slide_type": "slide"
    }
   },
   "outputs": [],
   "source": [
    "# Fibonacci sequence using while loop (known number of elements)\n",
    "n = 10\n",
    "\n",
    "a = 0              # initialize index 0\n",
    "print(0,a) \n",
    "\n",
    "b = 1              # initialize index 1\n",
    "print(1,b) \n",
    "\n",
    "i = 2              # initialize counter\n",
    "while i < n:\n",
    "    c = a + b      # next Fibonacci number\n",
    "    print(i,c)\n",
    "        \n",
    "    a = b          # reset a,b for next pass\n",
    "    b = c\n",
    "    \n",
    "    i += 1         # update counter"
   ]
  },
  {
   "cell_type": "code",
   "execution_count": null,
   "metadata": {
    "scrolled": true,
    "slideshow": {
     "slide_type": "slide"
    }
   },
   "outputs": [],
   "source": [
    "# Fibonacci sequence using while loop (max value in the sequence)\n",
    "maxVal = 50\n",
    "\n",
    "a = 0              # initialize index 0\n",
    "print(0,a) \n",
    "\n",
    "b = 1              # initialize index 1\n",
    "print(1,b)\n",
    "\n",
    "i = 2              # initialize counter\n",
    "while a + b < maxVal:\n",
    "    c = a + b      # next Fibonacci number\n",
    "    print(i,c) \n",
    "    \n",
    "    a = b          # reset a,b for next pass\n",
    "    b = c\n",
    "\n",
    "    i += 1         # update counter"
   ]
  },
  {
   "cell_type": "markdown",
   "metadata": {
    "slideshow": {
     "slide_type": "slide"
    }
   },
   "source": [
    "# `break`\n",
    "\n",
    "Terminates the loop and continues with the statement after the loop."
   ]
  },
  {
   "cell_type": "code",
   "execution_count": null,
   "metadata": {
    "scrolled": true
   },
   "outputs": [],
   "source": [
    "s = 'Colorado'\n",
    "for i in s:    \n",
    "    if i == 'r':\n",
    "        break\n",
    "\n",
    "    print(i,end=' ')"
   ]
  },
  {
   "cell_type": "markdown",
   "metadata": {
    "slideshow": {
     "slide_type": "slide"
    }
   },
   "source": [
    "# `continue`\n",
    "Skips the remaining statements from the loop block but does not exit."
   ]
  },
  {
   "cell_type": "code",
   "execution_count": null,
   "metadata": {},
   "outputs": [],
   "source": [
    "s = 'Colorado'\n",
    "for i in s:    \n",
    "    if i in ('r','o'):\n",
    "        continue\n",
    "    \n",
    "    print(i,end=' ')"
   ]
  },
  {
   "cell_type": "markdown",
   "metadata": {
    "slideshow": {
     "slide_type": "slide"
    }
   },
   "source": [
    "<img src=\"https://www.dropbox.com/s/7vd3ezqkyhdxmap/demo.png?raw=1\" width=\"10%\" align=\"left\">\n",
    "\n",
    "# Demo\n",
    "\n",
    "A sequence for computing $\\pi$ credited to **Gottfried Leibniz** is:\n",
    "\n",
    "$\\dfrac{\\pi}{4} = \\sum\\limits_{i=1}^{n} \\dfrac{ (-1)^{i+1} }{2i-1}$\n",
    "\n",
    "Approximate iteratively the number $\\pi$ for a set number of terms $n$.\n",
    "\n",
    "Compare the approximation with the number provided by `math`."
   ]
  },
  {
   "cell_type": "markdown",
   "metadata": {
    "slideshow": {
     "slide_type": "slide"
    }
   },
   "source": [
    "Define a function to compute $\\pi$ for a $n$ terms of the series:"
   ]
  },
  {
   "cell_type": "code",
   "execution_count": null,
   "metadata": {},
   "outputs": [],
   "source": [
    "# pi calculator\n",
    "def myPi(n=100):\n",
    "    \n",
    "    s = 0.0\n",
    "    for i in range(1,n):\n",
    "        s += pow(-1,i+1) / (2*i-1)\n",
    "\n",
    "    return 4*s"
   ]
  },
  {
   "cell_type": "markdown",
   "metadata": {
    "slideshow": {
     "slide_type": "slide"
    }
   },
   "source": [
    "Compare the $\\pi$ approximation with the one provided by `math`:"
   ]
  },
  {
   "cell_type": "code",
   "execution_count": null,
   "metadata": {
    "scrolled": true
   },
   "outputs": [],
   "source": [
    "import math\n",
    "\n",
    "n = 1000\n",
    "print('     my pi:',myPi(n))\n",
    "print('   math pi:',math.pi)\n",
    "print('difference:',myPi(n)-math.pi)"
   ]
  },
  {
   "cell_type": "markdown",
   "metadata": {
    "slideshow": {
     "slide_type": "slide"
    }
   },
   "source": [
    "<img src=\"https://www.dropbox.com/s/wj23ce93pa9j8pe/demo.png?raw=1\" width=\"10%\" align=\"left\">\n",
    "\n",
    "# Exercise\n",
    "\n",
    "Redo the $\\pi$ calculation using the Leibniz formula, and show the approximate values of $\\pi$ for different values of the loop index. \n",
    "\n",
    "Print something like `i=... pi=...`. \n",
    "\n",
    "Use the `decimal` module to get 5 significant figures."
   ]
  },
  {
   "cell_type": "markdown",
   "metadata": {
    "slideshow": {
     "slide_type": "slide"
    }
   },
   "source": [
    "<img src=\"https://www.dropbox.com/s/7vd3ezqkyhdxmap/demo.png?raw=1\" width=\"10%\" align=\"left\">\n",
    "\n",
    "# Demo\n",
    "\n",
    "Find all **prime numbers** smaller than a given number $n$.\n",
    "\n",
    "Look for numbers $i<n$, s.t. $i$ is divisible by any integer up to $\\sqrt{i}$."
   ]
  },
  {
   "cell_type": "code",
   "execution_count": null,
   "metadata": {
    "slideshow": {
     "slide_type": "slide"
    }
   },
   "outputs": [],
   "source": [
    "import math"
   ]
  },
  {
   "cell_type": "code",
   "execution_count": null,
   "metadata": {},
   "outputs": [],
   "source": [
    "n = 100                          # test numbers up to n"
   ]
  },
  {
   "cell_type": "code",
   "execution_count": null,
   "metadata": {
    "slideshow": {
     "slide_type": "slide"
    }
   },
   "outputs": [],
   "source": [
    "# version 1: use if tests\n",
    "\n",
    "PRIMES = []                      # make a list to store primes\n",
    "\n",
    "for i in range(1,n):             # loop over all numbers i < n\n",
    "    isPrime = True\n",
    "    \n",
    "    m = int(math.sqrt(i))+1      # find the sqrt(i)\n",
    "    for k in range(2,m):         # test all integers k less than sqrt(i)\n",
    "        \n",
    "        if i%k == 0:             # if k is a divisor of i\n",
    "            isPrime = False      # i is not a prime\n",
    "            break                # don't test other integers k\n",
    "    \n",
    "    if(isPrime):                 # if k is prime\n",
    "        PRIMES.append(i)         # add it to the list\n",
    "\n",
    "print(PRIMES)                    # print prime numbers"
   ]
  },
  {
   "cell_type": "code",
   "execution_count": null,
   "metadata": {
    "slideshow": {
     "slide_type": "slide"
    }
   },
   "outputs": [],
   "source": [
    "# version 2: filter with implicit functions\n",
    "\n",
    "PRIMES = [i for i in range(1,n)] # make a list of all numbers < n\n",
    "\n",
    "m = int(math.sqrt(n))+1          # find m = sqrt(N)\n",
    "\n",
    "for k in range(m,1,-1):          # loop with k from m to 2\n",
    "                                 # and filter all numbers divisible by k\n",
    "    PRIMES = list( filter( lambda x: (x%k != 0), PRIMES) )\n",
    "    PRIMES.append(k)             # add k back to the list\n",
    "\n",
    "print(sorted(PRIMES))            # print prime numbers"
   ]
  }
 ],
 "metadata": {
  "celltoolbar": "Slideshow",
  "kernelspec": {
   "display_name": "Python 3 (ipykernel)",
   "language": "python",
   "name": "python3"
  },
  "language_info": {
   "codemirror_mode": {
    "name": "ipython",
    "version": 3
   },
   "file_extension": ".py",
   "mimetype": "text/x-python",
   "name": "python",
   "nbconvert_exporter": "python",
   "pygments_lexer": "ipython3",
   "version": "3.9.2"
  },
  "varInspector": {
   "cols": {
    "lenName": 16,
    "lenType": 16,
    "lenVar": 40
   },
   "kernels_config": {
    "python": {
     "delete_cmd_postfix": "",
     "delete_cmd_prefix": "del ",
     "library": "var_list.py",
     "varRefreshCmd": "print(var_dic_list())"
    },
    "r": {
     "delete_cmd_postfix": ") ",
     "delete_cmd_prefix": "rm(",
     "library": "var_list.r",
     "varRefreshCmd": "cat(var_dic_list()) "
    }
   },
   "types_to_exclude": [
    "module",
    "function",
    "builtin_function_or_method",
    "instance",
    "_Feature"
   ],
   "window_display": false
  }
 },
 "nbformat": 4,
 "nbformat_minor": 4
}
