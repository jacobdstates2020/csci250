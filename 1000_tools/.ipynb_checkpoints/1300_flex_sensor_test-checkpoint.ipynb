{
 "cells": [
  {
   "cell_type": "code",
   "execution_count": null,
   "id": "fb692ed3",
   "metadata": {},
   "outputs": [],
   "source": [
    "# Flex Sensor Test\n",
    "import numpy as np\n",
    "import time\n",
    "\n",
    "Vin = 3.3\n",
    "R2 = 10 #kohm\n",
    "to = time.time()\n",
    "t  = to\n",
    "arr_Vfs = np.ndarray([],dtype='float', order='F')\n",
    "arr_t = np.ndarray([], dtype='float', order='F')\n",
    "while t < to + 5: # loop for 10s\n",
    "    Vfs = adc.readADC(channel=0, device=1) # flex sensor voltage\n",
    "    R1 = R2 * (Vin/Vfs - 1)                # flex sensor resistance\n",
    "    arr_Vfs = np.append(arr_Vfs, Vfs)\n",
    "    arr_t = np.append(arr_t, t-to)\n",
    "    print(format(t-to,'.2f'),\n",
    "          format( Vfs,'.3f'),\n",
    "          format(  R1,'.3f'),)\n",
    "    time.sleep(0.5)\n",
    "    t = time.time()\n",
    "arr_fs = np.concatenate(([arr_t], [arr_Vfs]), axis=0)\n",
    "print(arr_fs)"
   ]
  }
 ],
 "metadata": {
  "kernelspec": {
   "display_name": "Python 3 (ipykernel)",
   "language": "python",
   "name": "python3"
  },
  "language_info": {
   "codemirror_mode": {
    "name": "ipython",
    "version": 3
   },
   "file_extension": ".py",
   "mimetype": "text/x-python",
   "name": "python",
   "nbconvert_exporter": "python",
   "pygments_lexer": "ipython3",
   "version": "3.9.2"
  }
 },
 "nbformat": 4,
 "nbformat_minor": 5
}
