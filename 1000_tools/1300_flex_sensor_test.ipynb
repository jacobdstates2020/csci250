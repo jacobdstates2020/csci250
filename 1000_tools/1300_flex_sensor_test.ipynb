{
 "cells": [
  {
   "cell_type": "code",
   "execution_count": 4,
   "id": "fb692ed3",
   "metadata": {},
   "outputs": [
    {
     "name": "stdout",
     "output_type": "stream",
     "text": [
      "0.00 0.265 114.756\n",
      "0.50 0.265 114.756\n",
      "1.00 0.268 113.253\n",
      "1.51 0.265 114.756\n",
      "2.01 0.265 114.756\n",
      "2.51 0.268 113.253\n",
      "3.01 0.258 117.875\n",
      "3.51 0.235 130.137\n",
      "4.02 0.248 122.857\n",
      "4.52 0.261 116.296\n",
      "[[0.         0.         0.50322199 1.00489593 1.50656176 2.00824761\n",
      "  2.50995994 3.01165867 3.51337934 4.01503897 4.51664281]\n",
      " [0.26774194 0.26451613 0.26451613 0.26774194 0.26451613 0.26451613\n",
      "  0.26774194 0.25806452 0.23548387 0.2483871  0.26129032]]\n"
     ]
    }
   ],
   "source": [
    "# Flex Sensor Test\n",
    "import numpy as np\n",
    "import time\n",
    "import adcUtil as adc\n",
    "Vin = 3.3\n",
    "R2 = 10 #kohm\n",
    "to = time.time()\n",
    "t  = to\n",
    "arr_Vfs = np.ndarray([],dtype='float', order='F')\n",
    "arr_t = np.ndarray([], dtype='float', order='F')\n",
    "while t < to + 5: # loop for 10s\n",
    "    Vfs = adc.readADC(channel=0, device=1) # flex sensor voltage\n",
    "    R1 = R2 * (Vin/Vfs - 1)                # flex sensor resistance\n",
    "    arr_Vfs = np.append(arr_Vfs, Vfs)\n",
    "    arr_t = np.append(arr_t, t-to)\n",
    "    print(format(t-to,'.2f'),\n",
    "          format( Vfs,'.3f'),\n",
    "          format(  R1,'.3f'),)\n",
    "    time.sleep(0.5)\n",
    "    t = time.time()\n",
    "arr_fs = np.concatenate(([arr_t], [arr_Vfs]), axis=0)\n",
    "print(arr_fs)"
   ]
  },
  {
   "cell_type": "code",
   "execution_count": null,
   "id": "e8bcaf80",
   "metadata": {},
   "outputs": [],
   "source": []
  }
 ],
 "metadata": {
  "kernelspec": {
   "display_name": "Python 3 (ipykernel)",
   "language": "python",
   "name": "python3"
  },
  "language_info": {
   "codemirror_mode": {
    "name": "ipython",
    "version": 3
   },
   "file_extension": ".py",
   "mimetype": "text/x-python",
   "name": "python",
   "nbconvert_exporter": "python",
   "pygments_lexer": "ipython3",
   "version": "3.9.2"
  }
 },
 "nbformat": 4,
 "nbformat_minor": 5
}
