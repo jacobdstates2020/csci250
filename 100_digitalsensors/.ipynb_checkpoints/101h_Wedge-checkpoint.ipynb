{
 "cells": [
  {
   "cell_type": "markdown",
   "metadata": {
    "slideshow": {
     "slide_type": "slide"
    }
   },
   "source": [
    "<img src=\"https://www.mines.edu/webcentral/wp-content/uploads/sites/267/2019/02/horizontallightbackground.jpg\" width=\"100%\"> \n",
    "\n",
    "### CSCI250 Python Computing: Building a Sensor System\n",
    "<hr style=\"height:5px\" width=\"100%\" align=\"left\">\n",
    "\n",
    "# Sparkfun Wedge"
   ]
  },
  {
   "cell_type": "markdown",
   "metadata": {
    "slideshow": {
     "slide_type": "slide"
    }
   },
   "source": [
    "# Objective\n",
    "\n",
    "* attach the **Sparkfun Pi Wedge** and **breadboard** to the RPi"
   ]
  },
  {
   "cell_type": "markdown",
   "metadata": {
    "slideshow": {
     "slide_type": "slide"
    }
   },
   "source": [
    "# Parts: Pi Wedge\n",
    "\n",
    "The [Pi Wedge](https://www.sparkfun.com/products/13717) maps the RPi 40-pin connector to a user friendly arrangement and spacing on the breadboard.\n",
    "\n",
    "<img src=\"https://cdn.sparkfun.com//assets/parts/1/1/2/1/3/13717-01.jpg\" width=50%>"
   ]
  },
  {
   "cell_type": "markdown",
   "metadata": {
    "slideshow": {
     "slide_type": "slide"
    }
   },
   "source": [
    "# Parts: ribbon cable\n",
    "The [ribbon cable](https://www.sparkfun.com/products/13028) links the connector on the RPi to the breadboard to facilitate control of low-level peripherals.\n",
    "\n",
    "<img src=\"https://cdn.sparkfun.com//assets/parts/1/0/0/2/0/13028-01.jpg\" width=50%>"
   ]
  },
  {
   "cell_type": "markdown",
   "metadata": {
    "heading_collapsed": true,
    "slideshow": {
     "slide_type": "slide"
    }
   },
   "source": [
    "# Parts: breadboard\n",
    "The [breadboard](https://www.sparkfun.com/products/12615) allows solderless connection of electronic components to the RPi. \n",
    "\n",
    "<img src=\"https://cdn.sparkfun.com//assets/parts/9/2/8/7/12615-01.jpg\" width=50%>"
   ]
  },
  {
   "cell_type": "markdown",
   "metadata": {
    "slideshow": {
     "slide_type": "slide"
    }
   },
   "source": [
    "# Parts: GPIO extender\n",
    "The [extended GPIO header](https://www.sparkfun.com/products/16763) allows GPIO ribbon cable connection to the RPi with a heatsink on.\n",
    "\n",
    "<img src=\"https://cdn.sparkfun.com/r/500-500/assets/parts/1/5/6/5/2/16763-2X20_Pin_Extended_GPIO_Header_-_Female_-_16mm_7.30mm-01.jpg\" width=50%>"
   ]
  },
  {
   "cell_type": "markdown",
   "metadata": {
    "slideshow": {
     "slide_type": "slide"
    }
   },
   "source": [
    "# Installation (1)\n",
    "\n",
    "Attach the ribbon cable to the wedge with Pin 1 (red stripe) pointing towards the FTDI adapter. Make sure the ribbon extends away from the breadboard connection.\n",
    "\n",
    "<img src=\"https://cdn.sparkfun.com/assets/learn_tutorials/3/9/4/Raspberry_Pi_2_Kit-07.jpg\" width=50%>"
   ]
  },
  {
   "cell_type": "markdown",
   "metadata": {
    "heading_collapsed": true,
    "slideshow": {
     "slide_type": "slide"
    }
   },
   "source": [
    "# Installation (2)\n",
    "Socket the Wedge into the breadboard with the pins splitting the middle divider. Position the Wedge in the last set of holes.\n",
    "\n",
    "<img src=\"https://cdn.sparkfun.com/assets/learn_tutorials/3/9/4/Raspberry_Pi_2_Kit-02_cropped.jpg\" width=50%>"
   ]
  },
  {
   "cell_type": "markdown",
   "metadata": {
    "slideshow": {
     "slide_type": "slide"
    }
   },
   "source": [
    "# Installation (3)\n",
    "Connect the ribbon to the RPi using the GPIO extension. The red stripe (Pin 1) should be oriented towards the microSD card. Push straight down until the cable is seated firmly.\n",
    "\n",
    "<img src=\"https://cdn.sparkfun.com//assets/parts/1/5/6/5/2/16763-Extended_GPIO_Female_Header_-_2x20_Pin__16mm_7.30mm_-04.jpg\" width=60%>"
   ]
  },
  {
   "cell_type": "markdown",
   "metadata": {
    "slideshow": {
     "slide_type": "slide"
    }
   },
   "source": [
    "# Breadboard\n",
    "\n",
    "A useful device for prototyping - allows electronic components to be connected without soldering. See [detailed information](https://learn.sparkfun.com/tutorials/how-to-use-a-breadboard) from Sparkfun.\n",
    "\n",
    "<img src=\"https://cdn.sparkfun.com//assets/parts/9/2/8/7/12615-01.jpg\" width=50%>"
   ]
  },
  {
   "cell_type": "markdown",
   "metadata": {
    "slideshow": {
     "slide_type": "slide"
    }
   },
   "source": [
    "A breadboard has 830 tie-in points:\n",
    "* 4 power buses (red for power, blue for ground) \n",
    "* 10 rows and 63 columns. \n",
    "\n",
    "All tie-in points aligned in the same direction are connected with one-another, except if they are separated by a large gap on the board. \n",
    "\n",
    "<img src=\"https://lh6.googleusercontent.com/--2fRFQGK5Ag/TYWhtQwPiCI/AAAAAAAAAUQ/c1JR34yIulI/s1600/breadboard.png\" width=100%>"
   ]
  },
  {
   "cell_type": "markdown",
   "metadata": {
    "slideshow": {
     "slide_type": "slide"
    }
   },
   "source": [
    "# Wedge\n",
    "\n",
    "A mechanism to map the RPi pins to the breadboard, allowing  connection of electronic components. See \n",
    "[detailed information](https://learn.sparkfun.com/tutorials/preassembled-40-pin-pi-wedge-hookup-guide) from Sparkfun.\n",
    "\n",
    "<img src=\"https://cdn.sparkfun.com//assets/parts/1/1/2/1/3/13717-01.jpg\" width=50%>"
   ]
  },
  {
   "cell_type": "markdown",
   "metadata": {
    "slideshow": {
     "slide_type": "slide"
    }
   },
   "source": [
    "The wedge provides access to\n",
    "* [General Purpose Input/Output (GPIO)](https://learn.sparkfun.com/tutorials/raspberry-gpio)\n",
    "* [Serial Peripheral Interface (SPI) protocol](https://learn.sparkfun.com/tutorials/serial-peripheral-interface-spi)\n",
    "* [Inter-integrated Circuit (I2C) protocol](https://learn.sparkfun.com/tutorials/i2c)\n",
    "* [Pulse Width Modulation (PWM)](https://learn.sparkfun.com/tutorials/pulse-width-modulation)"
   ]
  },
  {
   "cell_type": "markdown",
   "metadata": {
    "slideshow": {
     "slide_type": "slide"
    }
   },
   "source": [
    "The RPi pins map directly to the wedge:\n",
    "\n",
    "<img src=\"https://cdn.sparkfun.com/assets/learn_tutorials/4/3/2/PIN-LABELS.png\" width=75%>\n",
    "\n",
    "The pins labeled with letter **G** correspond to the **GPIO interface**."
   ]
  }
 ],
 "metadata": {
  "celltoolbar": "Slideshow",
  "hide_input": false,
  "kernelspec": {
   "display_name": "Python 3 (ipykernel)",
   "language": "python",
   "name": "python3"
  },
  "language_info": {
   "codemirror_mode": {
    "name": "ipython",
    "version": 3
   },
   "file_extension": ".py",
   "mimetype": "text/x-python",
   "name": "python",
   "nbconvert_exporter": "python",
   "pygments_lexer": "ipython3",
   "version": "3.9.2"
  },
  "varInspector": {
   "cols": {
    "lenName": 16,
    "lenType": 16,
    "lenVar": 40
   },
   "kernels_config": {
    "python": {
     "delete_cmd_postfix": "",
     "delete_cmd_prefix": "del ",
     "library": "var_list.py",
     "varRefreshCmd": "print(var_dic_list())"
    },
    "r": {
     "delete_cmd_postfix": ") ",
     "delete_cmd_prefix": "rm(",
     "library": "var_list.r",
     "varRefreshCmd": "cat(var_dic_list()) "
    }
   },
   "types_to_exclude": [
    "module",
    "function",
    "builtin_function_or_method",
    "instance",
    "_Feature"
   ],
   "window_display": false
  }
 },
 "nbformat": 4,
 "nbformat_minor": 4
}
