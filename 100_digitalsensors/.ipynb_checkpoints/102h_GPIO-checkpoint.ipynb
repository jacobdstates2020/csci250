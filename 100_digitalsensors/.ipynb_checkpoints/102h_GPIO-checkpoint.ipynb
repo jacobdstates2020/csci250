{
 "cells": [
  {
   "cell_type": "markdown",
   "metadata": {
    "slideshow": {
     "slide_type": "slide"
    }
   },
   "source": [
    "<img src=\"https://www.mines.edu/webcentral/wp-content/uploads/sites/267/2019/02/horizontallightbackground.jpg\" width=\"100%\"> \n",
    "\n",
    "### CSCI250 Python Computing: Building a Sensor System\n",
    "<hr style=\"height:5px\" width=\"100%\" align=\"left\">\n",
    "\n",
    "# GPIO interface"
   ]
  },
  {
   "cell_type": "markdown",
   "metadata": {
    "slideshow": {
     "slide_type": "slide"
    }
   },
   "source": [
    "# Objectives\n",
    "\n",
    "* introduce and configure the **GPIO** interface\n",
    "* describe pull-up & pull-down resistors"
   ]
  },
  {
   "cell_type": "markdown",
   "metadata": {
    "slideshow": {
     "slide_type": "slide"
    }
   },
   "source": [
    "# Introduction\n",
    "\n",
    "The Pi Wedge has pins labeled **G##** which correspond directly to the [General Purpose Input/Output (GPIO)](https://learn.sparkfun.com/tutorials/raspberry-gpio) interface. \n",
    "\n",
    "The GPIO pins are **digital**, i.e. they can either input or output (logical) \n",
    "* **LOW voltage** ($0$V on RPi)\n",
    "    * $<0.8$V usually represents LOW voltage\n",
    "* **HIGH voltage** ($3.3$V on RPi)\n",
    "    * $>1.8$V usually represents HIGH voltage\n",
    "\n",
    "**N.B.**: Voltages between $0.8$V and $1.8$V are undefined."
   ]
  },
  {
   "cell_type": "markdown",
   "metadata": {
    "slideshow": {
     "slide_type": "slide"
    }
   },
   "source": [
    "# GPIO tutorial\n",
    "\n",
    "The Sparkfun webpage has a thorough [GPIO tutorial](https://learn.sparkfun.com/tutorials/raspberry-gpio/all) which introduces the main features and usage of the digital interface."
   ]
  },
  {
   "cell_type": "markdown",
   "metadata": {
    "slideshow": {
     "slide_type": "slide"
    }
   },
   "source": [
    "# GPIO library\n",
    "\n",
    "In order to make use of the GPIO pins, we need to import the GPIO library which gives access to useful functions consistent with the GPIO interface. \n",
    "\n",
    "The GPIO library is installed on the RPi; import it with the alias `GPIO`."
   ]
  },
  {
   "cell_type": "code",
   "execution_count": null,
   "metadata": {
    "slideshow": {
     "slide_type": "-"
    }
   },
   "outputs": [],
   "source": [
    "# import the GPIO library\n",
    "\n",
    "import RPi.GPIO as GPIO"
   ]
  },
  {
   "cell_type": "markdown",
   "metadata": {
    "slideshow": {
     "slide_type": "slide"
    }
   },
   "source": [
    "# Wedge pin mapping\n",
    "\n",
    "The RPi pins are labeled sequentially (1 to 40) - **board numbering**. \n",
    "\n",
    "The Wedge pins have names (GPIO##) - **BCM numbering**.\n",
    "* stands for Broadcom GPIO numbering\n",
    "* **N.B.**: We will use only **BCM numbering**"
   ]
  },
  {
   "cell_type": "markdown",
   "metadata": {
    "slideshow": {
     "slide_type": "slide"
    }
   },
   "source": [
    "<img src=\"https://cdn.sparkfun.com/assets/learn_tutorials/4/2/4/header_pinout.jpg\" width=\"75%\">"
   ]
  },
  {
   "cell_type": "markdown",
   "metadata": {
    "slideshow": {
     "slide_type": "slide"
    }
   },
   "source": [
    "The pins seem to be randomly arranged on the RPi board, but the Wedge reorders them into a more logical configuration.\n",
    "\n",
    "<img src=\"https://cdn.sparkfun.com/assets/learn_tutorials/4/3/2/PIN-LABELS.png\" width=60% align=\"center\">"
   ]
  },
  {
   "cell_type": "markdown",
   "metadata": {
    "slideshow": {
     "slide_type": "slide"
    }
   },
   "source": [
    "# `GPIO.setmode()`\n",
    "\n",
    "Setup the GPIO pins for **board numbering** (1 to 40) \n",
    "\n",
    "`GPIO.setmode(GPIO.BOARD)` \n",
    "\n",
    "or for **BCM numbering** (GPIO##)\n",
    "\n",
    "`GPIO.setmode(GPIO.BCM)`"
   ]
  },
  {
   "cell_type": "code",
   "execution_count": null,
   "metadata": {
    "slideshow": {
     "slide_type": "-"
    }
   },
   "outputs": [],
   "source": [
    "# set Broadcom GPIO numbering\n",
    "\n",
    "GPIO.setmode(GPIO.BCM)"
   ]
  },
  {
   "cell_type": "markdown",
   "metadata": {
    "slideshow": {
     "slide_type": "slide"
    }
   },
   "source": [
    "## Output current limitations\n",
    "\n",
    "When GPIO pins are used as an *output*, they are supplying power to the connected device. These pins can only supply very little power, **no more than 16mA** should be drawn from a single GPIO pin.\n",
    "\n",
    "Additionally, the total current draw from all GPIO pins **should not exceed 50mA**, otherwise damage could occur to your RPi.\n",
    "\n",
    "**N.B.**: For components capable of drawing more current (e.g. LEDs), we will include a resistor in series to limit the current draw from the GPIO pins."
   ]
  },
  {
   "cell_type": "markdown",
   "metadata": {
    "slideshow": {
     "slide_type": "slide"
    }
   },
   "source": [
    "## Input voltage limitations\n",
    "\n",
    "When GPIO pins are used as an *input*, they are measuring the voltage on that pin. The RPi uses a 3.3V logic level, so you should **never exceed 3.3V** on a GPIO pin.\n",
    "\n",
    "You don't need to worry about the current for input pins, since they have a very high resistance and draw very little current."
   ]
  },
  {
   "cell_type": "markdown",
   "metadata": {
    "slideshow": {
     "slide_type": "slide"
    }
   },
   "source": [
    "# `GPIO.setup()`\n",
    "\n",
    "Setup a pin for output using the command \n",
    "\n",
    "`GPIO.setup(pin, GPIO.OUT)`\n",
    "\n",
    "or for input using the command\n",
    "\n",
    "`GPIO.setup(pin, GPIO.IN)` \n",
    "\n",
    "where **pin** is the number of the GPIO pin selected on the Wedge. "
   ]
  },
  {
   "cell_type": "markdown",
   "metadata": {
    "slideshow": {
     "slide_type": "slide"
    }
   },
   "source": [
    "# `GPIO.output()`\n",
    "\n",
    "We can then set the state of the pin with the command \n",
    "\n",
    "`GPIO.output(pin, state)` \n",
    "\n",
    "where the **pin** is the number set before, and the **state** is\n",
    "* `GPIO.HIGH`, or `True`, or `1` for **HIGH voltage**\n",
    "* `GPIO.LOW`, or `False`, or `0` for **LOW voltage**.\n",
    "\n",
    "The default state is (logical) LOW voltage."
   ]
  },
  {
   "cell_type": "markdown",
   "metadata": {
    "slideshow": {
     "slide_type": "slide"
    }
   },
   "source": [
    "<img src=\"https://www.dropbox.com/s/u628vjn2uc5h3ua/notebook.png?raw=1\" width=\"10%\" align=\"left\">\n",
    "\n",
    "See the [LED notebook](h_LED.ipynb) for an example of an output device using GPIO."
   ]
  },
  {
   "cell_type": "code",
   "execution_count": null,
   "metadata": {
    "slideshow": {
     "slide_type": "slide"
    }
   },
   "outputs": [],
   "source": [
    "# set a variable for the pin index\n",
    "outputPin = 27\n",
    "\n",
    "# setup the pin in output mode\n",
    "GPIO.setup(outputPin, GPIO.OUT)\n",
    "\n",
    "# set the pin to \n",
    "# logical HIGH voltage with True, or \n",
    "# logical  LOW voltage with False\n",
    "GPIO.output(outputPin, True)"
   ]
  },
  {
   "cell_type": "markdown",
   "metadata": {
    "slideshow": {
     "slide_type": "slide"
    }
   },
   "source": [
    "# `GPIO.input()`\n",
    "\n",
    "We can capture the voltage of the pin with the command \n",
    "\n",
    "`GPIO.input(pin)` \n",
    "\n",
    "where **pin** is the number set before. We can receive\n",
    "* `GPIO.HIGH`, or `True`, or `1` for **HIGH voltage**\n",
    "* `GPIO.LOW`, or `False`, or `0` for **LOW voltage**."
   ]
  },
  {
   "cell_type": "markdown",
   "metadata": {
    "slideshow": {
     "slide_type": "slide"
    }
   },
   "source": [
    "<img src=\"https://www.dropbox.com/s/u628vjn2uc5h3ua/notebook.png?raw=1\" width=\"10%\" align=\"left\">\n",
    "\n",
    "See the [button notebook](h_PushButton.ipynb) for an example of an input device using GPIO."
   ]
  },
  {
   "cell_type": "code",
   "execution_count": null,
   "metadata": {
    "slideshow": {
     "slide_type": "slide"
    }
   },
   "outputs": [],
   "source": [
    "# set a variable for the pin index\n",
    "inputPin = 12\n",
    "\n",
    "# setup the pin in input mode\n",
    "GPIO.setup(inputPin, GPIO.IN)\n",
    "\n",
    "# print the state of the pin\n",
    "# 0 for  LOW voltage\n",
    "# 1 for HIGH voltage\n",
    "print(GPIO.input(inputPin))"
   ]
  },
  {
   "cell_type": "markdown",
   "metadata": {
    "slideshow": {
     "slide_type": "slide"
    }
   },
   "source": [
    "## Floating input pins\n",
    "\n",
    "When nothing is connected to an input pin, it is considered to be **floating**. Nothing is controlling the voltage, so it could be anything. Simply moving your hand near the pin can cause electrons to move on/off the pin, which changes its state. This can cause seemingly random behavior and makes debugging more difficult. \n",
    "\n",
    "Always make sure your input pins are never floating by using **pull up/down resistors** as needed. These are high resistance (eg. 50k$\\Omega$ for internal RPi resistors) and force the pin to HIGH or LOW in these situations."
   ]
  },
  {
   "cell_type": "markdown",
   "metadata": {
    "slideshow": {
     "slide_type": "slide"
    }
   },
   "source": [
    "## Pull-down resistors\n",
    "are connected between the pin and LOW voltage (GND):\n",
    "* if the button is **released**, the pin is connected to **LOW voltage**.\n",
    "* if the button is **pressed**, the pin is connected to **HIGH voltage**.\n",
    "\n",
    "The other side of the button needs to be connected to **HIGH voltage**.\n",
    "\n",
    "<img src=\"https://www.dropbox.com/s/vhqjxhiz65jokzp/wiring_pull_down.PNG?raw=1\" width=\"35%\" align=\"center\">"
   ]
  },
  {
   "cell_type": "markdown",
   "metadata": {
    "slideshow": {
     "slide_type": "slide"
    }
   },
   "source": [
    "## Pull-up resistors\n",
    "are connected between the pin and HIGH voltage (3.3V):\n",
    "* if the button is **released**, the pin is connected to **HIGH voltage**.\n",
    "* if the button is **pressed**, the pin is connected to **LOW voltage**.\n",
    "\n",
    "The other side of the button needs to be connected to **LOW voltage**.\n",
    "\n",
    "<img src=\"https://www.dropbox.com/s/fyssloolo09i1wg/wiring_pull_up.PNG?raw=1\" width=\"35%\" align=\"center\">"
   ]
  },
  {
   "cell_type": "markdown",
   "metadata": {
    "slideshow": {
     "slide_type": "slide"
    }
   },
   "source": [
    "The previous diagrams explicitly show the resistors, however they are not usually included in circuits. \n",
    "\n",
    "The RPis include internal resistors that we can enable when the pins are used as inputs. To achieve that, we can supply the optional argument `pull_up_down` to the `GPIO.setup` function, as follows:"
   ]
  },
  {
   "cell_type": "code",
   "execution_count": null,
   "metadata": {
    "slideshow": {
     "slide_type": "-"
    }
   },
   "outputs": [],
   "source": [
    "# sets a pull-down resistor\n",
    "GPIO.setup(inputPin, GPIO.IN, pull_up_down = GPIO.PUD_DOWN)\n",
    "\n",
    "# sets a pull-up resistor\n",
    "GPIO.setup(inputPin, GPIO.IN, pull_up_down = GPIO.PUD_UP)"
   ]
  },
  {
   "cell_type": "markdown",
   "metadata": {
    "slideshow": {
     "slide_type": "-"
    }
   },
   "source": [
    "See a pull-up/down [tutorial](https://learn.sparkfun.com/tutorials/pull-up-resistors) on the Sparkfun webpage."
   ]
  },
  {
   "cell_type": "markdown",
   "metadata": {
    "slideshow": {
     "slide_type": "slide"
    }
   },
   "source": [
    "# `GPIO.cleanup()`\n",
    "\n",
    "When done using the GPIO pins, terminate everything and return to the reference state to avoid warnings and errors in subsequent runs. "
   ]
  },
  {
   "cell_type": "code",
   "execution_count": null,
   "metadata": {
    "slideshow": {
     "slide_type": "-"
    }
   },
   "outputs": [],
   "source": [
    "# return everything to a base state\n",
    "\n",
    "GPIO.cleanup()"
   ]
  },
  {
   "cell_type": "markdown",
   "metadata": {
    "slideshow": {
     "slide_type": "slide"
    }
   },
   "source": [
    "# GPIO usage summary\n",
    "\n",
    "* import the GPIO library: `import RPi.GPIO as GPIO`\n",
    "* select BCM numbering: `GPIO.setmode(GPIO.BCM)`\n",
    "***\n",
    "* setup input mode: `GPIO.setup(pin, GPIO.IN)` \n",
    "* setup output mode: `GPIO.setup(pin,GPIO.OUT)`\n",
    "***\n",
    "* input signal: `GPIO.input(pin)` \n",
    "* output signal `GPIO.output(pin, True)`\n",
    "***\n",
    "* clean-up GPIO\n",
    "`GPIO.cleanup()`"
   ]
  }
 ],
 "metadata": {
  "celltoolbar": "Slideshow",
  "hide_input": false,
  "kernelspec": {
   "display_name": "Python 3 (ipykernel)",
   "language": "python",
   "name": "python3"
  },
  "language_info": {
   "codemirror_mode": {
    "name": "ipython",
    "version": 3
   },
   "file_extension": ".py",
   "mimetype": "text/x-python",
   "name": "python",
   "nbconvert_exporter": "python",
   "pygments_lexer": "ipython3",
   "version": "3.9.2"
  },
  "varInspector": {
   "cols": {
    "lenName": 16,
    "lenType": 16,
    "lenVar": 40
   },
   "kernels_config": {
    "python": {
     "delete_cmd_postfix": "",
     "delete_cmd_prefix": "del ",
     "library": "var_list.py",
     "varRefreshCmd": "print(var_dic_list())"
    },
    "r": {
     "delete_cmd_postfix": ") ",
     "delete_cmd_prefix": "rm(",
     "library": "var_list.r",
     "varRefreshCmd": "cat(var_dic_list()) "
    }
   },
   "types_to_exclude": [
    "module",
    "function",
    "builtin_function_or_method",
    "instance",
    "_Feature"
   ],
   "window_display": false
  }
 },
 "nbformat": 4,
 "nbformat_minor": 4
}
