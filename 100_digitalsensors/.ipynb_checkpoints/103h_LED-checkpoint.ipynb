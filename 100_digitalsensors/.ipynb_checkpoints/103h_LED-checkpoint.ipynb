{
 "cells": [
  {
   "cell_type": "markdown",
   "metadata": {
    "slideshow": {
     "slide_type": "slide"
    }
   },
   "source": [
    "<img src=\"https://www.mines.edu/webcentral/wp-content/uploads/sites/267/2019/02/horizontallightbackground.jpg\" width=\"100%\"> \n",
    "\n",
    "### CSCI250 Python Computing: Building a Sensor System\n",
    "<hr style=\"height:5px\" width=\"100%\" align=\"left\">\n",
    "\n",
    "# Light Emitting Diode"
   ]
  },
  {
   "cell_type": "markdown",
   "metadata": {
    "heading_collapsed": true,
    "slideshow": {
     "slide_type": "slide"
    }
   },
   "source": [
    "# Introduction\n",
    "\n",
    "<img src=\"https://cdn.sparkfun.com//assets/parts/8/6/5/6/12062-01.jpg\" width=\"30%\" align=\"right\">\n",
    "\n",
    "**LEDs** or [light emitting diodes](https://en.wikipedia.org/wiki/Light-emitting_diode) are semiconductor devices that produce light when a voltage is applied to them. \n",
    "\n",
    "They are simple output devices and the Sparkfun sensor kit comes with LEDs in a variety of colors, as well as one in infrared (IR)."
   ]
  },
  {
   "cell_type": "markdown",
   "metadata": {
    "slideshow": {
     "slide_type": "slide"
    }
   },
   "source": [
    "# Wiring\n",
    "\n",
    "LEDs are types of diodes, meaning current only flows through them in one direction. The **longer leg connects to the higher voltage**, which causes the LED to light up. Reversing the LED doesn't damage it, it will simply not produce light. \n",
    "\n",
    "High voltages result in high current through the LEDs which will cause them to heat up and break. The RPi HIGH voltage of 3.3V results in too much current in LED, so **a resistor should always be in series with LEDs** - use the 330$\\Omega$ resistors.\n",
    "\n",
    "With the resistor included, the LEDs draw 10-15mA which is close to the GPIO current limit. For this reason, **only connect 1 LED per GPIO pin** to prevent damage to them."
   ]
  },
  {
   "cell_type": "markdown",
   "metadata": {
    "slideshow": {
     "slide_type": "slide"
    }
   },
   "source": [
    "If we want an LED to always be on, we can connect it between the 3.3V and GND pins of the wedge, but that's not very useful. Instead of the 3.3V pin, we can use one of the GPIO pins to control when the LED is set to ON or OFF. \n",
    "\n",
    "Here is a wiring example. In this case, the long LED leg is connected to the GPIO pin 27. The LED and the 330$\\Omega$ resistor are connected along a line of tie-in points. The resistor is connected to ground (GND).\n",
    "\n",
    "<img src=\"https://www.dropbox.com/s/069zlqfbuc4q7z3/wiring_led.PNG?raw=1\" width=\"40%\" align=\"left\">\n",
    "\n",
    "<img src=\"https://www.dropbox.com/s/n48y1h6rrqy01hn/circuit_led.jpg?raw=1\" width=\"40%\" align=\"right\">"
   ]
  },
  {
   "cell_type": "markdown",
   "metadata": {
    "slideshow": {
     "slide_type": "slide"
    }
   },
   "source": [
    "# Resistors\n",
    "The 4 **color bands** painted on every resistor in the kit build the **resistance value** as follows:\n",
    "digit/digit/multiplier/tolerance. \n",
    "* For example, **orange/orange/brown** represent the numbers 3/3/10, for a resistace of 330$\\Omega$. \n",
    "\n",
    "See [documentation](https://www.allaboutcircuits.com/textbook/reference/chpt-2/resistor-color-codes/) for more information about resistor values.\n",
    "\n",
    "<img src=\"https://www.digikey.com/-/media/Images/Marketing/Resources/Calculator/resistor-color-chart.png?la=en-US&ts=4db603f5-4e9b-4759-84b7-21a04d18b1a8\">"
   ]
  },
  {
   "cell_type": "markdown",
   "metadata": {
    "slideshow": {
     "slide_type": "slide"
    }
   },
   "source": [
    "# Programming\n",
    "\n",
    "In order to control the LED, we first need to configure the GPIO pin to output mode. This requires the usual setup of importing the GPIO library and setting it to use the GPIO numbering."
   ]
  },
  {
   "cell_type": "code",
   "execution_count": null,
   "metadata": {
    "ExecuteTime": {
     "end_time": "2019-10-22T21:38:38.778664Z",
     "start_time": "2019-10-22T21:38:38.360033Z"
    },
    "slideshow": {
     "slide_type": "-"
    }
   },
   "outputs": [],
   "source": [
    "# import the GPIO library\n",
    "import RPi.GPIO as GPIO\n",
    "\n",
    "# set GPIO numbering\n",
    "GPIO.setmode(GPIO.BCM)\n",
    "\n",
    "# assign a variable for the pin number\n",
    "ledPin = 27\n",
    "\n",
    "# set the GPIO pin to output mode\n",
    "GPIO.setup(ledPin, GPIO.OUT)"
   ]
  },
  {
   "cell_type": "markdown",
   "metadata": {
    "slideshow": {
     "slide_type": "slide"
    }
   },
   "source": [
    "Setting the voltage of the GPIO pin to 3.3V causes current to flow through the LED and produce light."
   ]
  },
  {
   "cell_type": "code",
   "execution_count": null,
   "metadata": {
    "ExecuteTime": {
     "end_time": "2019-10-22T21:38:40.494985Z",
     "start_time": "2019-10-22T21:38:40.479723Z"
    },
    "scrolled": true,
    "slideshow": {
     "slide_type": "-"
    }
   },
   "outputs": [],
   "source": [
    "# use True or 1 or GPIO.HIGH\n",
    "GPIO.output(ledPin, True)"
   ]
  },
  {
   "cell_type": "markdown",
   "metadata": {
    "slideshow": {
     "slide_type": "-"
    }
   },
   "source": [
    "We can turn the LED off by changing `True` to `False`."
   ]
  },
  {
   "cell_type": "code",
   "execution_count": null,
   "metadata": {},
   "outputs": [],
   "source": [
    "# use False or 0 or GPIO.Low\n",
    "GPIO.output(ledPin, False)"
   ]
  },
  {
   "cell_type": "markdown",
   "metadata": {
    "slideshow": {
     "slide_type": "slide"
    }
   },
   "source": [
    "We can also set the LED to alternate between ON and OFF states:"
   ]
  },
  {
   "cell_type": "code",
   "execution_count": null,
   "metadata": {
    "ExecuteTime": {
     "end_time": "2019-10-22T21:38:52.803267Z",
     "start_time": "2019-10-22T21:38:45.774330Z"
    },
    "slideshow": {
     "slide_type": "-"
    }
   },
   "outputs": [],
   "source": [
    "import time\n",
    "\n",
    "for i in range(10):\n",
    "    \n",
    "    GPIO.output(ledPin, True)   # turn on\n",
    "    time.sleep(0.2)             # wait\n",
    "    GPIO.output(ledPin, False)  # turn off\n",
    "    time.sleep(0.5)             # wait, then repeat"
   ]
  },
  {
   "cell_type": "markdown",
   "metadata": {
    "slideshow": {
     "slide_type": "slide"
    }
   },
   "source": [
    "When done we can clean-up and shutdown GPIO."
   ]
  },
  {
   "cell_type": "code",
   "execution_count": null,
   "metadata": {
    "ExecuteTime": {
     "end_time": "2019-10-22T21:38:52.857460Z",
     "start_time": "2019-10-22T21:38:52.830453Z"
    },
    "slideshow": {
     "slide_type": "-"
    }
   },
   "outputs": [],
   "source": [
    "# clean-up GPIO\n",
    "GPIO.cleanup()"
   ]
  },
  {
   "cell_type": "markdown",
   "metadata": {
    "slideshow": {
     "slide_type": "skip"
    }
   },
   "source": [
    "# Troubleshooting\n",
    "\n",
    "* **I get error messages when I run my code**.\n",
    "    * There's probably/likely an issue with the code, not with the electronic components. Read the error message and try to understand what it is telling. If you're not sure, ask for help.\n",
    "    \n",
    "* **The LED never turns on**.\n",
    "    * It is possible that you have wired it incorrectly or that there's a bug in the code. Double check both of these for any errors first. Remember that LEDs are diodes, so they only operate in one direction. The longer leg is the positive side. Also make sure the resistor has good connections, as the legs are a bit thin.\n",
    "    * If you can't find any errors, go back to basics. Recreate the circuit and run the code from this notebook to see if your LED still works. If it is not working, try another LED that you know is working. If the new LED works, then the old LED is probably broken. If neither works, you may be having another issue - ask for help."
   ]
  },
  {
   "cell_type": "markdown",
   "metadata": {
    "slideshow": {
     "slide_type": "slide"
    }
   },
   "source": [
    "<img src=\"https://www.dropbox.com/s/wj23ce93pa9j8pe/demo.png?raw=1\" width=\"10%\" align=\"left\">\n",
    "\n",
    "# Exercise\n",
    "\n",
    "Setup an LED to alternate between ON and OFF states for a total of 20s \n",
    "with progressively longer ON intervals starting at 0.1s and increasing by 0.1s at every step\n",
    "with a 1s gap in-between."
   ]
  },
  {
   "cell_type": "markdown",
   "metadata": {},
   "source": [
    "<img src=\"https://www.dropbox.com/s/wj23ce93pa9j8pe/demo.png?raw=1\" width=\"10%\" align=\"left\">\n",
    "\n",
    "# Exercise\n",
    "\n",
    "Setup 2 LEDs to simulate police emergency lights: \n",
    "**RED**  flash for 0.05s, pause 0.05s, **RED**  flash for 0.05s, pause for 0.5s, then \n",
    "**BLUE** flash for 0.05s, pause 0.05s, **BLUE** flash for 0.05s, pause for 0.5s, then repeat."
   ]
  },
  {
   "cell_type": "code",
   "execution_count": null,
   "metadata": {},
   "outputs": [],
   "source": []
  }
 ],
 "metadata": {
  "celltoolbar": "Slideshow",
  "hide_input": false,
  "kernelspec": {
   "display_name": "Python 3 (ipykernel)",
   "language": "python",
   "name": "python3"
  },
  "language_info": {
   "codemirror_mode": {
    "name": "ipython",
    "version": 3
   },
   "file_extension": ".py",
   "mimetype": "text/x-python",
   "name": "python",
   "nbconvert_exporter": "python",
   "pygments_lexer": "ipython3",
   "version": "3.9.2"
  },
  "varInspector": {
   "cols": {
    "lenName": 16,
    "lenType": 16,
    "lenVar": 40
   },
   "kernels_config": {
    "python": {
     "delete_cmd_postfix": "",
     "delete_cmd_prefix": "del ",
     "library": "var_list.py",
     "varRefreshCmd": "print(var_dic_list())"
    },
    "r": {
     "delete_cmd_postfix": ") ",
     "delete_cmd_prefix": "rm(",
     "library": "var_list.r",
     "varRefreshCmd": "cat(var_dic_list()) "
    }
   },
   "types_to_exclude": [
    "module",
    "function",
    "builtin_function_or_method",
    "instance",
    "_Feature"
   ],
   "window_display": false
  }
 },
 "nbformat": 4,
 "nbformat_minor": 4
}
