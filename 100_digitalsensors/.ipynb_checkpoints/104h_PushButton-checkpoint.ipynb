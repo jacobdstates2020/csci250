{
 "cells": [
  {
   "cell_type": "markdown",
   "metadata": {
    "slideshow": {
     "slide_type": "slide"
    }
   },
   "source": [
    "<img src=\"https://www.mines.edu/webcentral/wp-content/uploads/sites/267/2019/02/horizontallightbackground.jpg\" width=\"100%\"> \n",
    "\n",
    "### CSCI250 Python Computing: Building a Sensor System\n",
    "<hr style=\"height:5px\" width=\"100%\" align=\"left\">\n",
    "\n",
    "# Push button"
   ]
  },
  {
   "cell_type": "markdown",
   "metadata": {
    "heading_collapsed": true,
    "slideshow": {
     "slide_type": "slide"
    }
   },
   "source": [
    "# Introduction\n",
    "\n",
    "<img src=\"https://cdn.sparkfun.com//assets/parts/1/2/2/1/8/14460-01.jpg\" width=\"30%\" align=\"right\">\n",
    "\n",
    "Push buttons are one of the simplest electrical devices, just some metal contacts that complete a circuit when pushed. In this class, we'll mainly use them as GPIO input devices.\n",
    "\n",
    "Here is more information about [push buttons](https://en.wikipedia.org/wiki/Push-button)."
   ]
  },
  {
   "cell_type": "markdown",
   "metadata": {
    "slideshow": {
     "slide_type": "slide"
    }
   },
   "source": [
    "# Wiring\n",
    "\n",
    "The kit has 4 colored push buttons. When inserting the buttons into the breadboard, these buttons usually require more force than other components. Try not to bend the pins when inserting/removing the buttons.\n",
    "\n",
    "Push buttons are best used as GPIO input devices. One side of the button should be connected to the GPIO pin, and the other side to HIGH/LOW (3.3V / 0V). We also need to include pull-up/down resistors to fix the floating state when the button is released."
   ]
  },
  {
   "cell_type": "markdown",
   "metadata": {
    "slideshow": {
     "slide_type": "slide"
    }
   },
   "source": [
    "Each button has 4 pins, which are internally connected as in the diagram: \n",
    "* pins A/C are always connected\n",
    "* pins B/D are always connected. \n",
    "\n",
    "The A/C side connects to the B/D side only when the button is pushed.\n",
    "\n",
    "<img src=\"https://www.dropbox.com/s/g92rl663gd76j3o/circuit_button.jpg?raw=1\" width=\"40%\" align=\"left\">\n",
    "\n",
    "The red button is mounted incorrectly: its A/C side is always connected to its B/D side through the breadboard - the button doesn't do anything."
   ]
  },
  {
   "cell_type": "markdown",
   "metadata": {
    "slideshow": {
     "slide_type": "slide"
    }
   },
   "source": [
    "# Programming\n",
    "\n",
    "In order to use the button as an input, we need to configure the GPIO pin to input mode and activate the internal resistor. This requires the usual setup of importing the GPIO library and setting it to use the GPIO numbering."
   ]
  },
  {
   "cell_type": "code",
   "execution_count": null,
   "metadata": {
    "ExecuteTime": {
     "end_time": "2019-10-22T21:42:48.081023Z",
     "start_time": "2019-10-22T21:42:48.047663Z"
    },
    "slideshow": {
     "slide_type": "-"
    }
   },
   "outputs": [],
   "source": [
    "# import the GPIO library\n",
    "import RPi.GPIO as GPIO\n",
    "\n",
    "# use GPIO numbering\n",
    "GPIO.setmode(GPIO.BCM)\n",
    "\n",
    "# the pin number (choose another pin if 27 is occupied by another device)\n",
    "buttonPin = 12"
   ]
  },
  {
   "cell_type": "markdown",
   "metadata": {
    "slideshow": {
     "slide_type": "slide"
    }
   },
   "source": [
    "## Configuration\n",
    "\n",
    "We can set up push buttons in 2 different configurations:\n",
    "* internal pull-down resistor\n",
    "* internal pull-up resistor\n",
    "\n",
    "**N.B.**: Choose one of the configurations."
   ]
  },
  {
   "cell_type": "markdown",
   "metadata": {
    "slideshow": {
     "slide_type": "slide"
    }
   },
   "source": [
    "## Internal pull-down resistor \n",
    "   * if the button is **released**, the pin is connected to **LOW voltage**) - it is pulled down.\n",
    "   * if the button is **pressed**, the pin is connected to **HIGH voltage**.\n",
    "\n",
    "The other side of the button needs to be connected to **HIGH voltage**.\n",
    "\n",
    "<img src=\"https://www.dropbox.com/s/k807ry12h6fg2do/wiring_button_pull_down.PNG?raw=1\" width=\"35%\" align=\"center\">"
   ]
  },
  {
   "cell_type": "code",
   "execution_count": null,
   "metadata": {
    "ExecuteTime": {
     "end_time": "2019-10-22T21:42:48.081023Z",
     "start_time": "2019-10-22T21:42:48.047663Z"
    },
    "slideshow": {
     "slide_type": "-"
    }
   },
   "outputs": [],
   "source": [
    "# use an internal pull-down resistor - returns 0 when the button is released\n",
    "GPIO.setup(buttonPin, GPIO.IN, pull_up_down = GPIO.PUD_DOWN)\n",
    "\n",
    "print(GPIO.input(buttonPin))"
   ]
  },
  {
   "cell_type": "markdown",
   "metadata": {
    "slideshow": {
     "slide_type": "slide"
    }
   },
   "source": [
    "We can also pick-up the button state over a period of time."
   ]
  },
  {
   "cell_type": "code",
   "execution_count": null,
   "metadata": {},
   "outputs": [],
   "source": [
    "import time\n",
    "\n",
    "for i in range(10):\n",
    "    \n",
    "    print(GPIO.input(buttonPin)) # get button state\n",
    "    time.sleep(1)                # wait 1s"
   ]
  },
  {
   "cell_type": "markdown",
   "metadata": {
    "slideshow": {
     "slide_type": "slide"
    }
   },
   "source": [
    "## Internal pull-up resistor\n",
    "   * if the button is **released**, the pin is connected to **HIGH voltage** - it is pulled up.\n",
    "   * if the button is **pressed**, the pin is connected to **LOW voltage**.\n",
    "\n",
    "The other side of the button needs to be connected to **LOW voltage**.\n",
    "\n",
    "<img src=\"https://www.dropbox.com/s/192uurde4dlpuz3/wiring_button.PNG?raw=1\" width=\"35%\" align=\"center\">"
   ]
  },
  {
   "cell_type": "code",
   "execution_count": null,
   "metadata": {},
   "outputs": [],
   "source": [
    "# use an internal pull-up resistor - returns 1 when the button is released\n",
    "GPIO.setup(buttonPin, GPIO.IN, pull_up_down = GPIO.PUD_UP)\n",
    "\n",
    "print(GPIO.input(buttonPin))"
   ]
  },
  {
   "cell_type": "markdown",
   "metadata": {
    "slideshow": {
     "slide_type": "slide"
    }
   },
   "source": [
    "We can also pick-up the button state over a period of time."
   ]
  },
  {
   "cell_type": "code",
   "execution_count": null,
   "metadata": {
    "ExecuteTime": {
     "end_time": "2019-10-22T21:43:00.592479Z",
     "start_time": "2019-10-22T21:42:50.557806Z"
    },
    "slideshow": {
     "slide_type": "-"
    }
   },
   "outputs": [],
   "source": [
    "import time\n",
    "\n",
    "for i in range(10):\n",
    "    \n",
    "    print(GPIO.input(buttonPin)) # get button state\n",
    "    time.sleep(1)                # wait 1s"
   ]
  },
  {
   "cell_type": "markdown",
   "metadata": {
    "slideshow": {
     "slide_type": "slide"
    }
   },
   "source": [
    "When done we can clean-up and shutdown GPIO."
   ]
  },
  {
   "cell_type": "code",
   "execution_count": null,
   "metadata": {
    "ExecuteTime": {
     "end_time": "2019-10-22T21:43:02.490060Z",
     "start_time": "2019-10-22T21:43:02.465644Z"
    },
    "slideshow": {
     "slide_type": "-"
    }
   },
   "outputs": [],
   "source": [
    "# clean-up GPIO\n",
    "GPIO.cleanup()"
   ]
  },
  {
   "cell_type": "markdown",
   "metadata": {
    "slideshow": {
     "slide_type": "skip"
    }
   },
   "source": [
    "# Troubleshooting\n",
    "\n",
    "* **I get error messages when I run my code**.\n",
    "    * There's probably/likely an issue with the code, not with the electronic components. Read the error message and try to understand what it is telling. If you're not sure, ask for help.\n",
    "    \n",
    "* **Nothing happens when I push the button**.\n",
    "    * It is possible that you have wired it incorrectly or that there's a bug in the code. Double check both of these for any errors first. Remember that the switching action goes from AC->BD, and not A->C or B->D.\n",
    "    * If you can't find any errors, go back to basics. Recreate the circuit and run the code from this notebook to see if your button still works. If it's not working, try another button that you know is working. If the new button works, then the old button is probably broken. If neither works, you may be having another issue - ask for help."
   ]
  },
  {
   "cell_type": "markdown",
   "metadata": {
    "slideshow": {
     "slide_type": "slide"
    }
   },
   "source": [
    "<img src=\"https://www.dropbox.com/s/wj23ce93pa9j8pe/demo.png?raw=1\" width=\"10%\" align=\"left\">\n",
    "\n",
    "# Exercise\n",
    "\n",
    "Setup a push button to return the duration it had been pressed (in s).\n",
    "\n",
    "Print the time duration rounded to 2 decimal points.\n",
    "\n",
    "Exit when the button is released."
   ]
  },
  {
   "cell_type": "markdown",
   "metadata": {},
   "source": [
    "<img src=\"https://www.dropbox.com/s/wj23ce93pa9j8pe/demo.png?raw=1\" width=\"10%\" align=\"left\">\n",
    "\n",
    "# Exercise\n",
    "\n",
    "Setup two LEDs (one red, one blue) and two push buttons (one red, one blue).\n",
    "\n",
    "Set the LEDs to turn on while the buttons of corresponding colors are pressed.\n",
    "\n",
    "Do not exit when the button is released. Exit when both buttons are pressed at once."
   ]
  },
  {
   "cell_type": "code",
   "execution_count": null,
   "metadata": {},
   "outputs": [],
   "source": []
  }
 ],
 "metadata": {
  "celltoolbar": "Slideshow",
  "hide_input": false,
  "kernelspec": {
   "display_name": "Python 3 (ipykernel)",
   "language": "python",
   "name": "python3"
  },
  "language_info": {
   "codemirror_mode": {
    "name": "ipython",
    "version": 3
   },
   "file_extension": ".py",
   "mimetype": "text/x-python",
   "name": "python",
   "nbconvert_exporter": "python",
   "pygments_lexer": "ipython3",
   "version": "3.9.2"
  },
  "varInspector": {
   "cols": {
    "lenName": 16,
    "lenType": 16,
    "lenVar": 40
   },
   "kernels_config": {
    "python": {
     "delete_cmd_postfix": "",
     "delete_cmd_prefix": "del ",
     "library": "var_list.py",
     "varRefreshCmd": "print(var_dic_list())"
    },
    "r": {
     "delete_cmd_postfix": ") ",
     "delete_cmd_prefix": "rm(",
     "library": "var_list.r",
     "varRefreshCmd": "cat(var_dic_list()) "
    }
   },
   "types_to_exclude": [
    "module",
    "function",
    "builtin_function_or_method",
    "instance",
    "_Feature"
   ],
   "window_display": false
  }
 },
 "nbformat": 4,
 "nbformat_minor": 4
}
