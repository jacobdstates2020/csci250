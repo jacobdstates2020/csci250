{
 "cells": [
  {
   "cell_type": "code",
   "execution_count": 99,
   "id": "4745ee0b",
   "metadata": {},
   "outputs": [],
   "source": [
    "#import GPIO Library to allow us to access the pins on the sparkfun wedge\n",
    "import RPi.GPIO as GPIO\n",
    "\n",
    "#set Pin numbering system to match the pins on the wedge instead of by function\n",
    "GPIO.setmode(GPIO.BCM)\n",
    "\n",
    "#set pin number to that on the wedge\n",
    "redpin = 27\n",
    "greenpin = 26\n",
    "inputPin= 5\n",
    "\n",
    "pwm = GPIO.PWM(18, 1)\n",
    "#set GPIO pin to output mode\n",
    "GPIO.setup(inputPin, GPIO.IN)\n",
    "GPIO.setup(18, GPIO.OUT)\n",
    "GPIO.setup(greenpin, GPIO.OUT)\n",
    "GPIO.setup(redpin, GPIO.OUT)"
   ]
  },
  {
   "cell_type": "code",
   "execution_count": 100,
   "id": "6cf10630",
   "metadata": {},
   "outputs": [],
   "source": [
    "#now we need to make the pin output by setting it to True or 1\n",
    "GPIO.output(redpin, True)\n",
    "GPIO.output(greenpin, True)"
   ]
  },
  {
   "cell_type": "code",
   "execution_count": 101,
   "id": "777ee36c",
   "metadata": {},
   "outputs": [
    {
     "name": "stdout",
     "output_type": "stream",
     "text": [
      "Great Success\n",
      "1\n"
     ]
    }
   ],
   "source": [
    "#Lets call for help: In progress\n",
    "import time\n",
    "pwm.start(50)\n",
    "if GPIO.input(18):\n",
    "    print('Great Success')\n",
    "else:\n",
    "    print('Great Success ... NOT')\n",
    "    \n",
    "print(GPIO.input(inputPin))\n",
    "\n",
    "# for i in range(10):\n",
    "    \n",
    "#     GPIO.output(redpin, True)   # turn on\n",
    "#     time.sleep(0.5)             # wait\n",
    "#     GPIO.output(redpin, False)  # turn off\n",
    "#     time.sleep(0.5)             # wait, then repeat\n",
    "#     GPIO.output(greenpin, True)   # turn on\n",
    "#     time.sleep(0.2)             # wait\n",
    "#     GPIO.output(greenpin, False)  # turn off\n",
    "#     time.sleep(0.5)             # wait, then repeat\n",
    "#     GPIO.output(redpin, True)   # turn on\n",
    "#     time.sleep(0.2)             # wait\n",
    "#     GPIO.output(redpin, False)  # turn off\n",
    "#     time.sleep(0.5)             # wait, then repeat\n",
    "#     GPIO.output(redpin, True)   # turn on\n",
    "#     time.sleep(0.5)             # wait\n",
    "#     GPIO.output(redpin, False)  # turn off\n",
    "#     time.sleep(0.5)             # wait, then repeat\n",
    "#     GPIO.output(greenpin, True)   # turn on\n",
    "#     time.sleep(0.2)             # wait\n",
    "#     GPIO.output(greenpin, False)  # turn off\n",
    "#     time.sleep(0.5)             # wait, then repeat\n",
    "#     GPIO.output(redpin, True)   # turn on\n",
    "#     time.sleep(0.2)             # wait\n",
    "#     GPIO.output(redpin, False)  # turn off\n",
    "#     time.sleep(0.5)             # wait, then repeat\n",
    "\n"
   ]
  },
  {
   "cell_type": "code",
   "execution_count": 98,
   "id": "13473f5d",
   "metadata": {},
   "outputs": [],
   "source": [
    "pwm.stop()"
   ]
  },
  {
   "cell_type": "code",
   "execution_count": null,
   "id": "173cba1d",
   "metadata": {},
   "outputs": [],
   "source": []
  },
  {
   "cell_type": "code",
   "execution_count": null,
   "id": "d99e61f0",
   "metadata": {},
   "outputs": [],
   "source": []
  },
  {
   "cell_type": "code",
   "execution_count": null,
   "id": "31f82544",
   "metadata": {},
   "outputs": [],
   "source": []
  }
 ],
 "metadata": {
  "kernelspec": {
   "display_name": "Python 3 (ipykernel)",
   "language": "python",
   "name": "python3"
  },
  "language_info": {
   "codemirror_mode": {
    "name": "ipython",
    "version": 3
   },
   "file_extension": ".py",
   "mimetype": "text/x-python",
   "name": "python",
   "nbconvert_exporter": "python",
   "pygments_lexer": "ipython3",
   "version": "3.9.2"
  }
 },
 "nbformat": 4,
 "nbformat_minor": 5
}
