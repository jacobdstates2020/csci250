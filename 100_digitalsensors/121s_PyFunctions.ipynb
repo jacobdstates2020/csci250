{
 "cells": [
  {
   "cell_type": "markdown",
   "metadata": {
    "slideshow": {
     "slide_type": "slide"
    }
   },
   "source": [
    "<img src=\"https://www.mines.edu/webcentral/wp-content/uploads/sites/267/2019/02/horizontallightbackground.jpg\" width=\"100%\"> \n",
    "### CSCI250 Python Computing: Building a Sensor System\n",
    "<hr style=\"height:5px\" width=\"100%\" align=\"left\">\n",
    "\n",
    "# Python functions"
   ]
  },
  {
   "cell_type": "markdown",
   "metadata": {
    "slideshow": {
     "slide_type": "slide"
    }
   },
   "source": [
    "# Objectives\n",
    "* introduce methods for defining custom functions\n",
    "* discuss function arguments order and defaults"
   ]
  },
  {
   "cell_type": "markdown",
   "metadata": {
    "slideshow": {
     "slide_type": "slide"
    }
   },
   "source": [
    "# Resources\n",
    "* [Python tutorial](https://docs.python.org/3/tutorial)\n",
    "\n",
    "* [Beginner's guide](https://wiki.python.org/moin/BeginnersGuide)\n",
    "\n",
    "* [Developer's guide](https://devguide.python.org)"
   ]
  },
  {
   "cell_type": "markdown",
   "metadata": {
    "slideshow": {
     "slide_type": "slide"
    }
   },
   "source": [
    "# Python functions\n",
    "Groups of statements that accomplish a specific task. \n",
    "\n",
    "Functions encapsulate blocks of code for **reusability**. \n",
    "\n",
    "Encapsulation increases **readability** and code sharing."
   ]
  },
  {
   "cell_type": "markdown",
   "metadata": {
    "slideshow": {
     "slide_type": "slide"
    }
   },
   "source": [
    "# `def`\n",
    "\n",
    "Indicates a function definition with the syntax:\n",
    "\n",
    "`\n",
    "def fname( arguments ):\n",
    "    ''' docstring '''\n",
    "    statement(s)\n",
    "    return <values>\n",
    "`"
   ]
  },
  {
   "cell_type": "markdown",
   "metadata": {
    "slideshow": {
     "slide_type": "slide"
    }
   },
   "source": [
    "\n",
    "* `fname`- follows the common identifier rules:\n",
    "    * must be meaningful\n",
    "    * must be unique\n",
    "    * is case sensitive\n",
    "* `docstring`: (optional) string documenting purpose and use\n",
    "* `arguments`: (optional) transfer values to the function \n",
    "* `colon`: end of the function header and start of the definition\n",
    "* `statement(s)`: code indented using Python conventions\n",
    "\n",
    "`return` indicates the value(s) to be returned to the calling code.   \n",
    "\n",
    "**N.B.**: a function can return multiple values as a `tuple`."
   ]
  },
  {
   "cell_type": "code",
   "execution_count": null,
   "metadata": {
    "slideshow": {
     "slide_type": "slide"
    }
   },
   "outputs": [],
   "source": [
    "def myHello(first,last):\n",
    "    '''\n",
    "    Returns greeting statement for two mandatory\n",
    "    arguments for first and last name\n",
    "    '''\n",
    "    try:\n",
    "        assert (len(first) != 0) and (len(last) != 0)\n",
    "        print('Hello',first,last,'!')\n",
    "        isAnon = False           # set isAnon to False (known name)\n",
    "    except:\n",
    "        print('Hello, Annonymous!')\n",
    "        isAnon = True            # set isAnon to True (unknown name)\n",
    "        \n",
    "    return isAnon                # return isAnon to calling code"
   ]
  },
  {
   "cell_type": "markdown",
   "metadata": {
    "slideshow": {
     "slide_type": "slide"
    }
   },
   "source": [
    "## `docstring`\n",
    "The function documentation; is accessed with `?` or `help()`. "
   ]
  },
  {
   "cell_type": "code",
   "execution_count": null,
   "metadata": {},
   "outputs": [],
   "source": [
    "myHello?"
   ]
  },
  {
   "cell_type": "code",
   "execution_count": null,
   "metadata": {
    "scrolled": false
   },
   "outputs": [],
   "source": [
    "help(myHello)"
   ]
  },
  {
   "cell_type": "markdown",
   "metadata": {
    "slideshow": {
     "slide_type": "slide"
    }
   },
   "source": [
    "## positional arguments \n",
    "\n",
    "Arguments to the function are assigned based on their place."
   ]
  },
  {
   "cell_type": "code",
   "execution_count": null,
   "metadata": {
    "scrolled": true
   },
   "outputs": [],
   "source": [
    "myHello('Bart','Simpson')"
   ]
  },
  {
   "cell_type": "code",
   "execution_count": null,
   "metadata": {
    "scrolled": true
   },
   "outputs": [],
   "source": [
    "myHello('','')"
   ]
  },
  {
   "cell_type": "markdown",
   "metadata": {
    "slideshow": {
     "slide_type": "slide"
    }
   },
   "source": [
    "## keyword arguments\n",
    "\n",
    "Values can be provided in arbitrary order if associated with keywords. "
   ]
  },
  {
   "cell_type": "code",
   "execution_count": null,
   "metadata": {},
   "outputs": [],
   "source": [
    "myHello(last='Simpson',first='Bart')"
   ]
  },
  {
   "cell_type": "markdown",
   "metadata": {
    "slideshow": {
     "slide_type": "slide"
    }
   },
   "source": [
    "* keyword arguments **can** follow positional arguments\n",
    "* positional arguments **cannot** follow keyword arguments "
   ]
  },
  {
   "cell_type": "code",
   "execution_count": null,
   "metadata": {},
   "outputs": [],
   "source": [
    "myHello('Bart',last='Simpson')"
   ]
  },
  {
   "cell_type": "code",
   "execution_count": null,
   "metadata": {},
   "outputs": [],
   "source": [
    "myHello(last='Simpson','Bart')"
   ]
  },
  {
   "cell_type": "markdown",
   "metadata": {
    "slideshow": {
     "slide_type": "slide"
    }
   },
   "source": [
    "## `return`\n",
    "Marks the end of a function.\n",
    "\n",
    "Indicates what is transfered back to the calling code."
   ]
  },
  {
   "cell_type": "code",
   "execution_count": null,
   "metadata": {},
   "outputs": [],
   "source": [
    "anonInfo = myHello('Bart','Simpson')\n",
    "print('returned variable isAnon is',anonInfo)"
   ]
  },
  {
   "cell_type": "markdown",
   "metadata": {
    "slideshow": {
     "slide_type": "slide"
    }
   },
   "source": [
    "# Scope and lifetime\n",
    "\n",
    "Python variables are available for meaningful use\n",
    "* within a **scope**, i.e. a portion of the code\n",
    "* for a **lifetime**, i.e. a time interval (definition to destruction) "
   ]
  },
  {
   "cell_type": "markdown",
   "metadata": {
    "slideshow": {
     "slide_type": "slide"
    }
   },
   "source": [
    "### Variable scope\n",
    "The portion of a program where a variable is available.\n",
    "* Variables defined inside a function have scope limited to the function itself, i.e. have **local scope**.\n",
    "* Variables defined outside a function have scope in the function interior, i.e. have **global scope**."
   ]
  },
  {
   "cell_type": "markdown",
   "metadata": {
    "slideshow": {
     "slide_type": "slide"
    }
   },
   "source": [
    "### Variable lifetime\n",
    "The period for which the variable is available in memory.\n",
    "\n",
    "* Local variables have lifetime limited to the function execution.\n",
    "* Local variables are destroyed when the function completes."
   ]
  },
  {
   "cell_type": "code",
   "execution_count": null,
   "metadata": {
    "slideshow": {
     "slide_type": "slide"
    }
   },
   "outputs": [],
   "source": [
    "anonInfo = myHello('Bart','Simpson')\n",
    "print('returned anonInfo is',anonInfo)\n",
    "\n",
    "# this does not work - variable isAnon is local to the function myHello()\n",
    "print(isAnon)"
   ]
  },
  {
   "cell_type": "markdown",
   "metadata": {
    "slideshow": {
     "slide_type": "slide"
    }
   },
   "source": [
    "## `global`\n",
    "Allows a variable created inside a function to be treated as global. "
   ]
  },
  {
   "cell_type": "code",
   "execution_count": null,
   "metadata": {},
   "outputs": [],
   "source": [
    "def myHello1(first):\n",
    "    '''Returns greeting statement for one mandatory argument for first name, and a global variable for last name'''\n",
    "    \n",
    "    global last # set global variable in a local context\n",
    "    \n",
    "    try:\n",
    "        assert (len(first) != 0) and (len(last) != 0)\n",
    "        print('Hello',first,last,'!')\n",
    "        isAnon = False           # set isAnon to False (known name)\n",
    "    except:\n",
    "        print('Hello, Annonymous!')\n",
    "        isAnon = True            # set isAnon to True (unknown name)\n",
    "        \n",
    "    return isAnon                # return isAnon to calling code"
   ]
  },
  {
   "cell_type": "markdown",
   "metadata": {
    "slideshow": {
     "slide_type": "slide"
    }
   },
   "source": [
    "Since `last` is empty, the function follows the Anonymous route:"
   ]
  },
  {
   "cell_type": "code",
   "execution_count": null,
   "metadata": {},
   "outputs": [],
   "source": [
    "myHello1('Bart')"
   ]
  },
  {
   "cell_type": "markdown",
   "metadata": {
    "slideshow": {
     "slide_type": "slide"
    }
   },
   "source": [
    "We can now define a global variable outside the function."
   ]
  },
  {
   "cell_type": "code",
   "execution_count": null,
   "metadata": {},
   "outputs": [],
   "source": [
    "last = 'Simpson' "
   ]
  },
  {
   "cell_type": "markdown",
   "metadata": {
    "slideshow": {
     "slide_type": "-"
    }
   },
   "source": [
    "Since `last` is defined, the function follows the First/Last route:"
   ]
  },
  {
   "cell_type": "code",
   "execution_count": null,
   "metadata": {
    "scrolled": false
   },
   "outputs": [],
   "source": [
    "myHello1('Bart')"
   ]
  },
  {
   "cell_type": "markdown",
   "metadata": {
    "slideshow": {
     "slide_type": "slide"
    }
   },
   "source": [
    "We can delete a global variable outside the function."
   ]
  },
  {
   "cell_type": "code",
   "execution_count": null,
   "metadata": {
    "scrolled": true
   },
   "outputs": [],
   "source": [
    "del last"
   ]
  },
  {
   "cell_type": "markdown",
   "metadata": {
    "slideshow": {
     "slide_type": "-"
    }
   },
   "source": [
    "Since `last` is empty, the function follows the Anonymous route."
   ]
  },
  {
   "cell_type": "code",
   "execution_count": null,
   "metadata": {},
   "outputs": [],
   "source": [
    "myHello1('Bart')"
   ]
  },
  {
   "cell_type": "markdown",
   "metadata": {
    "slideshow": {
     "slide_type": "slide"
    }
   },
   "source": [
    "# Default arguments\n",
    "\n",
    "Arguments can get **default values** by assignment in the definition. \n",
    "* Arbitrary many arguments can have default values. \n",
    "* Arguments after one with default value must have defaults.\n",
    "\n",
    "The **arguments** without defaults are **mandatory**\n",
    "* they must be provided to the function. "
   ]
  },
  {
   "cell_type": "code",
   "execution_count": null,
   "metadata": {
    "slideshow": {
     "slide_type": "slide"
    }
   },
   "outputs": [],
   "source": [
    "def myHello2(first,last='Simpson'):\n",
    "    '''Returns greeting statement for one mandatory and one optional arguments for first and last name'''\n",
    "    \n",
    "    try:\n",
    "        assert (len(first) != 0) and (len(last) != 0)\n",
    "        print('Hello',first,last,'!')\n",
    "        isAnon = False           # set isAnon to False (known name)\n",
    "    except:\n",
    "        print('Hello, Annonymous!')\n",
    "        isAnon = True            # set isAnon to True (unknown name)\n",
    "        \n",
    "    return isAnon                # return isAnon to calling code"
   ]
  },
  {
   "cell_type": "markdown",
   "metadata": {
    "slideshow": {
     "slide_type": "slide"
    }
   },
   "source": [
    "Defaults can be overridden by function arguments:"
   ]
  },
  {
   "cell_type": "code",
   "execution_count": null,
   "metadata": {
    "scrolled": true
   },
   "outputs": [],
   "source": [
    "myHello2('Bart','Burns')"
   ]
  },
  {
   "cell_type": "markdown",
   "metadata": {
    "slideshow": {
     "slide_type": "slide"
    }
   },
   "source": [
    "If no argument is provided, the default value is used:"
   ]
  },
  {
   "cell_type": "code",
   "execution_count": null,
   "metadata": {
    "scrolled": true
   },
   "outputs": [],
   "source": [
    "myHello2('Lisa')"
   ]
  },
  {
   "cell_type": "markdown",
   "metadata": {
    "slideshow": {
     "slide_type": "slide"
    }
   },
   "source": [
    "Arguments without defaults must be provided:"
   ]
  },
  {
   "cell_type": "code",
   "execution_count": null,
   "metadata": {},
   "outputs": [],
   "source": [
    "# this does not work because the argument 'first' is not provided\n",
    "myHello2(last='Burns')"
   ]
  },
  {
   "cell_type": "markdown",
   "metadata": {
    "slideshow": {
     "slide_type": "slide"
    }
   },
   "source": [
    "# Arbitrary arguments\n",
    "A function can accept an arbitrary number of arguments as a `tuple`. \n",
    "\n",
    "The function executes sequentially for all supplied arguments."
   ]
  },
  {
   "cell_type": "code",
   "execution_count": null,
   "metadata": {
    "slideshow": {
     "slide_type": "slide"
    }
   },
   "outputs": [],
   "source": [
    "def myHello3(*firsts,last='Simpson'):\n",
    "    '''Returns greeting statement for one mandatory and one optional arguments for first and last name'''\n",
    "    \n",
    "    for first in firsts:\n",
    "        try:\n",
    "            assert (len(first) != 0) and (len(last) != 0)\n",
    "            print('Hello',first,last,'!')\n",
    "            isAnon = False           # set isAnon to False (known name)\n",
    "        except:\n",
    "            print('Hello, Annonymous!')\n",
    "            isAnon = True            # set isAnon to True (unknown name)\n",
    "        \n",
    "    return isAnon                    # return isAnon to calling code"
   ]
  },
  {
   "cell_type": "code",
   "execution_count": null,
   "metadata": {},
   "outputs": [],
   "source": [
    "myHello3( 'Maggie','Lisa','Bart' )"
   ]
  },
  {
   "cell_type": "markdown",
   "metadata": {
    "slideshow": {
     "slide_type": "slide"
    }
   },
   "source": [
    "# Anonymous functions\n",
    "Anonymous functions are defined without a name.\n",
    "\n",
    "They are also called **lambda functions**. \n",
    "\n",
    "They are useful when we briefly need a nameless function. \n",
    "\n",
    "They can have any number of arguments, but only one statement. \n",
    "\n",
    "*** \n",
    "\n",
    "The syntax is:\n",
    "\n",
    "`\n",
    "lambda <arguments>: statement\n",
    "`"
   ]
  },
  {
   "cell_type": "code",
   "execution_count": null,
   "metadata": {
    "slideshow": {
     "slide_type": "slide"
    }
   },
   "outputs": [],
   "source": [
    "# explicit function - indicates if the function is a multiple of 3\n",
    "def explFunc(x):\n",
    "    return x%3 == 0"
   ]
  },
  {
   "cell_type": "code",
   "execution_count": null,
   "metadata": {},
   "outputs": [],
   "source": [
    "n = 7\n",
    "for i in range(n):\n",
    "    print(explFunc(i),end=' ')"
   ]
  },
  {
   "cell_type": "code",
   "execution_count": null,
   "metadata": {
    "slideshow": {
     "slide_type": "slide"
    }
   },
   "outputs": [],
   "source": [
    "# implicit function - indicates if the function is a multiple of 3\n",
    "implFunc = lambda x: x%3 == 0"
   ]
  },
  {
   "cell_type": "code",
   "execution_count": null,
   "metadata": {},
   "outputs": [],
   "source": [
    "n = 7   \n",
    "for i in range(n):\n",
    "    print(implFunc(i),end=' ')"
   ]
  },
  {
   "cell_type": "markdown",
   "metadata": {
    "slideshow": {
     "slide_type": "slide"
    }
   },
   "source": [
    "Lambda functions are used as arguments to **higher-order functions** \n",
    "* take other functions as arguments, e.g.\n",
    "    * `map()`\n",
    "    * `filter()`"
   ]
  },
  {
   "cell_type": "markdown",
   "metadata": {
    "slideshow": {
     "slide_type": "slide"
    }
   },
   "source": [
    "## `map()`\n",
    "Apply a function to all elements of a `list`.\n",
    "\n",
    "`map(function, *iterables)`\n",
    "\n",
    "***\n",
    "<img src=\"https://www.dropbox.com/s/u628vjn2uc5h3ua/notebook.png?raw=1\" width=\"10%\" align=\"right\">\n",
    "\n",
    "See the [list notebook](s_PyTypeList.ipynb) for more info."
   ]
  },
  {
   "cell_type": "code",
   "execution_count": null,
   "metadata": {
    "slideshow": {
     "slide_type": "slide"
    }
   },
   "outputs": [],
   "source": [
    "allList = [i for i in range(n)]\n",
    "print(allList)"
   ]
  },
  {
   "cell_type": "code",
   "execution_count": null,
   "metadata": {
    "slideshow": {
     "slide_type": "-"
    }
   },
   "outputs": [],
   "source": [
    "# map list with explicit function\n",
    "explMAP = list( map( explFunc, allList) )\n",
    "print(explMAP)"
   ]
  },
  {
   "cell_type": "code",
   "execution_count": null,
   "metadata": {
    "slideshow": {
     "slide_type": "-"
    }
   },
   "outputs": [],
   "source": [
    "# map list with implicit function\n",
    "implMAP = list( map( lambda x: x%3 == 0, allList) )\n",
    "print(implMAP)"
   ]
  },
  {
   "cell_type": "markdown",
   "metadata": {
    "heading_collapsed": true,
    "slideshow": {
     "slide_type": "slide"
    }
   },
   "source": [
    "## `filter()`\n",
    "Select elements from the `list` according to the function.\n",
    "\n",
    "`filter(function, *iterables`)\n",
    "\n",
    "***\n",
    "<img src=\"https://www.dropbox.com/s/u628vjn2uc5h3ua/notebook.png?raw=1\" width=\"10%\" align=\"right\">\n",
    "\n",
    "See the [list notebook](s_PyTypeList.ipynb) for more info."
   ]
  },
  {
   "cell_type": "code",
   "execution_count": null,
   "metadata": {
    "hidden": true,
    "slideshow": {
     "slide_type": "slide"
    }
   },
   "outputs": [],
   "source": [
    "allList = [i for i in range(n)]\n",
    "print(allList)"
   ]
  },
  {
   "cell_type": "code",
   "execution_count": null,
   "metadata": {
    "hidden": true,
    "slideshow": {
     "slide_type": "-"
    }
   },
   "outputs": [],
   "source": [
    "# filter list with explicit function\n",
    "explFILT = list( filter( explFunc, allList) )\n",
    "print(explFILT)"
   ]
  },
  {
   "cell_type": "code",
   "execution_count": null,
   "metadata": {
    "hidden": true,
    "slideshow": {
     "slide_type": "-"
    }
   },
   "outputs": [],
   "source": [
    "# flter list with implicit function\n",
    "implFILT = list( filter( lambda x: x%3 == 0, allList) )\n",
    "print(implFILT)"
   ]
  },
  {
   "cell_type": "markdown",
   "metadata": {
    "hidden": true,
    "slideshow": {
     "slide_type": "slide"
    }
   },
   "source": [
    "<img src=\"https://www.dropbox.com/s/wj23ce93pa9j8pe/demo.png?raw=1\" width=\"10%\" align=\"left\">\n",
    "\n",
    "# Exercise\n",
    "Create a function with two inputs: \n",
    "* the first should be a power and \n",
    "* the second should be a list of integers. \n",
    "\n",
    "Raise each element of the list to the power and return a new list. \n",
    "\n",
    "Print the list subsets when the output is an even number."
   ]
  }
 ],
 "metadata": {
  "celltoolbar": "Slideshow",
  "kernelspec": {
   "display_name": "Python 3",
   "language": "python",
   "name": "python3"
  },
  "language_info": {
   "codemirror_mode": {
    "name": "ipython",
    "version": 3
   },
   "file_extension": ".py",
   "mimetype": "text/x-python",
   "name": "python",
   "nbconvert_exporter": "python",
   "pygments_lexer": "ipython3",
   "version": "3.8.3"
  },
  "varInspector": {
   "cols": {
    "lenName": 16,
    "lenType": 16,
    "lenVar": 40
   },
   "kernels_config": {
    "python": {
     "delete_cmd_postfix": "",
     "delete_cmd_prefix": "del ",
     "library": "var_list.py",
     "varRefreshCmd": "print(var_dic_list())"
    },
    "r": {
     "delete_cmd_postfix": ") ",
     "delete_cmd_prefix": "rm(",
     "library": "var_list.r",
     "varRefreshCmd": "cat(var_dic_list()) "
    }
   },
   "types_to_exclude": [
    "module",
    "function",
    "builtin_function_or_method",
    "instance",
    "_Feature"
   ],
   "window_display": false
  }
 },
 "nbformat": 4,
 "nbformat_minor": 2
}
