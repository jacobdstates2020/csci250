{
 "cells": [
  {
   "cell_type": "markdown",
   "metadata": {
    "slideshow": {
     "slide_type": "slide"
    }
   },
   "source": [
    "<img src=\"https://www.mines.edu/webcentral/wp-content/uploads/sites/267/2019/02/horizontallightbackground.jpg\" width=\"100%\"> \n",
    "### CSCI250 Python Computing: Building a Sensor System\n",
    "<hr style=\"height:5px\" width=\"100%\" align=\"left\">\n",
    "\n",
    "# Python file I/O"
   ]
  },
  {
   "cell_type": "markdown",
   "metadata": {
    "slideshow": {
     "slide_type": "slide"
    }
   },
   "source": [
    "# Objective\n",
    "* introduce basic I/O and file storage"
   ]
  },
  {
   "cell_type": "markdown",
   "metadata": {
    "slideshow": {
     "slide_type": "slide"
    }
   },
   "source": [
    "# Resources\n",
    "* [Python introduction](https://docs.python.org/3/tutorial/inputoutput.html)\n",
    "\n",
    "* [Beginner's guide](https://wiki.python.org/moin/BeginnersGuide)\n",
    "\n",
    "* [Developer's guide](https://devguide.python.org)"
   ]
  },
  {
   "cell_type": "markdown",
   "metadata": {
    "slideshow": {
     "slide_type": "slide"
    }
   },
   "source": [
    "# `open()`\n",
    "Open file and return an **IO object**. Raises `IOError` upon failure.\n",
    "\n",
    "`open(file, mode='r')`\n",
    "\n",
    "* `file`: is the file name (a string)\n",
    "* `mode` describes how the file is used:\n",
    "    * `r`: read only (default)\n",
    "    * `w`: write only\n",
    "    * `a`: append\n",
    "    * `r+`: read and write\n",
    "    * `b`: binary mode (default mode is text) "
   ]
  },
  {
   "cell_type": "code",
   "execution_count": null,
   "metadata": {},
   "outputs": [],
   "source": [
    "f = open('foo.txt','w')"
   ]
  },
  {
   "cell_type": "markdown",
   "metadata": {
    "slideshow": {
     "slide_type": "slide"
    }
   },
   "source": [
    "## `f.name`\n",
    "Returns the file name associated with an IO object"
   ]
  },
  {
   "cell_type": "code",
   "execution_count": null,
   "metadata": {},
   "outputs": [],
   "source": [
    "f.name"
   ]
  },
  {
   "cell_type": "markdown",
   "metadata": {
    "slideshow": {
     "slide_type": "slide"
    }
   },
   "source": [
    "## `f.mode`\n",
    "Returns the mode associated with an IO object."
   ]
  },
  {
   "cell_type": "code",
   "execution_count": null,
   "metadata": {},
   "outputs": [],
   "source": [
    "f.mode"
   ]
  },
  {
   "cell_type": "markdown",
   "metadata": {
    "slideshow": {
     "slide_type": "slide"
    }
   },
   "source": [
    "## `f.closed`\n",
    "Returns True if the file is open, False otherwise."
   ]
  },
  {
   "cell_type": "code",
   "execution_count": null,
   "metadata": {},
   "outputs": [],
   "source": [
    "f.closed"
   ]
  },
  {
   "cell_type": "markdown",
   "metadata": {
    "slideshow": {
     "slide_type": "slide"
    }
   },
   "source": [
    "## `f.close()`\n",
    "Flush and close an IO object."
   ]
  },
  {
   "cell_type": "code",
   "execution_count": null,
   "metadata": {},
   "outputs": [],
   "source": [
    "f.close()\n",
    "\n",
    "f.closed"
   ]
  },
  {
   "cell_type": "markdown",
   "metadata": {
    "slideshow": {
     "slide_type": "slide"
    }
   },
   "source": [
    "## `f.write()`\n",
    "Writes a string to an IO object.\n",
    "\n",
    "Returns the number of characters written."
   ]
  },
  {
   "cell_type": "code",
   "execution_count": null,
   "metadata": {},
   "outputs": [],
   "source": [
    "f = open('foo.txt','w')\n",
    "\n",
    "s = 'Colorado School of Mines'\n",
    "for i in s.split():\n",
    "    n = f.write(i+'\\n')\n",
    "    print(n,i)\n",
    "    \n",
    "f.close()"
   ]
  },
  {
   "cell_type": "markdown",
   "metadata": {
    "slideshow": {
     "slide_type": "slide"
    }
   },
   "source": [
    "We can also append to a file:"
   ]
  },
  {
   "cell_type": "code",
   "execution_count": null,
   "metadata": {},
   "outputs": [],
   "source": [
    "f = open('foo.txt','a')\n",
    "\n",
    "s = 'is great'\n",
    "for i in s.split():\n",
    "    n = f.write(i+'\\n')\n",
    "    print(n,i)\n",
    "\n",
    "f.close()"
   ]
  },
  {
   "cell_type": "markdown",
   "metadata": {
    "slideshow": {
     "slide_type": "slide"
    }
   },
   "source": [
    "We can check the file using **magic commands**:"
   ]
  },
  {
   "cell_type": "code",
   "execution_count": null,
   "metadata": {},
   "outputs": [],
   "source": [
    "%cat foo.txt"
   ]
  },
  {
   "cell_type": "markdown",
   "metadata": {
    "slideshow": {
     "slide_type": "slide"
    }
   },
   "source": [
    "## `f.read()`\n",
    "\n",
    "Read from an IO object `n` characters or until EOF."
   ]
  },
  {
   "cell_type": "code",
   "execution_count": null,
   "metadata": {},
   "outputs": [],
   "source": [
    "f = open('foo.txt')\n",
    "\n",
    "s1 = f.read(16)     # read a set number of characters\n",
    "print('s1 =',s1)\n",
    "\n",
    "s2 = f.read()       # read until the end of file\n",
    "print('s2 =',s2)\n",
    "\n",
    "f.close()"
   ]
  },
  {
   "cell_type": "markdown",
   "metadata": {
    "slideshow": {
     "slide_type": "slide"
    }
   },
   "source": [
    "## `f.readline()`\n",
    "\n",
    "Read until from an IO object until newline or EOF."
   ]
  },
  {
   "cell_type": "code",
   "execution_count": null,
   "metadata": {
    "scrolled": true
   },
   "outputs": [],
   "source": [
    "f = open('foo.txt')\n",
    "\n",
    "for i in range(7):\n",
    "    line = f.readline()\n",
    "    print( line.rstrip() )  # also remove '\\n'\n",
    "\n",
    "f.close()"
   ]
  },
  {
   "cell_type": "markdown",
   "metadata": {
    "slideshow": {
     "slide_type": "slide"
    }
   },
   "source": [
    "# `in`\n",
    "\n",
    "We can loop through the content of an IO object:"
   ]
  },
  {
   "cell_type": "code",
   "execution_count": null,
   "metadata": {},
   "outputs": [],
   "source": [
    "f = open('foo.txt')\n",
    "\n",
    "for line in f:\n",
    "    print( line.rstrip() )\n",
    "\n",
    "f.close()"
   ]
  },
  {
   "cell_type": "markdown",
   "metadata": {
    "slideshow": {
     "slide_type": "slide"
    }
   },
   "source": [
    "# `with`\n",
    "Ensures that the file is opened and closed, as needed."
   ]
  },
  {
   "cell_type": "code",
   "execution_count": null,
   "metadata": {
    "scrolled": true
   },
   "outputs": [],
   "source": [
    "with open('foo.txt') as f:\n",
    "    for line in f:\n",
    "        print( line.rstrip() )\n",
    "    \n",
    "f.closed"
   ]
  },
  {
   "cell_type": "markdown",
   "metadata": {
    "slideshow": {
     "slide_type": "slide"
    }
   },
   "source": [
    "We can use `with` to open a file temporarily (e.g. to count lines):"
   ]
  },
  {
   "cell_type": "code",
   "execution_count": null,
   "metadata": {},
   "outputs": [],
   "source": [
    "n = 0\n",
    "with open('foo.txt') as f:\n",
    "    for line in f:\n",
    "        n += 1\n",
    "print('there are',n,'lines in the file')"
   ]
  },
  {
   "cell_type": "markdown",
   "metadata": {
    "slideshow": {
     "slide_type": "slide"
    }
   },
   "source": [
    "## `f.tell()`\n",
    "Returns the current position in an IO object. \n",
    "\n",
    "The position is the number of bytes from the beginning of the file."
   ]
  },
  {
   "cell_type": "code",
   "execution_count": null,
   "metadata": {},
   "outputs": [],
   "source": [
    "f = open('foo.txt')\n",
    "\n",
    "for i in range(n):\n",
    "    line = f.readline()\n",
    "    print( line.rstrip() )\n",
    "    \n",
    "    if i < n-1:\n",
    "        for j in range( f.tell() ):\n",
    "            print('.',end='')\n",
    "    \n",
    "    #print('..........pos =',f.tell())\n",
    "    \n",
    "f.close()"
   ]
  },
  {
   "cell_type": "markdown",
   "metadata": {
    "slideshow": {
     "slide_type": "slide"
    }
   },
   "source": [
    "## `f.seek()`\n",
    "\n",
    "Change the offset inside an IO object to the given byte offset."
   ]
  },
  {
   "cell_type": "code",
   "execution_count": null,
   "metadata": {},
   "outputs": [],
   "source": [
    "f = open('foo.txt')\n",
    "\n",
    "off = 19\n",
    "f.seek(off)         # seek to offset\n",
    "\n",
    "print(f.readline()) # read line at off\n",
    "\n",
    "f.close()"
   ]
  },
  {
   "cell_type": "markdown",
   "metadata": {
    "slideshow": {
     "slide_type": "slide"
    }
   },
   "source": [
    "# `rename()`\n",
    "A function in the `os` module used to rename a file."
   ]
  },
  {
   "cell_type": "code",
   "execution_count": null,
   "metadata": {},
   "outputs": [],
   "source": [
    "import os"
   ]
  },
  {
   "cell_type": "code",
   "execution_count": null,
   "metadata": {},
   "outputs": [],
   "source": [
    "os.rename('foo.txt','bar.txt')  # rename foo to bar\n",
    "%ls *.txt\n",
    "\n",
    "os.rename('bar.txt','foo.txt')  # rename bar to foo\n",
    "%ls *.txt"
   ]
  },
  {
   "cell_type": "markdown",
   "metadata": {
    "slideshow": {
     "slide_type": "slide"
    }
   },
   "source": [
    "# `remove()`\n",
    "A function in the `os` module used to remove a file."
   ]
  },
  {
   "cell_type": "code",
   "execution_count": null,
   "metadata": {
    "scrolled": true
   },
   "outputs": [],
   "source": [
    "os.remove('foo.txt')            # remove foo\n",
    "%ls *.txt"
   ]
  },
  {
   "cell_type": "markdown",
   "metadata": {
    "slideshow": {
     "slide_type": "slide"
    }
   },
   "source": [
    "<img src=\"https://www.dropbox.com/s/7vd3ezqkyhdxmap/demo.png?raw=1\" width=\"10%\" align=\"left\">\n",
    "\n",
    "# Demo\n",
    "Use Python I/O to read the text from the `pbd.txt` file one row at a time and store it in an array of strings.\n",
    "\n",
    "Write the entire text to another file with all sentences in reversed order, and all characters in every sentence in reversed order."
   ]
  },
  {
   "cell_type": "markdown",
   "metadata": {
    "slideshow": {
     "slide_type": "slide"
    }
   },
   "source": [
    "Open the file in read mode and read its content into a string. \n",
    "\n",
    "Split the string at the periods and store them in a list. \n",
    "\n",
    "Count the number of sentences."
   ]
  },
  {
   "cell_type": "code",
   "execution_count": null,
   "metadata": {},
   "outputs": [],
   "source": [
    "with open('pbd.txt') as f:\n",
    "    l = f.read()                   # read the entire text in a string\n",
    "    myPBD = l.split(sep='.')       # split the text at . to form a list\n",
    "    n = len(myPBD)                 # count the sentences in the text\n",
    "\n",
    "print('number of sentences =',n)"
   ]
  },
  {
   "cell_type": "markdown",
   "metadata": {
    "slideshow": {
     "slide_type": "slide"
    }
   },
   "source": [
    "Open a file in write mode. \n",
    "\n",
    "Loop over the sentences in the list in reverse order.\n",
    "\n",
    "Reverse the order of the characters in the list.\n",
    "\n",
    "Add a period to each sentence and write it to the file."
   ]
  },
  {
   "cell_type": "code",
   "execution_count": null,
   "metadata": {},
   "outputs": [],
   "source": [
    "with open('dbp.txt','w') as f:     \n",
    "    for i in range(n-1,-1,-1):     # loop over the sentences in the list in reverse order\n",
    "        r = (myPBD[i]+'.')[::-1]   # add a period to each sentence and reverse the order of characters\n",
    "        f.write(r)                 # write to file"
   ]
  },
  {
   "cell_type": "code",
   "execution_count": null,
   "metadata": {
    "slideshow": {
     "slide_type": "slide"
    }
   },
   "outputs": [],
   "source": [
    "%cat pbd.txt"
   ]
  },
  {
   "cell_type": "code",
   "execution_count": null,
   "metadata": {
    "slideshow": {
     "slide_type": "slide"
    }
   },
   "outputs": [],
   "source": [
    "%cat dbp.txt"
   ]
  }
 ],
 "metadata": {
  "celltoolbar": "Slideshow",
  "kernelspec": {
   "display_name": "Python 3 (ipykernel)",
   "language": "python",
   "name": "python3"
  },
  "language_info": {
   "codemirror_mode": {
    "name": "ipython",
    "version": 3
   },
   "file_extension": ".py",
   "mimetype": "text/x-python",
   "name": "python",
   "nbconvert_exporter": "python",
   "pygments_lexer": "ipython3",
   "version": "3.9.2"
  },
  "varInspector": {
   "cols": {
    "lenName": 16,
    "lenType": 16,
    "lenVar": 40
   },
   "kernels_config": {
    "python": {
     "delete_cmd_postfix": "",
     "delete_cmd_prefix": "del ",
     "library": "var_list.py",
     "varRefreshCmd": "print(var_dic_list())"
    },
    "r": {
     "delete_cmd_postfix": ") ",
     "delete_cmd_prefix": "rm(",
     "library": "var_list.r",
     "varRefreshCmd": "cat(var_dic_list()) "
    }
   },
   "types_to_exclude": [
    "module",
    "function",
    "builtin_function_or_method",
    "instance",
    "_Feature"
   ],
   "window_display": false
  }
 },
 "nbformat": 4,
 "nbformat_minor": 2
}
