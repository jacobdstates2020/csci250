{
 "cells": [
  {
   "cell_type": "markdown",
   "metadata": {
    "slideshow": {
     "slide_type": "slide"
    }
   },
   "source": [
    "<img src=\"https://www.mines.edu/webcentral/wp-content/uploads/sites/267/2019/02/horizontallightbackground.jpg\" width=\"100%\"> \n",
    "### CSCI250 Python Computing: Building a Sensor System\n",
    "<hr style=\"height:5px\" width=\"100%\" align=\"left\">\n",
    "\n",
    "# LAB: Morse code \n",
    "## Bart Simpson"
   ]
  },
  {
   "cell_type": "markdown",
   "metadata": {
    "heading_collapsed": true,
    "slideshow": {
     "slide_type": "slide"
    }
   },
   "source": [
    "# Introduction\n",
    "\n",
    "This goal for this lab is to use buttons and LEDs to output a message in Morse code in order to demonstrate basic digital inputs/outputs and GPIO functionality."
   ]
  },
  {
   "cell_type": "markdown",
   "metadata": {
    "hidden": true,
    "slideshow": {
     "slide_type": "slide"
    }
   },
   "source": [
    "<img src=\"https://www.dropbox.com/s/u628vjn2uc5h3ua/notebook.png?raw=1\" width=\"10%\" align=\"right\">\n",
    "\n",
    "Read through\n",
    "* the [GPIO notebook](h_GPIO.ipynb) to learn about the GPIO interface.\n",
    "* the [LED notebook](h_LED.ipynb) to learn about a simple digital output device.\n",
    "* the [button notebook](h_PushButton.ipynb) to learn about a simple digital input device.\n",
    "* the [string notebook](s_PyTypeString.ipynb) to learn about `string` methods.\n",
    "* the [dictionary notebook](s_PyTypeDict.ipynb) to learn about `dict` methods.\n",
    "* the [list notebook](s_PyTypeList.ipynb) to learn about `list` construction and use.\n",
    "\n",
    "**Build the circuits in all notebooks to ensure that everything works correctly.**"
   ]
  },
  {
   "cell_type": "markdown",
   "metadata": {
    "slideshow": {
     "slide_type": "skip"
    }
   },
   "source": [
    "# Pre-lab questions\n",
    "\n",
    "1. What do you always need to include in series with an LED and why?\n",
    "    * Your answer here\n",
    "2. What happens if you reverse the LED?\n",
    "    * Your answer here\n",
    "3. Write the line of code that turns on an LED.\n",
    "    * Your answer here"
   ]
  },
  {
   "cell_type": "markdown",
   "metadata": {
    "execution": {
     "iopub.execute_input": "2020-08-14T03:43:39.429690Z",
     "iopub.status.busy": "2020-08-14T03:43:39.429690Z",
     "iopub.status.idle": "2020-08-14T03:43:39.437692Z",
     "shell.execute_reply": "2020-08-14T03:43:39.436691Z",
     "shell.execute_reply.started": "2020-08-14T03:43:39.429690Z"
    },
    "slideshow": {
     "slide_type": "skip"
    }
   },
   "source": [
    "1. What kind of resistor needs to be included with buttons and why?\n",
    "    * Your answer here\n",
    "2. What happens if you rotate the button 90 degrees in the breadboard?\n",
    "    * Your answer here\n",
    "3. Write the line of code that measures the state of a button.\n",
    "    * Your answer here"
   ]
  },
  {
   "cell_type": "markdown",
   "metadata": {
    "slideshow": {
     "slide_type": "slide"
    }
   },
   "source": [
    "# Directions\n",
    "\n",
    "Your goal is to build a electronic circuit and write the code needed to make an LED output messages in Morse code when a button is pressed. \n",
    "\n",
    "Each button color should correspond to a specific message:\n",
    "* **Green**: \"Hello world\"\n",
    "* **Red**: \"SOS\"\n",
    "* **Blue**: \"The quick brown fox\"\n",
    "* **Yellow**: a string from `input()`"
   ]
  },
  {
   "cell_type": "markdown",
   "metadata": {
    "slideshow": {
     "slide_type": "slide"
    }
   },
   "source": [
    "# Resources\n",
    "\n",
    "Download the file `morse.py` from Canvas.\n",
    "\n",
    "It contains a Python `dict` of the Morse code.\n",
    "\n",
    "* Import the Morse code and store it in a `dict`.\n",
    "* Use a `string` variable to store the message.\n",
    "* Convert the message into Morse code via the dictionary.\n",
    "* Use correct timings for the Morse code signals. "
   ]
  },
  {
   "cell_type": "markdown",
   "metadata": {
    "slideshow": {
     "slide_type": "slide"
    }
   },
   "source": [
    "[Morse code](https://en.wikipedia.org/wiki/Morse_code) consists of `.` and `-` defined relative to a unit of time (U).\n",
    "\n",
    "`1U` is typically 0.1s, but for clarity **use 1s**:\n",
    "   * a **dot** is `1U`\n",
    "   * a **dash** is `3U`\n",
    "   * **signals** are separated by `1U`\n",
    "   * **characters** are separated by `3U`\n",
    "   * **words** are separated by `7U`"
   ]
  },
  {
   "cell_type": "markdown",
   "metadata": {
    "slideshow": {
     "slide_type": "slide"
    }
   },
   "source": [
    "To transmit the words **TO DO** use the Morse encoding\n",
    "* **T** is `-`\n",
    "* **O** is `---`\n",
    "* **D** is `-..`\n",
    "\n",
    "and then execute the following on/off sequence:\n",
    "\n",
    "* **T**:`3U` on\n",
    "\n",
    " `3U` off\n",
    "\n",
    "* **O**:`3U` on, `1U` off, `3U` on, `1U` off, `3U` on\n",
    "\n",
    " `7U` off\n",
    "\n",
    "* **D**:`3U` on, `1U` off, `1U` on, `1U` off, `1U` on \n",
    "\n",
    " `3U` off \n",
    "\n",
    "* **O**:`3U` on, `1U` off, `3U` on, `1U` off, `3U` on\n"
   ]
  },
  {
   "cell_type": "markdown",
   "metadata": {
    "slideshow": {
     "slide_type": "slide"
    }
   },
   "source": [
    "# Hints\n",
    "\n",
    "* Use `string` methods to remove unavailable characters.\n",
    "* Split the message into a `list` of words.\n",
    "* Loop over words; loop over characters.\n",
    "* Use `string` methods to capitalize characters.\n",
    "* Define functions for the `.` and `-` symbols sent via GPIO."
   ]
  },
  {
   "cell_type": "markdown",
   "metadata": {
    "slideshow": {
     "slide_type": "slide"
    }
   },
   "source": [
    "# Extra credit\n",
    "* Use a push button to pause the transmission of the signal."
   ]
  },
  {
   "cell_type": "markdown",
   "metadata": {
    "slideshow": {
     "slide_type": "slide"
    }
   },
   "source": [
    "# Starter code\n",
    "\n",
    "Use comments throughout your code so we can understand what it does. Even if you can't figure out how to write the code for something, a comment explaining what you wanted will get partial credit."
   ]
  },
  {
   "cell_type": "code",
   "execution_count": null,
   "metadata": {
    "slideshow": {
     "slide_type": "-"
    }
   },
   "outputs": [],
   "source": [
    "# useful libraries\n",
    "import RPi.GPIO as GPIO\n",
    "import time\n",
    "\n",
    "# import the Morse code here\n",
    "\n",
    "# set GPIO numbering \n",
    "GPIO.setmode(GPIO.BCM)\n",
    "\n",
    "# setup LED\n",
    "LEDPin = 20\n",
    "GPIO.setup(LEDPin, GPIO.OUT)\n",
    "\n",
    "# store your message\n",
    "message = 'Hello world!'\n",
    "\n",
    "try:\n",
    "    while True: # loop forever\n",
    "        \n",
    "        # flash the LED\n",
    "        GPIO.output(LEDPin, True)\n",
    "        time.sleep(1)\n",
    "        GPIO.output(LEDPin, False)\n",
    "        time.sleep(1)\n",
    "\n",
    "except(KeyboardInterrupt, SystemExit):\n",
    "    print(\"Interrupt!\")\n",
    "\n",
    "finally:\n",
    "    print(\"Done!\")\n",
    "    GPIO.cleanup() # close GPIO"
   ]
  },
  {
   "cell_type": "markdown",
   "metadata": {
    "slideshow": {
     "slide_type": "skip"
    }
   },
   "source": [
    "# Post lab\n",
    "\n",
    "<img src=\"http://www.dropbox.com/s/fcucolyuzdjl80k/todo.jpg?raw=1\" width=\"10%\" align=\"right\">\n",
    "\n",
    "Before you submit the lab, make sure everything works as you expect by restarting the kernel: select **Kernel > Restart & Run All**.\n",
    "\n",
    "Answer the following questions.\n",
    "\n",
    "1. What elements of this lab did you find easy/challenging?\n",
    "    * Your answer here\n",
    "2. What did you like/dislike about this lab?\n",
    "    * Your answer here\n",
    "3. If you did anything worthy of extra credit, tell us about it here!\n",
    "    * Your answer here"
   ]
  },
  {
   "cell_type": "markdown",
   "metadata": {
    "slideshow": {
     "slide_type": "skip"
    }
   },
   "source": [
    "# Submit\n",
    "* Make sure to update your name and department in the top markdown cell.\n",
    "\n",
    "* Rename the Jupyter notebook with the following convention:\n",
    "**HL?-FirstLast.ipynb** (replace ? with the lab number)\n",
    "\n",
    "* Turn in your Jupyter notebook on Canvas. Email submissions don't count.\n",
    "\n",
    "* Include pictures of all the circuits you made."
   ]
  },
  {
   "cell_type": "markdown",
   "metadata": {
    "slideshow": {
     "slide_type": "slide"
    }
   },
   "source": [
    "# Honor code\n",
    "Unless explicitly specified, labs are **individual exercises**. Your submission is subject to the [**Mines Honor Code**](http://inside.mines.edu/~epoeter/_GW/CSMHonorCodeUndergradHandbook.pdf)."
   ]
  }
 ],
 "metadata": {
  "celltoolbar": "Slideshow",
  "kernelspec": {
   "display_name": "Python 3",
   "language": "python",
   "name": "python3"
  },
  "language_info": {
   "codemirror_mode": {
    "name": "ipython",
    "version": 3
   },
   "file_extension": ".py",
   "mimetype": "text/x-python",
   "name": "python",
   "nbconvert_exporter": "python",
   "pygments_lexer": "ipython3",
   "version": "3.7.6"
  },
  "varInspector": {
   "cols": {
    "lenName": 16,
    "lenType": 16,
    "lenVar": 40
   },
   "kernels_config": {
    "python": {
     "delete_cmd_postfix": "",
     "delete_cmd_prefix": "del ",
     "library": "var_list.py",
     "varRefreshCmd": "print(var_dic_list())"
    },
    "r": {
     "delete_cmd_postfix": ") ",
     "delete_cmd_prefix": "rm(",
     "library": "var_list.r",
     "varRefreshCmd": "cat(var_dic_list()) "
    }
   },
   "types_to_exclude": [
    "module",
    "function",
    "builtin_function_or_method",
    "instance",
    "_Feature"
   ],
   "window_display": false
  }
 },
 "nbformat": 4,
 "nbformat_minor": 4
}
