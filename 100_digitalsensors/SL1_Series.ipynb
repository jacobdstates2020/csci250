{
 "cells": [
  {
   "cell_type": "markdown",
   "metadata": {
    "slideshow": {
     "slide_type": "slide"
    }
   },
   "source": [
    "<img src=\"https://www.mines.edu/webcentral/wp-content/uploads/sites/267/2019/02/horizontallightbackground.jpg\" width=\"100%\"> \n",
    "\n",
    "### CSCI250 Python Computing: Building a Sensor System\n",
    "<hr style=\"height:5px\" width=\"100%\" align=\"left\">\n",
    "\n",
    "# LAB: Infinite series\n",
    "## Lisa Simpson"
   ]
  },
  {
   "cell_type": "markdown",
   "metadata": {
    "slideshow": {
     "slide_type": "slide"
    }
   },
   "source": [
    "# Introduction\n",
    "\n",
    "The goal of this lab is to compute different fundamental constants and trig functions using infinite series.\n",
    "\n",
    "You will use encapsulation\n",
    "* of **code** - using functions\n",
    "* of **functions** - using modules."
   ]
  },
  {
   "cell_type": "markdown",
   "metadata": {
    "slideshow": {
     "slide_type": "slide"
    }
   },
   "source": [
    "<img src=\"https://www.dropbox.com/s/u628vjn2uc5h3ua/notebook.png?raw=1\" width=\"10%\" align=\"right\">\n",
    "\n",
    "Read through\n",
    "* the [numbers notebook](./python/s_PyTypeNumbers.ipynb) \n",
    "* the [functions notebook](./python/s_PyFunctions.ipynb) \n",
    "* the [modules notebook](./python/s_PyModules.ipynb)"
   ]
  },
  {
   "cell_type": "markdown",
   "metadata": {
    "slideshow": {
     "slide_type": "slide"
    }
   },
   "source": [
    "# Series for $\\pi$\n",
    "\n",
    "An efficient formula for computing the number $\\pi$ belongs to [Ramanujan](https://en.wikipedia.org/wiki/Srinivasa_Ramanujan):\n",
    "\n",
    "$\\dfrac{1}{\\pi} \n",
    "\\approx \n",
    "\\dfrac{2\\sqrt{2}}{9801} \\sum\\limits_{i=0}^n \\dfrac{(4i)! (1103 + 26390i)}{(i!)^4 396^{4i}}\n",
    "$\n",
    "\n",
    "* Write code to approximate $\\pi$ using the Ramanujan formula.\n",
    "* Add comments to explain what the code is doing.\n",
    "* Compare your approximation with values provided by `math`."
   ]
  },
  {
   "cell_type": "code",
   "execution_count": null,
   "metadata": {
    "slideshow": {
     "slide_type": "slide"
    }
   },
   "outputs": [],
   "source": [
    "import math\n",
    "\n",
    "# number of terms in the sum\n",
    "n = 10\n",
    "\n",
    "mySum = 0\n",
    "for i in range(n):\n",
    "    # write code to calculate the i'th term\n",
    "    iTerm = 1\n",
    "    \n",
    "    # add the i'th term to the sum\n",
    "    mySum += iTerm\n",
    "\n",
    "# compute myPi here\n",
    "myPi = 1.0/mySum\n",
    "\n",
    "# print results and comparison\n",
    "print(myPi)\n",
    "print(math.pi)\n",
    "print(myPi - math.pi)"
   ]
  },
  {
   "cell_type": "markdown",
   "metadata": {
    "slideshow": {
     "slide_type": "slide"
    }
   },
   "source": [
    "# Series for $e$\n",
    "A formula for computing exponentials for arbitrary values of $x$ is:\n",
    "\n",
    "$e^{x} \\approx \\sum\\limits_{i=0}^{n} \\dfrac{x^i}{i!}$\n",
    "\n",
    "* Write a Python function to approximate $e^x$.\n",
    "    * it should have parameters $x$ and $n$ (with defaults).\n",
    "* Add comments to explain what the code is doing.\n",
    "* Compare your approximations with values provided by  `math`."
   ]
  },
  {
   "cell_type": "code",
   "execution_count": null,
   "metadata": {
    "slideshow": {
     "slide_type": "slide"
    }
   },
   "outputs": [],
   "source": [
    "def myExp(x,n=100):\n",
    "    # write code to approximate e^x\n",
    "    myE = 1\n",
    "    \n",
    "    return myE\n",
    "\n",
    "# input value\n",
    "x = 0\n",
    "\n",
    "print(myExp(x))\n",
    "# compare with function from the math module"
   ]
  },
  {
   "cell_type": "markdown",
   "metadata": {
    "slideshow": {
     "slide_type": "slide"
    }
   },
   "source": [
    "# Trigonometric functions\n",
    "\n",
    "* Derive Taylor approximations for $\\sin(x)$ and $cos(x)$.\n",
    "* Write Python code to approximate these functions.\n",
    "    * they should have parameters $x$ and $n$ (with defaults).\n",
    "    * save the functions to an external module `myTrig.py` \n",
    "    * import the module into your lab notebook \n",
    "    * submit your module with the notebook\n",
    "* Add comments to explain what the code is doing.\n",
    "* Compare your approximations with values provided by  `math`."
   ]
  },
  {
   "cell_type": "markdown",
   "metadata": {
    "slideshow": {
     "slide_type": "slide"
    }
   },
   "source": [
    "**Edit this cell to include your $sin(x)$ approximation.**\n",
    "\n",
    "$sin(x) \\approx \\dots$"
   ]
  },
  {
   "cell_type": "code",
   "execution_count": null,
   "metadata": {
    "slideshow": {
     "slide_type": "-"
    }
   },
   "outputs": [],
   "source": [
    "import myTrig\n",
    "\n",
    "x = math.pi/6 \n",
    "\n",
    "mySin = myTrig.sin(x)"
   ]
  },
  {
   "cell_type": "markdown",
   "metadata": {
    "slideshow": {
     "slide_type": "slide"
    }
   },
   "source": [
    "**Edit this cell to include your $cos(x)$ approximation.**\n",
    "\n",
    "$cos(x) \\approx \\dots$"
   ]
  },
  {
   "cell_type": "code",
   "execution_count": null,
   "metadata": {},
   "outputs": [],
   "source": [
    "import myTrig\n",
    "\n",
    "x = math.pi/6 \n",
    "\n",
    "myCos = myTrig.cos(x)"
   ]
  },
  {
   "cell_type": "markdown",
   "metadata": {
    "slideshow": {
     "slide_type": "skip"
    }
   },
   "source": [
    "# Post lab\n",
    "\n",
    "<img src=\"http://www.dropbox.com/s/fcucolyuzdjl80k/todo.jpg?raw=1\" width=\"10%\" align=\"right\">\n",
    "\n",
    "Before you submit the lab, make sure everything works as you expect by restarting the kernel: select **Kernel > Restart & Run All**.\n",
    "\n",
    "Answer the following questions.\n",
    "\n",
    "1. What elements of this lab did you find easy/challenging?\n",
    "    * Your answer here\n",
    "2. What did you like/dislike about this lab?\n",
    "    * Your answer here\n",
    "3. If you did anything worthy of extra credit, tell us about it here!\n",
    "    * Your answer here"
   ]
  },
  {
   "cell_type": "markdown",
   "metadata": {
    "slideshow": {
     "slide_type": "skip"
    }
   },
   "source": [
    "# Submit\n",
    "* Make sure to update your name and department in the top markdown cell.\n",
    "\n",
    "* Rename the Jupyter notebook with the following convention:\n",
    "**SL?-FirstLast.ipynb** (replace ? with the lab number)\n",
    "\n",
    "* Turn in your Jupyter notebook on Canvas. Email submissions don't count."
   ]
  },
  {
   "cell_type": "markdown",
   "metadata": {
    "slideshow": {
     "slide_type": "slide"
    }
   },
   "source": [
    "# Honor code\n",
    "Unless explicitly specified, labs are **individual exercises**. Your submission is subject to the [**Mines Honor Code**](http://inside.mines.edu/~epoeter/_GW/CSMHonorCodeUndergradHandbook.pdf)."
   ]
  }
 ],
 "metadata": {
  "celltoolbar": "Slideshow",
  "hide_input": false,
  "kernelspec": {
   "display_name": "Python 3",
   "language": "python",
   "name": "python3"
  },
  "language_info": {
   "codemirror_mode": {
    "name": "ipython",
    "version": 3
   },
   "file_extension": ".py",
   "mimetype": "text/x-python",
   "name": "python",
   "nbconvert_exporter": "python",
   "pygments_lexer": "ipython3",
   "version": "3.8.5"
  },
  "varInspector": {
   "cols": {
    "lenName": 16,
    "lenType": 16,
    "lenVar": 40
   },
   "kernels_config": {
    "python": {
     "delete_cmd_postfix": "",
     "delete_cmd_prefix": "del ",
     "library": "var_list.py",
     "varRefreshCmd": "print(var_dic_list())"
    },
    "r": {
     "delete_cmd_postfix": ") ",
     "delete_cmd_prefix": "rm(",
     "library": "var_list.r",
     "varRefreshCmd": "cat(var_dic_list()) "
    }
   },
   "types_to_exclude": [
    "module",
    "function",
    "builtin_function_or_method",
    "instance",
    "_Feature"
   ],
   "window_display": false
  }
 },
 "nbformat": 4,
 "nbformat_minor": 2
}
