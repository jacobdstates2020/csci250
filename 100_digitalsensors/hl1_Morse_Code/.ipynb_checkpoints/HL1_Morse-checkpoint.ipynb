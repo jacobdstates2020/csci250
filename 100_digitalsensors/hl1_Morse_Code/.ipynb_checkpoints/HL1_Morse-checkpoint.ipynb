{
 "cells": [
  {
   "cell_type": "markdown",
   "metadata": {
    "slideshow": {
     "slide_type": "slide"
    }
   },
   "source": [
    "<img src=\"https://www.mines.edu/webcentral/wp-content/uploads/sites/267/2019/02/horizontallightbackground.jpg\" width=\"100%\"> \n",
    "### CSCI250 Python Computing: Building a Sensor System\n",
    "<hr style=\"height:5px\" width=\"100%\" align=\"left\">\n",
    "\n",
    "# LAB: Morse code \n",
    "## Jacob States"
   ]
  },
  {
   "cell_type": "markdown",
   "metadata": {
    "heading_collapsed": true,
    "slideshow": {
     "slide_type": "slide"
    }
   },
   "source": [
    "# Introduction\n",
    "\n",
    "This goal for this lab is to use buttons and LEDs to output a message in Morse code in order to demonstrate basic digital inputs/outputs and GPIO functionality."
   ]
  },
  {
   "cell_type": "markdown",
   "metadata": {
    "hidden": true,
    "slideshow": {
     "slide_type": "slide"
    }
   },
   "source": [
    "<img src=\"https://www.dropbox.com/s/u628vjn2uc5h3ua/notebook.png?raw=1\" width=\"10%\" align=\"right\">\n",
    "\n",
    "Read through\n",
    "* the [GPIO notebook](h_GPIO.ipynb) to learn about the GPIO interface.\n",
    "* the [LED notebook](h_LED.ipynb) to learn about a simple digital output device.\n",
    "* the [button notebook](h_PushButton.ipynb) to learn about a simple digital input device.\n",
    "* the [string notebook](s_PyTypeString.ipynb) to learn about `string` methods.\n",
    "* the [dictionary notebook](s_PyTypeDict.ipynb) to learn about `dict` methods.\n",
    "* the [list notebook](s_PyTypeList.ipynb) to learn about `list` construction and use.\n",
    "\n",
    "**Build the circuits in all notebooks to ensure that everything works correctly.**"
   ]
  },
  {
   "cell_type": "markdown",
   "metadata": {
    "slideshow": {
     "slide_type": "skip"
    }
   },
   "source": [
    "# Pre-lab questions\n",
    "\n",
    "1. What do you always need to include in series with an LED and why?\n",
    "    * 330 ohm resistor to prevent the LED from going straight to ground and burning out.\n",
    "2. What happens if you reverse the LED?\n",
    "    * The LED will not light up\n",
    "3. Write the line of code that turns on an LED.\n",
    "``` \n",
    "{\n",
    "    import RPi.GPIO as GPIO \n",
    "    \n",
    "    GPIO.setmode(GPIO.BCM)\n",
    "\n",
    "    pinGled = 12\n",
    "\n",
    "    GPIO.setup(pinGled, GPIO.OUT)\n",
    "\n",
    "    GPIO.output(pinGled, 1)\n",
    "}\n",
    "```"
   ]
  },
  {
   "cell_type": "code",
   "execution_count": 6,
   "metadata": {},
   "outputs": [],
   "source": [
    "import RPi.GPIO as GPIO \n",
    "    \n",
    "GPIO.setmode(GPIO.BCM)\n",
    "\n",
    "pinGled = 12\n",
    "\n",
    "GPIO.setup(pinGled, GPIO.OUT)\n",
    "\n",
    "GPIO.output(pinGled, 0)"
   ]
  },
  {
   "cell_type": "markdown",
   "metadata": {
    "execution": {
     "iopub.execute_input": "2020-08-14T03:43:39.429690Z",
     "iopub.status.busy": "2020-08-14T03:43:39.429690Z",
     "iopub.status.idle": "2020-08-14T03:43:39.437692Z",
     "shell.execute_reply": "2020-08-14T03:43:39.436691Z",
     "shell.execute_reply.started": "2020-08-14T03:43:39.429690Z"
    },
    "slideshow": {
     "slide_type": "slide"
    }
   },
   "source": [
    "1. What kind of resistor needs to be included with buttons and why?\n",
    "    * Internal Pull-up or Pull-down resistor. Either configuration uses the Rpi's internal resistor to lock a pins state into either 0 or 1. Without the resistor, the pin's state is ambigious due to changes in electric fields around the pin.\n",
    "    * The Pull-down setup connects the input pin to ground internally, forcing the pin to consistently read 0. The button is then placed in the path between the pin and the resistor to regulate the pin's state.\n",
    "    *The pull-up setup connects 3.3 V to the pin to hold it in the 1 state. The button's A pin is connected to ground and C pin to the input pin. The button here connects the pin to ground locking it in the 0 state while pressed.\n",
    "2. What happens if you rotate the button 90 degrees in the breadboard?\n",
    "    * The A and B pins are connected as well as the C and D pins. Since A/C and B/D are always internally connected, all the pins are connected and the button doesn't do anything \n",
    "3. Write the line of code that measures the state of a button.\n",
    "```\n",
    "{\n",
    "    import RPi.GPIO as GPIO\n",
    "    import time\n",
    "    GPIO.setmode(GPIO.BCM)\n",
    "\n",
    "    pinGB = 17\n",
    "    GPIO.setup(pinGB, GPIO.IN, pull_up_down = GPIO.PUD_DOWN)\n",
    "\n",
    "    for i in range(10):\n",
    "    print(GPIO.input(pinGB))\n",
    "    time.sleep(0.5)\n",
    "}\n",
    "```"
   ]
  },
  {
   "cell_type": "markdown",
   "metadata": {
    "slideshow": {
     "slide_type": "slide"
    }
   },
   "source": [
    "# Directions\n",
    "\n",
    "Your goal is to build a electronic circuit and write the code needed to make an LED output messages in Morse code when a button is pressed. \n",
    "\n",
    "Each button color should correspond to a specific message:\n",
    "* **Green**: \"Hello world\"\n",
    "* **Red**: \"SOS\"\n",
    "* **Blue**: \"The quick brown fox\"\n",
    "* **Yellow**: a string from `input()`"
   ]
  },
  {
   "cell_type": "markdown",
   "metadata": {
    "slideshow": {
     "slide_type": "slide"
    }
   },
   "source": [
    "# Resources\n",
    "\n",
    "Download the file `morse.py` from Canvas.\n",
    "\n",
    "It contains a Python `dict` of the Morse code.\n",
    "\n",
    "* Import the Morse code and store it in a `dict`.\n",
    "* Use a `string` variable to store the message.\n",
    "* Convert the message into Morse code via the dictionary.\n",
    "* Use correct timings for the Morse code signals. "
   ]
  },
  {
   "cell_type": "markdown",
   "metadata": {
    "slideshow": {
     "slide_type": "slide"
    }
   },
   "source": [
    "[Morse code](https://en.wikipedia.org/wiki/Morse_code) consists of `.` and `-` defined relative to a unit of time (U).\n",
    "\n",
    "`1U` is typically 0.1s, but for clarity **use 1s**:\n",
    "   * a **dot** is `1U`\n",
    "   * a **dash** is `3U`\n",
    "   * **signals** are separated by `1U`\n",
    "   * **characters** are separated by `3U`\n",
    "   * **words** are separated by `7U`"
   ]
  },
  {
   "cell_type": "markdown",
   "metadata": {
    "slideshow": {
     "slide_type": "slide"
    }
   },
   "source": [
    "To transmit the words **TO DO** use the Morse encoding\n",
    "* **T** is `-`\n",
    "* **O** is `---`\n",
    "* **D** is `-..`\n",
    "\n",
    "and then execute the following on/off sequence:\n",
    "\n",
    "* **T**:`3U` on\n",
    "\n",
    " `3U` off\n",
    "\n",
    "* **O**:`3U` on, `1U` off, `3U` on, `1U` off, `3U` on\n",
    "\n",
    " `7U` off\n",
    "\n",
    "* **D**:`3U` on, `1U` off, `1U` on, `1U` off, `1U` on \n",
    "\n",
    " `3U` off \n",
    "\n",
    "* **O**:`3U` on, `1U` off, `3U` on, `1U` off, `3U` on\n"
   ]
  },
  {
   "cell_type": "markdown",
   "metadata": {
    "slideshow": {
     "slide_type": "slide"
    }
   },
   "source": [
    "# Hints\n",
    "\n",
    "* Use `string` methods to remove unavailable characters.\n",
    "* Split the message into a `list` of words.\n",
    "* Loop over words; loop over characters.\n",
    "* Use `string` methods to capitalize characters.\n",
    "* Define functions for the `.` and `-` symbols sent via GPIO."
   ]
  },
  {
   "cell_type": "markdown",
   "metadata": {
    "slideshow": {
     "slide_type": "slide"
    }
   },
   "source": [
    "# Extra credit\n",
    "* Use a push button to pause the transmission of the signal."
   ]
  },
  {
   "cell_type": "markdown",
   "metadata": {
    "slideshow": {
     "slide_type": "slide"
    }
   },
   "source": [
    "# Starter code\n",
    "\n",
    "Use comments throughout your code so we can understand what it does. Even if you can't figure out how to write the code for something, a comment explaining what you wanted will get partial credit."
   ]
  },
  {
   "cell_type": "code",
   "execution_count": null,
   "metadata": {},
   "outputs": [],
   "source": [
    "# IMPORTED LIBRARIES\n",
    "# Import crucial libraries GPIO for pin assignments, time for blink intervals and syncing, and string for morse translation\n",
    "\n",
    "import RPi.GPIO as GPIO\n",
    "import time\n",
    "import string\n",
    "import morse # Import morse dictionary\n",
    "MC = morse.code()\n",
    "\n",
    "# Set pin numbering to match GPIO Wedge\n",
    "GPIO.setmode(GPIO.BCM)\n",
    "\n",
    "# VARIABLES\n",
    "\n",
    "MC = morse.code() # Morse code dictionary\n",
    "message = \"Hello World!\"      # Stored Message\n",
    "TU = 0.25 # [s] Define a unit of time\n",
    "\n",
    "# Pin assignments with BCM numbering.\n",
    "# Naming convention: pinXY where X = Color(G-Green, R-Red, B-Blue, Y-Yellow) and Y = Device(L-Light, B-Button)\n",
    "pinGL = 17\n",
    "GPIO.setup(pinGL, GPIO.OUT)\n",
    "\n",
    "# FUNCTIONS\n",
    "\n",
    "\n",
    "\n",
    "# Test code for blinking light\n",
    "\n",
    "try:\n",
    "    while True:\n",
    "        GPIO.output(pinGL, 1)\n",
    "        time.sleep(TU)\n",
    "        GPIO.output(pinGL, 0)\n",
    "        time.sleep(TU)\n",
    "except(KeyboardInterrupt, SystemExit):\n",
    "        print(\"Interrupted by user\")\n",
    "finally:\n",
    "        print(\"Done!\")\n",
    "        GPIO.cleanup()"
   ]
  },
  {
   "cell_type": "markdown",
   "metadata": {
    "slideshow": {
     "slide_type": "skip"
    }
   },
   "source": [
    "# Post lab\n",
    "\n",
    "<img src=\"http://www.dropbox.com/s/fcucolyuzdjl80k/todo.jpg?raw=1\" width=\"10%\" align=\"right\">\n",
    "\n",
    "Before you submit the lab, make sure everything works as you expect by restarting the kernel: select **Kernel > Restart & Run All**.\n",
    "\n",
    "Answer the following questions.\n",
    "\n",
    "1. What elements of this lab did you find easy/challenging?\n",
    "    * Your answer here\n",
    "2. What did you like/dislike about this lab?\n",
    "    * Your answer here\n",
    "3. If you did anything worthy of extra credit, tell us about it here!\n",
    "    * Your answer here"
   ]
  },
  {
   "cell_type": "code",
   "execution_count": 2,
   "metadata": {},
   "outputs": [
    {
     "name": "stdout",
     "output_type": "stream",
     "text": [
      "The \"try\" statement\n",
      "*******************\n",
      "\n",
      "The \"try\" statement specifies exception handlers and/or cleanup code\n",
      "for a group of statements:\n",
      "\n",
      "   try_stmt  ::= try1_stmt | try2_stmt\n",
      "   try1_stmt ::= \"try\" \":\" suite\n",
      "                 (\"except\" [expression [\"as\" identifier]] \":\" suite)+\n",
      "                 [\"else\" \":\" suite]\n",
      "                 [\"finally\" \":\" suite]\n",
      "   try2_stmt ::= \"try\" \":\" suite\n",
      "                 \"finally\" \":\" suite\n",
      "\n",
      "The \"except\" clause(s) specify one or more exception handlers. When no\n",
      "exception occurs in the \"try\" clause, no exception handler is\n",
      "executed. When an exception occurs in the \"try\" suite, a search for an\n",
      "exception handler is started.  This search inspects the except clauses\n",
      "in turn until one is found that matches the exception.  An expression-\n",
      "less except clause, if present, must be last; it matches any\n",
      "exception.  For an except clause with an expression, that expression\n",
      "is evaluated, and the clause matches the exception if the resulting\n",
      "object is “compatible” with the exception.  An object is compatible\n",
      "with an exception if it is the class or a base class of the exception\n",
      "object, or a tuple containing an item that is the class or a base\n",
      "class of the exception object.\n",
      "\n",
      "If no except clause matches the exception, the search for an exception\n",
      "handler continues in the surrounding code and on the invocation stack.\n",
      "[1]\n",
      "\n",
      "If the evaluation of an expression in the header of an except clause\n",
      "raises an exception, the original search for a handler is canceled and\n",
      "a search starts for the new exception in the surrounding code and on\n",
      "the call stack (it is treated as if the entire \"try\" statement raised\n",
      "the exception).\n",
      "\n",
      "When a matching except clause is found, the exception is assigned to\n",
      "the target specified after the \"as\" keyword in that except clause, if\n",
      "present, and the except clause’s suite is executed.  All except\n",
      "clauses must have an executable block.  When the end of this block is\n",
      "reached, execution continues normally after the entire try statement.\n",
      "(This means that if two nested handlers exist for the same exception,\n",
      "and the exception occurs in the try clause of the inner handler, the\n",
      "outer handler will not handle the exception.)\n",
      "\n",
      "When an exception has been assigned using \"as target\", it is cleared\n",
      "at the end of the except clause.  This is as if\n",
      "\n",
      "   except E as N:\n",
      "       foo\n",
      "\n",
      "was translated to\n",
      "\n",
      "   except E as N:\n",
      "       try:\n",
      "           foo\n",
      "       finally:\n",
      "           del N\n",
      "\n",
      "This means the exception must be assigned to a different name to be\n",
      "able to refer to it after the except clause.  Exceptions are cleared\n",
      "because with the traceback attached to them, they form a reference\n",
      "cycle with the stack frame, keeping all locals in that frame alive\n",
      "until the next garbage collection occurs.\n",
      "\n",
      "Before an except clause’s suite is executed, details about the\n",
      "exception are stored in the \"sys\" module and can be accessed via\n",
      "\"sys.exc_info()\". \"sys.exc_info()\" returns a 3-tuple consisting of the\n",
      "exception class, the exception instance and a traceback object (see\n",
      "section The standard type hierarchy) identifying the point in the\n",
      "program where the exception occurred.  \"sys.exc_info()\" values are\n",
      "restored to their previous values (before the call) when returning\n",
      "from a function that handled an exception.\n",
      "\n",
      "The optional \"else\" clause is executed if the control flow leaves the\n",
      "\"try\" suite, no exception was raised, and no \"return\", \"continue\", or\n",
      "\"break\" statement was executed.  Exceptions in the \"else\" clause are\n",
      "not handled by the preceding \"except\" clauses.\n",
      "\n",
      "If \"finally\" is present, it specifies a ‘cleanup’ handler.  The \"try\"\n",
      "clause is executed, including any \"except\" and \"else\" clauses.  If an\n",
      "exception occurs in any of the clauses and is not handled, the\n",
      "exception is temporarily saved. The \"finally\" clause is executed.  If\n",
      "there is a saved exception it is re-raised at the end of the \"finally\"\n",
      "clause.  If the \"finally\" clause raises another exception, the saved\n",
      "exception is set as the context of the new exception. If the \"finally\"\n",
      "clause executes a \"return\", \"break\" or \"continue\" statement, the saved\n",
      "exception is discarded:\n",
      "\n",
      "   >>> def f():\n",
      "   ...     try:\n",
      "   ...         1/0\n",
      "   ...     finally:\n",
      "   ...         return 42\n",
      "   ...\n",
      "   >>> f()\n",
      "   42\n",
      "\n",
      "The exception information is not available to the program during\n",
      "execution of the \"finally\" clause.\n",
      "\n",
      "When a \"return\", \"break\" or \"continue\" statement is executed in the\n",
      "\"try\" suite of a \"try\"…\"finally\" statement, the \"finally\" clause is\n",
      "also executed ‘on the way out.’\n",
      "\n",
      "The return value of a function is determined by the last \"return\"\n",
      "statement executed.  Since the \"finally\" clause always executes, a\n",
      "\"return\" statement executed in the \"finally\" clause will always be the\n",
      "last one executed:\n",
      "\n",
      "   >>> def foo():\n",
      "   ...     try:\n",
      "   ...         return 'try'\n",
      "   ...     finally:\n",
      "   ...         return 'finally'\n",
      "   ...\n",
      "   >>> foo()\n",
      "   'finally'\n",
      "\n",
      "Additional information on exceptions can be found in section\n",
      "Exceptions, and information on using the \"raise\" statement to generate\n",
      "exceptions may be found in section The raise statement.\n",
      "\n",
      "Changed in version 3.8: Prior to Python 3.8, a \"continue\" statement\n",
      "was illegal in the \"finally\" clause due to a problem with the\n",
      "implementation.\n",
      "\n",
      "Related help topics: EXCEPTIONS\n",
      "\n"
     ]
    }
   ],
   "source": [
    "help('except')"
   ]
  },
  {
   "cell_type": "markdown",
   "metadata": {
    "slideshow": {
     "slide_type": "skip"
    }
   },
   "source": [
    "# Submit\n",
    "* Make sure to update your name and department in the top markdown cell.\n",
    "\n",
    "* Rename the Jupyter notebook with the following convention:\n",
    "**HL?-FirstLast.ipynb** (replace ? with the lab number)\n",
    "\n",
    "* Turn in your Jupyter notebook on Canvas. Email submissions don't count.\n",
    "\n",
    "* Include pictures of all the circuits you made."
   ]
  },
  {
   "cell_type": "markdown",
   "metadata": {
    "slideshow": {
     "slide_type": "slide"
    }
   },
   "source": [
    "# Honor code\n",
    "Unless explicitly specified, labs are **individual exercises**. Your submission is subject to the [**Mines Honor Code**](http://inside.mines.edu/~epoeter/_GW/CSMHonorCodeUndergradHandbook.pdf)."
   ]
  }
 ],
 "metadata": {
  "celltoolbar": "Slideshow",
  "kernelspec": {
   "display_name": "Python 3 (ipykernel)",
   "language": "python",
   "name": "python3"
  },
  "language_info": {
   "codemirror_mode": {
    "name": "ipython",
    "version": 3
   },
   "file_extension": ".py",
   "mimetype": "text/x-python",
   "name": "python",
   "nbconvert_exporter": "python",
   "pygments_lexer": "ipython3",
   "version": "3.9.2"
  },
  "varInspector": {
   "cols": {
    "lenName": 16,
    "lenType": 16,
    "lenVar": 40
   },
   "kernels_config": {
    "python": {
     "delete_cmd_postfix": "",
     "delete_cmd_prefix": "del ",
     "library": "var_list.py",
     "varRefreshCmd": "print(var_dic_list())"
    },
    "r": {
     "delete_cmd_postfix": ") ",
     "delete_cmd_prefix": "rm(",
     "library": "var_list.r",
     "varRefreshCmd": "cat(var_dic_list()) "
    }
   },
   "types_to_exclude": [
    "module",
    "function",
    "builtin_function_or_method",
    "instance",
    "_Feature"
   ],
   "window_display": false
  }
 },
 "nbformat": 4,
 "nbformat_minor": 4
}
