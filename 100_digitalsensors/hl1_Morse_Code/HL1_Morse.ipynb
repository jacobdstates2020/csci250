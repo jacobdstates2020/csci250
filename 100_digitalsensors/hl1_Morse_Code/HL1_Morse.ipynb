{
 "cells": [
  {
   "cell_type": "markdown",
   "metadata": {
    "slideshow": {
     "slide_type": "slide"
    }
   },
   "source": [
    "<img src=\"https://www.mines.edu/webcentral/wp-content/uploads/sites/267/2019/02/horizontallightbackground.jpg\" width=\"100%\"> \n",
    "### CSCI250 Python Computing: Building a Sensor System\n",
    "<hr style=\"height:5px\" width=\"100%\" align=\"left\">\n",
    "\n",
    "# LAB: Morse code \n",
    "## Jacob States"
   ]
  },
  {
   "cell_type": "markdown",
   "metadata": {
    "heading_collapsed": true,
    "slideshow": {
     "slide_type": "slide"
    }
   },
   "source": [
    "# Introduction\n",
    "\n",
    "This goal for this lab is to use buttons and LEDs to output a message in Morse code in order to demonstrate basic digital inputs/outputs and GPIO functionality."
   ]
  },
  {
   "cell_type": "markdown",
   "metadata": {
    "hidden": true,
    "slideshow": {
     "slide_type": "slide"
    }
   },
   "source": [
    "<img src=\"https://www.dropbox.com/s/u628vjn2uc5h3ua/notebook.png?raw=1\" width=\"10%\" align=\"right\">\n",
    "\n",
    "Read through\n",
    "* the [GPIO notebook](h_GPIO.ipynb) to learn about the GPIO interface.\n",
    "* the [LED notebook](h_LED.ipynb) to learn about a simple digital output device.\n",
    "* the [button notebook](h_PushButton.ipynb) to learn about a simple digital input device.\n",
    "* the [string notebook](s_PyTypeString.ipynb) to learn about `string` methods.\n",
    "* the [dictionary notebook](s_PyTypeDict.ipynb) to learn about `dict` methods.\n",
    "* the [list notebook](s_PyTypeList.ipynb) to learn about `list` construction and use.\n",
    "\n",
    "**Build the circuits in all notebooks to ensure that everything works correctly.**"
   ]
  },
  {
   "cell_type": "markdown",
   "metadata": {
    "slideshow": {
     "slide_type": "skip"
    }
   },
   "source": [
    "# Pre-lab questions\n",
    "\n",
    "1. What do you always need to include in series with an LED and why?\n",
    "    * 330 ohm resistor to prevent the LED from going straight to ground and burning out.\n",
    "2. What happens if you reverse the LED?\n",
    "    * The LED will not light up\n",
    "3. Write the line of code that turns on an LED.\n",
    "``` \n",
    "{\n",
    "    import RPi.GPIO as GPIO \n",
    "    \n",
    "    GPIO.setmode(GPIO.BCM)\n",
    "\n",
    "    pinGled = 12\n",
    "\n",
    "    GPIO.setup(pinGled, GPIO.OUT)\n",
    "\n",
    "    GPIO.output(pinGled, 1)\n",
    "}\n",
    "```"
   ]
  },
  {
   "cell_type": "markdown",
   "metadata": {
    "execution": {
     "iopub.execute_input": "2020-08-14T03:43:39.429690Z",
     "iopub.status.busy": "2020-08-14T03:43:39.429690Z",
     "iopub.status.idle": "2020-08-14T03:43:39.437692Z",
     "shell.execute_reply": "2020-08-14T03:43:39.436691Z",
     "shell.execute_reply.started": "2020-08-14T03:43:39.429690Z"
    },
    "slideshow": {
     "slide_type": "slide"
    }
   },
   "source": [
    "1. What kind of resistor needs to be included with buttons and why?\n",
    "    * Internal Pull-up or Pull-down resistor. Either configuration uses the Rpi's internal resistor to lock a pins state into either 0 or 1. Without the resistor, the pin's state is ambigious due to changes in electric fields around the pin.\n",
    "    * The Pull-down setup connects the input pin to ground internally, forcing the pin to consistently read 0. The button is then placed in the path between the pin and the resistor to regulate the pin's state.\n",
    "    *The pull-up setup connects 3.3 V to the pin to hold it in the 1 state. The button's A pin is connected to ground and C pin to the input pin. The button here connects the pin to ground locking it in the 0 state while pressed.\n",
    "2. What happens if you rotate the button 90 degrees in the breadboard?\n",
    "    * The A and B pins are connected as well as the C and D pins. Since A/C and B/D are always internally connected, all the pins are connected and the button doesn't do anything \n",
    "3. Write the line of code that measures the state of a button.\n",
    "```\n",
    "{\n",
    "    import RPi.GPIO as GPIO\n",
    "    import time\n",
    "    GPIO.setmode(GPIO.BCM)\n",
    "\n",
    "    pinGB = 17\n",
    "    GPIO.setup(pinGB, GPIO.IN, pull_up_down = GPIO.PUD_DOWN)\n",
    "\n",
    "    for i in range(10):\n",
    "    print(GPIO.input(pinGB))\n",
    "    time.sleep(0.5)\n",
    "}\n",
    "```"
   ]
  },
  {
   "cell_type": "markdown",
   "metadata": {
    "slideshow": {
     "slide_type": "slide"
    }
   },
   "source": [
    "# Directions\n",
    "\n",
    "Your goal is to build a electronic circuit and write the code needed to make an LED output messages in Morse code when a button is pressed. \n",
    "\n",
    "Each button color should correspond to a specific message:\n",
    "* **Green**: \"Hello world\"\n",
    "* **Red**: \"SOS\"\n",
    "* **Blue**: \"The quick brown fox\"\n",
    "* **Yellow**: a string from `input()`"
   ]
  },
  {
   "cell_type": "markdown",
   "metadata": {
    "slideshow": {
     "slide_type": "slide"
    }
   },
   "source": [
    "# Resources\n",
    "\n",
    "Download the file `morse.py` from Canvas.\n",
    "\n",
    "It contains a Python `dict` of the Morse code.\n",
    "\n",
    "* Import the Morse code and store it in a `dict`.\n",
    "* Use a `string` variable to store the message.\n",
    "* Convert the message into Morse code via the dictionary.\n",
    "* Use correct timings for the Morse code signals. "
   ]
  },
  {
   "cell_type": "markdown",
   "metadata": {
    "slideshow": {
     "slide_type": "slide"
    }
   },
   "source": [
    "[Morse code](https://en.wikipedia.org/wiki/Morse_code) consists of `.` and `-` defined relative to a unit of time (U).\n",
    "\n",
    "`1U` is typically 0.1s, but for clarity **use 1s**:\n",
    "   * a **dot** is `1U`\n",
    "   * a **dash** is `3U`\n",
    "   * **signals** are separated by `1U`\n",
    "   * **characters** are separated by `3U`\n",
    "   * **words** are separated by `7U`"
   ]
  },
  {
   "cell_type": "markdown",
   "metadata": {
    "slideshow": {
     "slide_type": "slide"
    }
   },
   "source": [
    "To transmit the words **TO DO** use the Morse encoding\n",
    "* **T** is `-`\n",
    "* **O** is `---`\n",
    "* **D** is `-..`\n",
    "\n",
    "and then execute the following on/off sequence:\n",
    "\n",
    "* **T**:`3U` on\n",
    "\n",
    " `3U` off\n",
    "\n",
    "* **O**:`3U` on, `1U` off, `3U` on, `1U` off, `3U` on\n",
    "\n",
    " `7U` off\n",
    "\n",
    "* **D**:`3U` on, `1U` off, `1U` on, `1U` off, `1U` on \n",
    "\n",
    " `3U` off \n",
    "\n",
    "* **O**:`3U` on, `1U` off, `3U` on, `1U` off, `3U` on\n"
   ]
  },
  {
   "cell_type": "markdown",
   "metadata": {
    "slideshow": {
     "slide_type": "slide"
    }
   },
   "source": [
    "# Hints\n",
    "\n",
    "* Use `string` methods to remove unavailable characters.\n",
    "* Split the message into a `list` of words.\n",
    "* Loop over words; loop over characters.\n",
    "* Use `string` methods to capitalize characters.\n",
    "* Define functions for the `.` and `-` symbols sent via GPIO."
   ]
  },
  {
   "cell_type": "markdown",
   "metadata": {
    "slideshow": {
     "slide_type": "slide"
    }
   },
   "source": [
    "# Extra credit\n",
    "* Use a push button to pause the transmission of the signal."
   ]
  },
  {
   "cell_type": "markdown",
   "metadata": {
    "slideshow": {
     "slide_type": "slide"
    }
   },
   "source": [
    "# Starter code\n",
    "\n",
    "Use comments throughout your code so we can understand what it does. Even if you can't figure out how to write the code for something, a comment explaining what you wanted will get partial credit."
   ]
  },
  {
   "cell_type": "code",
   "execution_count": 4,
   "metadata": {},
   "outputs": [
    {
     "name": "stdout",
     "output_type": "stream",
     "text": [
      "H .... \t1U 1U 1U 1U \n",
      "\t3U\n",
      "E . \t1U \n",
      "\t3U\n",
      "L .-.. \t1U 3U 1U 1U \n",
      "\t3U\n",
      "L .-.. \t1U 3U 1U 1U \n",
      "\t3U\n",
      "O --- \t3U 3U 3U \n",
      "\t3U\n",
      "\t4U\n",
      "W .-- \t1U 3U 3U \n",
      "\t3U\n",
      "O --- \t3U 3U 3U \n",
      "\t3U\n",
      "R .-. \t1U 3U 1U \n",
      "\t3U\n",
      "L .-.. \t1U 3U 1U 1U \n",
      "\t3U\n",
      "D -.. \t3U 1U 1U \n",
      "\t3U\n",
      "\t4U\n"
     ]
    }
   ],
   "source": [
    "# IMPORTED LIBRARIES\n",
    "# Import crucial libraries GPIO for pin assignments, time for blink intervals and syncing, and string for morse translation\n",
    "\n",
    "import RPi.GPIO as GPIO\n",
    "import time\n",
    "import string\n",
    "import morse # Import morse dictionary\n",
    "MC = morse.code()\n",
    "\n",
    "# Set pin numbering to match GPIO Wedge\n",
    "GPIO.setmode(GPIO.BCM)\n",
    "\n",
    "# VARIABLES\n",
    "\n",
    "MC = morse.code() # Morse code dictionary\n",
    "message = \"Hello World!\"      # Stored Message\n",
    "TU = 0.25 # [s] Define a unit of time\n",
    "words = translate(message)\n",
    "# Pin assignments with BCM numbering.\n",
    "# Naming convention: pinXY where X = Color(G-Green, R-Red, B-Blue, Y-Yellow) and Y = Device(L-Light, B-Button)\n",
    "pinGL = 17\n",
    "GPIO.setup(pinGL, GPIO.OUT)\n",
    "\n",
    "# FUNCTIONS\n",
    "def translate(message):\n",
    "    pct = string.punctuation\n",
    "    trn = str.maketrans('','',pct)\n",
    "    message = message.translate(trn)\n",
    "    message = message.upper()\n",
    "    words = message.split()\n",
    "    return words\n",
    "    \n",
    "def dot():\n",
    "    print('1U', end=' ') # This is where the light would turn on for 1 time unit\n",
    "    time.sleep(1*TU)\n",
    "\n",
    "def dash():\n",
    "    print('3U', end=' ') # This is where the light would turn on for 3 time units\n",
    "    time.sleep(3*TU)\n",
    "\n",
    "def sendMe(words, MC):\n",
    "    words = translate(message)\n",
    "    for w in words:\n",
    "        \n",
    "        for c in w:\n",
    "            print(c, MC[c], '\\t', end='')\n",
    "            \n",
    "            for s in MC[c]:\n",
    "                if(s =='.'):\n",
    "                    dot()\n",
    "                else:\n",
    "                    dash()\n",
    "                    \n",
    "                time.sleep(1*TU)\n",
    "            print('')\n",
    "            \n",
    "            print('\\t3U') # Total of 3 units between letters\n",
    "            time.sleep(2*TU)\n",
    "            \n",
    "        print('\\t4U') # Total of 7 units of time between words\n",
    "        time.sleep(4*TU)\n",
    "\n",
    "\n",
    "\n",
    "# Test code for blinking light\n",
    "\n",
    "#try:\n",
    "#    while True:\n",
    "#        \n",
    "#        GPIO.output(pinGL, 1)\n",
    "#        time.sleep(TU)\n",
    "#        GPIO.output(pinGL, 0)\n",
    "#        time.sleep(TU)\n",
    "#\n",
    "#except(KeyboardInterrupt, SystemExit):\n",
    "#        print(\"Interrupted by user\")\n",
    "#       \n",
    "#finally:\n",
    "#        print(\"Done!\")\n",
    "#        GPIO.cleanup()\n",
    "\n",
    "# Test code for getting the correct message\n",
    "sendMe(words, MC)\n",
    "GPIO.cleanup()"
   ]
  },
  {
   "cell_type": "markdown",
   "metadata": {
    "slideshow": {
     "slide_type": "skip"
    }
   },
   "source": [
    "# Submit\n",
    "* Make sure to update your name and department in the top markdown cell.\n",
    "\n",
    "* Rename the Jupyter notebook with the following convention:\n",
    "**HL?-FirstLast.ipynb** (replace ? with the lab number)\n",
    "\n",
    "* Turn in your Jupyter notebook on Canvas. Email submissions don't count.\n",
    "\n",
    "* Include pictures of all the circuits you made."
   ]
  },
  {
   "cell_type": "markdown",
   "metadata": {
    "slideshow": {
     "slide_type": "slide"
    }
   },
   "source": [
    "# Honor code\n",
    "Unless explicitly specified, labs are **individual exercises**. Your submission is subject to the [**Mines Honor Code**](http://inside.mines.edu/~epoeter/_GW/CSMHonorCodeUndergradHandbook.pdf)."
   ]
  }
 ],
 "metadata": {
  "celltoolbar": "Slideshow",
  "kernelspec": {
   "display_name": "Python 3 (ipykernel)",
   "language": "python",
   "name": "python3"
  },
  "language_info": {
   "codemirror_mode": {
    "name": "ipython",
    "version": 3
   },
   "file_extension": ".py",
   "mimetype": "text/x-python",
   "name": "python",
   "nbconvert_exporter": "python",
   "pygments_lexer": "ipython3",
   "version": "3.9.2"
  },
  "varInspector": {
   "cols": {
    "lenName": 16,
    "lenType": 16,
    "lenVar": 40
   },
   "kernels_config": {
    "python": {
     "delete_cmd_postfix": "",
     "delete_cmd_prefix": "del ",
     "library": "var_list.py",
     "varRefreshCmd": "print(var_dic_list())"
    },
    "r": {
     "delete_cmd_postfix": ") ",
     "delete_cmd_prefix": "rm(",
     "library": "var_list.r",
     "varRefreshCmd": "cat(var_dic_list()) "
    }
   },
   "types_to_exclude": [
    "module",
    "function",
    "builtin_function_or_method",
    "instance",
    "_Feature"
   ],
   "window_display": false
  }
 },
 "nbformat": 4,
 "nbformat_minor": 4
}
