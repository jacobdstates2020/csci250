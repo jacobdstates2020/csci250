{
 "cells": [
  {
   "cell_type": "markdown",
   "id": "9b016264",
   "metadata": {},
   "source": [
    "# import morse\n",
    "MC = morse.code()\n",
    "\n",
    "print(MC)"
   ]
  },
  {
   "cell_type": "code",
   "execution_count": 25,
   "id": "940e90a0",
   "metadata": {},
   "outputs": [
    {
     "name": "stdout",
     "output_type": "stream",
     "text": [
      "Hello World!\n"
     ]
    }
   ],
   "source": [
    "myMessage = 'Hello World!'\n",
    "\n",
    "print(myMessage)"
   ]
  },
  {
   "cell_type": "code",
   "execution_count": 26,
   "id": "3a7c4d16",
   "metadata": {},
   "outputs": [
    {
     "name": "stdout",
     "output_type": "stream",
     "text": [
      "Hello World\n"
     ]
    }
   ],
   "source": [
    "## Notice the morse dictionary provided does not have all punctiation or differentiation between lowercase and uppercase\n",
    "## Step 1 eliminate punctuation\n",
    "import string\n",
    "\n",
    "pct = string.punctuation\n",
    "trn = str.maketrans('','',pct)\n",
    "myMessage = myMessage.translate(trn)\n",
    "\n",
    "print(myMessage)"
   ]
  },
  {
   "cell_type": "code",
   "execution_count": 29,
   "id": "98806512",
   "metadata": {},
   "outputs": [
    {
     "name": "stdout",
     "output_type": "stream",
     "text": [
      "HELLO WORLD\n"
     ]
    }
   ],
   "source": [
    "## Step 2 Capitalize all words\n",
    "myMessage = myMessage.upper()\n",
    "\n",
    "print(myMessage)"
   ]
  },
  {
   "cell_type": "code",
   "execution_count": 30,
   "id": "9756b120",
   "metadata": {},
   "outputs": [
    {
     "name": "stdout",
     "output_type": "stream",
     "text": [
      "['HELLO', 'WORLD']\n"
     ]
    }
   ],
   "source": [
    "## Step 3 we need split the message into the individual words\n",
    "words = myMessage.split()\n",
    "\n",
    "print(words)"
   ]
  },
  {
   "cell_type": "code",
   "execution_count": 32,
   "id": "c3a5173a",
   "metadata": {},
   "outputs": [
    {
     "name": "stdout",
     "output_type": "stream",
     "text": [
      "H ....\n",
      "E .\n",
      "L .-..\n",
      "L .-..\n",
      "O ---\n",
      "W .--\n",
      "O ---\n",
      "R .-.\n",
      "L .-..\n",
      "D -..\n"
     ]
    }
   ],
   "source": [
    "## Define function to transmit message\n",
    "def sendMe(words, MC):\n",
    "    \n",
    "    for w in words: ## iterates through each word in a message\n",
    "        \n",
    "        for c in w: ## iterates through each letter in each word in a message and prints the letter with morse code\n",
    "            print(c, MC[c])\n",
    "            \n",
    "sendMe(words, MC)"
   ]
  },
  {
   "cell_type": "code",
   "execution_count": 37,
   "id": "cf59e025",
   "metadata": {},
   "outputs": [],
   "source": [
    "## Need time to deal with the timing of the morse code\n",
    "import time\n",
    "\n",
    "TU = 0.25 # [s] Define unit of time"
   ]
  },
  {
   "cell_type": "code",
   "execution_count": 41,
   "id": "0a50574e",
   "metadata": {},
   "outputs": [],
   "source": [
    "## Define dot and dash functions\n",
    "def dot():\n",
    "    print('1U', end=' ') # This is where the light would turn on for 1 time unit\n",
    "    time.sleep(1*TU)\n",
    "\n",
    "def dash():\n",
    "    print('3U', end=' ') # This is where the light would turn on for 3 time units\n",
    "    time.sleep(3*TU)"
   ]
  },
  {
   "cell_type": "code",
   "execution_count": 42,
   "id": "b3e88f8b",
   "metadata": {},
   "outputs": [
    {
     "name": "stdout",
     "output_type": "stream",
     "text": [
      "H .... \t1U 1U 1U 1U \n",
      "\t3U\n",
      "E . \t1U \n",
      "\t3U\n",
      "L .-.. \t1U 3U 1U 1U \n",
      "\t3U\n",
      "L .-.. \t1U 3U 1U 1U \n",
      "\t3U\n",
      "O --- \t3U 3U 3U \n",
      "\t3U\n",
      "\t4U\n",
      "W .-- \t1U 3U 3U \n",
      "\t3U\n",
      "O --- \t3U 3U 3U \n",
      "\t3U\n",
      "R .-. \t1U 3U 1U \n",
      "\t3U\n",
      "L .-.. \t1U 3U 1U 1U \n",
      "\t3U\n",
      "D -.. \t3U 1U 1U \n",
      "\t3U\n",
      "\t4U\n"
     ]
    }
   ],
   "source": [
    "## Redefine sendMe function to interpret the morse signal\n",
    "def sendMe(words, MC):\n",
    "    \n",
    "    for w in words:\n",
    "        \n",
    "        for c in w:\n",
    "            print(c, MC[c], '\\t', end='')\n",
    "            \n",
    "            for s in MC[c]:\n",
    "                if(s =='.'):\n",
    "                    dot()\n",
    "                else:\n",
    "                    dash()\n",
    "                    \n",
    "                time.sleep(1*TU)\n",
    "            print('')\n",
    "            \n",
    "            print('\\t3U') # Total of 3 units between letters\n",
    "            time.sleep(2*TU)\n",
    "            \n",
    "        print('\\t4U') # Total of 7 units of time between words\n",
    "        time.sleep(4*TU)\n",
    "sendMe(words, MC)"
   ]
  },
  {
   "cell_type": "code",
   "execution_count": null,
   "id": "43916b3f",
   "metadata": {},
   "outputs": [],
   "source": []
  }
 ],
 "metadata": {
  "kernelspec": {
   "display_name": "Python 3 (ipykernel)",
   "language": "python",
   "name": "python3"
  },
  "language_info": {
   "codemirror_mode": {
    "name": "ipython",
    "version": 3
   },
   "file_extension": ".py",
   "mimetype": "text/x-python",
   "name": "python",
   "nbconvert_exporter": "python",
   "pygments_lexer": "ipython3",
   "version": "3.9.2"
  }
 },
 "nbformat": 4,
 "nbformat_minor": 5
}
