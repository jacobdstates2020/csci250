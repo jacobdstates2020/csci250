{
 "cells": [
  {
   "cell_type": "markdown",
   "metadata": {
    "slideshow": {
     "slide_type": "slide"
    }
   },
   "source": [
    "<img src=\"https://www.mines.edu/webcentral/wp-content/uploads/sites/267/2019/02/horizontallightbackground.jpg\" width=\"100%\"> \n",
    "\n",
    "### CSCI250 Python Computing: Building a Sensor System\n",
    "<hr style=\"height:5px\" width=\"100%\" align=\"left\">\n",
    "\n",
    "# LAB: Infinite series\n",
    "## Jacob States"
   ]
  },
  {
   "cell_type": "markdown",
   "metadata": {
    "slideshow": {
     "slide_type": "slide"
    }
   },
   "source": [
    "# Introduction\n",
    "\n",
    "The goal of this lab is to compute different fundamental constants and trig functions using infinite series.\n",
    "\n",
    "You will use encapsulation\n",
    "* of **code** - using functions\n",
    "* of **functions** - using modules."
   ]
  },
  {
   "cell_type": "markdown",
   "metadata": {
    "slideshow": {
     "slide_type": "slide"
    }
   },
   "source": [
    "<img src=\"https://www.dropbox.com/s/u628vjn2uc5h3ua/notebook.png?raw=1\" width=\"10%\" align=\"right\">\n",
    "\n",
    "Read through\n",
    "* the [numbers notebook](./python/s_PyTypeNumbers.ipynb) \n",
    "* the [functions notebook](./python/s_PyFunctions.ipynb) \n",
    "* the [modules notebook](./python/s_PyModules.ipynb)"
   ]
  },
  {
   "cell_type": "markdown",
   "metadata": {
    "slideshow": {
     "slide_type": "slide"
    }
   },
   "source": [
    "# Series for $\\pi$\n",
    "\n",
    "An efficient formula for computing the number $\\pi$ belongs to [Ramanujan](https://en.wikipedia.org/wiki/Srinivasa_Ramanujan):\n",
    "\n",
    "$\\dfrac{1}{\\pi} \n",
    "\\approx \n",
    "\\dfrac{2\\sqrt{2}}{9801} \\sum\\limits_{i=0}^n \\dfrac{(4i)! (1103 + 26390i)}{(i!)^4 396^{4i}}\n",
    "$\n",
    "\n",
    "* Write code to approximate $\\pi$ using the Ramanujan formula.\n",
    "* Add comments to explain what the code is doing.\n",
    "* Compare your approximation with values provided by `math`."
   ]
  },
  {
   "cell_type": "code",
   "execution_count": 5,
   "metadata": {
    "slideshow": {
     "slide_type": "slide"
    }
   },
   "outputs": [
    {
     "name": "stdout",
     "output_type": "stream",
     "text": [
      "3.141592653589793\n",
      "3.141592653589793\n",
      "0.0\n"
     ]
    }
   ],
   "source": [
    "import math as m\n",
    "\n",
    "# number of terms in the sum\n",
    "n = 3\n",
    "\n",
    "mySum = 0\n",
    "for i in range(n):\n",
    "    iTerm = ((m.factorial(4*i))*(1103+26390*i))/(((m.factorial(i))**4)*(396**(4*i))) #The term in the summation\n",
    "    mySum += iTerm\n",
    "# compute myPi here\n",
    "myPi = (9801)/(2*m.sqrt(2)*mySum) #scales the sum by the term in from of the sum in Ramanujans formula\n",
    "\n",
    "# print results and comparison turns out you only need 3 terms\n",
    "print(myPi)\n",
    "print(m.pi)\n",
    "print(myPi - m.pi)"
   ]
  },
  {
   "cell_type": "markdown",
   "metadata": {
    "slideshow": {
     "slide_type": "slide"
    }
   },
   "source": [
    "# Series for $e$\n",
    "A formula for computing exponentials for arbitrary values of $x$ is:\n",
    "\n",
    "$e^{x} \\approx \\sum\\limits_{i=0}^{n} \\dfrac{x^i}{i!}$\n",
    "\n",
    "* Write a Python function to approximate $e^x$.\n",
    "    * it should have parameters $x$ and $n$ (with defaults).\n",
    "* Add comments to explain what the code is doing.\n",
    "* Compare your approximations with values provided by  `math`."
   ]
  },
  {
   "cell_type": "code",
   "execution_count": 2,
   "metadata": {
    "slideshow": {
     "slide_type": "slide"
    }
   },
   "outputs": [
    {
     "name": "stdout",
     "output_type": "stream",
     "text": [
      "2.7180555555555554\n",
      "2.718281828459045\n",
      "-0.0002262729034896438\n"
     ]
    }
   ],
   "source": [
    "import math\n",
    "\n",
    "# Define factorial function\n",
    "def factorial(j) :\n",
    "    nFac = 1\n",
    "    for i in range(1,j+1) :\n",
    "        nFac = nFac * i\n",
    "    return nFac\n",
    "\n",
    "def myExp(x,n):\n",
    "    myE = 0\n",
    "    for i in range(n):\n",
    "        eTerm = (x**i)/factorial(i)\n",
    "        myE += eTerm\n",
    "    return myE\n",
    "\n",
    "# input value\n",
    "x, n = 1, 7\n",
    "eErr = myExp(x, n)-math.exp(x) # eErr is the error of myExp against math.exp\n",
    "\n",
    "print(myExp(x, n))\n",
    "print(math.exp(x))\n",
    "print(eErr) # compare with function from the math module"
   ]
  },
  {
   "cell_type": "markdown",
   "metadata": {
    "slideshow": {
     "slide_type": "slide"
    }
   },
   "source": [
    "# Trigonometric functions\n",
    "\n",
    "* Derive Taylor approximations for $\\sin(x)$ and $cos(x)$.\n",
    "* Write Python code to approximate these functions.\n",
    "    * they should have parameters $x$ and $n$ (with defaults).\n",
    "    * save the functions to an external module `myTrig.py` \n",
    "    * import the module into your lab notebook \n",
    "    * submit your module with the notebook\n",
    "* Add comments to explain what the code is doing.\n",
    "* Compare your approximations with values provided by  `math`."
   ]
  },
  {
   "cell_type": "markdown",
   "metadata": {
    "slideshow": {
     "slide_type": "slide"
    }
   },
   "source": [
    "**Edit this cell to include your $sin(x)$ approximation.**\n",
    "\n",
    "$\\sin{x} \\approx \\sum\\limits^{n}_{i=0}\\dfrac{(-1)^i(x)^{2i+1}}{(2i+1)!}$"
   ]
  },
  {
   "cell_type": "code",
   "execution_count": 3,
   "metadata": {},
   "outputs": [
    {
     "name": "stdout",
     "output_type": "stream",
     "text": [
      "0.49999999999999994\n",
      "0.49999999999999994\n",
      "0.0\n"
     ]
    }
   ],
   "source": [
    "import myTrig\n",
    "import math\n",
    "\n",
    "x = math.pi/6 \n",
    "\n",
    "mySin = myTrig.sin(x)\n",
    "sinErr = mySin - math.sin(x)\n",
    "print(myTrig.sin(x))\n",
    "print(math.sin(x))\n",
    "print(sinErr)"
   ]
  },
  {
   "cell_type": "markdown",
   "metadata": {
    "slideshow": {
     "slide_type": "slide"
    }
   },
   "source": [
    "**Edit this cell to include your $cos(x)$ approximation.**\n",
    "\n",
    "$cos(x) \\approx \\sum\\limits^{n}_{i=0}\\dfrac{(-1)^n(x)^{2n}}{n!}$"
   ]
  },
  {
   "cell_type": "code",
   "execution_count": 4,
   "metadata": {},
   "outputs": [
    {
     "name": "stdout",
     "output_type": "stream",
     "text": [
      "0.8660254037844386\n",
      "0.8660254037844387\n",
      "-1.1102230246251565e-16\n"
     ]
    }
   ],
   "source": [
    "import myTrig\n",
    "import math\n",
    "\n",
    "x = math.pi/6 \n",
    "\n",
    "myCos = myTrig.cos(x)\n",
    "cosErr = myCos - math.cos(x)\n",
    "print(myCos)\n",
    "print(math.cos(x))\n",
    "print(cosErr)"
   ]
  },
  {
   "cell_type": "markdown",
   "metadata": {
    "slideshow": {
     "slide_type": "skip"
    }
   },
   "source": [
    "# Post lab\n",
    "\n",
    "<img src=\"http://www.dropbox.com/s/fcucolyuzdjl80k/todo.jpg?raw=1\" width=\"10%\" align=\"right\">\n",
    "\n",
    "Before you submit the lab, make sure everything works as you expect by restarting the kernel: select **Kernel > Restart & Run All**.\n",
    "\n",
    "Answer the following questions.\n",
    "\n",
    "1. What elements of this lab did you find easy/challenging?\n",
    "    * Probably debugging, I didn't realize for awhile that if you update the myTrig.py file then save that you still have to restart the kernal. Otherwise it was pretty straighforward I think this is perfect in difficulty.\n",
    "2. What did you like/dislike about this lab?\n",
    "    * I really enjoyed how in the video and in the notebook there was some guidence that tapered off. In lab sl0, there was not enough guidence in deriving a loop for pascals triangle but here it was the perfect amount (and a lot of fun).\n",
    "3. If you did anything worthy of extra credit, tell us about it here!\n",
    "    * In the myE function I used my own factorial instead of math.factorial. I tried it for ramanujan's series but for some reason it failed to converge after the third term and grew to infinity. However when I used math.factorial without changing anything else it worked just fine very interesting..."
   ]
  },
  {
   "cell_type": "markdown",
   "metadata": {
    "slideshow": {
     "slide_type": "skip"
    }
   },
   "source": [
    "# Submit\n",
    "* Make sure to update your name and department in the top markdown cell.\n",
    "\n",
    "* Rename the Jupyter notebook with the following convention:\n",
    "**SL?-FirstLast.ipynb** (replace ? with the lab number)\n",
    "\n",
    "* Turn in your Jupyter notebook on Canvas. Email submissions don't count."
   ]
  },
  {
   "cell_type": "markdown",
   "metadata": {
    "slideshow": {
     "slide_type": "slide"
    }
   },
   "source": [
    "# Honor code\n",
    "Unless explicitly specified, labs are **individual exercises**. Your submission is subject to the [**Mines Honor Code**](http://inside.mines.edu/~epoeter/_GW/CSMHonorCodeUndergradHandbook.pdf)."
   ]
  }
 ],
 "metadata": {
  "celltoolbar": "Slideshow",
  "hide_input": false,
  "kernelspec": {
   "display_name": "Python 3 (ipykernel)",
   "language": "python",
   "name": "python3"
  },
  "language_info": {
   "codemirror_mode": {
    "name": "ipython",
    "version": 3
   },
   "file_extension": ".py",
   "mimetype": "text/x-python",
   "name": "python",
   "nbconvert_exporter": "python",
   "pygments_lexer": "ipython3",
   "version": "3.9.2"
  },
  "varInspector": {
   "cols": {
    "lenName": 16,
    "lenType": 16,
    "lenVar": 40
   },
   "kernels_config": {
    "python": {
     "delete_cmd_postfix": "",
     "delete_cmd_prefix": "del ",
     "library": "var_list.py",
     "varRefreshCmd": "print(var_dic_list())"
    },
    "r": {
     "delete_cmd_postfix": ") ",
     "delete_cmd_prefix": "rm(",
     "library": "var_list.r",
     "varRefreshCmd": "cat(var_dic_list()) "
    }
   },
   "types_to_exclude": [
    "module",
    "function",
    "builtin_function_or_method",
    "instance",
    "_Feature"
   ],
   "window_display": false
  }
 },
 "nbformat": 4,
 "nbformat_minor": 2
}
