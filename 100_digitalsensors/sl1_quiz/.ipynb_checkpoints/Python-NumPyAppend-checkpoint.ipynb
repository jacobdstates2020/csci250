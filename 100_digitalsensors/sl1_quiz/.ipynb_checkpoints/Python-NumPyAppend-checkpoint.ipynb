{
 "cells": [
  {
   "cell_type": "markdown",
   "id": "1000cedb",
   "metadata": {},
   "source": [
    "Your code will be input both an array and a number n. Your code should loop n times; call the loop number i. In each loop, compute the sum of the last element and i-th element in the array. Append this value to the array in each loop. After all loops are completed, return the new array.\n",
    "\n",
    "For example, assume the array is [1,2,3] and n=3\n",
    "- In the first loop, the computed value is 1+3=4. After appending, the array is [1,2,3,4]\n",
    "- In the second loop, the computed value is 2+4=6. After appending, the array is [1,2,3,4,6]\n",
    "- In the third loop, the computed value is 3+6=9. After appending, the array is [1,2,3,4,6,9]\n",
    "- The code returns the array [1,2,3,4,6,9]"
   ]
  },
  {
   "cell_type": "code",
   "execution_count": 55,
   "id": "67b589cb",
   "metadata": {},
   "outputs": [],
   "source": [
    "import numpy as np\n",
    "arr = [1, -2]\n",
    "n = 5\n",
    "\n",
    "def append(arr, n):\n",
    "    i=0\n",
    "    while i < n:\n",
    "        arr.append(arr[i] + arr[len(arr)-1])\n",
    "        i  += 1\n",
    "    return arr"
   ]
  },
  {
   "cell_type": "code",
   "execution_count": 56,
   "id": "1831fc57",
   "metadata": {},
   "outputs": [
    {
     "data": {
      "text/plain": [
       "[1, -2, -1, -3, -4, -7, -11]"
      ]
     },
     "execution_count": 56,
     "metadata": {},
     "output_type": "execute_result"
    }
   ],
   "source": [
    "append(arr,n)"
   ]
  },
  {
   "cell_type": "code",
   "execution_count": null,
   "id": "b880875f",
   "metadata": {},
   "outputs": [],
   "source": []
  }
 ],
 "metadata": {
  "kernelspec": {
   "display_name": "Python 3 (ipykernel)",
   "language": "python",
   "name": "python3"
  },
  "language_info": {
   "codemirror_mode": {
    "name": "ipython",
    "version": 3
   },
   "file_extension": ".py",
   "mimetype": "text/x-python",
   "name": "python",
   "nbconvert_exporter": "python",
   "pygments_lexer": "ipython3",
   "version": "3.9.2"
  }
 },
 "nbformat": 4,
 "nbformat_minor": 5
}
