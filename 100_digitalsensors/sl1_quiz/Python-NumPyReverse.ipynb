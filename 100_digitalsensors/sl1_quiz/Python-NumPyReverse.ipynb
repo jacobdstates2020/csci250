{
 "cells": [
  {
   "cell_type": "markdown",
   "id": "05070b29",
   "metadata": {},
   "source": [
    "Your code will be given a 1D NumPy array. Your code should reverse the order of the array and return it. For example, if the input is [1,2,3,4,5], your code should output [5,4,3,2,1]."
   ]
  },
  {
   "cell_type": "code",
   "execution_count": 45,
   "id": "8a883e5e",
   "metadata": {},
   "outputs": [],
   "source": [
    "import numpy as np\n",
    "\n",
    "arr = [1,2,3,4,5]\n",
    "\n",
    "def reverse(arr):\n",
    "    revarr = [ ]\n",
    "    i=0\n",
    "    while i < len(arr):\n",
    "        revarr = np.append(revarr, arr[(len(arr)-1-i)])\n",
    "        i += 1\n",
    "    return revarr"
   ]
  },
  {
   "cell_type": "code",
   "execution_count": 46,
   "id": "75360761",
   "metadata": {},
   "outputs": [
    {
     "data": {
      "text/plain": [
       "array([5., 4., 3., 2., 1.])"
      ]
     },
     "execution_count": 46,
     "metadata": {},
     "output_type": "execute_result"
    }
   ],
   "source": [
    "reverse(arr)"
   ]
  },
  {
   "cell_type": "code",
   "execution_count": 35,
   "id": "260696b2",
   "metadata": {},
   "outputs": [
    {
     "data": {
      "text/plain": [
       "array([1., 2., 3., 4., 5.])"
      ]
     },
     "execution_count": 35,
     "metadata": {},
     "output_type": "execute_result"
    }
   ],
   "source": [
    "reverse(reverse(arr))"
   ]
  },
  {
   "cell_type": "code",
   "execution_count": 67,
   "id": "bb700c1a",
   "metadata": {},
   "outputs": [],
   "source": [
    "def reverse(arr):\n",
    "    revarr = []\n",
    "    i= -1\n",
    "    while i >= (-len(arr)):\n",
    "        revarr = np.append(revarr, arr[i])\n",
    "        i -= 1\n",
    "    return revarr"
   ]
  },
  {
   "cell_type": "code",
   "execution_count": 68,
   "id": "2523ea08",
   "metadata": {},
   "outputs": [
    {
     "data": {
      "text/plain": [
       "array([5., 4., 3., 2., 1.])"
      ]
     },
     "execution_count": 68,
     "metadata": {},
     "output_type": "execute_result"
    }
   ],
   "source": [
    "reverse(arr)"
   ]
  },
  {
   "cell_type": "code",
   "execution_count": null,
   "id": "510f0349",
   "metadata": {},
   "outputs": [],
   "source": []
  }
 ],
 "metadata": {
  "kernelspec": {
   "display_name": "Python 3 (ipykernel)",
   "language": "python",
   "name": "python3"
  },
  "language_info": {
   "codemirror_mode": {
    "name": "ipython",
    "version": 3
   },
   "file_extension": ".py",
   "mimetype": "text/x-python",
   "name": "python",
   "nbconvert_exporter": "python",
   "pygments_lexer": "ipython3",
   "version": "3.9.2"
  }
 },
 "nbformat": 4,
 "nbformat_minor": 5
}
