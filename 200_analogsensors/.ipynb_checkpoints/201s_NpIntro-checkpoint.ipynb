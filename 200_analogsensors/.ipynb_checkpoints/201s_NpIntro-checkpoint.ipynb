{
 "cells": [
  {
   "cell_type": "markdown",
   "metadata": {
    "slideshow": {
     "slide_type": "slide"
    }
   },
   "source": [
    "<img src=\"https://www.mines.edu/webcentral/wp-content/uploads/sites/267/2019/02/horizontallightbackground.jpg\" width=\"100%\"> \n",
    "### CSCI250 Python Computing: Building a Sensor System\n",
    "<hr style=\"height:5px\" width=\"100%\" align=\"left\">\n",
    "\n",
    "# Introduction to `numpy`"
   ]
  },
  {
   "cell_type": "markdown",
   "metadata": {
    "slideshow": {
     "slide_type": "slide"
    }
   },
   "source": [
    "# Objective\n",
    "* introduce the `numpy` library\n",
    "* motivate its use for sensing and data analysis\n",
    "\n",
    "<img src=\"https://numpy.org/images/logos/numpy.svg\" width=\"40%\" align=\"left\">"
   ]
  },
  {
   "cell_type": "markdown",
   "metadata": {
    "slideshow": {
     "slide_type": "slide"
    }
   },
   "source": [
    "# Resources\n",
    "* [numpy.org](http://www.numpy.org)\n",
    "* [`numpy` user guide](https://docs.scipy.org/doc/numpy/user)\n",
    "* [`numpy` reference](https://docs.scipy.org/doc/numpy/reference)"
   ]
  },
  {
   "cell_type": "markdown",
   "metadata": {
    "slideshow": {
     "slide_type": "slide"
    }
   },
   "source": [
    "# Definition\n",
    "`numpy` is a Python package designed for **efficient computing** on **multidimensional arrays** of identical numeric items. \n",
    "* Python is attractive because of its **simplicity**.\n",
    "* `numpy` ads storage and execution **efficiency**."
   ]
  },
  {
   "cell_type": "markdown",
   "metadata": {
    "slideshow": {
     "slide_type": "slide"
    }
   },
   "source": [
    "\n",
    "`numpy` comes with many functions optimized for numeric calculations.\n",
    "\n",
    "`numpy` is conventionally imported with the **alias** `np`. "
   ]
  },
  {
   "cell_type": "code",
   "execution_count": 1,
   "metadata": {
    "slideshow": {
     "slide_type": "-"
    }
   },
   "outputs": [],
   "source": [
    "import numpy as np"
   ]
  },
  {
   "cell_type": "markdown",
   "metadata": {
    "slideshow": {
     "slide_type": "slide"
    }
   },
   "source": [
    "# Python arrays\n",
    "\n",
    "Python `list` types could be used to represent arrays of numbers. \n",
    "\n",
    "The `list` representation is inefficient:\n",
    "* **storage**: Python lists require more memory than `numpy` arrays.\n",
    "* **speed**: access to Python lists is slower than for `numpy` arrays."
   ]
  },
  {
   "cell_type": "markdown",
   "metadata": {
    "slideshow": {
     "slide_type": "slide"
    }
   },
   "source": [
    "<img src=\"https://www.dropbox.com/s/u628vjn2uc5h3ua/notebook.png?raw=1\" width=\"10%\" align=\"right\">\n",
    "\n",
    "See the [arrays1D notebook](s_NpArray1D.ipynb) for info on 1D `numpy` arrays.\n",
    "\n",
    "See the [arrays2D notebook](s_NpArray2D.ipynb) for info on 2D `numpy` arrays."
   ]
  },
  {
   "cell_type": "markdown",
   "metadata": {
    "slideshow": {
     "slide_type": "slide"
    }
   },
   "source": [
    "# `ndarray`\n",
    "\n",
    "`numpy` arrays are represented by the `ndarray` type.\n",
    "\n",
    "* all elements are of the same type and size\n",
    "* the access to array elements is more efficient\n",
    "* the memory occupied by the array is smaller"
   ]
  },
  {
   "cell_type": "code",
   "execution_count": 2,
   "metadata": {
    "slideshow": {
     "slide_type": "slide"
    }
   },
   "outputs": [
    {
     "name": "stdout",
     "output_type": "stream",
     "text": [
      "type of a= <class 'list'>\n"
     ]
    }
   ],
   "source": [
    "n = 1000000\n",
    "\n",
    "# python array (a list)\n",
    "a = [i for i in range(n)]\n",
    "\n",
    "print('type of a=',type(a))"
   ]
  },
  {
   "cell_type": "code",
   "execution_count": 3,
   "metadata": {
    "scrolled": true
   },
   "outputs": [
    {
     "name": "stdout",
     "output_type": "stream",
     "text": [
      "type of b= <class 'numpy.ndarray'>\n"
     ]
    }
   ],
   "source": [
    "# numpy array\n",
    "b = np.arange(n)\n",
    "\n",
    "print('type of b=',type(b))"
   ]
  },
  {
   "cell_type": "markdown",
   "metadata": {
    "slideshow": {
     "slide_type": "slide"
    }
   },
   "source": [
    "# `ndarray` size\n",
    "`numpy` arrays occupy less space in memory than `list` arrays.\n",
    "\n",
    "* `ndarray`: homogeneous \n",
    "    * specialized for numeric operations\n",
    "* `list`: heterogeneous\n",
    "    * can handle arbitrary elements (`float`,`string`, etc)"
   ]
  },
  {
   "cell_type": "code",
   "execution_count": 4,
   "metadata": {},
   "outputs": [
    {
     "name": "stdout",
     "output_type": "stream",
     "text": [
      "size of a = 4224364\n"
     ]
    }
   ],
   "source": [
    "import sys\n",
    "\n",
    "# python array\n",
    "print('size of a =',sys.getsizeof(a))"
   ]
  },
  {
   "cell_type": "code",
   "execution_count": 5,
   "metadata": {
    "scrolled": true
   },
   "outputs": [
    {
     "name": "stdout",
     "output_type": "stream",
     "text": [
      "size of b = 4000048\n"
     ]
    }
   ],
   "source": [
    "# numpy array\n",
    "print('size of b =',sys.getsizeof(b))"
   ]
  },
  {
   "cell_type": "markdown",
   "metadata": {
    "slideshow": {
     "slide_type": "slide"
    }
   },
   "source": [
    "# `ndarray` access\n",
    "`numpy` arrays have shorter access time than `list` arrays."
   ]
  },
  {
   "cell_type": "code",
   "execution_count": 6,
   "metadata": {},
   "outputs": [],
   "source": [
    "import time"
   ]
  },
  {
   "cell_type": "code",
   "execution_count": 16,
   "metadata": {},
   "outputs": [
    {
     "name": "stdout",
     "output_type": "stream",
     "text": [
      "elapsed time = 184421 (us)\n"
     ]
    }
   ],
   "source": [
    "tick = time.time()                           # start clock\n",
    "a = [i for i in range(n)]\n",
    "tock = time.time()                           #  stop clock\n",
    "dtList = (tock-tick)*1e6                     # time difference \n",
    "print('elapsed time =',int(dtList),'(us)')   # micro seconds"
   ]
  },
  {
   "cell_type": "code",
   "execution_count": 17,
   "metadata": {},
   "outputs": [
    {
     "name": "stdout",
     "output_type": "stream",
     "text": [
      "elapsed time = 14054 (us)\n"
     ]
    }
   ],
   "source": [
    "tick = time.time()                          # start clock\n",
    "b = np.arange(n)\n",
    "tock = time.time()                          #  stop clock\n",
    "dtNumpy = (tock-tick)*1e6                   # time difference \n",
    "print('elapsed time =',int(dtNumpy),'(us)') # micro seconds"
   ]
  },
  {
   "cell_type": "code",
   "execution_count": 18,
   "metadata": {
    "scrolled": true
   },
   "outputs": [
    {
     "data": {
      "text/plain": [
       "13"
      ]
     },
     "execution_count": 18,
     "metadata": {},
     "output_type": "execute_result"
    }
   ],
   "source": [
    "# time ratio\n",
    "int(dtList/dtNumpy)"
   ]
  },
  {
   "cell_type": "markdown",
   "metadata": {
    "slideshow": {
     "slide_type": "slide"
    }
   },
   "source": [
    "We can also evaluate the access times using **magic commands**."
   ]
  },
  {
   "cell_type": "code",
   "execution_count": 19,
   "metadata": {},
   "outputs": [
    {
     "name": "stdout",
     "output_type": "stream",
     "text": [
      "134 ms ± 515 µs per loop (mean ± std. dev. of 7 runs, 10 loops each)\n"
     ]
    }
   ],
   "source": [
    "%%timeit\n",
    "a = [i for i in range(n)]"
   ]
  },
  {
   "cell_type": "code",
   "execution_count": 20,
   "metadata": {},
   "outputs": [
    {
     "name": "stdout",
     "output_type": "stream",
     "text": [
      "10.9 ms ± 117 µs per loop (mean ± std. dev. of 7 runs, 100 loops each)\n"
     ]
    }
   ],
   "source": [
    "%%timeit\n",
    "b = np.arange(n)"
   ]
  },
  {
   "cell_type": "markdown",
   "metadata": {
    "slideshow": {
     "slide_type": "slide"
    }
   },
   "source": [
    "# execution time\n",
    "`numpy` arrays facilitate faster processing than `list` arrays."
   ]
  },
  {
   "cell_type": "code",
   "execution_count": 26,
   "metadata": {},
   "outputs": [
    {
     "name": "stdout",
     "output_type": "stream",
     "text": [
      "elapsed time = 659034 (us)\n"
     ]
    }
   ],
   "source": [
    "tick = time.time()\n",
    "sa = [i**2 for i in a]\n",
    "tock = time.time()\n",
    "dtList = (tock-tick)*1e6\n",
    "print('elapsed time =',int(dtList),'(us)')"
   ]
  },
  {
   "cell_type": "code",
   "execution_count": 27,
   "metadata": {},
   "outputs": [
    {
     "name": "stdout",
     "output_type": "stream",
     "text": [
      "elapsed time = 12971 (us)\n"
     ]
    }
   ],
   "source": [
    "tick = time.time()\n",
    "sb = b**2\n",
    "tock = time.time()\n",
    "dtNumpy = (tock-tick)*1e6\n",
    "print('elapsed time =',int(dtNumpy),'(us)')"
   ]
  },
  {
   "cell_type": "code",
   "execution_count": 28,
   "metadata": {
    "scrolled": true
   },
   "outputs": [
    {
     "data": {
      "text/plain": [
       "50"
      ]
     },
     "execution_count": 28,
     "metadata": {},
     "output_type": "execute_result"
    }
   ],
   "source": [
    "# time ratio\n",
    "int(dtList/dtNumpy)"
   ]
  },
  {
   "cell_type": "markdown",
   "metadata": {
    "slideshow": {
     "slide_type": "slide"
    }
   },
   "source": [
    "We can also evaluate the access times using **magic commands**."
   ]
  },
  {
   "cell_type": "code",
   "execution_count": 29,
   "metadata": {},
   "outputs": [
    {
     "name": "stdout",
     "output_type": "stream",
     "text": [
      "569 ms ± 2.88 ms per loop (mean ± std. dev. of 7 runs, 1 loop each)\n"
     ]
    }
   ],
   "source": [
    "%%timeit\n",
    "sa = [i**2 for i in a]"
   ]
  },
  {
   "cell_type": "code",
   "execution_count": 30,
   "metadata": {},
   "outputs": [
    {
     "name": "stdout",
     "output_type": "stream",
     "text": [
      "11.2 ms ± 10.6 µs per loop (mean ± std. dev. of 7 runs, 100 loops each)\n"
     ]
    }
   ],
   "source": [
    "%%timeit\n",
    "sb = b**2"
   ]
  },
  {
   "cell_type": "markdown",
   "metadata": {
    "slideshow": {
     "slide_type": "slide"
    }
   },
   "source": [
    "**`numpy` calculations are much more efficient than `list` calculations**\n",
    "***\n",
    "\n",
    "<img src=\"https://www.dropbox.com/s/u628vjn2uc5h3ua/notebook.png?raw=1\" width=\"10%\" align=\"right\">\n",
    "\n",
    "See the [vectorize1D notebook](s_NpVectorize1D.ipynb) for info on fast 1D computing.\n",
    "\n",
    "See the [vectorize2D notebook](s_NpVectorize2D.ipynb) for info on fast 2D computing."
   ]
  },
  {
   "cell_type": "markdown",
   "metadata": {
    "slideshow": {
     "slide_type": "slide"
    }
   },
   "source": [
    "<img src=\"http://www.dropbox.com/s/fcucolyuzdjl80k/todo.jpg?raw=1\" width=\"10%\" align=\"right\">\n",
    "\n",
    "Check how storage and access time depend on the array size. \n",
    "\n",
    "Evaluate \n",
    "* access time and \n",
    "* processing time \n",
    "\n",
    "ratios for array sizes from $n=10^1$ to $n=10^9$."
   ]
  },
  {
   "cell_type": "code",
   "execution_count": 49,
   "metadata": {},
   "outputs": [
    {
     "name": "stdout",
     "output_type": "stream",
     "text": [
      "10** 0 calculation, elapsed time = 267265 (µs)\n",
      "10** 1 calculation, elapsed time = 19 (µs)\n",
      "10** 2 calculation, elapsed time = 17 (µs)\n",
      "10** 3 calculation, elapsed time = 83 (µs)\n",
      "10** 4 calculation, elapsed time = 684 (µs)\n",
      "10** 5 calculation, elapsed time = 7982 (µs)\n",
      "10** 6 calculation, elapsed time = 111794 (µs)\n",
      "10** 7 calculation, elapsed time = 1138523 (µs)\n"
     ]
    }
   ],
   "source": [
    "import numpy as np\n",
    "import time\n",
    "\n",
    "m = 7\n",
    "i = 0\n",
    "while i <= m:\n",
    "    tick = time.time()\n",
    "    a = [n for n in range(int(10**i))]\n",
    "    tock = time.time()\n",
    "    dtList = (tock-tick)*1e6\n",
    "    print('10**',i,'calculation, elapsed time =', int(dtList), '(µs)')\n",
    "    i += 1\n",
    "          "
   ]
  },
  {
   "cell_type": "code",
   "execution_count": 53,
   "metadata": {},
   "outputs": [
    {
     "name": "stdout",
     "output_type": "stream",
     "text": [
      "10** 0 calculation, elapsed time = 89669 (µs)\n",
      "10** 1 calculation, elapsed time = 34 (µs)\n",
      "10** 2 calculation, elapsed time = 10 (µs)\n",
      "10** 3 calculation, elapsed time = 15 (µs)\n",
      "10** 4 calculation, elapsed time = 420 (µs)\n",
      "10** 5 calculation, elapsed time = 146 (µs)\n",
      "10** 6 calculation, elapsed time = 10042 (µs)\n",
      "10** 7 calculation, elapsed time = 101119 (µs)\n",
      "10** 8 calculation, elapsed time = 1017870 (µs)\n"
     ]
    }
   ],
   "source": [
    "import numpy as np\n",
    "import time\n",
    "\n",
    "m = 8\n",
    "i = 0\n",
    "while i <= m:\n",
    "    tick = time.time()\n",
    "    b = np.arange(10**i)\n",
    "    tock = time.time()\n",
    "    dtList = (tock-tick)*1e6\n",
    "    print('10**',i,'calculation, elapsed time =', int(dtList), '(µs)')\n",
    "    i += 1\n",
    "          "
   ]
  },
  {
   "cell_type": "markdown",
   "metadata": {
    "slideshow": {
     "slide_type": "slide"
    }
   },
   "source": [
    "# `numpy` data types\n",
    "\n",
    "`numpy` supports additional data types relative to Python.\n",
    "\n",
    "They are useful for analysis of data provided by physical systems."
   ]
  },
  {
   "cell_type": "markdown",
   "metadata": {
    "slideshow": {
     "slide_type": "slide"
    }
   },
   "source": [
    "# `numpy` `int`\n",
    "The `int` type can be represented by a different number of bits\n",
    "\n",
    "* `int8`\n",
    "* `int16`\n",
    "* `int32`\n",
    "* `int64`\n",
    "\n",
    "which correspond to `int`'s in different ranges. \n",
    "\n",
    "*** \n",
    "Choose the appropriate `int` type that \n",
    "* covers the range needed by data representation, \n",
    "* while minimizing data storage."
   ]
  },
  {
   "cell_type": "code",
   "execution_count": 54,
   "metadata": {
    "scrolled": true,
    "slideshow": {
     "slide_type": "slide"
    }
   },
   "outputs": [
    {
     "name": "stdout",
     "output_type": "stream",
     "text": [
      "Machine parameters for int8\n",
      "---------------------------------------------------------------\n",
      "min = -128\n",
      "max = 127\n",
      "---------------------------------------------------------------\n",
      "\n",
      "Machine parameters for int16\n",
      "---------------------------------------------------------------\n",
      "min = -32768\n",
      "max = 32767\n",
      "---------------------------------------------------------------\n",
      "\n",
      "Machine parameters for int32\n",
      "---------------------------------------------------------------\n",
      "min = -2147483648\n",
      "max = 2147483647\n",
      "---------------------------------------------------------------\n",
      "\n",
      "Machine parameters for int64\n",
      "---------------------------------------------------------------\n",
      "min = -9223372036854775808\n",
      "max = 9223372036854775807\n",
      "---------------------------------------------------------------\n",
      "\n"
     ]
    }
   ],
   "source": [
    "print(np.iinfo(np.int8))\n",
    "print(np.iinfo(np.int16))\n",
    "print(np.iinfo(np.int32))\n",
    "print(np.iinfo(np.int64))"
   ]
  },
  {
   "cell_type": "code",
   "execution_count": 56,
   "metadata": {
    "slideshow": {
     "slide_type": "slide"
    }
   },
   "outputs": [
    {
     "name": "stdout",
     "output_type": "stream",
     "text": [
      "size of i08 = 13\n",
      "size of i16 = 14\n",
      "size of i32 = 16\n",
      "size of i64 = 24\n"
     ]
    }
   ],
   "source": [
    "i = 1\n",
    "\n",
    "i08 = np.int8(i)\n",
    "print('size of i08 =',sys.getsizeof(i08))\n",
    "\n",
    "i16 = np.int16(i)\n",
    "print('size of i16 =',sys.getsizeof(i16))\n",
    "\n",
    "i32 = np.int32(i)\n",
    "print('size of i32 =',sys.getsizeof(i32))\n",
    "\n",
    "i64 = np.int64(i)\n",
    "print('size of i64 =',sys.getsizeof(i64))"
   ]
  },
  {
   "cell_type": "code",
   "execution_count": 57,
   "metadata": {
    "scrolled": true,
    "slideshow": {
     "slide_type": "slide"
    }
   },
   "outputs": [
    {
     "name": "stdout",
     "output_type": "stream",
     "text": [
      "size of x08 = 1000048\n",
      "size of x16 = 2000048\n",
      "size of x32 = 4000048\n",
      "size of x64 = 8000048\n"
     ]
    }
   ],
   "source": [
    "xmin = 0\n",
    "xmax = 1e6\n",
    "dx = 1\n",
    "\n",
    "x08 = np.arange(xmin,xmax,dx, dtype=np.int8)\n",
    "print('size of x08 =',sys.getsizeof(x08))\n",
    "\n",
    "x16 = np.arange(xmin,xmax,dx, dtype=np.int16)\n",
    "print('size of x16 =',sys.getsizeof(x16))\n",
    "\n",
    "x32 = np.arange(xmin,xmax,dx, dtype=np.int32)\n",
    "print('size of x32 =',sys.getsizeof(x32))\n",
    "\n",
    "x64 = np.arange(xmin,xmax,dx, dtype=np.int64)\n",
    "print('size of x64 =',sys.getsizeof(x64))"
   ]
  },
  {
   "cell_type": "code",
   "execution_count": 58,
   "metadata": {},
   "outputs": [
    {
     "name": "stdout",
     "output_type": "stream",
     "text": [
      "-128 127\n",
      "-32768 32767\n",
      "0 999999\n",
      "0 999999\n"
     ]
    }
   ],
   "source": [
    "print( np.min(x08), np.max(x08) ) # this type is insufficient\n",
    "print( np.min(x16), np.max(x16) ) # this type is insufficient\n",
    "print( np.min(x32), np.max(x32) )\n",
    "print( np.min(x64), np.max(x64) )"
   ]
  },
  {
   "cell_type": "markdown",
   "metadata": {
    "slideshow": {
     "slide_type": "slide"
    }
   },
   "source": [
    "<img src=\"http://www.dropbox.com/s/fcucolyuzdjl80k/todo.jpg?raw=1\" width=\"10%\" align=\"right\">\n",
    "\n",
    "Use `np.iinfo?` to explore the `numpy` `int` types."
   ]
  },
  {
   "cell_type": "code",
   "execution_count": 59,
   "metadata": {},
   "outputs": [],
   "source": [
    "np.iinfo?"
   ]
  },
  {
   "cell_type": "markdown",
   "metadata": {
    "slideshow": {
     "slide_type": "slide"
    }
   },
   "source": [
    "# `numpy` `float`\n",
    "The`float` type can be represented by different number of bits\n",
    "* `float16`\n",
    "* `float32`\n",
    "* `float64`\n",
    "\n",
    "which correspond to floating point numbers of different ranges. \n",
    "\n",
    "*** \n",
    "Choose the appropriate `float` type that \n",
    "* covers the range needed by data representation, \n",
    "* while minimizing data storage."
   ]
  },
  {
   "cell_type": "code",
   "execution_count": 60,
   "metadata": {
    "slideshow": {
     "slide_type": "slide"
    }
   },
   "outputs": [
    {
     "name": "stdout",
     "output_type": "stream",
     "text": [
      "Machine parameters for float16\n",
      "---------------------------------------------------------------\n",
      "precision =   3   resolution = 1.00040e-03\n",
      "machep =    -10   eps =        9.76562e-04\n",
      "negep =     -11   epsneg =     4.88281e-04\n",
      "minexp =    -14   tiny =       6.10352e-05\n",
      "maxexp =     16   max =        6.55040e+04\n",
      "nexp =        5   min =        -max\n",
      "---------------------------------------------------------------\n",
      "\n",
      "Machine parameters for float32\n",
      "---------------------------------------------------------------\n",
      "precision =   6   resolution = 1.0000000e-06\n",
      "machep =    -23   eps =        1.1920929e-07\n",
      "negep =     -24   epsneg =     5.9604645e-08\n",
      "minexp =   -126   tiny =       1.1754944e-38\n",
      "maxexp =    128   max =        3.4028235e+38\n",
      "nexp =        8   min =        -max\n",
      "---------------------------------------------------------------\n",
      "\n",
      "Machine parameters for float64\n",
      "---------------------------------------------------------------\n",
      "precision =  15   resolution = 1.0000000000000001e-15\n",
      "machep =    -52   eps =        2.2204460492503131e-16\n",
      "negep =     -53   epsneg =     1.1102230246251565e-16\n",
      "minexp =  -1022   tiny =       2.2250738585072014e-308\n",
      "maxexp =   1024   max =        1.7976931348623157e+308\n",
      "nexp =       11   min =        -max\n",
      "---------------------------------------------------------------\n",
      "\n"
     ]
    }
   ],
   "source": [
    "print(np.finfo(np.float16))\n",
    "print(np.finfo(np.float32))\n",
    "print(np.finfo(np.float64))"
   ]
  },
  {
   "cell_type": "code",
   "execution_count": 62,
   "metadata": {
    "slideshow": {
     "slide_type": "slide"
    }
   },
   "outputs": [
    {
     "name": "stdout",
     "output_type": "stream",
     "text": [
      "size of f16 = 14\n",
      "size of f32 = 16\n",
      "size of f64 = 24\n"
     ]
    }
   ],
   "source": [
    "f = 1.0\n",
    "\n",
    "f16 = np.float16(f)\n",
    "print('size of f16 =',sys.getsizeof(f16))\n",
    "\n",
    "f32 = np.float32(f)\n",
    "print('size of f32 =',sys.getsizeof(f32))\n",
    "\n",
    "f64 = np.float64(f)\n",
    "print('size of f64 =',sys.getsizeof(f64))"
   ]
  },
  {
   "cell_type": "code",
   "execution_count": 63,
   "metadata": {
    "slideshow": {
     "slide_type": "slide"
    }
   },
   "outputs": [
    {
     "name": "stdout",
     "output_type": "stream",
     "text": [
      "size of x16 = 2000048\n",
      "size of x32 = 4000048\n",
      "size of x64 = 8000048\n"
     ]
    }
   ],
   "source": [
    "xmin = 0.0\n",
    "xmax = 1.0\n",
    "dx = 1e-6\n",
    "\n",
    "x16 = np.arange(xmin,xmax,dx, dtype=np.float16)\n",
    "print('size of x16 =',sys.getsizeof(x16))\n",
    "\n",
    "x32 = np.arange(xmin,xmax,dx, dtype=np.float32)\n",
    "print('size of x32 =',sys.getsizeof(x32))\n",
    "\n",
    "x64 = np.arange(xmin,xmax,dx, dtype=np.float64)\n",
    "print('size of x64 =',sys.getsizeof(x64))"
   ]
  },
  {
   "cell_type": "code",
   "execution_count": 64,
   "metadata": {},
   "outputs": [
    {
     "name": "stdout",
     "output_type": "stream",
     "text": [
      "0.0 1.014\n",
      "0.0 0.999999\n",
      "0.0 0.999999\n"
     ]
    }
   ],
   "source": [
    "print( np.min(x16), np.max(x16) ) # this type is not sufficient\n",
    "print( np.min(x32), np.max(x32) )\n",
    "print( np.min(x64), np.max(x64) )"
   ]
  },
  {
   "cell_type": "markdown",
   "metadata": {
    "slideshow": {
     "slide_type": "slide"
    }
   },
   "source": [
    "<img src=\"http://www.dropbox.com/s/fcucolyuzdjl80k/todo.jpg?raw=1\" width=\"10%\" align=\"right\">\n",
    "\n",
    "Use `np.finfo?` to explore the `numpy` `float` types."
   ]
  },
  {
   "cell_type": "code",
   "execution_count": null,
   "metadata": {},
   "outputs": [],
   "source": [
    "np.finfo?"
   ]
  }
 ],
 "metadata": {
  "celltoolbar": "Slideshow",
  "kernelspec": {
   "display_name": "Python 3 (ipykernel)",
   "language": "python",
   "name": "python3"
  },
  "language_info": {
   "codemirror_mode": {
    "name": "ipython",
    "version": 3
   },
   "file_extension": ".py",
   "mimetype": "text/x-python",
   "name": "python",
   "nbconvert_exporter": "python",
   "pygments_lexer": "ipython3",
   "version": "3.9.2"
  },
  "varInspector": {
   "cols": {
    "lenName": 16,
    "lenType": 16,
    "lenVar": 40
   },
   "kernels_config": {
    "python": {
     "delete_cmd_postfix": "",
     "delete_cmd_prefix": "del ",
     "library": "var_list.py",
     "varRefreshCmd": "print(var_dic_list())"
    },
    "r": {
     "delete_cmd_postfix": ") ",
     "delete_cmd_prefix": "rm(",
     "library": "var_list.r",
     "varRefreshCmd": "cat(var_dic_list()) "
    }
   },
   "types_to_exclude": [
    "module",
    "function",
    "builtin_function_or_method",
    "instance",
    "_Feature"
   ],
   "window_display": false
  }
 },
 "nbformat": 4,
 "nbformat_minor": 2
}
