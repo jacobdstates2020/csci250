{
 "cells": [
  {
   "cell_type": "markdown",
   "metadata": {
    "slideshow": {
     "slide_type": "slide"
    }
   },
   "source": [
    "<img src=\"https://www.mines.edu/webcentral/wp-content/uploads/sites/267/2019/02/horizontallightbackground.jpg\" width=\"100%\"> \n",
    "### CSCI250 Python Computing: Building a Sensor System\n",
    "<hr style=\"height:5px\" width=\"100%\" align=\"left\">\n",
    "\n",
    "# `numpy`: 1D vectorization"
   ]
  },
  {
   "cell_type": "markdown",
   "metadata": {
    "heading_collapsed": true,
    "slideshow": {
     "slide_type": "slide"
    }
   },
   "source": [
    "# Objectives\n",
    "* introduce fast vectorized `numpy` array operations\n",
    "* evaluate computational speed-up relative to loops\n",
    "* discuss aggregations and masking applied to `numpy` arrays "
   ]
  },
  {
   "cell_type": "markdown",
   "metadata": {
    "slideshow": {
     "slide_type": "slide"
    }
   },
   "source": [
    "# Resources\n",
    "* [numpy.org](http://www.numpy.org)\n",
    "* [`numpy` user guide](https://docs.scipy.org/doc/numpy/user)\n",
    "* [`numpy` reference](https://docs.scipy.org/doc/numpy/reference)\n",
    "* [`numpy` ufuncs](https://numpy.org/doc/stable/reference/ufuncs.html)"
   ]
  },
  {
   "cell_type": "markdown",
   "metadata": {
    "slideshow": {
     "slide_type": "slide"
    }
   },
   "source": [
    "# Definition\n",
    "\n",
    "**Vectorization**: a computational style in which multiple operations are executed at once, i.e. execute a single global operation instead of multiple smaller operations in a loop. \n",
    "\n",
    "Has multiple advantages:\n",
    "* **compact appearance**: the code resembles math\n",
    "* **error reduction**: the code is shorter, less complex\n",
    "* **execution performance**: the code runs much faster"
   ]
  },
  {
   "cell_type": "markdown",
   "metadata": {
    "slideshow": {
     "slide_type": "slide"
    }
   },
   "source": [
    "# Vectorized calculations\n",
    "\n",
    "Computational speed-up can be achieved using two main methods:\n",
    "1. universal functions \n",
    "2. fast array selection "
   ]
  },
  {
   "cell_type": "markdown",
   "metadata": {
    "slideshow": {
     "slide_type": "slide"
    }
   },
   "source": [
    "# 1. universal functions (ufuncs)\n",
    "\n",
    "* operate element-by-element on `numpy` arrays\n",
    "* are often implemented in compiled C code\n",
    "\n",
    "Some are called automatically when the infix notation is clear:\n",
    "* `np.add(a,b)` is called for `a + b`"
   ]
  },
  {
   "cell_type": "code",
   "execution_count": null,
   "metadata": {
    "slideshow": {
     "slide_type": "-"
    }
   },
   "outputs": [],
   "source": [
    "import numpy as np\n",
    "import math,time"
   ]
  },
  {
   "cell_type": "markdown",
   "metadata": {
    "slideshow": {
     "slide_type": "slide"
    }
   },
   "source": [
    "## arithmetic ufuncs\n",
    "\n",
    "* `np.add(),np.multiply(),np.floor_divide(),...`\n",
    "\n",
    "or\n",
    "\n",
    "* `+, *, //, ...`"
   ]
  },
  {
   "cell_type": "code",
   "execution_count": null,
   "metadata": {
    "slideshow": {
     "slide_type": "slide"
    }
   },
   "outputs": [],
   "source": [
    "n = int(1e6)\n",
    "\n",
    "a = np.linspace(0,1,n, dtype=float)\n",
    "b = np.linspace(1,0,n, dtype=float)\n",
    "c = np.empty(       n, dtype=float)"
   ]
  },
  {
   "cell_type": "markdown",
   "metadata": {
    "slideshow": {
     "slide_type": "-"
    }
   },
   "source": [
    "**non-vectorized code** (uses loops)"
   ]
  },
  {
   "cell_type": "code",
   "execution_count": null,
   "metadata": {},
   "outputs": [],
   "source": [
    "tick = time.time()\n",
    "\n",
    "for i in range(n):\n",
    "    c[i] = a[i] * b[i]\n",
    "    \n",
    "tock = time.time()\n",
    "dLOOP = int((tock-tick)*1e6)\n",
    "\n",
    "print( int(c.sum()), dLOOP,'us' )"
   ]
  },
  {
   "cell_type": "markdown",
   "metadata": {
    "slideshow": {
     "slide_type": "slide"
    }
   },
   "source": [
    "**vectorized code** (does not use loops)"
   ]
  },
  {
   "cell_type": "code",
   "execution_count": null,
   "metadata": {},
   "outputs": [],
   "source": [
    "tick = time.time()\n",
    "\n",
    "c = a * b\n",
    "    \n",
    "tock = time.time()\n",
    "dVECT = int((tock-tick)*1e6)\n",
    "\n",
    "print( int(c.sum()), dVECT,'us' )"
   ]
  },
  {
   "cell_type": "markdown",
   "metadata": {
    "slideshow": {
     "slide_type": "-"
    }
   },
   "source": [
    "The **execution time** ratio is"
   ]
  },
  {
   "cell_type": "code",
   "execution_count": null,
   "metadata": {
    "scrolled": true
   },
   "outputs": [],
   "source": [
    "int(dLOOP/dVECT)"
   ]
  },
  {
   "cell_type": "markdown",
   "metadata": {
    "slideshow": {
     "slide_type": "slide"
    }
   },
   "source": [
    "## comparison ufuncs\n",
    "* `np.less(),np.greater(),np.not_equal(),...`\n",
    "\n",
    "or\n",
    "\n",
    "* `<, >, !=, ...`"
   ]
  },
  {
   "cell_type": "code",
   "execution_count": null,
   "metadata": {
    "slideshow": {
     "slide_type": "slide"
    }
   },
   "outputs": [],
   "source": [
    "n = 11\n",
    "a = np.linspace(0,1,n, dtype=float)\n",
    "b = np.linspace(1,0,n, dtype=float)\n",
    "print(a)\n",
    "print(b)"
   ]
  },
  {
   "cell_type": "code",
   "execution_count": null,
   "metadata": {},
   "outputs": [],
   "source": [
    "print( np.greater(a,b) )  # ufunc"
   ]
  },
  {
   "cell_type": "code",
   "execution_count": null,
   "metadata": {},
   "outputs": [],
   "source": [
    "print( a > b )            # infix"
   ]
  },
  {
   "cell_type": "markdown",
   "metadata": {
    "slideshow": {
     "slide_type": "slide"
    }
   },
   "source": [
    "## bitwise ufuncs\n",
    "* `np.bitwise_and(),np.left_shift(),...`\n",
    "\n",
    "or\n",
    "\n",
    "* `&, >>, ...`"
   ]
  },
  {
   "cell_type": "code",
   "execution_count": null,
   "metadata": {
    "slideshow": {
     "slide_type": "slide"
    }
   },
   "outputs": [],
   "source": [
    "n = 11\n",
    "a = np.linspace(0,n,n, dtype=int)\n",
    "b = np.linspace(n,0,n, dtype=int)\n",
    "print(a)\n",
    "print(b)"
   ]
  },
  {
   "cell_type": "code",
   "execution_count": null,
   "metadata": {},
   "outputs": [],
   "source": [
    "print( np.bitwise_and(a,b) ) # ufunc"
   ]
  },
  {
   "cell_type": "code",
   "execution_count": null,
   "metadata": {},
   "outputs": [],
   "source": [
    "print( a & b )               # infix"
   ]
  },
  {
   "cell_type": "markdown",
   "metadata": {
    "slideshow": {
     "slide_type": "slide"
    }
   },
   "source": [
    "## logical ufuncs\n",
    "\n",
    "`np.logical_and(),np.logical_or(),...`\n",
    "\n",
    "**N.B.**: no infix equivalents"
   ]
  },
  {
   "cell_type": "code",
   "execution_count": null,
   "metadata": {
    "slideshow": {
     "slide_type": "slide"
    }
   },
   "outputs": [],
   "source": [
    "n = 11\n",
    "a = np.linspace(0,1,n, dtype=float) > 0.25\n",
    "b = np.linspace(0,1,n, dtype=float) > 0.75\n",
    "print(a)\n",
    "print(b)"
   ]
  },
  {
   "cell_type": "code",
   "execution_count": null,
   "metadata": {},
   "outputs": [],
   "source": [
    "print( np.logical_and(a,b)) # ufunc"
   ]
  },
  {
   "cell_type": "code",
   "execution_count": null,
   "metadata": {},
   "outputs": [],
   "source": [
    "print( a and b )            # "
   ]
  },
  {
   "cell_type": "markdown",
   "metadata": {
    "slideshow": {
     "slide_type": "slide"
    }
   },
   "source": [
    "## trigonometric ufuncs\n",
    "`np.sin(),np.arcsin(),np.sinh(),...`\n",
    "\n",
    "## exp/log ufuncs\n",
    "`np.exp(),np.log(),np.log10(),...`\n",
    "\n",
    "`...`"
   ]
  },
  {
   "cell_type": "markdown",
   "metadata": {
    "slideshow": {
     "slide_type": "slide"
    }
   },
   "source": [
    "## aggregation ufuncs\n",
    "\n",
    "`np.sum()`, `np.prod()`"
   ]
  },
  {
   "cell_type": "code",
   "execution_count": null,
   "metadata": {},
   "outputs": [],
   "source": [
    "n = int(1e6)\n",
    "a = np.linspace(0,1,n, dtype=float) > 0.25"
   ]
  },
  {
   "cell_type": "code",
   "execution_count": null,
   "metadata": {
    "scrolled": true
   },
   "outputs": [],
   "source": [
    "tick = time.time()\n",
    "\n",
    "s = sum(a)\n",
    "\n",
    "tock = time.time()\n",
    "print( int(s), int((tock-tick)*1e6),'us' )"
   ]
  },
  {
   "cell_type": "code",
   "execution_count": null,
   "metadata": {},
   "outputs": [],
   "source": [
    "tick = time.time()\n",
    "\n",
    "s = np.sum(a)\n",
    "\n",
    "tock = time.time()\n",
    "print( int(s), int((tock-tick)*1e6), 'us' )"
   ]
  },
  {
   "cell_type": "markdown",
   "metadata": {
    "slideshow": {
     "slide_type": "slide"
    }
   },
   "source": [
    "## more aggregation ufuncs\n",
    "\n",
    "`np.min()`, `np.max()`\n",
    "\n",
    "`np.all()`,`np.any()`\n",
    "\n",
    "`np.mean()`, `np.median()`, `np.var()`, `np.std()`\n",
    "\n",
    "`np.argmin()`, `np.argmax()`, `np.nanmin()`, `np.nanmax()`\n",
    "\n",
    "`...`"
   ]
  },
  {
   "cell_type": "markdown",
   "metadata": {
    "slideshow": {
     "slide_type": "slide"
    }
   },
   "source": [
    "<img src=\"http://www.dropbox.com/s/fcucolyuzdjl80k/todo.jpg?raw=1\" width=\"10%\" align=\"right\">\n",
    "\n",
    "Add examples to experiment with [`numpy` ufuncs](https://numpy.org/doc/stable/reference/ufuncs.html#available-ufuncs). \n",
    "\n",
    "Compare execution time with and without vectorized codes.\n",
    "\n",
    "**N.B.**: use large arrays for relevant speed-up comparison."
   ]
  },
  {
   "cell_type": "markdown",
   "metadata": {
    "slideshow": {
     "slide_type": "slide"
    }
   },
   "source": [
    "# 2. Fast array selection\n",
    "\n",
    "Methods to efficiently slice `numpy` arrays:\n",
    "* fancy indexing\n",
    "* array masking"
   ]
  },
  {
   "cell_type": "markdown",
   "metadata": {
    "slideshow": {
     "slide_type": "slide"
    }
   },
   "source": [
    "## fancy indexing\n",
    "Array indexing using arrays of integers."
   ]
  },
  {
   "cell_type": "code",
   "execution_count": null,
   "metadata": {},
   "outputs": [],
   "source": [
    "nin = int(1e6)       # n before decimation\n",
    "jmp = 100            #   decimation factor\n",
    "nou = int(nin/jmp)   # n  after decimation"
   ]
  },
  {
   "cell_type": "code",
   "execution_count": null,
   "metadata": {},
   "outputs": [],
   "source": [
    "a = np.linspace(0,1,nin, dtype=float)\n",
    "print(a.size)"
   ]
  },
  {
   "cell_type": "code",
   "execution_count": null,
   "metadata": {},
   "outputs": [],
   "source": [
    "c = np.empty(nou, dtype=float)\n",
    "print(c.size)"
   ]
  },
  {
   "cell_type": "markdown",
   "metadata": {
    "slideshow": {
     "slide_type": "slide"
    }
   },
   "source": [
    "**non-vectorized code** (uses loops)"
   ]
  },
  {
   "cell_type": "code",
   "execution_count": null,
   "metadata": {
    "slideshow": {
     "slide_type": "-"
    }
   },
   "outputs": [],
   "source": [
    "tick = time.time()\n",
    "\n",
    "for i in range(nou):\n",
    "    c[i] = a[ i*jmp ]\n",
    "    \n",
    "tock = time.time()\n",
    "dLOOP = int((tock-tick)*1e6)\n",
    "\n",
    "print( int(c.sum()), dLOOP,'us' )"
   ]
  },
  {
   "cell_type": "markdown",
   "metadata": {
    "slideshow": {
     "slide_type": "slide"
    }
   },
   "source": [
    "**vectorized code** (does not use loops)"
   ]
  },
  {
   "cell_type": "code",
   "execution_count": null,
   "metadata": {},
   "outputs": [],
   "source": [
    "# form array of indexes by list comprehension\n",
    "k = np.array( [i for i in range(0,nin,jmp)] )\n",
    "print(k.size)"
   ]
  },
  {
   "cell_type": "code",
   "execution_count": null,
   "metadata": {
    "slideshow": {
     "slide_type": "-"
    }
   },
   "outputs": [],
   "source": [
    "tick = time.time()\n",
    "\n",
    "c = a[k]\n",
    "    \n",
    "tock = time.time()\n",
    "dVECT = int((tock-tick)*1e6)\n",
    "\n",
    "print( int(c.sum()), dVECT,'us' )"
   ]
  },
  {
   "cell_type": "code",
   "execution_count": null,
   "metadata": {
    "scrolled": true
   },
   "outputs": [],
   "source": [
    "int(dLOOP/dVECT)"
   ]
  },
  {
   "cell_type": "markdown",
   "metadata": {
    "slideshow": {
     "slide_type": "slide"
    }
   },
   "source": [
    "## array masking\n",
    "Array selection using vectorized logical operations."
   ]
  },
  {
   "cell_type": "code",
   "execution_count": null,
   "metadata": {},
   "outputs": [],
   "source": [
    "n = int(1e6)\n",
    "\n",
    "a = np.linspace(0,1,n, dtype=float)\n",
    "\n",
    "aLo = 0.50\n",
    "aHi = 0.75"
   ]
  },
  {
   "cell_type": "markdown",
   "metadata": {
    "slideshow": {
     "slide_type": "slide"
    }
   },
   "source": [
    "**non-vectorized code** (uses loops)"
   ]
  },
  {
   "cell_type": "code",
   "execution_count": null,
   "metadata": {},
   "outputs": [],
   "source": [
    "c = np.zeros(n, dtype=float) "
   ]
  },
  {
   "cell_type": "code",
   "execution_count": null,
   "metadata": {
    "slideshow": {
     "slide_type": "-"
    }
   },
   "outputs": [],
   "source": [
    "tick = time.time()\n",
    "\n",
    "j = 0\n",
    "for i in range(n):\n",
    "    if (a[i]<aLo) | (a[i]>aHi):\n",
    "        c[j] = a[i]\n",
    "        j += 1\n",
    "    \n",
    "tock = time.time()\n",
    "dLOOP = int((tock-tick)*1e6)\n",
    "\n",
    "print( int(c.sum()), dLOOP,'us' )\n",
    "\n",
    "print(c.size) # output size = input size (inefficient)"
   ]
  },
  {
   "cell_type": "markdown",
   "metadata": {
    "slideshow": {
     "slide_type": "slide"
    }
   },
   "source": [
    "**vectorized code** (does not use loops)"
   ]
  },
  {
   "cell_type": "code",
   "execution_count": null,
   "metadata": {
    "scrolled": true,
    "slideshow": {
     "slide_type": "-"
    }
   },
   "outputs": [],
   "source": [
    "tick = time.time()\n",
    "\n",
    "c = a[ (a<aLo) | (a>aHi) ]\n",
    "    \n",
    "tock = time.time()\n",
    "dVECT = int((tock-tick)*1e6)\n",
    "\n",
    "print( int(c.sum()), dVECT,'us' )\n",
    "\n",
    "print(c.size) # automatically size output"
   ]
  },
  {
   "cell_type": "code",
   "execution_count": null,
   "metadata": {},
   "outputs": [],
   "source": [
    "int(dLOOP/dVECT)"
   ]
  },
  {
   "cell_type": "markdown",
   "metadata": {
    "slideshow": {
     "slide_type": "slide"
    }
   },
   "source": [
    "<img src=\"http://www.dropbox.com/s/fcucolyuzdjl80k/todo.jpg?raw=1\" width=\"10%\" align=\"right\">\n",
    "\n",
    "Add examples to experiment with \n",
    "* fancy indexing \n",
    "* fast array masking.\n",
    "\n",
    "Compare execution time with and without vectorized codes.\n",
    "\n",
    "**N.B.**: use large arrays for relevant speed-up comparison."
   ]
  },
  {
   "cell_type": "markdown",
   "metadata": {
    "slideshow": {
     "slide_type": "slide"
    }
   },
   "source": [
    "<img src=\"https://www.dropbox.com/s/wj23ce93pa9j8pe/demo.png?raw=1\" width=\"10%\" align=\"left\">\n",
    "\n",
    "# Exercise\n",
    "\n",
    "A sequence for computing number $\\pi$ is:\n",
    "\n",
    "$$\\dfrac{\\pi}{\\sqrt{12}} = \\sum\\limits_{i=0}^{n} \\dfrac{(-1)^{i}}{3^i(2i+1)}$$\n",
    "\n",
    "* Use `numpy` vectorization to compute $\\pi$ for $n$ terms.\n",
    "* Evaluate the speed-up of the vectorized implementation.\n",
    "\n",
    "**N.B.**: do not use loops."
   ]
  }
 ],
 "metadata": {
  "celltoolbar": "Slideshow",
  "kernelspec": {
   "display_name": "Python 3",
   "language": "python",
   "name": "python3"
  },
  "language_info": {
   "codemirror_mode": {
    "name": "ipython",
    "version": 3
   },
   "file_extension": ".py",
   "mimetype": "text/x-python",
   "name": "python",
   "nbconvert_exporter": "python",
   "pygments_lexer": "ipython3",
   "version": "3.8.3"
  },
  "varInspector": {
   "cols": {
    "lenName": 16,
    "lenType": 16,
    "lenVar": 40
   },
   "kernels_config": {
    "python": {
     "delete_cmd_postfix": "",
     "delete_cmd_prefix": "del ",
     "library": "var_list.py",
     "varRefreshCmd": "print(var_dic_list())"
    },
    "r": {
     "delete_cmd_postfix": ") ",
     "delete_cmd_prefix": "rm(",
     "library": "var_list.r",
     "varRefreshCmd": "cat(var_dic_list()) "
    }
   },
   "types_to_exclude": [
    "module",
    "function",
    "builtin_function_or_method",
    "instance",
    "_Feature"
   ],
   "window_display": false
  }
 },
 "nbformat": 4,
 "nbformat_minor": 2
}
