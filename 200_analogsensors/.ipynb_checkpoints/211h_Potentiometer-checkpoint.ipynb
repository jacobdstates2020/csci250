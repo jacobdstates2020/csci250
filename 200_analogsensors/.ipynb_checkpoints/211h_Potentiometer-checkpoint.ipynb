{
 "cells": [
  {
   "cell_type": "markdown",
   "metadata": {
    "slideshow": {
     "slide_type": "slide"
    }
   },
   "source": [
    "<img src=\"https://www.mines.edu/webcentral/wp-content/uploads/sites/267/2019/02/horizontallightbackground.jpg\" width=\"100%\"> \n",
    "\n",
    "### CSCI250 Python Computing: Building a Sensor System\n",
    "<hr style=\"height:5px\" width=\"100%\" align=\"left\">\n",
    "\n",
    "# Potentiometer"
   ]
  },
  {
   "cell_type": "markdown",
   "metadata": {
    "heading_collapsed": true,
    "slideshow": {
     "slide_type": "slide"
    }
   },
   "source": [
    "# Introduction\n",
    "\n",
    "<img src=\"https://cdn.sparkfun.com//assets/parts/3/8/2/3/09806-01.jpg\" width=\"25%\" align=right>\n",
    "\n",
    "**Potentiometers** are devices that can output a range of voltages. These are usually constructed with a resistive element between 2 different voltages. A third contact sweeps along the resistor, whose voltage changes linearly as it moves between the outer contacts.\n",
    "\n",
    "You can learn more about potentiometers on [this page](https://en.wikipedia.org/wiki/Potentiometer)."
   ]
  },
  {
   "cell_type": "markdown",
   "metadata": {
    "slideshow": {
     "slide_type": "slide"
    }
   },
   "source": [
    "# Wiring\n",
    "\n",
    "We require a voltage across the resistive element to create a range of voltages. For us, connecting GND and 3.3V to the outer pins is ideal, as that's the full range the ADC can measure.\n",
    "\n",
    "It's fine to flip the connections on the outer pins, that simply reverses the behavior of the output. However **never connect GND or 3.3V to the middle pin**, this could cause a short if the knob was turned all the way."
   ]
  },
  {
   "cell_type": "markdown",
   "metadata": {
    "slideshow": {
     "slide_type": "slide"
    }
   },
   "source": [
    "The middle pin of the potentiometer connects to the [ADC](h_ADC.ipynb).\n",
    "\n",
    "**N.B.**: the wiring for the ADC is omitted for clarity.\n",
    "\n",
    "<img src=\"https://www.dropbox.com/s/jnoqghzjzv1g4zg/wiring_potentiometer.PNG?raw=1\" align=\"left\" width=\"63%\">\n",
    "\n",
    "<img src=\"https://www.dropbox.com/s/4fycc1ottej1psa/circuit_potentiometer.jpg?raw=1\" align=\"right\" width=\"37%\">"
   ]
  },
  {
   "cell_type": "markdown",
   "metadata": {
    "slideshow": {
     "slide_type": "slide"
    }
   },
   "source": [
    "# Programming\n",
    "\n",
    "Follow the [ADC notebook](h_ADC.ipynb) to set-up the analog/digital converter. "
   ]
  },
  {
   "cell_type": "code",
   "execution_count": null,
   "metadata": {},
   "outputs": [],
   "source": [
    "import adcUtil as adc"
   ]
  },
  {
   "cell_type": "markdown",
   "metadata": {
    "slideshow": {
     "slide_type": "slide"
    }
   },
   "source": [
    " As you turn the knob of the potentiometer, you should see the voltage change from $0V$ to $3.3V$."
   ]
  },
  {
   "cell_type": "code",
   "execution_count": null,
   "metadata": {
    "ExecuteTime": {
     "end_time": "2019-09-26T17:59:40.750241Z",
     "start_time": "2019-09-26T17:59:40.618296Z"
    },
    "slideshow": {
     "slide_type": "-"
    }
   },
   "outputs": [],
   "source": [
    "# read potentiometer voltage on CH1 of the ADC\n",
    "Vou = adc.readADC(channel=1)\n",
    "print(Vou)"
   ]
  },
  {
   "cell_type": "code",
   "execution_count": null,
   "metadata": {
    "ExecuteTime": {
     "end_time": "2019-09-26T18:00:07.837068Z",
     "start_time": "2019-09-26T17:59:57.768392Z"
    },
    "slideshow": {
     "slide_type": "slide"
    }
   },
   "outputs": [],
   "source": [
    "import time\n",
    "\n",
    "to = time.time()\n",
    "t  = to\n",
    "while t < to + 10:               # loop for 10s\n",
    "    Vou = adc.readADC(channel=1) # return voltage from potentiometer\n",
    "    \n",
    "    print(format(t-to,'.2f'),\n",
    "          format( Vou,'.3f'))\n",
    "    \n",
    "    time.sleep(0.5)              # wait 0.5s\n",
    "    t = time.time()"
   ]
  },
  {
   "cell_type": "markdown",
   "metadata": {
    "slideshow": {
     "slide_type": "slide"
    }
   },
   "source": [
    "<img src=\"http://www.dropbox.com/s/fcucolyuzdjl80k/todo.jpg?raw=1\" width=\"10%\" align=\"left\">\n",
    "\n",
    "Reverse the 3.3V and GND connections to observe the reversed behavior of the potentiometer. Take a few measurements from both configurations to get a full picture."
   ]
  },
  {
   "cell_type": "markdown",
   "metadata": {
    "slideshow": {
     "slide_type": "skip"
    }
   },
   "source": [
    "# Troubleshooting\n",
    "\n",
    "* **I get error messages when I run my code.**\n",
    "    * There's probably an issue with your code, not any of the components. Read the error message and try to understand what it's telling you in order to fix it.\n",
    "    \n",
    "* **The ADC always returns 0.**\n",
    "    * You're probably having an issue communicating with the ADC, which would most likely come from a wiring problem. Double check your wiring of the ADC to make sure the connections are correct. Also double check your code for any bugs, and that the channel you're measuring isn't just connected to 0V.\n",
    "    * Make sure your sensor is wired correctly. The outer pins need to be connected to 3.3V and GND, and the center pin connected to one of the ADC channel pins.\n",
    "    \n",
    "* **I get funky numbers from the ADC.**\n",
    "    * The most likely cause is that the pin is left floating because it's not connected to anything; simply moving your hand near the ADC can cause the values to change. Make sure there is something connected to one of the channel pins of the ADC, and make sure your code is getting data from the same channel.\n",
    "    * If that doesn't help, try swapping your potentiometer with a neighbor's. If the new one works, yours is likely broken.\n",
    "    * If your neighbor's potentiometer still gives you funky values, try your neighbor's ADC. If that one works, yours is likely broken."
   ]
  },
  {
   "cell_type": "markdown",
   "metadata": {
    "slideshow": {
     "slide_type": "slide"
    }
   },
   "source": [
    "<img src=\"https://www.dropbox.com/s/wj23ce93pa9j8pe/demo.png?raw=1\" width=\"10%\" align=\"left\">\n",
    "\n",
    "# Exercise\n",
    "\n",
    "Setup a circuit with a potentiometer and a blinking LED. Program the LED to blink faster/slower proportionally with the position of the potentiometer knob."
   ]
  }
 ],
 "metadata": {
  "celltoolbar": "Slideshow",
  "hide_input": false,
  "kernelspec": {
   "display_name": "Python 3",
   "language": "python",
   "name": "python3"
  },
  "language_info": {
   "codemirror_mode": {
    "name": "ipython",
    "version": 3
   },
   "file_extension": ".py",
   "mimetype": "text/x-python",
   "name": "python",
   "nbconvert_exporter": "python",
   "pygments_lexer": "ipython3",
   "version": "3.8.5"
  },
  "varInspector": {
   "cols": {
    "lenName": 16,
    "lenType": 16,
    "lenVar": 40
   },
   "kernels_config": {
    "python": {
     "delete_cmd_postfix": "",
     "delete_cmd_prefix": "del ",
     "library": "var_list.py",
     "varRefreshCmd": "print(var_dic_list())"
    },
    "r": {
     "delete_cmd_postfix": ") ",
     "delete_cmd_prefix": "rm(",
     "library": "var_list.r",
     "varRefreshCmd": "cat(var_dic_list()) "
    }
   },
   "types_to_exclude": [
    "module",
    "function",
    "builtin_function_or_method",
    "instance",
    "_Feature"
   ],
   "window_display": false
  }
 },
 "nbformat": 4,
 "nbformat_minor": 4
}
