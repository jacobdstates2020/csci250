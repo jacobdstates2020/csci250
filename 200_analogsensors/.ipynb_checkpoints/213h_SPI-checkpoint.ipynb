{
 "cells": [
  {
   "cell_type": "markdown",
   "metadata": {
    "slideshow": {
     "slide_type": "slide"
    }
   },
   "source": [
    "<img src=\"https://www.mines.edu/webcentral/wp-content/uploads/sites/267/2019/02/horizontallightbackground.jpg\" width=\"100%\"> \n",
    "### CSCI250 Python Computing: Building a Sensor System\n",
    "<hr style=\"height:5px\" width=\"100%\" align=\"left\">\n",
    "\n",
    "# Serial Peripheral Interface"
   ]
  },
  {
   "cell_type": "markdown",
   "metadata": {
    "slideshow": {
     "slide_type": "slide"
    }
   },
   "source": [
    "# Introduction\n",
    "\n",
    "This notebook covers the basic principles of the **Serial Peripheral Interface** and how to use it on the RPi. The only SPI device that we will use in this class is the ADC, so this notebook uses it as an example; the process for using other SPI devices would be similar."
   ]
  },
  {
   "cell_type": "markdown",
   "metadata": {
    "slideshow": {
     "slide_type": "slide"
    }
   },
   "source": [
    "# SPI interface\n",
    "\n",
    "The ADC communicates with the RPi over the [Serial Peripheral Interface (SPI)](https://en.wikipedia.org/wiki/Serial_Peripheral_Interface). Check that the SPI interface is enabled on the RPi: go to the RPi Configuration from Preferences, then on the Interfaces tab for SPI click enable, then OK (this should already be on from setup day).\n",
    "\n",
    "The basic premise of SPI is as follows: \n",
    "* There is 1 master device (in our case, the RPi), and there can be many servant devices that are controlled by the master (in this case, just the ADC). \n",
    "* All of the devices are synced together by the clock pin of the master device, denoted by **SCK**; this clock signal is simply a repeating square wave. \n",
    "* Because there can be many servant devices, the master has to choose which one it's communicating with via the chip select pin, usually denoted by **CS** (or **CE** for chip enable). \n",
    "* The master can then send data to the servant device through the pin denoted **MOSI** (master out servant in); only the servant that has been selected will read the data, the rest ignore it. \n",
    "* The servant can then send its data to the master through the pin denoted **MISO** (master in servant out). \n",
    "* The data sent across these wires is synced up with the clock, where a high voltage on the data line indicates a 1 bit, and a low voltage indicates a 0 bit. \n",
    "\n",
    "There are many nuances with this protocol which are beyond the scope of this class. The information provided here is more than enough to use the ADC."
   ]
  },
  {
   "cell_type": "markdown",
   "metadata": {
    "slideshow": {
     "slide_type": "slide"
    }
   },
   "source": [
    "<img src=\"http://blog.digilentinc.com/wp-content/uploads/2014/09/SPI-signals.png\" width=\"100%\">"
   ]
  },
  {
   "cell_type": "markdown",
   "metadata": {
    "slideshow": {
     "slide_type": "slide"
    }
   },
   "source": [
    "This communication protocol may sound complicated, but it is a well-established standard, meaning others have already written libraries to use it. The library we will use is called `spidev` and gives us a generic code to communicate with any device over SPI. This is the part where the [datasheet](http://ww1.microchip.com/downloads/en/DeviceDoc/21294C.pdf) is useful, because we will need to reference specific information from it in order to communicate with the ADC. This notebook explains how to read the datasheet."
   ]
  },
  {
   "cell_type": "markdown",
   "metadata": {
    "slideshow": {
     "slide_type": "-"
    }
   },
   "source": [
    "The first step is to import the spidev library with \n",
    "\n",
    "`import spidev`. \n",
    "\n",
    "Once we've done that, we can create a new instance of the `spidev` object by typing \n",
    "\n",
    "`spi = spidev.SpiDev()`\n",
    "\n",
    "We will learn about objects later in this class. "
   ]
  },
  {
   "cell_type": "markdown",
   "metadata": {
    "slideshow": {
     "slide_type": "-"
    }
   },
   "source": [
    "Then we need to open up communication with the ADC with \n",
    "\n",
    "`spi.open(bus, device)`\n",
    "\n",
    "where the parameters are both integers:\n",
    "* the RPi has only 1 **bus** that supports SPI (the pins we used in the hardware section) meaning it must be 0\n",
    "* **device** indicates the chip enable pin on the RPi so it can be either 0 or 1."
   ]
  },
  {
   "cell_type": "markdown",
   "metadata": {
    "slideshow": {
     "slide_type": "slide"
    }
   },
   "source": [
    "Finally we need to specify the clock speed described in the SPI section. If you look in the datasheet in the Electrical Characteristics section (sec. 1), you'll first notice that there's a lot of information! All of these can be useful to know depending on what you're doing, but in our case we just need to find the subsection called \"Timing Parameters\" (page 3). The first parameter in this subsection is \"Clock Frequency\" and you'll notice that a maximum of 1.2MHz is specified for 2.7V and 3.2MHz for 5V. Because we're using 3.3V, the max frequency is probably around 1.7MHz, but we can't be certain. You'll also notice that no minimum is specified, but it directs you to Note 2 which says the sample capacitor will start losing charge when the frequency is below 10kHz, so we'll use this as our minimum. \n",
    "\n",
    "It's best to stay away from the extreme ends, so we can safely use $100kHz$, which is plenty fast for most uses. The code to set this is \n",
    "\n",
    "`spi.max_speed_hz = int(1e5)` \n",
    "\n",
    "where 1e5 indicates the frequency in Hz."
   ]
  },
  {
   "cell_type": "code",
   "execution_count": null,
   "metadata": {
    "slideshow": {
     "slide_type": "slide"
    }
   },
   "outputs": [],
   "source": [
    "# import the spidev library to communicate with the SPI protocol\n",
    "import spidev\n",
    "\n",
    "# Create a new spidev object. \n",
    "spi = spidev.SpiDev()\n",
    "\n",
    "# Open up communication on \n",
    "# bus 0 (the only one on the RPi) and \n",
    "# device 0 (assuming CE0 pin on wedge, use 1 for CE1 pin)\n",
    "spi.open(0,0)\n",
    "\n",
    "# Datasheet recommends between ~10kHz and ~1MHz, so we'll use 100kHz\n",
    "# It's easier to use scientific notation rather than counting zeroes\n",
    "spi.max_speed_hz = int(1e5) \n",
    "\n",
    "print(\"Done!\")"
   ]
  },
  {
   "cell_type": "markdown",
   "metadata": {
    "slideshow": {
     "slide_type": "slide"
    }
   },
   "source": [
    "Now that we have communication setup, we get to jump into more technical details! In the datasheet, section 5 is titled \"Serial Communications\" (page 13). You'll notice here a table that explains configuration bits that can be sent to the ADC, which will modify the data it sends back. The first bit is denoted \"SGL/DIFF\" which allows us to choose to measure the voltage of the channel relative to ground (single ended - SGL) or relative to the other channel (differential - DIFF). In this class we only care about using the SGL mode, which requires this bit to be set to 1. The second bit is denoted \"ODD/SIGN\" and has separate functions for the SGL and DIFF modes. In SGL mode, this bit determines the channel for the ADC to measure. In DIFF mode, this bit determines the polarity of the measurement between the channels (ie. CH1-CH2 or CH2-CH1). The last configuration bit is denoted MSBF and tells the ADC what order in which to send the bits to the RPi: MSB (most significant bit first, and what you will almost always use) or LSB (least significant bit first, basically just MSB flipped around). You will only need to worry about using MSB format in this class (and probably the rest of your life), so we set this bit to 1."
   ]
  },
  {
   "cell_type": "markdown",
   "metadata": {
    "slideshow": {
     "slide_type": "slide"
    }
   },
   "source": [
    "<img src=\"https://www.dropbox.com/s/3qswkmayn618ecu/mcp3002_config_bits.PNG?raw=1\" width=\"50%\" align=\"center\">"
   ]
  },
  {
   "cell_type": "markdown",
   "metadata": {
    "slideshow": {
     "slide_type": "slide"
    }
   },
   "source": [
    "There is another bit sent before any of the configuration bits called the start bit, which is just a 1 that makes the ADC start listening to what we have to say. All of this means that the final bits we will send to the ADC are: `0b1101` to read channel 0, and `0b1111` to read channel 1. Notice how the binary numbers have a prefix of `0b` to indicate they are binary numbers and not \"one thousand one hundred...\" In order to create these binary numbers in python, there are a few options, but we can use the same `0b` prefix to write our binary numbers without converting them to decimal integers."
   ]
  },
  {
   "cell_type": "markdown",
   "metadata": {
    "slideshow": {
     "slide_type": "slide"
    }
   },
   "source": [
    "Next we'll want to look at section 6 of the datasheet called \"Application Information\" (page 15) as this explains to us what happens when bits are sent between the ADC and RPi. Look at Figure 6-1, specifically where it shows the bits between Din and Dout. You'll notice that just after the RPi finishes sending the configuration bits, the ADC first sends back a \"null\" bit (has a value of 0) followed by 10 bits representing the analog voltage it has measured (it's a 10 bit ADC after all). The text in section 6.1 talks about how most microcontrollers (like the RPi) are required to send sets of 8 bits, or 1 byte. To make our lives easy, we can delay the transmission of the start on configuration bits in order to cause the last bit of the data from the ADC to be the last bit of a byte. In this case, there is 1 start bit and 3 configuration bits, followed by a null bit and 10 data bits from the ADC, making a total of 15 bits. 2 bytes is 16 bits, so we can stick an extra 0 bit in front of the start bit to make everything line up nicely, as shown in Figure 6-1 of the datasheet. This means the first byte we need to send is `0b01101000` for channel 0, or `0b01111000` for channel 1.\n",
    "\n",
    "<img src=\"https://www.dropbox.com/s/6t9obficvxsewgv/mcp3002_timing.PNG?raw=1\" width=\"90%\" align=\"center\">"
   ]
  },
  {
   "cell_type": "markdown",
   "metadata": {
    "slideshow": {
     "slide_type": "slide"
    }
   },
   "source": [
    "One more note on the bits we send: the function that we use from the spidev library to communicate with the ADC is written as \n",
    "\n",
    "`spi.xfer2(data)` \n",
    "\n",
    "where the parameter is an array of bytes (in this case, the configuration bits). Yes, there is a \"xfer1\" function (actually just called `xfer()`), but it has different behavior that we don't want. Both xfer functions will stop communication when we stop sending bits, meaning if we only send 8 bits, the ADC will only send back the first 2 bits of its data. In order to continue communication, we need to send another 8 bits, which will be ignored by the ADC but keep communication going. Because the function requires an array of bytes, the first byte will be what we described before, and the second byte can just be 0.\n",
    "\n",
    "The function will also return an array of bytes with the same number of bytes that we sent, so we need to store this somewhere by writing \n",
    "\n",
    "`returnedBytes = spi.xfer2(config)`. "
   ]
  },
  {
   "cell_type": "markdown",
   "metadata": {
    "slideshow": {
     "slide_type": "slide"
    }
   },
   "source": [
    "Eventually we want to convert this into a single number, so we basically need to stick these bytes together. We can do this by making use of some [bitwise operators](https://wiki.python.org/moin/BitwiseOperators), specifically the shift operator. For example, `0b01010101 << 1` will shift all of the bits left by 1 and result in `0b10101010`. Similarly `0b01010101 >> 1` will shift all of the bits right by 1 and result in `0b00101010`; note how the rightmost bit went beyond the boundary and the number became truncated (rightmost bit is ignored and dropped). In our case, because the data is stored in an array of 2 bytes, we can shift the bits of the first byte left by 8 bits, then combine it with the second byte. Note that we could do this by adding them together, or we can use the bitwise OR operator `|`. Either is acceptable, but the code uses the OR operator to expose you to more bitwise operators. Because the data from the ADC is 10 bits in length, we will have $2^{10}=1024$ possible values; because the first value is 0, the final number will be somewhere between 0 and 1023."
   ]
  },
  {
   "cell_type": "markdown",
   "metadata": {
    "slideshow": {
     "slide_type": "slide"
    }
   },
   "source": [
    "# Testing\n",
    "Connect a device to one of the measurement channels of the ADC such as a [potentiometer](h_Potentiometer.ipynb), run the code in the cell below, and it should print out a number between 0 and 1023."
   ]
  },
  {
   "cell_type": "code",
   "execution_count": null,
   "metadata": {},
   "outputs": [],
   "source": [
    "# Configuration bits for the ADC. Need 2 bytes for full transfer window to complete\n",
    "config = [0b01101000, 0] # Uncomment for channel 0\n",
    "#config = [0b01111000, 0] # Uncomment for channel 1\n",
    "\n",
    "# Send config to ADC, and store returned data in variable (array with 2 bytes)\n",
    "returnedBytes = spi.xfer2(config)\n",
    "\n",
    "# Convert byte array into single number by shifting bits of first byte left by 8, and adding onto bits of second byte\n",
    "data = (returnedBytes[0] << 8) | returnedBytes[1]\n",
    "\n",
    "# Print it!\n",
    "print(data)"
   ]
  },
  {
   "cell_type": "markdown",
   "metadata": {
    "slideshow": {
     "slide_type": "slide"
    }
   },
   "source": [
    "If it prints out exactly 0, it's possible that you're not actually communicating with the ADC and just getting no data. If this is the case, make sure to connect something that's producing more than 0V on the ADC measurement channel and double check your wiring.\n",
    "\n",
    "Hopefully you're getting good data from the ADC. If you leave the measurement channel floating, you'll notice that the value returned tends to be seemingly random numbers, and can change just by moving your hand near the ADC (try it if you haven't yet). This is why we never like to have floating pins, and often make use of pull-up/pull-down resistors if something is floating.\n",
    "\n",
    "You may have also noticed that 0 represents 0V, and 1023 represents 3.3V. If you wanted to convert the raw data into a voltage, you would just need to multiply the data value by $\\dfrac{3.3}{1023}$ by typing \n",
    "\n",
    "`voltage = data * 3.3 / 1023`."
   ]
  },
  {
   "cell_type": "markdown",
   "metadata": {
    "slideshow": {
     "slide_type": "slide"
    }
   },
   "source": [
    "Last thing: before you finish up with your code, you should close communication with the ADC with `spi.close()`. This will cleanup anything left to be cleaned up and make sure everything is finished before your code ends."
   ]
  },
  {
   "cell_type": "code",
   "execution_count": null,
   "metadata": {},
   "outputs": [],
   "source": [
    "# End communication with the ADC\n",
    "spi.close()\n",
    "\n",
    "print(\"Done!\")"
   ]
  },
  {
   "cell_type": "markdown",
   "metadata": {
    "slideshow": {
     "slide_type": "slide"
    }
   },
   "source": [
    "We are going to be using the ADC a lot in this class, and it would be rather cumbersome to rewrite the above code every time, so you should make use of a function! As the function is a little complicated, we've create one for you, which is included in the module `spiUtils.py`. This means everyone will have working code to measure voltages from the ADC, but you're welcome to try creating your own version that implements the other configuration features of the ADC."
   ]
  },
  {
   "cell_type": "code",
   "execution_count": null,
   "metadata": {},
   "outputs": [],
   "source": [
    "import spidev\n",
    "\n",
    "# Don't modify this function!\n",
    "# If you want to use a different function, include it with your submission!\n",
    "def readADC(channel=0):\n",
    "    spi = spidev.SpiDev()       # Create a new spidev object\n",
    "    spi.open(0,0)               # Open communication on bus 0 and CE0\n",
    "    spi.max_speed_hz = int(1e5) # Set clock speed to 100 kHz\n",
    "  \n",
    "    if(channel==0): config = [0b01101000, 0] # Measure from channel 0\n",
    "    else:           config = [0b01111000, 0] # Measure from channel 1\n",
    "\n",
    "    myBytes = spi.xfer2(config)             # Send and get array of 2 bytes from ADC\n",
    "    myData = (myBytes[0] << 8) | myBytes[1] # Convert returned bytes to integer value\n",
    "    \n",
    "    spi.close()   # Stop communication with ADC\n",
    "\n",
    "    return myData # Return measurement (integer from 0 to 1023)"
   ]
  }
 ],
 "metadata": {
  "celltoolbar": "Slideshow",
  "kernelspec": {
   "display_name": "Python 3",
   "language": "python",
   "name": "python3"
  },
  "language_info": {
   "codemirror_mode": {
    "name": "ipython",
    "version": 3
   },
   "file_extension": ".py",
   "mimetype": "text/x-python",
   "name": "python",
   "nbconvert_exporter": "python",
   "pygments_lexer": "ipython3",
   "version": "3.8.3"
  },
  "varInspector": {
   "cols": {
    "lenName": 16,
    "lenType": 16,
    "lenVar": 40
   },
   "kernels_config": {
    "python": {
     "delete_cmd_postfix": "",
     "delete_cmd_prefix": "del ",
     "library": "var_list.py",
     "varRefreshCmd": "print(var_dic_list())"
    },
    "r": {
     "delete_cmd_postfix": ") ",
     "delete_cmd_prefix": "rm(",
     "library": "var_list.r",
     "varRefreshCmd": "cat(var_dic_list()) "
    }
   },
   "types_to_exclude": [
    "module",
    "function",
    "builtin_function_or_method",
    "instance",
    "_Feature"
   ],
   "window_display": false
  }
 },
 "nbformat": 4,
 "nbformat_minor": 2
}
