{
 "cells": [
  {
   "cell_type": "markdown",
   "metadata": {
    "slideshow": {
     "slide_type": "slide"
    }
   },
   "source": [
    "<img src=\"https://www.mines.edu/webcentral/wp-content/uploads/sites/267/2019/02/horizontallightbackground.jpg\" width=\"100%\"> \n",
    "### CSCI250 Python Computing: Building a Sensor System\n",
    "<hr style=\"height:5px\" width=\"100%\" align=\"left\">\n",
    "\n",
    "# `numpy`: random numbers"
   ]
  },
  {
   "cell_type": "markdown",
   "metadata": {
    "heading_collapsed": true,
    "slideshow": {
     "slide_type": "slide"
    }
   },
   "source": [
    "# Objectives\n",
    "* introduce random number operations in `numpy`\n",
    "* build and plot 1D and 2D distributions\n",
    "* find central and dispersion distribution attributes"
   ]
  },
  {
   "cell_type": "markdown",
   "metadata": {
    "slideshow": {
     "slide_type": "slide"
    }
   },
   "source": [
    "# Resources\n",
    "* [numpy.org](http://www.numpy.org)\n",
    "* [`numpy` user guide](https://docs.scipy.org/doc/numpy/user)\n",
    "* [`numpy` reference](https://docs.scipy.org/doc/numpy/reference)"
   ]
  },
  {
   "cell_type": "markdown",
   "metadata": {
    "slideshow": {
     "slide_type": "slide"
    }
   },
   "source": [
    "Import the `random` module from `numpy` with alias `rng`."
   ]
  },
  {
   "cell_type": "code",
   "execution_count": null,
   "metadata": {
    "slideshow": {
     "slide_type": "-"
    }
   },
   "outputs": [],
   "source": [
    "import numpy.random as rng"
   ]
  },
  {
   "cell_type": "code",
   "execution_count": null,
   "metadata": {},
   "outputs": [],
   "source": [
    "rng."
   ]
  },
  {
   "cell_type": "code",
   "execution_count": null,
   "metadata": {
    "slideshow": {
     "slide_type": "-"
    }
   },
   "outputs": [],
   "source": [
    "import numpy as np\n",
    "import matplotlib.pyplot as plt\n",
    "\n",
    "n = 10000  # random numbers count"
   ]
  },
  {
   "cell_type": "markdown",
   "metadata": {
    "slideshow": {
     "slide_type": "slide"
    }
   },
   "source": [
    "# `rng.random()`\n",
    "Return random floats in the half-open interval [0.0, 1.0)."
   ]
  },
  {
   "cell_type": "code",
   "execution_count": null,
   "metadata": {
    "scrolled": false
   },
   "outputs": [],
   "source": [
    "a = rng.random(n)\n",
    "\n",
    "print(a)"
   ]
  },
  {
   "cell_type": "code",
   "execution_count": null,
   "metadata": {},
   "outputs": [],
   "source": [
    "rng.random?"
   ]
  },
  {
   "cell_type": "markdown",
   "metadata": {
    "slideshow": {
     "slide_type": "slide"
    }
   },
   "source": [
    "# `rng.uniform()`\n",
    "Returns samples from a [uniform distribution](https://en.wikipedia.org/wiki/Uniform_distribution_(continuous))."
   ]
  },
  {
   "cell_type": "code",
   "execution_count": null,
   "metadata": {},
   "outputs": [],
   "source": [
    "vMIN = 1.0\n",
    "vMAX = 3.0\n",
    "a = rng.uniform( vMIN, vMAX, n)\n",
    "\n",
    "print(a)"
   ]
  },
  {
   "cell_type": "markdown",
   "metadata": {
    "slideshow": {
     "slide_type": "slide"
    }
   },
   "source": [
    "# `plt.hist()`\n",
    "Plot a histogram, i.e. a distribution of samples in equal bins."
   ]
  },
  {
   "cell_type": "code",
   "execution_count": null,
   "metadata": {
    "scrolled": true
   },
   "outputs": [],
   "source": [
    "vMIN = 1.0\n",
    "vMAX = 3.0\n",
    "a = rng.uniform( vMIN, vMAX, n)\n",
    "\n",
    "plt.figure(figsize=(15,3) )\n",
    "plt.hist(a, bins=50)             # histogram, not PDF\n",
    "plt.axis([0,4,0,1000]);"
   ]
  },
  {
   "cell_type": "markdown",
   "metadata": {
    "slideshow": {
     "slide_type": "slide"
    }
   },
   "source": [
    "# `rng.normal()`\n",
    "Returns samples from a [normal (Gaussian) distribution](https://en.wikipedia.org/wiki/Normal_distribution)."
   ]
  },
  {
   "cell_type": "code",
   "execution_count": null,
   "metadata": {
    "scrolled": false
   },
   "outputs": [],
   "source": [
    "vCNT = 2.00\n",
    "vSTD = 0.50\n",
    "b = rng.normal( vCNT, vSTD, n)\n",
    "\n",
    "plt.figure(figsize=(15,3) )\n",
    "plt.hist(b, bins=50)             # histogram, not PDF\n",
    "plt.axis([0,4,0,1000]);"
   ]
  },
  {
   "cell_type": "markdown",
   "metadata": {
    "slideshow": {
     "slide_type": "slide"
    }
   },
   "source": [
    "# `np.mean()`\n",
    "\n",
    "Calculates the mean of a distribution, a measure of its **center**."
   ]
  },
  {
   "cell_type": "code",
   "execution_count": null,
   "metadata": {},
   "outputs": [],
   "source": [
    "print( format(np.mean(a),'.3f') )\n",
    "print( format(np.mean(b),'.3f') )"
   ]
  },
  {
   "cell_type": "markdown",
   "metadata": {
    "slideshow": {
     "slide_type": "slide"
    }
   },
   "source": [
    "# `np.std()`\n",
    "\n",
    "Calculates the standard deviation of an array, a measure of its **spread**."
   ]
  },
  {
   "cell_type": "code",
   "execution_count": null,
   "metadata": {
    "scrolled": false
   },
   "outputs": [],
   "source": [
    "print( format(np.std(a),'.3f') )\n",
    "print( format(np.std(b),'.3f') )"
   ]
  },
  {
   "cell_type": "markdown",
   "metadata": {
    "slideshow": {
     "slide_type": "slide"
    }
   },
   "source": [
    "# `rng.seed()`\n",
    "Seed the random number generator - ensures identical repeat samples."
   ]
  },
  {
   "cell_type": "code",
   "execution_count": null,
   "metadata": {
    "scrolled": false
   },
   "outputs": [],
   "source": [
    "rng.seed(2020)\n",
    "\n",
    "b1 = rng.normal(1.0,0.25,n)\n",
    "print(b1)\n",
    "\n",
    "b2 = rng.normal(1.0,0.25,n)\n",
    "print(b2)"
   ]
  },
  {
   "cell_type": "markdown",
   "metadata": {
    "slideshow": {
     "slide_type": "slide"
    }
   },
   "source": [
    "Overlay distributions with different plotting attributes."
   ]
  },
  {
   "cell_type": "code",
   "execution_count": null,
   "metadata": {},
   "outputs": [],
   "source": [
    "kwargs = dict(histtype = 'stepfilled', \n",
    "              alpha = 0.5,              # transparency\n",
    "              density = True,           # plot PDF, not histogram\n",
    "              bins = 40,\n",
    "              edgecolor = 'k')\n",
    "\n",
    "plt.figure(figsize=(15,5) )\n",
    "plt.hist(b1, **kwargs);                 # dictionary unpacking\n",
    "plt.hist(b2, **kwargs); "
   ]
  },
  {
   "cell_type": "markdown",
   "metadata": {
    "slideshow": {
     "slide_type": "slide"
    }
   },
   "source": [
    "# `rnd.choice()`\n",
    "\n",
    "Generates a specified number of random samples from a 1D array."
   ]
  },
  {
   "cell_type": "code",
   "execution_count": null,
   "metadata": {
    "scrolled": true
   },
   "outputs": [],
   "source": [
    "nSamp = 3\n",
    "\n",
    "rng.choice(b, nSamp)"
   ]
  },
  {
   "cell_type": "markdown",
   "metadata": {
    "slideshow": {
     "slide_type": "slide"
    }
   },
   "source": [
    "<img src=\"http://www.dropbox.com/s/fcucolyuzdjl80k/todo.jpg?raw=1\" width=\"10%\" align=\"right\">\n",
    "\n",
    "Explore additional functions from the `random` module.\n",
    "* Add comments explaining their purpose. \n",
    "* Include examples demonstrating their usage."
   ]
  },
  {
   "cell_type": "markdown",
   "metadata": {
    "slideshow": {
     "slide_type": "slide"
    }
   },
   "source": [
    "<img src=\"https://www.dropbox.com/s/7vd3ezqkyhdxmap/demo.png?raw=1\" width=\"10%\" align=\"left\">\n",
    "\n",
    "# Demo\n",
    "\n",
    "Plot the trajectories of two particles executing **random walk** steps.\n",
    "\n",
    "* Use uniform and normal distributions, respectively.\n",
    "* Use identical standard deviations for both distributions."
   ]
  },
  {
   "cell_type": "code",
   "execution_count": null,
   "metadata": {
    "slideshow": {
     "slide_type": "slide"
    }
   },
   "outputs": [],
   "source": [
    "import time\n",
    "rng.seed( 2020 )\n",
    "\n",
    "# number of random walk steps\n",
    "n = 10000\n",
    "\n",
    "# stadard deviation\n",
    "sig = 0.5\n",
    "cen = 0.0"
   ]
  },
  {
   "cell_type": "markdown",
   "metadata": {
    "slideshow": {
     "slide_type": "slide"
    }
   },
   "source": [
    "Generate random steps from a **uniform distribution**.\n",
    "\n",
    "$$f(x) = \\dfrac{1}{2\\sqrt{3}\\sigma} \\sqcap\\left( \\dfrac{x-\\bar{x}}{2\\sqrt{3}\\sigma} \\right)$$"
   ]
  },
  {
   "cell_type": "code",
   "execution_count": null,
   "metadata": {
    "slideshow": {
     "slide_type": "slide"
    }
   },
   "outputs": [],
   "source": [
    "a = 2*np.sqrt(3)*sig\n",
    "\n",
    "xu = cen + rng.uniform(-a/2,+a/2,n)\n",
    "yu = cen + rng.uniform(-a/2,+a/2,n)\n",
    "\n",
    "print( format(xu.std(),'.3f') )\n",
    "print( format(yu.std(),'.3f') )"
   ]
  },
  {
   "cell_type": "code",
   "execution_count": null,
   "metadata": {
    "scrolled": true,
    "slideshow": {
     "slide_type": "-"
    }
   },
   "outputs": [],
   "source": [
    "plt.figure(figsize=(12,4) )\n",
    "plt.hist(xu, **kwargs);\n",
    "plt.hist(yu, **kwargs);\n",
    "plt.axis([-2, +2, 0, 1]);"
   ]
  },
  {
   "cell_type": "markdown",
   "metadata": {
    "slideshow": {
     "slide_type": "slide"
    }
   },
   "source": [
    "Generate random steps from a **normal distribution**.\n",
    "\n",
    "$$g(x) = \\dfrac{1}{\\sqrt{2\\pi}\\sigma} e^{-\\dfrac{1}{2} \\left( \\dfrac{x-\\bar{x}}{\\sigma} \\right)^2} $$"
   ]
  },
  {
   "cell_type": "code",
   "execution_count": null,
   "metadata": {
    "slideshow": {
     "slide_type": "slide"
    }
   },
   "outputs": [],
   "source": [
    "xn = rng.normal(cen,sig,n)\n",
    "yn = rng.normal(cen,sig,n)\n",
    "\n",
    "print( format(xu.std(),'.3f') )\n",
    "print( format(yu.std(),'.3f') )"
   ]
  },
  {
   "cell_type": "code",
   "execution_count": null,
   "metadata": {
    "scrolled": true,
    "slideshow": {
     "slide_type": "-"
    }
   },
   "outputs": [],
   "source": [
    "plt.figure(figsize=(12,4) )\n",
    "plt.hist(xn, **kwargs);\n",
    "plt.hist(yn, **kwargs);\n",
    "plt.axis([-2, +2, 0, 1]);"
   ]
  },
  {
   "cell_type": "markdown",
   "metadata": {
    "slideshow": {
     "slide_type": "slide"
    }
   },
   "source": [
    "Define random walk **position** by accumulating the individual **steps**."
   ]
  },
  {
   "cell_type": "code",
   "execution_count": null,
   "metadata": {},
   "outputs": [],
   "source": [
    "# uniform distribution\n",
    "xuc = xu.cumsum()\n",
    "yuc = yu.cumsum()\n",
    "\n",
    "# normal distribution\n",
    "xnc = xn.cumsum()\n",
    "ync = yn.cumsum()"
   ]
  },
  {
   "cell_type": "markdown",
   "metadata": {
    "slideshow": {
     "slide_type": "slide"
    }
   },
   "source": [
    "Define **random walk** plot space (min and max in $x$ and $y$)."
   ]
  },
  {
   "cell_type": "code",
   "execution_count": null,
   "metadata": {},
   "outputs": [],
   "source": [
    "Dmin = np.min( [xuc.min(), yuc.min(), xnc.min(), ync.min()] )\n",
    "Dmax = np.max( [xuc.max(), yuc.max(), xnc.max(), ync.max()] )\n",
    "\n",
    "D = 1.1 * np.max([Dmax,np.abs(Dmin)])"
   ]
  },
  {
   "cell_type": "code",
   "execution_count": null,
   "metadata": {
    "slideshow": {
     "slide_type": "slide"
    }
   },
   "outputs": [],
   "source": [
    "plt.figure(figsize=(5.5,5.5))\n",
    "plt.axis([-D, +D, -D, +D]);\n",
    "plt.grid(True)\n",
    "\n",
    "# plot random walk - use vectorized calculations\n",
    "plt.plot( xuc, yuc, 'b');\n",
    "plt.plot( xnc, ync, 'r');\n",
    "plt.legend(['uniform','normal']);"
   ]
  },
  {
   "cell_type": "markdown",
   "metadata": {
    "slideshow": {
     "slide_type": "slide"
    }
   },
   "source": [
    "# `plt.hist2d()`\n",
    "Make a 2D histogram plot."
   ]
  },
  {
   "cell_type": "markdown",
   "metadata": {
    "slideshow": {
     "slide_type": "slide"
    }
   },
   "source": [
    "Generate histogram of uniform distribution random walk:"
   ]
  },
  {
   "cell_type": "code",
   "execution_count": null,
   "metadata": {
    "scrolled": false
   },
   "outputs": [],
   "source": [
    "plt.figure(figsize=(6.5,5.5));\n",
    "\n",
    "plt.hist2d(xuc,yuc, bins=25, range=[ [-D,+D], [-D,+D] ], cmap='Blues')\n",
    "\n",
    "cb = plt.colorbar(label=\"counts to bin\")"
   ]
  },
  {
   "cell_type": "markdown",
   "metadata": {
    "slideshow": {
     "slide_type": "slide"
    }
   },
   "source": [
    "Generate histogram of normal distribution random walk:"
   ]
  },
  {
   "cell_type": "code",
   "execution_count": null,
   "metadata": {},
   "outputs": [],
   "source": [
    "plt.figure(figsize=(6.5,5.5));\n",
    "\n",
    "plt.hist2d(xnc,ync, bins=25, range=[ [-D,+D], [-D,+D] ], cmap='Reds')\n",
    "\n",
    "cb = plt.colorbar(label=\"counts to bin\")"
   ]
  },
  {
   "cell_type": "markdown",
   "metadata": {
    "slideshow": {
     "slide_type": "slide"
    }
   },
   "source": [
    "# `plt.hexbin()`\n",
    "Make a hexagonal binning plot."
   ]
  },
  {
   "cell_type": "code",
   "execution_count": null,
   "metadata": {
    "scrolled": true
   },
   "outputs": [],
   "source": [
    "plt.figure(figsize=(12,5.5))\n",
    "\n",
    "plt.subplot(1,2,1)\n",
    "plt.hist2d(xuc, yuc,     bins=20, cmap='Blues')\n",
    "plt.axis([np.min(xuc),np.max(xuc),np.min(yuc),np.max(yuc)])\n",
    "\n",
    "plt.subplot(1,2,2)\n",
    "plt.hexbin(xuc, yuc, gridsize=20, cmap='Blues')\n",
    "plt.axis([np.min(xuc),np.max(xuc),np.min(yuc),np.max(yuc)]);"
   ]
  },
  {
   "cell_type": "markdown",
   "metadata": {
    "slideshow": {
     "slide_type": "slide"
    }
   },
   "source": [
    "<img src=\"https://www.dropbox.com/s/7vd3ezqkyhdxmap/demo.png?raw=1\" width=\"10%\" align=\"left\">\n",
    "\n",
    "# Demo\n",
    "\n",
    "Use random numbers to estimate the value of the number $\\pi$. \n",
    "\n",
    "Use vectorized operations whenever possible."
   ]
  },
  {
   "cell_type": "markdown",
   "metadata": {
    "slideshow": {
     "slide_type": "slide"
    }
   },
   "source": [
    "## Algorithm\n",
    "\n",
    "Imagine that you throw darts at a square board.\n",
    "\n",
    "You estimate how many darts land\n",
    "* inside a circle of radius $r$\n",
    "* inside a square of side 2$r$.\n",
    "\n",
    "Assume that we are using a uniform distribution."
   ]
  },
  {
   "cell_type": "markdown",
   "metadata": {
    "slideshow": {
     "slide_type": "slide"
    }
   },
   "source": [
    "For a large number of darts, the numbers that fall in different regions of the board are proportional with their respective areas. \n",
    "* The number of darts in the circle is proportional with its area\n",
    "$$A_c = \\pi R^2.$$\n",
    "* The number of darts in the square is proportional with its area\n",
    "$$A_b = 4 R^2.$$\n",
    "\n",
    "Thus, we can compute the number $\\pi$ as\n",
    "$$\\pi = 4\\dfrac{A_c}{A_b}.$$\n",
    "\n",
    "How many darts do you need to use to get a reasonable estimate of $\\pi$? "
   ]
  },
  {
   "cell_type": "markdown",
   "metadata": {
    "slideshow": {
     "slide_type": "slide"
    }
   },
   "source": [
    "Begin by choosing the number of darts and the radius:"
   ]
  },
  {
   "cell_type": "code",
   "execution_count": null,
   "metadata": {},
   "outputs": [],
   "source": [
    "nDARTS = 1000\n",
    "\n",
    "R = 1.0"
   ]
  },
  {
   "cell_type": "markdown",
   "metadata": {
    "slideshow": {
     "slide_type": "-"
    }
   },
   "source": [
    "Define the dart coordinates in a rectangular space between [-1,+1]:"
   ]
  },
  {
   "cell_type": "code",
   "execution_count": null,
   "metadata": {},
   "outputs": [],
   "source": [
    "# generate random coordinates (random darts)\n",
    "xDART = rng.uniform( -R,+R, nDARTS)\n",
    "yDART = rng.uniform( -R,+R, nDARTS)"
   ]
  },
  {
   "cell_type": "markdown",
   "metadata": {
    "slideshow": {
     "slide_type": "slide"
    }
   },
   "source": [
    "For every dart, compute the distance from the center of the box:"
   ]
  },
  {
   "cell_type": "code",
   "execution_count": null,
   "metadata": {},
   "outputs": [],
   "source": [
    "# NB: use numpy trig ufuncs\n",
    "rDART = np.sqrt( xDART**2 + yDART**2 )"
   ]
  },
  {
   "cell_type": "markdown",
   "metadata": {
    "slideshow": {
     "slide_type": "-"
    }
   },
   "source": [
    "Select the darts that fall inside the circle of radius $R$:"
   ]
  },
  {
   "cell_type": "code",
   "execution_count": null,
   "metadata": {},
   "outputs": [],
   "source": [
    "# NB: use array masking\n",
    "xCIRC = xDART[ rDART <= R ]\n",
    "yCIRC = yDART[ rDART <= R ]"
   ]
  },
  {
   "cell_type": "markdown",
   "metadata": {
    "slideshow": {
     "slide_type": "slide"
    }
   },
   "source": [
    "Plot dots inside (red) and outside (black) the circle:"
   ]
  },
  {
   "cell_type": "code",
   "execution_count": null,
   "metadata": {
    "scrolled": true
   },
   "outputs": [],
   "source": [
    "plt.figure(figsize=(5,5))\n",
    "plt.plot(xDART, yDART, 'k.');\n",
    "plt.plot(xCIRC, yCIRC, 'r.');"
   ]
  },
  {
   "cell_type": "markdown",
   "metadata": {
    "slideshow": {
     "slide_type": "slide"
    }
   },
   "source": [
    "Compute the number $\\pi$ as the ratio of \n",
    "* darts in the circle to \n",
    "* darts in the square"
   ]
  },
  {
   "cell_type": "code",
   "execution_count": null,
   "metadata": {},
   "outputs": [],
   "source": [
    "myPi = 4.0 * len(xCIRC) / len(xDART)"
   ]
  },
  {
   "cell_type": "code",
   "execution_count": null,
   "metadata": {},
   "outputs": [],
   "source": [
    "import math\n",
    "\n",
    "print('     my pi:',myPi)\n",
    "print('   math pi:',np.pi)\n",
    "print('difference:',myPi-math.pi)"
   ]
  },
  {
   "cell_type": "markdown",
   "metadata": {
    "slideshow": {
     "slide_type": "slide"
    }
   },
   "source": [
    "What happens if you use a **normal distribution**?"
   ]
  },
  {
   "cell_type": "markdown",
   "metadata": {
    "slideshow": {
     "slide_type": "slide"
    }
   },
   "source": [
    "<img src=\"https://www.dropbox.com/s/wj23ce93pa9j8pe/demo.png?raw=1\" width=\"10%\" align=\"left\">\n",
    "\n",
    "# Exercise\n",
    "\n",
    "Compute the mean, variance and covariance of 2D uniform and normal *random walk* distributions. The distributions must be normalized such that their integrals over the entire domain of definition is equal to 1. \n",
    "\n",
    "Use vectorized calculations whenever possible. Plot the mean on top of the distribution. Ensure that the plots overlay correctly."
   ]
  },
  {
   "cell_type": "markdown",
   "metadata": {
    "slideshow": {
     "slide_type": "slide"
    }
   },
   "source": [
    "By definition, the mean of a 2D distribution $f(x,y)$ is given by:\n",
    "\n",
    "$\\begin{eqnarray}\n",
    "\\overline{x} = \\iint x f(x,y) dxdy \\\\\n",
    "\\overline{y} = \\iint y f(x,y) dxdy\n",
    "\\end{eqnarray}$\n",
    "\n",
    "Similarly, the variances of the 2D distribution are:\n",
    "\n",
    "$\\begin{eqnarray}\n",
    "\\sigma_x^2&=& \\iint ( x-\\overline{x} )^2 f(x,y) dx dy \\\\\n",
    "\\sigma_y^2&=& \\iint ( y-\\overline{y} )^2 f(x,y) dx dy\n",
    "\\end{eqnarray}$\n",
    "\n",
    "and the covariance is:\n",
    "\n",
    "$\\begin{eqnarray}\n",
    "c_{xy}=\\iint (x-\\overline{x}) (y-\\overline{y}) f(x,y) dx dy \n",
    "\\end{eqnarray}$"
   ]
  }
 ],
 "metadata": {
  "celltoolbar": "Slideshow",
  "kernelspec": {
   "display_name": "Python 3",
   "language": "python",
   "name": "python3"
  },
  "language_info": {
   "codemirror_mode": {
    "name": "ipython",
    "version": 3
   },
   "file_extension": ".py",
   "mimetype": "text/x-python",
   "name": "python",
   "nbconvert_exporter": "python",
   "pygments_lexer": "ipython3",
   "version": "3.8.3"
  },
  "varInspector": {
   "cols": {
    "lenName": 16,
    "lenType": 16,
    "lenVar": 40
   },
   "kernels_config": {
    "python": {
     "delete_cmd_postfix": "",
     "delete_cmd_prefix": "del ",
     "library": "var_list.py",
     "varRefreshCmd": "print(var_dic_list())"
    },
    "r": {
     "delete_cmd_postfix": ") ",
     "delete_cmd_prefix": "rm(",
     "library": "var_list.r",
     "varRefreshCmd": "cat(var_dic_list()) "
    }
   },
   "types_to_exclude": [
    "module",
    "function",
    "builtin_function_or_method",
    "instance",
    "_Feature"
   ],
   "window_display": false
  }
 },
 "nbformat": 4,
 "nbformat_minor": 2
}
