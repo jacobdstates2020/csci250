{
 "cells": [
  {
   "cell_type": "markdown",
   "metadata": {},
   "source": [
    "<img src=\"https://www.mines.edu/webcentral/wp-content/uploads/sites/267/2019/02/horizontallightbackground.jpg\" width=\"100%\"> \n",
    "### CSCI250 Python Computing: Building a Sensor System\n",
    "<hr style=\"height:5px\" width=\"100%\" align=\"left\">\n",
    "\n",
    "# `matplotlib`: animations"
   ]
  },
  {
   "cell_type": "markdown",
   "metadata": {
    "heading_collapsed": true,
    "slideshow": {
     "slide_type": "slide"
    }
   },
   "source": [
    "# Objective\n",
    "* generate inline and file animations using `matplotlib`"
   ]
  },
  {
   "cell_type": "markdown",
   "metadata": {
    "slideshow": {
     "slide_type": "slide"
    }
   },
   "source": [
    "# Resources\n",
    "* [Matplotlib](https://matplotlib.org) <br>\n",
    "<img src=\"https://matplotlib.org/_static/logo2.png\" width=\"50%\" align=\"left\">"
   ]
  },
  {
   "cell_type": "markdown",
   "metadata": {
    "slideshow": {
     "slide_type": "slide"
    }
   },
   "source": [
    "# Installation\n",
    "If necessary, install the `ffmpeg` package.\n",
    "\n",
    "`sudo apt-get install -y ffmpeg`\n",
    "\n",
    "Provides libraries and programs for handling video and audio files."
   ]
  },
  {
   "cell_type": "markdown",
   "metadata": {
    "slideshow": {
     "slide_type": "slide"
    }
   },
   "source": [
    "Import the `animation` package from `matplotlib` with alias `ani`."
   ]
  },
  {
   "cell_type": "code",
   "execution_count": null,
   "metadata": {
    "ExecuteTime": {
     "end_time": "2020-08-28T14:28:24.177566Z",
     "start_time": "2020-08-28T14:27:51.163602Z"
    }
   },
   "outputs": [],
   "source": [
    "import matplotlib.animation as ani\n",
    "from IPython.display import HTML"
   ]
  },
  {
   "cell_type": "code",
   "execution_count": null,
   "metadata": {
    "ExecuteTime": {
     "end_time": "2020-08-28T14:28:24.177566Z",
     "start_time": "2020-08-28T14:27:51.163602Z"
    }
   },
   "outputs": [],
   "source": [
    "import numpy                as np\n",
    "import numpy.random         as rng\n",
    "import matplotlib.pyplot    as plt"
   ]
  },
  {
   "cell_type": "markdown",
   "metadata": {
    "slideshow": {
     "slide_type": "slide"
    }
   },
   "source": [
    "# `ani.FuncAnimation()`\n",
    "\n",
    "Repeatedly calls a function that changes data associated with a figure.\n",
    "\n",
    "`ani.FuncAnimation(fig, func, frames, fargs)`\n",
    "\n",
    "* `fig`: `matplotlib` figure\n",
    "* `func`: function called to generate each frame\n",
    "* `frames`: number of frames\n",
    "* `fargs`: arguments to pass to the function `func`"
   ]
  },
  {
   "cell_type": "code",
   "execution_count": null,
   "metadata": {
    "ExecuteTime": {
     "end_time": "2020-08-28T14:28:27.133645Z",
     "start_time": "2020-08-28T14:28:27.123849Z"
    },
    "slideshow": {
     "slide_type": "slide"
    }
   },
   "outputs": [],
   "source": [
    "# make the data\n",
    "\n",
    "t = np.linspace(0, 2*np.pi, 50)\n",
    "x = np.sin(t)"
   ]
  },
  {
   "cell_type": "markdown",
   "metadata": {
    "slideshow": {
     "slide_type": "slide"
    }
   },
   "source": [
    "## step 1: make a figure"
   ]
  },
  {
   "cell_type": "code",
   "execution_count": null,
   "metadata": {
    "ExecuteTime": {
     "end_time": "2020-08-28T14:29:19.772696Z",
     "start_time": "2020-08-28T14:29:19.116182Z"
    },
    "scrolled": false
   },
   "outputs": [],
   "source": [
    "# create matplotlib figure\n",
    "sineFig, sineAx = plt.subplots(figsize=(10,4))\n",
    "\n",
    "# adjust the figure axes\n",
    "sineAx.axis([ 0,2*np.pi, -1,1 ])             \n",
    "\n",
    "# plot the data\n",
    "plt.plot(t,x);                                  "
   ]
  },
  {
   "cell_type": "markdown",
   "metadata": {
    "slideshow": {
     "slide_type": "slide"
    }
   },
   "source": [
    "## step 2: make an empty plot object\n",
    "\n",
    "Use empty coordinates - to be filled later."
   ]
  },
  {
   "cell_type": "code",
   "execution_count": null,
   "metadata": {
    "ExecuteTime": {
     "end_time": "2020-08-28T14:29:19.772696Z",
     "start_time": "2020-08-28T14:29:19.116182Z"
    },
    "slideshow": {
     "slide_type": "-"
    }
   },
   "outputs": [],
   "source": [
    "sinePoint, = sineAx.plot( [],[], 'r.', ms = 20)"
   ]
  },
  {
   "cell_type": "markdown",
   "metadata": {
    "slideshow": {
     "slide_type": "slide"
    }
   },
   "source": [
    "## step 3: define animation function\n",
    "\n",
    "Specify how to change the data associated with the plot object."
   ]
  },
  {
   "cell_type": "code",
   "execution_count": null,
   "metadata": {
    "ExecuteTime": {
     "end_time": "2020-08-28T14:29:24.781373Z",
     "start_time": "2020-08-28T14:29:19.825309Z"
    },
    "slideshow": {
     "slide_type": "-"
    }
   },
   "outputs": [],
   "source": [
    "# provide to the function:\n",
    "\n",
    "#      i - the frame index\n",
    "#    t,x - the data (what's changing)\n",
    "# aPoint - the object that is changing\n",
    "def sineAnimate(i, t,x, aPoint):\n",
    "    aPoint.set_data( t[i],x[i] )"
   ]
  },
  {
   "cell_type": "markdown",
   "metadata": {
    "slideshow": {
     "slide_type": "slide"
    }
   },
   "source": [
    "## step 4: generate the animation"
   ]
  },
  {
   "cell_type": "code",
   "execution_count": null,
   "metadata": {
    "ExecuteTime": {
     "end_time": "2020-08-28T14:29:32.307520Z",
     "start_time": "2020-08-28T14:29:24.857825Z"
    },
    "slideshow": {
     "slide_type": "-"
    }
   },
   "outputs": [],
   "source": [
    "sineMovie = ani.FuncAnimation(fig    = sineFig, \n",
    "                              func   = sineAnimate, \n",
    "                              frames = len(t),\n",
    "                              fargs  = ( t, x, sinePoint)\n",
    "                             );"
   ]
  },
  {
   "cell_type": "markdown",
   "metadata": {
    "slideshow": {
     "slide_type": "slide"
    }
   },
   "source": [
    "## step 5: display the inline animation"
   ]
  },
  {
   "cell_type": "code",
   "execution_count": null,
   "metadata": {
    "ExecuteTime": {
     "end_time": "2020-08-28T14:29:32.307520Z",
     "start_time": "2020-08-28T14:29:24.857825Z"
    },
    "scrolled": false,
    "slideshow": {
     "slide_type": "-"
    }
   },
   "outputs": [],
   "source": [
    "#HTML(sineMovie.to_jshtml())     # Java script version (don't use on RPi)\n",
    "HTML(sineMovie.to_html5_video()) # HTML5 version "
   ]
  },
  {
   "cell_type": "markdown",
   "metadata": {
    "slideshow": {
     "slide_type": "slide"
    }
   },
   "source": [
    "## step 6: generate and save the animation file"
   ]
  },
  {
   "cell_type": "code",
   "execution_count": null,
   "metadata": {
    "ExecuteTime": {
     "end_time": "2020-08-28T14:29:47.922209Z",
     "start_time": "2020-08-28T14:29:40.725675Z"
    },
    "slideshow": {
     "slide_type": "-"
    }
   },
   "outputs": [],
   "source": [
    "sineMovie = ani.FuncAnimation(fig    = sineFig, \n",
    "                              func   = sineAnimate, \n",
    "                              frames = len(t),\n",
    "                              fargs  =(t,x,sinePoint)\n",
    "                             );\n",
    "sineMovie.save('sine.mp4',fps=30)    "
   ]
  },
  {
   "cell_type": "code",
   "execution_count": null,
   "metadata": {},
   "outputs": [],
   "source": [
    "%ls -latr sine.mp4"
   ]
  },
  {
   "cell_type": "markdown",
   "metadata": {
    "slideshow": {
     "slide_type": "slide"
    }
   },
   "source": [
    "<img src=\"https://www.dropbox.com/s/7vd3ezqkyhdxmap/demo.png?raw=1\" width=\"10%\" align=\"left\">\n",
    "\n",
    "# Demo\n",
    "\n",
    "* Generate a random walk movie with $100$ steps. \n",
    "* Make inline and file animations."
   ]
  },
  {
   "cell_type": "code",
   "execution_count": null,
   "metadata": {
    "ExecuteTime": {
     "end_time": "2020-08-28T14:30:12.155464Z",
     "start_time": "2020-08-28T14:30:12.118732Z"
    },
    "slideshow": {
     "slide_type": "slide"
    }
   },
   "outputs": [],
   "source": [
    "nSteps = 100                      # number of random walk steps\n",
    "sig = 0.1                         # standard deviation\n",
    "cen = 0.0                         # distribution center"
   ]
  },
  {
   "cell_type": "code",
   "execution_count": null,
   "metadata": {
    "ExecuteTime": {
     "end_time": "2020-08-28T14:30:12.155464Z",
     "start_time": "2020-08-28T14:30:12.118732Z"
    },
    "slideshow": {
     "slide_type": "-"
    }
   },
   "outputs": [],
   "source": [
    "rng.seed( 2020 )                  # seed random numbers\n",
    "\n",
    "# coordinates from a uniform distribution\n",
    "a = 2*np.sqrt(3)*sig\n",
    "xu = cen + rng.uniform(-a/2,+a/2,nSteps)\n",
    "yu = cen + rng.uniform(-a/2,+a/2,nSteps)"
   ]
  },
  {
   "cell_type": "code",
   "execution_count": null,
   "metadata": {
    "ExecuteTime": {
     "end_time": "2020-08-28T14:30:12.155464Z",
     "start_time": "2020-08-28T14:30:12.118732Z"
    },
    "slideshow": {
     "slide_type": "-"
    }
   },
   "outputs": [],
   "source": [
    "# accumulate steps to generate random walk position\n",
    "xuc = xu.cumsum()\n",
    "yuc = yu.cumsum()"
   ]
  },
  {
   "cell_type": "code",
   "execution_count": null,
   "metadata": {
    "ExecuteTime": {
     "end_time": "2020-08-28T14:30:19.484612Z",
     "start_time": "2020-08-28T14:30:19.454837Z"
    },
    "slideshow": {
     "slide_type": "-"
    }
   },
   "outputs": [],
   "source": [
    "# find min and max of the plot\n",
    "Dmax = np.max( [xuc.max(), yuc.max()] )\n",
    "Dmin = np.min( [xuc.min(), yuc.min()] )\n",
    "D = 1.1*np.max([Dmax,np.abs(Dmin)])"
   ]
  },
  {
   "cell_type": "markdown",
   "metadata": {
    "slideshow": {
     "slide_type": "slide"
    }
   },
   "source": [
    "## step 1: make a figure"
   ]
  },
  {
   "cell_type": "code",
   "execution_count": null,
   "metadata": {
    "ExecuteTime": {
     "end_time": "2020-08-28T14:30:24.251468Z",
     "start_time": "2020-08-28T14:30:23.772830Z"
    }
   },
   "outputs": [],
   "source": [
    "rawkFig = plt.figure(figsize=(5,5))              # create R.W. figure\n",
    "\n",
    "rawkAx = plt.axes(xlim=(-D,+D),ylim=(-D,+D))     # adjust axes"
   ]
  },
  {
   "cell_type": "markdown",
   "metadata": {
    "slideshow": {
     "slide_type": "slide"
    }
   },
   "source": [
    "## step 2: make empty plot objects"
   ]
  },
  {
   "cell_type": "code",
   "execution_count": null,
   "metadata": {
    "ExecuteTime": {
     "end_time": "2020-08-28T14:30:24.251468Z",
     "start_time": "2020-08-28T14:30:23.772830Z"
    },
    "scrolled": true
   },
   "outputs": [],
   "source": [
    "(rawkLine,)  = rawkAx.plot([],[],'r', lw = 1)   # create the R.W. line\n",
    "(rawkPoint,) = rawkAx.plot([],[],'ro',ms = 5)   # create the R.W. point"
   ]
  },
  {
   "cell_type": "markdown",
   "metadata": {
    "slideshow": {
     "slide_type": "slide"
    }
   },
   "source": [
    "## step 3: define animation function"
   ]
  },
  {
   "cell_type": "code",
   "execution_count": null,
   "metadata": {
    "ExecuteTime": {
     "end_time": "2020-08-28T14:30:27.470453Z",
     "start_time": "2020-08-28T14:30:27.458989Z"
    },
    "slideshow": {
     "slide_type": "-"
    }
   },
   "outputs": [],
   "source": [
    "# define animation function to update:\n",
    "# the line to the current point\n",
    "# the current point\n",
    "def rawkAnimate(i, x,y, aLine, aPoint):\n",
    "    aLine.set_data (x[:i+1], y[:i+1])  # plot line up to sample n\n",
    "    aPoint.set_data(x[i]   , y[i]   )  # plot sample n as a point"
   ]
  },
  {
   "cell_type": "markdown",
   "metadata": {
    "slideshow": {
     "slide_type": "slide"
    }
   },
   "source": [
    "## step 4: generate the animation"
   ]
  },
  {
   "cell_type": "code",
   "execution_count": null,
   "metadata": {
    "ExecuteTime": {
     "end_time": "2020-08-28T14:30:48.574456Z",
     "start_time": "2020-08-28T14:30:37.139034Z"
    },
    "slideshow": {
     "slide_type": "-"
    }
   },
   "outputs": [],
   "source": [
    "# create inline Java script animation\n",
    "rawkMovie = ani.FuncAnimation(fig    = rawkFig,\n",
    "                              func   = rawkAnimate,\n",
    "                              frames = nSteps,\n",
    "                              fargs  = (xuc, yuc, rawkLine, rawkPoint) \n",
    "                              )"
   ]
  },
  {
   "cell_type": "markdown",
   "metadata": {
    "slideshow": {
     "slide_type": "slide"
    }
   },
   "source": [
    "## step 5: display the inline animation"
   ]
  },
  {
   "cell_type": "code",
   "execution_count": null,
   "metadata": {
    "ExecuteTime": {
     "end_time": "2020-08-28T14:30:48.574456Z",
     "start_time": "2020-08-28T14:30:37.139034Z"
    },
    "slideshow": {
     "slide_type": "-"
    }
   },
   "outputs": [],
   "source": [
    "#HTML(rawkMovie.to_jshtml())\n",
    "HTML(rawkMovie.to_html5_video())"
   ]
  },
  {
   "cell_type": "markdown",
   "metadata": {
    "slideshow": {
     "slide_type": "slide"
    }
   },
   "source": [
    "## step 6: generate and save the animation file"
   ]
  },
  {
   "cell_type": "code",
   "execution_count": null,
   "metadata": {
    "ExecuteTime": {
     "end_time": "2020-08-28T14:32:59.217073Z",
     "start_time": "2020-08-28T14:32:48.011965Z"
    },
    "slideshow": {
     "slide_type": "-"
    }
   },
   "outputs": [],
   "source": [
    "rawkMovie = ani.FuncAnimation(fig    = rawkFig,\n",
    "                              func   = rawkAnimate,\n",
    "                              frames = nSteps,\n",
    "                              fargs  = (xuc, yuc, rawkLine, rawkPoint) \n",
    "                              )\n",
    "rawkMovie.save('rawk.mp4',fps=30)"
   ]
  },
  {
   "cell_type": "code",
   "execution_count": null,
   "metadata": {},
   "outputs": [],
   "source": [
    "%ls -latr rawk.mp4"
   ]
  },
  {
   "cell_type": "markdown",
   "metadata": {
    "slideshow": {
     "slide_type": "slide"
    }
   },
   "source": [
    "<img src=\"https://www.dropbox.com/s/wj23ce93pa9j8pe/demo.png?raw=1\" width=\"10%\" align=\"left\">\n",
    "\n",
    "# Exercise\n",
    "\n",
    "Generate inline and file movies simultaneously showing random walks with uniform and normal distributions. \n",
    "\n",
    "Generate a movie showing the most recent $10$ steps of each random walk (should look like moving snakes)."
   ]
  }
 ],
 "metadata": {
  "celltoolbar": "Slideshow",
  "kernelspec": {
   "display_name": "Python 3",
   "language": "python",
   "name": "python3"
  },
  "language_info": {
   "codemirror_mode": {
    "name": "ipython",
    "version": 3
   },
   "file_extension": ".py",
   "mimetype": "text/x-python",
   "name": "python",
   "nbconvert_exporter": "python",
   "pygments_lexer": "ipython3",
   "version": "3.8.3"
  },
  "varInspector": {
   "cols": {
    "lenName": 16,
    "lenType": 16,
    "lenVar": 40
   },
   "kernels_config": {
    "python": {
     "delete_cmd_postfix": "",
     "delete_cmd_prefix": "del ",
     "library": "var_list.py",
     "varRefreshCmd": "print(var_dic_list())"
    },
    "r": {
     "delete_cmd_postfix": ") ",
     "delete_cmd_prefix": "rm(",
     "library": "var_list.r",
     "varRefreshCmd": "cat(var_dic_list()) "
    }
   },
   "types_to_exclude": [
    "module",
    "function",
    "builtin_function_or_method",
    "instance",
    "_Feature"
   ],
   "window_display": false
  }
 },
 "nbformat": 4,
 "nbformat_minor": 2
}
