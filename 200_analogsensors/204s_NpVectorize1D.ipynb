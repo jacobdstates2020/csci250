{
 "cells": [
  {
   "cell_type": "markdown",
   "metadata": {
    "slideshow": {
     "slide_type": "slide"
    }
   },
   "source": [
    "<img src=\"https://www.mines.edu/webcentral/wp-content/uploads/sites/267/2019/02/horizontallightbackground.jpg\" width=\"100%\"> \n",
    "### CSCI250 Python Computing: Building a Sensor System\n",
    "<hr style=\"height:5px\" width=\"100%\" align=\"left\">\n",
    "\n",
    "# `numpy`: 1D vectorization"
   ]
  },
  {
   "cell_type": "markdown",
   "metadata": {
    "heading_collapsed": true,
    "slideshow": {
     "slide_type": "slide"
    }
   },
   "source": [
    "# Objectives\n",
    "* introduce fast vectorized `numpy` array operations\n",
    "* evaluate computational speed-up relative to loops\n",
    "* discuss aggregations and masking applied to `numpy` arrays "
   ]
  },
  {
   "cell_type": "markdown",
   "metadata": {
    "slideshow": {
     "slide_type": "slide"
    }
   },
   "source": [
    "# Resources\n",
    "* [numpy.org](http://www.numpy.org)\n",
    "* [`numpy` user guide](https://docs.scipy.org/doc/numpy/user)\n",
    "* [`numpy` reference](https://docs.scipy.org/doc/numpy/reference)\n",
    "* [`numpy` ufuncs](https://numpy.org/doc/stable/reference/ufuncs.html)"
   ]
  },
  {
   "cell_type": "markdown",
   "metadata": {
    "slideshow": {
     "slide_type": "slide"
    }
   },
   "source": [
    "# Definition\n",
    "\n",
    "**Vectorization**: a computational style in which multiple operations are executed at once, i.e. execute a single global operation instead of multiple smaller operations in a loop. \n",
    "\n",
    "Has multiple advantages:\n",
    "* **compact appearance**: the code resembles math\n",
    "* **error reduction**: the code is shorter, less complex\n",
    "* **execution performance**: the code runs much faster"
   ]
  },
  {
   "cell_type": "markdown",
   "metadata": {
    "slideshow": {
     "slide_type": "slide"
    }
   },
   "source": [
    "# Vectorized calculations\n",
    "\n",
    "Computational speed-up can be achieved using two main methods:\n",
    "1. universal functions \n",
    "2. fast array selection "
   ]
  },
  {
   "cell_type": "markdown",
   "metadata": {
    "slideshow": {
     "slide_type": "slide"
    }
   },
   "source": [
    "# 1. universal functions (ufuncs)\n",
    "\n",
    "* operate element-by-element on `numpy` arrays\n",
    "* are often implemented in compiled C code\n",
    "\n",
    "Some are called automatically when the infix notation is clear:\n",
    "* `np.add(a,b)` is called for `a + b`"
   ]
  },
  {
   "cell_type": "code",
   "execution_count": 1,
   "metadata": {
    "slideshow": {
     "slide_type": "-"
    }
   },
   "outputs": [],
   "source": [
    "import numpy as np\n",
    "import math,time"
   ]
  },
  {
   "cell_type": "markdown",
   "metadata": {
    "slideshow": {
     "slide_type": "slide"
    }
   },
   "source": [
    "## arithmetic ufuncs\n",
    "\n",
    "* `np.add(),np.multiply(),np.floor_divide(),...`\n",
    "\n",
    "or\n",
    "\n",
    "* `+, *, //, ...`"
   ]
  },
  {
   "cell_type": "code",
   "execution_count": 2,
   "metadata": {
    "slideshow": {
     "slide_type": "slide"
    }
   },
   "outputs": [],
   "source": [
    "n = int(1e6)\n",
    "\n",
    "a = np.linspace(0,1,n, dtype=float)\n",
    "b = np.linspace(1,0,n, dtype=float)\n",
    "c = np.empty(       n, dtype=float)"
   ]
  },
  {
   "cell_type": "markdown",
   "metadata": {
    "slideshow": {
     "slide_type": "-"
    }
   },
   "source": [
    "**non-vectorized code** (uses loops)"
   ]
  },
  {
   "cell_type": "code",
   "execution_count": 8,
   "metadata": {},
   "outputs": [
    {
     "name": "stdout",
     "output_type": "stream",
     "text": [
      "166666 1762627 us\n"
     ]
    }
   ],
   "source": [
    "tick = time.time()\n",
    "\n",
    "for i in range(n):\n",
    "    c[i] = a[i] * b[i]\n",
    "    \n",
    "tock = time.time()\n",
    "dLOOP = int((tock-tick)*1e6)\n",
    "\n",
    "print( int(c.sum()), dLOOP,'us' )"
   ]
  },
  {
   "cell_type": "markdown",
   "metadata": {
    "slideshow": {
     "slide_type": "slide"
    }
   },
   "source": [
    "**vectorized code** (does not use loops)"
   ]
  },
  {
   "cell_type": "code",
   "execution_count": 9,
   "metadata": {},
   "outputs": [
    {
     "name": "stdout",
     "output_type": "stream",
     "text": [
      "166666 38110 us\n"
     ]
    }
   ],
   "source": [
    "tick = time.time()\n",
    "\n",
    "c = a * b\n",
    "\n",
    "tock = time.time()\n",
    "dVECT = int((tock-tick)*1e6)\n",
    "print( int(c.sum()), dVECT, 'us')"
   ]
  },
  {
   "cell_type": "markdown",
   "metadata": {
    "slideshow": {
     "slide_type": "-"
    }
   },
   "source": [
    "The **execution time** ratio is"
   ]
  },
  {
   "cell_type": "code",
   "execution_count": 10,
   "metadata": {
    "scrolled": true
   },
   "outputs": [
    {
     "data": {
      "text/plain": [
       "46"
      ]
     },
     "execution_count": 10,
     "metadata": {},
     "output_type": "execute_result"
    }
   ],
   "source": [
    "int(dLOOP/dVECT)"
   ]
  },
  {
   "cell_type": "markdown",
   "metadata": {
    "slideshow": {
     "slide_type": "slide"
    }
   },
   "source": [
    "## comparison ufuncs\n",
    "* `np.less(),np.greater(),np.not_equal(),...`\n",
    "\n",
    "or\n",
    "\n",
    "* `<, >, !=, ...`"
   ]
  },
  {
   "cell_type": "code",
   "execution_count": 11,
   "metadata": {
    "slideshow": {
     "slide_type": "slide"
    }
   },
   "outputs": [
    {
     "name": "stdout",
     "output_type": "stream",
     "text": [
      "[0.  0.1 0.2 0.3 0.4 0.5 0.6 0.7 0.8 0.9 1. ]\n",
      "[1.  0.9 0.8 0.7 0.6 0.5 0.4 0.3 0.2 0.1 0. ]\n"
     ]
    }
   ],
   "source": [
    "n = 11\n",
    "a = np.linspace(0,1,n, dtype=float)\n",
    "b = np.linspace(1,0,n, dtype=float)\n",
    "print(a)\n",
    "print(b)"
   ]
  },
  {
   "cell_type": "code",
   "execution_count": 12,
   "metadata": {},
   "outputs": [
    {
     "name": "stdout",
     "output_type": "stream",
     "text": [
      "[False False False False False False  True  True  True  True  True]\n"
     ]
    }
   ],
   "source": [
    "print( np.greater(a,b) )  # ufunc"
   ]
  },
  {
   "cell_type": "code",
   "execution_count": 13,
   "metadata": {},
   "outputs": [
    {
     "name": "stdout",
     "output_type": "stream",
     "text": [
      "[False False False False False False  True  True  True  True  True]\n"
     ]
    }
   ],
   "source": [
    "print( a > b )            # infix"
   ]
  },
  {
   "cell_type": "markdown",
   "metadata": {
    "slideshow": {
     "slide_type": "slide"
    }
   },
   "source": [
    "## bitwise ufuncs\n",
    "* `np.bitwise_and(),np.left_shift(),...`\n",
    "\n",
    "or\n",
    "\n",
    "* `&, >>, ...`"
   ]
  },
  {
   "cell_type": "code",
   "execution_count": 14,
   "metadata": {
    "slideshow": {
     "slide_type": "slide"
    }
   },
   "outputs": [
    {
     "name": "stdout",
     "output_type": "stream",
     "text": [
      "[ 0  1  2  3  4  5  6  7  8  9 11]\n",
      "[11  9  8  7  6  5  4  3  2  1  0]\n"
     ]
    }
   ],
   "source": [
    "n = 11\n",
    "a = np.linspace(0,n,n, dtype=int)\n",
    "b = np.linspace(n,0,n, dtype=int)\n",
    "print(a)\n",
    "print(b)"
   ]
  },
  {
   "cell_type": "code",
   "execution_count": 15,
   "metadata": {},
   "outputs": [
    {
     "name": "stdout",
     "output_type": "stream",
     "text": [
      "[0 1 0 3 4 5 4 3 0 1 0]\n"
     ]
    }
   ],
   "source": [
    "print( np.bitwise_and(a,b) ) # ufunc"
   ]
  },
  {
   "cell_type": "code",
   "execution_count": 16,
   "metadata": {},
   "outputs": [
    {
     "name": "stdout",
     "output_type": "stream",
     "text": [
      "[0 1 0 3 4 5 4 3 0 1 0]\n"
     ]
    }
   ],
   "source": [
    "print( a & b )               # infix"
   ]
  },
  {
   "cell_type": "markdown",
   "metadata": {
    "slideshow": {
     "slide_type": "slide"
    }
   },
   "source": [
    "## logical ufuncs\n",
    "\n",
    "`np.logical_and(),np.logical_or(),...`\n",
    "\n",
    "**N.B.**: no infix equivalents"
   ]
  },
  {
   "cell_type": "code",
   "execution_count": 17,
   "metadata": {
    "slideshow": {
     "slide_type": "slide"
    }
   },
   "outputs": [
    {
     "name": "stdout",
     "output_type": "stream",
     "text": [
      "[False False False  True  True  True  True  True  True  True  True]\n",
      "[False False False False False False False False  True  True  True]\n"
     ]
    }
   ],
   "source": [
    "n = 11\n",
    "a = np.linspace(0,1,n, dtype=float) > 0.25\n",
    "b = np.linspace(0,1,n, dtype=float) > 0.75\n",
    "print(a)\n",
    "print(b)"
   ]
  },
  {
   "cell_type": "code",
   "execution_count": 18,
   "metadata": {},
   "outputs": [
    {
     "name": "stdout",
     "output_type": "stream",
     "text": [
      "[False False False False False False False False  True  True  True]\n"
     ]
    }
   ],
   "source": [
    "print( np.logical_and(a,b)) # ufunc"
   ]
  },
  {
   "cell_type": "code",
   "execution_count": 19,
   "metadata": {},
   "outputs": [
    {
     "ename": "ValueError",
     "evalue": "The truth value of an array with more than one element is ambiguous. Use a.any() or a.all()",
     "output_type": "error",
     "traceback": [
      "\u001b[0;31m---------------------------------------------------------------------------\u001b[0m",
      "\u001b[0;31mValueError\u001b[0m                                Traceback (most recent call last)",
      "Input \u001b[0;32mIn [19]\u001b[0m, in \u001b[0;36m<cell line: 1>\u001b[0;34m()\u001b[0m\n\u001b[0;32m----> 1\u001b[0m \u001b[38;5;28mprint\u001b[39m( a \u001b[38;5;129;01mand\u001b[39;00m b )\n",
      "\u001b[0;31mValueError\u001b[0m: The truth value of an array with more than one element is ambiguous. Use a.any() or a.all()"
     ]
    }
   ],
   "source": [
    "print( a and b )            # "
   ]
  },
  {
   "cell_type": "markdown",
   "metadata": {
    "slideshow": {
     "slide_type": "slide"
    }
   },
   "source": [
    "## trigonometric ufuncs\n",
    "`np.sin(),np.arcsin(),np.sinh(),...`\n",
    "\n",
    "## exp/log ufuncs\n",
    "`np.exp(),np.log(),np.log10(),...`\n",
    "\n",
    "`...`"
   ]
  },
  {
   "cell_type": "markdown",
   "metadata": {
    "slideshow": {
     "slide_type": "slide"
    }
   },
   "source": [
    "## aggregation ufuncs\n",
    "\n",
    "`np.sum()`, `np.prod()`"
   ]
  },
  {
   "cell_type": "code",
   "execution_count": 20,
   "metadata": {},
   "outputs": [],
   "source": [
    "n = int(1e6)\n",
    "a = np.linspace(0,1,n, dtype=float) > 0.25"
   ]
  },
  {
   "cell_type": "code",
   "execution_count": 21,
   "metadata": {
    "scrolled": true
   },
   "outputs": [
    {
     "name": "stdout",
     "output_type": "stream",
     "text": [
      "750000 9557907 us\n"
     ]
    }
   ],
   "source": [
    "tick = time.time()\n",
    "\n",
    "s = sum(a)\n",
    "\n",
    "tock = time.time()\n",
    "print( int(s), int((tock-tick)*1e6),'us' )"
   ]
  },
  {
   "cell_type": "code",
   "execution_count": 22,
   "metadata": {},
   "outputs": [
    {
     "name": "stdout",
     "output_type": "stream",
     "text": [
      "750000 6836 us\n"
     ]
    }
   ],
   "source": [
    "tick = time.time()\n",
    "\n",
    "s = np.sum(a)\n",
    "\n",
    "tock = time.time()\n",
    "print( int(s), int((tock-tick)*1e6), 'us' )"
   ]
  },
  {
   "cell_type": "markdown",
   "metadata": {
    "slideshow": {
     "slide_type": "slide"
    }
   },
   "source": [
    "## more aggregation ufuncs\n",
    "\n",
    "`np.min()`, `np.max()`\n",
    "\n",
    "`np.all()`,`np.any()`\n",
    "\n",
    "`np.mean()`, `np.median()`, `np.var()`, `np.std()`\n",
    "\n",
    "`np.argmin()`, `np.argmax()`, `np.nanmin()`, `np.nanmax()`\n",
    "\n",
    "`...`"
   ]
  },
  {
   "cell_type": "code",
   "execution_count": 1,
   "metadata": {},
   "outputs": [
    {
     "name": "stdout",
     "output_type": "stream",
     "text": [
      "Help on function mean in numpy:\n",
      "\n",
      "numpy.mean = mean(a, axis=None, dtype=None, out=None, keepdims=<no value>)\n",
      "    Compute the arithmetic mean along the specified axis.\n",
      "    \n",
      "    Returns the average of the array elements.  The average is taken over\n",
      "    the flattened array by default, otherwise over the specified axis.\n",
      "    `float64` intermediate and return values are used for integer inputs.\n",
      "    \n",
      "    Parameters\n",
      "    ----------\n",
      "    a : array_like\n",
      "        Array containing numbers whose mean is desired. If `a` is not an\n",
      "        array, a conversion is attempted.\n",
      "    axis : None or int or tuple of ints, optional\n",
      "        Axis or axes along which the means are computed. The default is to\n",
      "        compute the mean of the flattened array.\n",
      "    \n",
      "        .. versionadded:: 1.7.0\n",
      "    \n",
      "        If this is a tuple of ints, a mean is performed over multiple axes,\n",
      "        instead of a single axis or all the axes as before.\n",
      "    dtype : data-type, optional\n",
      "        Type to use in computing the mean.  For integer inputs, the default\n",
      "        is `float64`; for floating point inputs, it is the same as the\n",
      "        input dtype.\n",
      "    out : ndarray, optional\n",
      "        Alternate output array in which to place the result.  The default\n",
      "        is ``None``; if provided, it must have the same shape as the\n",
      "        expected output, but the type will be cast if necessary.\n",
      "        See `ufuncs-output-type` for more details.\n",
      "    \n",
      "    keepdims : bool, optional\n",
      "        If this is set to True, the axes which are reduced are left\n",
      "        in the result as dimensions with size one. With this option,\n",
      "        the result will broadcast correctly against the input array.\n",
      "    \n",
      "        If the default value is passed, then `keepdims` will not be\n",
      "        passed through to the `mean` method of sub-classes of\n",
      "        `ndarray`, however any non-default value will be.  If the\n",
      "        sub-class' method does not implement `keepdims` any\n",
      "        exceptions will be raised.\n",
      "    \n",
      "    Returns\n",
      "    -------\n",
      "    m : ndarray, see dtype parameter above\n",
      "        If `out=None`, returns a new array containing the mean values,\n",
      "        otherwise a reference to the output array is returned.\n",
      "    \n",
      "    See Also\n",
      "    --------\n",
      "    average : Weighted average\n",
      "    std, var, nanmean, nanstd, nanvar\n",
      "    \n",
      "    Notes\n",
      "    -----\n",
      "    The arithmetic mean is the sum of the elements along the axis divided\n",
      "    by the number of elements.\n",
      "    \n",
      "    Note that for floating-point input, the mean is computed using the\n",
      "    same precision the input has.  Depending on the input data, this can\n",
      "    cause the results to be inaccurate, especially for `float32` (see\n",
      "    example below).  Specifying a higher-precision accumulator using the\n",
      "    `dtype` keyword can alleviate this issue.\n",
      "    \n",
      "    By default, `float16` results are computed using `float32` intermediates\n",
      "    for extra precision.\n",
      "    \n",
      "    Examples\n",
      "    --------\n",
      "    >>> a = np.array([[1, 2], [3, 4]])\n",
      "    >>> np.mean(a)\n",
      "    2.5\n",
      "    >>> np.mean(a, axis=0)\n",
      "    array([2., 3.])\n",
      "    >>> np.mean(a, axis=1)\n",
      "    array([1.5, 3.5])\n",
      "    \n",
      "    In single precision, `mean` can be inaccurate:\n",
      "    \n",
      "    >>> a = np.zeros((2, 512*512), dtype=np.float32)\n",
      "    >>> a[0, :] = 1.0\n",
      "    >>> a[1, :] = 0.1\n",
      "    >>> np.mean(a)\n",
      "    0.54999924\n",
      "    \n",
      "    Computing the mean in float64 is more accurate:\n",
      "    \n",
      "    >>> np.mean(a, dtype=np.float64)\n",
      "    0.55000000074505806 # may vary\n",
      "\n"
     ]
    }
   ],
   "source": [
    "#np.mean\n",
    "help('numpy.mean')"
   ]
  },
  {
   "cell_type": "markdown",
   "metadata": {
    "slideshow": {
     "slide_type": "slide"
    }
   },
   "source": [
    "<img src=\"http://www.dropbox.com/s/fcucolyuzdjl80k/todo.jpg?raw=1\" width=\"10%\" align=\"right\">\n",
    "\n",
    "Add examples to experiment with [`numpy` ufuncs](https://numpy.org/doc/stable/reference/ufuncs.html#available-ufuncs). \n",
    "\n",
    "Compare execution time with and without vectorized codes.\n",
    "\n",
    "**N.B.**: use large arrays for relevant speed-up comparison."
   ]
  },
  {
   "cell_type": "markdown",
   "metadata": {
    "slideshow": {
     "slide_type": "slide"
    }
   },
   "source": [
    "# 2. Fast array selection\n",
    "\n",
    "Methods to efficiently slice `numpy` arrays:\n",
    "* fancy indexing\n",
    "* array masking"
   ]
  },
  {
   "cell_type": "markdown",
   "metadata": {
    "slideshow": {
     "slide_type": "slide"
    }
   },
   "source": [
    "## fancy indexing\n",
    "Array indexing using arrays of integers."
   ]
  },
  {
   "cell_type": "code",
   "execution_count": 23,
   "metadata": {},
   "outputs": [],
   "source": [
    "nin = int(1e6)       # n before decimation\n",
    "jmp = 100            #   decimation factor\n",
    "nou = int(nin/jmp)   # n  after decimation"
   ]
  },
  {
   "cell_type": "code",
   "execution_count": 24,
   "metadata": {},
   "outputs": [
    {
     "name": "stdout",
     "output_type": "stream",
     "text": [
      "1000000\n"
     ]
    }
   ],
   "source": [
    "a = np.linspace(0,1,nin, dtype=float)\n",
    "print(a.size)"
   ]
  },
  {
   "cell_type": "code",
   "execution_count": 25,
   "metadata": {},
   "outputs": [
    {
     "name": "stdout",
     "output_type": "stream",
     "text": [
      "10000\n"
     ]
    }
   ],
   "source": [
    "c = np.empty(nou, dtype=float)\n",
    "print(c.size)"
   ]
  },
  {
   "cell_type": "markdown",
   "metadata": {
    "slideshow": {
     "slide_type": "slide"
    }
   },
   "source": [
    "**non-vectorized code** (uses loops)"
   ]
  },
  {
   "cell_type": "code",
   "execution_count": 34,
   "metadata": {
    "slideshow": {
     "slide_type": "-"
    }
   },
   "outputs": [
    {
     "name": "stdout",
     "output_type": "stream",
     "text": [
      "4999 33918 us\n"
     ]
    }
   ],
   "source": [
    "tick = time.time()\n",
    "\n",
    "for i in range(nou):\n",
    "    c[i] = a[ i*jmp ]\n",
    "    \n",
    "tock = time.time()\n",
    "dLOOP = int((tock-tick)*1e6)\n",
    "\n",
    "print( int(c.sum()), dLOOP,'us' )"
   ]
  },
  {
   "cell_type": "markdown",
   "metadata": {
    "slideshow": {
     "slide_type": "slide"
    }
   },
   "source": [
    "**vectorized code** (does not use loops)"
   ]
  },
  {
   "cell_type": "code",
   "execution_count": 35,
   "metadata": {},
   "outputs": [
    {
     "name": "stdout",
     "output_type": "stream",
     "text": [
      "10000\n"
     ]
    }
   ],
   "source": [
    "# form array of indexes by list comprehension\n",
    "k = np.array( [i for i in range(0,nin,jmp)] )\n",
    "print(k.size)"
   ]
  },
  {
   "cell_type": "code",
   "execution_count": 44,
   "metadata": {
    "slideshow": {
     "slide_type": "-"
    }
   },
   "outputs": [
    {
     "name": "stdout",
     "output_type": "stream",
     "text": [
      "4999 1731 us\n"
     ]
    }
   ],
   "source": [
    "tick = time.time()\n",
    "\n",
    "c = a[k]\n",
    "    \n",
    "tock = time.time()\n",
    "dVECT = int((tock-tick)*1e6)\n",
    "\n",
    "print( int(c.sum()), dVECT,'us' )"
   ]
  },
  {
   "cell_type": "code",
   "execution_count": 45,
   "metadata": {
    "scrolled": true
   },
   "outputs": [
    {
     "data": {
      "text/plain": [
       "19"
      ]
     },
     "execution_count": 45,
     "metadata": {},
     "output_type": "execute_result"
    }
   ],
   "source": [
    "int(dLOOP/dVECT)"
   ]
  },
  {
   "cell_type": "markdown",
   "metadata": {
    "slideshow": {
     "slide_type": "slide"
    }
   },
   "source": [
    "## array masking\n",
    "Array selection using vectorized logical operations."
   ]
  },
  {
   "cell_type": "code",
   "execution_count": 46,
   "metadata": {},
   "outputs": [],
   "source": [
    "n = int(1e6)\n",
    "\n",
    "a = np.linspace(0,1,n, dtype=float)\n",
    "\n",
    "aLo = 0.50\n",
    "aHi = 0.75"
   ]
  },
  {
   "cell_type": "markdown",
   "metadata": {
    "slideshow": {
     "slide_type": "slide"
    }
   },
   "source": [
    "**non-vectorized code** (uses loops)"
   ]
  },
  {
   "cell_type": "code",
   "execution_count": 47,
   "metadata": {},
   "outputs": [],
   "source": [
    "c = np.zeros(n, dtype=float) "
   ]
  },
  {
   "cell_type": "code",
   "execution_count": 52,
   "metadata": {
    "slideshow": {
     "slide_type": "-"
    }
   },
   "outputs": [
    {
     "name": "stdout",
     "output_type": "stream",
     "text": [
      "343749 2951924 us\n",
      "750000\n"
     ]
    }
   ],
   "source": [
    "tick = time.time()\n",
    "\n",
    "j = 0\n",
    "for i in range(n):\n",
    "    if (a[i]<aLo) | (a[i]>aHi):\n",
    "        c[j] = a[i]\n",
    "        j += 1\n",
    "    \n",
    "tock = time.time()\n",
    "dLOOP = int((tock-tick)*1e6)\n",
    "\n",
    "print( int(c.sum()), dLOOP,'us' )\n",
    "\n",
    "print(c.size) # output size = input size (inefficient)"
   ]
  },
  {
   "cell_type": "markdown",
   "metadata": {
    "slideshow": {
     "slide_type": "slide"
    }
   },
   "source": [
    "**vectorized code** (does not use loops)"
   ]
  },
  {
   "cell_type": "code",
   "execution_count": 53,
   "metadata": {
    "scrolled": true,
    "slideshow": {
     "slide_type": "-"
    }
   },
   "outputs": [
    {
     "name": "stdout",
     "output_type": "stream",
     "text": [
      "343749 85797 us\n",
      "750000\n"
     ]
    }
   ],
   "source": [
    "tick = time.time()\n",
    "\n",
    "c = a[ (a<aLo) | (a>aHi) ]\n",
    "    \n",
    "tock = time.time()\n",
    "dVECT = int((tock-tick)*1e6)\n",
    "\n",
    "print( int(c.sum()), dVECT,'us' )\n",
    "\n",
    "print(c.size) # automatically size output"
   ]
  },
  {
   "cell_type": "code",
   "execution_count": 51,
   "metadata": {},
   "outputs": [
    {
     "data": {
      "text/plain": [
       "36"
      ]
     },
     "execution_count": 51,
     "metadata": {},
     "output_type": "execute_result"
    }
   ],
   "source": [
    "int(dLOOP/dVECT)"
   ]
  },
  {
   "cell_type": "markdown",
   "metadata": {
    "slideshow": {
     "slide_type": "slide"
    }
   },
   "source": [
    "<img src=\"http://www.dropbox.com/s/fcucolyuzdjl80k/todo.jpg?raw=1\" width=\"10%\" align=\"right\">\n",
    "\n",
    "Add examples to experiment with \n",
    "* fancy indexing \n",
    "* fast array masking.\n",
    "\n",
    "Compare execution time with and without vectorized codes.\n",
    "\n",
    "**N.B.**: use large arrays for relevant speed-up comparison."
   ]
  },
  {
   "cell_type": "markdown",
   "metadata": {
    "slideshow": {
     "slide_type": "slide"
    }
   },
   "source": [
    "<img src=\"https://www.dropbox.com/s/wj23ce93pa9j8pe/demo.png?raw=1\" width=\"10%\" align=\"left\">\n",
    "\n",
    "# Exercise\n",
    "\n",
    "A sequence for computing number $\\pi$ is:\n",
    "\n",
    "$$\\dfrac{\\pi}{\\sqrt{12}} = \\sum\\limits_{i=0}^{n} \\dfrac{(-1)^{i}}{3^i(2i+1)}$$\n",
    "\n",
    "* Use `numpy` vectorization to compute $\\pi$ for $n$ terms.\n",
    "* Evaluate the speed-up of the vectorized implementation.\n",
    "\n",
    "**N.B.**: do not use loops."
   ]
  }
 ],
 "metadata": {
  "celltoolbar": "Slideshow",
  "kernelspec": {
   "display_name": "Python 3 (ipykernel)",
   "language": "python",
   "name": "python3"
  },
  "language_info": {
   "codemirror_mode": {
    "name": "ipython",
    "version": 3
   },
   "file_extension": ".py",
   "mimetype": "text/x-python",
   "name": "python",
   "nbconvert_exporter": "python",
   "pygments_lexer": "ipython3",
   "version": "3.9.2"
  },
  "varInspector": {
   "cols": {
    "lenName": 16,
    "lenType": 16,
    "lenVar": 40
   },
   "kernels_config": {
    "python": {
     "delete_cmd_postfix": "",
     "delete_cmd_prefix": "del ",
     "library": "var_list.py",
     "varRefreshCmd": "print(var_dic_list())"
    },
    "r": {
     "delete_cmd_postfix": ") ",
     "delete_cmd_prefix": "rm(",
     "library": "var_list.r",
     "varRefreshCmd": "cat(var_dic_list()) "
    }
   },
   "types_to_exclude": [
    "module",
    "function",
    "builtin_function_or_method",
    "instance",
    "_Feature"
   ],
   "window_display": false
  }
 },
 "nbformat": 4,
 "nbformat_minor": 2
}
