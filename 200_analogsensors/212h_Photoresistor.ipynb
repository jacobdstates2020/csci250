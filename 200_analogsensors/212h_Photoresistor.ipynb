{
 "cells": [
  {
   "cell_type": "markdown",
   "metadata": {
    "slideshow": {
     "slide_type": "slide"
    }
   },
   "source": [
    "<img src=\"https://www.mines.edu/webcentral/wp-content/uploads/sites/267/2019/02/horizontallightbackground.jpg\" width=\"100%\"> \n",
    "\n",
    "### CSCI250 Python Computing: Building a Sensor System\n",
    "<hr style=\"height:5px\" width=\"100%\" align=\"left\">\n",
    "\n",
    "# Photoresistor"
   ]
  },
  {
   "cell_type": "markdown",
   "metadata": {
    "slideshow": {
     "slide_type": "slide"
    }
   },
   "source": [
    "# Introduction\n",
    "\n",
    "<img src=\"https://cdn.sparkfun.com//assets/parts/2/4/6/2/09088-02-L.jpg\" width=\"30%\" align=right>\n",
    "\n",
    "**Photoresistors** are semiconductor devices that change their resistance based on the amount of light hitting the sensor. \n",
    "\n",
    "More light causes electrons to jump from the valence band to the conduction band, thus photoresistors have **high resistance in the dark**, and **low resistance in the light**. \n",
    "\n",
    "You can learn more about photoresistors on [this page](https://en.wikipedia.org/wiki/Photoresistor)."
   ]
  },
  {
   "cell_type": "markdown",
   "metadata": {
    "slideshow": {
     "slide_type": "slide"
    }
   },
   "source": [
    "# Wiring\n",
    "\n",
    "The photoresistors in the kit have a resistance of roughly \n",
    "* **10k$\\Omega$ in the dark**, and \n",
    "* **1k$\\Omega$ in the light**. \n",
    "\n",
    "**N.B.**: The kits do not have anything to measure resistance directly. We will use **voltage dividers** to measure voltage, then calculate resistance. "
   ]
  },
  {
   "cell_type": "markdown",
   "metadata": {
    "slideshow": {
     "slide_type": "slide"
    }
   },
   "source": [
    "<img src=\"https://www.dropbox.com/s/zue2dzspdy5t1q3/wiring_voltage_divider.PNG?raw=1\" width=\"40%\" align=left>\n",
    "\n",
    "This **voltage divider** circuit consists of two resistors $R_1$ and $R_2$ in series between a voltage source. \n",
    "\n",
    "The current through the two resistors is the same because they are connected in series:\n",
    "\n",
    "$$ I_1 = I_2 $$\n",
    "\n",
    "From [Ohm's Law](https://en.wikipedia.org/wiki/Ohm%27s_law), we have\n",
    "\n",
    "$$ \\dfrac{V_{in}}{R_1 + R_2} = \\dfrac{V_{out}}{R_2} $$"
   ]
  },
  {
   "cell_type": "markdown",
   "metadata": {
    "slideshow": {
     "slide_type": "slide"
    }
   },
   "source": [
    "The **voltage divider equation** (VDE) relates the input and output voltages with the resistances:\n",
    "$$V_{out}=\\dfrac{R_2}{R_1+R_2}V_{in} $$\n",
    "\n",
    "*** \n",
    "\n",
    "The photoresistor has resistance $R_1$ between $1-10k\\Omega$, and thus the complementary resistor $R_2$ should have a similar resistance. \n",
    "\n",
    "The closest available in the SparkFun kit has $10k\\Omega$ (color bands: **brown/black/orange/gold**). "
   ]
  },
  {
   "cell_type": "markdown",
   "metadata": {
    "slideshow": {
     "slide_type": "slide"
    }
   },
   "source": [
    "We can rearrange the voltage divider equation to  find the resistance of the photoresistor $R_1$ as a function of the input and measured voltages, $V_{in}$ and $V_{out}$, and the resistance $R_2$:\n",
    "\n",
    "$$R_1=R_2\\left(\\dfrac{V_{in}}{V_{out}}-1\\right) .$$"
   ]
  },
  {
   "cell_type": "markdown",
   "metadata": {
    "slideshow": {
     "slide_type": "slide"
    }
   },
   "source": [
    "The middle pin of the voltage divider connects to the [ADC](h_ADC.ipynb).\n",
    "\n",
    "**N.B.**: the wiring for the ADC is omitted for clarity.\n",
    "\n",
    "<img src=\"https://www.dropbox.com/s/gmooxjhe65ri8qt/wiring_photoresistor.PNG?raw=1\" width=\"65%\" align=\"left\">\n",
    "\n",
    "<img src=\"https://www.dropbox.com/s/vabd2sy33sl5tah/circuit_photoresistor.jpg?raw=1\" width=\"35%\" align=\"right\">"
   ]
  },
  {
   "cell_type": "markdown",
   "metadata": {
    "slideshow": {
     "slide_type": "slide"
    }
   },
   "source": [
    "# Programming\n",
    "\n",
    "Follow the [ADC notebook](h_ADC.ipynb) to set-up the analog/digital converter. "
   ]
  },
  {
   "cell_type": "code",
   "execution_count": 4,
   "metadata": {
    "ExecuteTime": {
     "end_time": "2019-10-22T21:44:37.030424Z",
     "start_time": "2019-10-22T21:44:36.323643Z"
    },
    "slideshow": {
     "slide_type": "-"
    }
   },
   "outputs": [],
   "source": [
    "import adcUtil as adc"
   ]
  },
  {
   "cell_type": "markdown",
   "metadata": {
    "slideshow": {
     "slide_type": "slide"
    }
   },
   "source": [
    "As the light intensity over the photoresistor changes, the voltage changes from $0V$ to $3.3V$."
   ]
  },
  {
   "cell_type": "code",
   "execution_count": 8,
   "metadata": {
    "ExecuteTime": {
     "end_time": "2019-10-22T21:44:37.030424Z",
     "start_time": "2019-10-22T21:44:36.323643Z"
    },
    "slideshow": {
     "slide_type": "-"
    }
   },
   "outputs": [
    {
     "name": "stdout",
     "output_type": "stream",
     "text": [
      "1.461290322580645\n"
     ]
    }
   ],
   "source": [
    "# read photoresistor voltage on CHO of the ADC\n",
    "Vou = adc.readADC(channel=0)\n",
    "print(Vou)"
   ]
  },
  {
   "cell_type": "markdown",
   "metadata": {
    "slideshow": {
     "slide_type": "slide"
    }
   },
   "source": [
    "Compute the photoresistor resistance using the VDE."
   ]
  },
  {
   "cell_type": "code",
   "execution_count": 9,
   "metadata": {
    "ExecuteTime": {
     "end_time": "2019-10-22T21:44:37.030424Z",
     "start_time": "2019-10-22T21:44:36.323643Z"
    },
    "scrolled": true,
    "slideshow": {
     "slide_type": "-"
    }
   },
   "outputs": [
    {
     "name": "stdout",
     "output_type": "stream",
     "text": [
      "12.582781456953644\n"
     ]
    }
   ],
   "source": [
    "# parameters from VDE\n",
    "Vin =  3.3 # Volt\n",
    "R2  = 10.0 # kOhm\n",
    "\n",
    "# photoresistor resistance (by VDE) \n",
    "R1 = R2 * (Vin/Vou - 1)\n",
    "print(R1)"
   ]
  },
  {
   "cell_type": "code",
   "execution_count": 13,
   "metadata": {
    "ExecuteTime": {
     "end_time": "2019-10-22T21:44:49.496621Z",
     "start_time": "2019-10-22T21:44:39.417188Z"
    },
    "slideshow": {
     "slide_type": "slide"
    }
   },
   "outputs": [
    {
     "name": "stdout",
     "output_type": "stream",
     "text": [
      "0.00 2.835 1.638\n",
      "0.50 2.839 1.625\n",
      "1.00 2.839 1.625\n",
      "1.51 2.826 1.678\n",
      "2.01 2.806 1.759\n",
      "2.51 2.803 1.772\n",
      "3.01 2.810 1.745\n",
      "3.51 2.823 1.691\n",
      "4.01 2.823 1.691\n",
      "4.51 2.671 2.355\n",
      "5.01 2.484 3.286\n",
      "5.52 2.406 3.713\n",
      "6.02 2.390 3.806\n",
      "6.52 2.361 3.975\n",
      "7.02 2.081 5.860\n",
      "7.52 2.068 5.959\n",
      "8.02 2.710 2.179\n",
      "8.52 2.842 1.612\n",
      "9.03 2.842 1.612\n",
      "9.53 2.823 1.691\n"
     ]
    }
   ],
   "source": [
    "import time\n",
    "\n",
    "to = time.time()\n",
    "t  = to\n",
    "while t < to + 10:               # loop for 10s\n",
    "    Vou = adc.readADC(channel=0) # return voltage from photoresistor\n",
    "    R1 = R2 * (Vin/Vou - 1)      # compute resistance using the VDE\n",
    "    \n",
    "    print(format(t-to,'.2f'),\n",
    "          format( Vou,'.3f'),\n",
    "          format(  R1,'.3f'))\n",
    "    \n",
    "    time.sleep(0.5)              # wait 0.5s\n",
    "    t = time.time()"
   ]
  },
  {
   "cell_type": "markdown",
   "metadata": {
    "slideshow": {
     "slide_type": "slide"
    }
   },
   "source": [
    "<img src=\"http://www.dropbox.com/s/fcucolyuzdjl80k/todo.jpg?raw=1\" width=\"10%\" align=\"left\">\n",
    "\n",
    "Test the range of resistances you can measure by covering the photoresistor or by shining a bright light on it."
   ]
  },
  {
   "cell_type": "markdown",
   "metadata": {
    "slideshow": {
     "slide_type": "skip"
    }
   },
   "source": [
    "# Troubleshooting\n",
    "\n",
    "* **I get error messages when I run my code.**\n",
    "    * There's probably an issue with your code, not any of the components. Read the error message and try to understand what it's telling you in order to fix it.\n",
    "* **The ADC always returns 0.**\n",
    "    * You're probably having an issue communicating with the ADC, which would most likely come from a wiring problem. Double check your wiring of the ADC to make sure the connections are correct. Also double check your code for any bugs, and that the channel you're measuring isn't just connected to 0V.\n",
    "    * Make sure your sensor is wired correctly. The outer pins need to be connected to 3.3V and GND, and the center pin connected to one of the ADC channel pins.\n",
    "* **I get funky numbers from the ADC.**\n",
    "    * The most likely cause is that the pin is left floating because it's not connected to anything; simply moving your hand near the ADC can cause the values to change. Make sure there is something connected to one of the channel pins of the ADC, and make sure your code is getting data from the same channel.\n",
    "    * If that doesn't help, try swapping your photoresistor with a neighbor's. If the new one works, yours is likely broken.\n",
    "    * If your neighbor's photoresistor still gives you funky values, try your neighbor's ADC. If that one works, yours is likely broken."
   ]
  },
  {
   "cell_type": "markdown",
   "metadata": {
    "slideshow": {
     "slide_type": "slide"
    }
   },
   "source": [
    "<img src=\"https://www.dropbox.com/s/wj23ce93pa9j8pe/demo.png?raw=1\" width=\"10%\" align=\"left\">\n",
    "\n",
    "# Exercise\n",
    "\n",
    "Setup a circuit with a photoresistor and a blinking LED. Program the LED to blink proportionally with the light intensity (slower in the dark)."
   ]
  }
 ],
 "metadata": {
  "celltoolbar": "Slideshow",
  "hide_input": false,
  "kernelspec": {
   "display_name": "Python 3 (ipykernel)",
   "language": "python",
   "name": "python3"
  },
  "language_info": {
   "codemirror_mode": {
    "name": "ipython",
    "version": 3
   },
   "file_extension": ".py",
   "mimetype": "text/x-python",
   "name": "python",
   "nbconvert_exporter": "python",
   "pygments_lexer": "ipython3",
   "version": "3.9.2"
  },
  "varInspector": {
   "cols": {
    "lenName": 16,
    "lenType": 16,
    "lenVar": 40
   },
   "kernels_config": {
    "python": {
     "delete_cmd_postfix": "",
     "delete_cmd_prefix": "del ",
     "library": "var_list.py",
     "varRefreshCmd": "print(var_dic_list())"
    },
    "r": {
     "delete_cmd_postfix": ") ",
     "delete_cmd_prefix": "rm(",
     "library": "var_list.r",
     "varRefreshCmd": "cat(var_dic_list()) "
    }
   },
   "types_to_exclude": [
    "module",
    "function",
    "builtin_function_or_method",
    "instance",
    "_Feature"
   ],
   "window_display": false
  }
 },
 "nbformat": 4,
 "nbformat_minor": 4
}
