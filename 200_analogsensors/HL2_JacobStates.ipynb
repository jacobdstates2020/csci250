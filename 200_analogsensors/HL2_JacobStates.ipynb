{
 "cells": [
  {
   "cell_type": "markdown",
   "metadata": {
    "slideshow": {
     "slide_type": "slide"
    }
   },
   "source": [
    "<img src=\"https://www.mines.edu/webcentral/wp-content/uploads/sites/267/2019/02/horizontallightbackground.jpg\" width=\"100%\"> \n",
    "### CSCI250 Python Computing: Building a Sensor System\n",
    "<hr style=\"height:5px\" width=\"100%\" align=\"left\">\n",
    "\n",
    "# LAB: Night light\n",
    "## Jacob States"
   ]
  },
  {
   "cell_type": "markdown",
   "metadata": {
    "slideshow": {
     "slide_type": "slide"
    }
   },
   "source": [
    "# Introduction\n",
    "\n",
    "The goal of this lab is to connect and collect data from analog devices and capture them in digital form using an Analog-Digital Converter. \n",
    "\n",
    "You will configure an LED to turn on/off based on the amount of ambient light detected with a photoresistor. \n",
    "\n",
    "You will also use a potentiometer to set the threshold indicating when the LED needs to be turned on/off. "
   ]
  },
  {
   "cell_type": "markdown",
   "metadata": {
    "slideshow": {
     "slide_type": "slide"
    }
   },
   "source": [
    "<img src=\"https://www.dropbox.com/s/u628vjn2uc5h3ua/notebook.png?raw=1\" width=\"10%\" align=\"right\">\n",
    "\n",
    "Read through\n",
    "* the [ADC notebook](h_ADC.ipynb)  to learn how to measure analog voltages;\n",
    "* the [Potentiometer notebook](h_Potentiometer.ipynb)  to learn how to control voltages;\n",
    "* the [Photoresistor notebook](h_Photoresistor.ipynb)  to understand how to connect it correctly.\n",
    "\n",
    "**Build the circuits in all notebooks to ensure that everything works correctly.**"
   ]
  },
  {
   "cell_type": "markdown",
   "metadata": {
    "slideshow": {
     "slide_type": "skip"
    }
   },
   "source": [
    "# Pre-lab questions\n",
    "\n",
    "### Potentiometer\n",
    "1. How does the output voltage change as you turn the knob of the potentiometer?\n",
    "    * As you turn the knob all the way \"up\" it reads 3.3 V and \"down\" as 0.0 V. As you turn the knob between \"up\" and \"down\" it varies the voltage linearly between 3.3 V and 0.0V\n",
    "2. What do you think would happen if you connected the output of the potentiometer to a GPIO pin? (Try it!)\n",
    "    * Then the GPIO pin would read 0 or 1 depending on if the potentiometer is set to a high enough voltage to overcome the threshhold for the pin to read 1 (>1.8).\n",
    "3. What could happen if you connected 3.3V and GND to an outer and the middle pins? (Don't try it!)\n",
    "    * If the knob is turned all the way up or down then it could short the potentiometer.\n",
    "\n",
    "### Photoresistor\n",
    "1. How must the photoresistor be wired in order to use it? (Hint: this configuration has a name!)\n",
    "    * In series with a 10 kohm resistor in a circuit called a voltage divider.\n",
    "2. How does the resistance change with light intensity?\n",
    "    * The resistance of the circuit increases with decreasing light intensity.\n",
    "3. What range of resistances do you measure from the photoresistor?\n",
    "    * Between 1-10 kohm "
   ]
  },
  {
   "cell_type": "markdown",
   "metadata": {
    "slideshow": {
     "slide_type": "slide"
    }
   },
   "source": [
    "# Directions\n",
    "\n",
    "To create a night light, use the photoresistor to detect when it gets dark (you can simulate darkness by covering the sensor with your hand), then turn on an LED. \n",
    "\n",
    "You will use the potentiometer to set a threshold for the darkness level at which to turn on the LED."
   ]
  },
  {
   "cell_type": "markdown",
   "metadata": {
    "slideshow": {
     "slide_type": "slide"
    }
   },
   "source": [
    "* Measure voltages from the potentiometer and the photoresistor.\n",
    "* Calculate the resistance of the photoresistor from the measured voltage.\n",
    "\n",
    "* Use the potentiometer voltage to determine the **threshold resistance** of the photoresistor.\n",
    "    * Map linearly the potentiometer voltage to the photoresistor resistance.\n",
    "    \n",
    "* When the photoresistor **resistance** is above threshold resistance, turn on the LED.\n",
    "* When the photoresistor resistance is below the threshold resistance, turn off the LED. "
   ]
  },
  {
   "cell_type": "markdown",
   "metadata": {
    "slideshow": {
     "slide_type": "slide"
    }
   },
   "source": [
    "## Hints\n",
    "\n",
    "To compute the photoresistor threshold resistance from the potentiometer voltage, think this way:\n",
    "\n",
    "* The potentiometer voltage is between $V_{min}=0V$ and $V_{max}=3.3V$.\n",
    "* The photoresistor resistance is between $R_{min}=1k\\Omega$ and $R_{max}=10k\\Omega$.\n",
    "* We seek a linear relation between the measured voltage (of the potentiometer) and the target resistance (of the photoresistor).\n",
    "$$ R = m V + b$$\n",
    "* Compute the slope $m$ by\n",
    "$$ m = \\dfrac{R_{max}-R_{min}}{V_{max}-V_{min}} $$\n",
    "\n",
    "* Compute the intercept $b$ by:\n",
    "$$ b = R_{min} - m V_{min}$$\n",
    "\n",
    "* Therefore, for a **potentiometer voltage** $V$, we can compute the **threshold resistance** of the photoresistor as\n",
    "$$ R_{threshold} = m V_{potentiometer} + b$$"
   ]
  },
  {
   "cell_type": "markdown",
   "metadata": {
    "slideshow": {
     "slide_type": "slide"
    }
   },
   "source": [
    "To make it easier for us to test your code, connect \n",
    "* the photoresistor on the ADC CH0 \n",
    "* the potentiometer on the ADC CH1 \n",
    "* the LED to GPIO pin 27.\n",
    "\n",
    "If you decide to do extra credit with different hardware, please specify the pin connections."
   ]
  },
  {
   "cell_type": "markdown",
   "metadata": {
    "slideshow": {
     "slide_type": "slide"
    }
   },
   "source": [
    "## Extra credit:\n",
    "Use multiple LEDs to generate more or less artificial light for different conditions of the ambient light. "
   ]
  },
  {
   "cell_type": "markdown",
   "metadata": {
    "slideshow": {
     "slide_type": "slide"
    }
   },
   "source": [
    "# Starter code\n",
    "\n",
    "Starter code is provided below. Use comments throughout your code so we can understand what it does. Even if you can't figure out how to write the code for something, a comment explaining what you wanted will get partial credit."
   ]
  },
  {
   "cell_type": "code",
   "execution_count": null,
   "metadata": {
    "slideshow": {
     "slide_type": "slide"
    }
   },
   "outputs": [],
   "source": [
    "# useful libraries\n",
    "import RPi.GPIO as GPIO\n",
    "import adcUtil as adc\n",
    "\n",
    "# Set pin for LED\n",
    "pinLED = 27\n",
    "GPIO.setmode(GPIO.BCM)\n",
    "GPIO.setup(pinLED, GPIO.OUT)\n",
    "\n",
    "# Define variables\n",
    "#R_photo = adc.readADC(channel=0)\n",
    "#V_pot = adc.readADC(channel=1)\n",
    "\n",
    "R_phomax = 10 #(kohm)\n",
    "R_phomin = 1 #(kohm)\n",
    "V_potmax = 3.3 # (V)\n",
    "V_potmin = 0 # (V)\n",
    "\n",
    "m = (R_phomax - R_phomin)/(V_potmax - V_potmin)\n",
    "b = (R_phomin - (m*V_potmin))\n",
    "\n",
    "#R_thresh = (m*V_pot) + b\n",
    "\n",
    "try:\n",
    "    while True:\n",
    "        R_photo = adc.readADC(channel=0)\n",
    "        V_pot = adc.readADC(channel=1)\n",
    "        R_thresh = (m*V_pot) + b\n",
    "        if R_photo > R_thresh:\n",
    "            GPIO.output(pinLED, 1)\n",
    "            R_photo = adc.readADC(channel=0)\n",
    "            V_pot = adc.readADC(channel=1)\n",
    "            R_thresh = (m*V_pot) + b\n",
    "        else:\n",
    "            GPIO.output(pinLED, 0)\n",
    "            R_photo = adc.readADC(channel=0)\n",
    "            V_pot = adc.readADC(channel=1)\n",
    "            R_thresh = (m*V_pot) + b\n",
    "except(KeyboardInterrupt, SystemExit):\n",
    "    print(\"Interrupt!\")\n",
    "\n",
    "finally:\n",
    "    print(\"Done!\")\n",
    "    GPIO.cleanup() # close GPIO"
   ]
  },
  {
   "cell_type": "markdown",
   "metadata": {
    "slideshow": {
     "slide_type": "skip"
    }
   },
   "source": [
    "# Post lab\n",
    "\n",
    "<img src=\"http://www.dropbox.com/s/fcucolyuzdjl80k/todo.jpg?raw=1\" width=\"10%\" align=\"right\">\n",
    "\n",
    "Before you submit the lab, make sure everything works as you expect by restarting the kernel: select **Kernel > Restart & Run All**.\n",
    "\n",
    "Answer the following questions.\n",
    "\n",
    "1. What elements of this lab did you find easy/challenging?\n",
    "    * The logic and understanding how the try statement works.\n",
    "2. What did you like/dislike about this lab?\n",
    "    * I really enjoyed the hardware side of this lab.\n",
    "3. If you did anything worthy of extra credit, tell us about it here!\n",
    "    * No ;("
   ]
  },
  {
   "cell_type": "markdown",
   "metadata": {
    "slideshow": {
     "slide_type": "skip"
    }
   },
   "source": [
    "# Submit\n",
    "* Make sure to update your name and department in the top markdown cell.\n",
    "\n",
    "* Rename the Jupyter notebook with the following convention:\n",
    "**HL?-FirstLast.ipynb** (replace ? with the lab number)\n",
    "\n",
    "* Turn in your Jupyter notebook on Canvas. Email submissions don't count.\n",
    "\n",
    "* Include pictures of all the circuits you made."
   ]
  },
  {
   "cell_type": "markdown",
   "metadata": {
    "slideshow": {
     "slide_type": "slide"
    }
   },
   "source": [
    "# Honor code\n",
    "Unless explicitly specified, labs are **individual exercises**. Your submission is subject to the [**Mines Honor Code**](http://inside.mines.edu/~epoeter/_GW/CSMHonorCodeUndergradHandbook.pdf)."
   ]
  }
 ],
 "metadata": {
  "celltoolbar": "Slideshow",
  "kernelspec": {
   "display_name": "Python 3 (ipykernel)",
   "language": "python",
   "name": "python3"
  },
  "language_info": {
   "codemirror_mode": {
    "name": "ipython",
    "version": 3
   },
   "file_extension": ".py",
   "mimetype": "text/x-python",
   "name": "python",
   "nbconvert_exporter": "python",
   "pygments_lexer": "ipython3",
   "version": "3.9.2"
  },
  "varInspector": {
   "cols": {
    "lenName": 16,
    "lenType": 16,
    "lenVar": 40
   },
   "kernels_config": {
    "python": {
     "delete_cmd_postfix": "",
     "delete_cmd_prefix": "del ",
     "library": "var_list.py",
     "varRefreshCmd": "print(var_dic_list())"
    },
    "r": {
     "delete_cmd_postfix": ") ",
     "delete_cmd_prefix": "rm(",
     "library": "var_list.r",
     "varRefreshCmd": "cat(var_dic_list()) "
    }
   },
   "types_to_exclude": [
    "module",
    "function",
    "builtin_function_or_method",
    "instance",
    "_Feature"
   ],
   "window_display": false
  }
 },
 "nbformat": 4,
 "nbformat_minor": 4
}
