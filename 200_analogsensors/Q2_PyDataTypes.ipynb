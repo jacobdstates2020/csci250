{
 "cells": [
  {
   "cell_type": "markdown",
   "id": "35a935cd",
   "metadata": {},
   "source": [
    "Your goal is to determine the type of data input to your code, and do something with the data based on its type. Use the provided function to acquire the data, then return a value based on the rules below for each type of data.\n",
    "\n",
    "- Integer\n",
    "    - Subtract 3 from the number, then return the square of that value.\n",
    "- Float\n",
    "    - Divide the number by 5, then multiply by 3.14. Return this new number.\n",
    "- List\n",
    "    - Return the sum of all values in the list\n",
    "- String\n",
    "    - Convert the entire string into lower case characters, then return the first 4 characters.\n",
    "\n",
    "For example, if the input is the list [1,2,3], your code should return 6."
   ]
  },
  {
   "cell_type": "code",
   "execution_count": 111,
   "id": "7a930d5f",
   "metadata": {},
   "outputs": [],
   "source": [
    "def determineType(data) :\n",
    "    if type(data) is int :\n",
    "        iType = (data - 3)**2\n",
    "        return iType\n",
    "    elif type(data) is float :\n",
    "        fType = (data/5)*3.14\n",
    "        return fType\n",
    "    elif type(data) is list :\n",
    "        lType = sum(data)\n",
    "        return lType\n",
    "    elif type(data) is str :\n",
    "        sType = data.lower()\n",
    "        return sType[0:4]\n",
    "    else :\n",
    "        print(data, 'is not an int, float, list, or string. Its', str(type(data)))"
   ]
  },
  {
   "cell_type": "markdown",
   "id": "47989726",
   "metadata": {},
   "source": [
    "Your goal is to print() the first n words from a string given to you using input(). The first character in the string will be n, the rest is the message to be truncated.\n",
    "\n",
    "For example, if the given message is \"1 Hello world!\", your code should print \"Hello\""
   ]
  },
  {
   "cell_type": "code",
   "execution_count": 144,
   "id": "bcb11187",
   "metadata": {},
   "outputs": [],
   "source": [
    "import string\n",
    "\n",
    "def wordTrunc():\n",
    "    message = input()\n",
    "    pct = string.punctuation\n",
    "    trn = str.maketrans('','',pct)\n",
    "    message = message.translate(trn)\n",
    "    words = message.split()\n",
    "    w = 0\n",
    "    msgTrunc = ''\n",
    "    \n",
    "    while w <= int(words[0]) :\n",
    "        msgTrunc += words[1+w]\n",
    "        w += 1\n",
    "        return msgTrunc"
   ]
  },
  {
   "cell_type": "code",
   "execution_count": 114,
   "id": "447d85b5",
   "metadata": {},
   "outputs": [
    {
     "name": "stdout",
     "output_type": "stream",
     "text": [
      "['1', 'Hello', 'world!']\n"
     ]
    }
   ],
   "source": [
    "message = \"1 Hello world!\"\n",
    "words = message.split()\n",
    "\n",
    "print(words)"
   ]
  },
  {
   "cell_type": "code",
   "execution_count": 121,
   "id": "34cda90a",
   "metadata": {},
   "outputs": [
    {
     "name": "stdout",
     "output_type": "stream",
     "text": [
      "['1', 'Hello', 'world']\n",
      "1 Hello world\n",
      "1\n",
      "<class 'int'>\n"
     ]
    }
   ],
   "source": [
    "import string\n",
    "\n",
    "pct = string.punctuation\n",
    "trn = str.maketrans('','',pct)\n",
    "message = message.translate(trn)\n",
    "words = message.split()\n",
    "    \n",
    "print(words)\n",
    "print(message)\n",
    "print(int(words[0]))\n",
    "print(type(int(words[0])))"
   ]
  },
  {
   "cell_type": "code",
   "execution_count": 145,
   "id": "34d86262",
   "metadata": {},
   "outputs": [
    {
     "name": "stdout",
     "output_type": "stream",
     "text": [
      "1 Hello world!\n"
     ]
    },
    {
     "data": {
      "text/plain": [
       "'Hello'"
      ]
     },
     "execution_count": 145,
     "metadata": {},
     "output_type": "execute_result"
    }
   ],
   "source": [
    "wordTrunc()"
   ]
  },
  {
   "cell_type": "code",
   "execution_count": null,
   "id": "0e0b5891",
   "metadata": {},
   "outputs": [],
   "source": []
  }
 ],
 "metadata": {
  "kernelspec": {
   "display_name": "Python 3 (ipykernel)",
   "language": "python",
   "name": "python3"
  },
  "language_info": {
   "codemirror_mode": {
    "name": "ipython",
    "version": 3
   },
   "file_extension": ".py",
   "mimetype": "text/x-python",
   "name": "python",
   "nbconvert_exporter": "python",
   "pygments_lexer": "ipython3",
   "version": "3.9.2"
  }
 },
 "nbformat": 4,
 "nbformat_minor": 5
}
