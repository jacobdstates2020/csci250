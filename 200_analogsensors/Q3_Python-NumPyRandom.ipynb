{
 "cells": [
  {
   "cell_type": "markdown",
   "id": "579c5505",
   "metadata": {},
   "source": [
    "Using the provided function, first apply the given seed to the random number generator to ensure your results match the answer. Then create a normal distribution of size n with the given center and standard deviation. Calculate the mean and standard deviation of your generated distribution, and return these as a list in that order (eg [mean, std]). Note that these will be different from the provided values due to randomness."
   ]
  },
  {
   "cell_type": "code",
   "execution_count": null,
   "id": "8d516f12",
   "metadata": {},
   "outputs": [],
   "source": [
    "# Provided function\n",
    "import numpy.random as rng\n",
    "import numpy as np\n",
    "\n",
    "def myRandom(seed, center, std, n):\n",
    "    "
   ]
  },
  {
   "cell_type": "code",
   "execution_count": 4,
   "id": "28cf8bcb",
   "metadata": {},
   "outputs": [],
   "source": [
    "import numpy.random as rng\n",
    "import numpy as np\n",
    "\n",
    "def myRandom(seed, center, std, n):\n",
    "    rng.seed(seed)\n",
    "    norm = rng.normal(center, std, n)\n",
    "    statMean = np.mean(norm)\n",
    "    statStd = np.std(norm)\n",
    "    statList = [statMean , statStd]\n",
    "    return statList"
   ]
  },
  {
   "cell_type": "code",
   "execution_count": 7,
   "id": "e83a889c",
   "metadata": {},
   "outputs": [
    {
     "data": {
      "text/plain": [
       "[7.39864623397384, 5.068367253964412]"
      ]
     },
     "execution_count": 7,
     "metadata": {},
     "output_type": "execute_result"
    }
   ],
   "source": [
    "myRandom(5, 5, 5, 5)"
   ]
  },
  {
   "cell_type": "code",
   "execution_count": null,
   "id": "c4a346fb",
   "metadata": {},
   "outputs": [],
   "source": []
  }
 ],
 "metadata": {
  "kernelspec": {
   "display_name": "Python 3 (ipykernel)",
   "language": "python",
   "name": "python3"
  },
  "language_info": {
   "codemirror_mode": {
    "name": "ipython",
    "version": 3
   },
   "file_extension": ".py",
   "mimetype": "text/x-python",
   "name": "python",
   "nbconvert_exporter": "python",
   "pygments_lexer": "ipython3",
   "version": "3.9.2"
  }
 },
 "nbformat": 4,
 "nbformat_minor": 5
}
