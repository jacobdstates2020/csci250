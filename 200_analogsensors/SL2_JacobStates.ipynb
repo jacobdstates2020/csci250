{
 "cells": [
  {
   "cell_type": "markdown",
   "metadata": {
    "slideshow": {
     "slide_type": "slide"
    }
   },
   "source": [
    "<img src=\"https://www.mines.edu/webcentral/wp-content/uploads/sites/267/2019/02/horizontallightbackground.jpg\" width=\"100%\"> \n",
    "\n",
    "### CSCI250 Python Computing: Building a Sensor System\n",
    "<hr style=\"height:5px\" width=\"100%\" align=\"left\">\n",
    "\n",
    "# LAB: Numeric integration\n",
    "## Jacob States"
   ]
  },
  {
   "cell_type": "markdown",
   "metadata": {
    "slideshow": {
     "slide_type": "slide"
    }
   },
   "source": [
    "# Introduction\n",
    "\n",
    "The goal of this lab is to compute the definite integral of an arbitrary function for different numeric schemes using only \n",
    "* `numpy` arrays (no lists)\n",
    "* **vectorized calculations** (no loops)."
   ]
  },
  {
   "cell_type": "markdown",
   "metadata": {
    "slideshow": {
     "slide_type": "slide"
    }
   },
   "source": [
    "<img src=\"https://www.dropbox.com/s/u628vjn2uc5h3ua/notebook.png?raw=1\" width=\"10%\" align=\"right\">\n",
    "\n",
    "Read through\n",
    "* the  [`numpy` notebook](s_NpIntro.ipynb)\n",
    "* the  [1D arrays notebook](s_NpArrays1D.ipynb) \n",
    "* the  [1D plot notebook](s_NpPlots1D.ipynb)\n",
    "* the  [vectorization notebook](s_NpVectorization.ipynb)"
   ]
  },
  {
   "cell_type": "markdown",
   "metadata": {
    "slideshow": {
     "slide_type": "slide"
    }
   },
   "source": [
    "# Definite integrals\n",
    "\n",
    "Compute the definite integral of a function $f(t)$ on the interval $[a,b]$\n",
    "\n",
    "$$ I = \\int_a^b f(t) dt $$\n",
    "\n",
    "by midpoint and trapezoid approximations using $n$ intervals of equal width $\\Delta t$. \n",
    "\n",
    "The primary difference between these approximations consists in how we evaluate the area under the function within each discretization interval."
   ]
  },
  {
   "cell_type": "markdown",
   "metadata": {
    "slideshow": {
     "slide_type": "slide"
    }
   },
   "source": [
    "# Midpoint rule\n",
    "\n",
    "Let $m_k$ represent the middle value of the $k$-th integration interval:\n",
    "\n",
    "$$ m_k = a + \\left(k+\\frac{1}{2} \\right) \\frac{b-a}{n} $$\n",
    "\n",
    "where $0 \\le k \\le n-1$. "
   ]
  },
  {
   "cell_type": "code",
   "execution_count": 1,
   "metadata": {},
   "outputs": [
    {
     "name": "stdout",
     "output_type": "stream",
     "text": [
      "[1. 3. 5. 7. 9.]\n"
     ]
    }
   ],
   "source": [
    "import numpy as np\n",
    "a,b,n = 0,10,5\n",
    "dt = (b-a) / n\n",
    "\n",
    "k = np.arange(n)\n",
    "mk = a + (k + 0.5) * dt\n",
    "print(mk)"
   ]
  },
  {
   "cell_type": "markdown",
   "metadata": {
    "slideshow": {
     "slide_type": "slide"
    }
   },
   "source": [
    "<img src=\"https://upload.wikimedia.org/wikipedia/commons/thumb/2/26/Integration_rectangle.svg/1920px-Integration_rectangle.svg.png\">\n",
    "\n",
    "[more info](http://www.math.pitt.edu/~sparling/23021/23022numapprox2/node4.html)"
   ]
  },
  {
   "cell_type": "markdown",
   "metadata": {
    "slideshow": {
     "slide_type": "slide"
    }
   },
   "source": [
    "* The integral approximation is\n",
    "$$ I_m \\approx \\frac{b-a}{n} \\sum_{k=0}^{n-1} f(m_k) .$$\n",
    "\n",
    "* The integration error is\n",
    "$$ E_m \\le \\frac{K}{24 n^2} (b-a)^3 .$$\n",
    "where $K$ is the max of $|f''(t)|$ on the interval $(a,b)$.\n",
    "\n",
    "* The number of terms required to achieve tolerance $s$ is\n",
    "$$ N_m \\ge \\sqrt{\\frac{K(b-a)^3}{24s} } .$$"
   ]
  },
  {
   "cell_type": "markdown",
   "metadata": {
    "slideshow": {
     "slide_type": "slide"
    }
   },
   "source": [
    "# Trapezoid rule\n",
    "\n",
    "Let $t_k$ represent the edge of the $k$-th integration interval:\n",
    "\n",
    "$$ t_k = a + k \\frac{b-a}{n}$$\n",
    "\n",
    "where $0 \\le k \\le n$. "
   ]
  },
  {
   "cell_type": "code",
   "execution_count": 2,
   "metadata": {},
   "outputs": [
    {
     "name": "stdout",
     "output_type": "stream",
     "text": [
      "[ 0.  2.  4.  6.  8. 10.]\n"
     ]
    }
   ],
   "source": [
    "import numpy as np\n",
    "a,b,n = 0,10,5\n",
    "dt = (b-a)/n\n",
    "\n",
    "k = np.arange(n+1)\n",
    "tk = a + k * dt\n",
    "print(tk)"
   ]
  },
  {
   "cell_type": "markdown",
   "metadata": {
    "slideshow": {
     "slide_type": "slide"
    }
   },
   "source": [
    "<img src=\"https://upload.wikimedia.org/wikipedia/commons/thumb/0/03/Integration_trapezoid.svg/1920px-Integration_trapezoid.svg.png\">\n",
    "\n",
    "[more info](http://www.math.pitt.edu/~sparling/23021/23022numapprox2/node2.html)"
   ]
  },
  {
   "cell_type": "markdown",
   "metadata": {
    "slideshow": {
     "slide_type": "slide"
    }
   },
   "source": [
    "* The integral approximation is\n",
    "$$ I_t \\approx \\frac{b-a}{2n} \n",
    "\\left[\n",
    "f(t_0) + \n",
    "\\left(\n",
    "\\sum_{k=1}^{n-1} 2f(t_k) \n",
    "\\right) +\n",
    "f(t_n)\n",
    "\\right].\n",
    "$$\n",
    "\n",
    "* The integration error is \n",
    "$$ E_t \\le \\frac{K}{12 n^2} (b-a)^3 .$$\n",
    "where $K$ is the max of $|f''(t)|$ on the  interval $(a,b)$.\n",
    "\n",
    "* The number of terms required to achieve tolerance $s$ is\n",
    "$$ N_t \\ge \\sqrt{\\frac{K(b-a)^3}{12s} } .$$"
   ]
  },
  {
   "cell_type": "markdown",
   "metadata": {
    "slideshow": {
     "slide_type": "slide"
    }
   },
   "source": [
    "### Instructions (1)\n",
    "\n",
    "* Define functions approximating $f(t)$ and $f''(t)$:\n",
    "    * You may choose any function, e.g. $sin(t)$.\n",
    "    * Compute its analytic 2nd derivative , e.g. $-sin(t)$.\n",
    "\n",
    "* Define the integration interval:\n",
    "    * Choose values for $[a,b]$, e.g. $[0,\\pi]$.\n",
    "\n",
    "* Define the number of integration intervals:\n",
    "    * Choose $n$, e.g. $n=9$.\n",
    "    * Define an array for index $k$ from $0$ to $n$."
   ]
  },
  {
   "cell_type": "markdown",
   "metadata": {
    "slideshow": {
     "slide_type": "slide"
    }
   },
   "source": [
    "### Instructions (2)\n",
    "* Define the coordinates $m_k$ or $t_k$ where to evaluate the function $f(t)$ during integration:\n",
    "    * Divide the interval $[a,b]$ in equal segments.\n",
    "    * Choose the middle or the left end of the segments.\n",
    "* Display the integral and its error with 4 significant figures.\n",
    "* Use vectorized `numpy` calculations (do not use explicit loops)."
   ]
  },
  {
   "cell_type": "markdown",
   "metadata": {
    "slideshow": {
     "slide_type": "slide"
    }
   },
   "source": [
    "# Assignment\n",
    "\n",
    "* Calculate the definite integral of the function $f(t)$.\n",
    "* Use both midpoint and trapezoid rules.\n",
    "* Calculate the integral error $E$.\n",
    "* Calculate the number of interval needed to achieve a tolerance of 0.0001.\n",
    "* Graph the integral value versus the number of intervals."
   ]
  },
  {
   "cell_type": "markdown",
   "metadata": {
    "slideshow": {
     "slide_type": "slide"
    }
   },
   "source": [
    "## Extra credit\n",
    "* Implement another numeric integration scheme, different from midpoint and trapezoid."
   ]
  },
  {
   "cell_type": "code",
   "execution_count": 3,
   "metadata": {},
   "outputs": [
    {
     "name": "stdout",
     "output_type": "stream",
     "text": [
      "Midpoint integral approx: 1.9998982134334127 \n",
      " Number of intervals:  201 \n",
      " Actual Integral Value: 2.0 \n",
      " Actual Error: 0.00010178656658732521 \n",
      " Minimum Midpoint Error, Em:  9.971097819239551e-05 \n",
      " Tolerance:  0.0001 \n",
      " Number of terms to meet tolerance:  200.7093229013284\n"
     ]
    },
    {
     "data": {
      "text/plain": [
       "[<matplotlib.lines.Line2D at 0xac9bc100>]"
      ]
     },
     "execution_count": 3,
     "metadata": {},
     "output_type": "execute_result"
    },
    {
     "data": {
      "image/png": "[encoded data removed]",
      "text/plain": [
       "<Figure size 640x480 with 1 Axes>"
      ]
     },
     "metadata": {},
     "output_type": "display_data"
    }
   ],
   "source": [
    "# Import Modules\n",
    "import numpy as np\n",
    "import matplotlib.pyplot as plt\n",
    "\n",
    "# Define f(t), f''(t), and interval\n",
    "a, b = 0, np.pi\n",
    "n = 201\n",
    "\n",
    "dt = (b-a) / n\n",
    "k = np.arange(n-1)\n",
    "mk = a + (k + 0.5) * dt\n",
    "\n",
    "F = -np.cos(mk)\n",
    "f = np.sin(mk)\n",
    "f_p = np.cos(mk)\n",
    "f_2p = - np.sin(mk)\n",
    "\n",
    "# Midpoint Rule\n",
    "\n",
    "I_m = np.sum(f*dt)\n",
    "F_a = -np.cos(b) + np.cos(a)\n",
    "\n",
    "# Midpoint E\n",
    "i = b-a\n",
    "Km = np.max(mk)\n",
    "Em = (Km)*(i**3)/(24*(n**2))\n",
    "\n",
    "# Midpoint Tolerance Terms\n",
    "s = 0.0001 # tolerance\n",
    "N_m = np.sqrt((Km)*(i**3)/(24*s))\n",
    "\n",
    "print('Midpoint integral approx:',I_m,'\\n','Number of intervals: ',n, '\\n','Actual Integral Value:',F_a,'\\n','Actual Error:',F_a - I_m,'\\n', 'Minimum Midpoint Error, Em: ',Em, '\\n', 'Tolerance: ', s, '\\n', 'Number of terms to meet tolerance: ', N_m)\n",
    "\n",
    "plt.plot(np.cumsum(f*dt))"
   ]
  },
  {
   "cell_type": "code",
   "execution_count": 4,
   "metadata": {},
   "outputs": [
    {
     "name": "stdout",
     "output_type": "stream",
     "text": [
      "Trapazoidal integral approx: 1.9997760691307878 \n",
      " Number of intervals:  201 \n",
      " Actual Integral Value: 2.0 \n",
      " Actual Error: 0.00022393086921224103 \n",
      " Minimum Trapazoidal Error, Et:  0.0002014211739926586 \n",
      " Tolerance:  0.0001 \n",
      " Number of terms to meet tolerance:  285.2650846226611\n"
     ]
    },
    {
     "data": {
      "text/plain": [
       "[<matplotlib.lines.Line2D at 0xac91c4d8>]"
      ]
     },
     "execution_count": 4,
     "metadata": {},
     "output_type": "execute_result"
    },
    {
     "data": {
      "image/png": "[encoded data removed]",
      "text/plain": [
       "<Figure size 640x480 with 1 Axes>"
      ]
     },
     "metadata": {},
     "output_type": "display_data"
    }
   ],
   "source": [
    "# Define f(t), f''(t), and interval\n",
    "a, b = 0, np.pi\n",
    "n = 201\n",
    "\n",
    "dt_t = (b-a) / (2*n)\n",
    "k = np.arange(n+1)\n",
    "tk = a + (k + 0.5) * dt\n",
    "\n",
    "F_t = -np.cos(tk)\n",
    "f_t = np.sin(tk)\n",
    "f_pt = np.cos(tk)\n",
    "f_2pt = - np.sin(tk)\n",
    "\n",
    "# Trapazoidal Rule\n",
    "\n",
    "I_t = dt_t*(f_t[0] + np.sum(2*f_t[1:n-1]) + f_t[n])\n",
    "F_a = -np.cos(b) + np.cos(a)\n",
    "\n",
    "# Trapazoidal Error\n",
    "i = b-a\n",
    "Kt = np.max(tk)\n",
    "Et = (Kt)*(i**3)/(12*(n**2))\n",
    "\n",
    "# Trapazoidal Tolerance Terms\n",
    "s = 0.0001 # tolerance\n",
    "N_t = np.sqrt((Kt)*(i**3)/(12*s))\n",
    "\n",
    "print('Trapazoidal integral approx:',I_t,'\\n','Number of intervals: ',n, '\\n','Actual Integral Value:',F_a,'\\n','Actual Error:',F_a - I_t,'\\n', 'Minimum Trapazoidal Error, Et: ',Et, '\\n', 'Tolerance: ', s, '\\n', 'Number of terms to meet tolerance: ', N_t)\n",
    "plt.plot(dt_t*(f_t[0] + f_t[n] + np.cumsum(2*f_t[1:n-1])))"
   ]
  },
  {
   "cell_type": "markdown",
   "metadata": {
    "slideshow": {
     "slide_type": "skip"
    }
   },
   "source": [
    "# Post lab\n",
    "\n",
    "<img src=\"http://www.dropbox.com/s/fcucolyuzdjl80k/todo.jpg?raw=1\" width=\"10%\" align=\"right\">\n",
    "\n",
    "Before you submit the lab, make sure everything works as you expect by restarting the kernel: select **Kernel > Restart & Run All**.\n",
    "\n",
    "Answer the following questions.\n",
    "1. What elements of this lab did you find easy/challenging?\n",
    "    * Im still unsure about useing some of the extra parameters for the numpy functions. I just need practice.\n",
    "2. What did you like/dislike about this lab?\n",
    "    * I like looking and building processes that computers go through to calculate numbers.\n",
    "3. If you did anything worthy of extra credit, tell us about it here!\n",
    "    * None"
   ]
  },
  {
   "cell_type": "markdown",
   "metadata": {
    "slideshow": {
     "slide_type": "skip"
    }
   },
   "source": [
    "# Submit\n",
    "* Make sure to update your name and department in the top markdown cell.\n",
    "\n",
    "* Rename the Jupyter notebook with the following convention:\n",
    "**SL?-FirstLast.ipynb** (replace ? with the lab number)\n",
    "\n",
    "* Turn in your Jupyter notebook on Canvas. Email submissions don't count."
   ]
  },
  {
   "cell_type": "markdown",
   "metadata": {
    "slideshow": {
     "slide_type": "slide"
    }
   },
   "source": [
    "# Honor code\n",
    "Unless explicitly specified, labs are **individual exercises**. Your submission is subject to the [**Mines Honor Code**](http://inside.mines.edu/~epoeter/_GW/CSMHonorCodeUndergradHandbook.pdf)."
   ]
  }
 ],
 "metadata": {
  "celltoolbar": "Slideshow",
  "hide_input": false,
  "kernelspec": {
   "display_name": "Python 3 (ipykernel)",
   "language": "python",
   "name": "python3"
  },
  "language_info": {
   "codemirror_mode": {
    "name": "ipython",
    "version": 3
   },
   "file_extension": ".py",
   "mimetype": "text/x-python",
   "name": "python",
   "nbconvert_exporter": "python",
   "pygments_lexer": "ipython3",
   "version": "3.9.2"
  },
  "varInspector": {
   "cols": {
    "lenName": 16,
    "lenType": 16,
    "lenVar": 40
   },
   "kernels_config": {
    "python": {
     "delete_cmd_postfix": "",
     "delete_cmd_prefix": "del ",
     "library": "var_list.py",
     "varRefreshCmd": "print(var_dic_list())"
    },
    "r": {
     "delete_cmd_postfix": ") ",
     "delete_cmd_prefix": "rm(",
     "library": "var_list.r",
     "varRefreshCmd": "cat(var_dic_list()) "
    }
   },
   "types_to_exclude": [
    "module",
    "function",
    "builtin_function_or_method",
    "instance",
    "_Feature"
   ],
   "window_display": false
  }
 },
 "nbformat": 4,
 "nbformat_minor": 4
}
