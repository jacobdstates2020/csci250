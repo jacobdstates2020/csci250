{
 "cells": [
  {
   "cell_type": "markdown",
   "metadata": {
    "slideshow": {
     "slide_type": "slide"
    }
   },
   "source": [
    "<img src=\"https://www.mines.edu/webcentral/wp-content/uploads/sites/267/2019/02/horizontallightbackground.jpg\" width=\"100%\"> \n",
    "\n",
    "### CSCI250 Python Computing: Building a Sensor System\n",
    "<hr style=\"height:5px\" width=\"100%\" align=\"left\">\n",
    "\n",
    "# Thermometer"
   ]
  },
  {
   "cell_type": "markdown",
   "metadata": {
    "slideshow": {
     "slide_type": "slide"
    }
   },
   "source": [
    "# Introduction\n",
    "\n",
    "<img src=\"https://cdn.sparkfun.com//assets/parts/4/1/8/8/10988-01.jpg\" width=\"30%\" align=\"right\">\n",
    "\n",
    "**Thermometers** are devices used to measure temperature. The sensors in the kits are solid state devices (diodes). The current through the diode depends on the voltage across it and its temperature.\n",
    "\n",
    "You can learn more about diode based thermometers on [this page](https://en.wikipedia.org/wiki/Diode#Temperature_measurements)."
   ]
  },
  {
   "cell_type": "markdown",
   "metadata": {
    "slideshow": {
     "slide_type": "slide"
    }
   },
   "source": [
    "# Wiring\n",
    "\n",
    "With the flat face of the sensor towards you, the pins are (left to right): \n",
    "* **VSS** connected to $3.3V$\n",
    "* **OUT** connected to the ADC, \n",
    "* **GND** connected to ground."
   ]
  },
  {
   "cell_type": "markdown",
   "metadata": {
    "slideshow": {
     "slide_type": "skip"
    }
   },
   "source": [
    "The SparkFun kits come with the **TMP36** thermometer. It's useful to read through the thermometer [datasheet](https://cdn.sparkfun.com/datasheets/Sensors/Temp/TMP35_36_37.pdf) before using it. You can also find info under the documents tabs of [the SparkFun TMP36 page](https://www.sparkfun.com/products/10988).\n",
    "\n",
    "Temperature sensors work by measuring the voltage and current through a diode, and calculate the temperature based on the [Shockley equation](https://en.wikipedia.org/wiki/Shockley_diode_equation). It's a complicated function, but there is some circuitry built into the sensor that outputs a voltage that increases linearly with temperature. All we need to do is convert the output voltage into a temperature, and the conversion for this can be found in the datasheet (see below)."
   ]
  },
  {
   "cell_type": "markdown",
   "metadata": {
    "slideshow": {
     "slide_type": "slide"
    }
   },
   "source": [
    "The middle pin of the thermometer connects to the [ADC](h_ADC.ipynb). \n",
    "\n",
    "**N.B.**: the wiring for the ADC is omitted for clarity.\n",
    "\n",
    "<img src=\"https://www.dropbox.com/s/6ho4ri6nktv5gho/wiring_tmp36.PNG?raw=1\" align=\"left\" width=\"65%\">\n",
    "\n",
    "<img src=\"https://www.dropbox.com/s/4p84oqx73zr5t5w/circuit_tmp36.jpg?raw=1\" align=\"right\" width=\"35%\">"
   ]
  },
  {
   "cell_type": "markdown",
   "metadata": {
    "slideshow": {
     "slide_type": "slide"
    }
   },
   "source": [
    "# Programming\n",
    "\n",
    "Follow the [ADC notebook](h_ADC.ipynb) to set-up the analog/digital converter. "
   ]
  },
  {
   "cell_type": "code",
   "execution_count": null,
   "metadata": {},
   "outputs": [],
   "source": [
    "import adcUtil as adc"
   ]
  },
  {
   "cell_type": "markdown",
   "metadata": {
    "slideshow": {
     "slide_type": "slide"
    }
   },
   "source": [
    "The sensor [datasheet](https://cdn.sparkfun.com/datasheets/Sensors/Temp/TMP35_36_37.pdf)  explains how the measured voltage can be converted into temperature:\n",
    "* -50$^\\circ C$ corresponds to $0.0V$, and \n",
    "* 100$^\\circ C$ corresponds to $1.5V$. \n",
    "\n",
    "The voltage-temperature relation is:\n",
    "$$ T = 100 V - 50 .$$"
   ]
  },
  {
   "cell_type": "code",
   "execution_count": null,
   "metadata": {
    "ExecuteTime": {
     "end_time": "2019-10-22T21:48:15.131487Z",
     "start_time": "2019-10-22T21:48:15.088609Z"
    },
    "slideshow": {
     "slide_type": "-"
    }
   },
   "outputs": [],
   "source": [
    "# read the thermometer voltage on CH1 of the ADC\n",
    "adc.readADC(channel=1, device=0)"
   ]
  },
  {
   "cell_type": "code",
   "execution_count": null,
   "metadata": {
    "ExecuteTime": {
     "end_time": "2019-10-22T21:48:23.541348Z",
     "start_time": "2019-10-22T21:48:16.879403Z"
    },
    "slideshow": {
     "slide_type": "slide"
    }
   },
   "outputs": [],
   "source": [
    "import time\n",
    "\n",
    "to = time.time()\n",
    "t = to\n",
    "while t < to + 10: # loop for 10s\n",
    "    Vou = adc.readADC(channel=1, device=0) # thermometer voltage\n",
    "    Tou = 100 * Vou - 50                   # compute temperature\n",
    "    \n",
    "    print(format(t-to,'.2f'),\n",
    "          format( Vou,'.3f'),\n",
    "          format( Tou,'4.1f'))\n",
    "    \n",
    "    time.sleep(0.5)\n",
    "    t = time.time()"
   ]
  },
  {
   "cell_type": "markdown",
   "metadata": {
    "slideshow": {
     "slide_type": "slide"
    }
   },
   "source": [
    "<img src=\"http://www.dropbox.com/s/fcucolyuzdjl80k/todo.jpg?raw=1\" width=\"10%\" align=\"left\">\n",
    "\n",
    "Test the behavior of the thermometer by running the code while touching it to modify its temperature."
   ]
  },
  {
   "cell_type": "markdown",
   "metadata": {
    "slideshow": {
     "slide_type": "skip"
    }
   },
   "source": [
    "# Troubleshooting\n",
    "\n",
    "* **I get error messages when I run my code.**\n",
    "    * There's probably an issue with your code, not any of the components. Read the error message and try to understand what it's telling you in order to fix it.\n",
    "* **The ADC always returns 0.**\n",
    "    * You're probably having an issue communicating with the ADC, which would most likely come from a wiring problem. Double check your wiring of the ADC to make sure the connections are correct. Also double check your code for any bugs, and that the channel you're measuring isn't just connected to 0V.\n",
    "    * Make sure your sensor is wired correctly. The outer pins need to be connected to 3.3V and GND, and the center pin connected to one of the ADC channel pins.\n",
    "* **I get funky numbers from the ADC.**\n",
    "    * The most likely cause is that the pin is left floating because it's not connected to anything; simply moving your hand near the ADC can cause the values to change. Make sure there is something connected to one of the channel pins of the ADC, and make sure your code is getting data from the same channel.\n",
    "    * If that doesn't help, try swapping your thermometer with a neighbor's. If the new one works, yours is likely broken.\n",
    "    * If your neighbor's thermometer still gives you funky values, try your neighbor's ADC. If that one works, yours is likely broken."
   ]
  },
  {
   "cell_type": "markdown",
   "metadata": {
    "slideshow": {
     "slide_type": "slide"
    }
   },
   "source": [
    "<img src=\"https://www.dropbox.com/s/wj23ce93pa9j8pe/demo.png?raw=1\" width=\"10%\" align=\"left\">\n",
    "\n",
    "# Exercise\n",
    "\n",
    "Setup a circuit with a thermometer and a blinking LED. Program the LED to blink proportionally with the temperature recorded by the thermometer."
   ]
  }
 ],
 "metadata": {
  "celltoolbar": "Slideshow",
  "hide_input": false,
  "kernelspec": {
   "display_name": "Python 3 (ipykernel)",
   "language": "python",
   "name": "python3"
  },
  "language_info": {
   "codemirror_mode": {
    "name": "ipython",
    "version": 3
   },
   "file_extension": ".py",
   "mimetype": "text/x-python",
   "name": "python",
   "nbconvert_exporter": "python",
   "pygments_lexer": "ipython3",
   "version": "3.9.7"
  },
  "varInspector": {
   "cols": {
    "lenName": 16,
    "lenType": 16,
    "lenVar": 40
   },
   "kernels_config": {
    "python": {
     "delete_cmd_postfix": "",
     "delete_cmd_prefix": "del ",
     "library": "var_list.py",
     "varRefreshCmd": "print(var_dic_list())"
    },
    "r": {
     "delete_cmd_postfix": ") ",
     "delete_cmd_prefix": "rm(",
     "library": "var_list.r",
     "varRefreshCmd": "cat(var_dic_list()) "
    }
   },
   "types_to_exclude": [
    "module",
    "function",
    "builtin_function_or_method",
    "instance",
    "_Feature"
   ],
   "window_display": false
  }
 },
 "nbformat": 4,
 "nbformat_minor": 2
}
