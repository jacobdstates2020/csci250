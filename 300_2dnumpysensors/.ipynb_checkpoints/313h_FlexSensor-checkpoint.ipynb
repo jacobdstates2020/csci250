{
 "cells": [
  {
   "cell_type": "markdown",
   "metadata": {
    "slideshow": {
     "slide_type": "slide"
    }
   },
   "source": [
    "<img src=\"https://www.mines.edu/webcentral/wp-content/uploads/sites/267/2019/02/horizontallightbackground.jpg\" width=\"100%\"> \n",
    "\n",
    "### CSCI250 Python Computing: Building a Sensor System\n",
    "<hr style=\"height:5px\" width=\"100%\" align=\"left\">\n",
    "\n",
    "# Flex sensor"
   ]
  },
  {
   "cell_type": "markdown",
   "metadata": {
    "heading_collapsed": true,
    "slideshow": {
     "slide_type": "slide"
    }
   },
   "source": [
    "# Introduction\n",
    "\n",
    "<img src=\"https://cdn.sparkfun.com//assets/parts/1/6/8/6/08606-03-L.jpg\" width=\"30%\" align=\"right\">\n",
    "\n",
    "Flex sensors are electrical devices that change their resistance based on how far they are bent or flexed. \n",
    "\n",
    "Bending one way usually increases the resistance, and bending the other way decreases the resistance. \n",
    "\n",
    "You can learn more about flex sensors on [this page](https://en.wikipedia.org/wiki/Flex_sensor)."
   ]
  },
  {
   "cell_type": "markdown",
   "metadata": {
    "slideshow": {
     "slide_type": "slide"
    }
   },
   "source": [
    "# Wiring\n",
    "\n",
    "The photoresistors in the kit have a resistance of\n",
    "(see [datasheet](https://www.sparkfun.com/products/8606))\n",
    "* ~**60k$\\Omega$ bent one direction**, and \n",
    "* ~**110k$\\Omega$ bent another direction**. \n",
    "\n",
    "The kits do not have anything to measure resistance directly. \n",
    "\n",
    "Use **voltage dividers** to measure voltage, then calculate resistance. "
   ]
  },
  {
   "cell_type": "markdown",
   "metadata": {
    "slideshow": {
     "slide_type": "slide"
    }
   },
   "source": [
    "<img src=\"https://www.dropbox.com/s/zue2dzspdy5t1q3/wiring_voltage_divider.PNG?raw=1\" width=\"40%\" align=left>\n",
    "\n",
    "This **voltage divider** circuit consists of two resistors $R_1$ and $R_2$ in series between a voltage source. \n",
    "\n",
    "The current through the two resistors is the same because they are connected in series:\n",
    "\n",
    "$$ I_1 = I_2 $$\n",
    "\n",
    "From [Ohm's Law](https://en.wikipedia.org/wiki/Ohm%27s_law), we have\n",
    "\n",
    "$$ \\dfrac{V_{in}}{R_1 + R_2} = \\dfrac{V_{out}}{R_2} $$"
   ]
  },
  {
   "cell_type": "markdown",
   "metadata": {
    "slideshow": {
     "slide_type": "slide"
    }
   },
   "source": [
    "The **voltage divider equation** (VDE) relates the input and output voltages with the resistances:\n",
    "$$V_{out}=\\dfrac{R_2}{R_1+R_2}V_{in} $$\n",
    "\n",
    "*** \n",
    "\n",
    "The flex sensor has resistance $R_1$ between $60-110k\\Omega$, and thus the complementary resistor $R_2$ should have a similar resistance. \n",
    "\n",
    "The closest available in the SparkFun kit has $10k\\Omega$ (color bands: **brown/black/orange/gold**). "
   ]
  },
  {
   "cell_type": "markdown",
   "metadata": {
    "slideshow": {
     "slide_type": "slide"
    }
   },
   "source": [
    "We can rearrange the voltage divider equation to  find the resistance of the photoresistor $R_1$ as a function of the input and measured voltages, $V_{in}$ and $V_{out}$, and the resistance $R_2$:\n",
    "\n",
    "$$R_1=R_2\\left(\\dfrac{V_{in}}{V_{out}}-1\\right) .$$"
   ]
  },
  {
   "cell_type": "markdown",
   "metadata": {
    "slideshow": {
     "slide_type": "slide"
    }
   },
   "source": [
    "The middle pin of the voltage divider connects to the [ADC](h_ADC.ipynb).\n",
    "\n",
    "**N.B.**: the wiring for the ADC is omitted for clarity.\n",
    "\n",
    "<img src=\"https://www.dropbox.com/s/3e577gpngbl2kky/wiring_flex_fsr.PNG?raw=1\" width=\"67%\" align=\"left\">\n",
    "\n",
    "<img src=\"https://www.dropbox.com/s/xe8hvgyp70kd8co/circuit_flex.jpg?raw=1\" width=\"33%\" align=\"right\">"
   ]
  },
  {
   "cell_type": "markdown",
   "metadata": {
    "slideshow": {
     "slide_type": "slide"
    }
   },
   "source": [
    "# Programming\n",
    "\n",
    "Follow the [ADC notebook](h_ADC.ipynb) to set-up the analog/digital converter. "
   ]
  },
  {
   "cell_type": "code",
   "execution_count": null,
   "metadata": {},
   "outputs": [],
   "source": [
    "import adcUtil as adc"
   ]
  },
  {
   "cell_type": "markdown",
   "metadata": {
    "slideshow": {
     "slide_type": "slide"
    }
   },
   "source": [
    "As the flex sensor bends, the voltage changes from $0V$ to $3.3V$."
   ]
  },
  {
   "cell_type": "code",
   "execution_count": null,
   "metadata": {},
   "outputs": [],
   "source": [
    "# read flex sensor voltage on CHO of the ADC\n",
    "Vou = adc.readADC(channel=0, device=1)\n",
    "print(Vou)"
   ]
  },
  {
   "cell_type": "markdown",
   "metadata": {
    "slideshow": {
     "slide_type": "slide"
    }
   },
   "source": [
    "Compute the flex sensor resistance using the VDE."
   ]
  },
  {
   "cell_type": "code",
   "execution_count": null,
   "metadata": {},
   "outputs": [],
   "source": [
    "# parameters from VDE\n",
    "Vin =  3.3 # Volt\n",
    "R2  = 10.0 # kOhm\n",
    "\n",
    "# flex sensor resistance (by VDE) \n",
    "R1 = R2 * (Vin/Vou - 1)\n",
    "print(R1)"
   ]
  },
  {
   "cell_type": "code",
   "execution_count": null,
   "metadata": {
    "scrolled": true,
    "slideshow": {
     "slide_type": "slide"
    }
   },
   "outputs": [],
   "source": [
    "import time\n",
    "\n",
    "to = time.time()\n",
    "t  = to\n",
    "while t < to + 10: # loop for 10s\n",
    "    Vou = adc.readADC(channel=0, device=1) # flex sensor voltage\n",
    "    R1 = R2 * (Vin/Vou - 1)                # flex sensor resistance\n",
    "    \n",
    "    print(format(t-to,'.2f'),\n",
    "          format( Vou,'.3f'),\n",
    "          format(  R1,'.3f'))\n",
    "    \n",
    "    time.sleep(0.5)\n",
    "    t = time.time()"
   ]
  },
  {
   "cell_type": "markdown",
   "metadata": {
    "slideshow": {
     "slide_type": "slide"
    }
   },
   "source": [
    "<img src=\"http://www.dropbox.com/s/fcucolyuzdjl80k/todo.jpg?raw=1\" width=\"10%\" align=\"left\">\n",
    "\n",
    "Test the range of resistances you can measure by bending the flex sensor in one direction or another."
   ]
  },
  {
   "cell_type": "markdown",
   "metadata": {
    "slideshow": {
     "slide_type": "skip"
    }
   },
   "source": [
    "# Troubleshooting\n",
    "\n",
    "* **I get error messages when I run my code**.\n",
    "    * There's probably/likely an issue with the code, not with the electronic components. Read the error message and try to understand what it is telling. If you're not sure, ask for help.\n",
    "    \n",
    "* **The ADC always returns 0**.\n",
    "    * You're probably having an issue communicating with the ADC, which would most likely come from a wiring problem. Double check your wiring of the ADC to make sure the connections are correct. Also double check your code for any bugs, that the channel you're measuring isn't just connected to 0V, and that you're using the same channel that the flex sensor is connected to.\n",
    "    * Make sure your flex sensor is wired correctly as a voltage divider. Follow the wiring diagrams above, and make sure the junction between the resistors is connected to one of the ADC channel pins.\n",
    "\n",
    "* **I get funky numbers from the ADC**.\n",
    "    * The most likely cause is that the pin is left floating because it's not connected to anything; simply moving your hand near the ADC can cause the values to change! Make sure your voltage divider is connected to one of the channel pins of the ADC, and make sure your code is getting data from the same channel.\n",
    "    * If the above doesn't help, try swapping your flex sensor with a neighbor's. If the new one works, yours is likely broken.\n",
    "    * If your neighbor's flex sensor still gives you funky values, try your neighbor's ADC. If the new one works, yours is likely broken."
   ]
  },
  {
   "cell_type": "markdown",
   "metadata": {
    "slideshow": {
     "slide_type": "slide"
    }
   },
   "source": [
    "<img src=\"https://www.dropbox.com/s/wj23ce93pa9j8pe/demo.png?raw=1\" width=\"10%\" align=\"left\">\n",
    "\n",
    "# Exercise\n",
    "\n",
    "Setup a circuit with a flex sensor and an LED. Program the LED to be on or off depending on the amount of flex sensor bending."
   ]
  }
 ],
 "metadata": {
  "celltoolbar": "Slideshow",
  "hide_input": false,
  "kernelspec": {
   "display_name": "Python 3 (ipykernel)",
   "language": "python",
   "name": "python3"
  },
  "language_info": {
   "codemirror_mode": {
    "name": "ipython",
    "version": 3
   },
   "file_extension": ".py",
   "mimetype": "text/x-python",
   "name": "python",
   "nbconvert_exporter": "python",
   "pygments_lexer": "ipython3",
   "version": "3.9.7"
  },
  "varInspector": {
   "cols": {
    "lenName": 16,
    "lenType": 16,
    "lenVar": 40
   },
   "kernels_config": {
    "python": {
     "delete_cmd_postfix": "",
     "delete_cmd_prefix": "del ",
     "library": "var_list.py",
     "varRefreshCmd": "print(var_dic_list())"
    },
    "r": {
     "delete_cmd_postfix": ") ",
     "delete_cmd_prefix": "rm(",
     "library": "var_list.r",
     "varRefreshCmd": "cat(var_dic_list()) "
    }
   },
   "types_to_exclude": [
    "module",
    "function",
    "builtin_function_or_method",
    "instance",
    "_Feature"
   ],
   "window_display": false
  }
 },
 "nbformat": 4,
 "nbformat_minor": 2
}
