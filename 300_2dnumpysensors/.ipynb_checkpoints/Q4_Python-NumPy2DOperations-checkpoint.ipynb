{
 "cells": [
  {
   "cell_type": "markdown",
   "id": "33298efe",
   "metadata": {},
   "source": [
    "Your function will be input a 4x4 NumPy array. Your goal is perform a series of operations to demonstrate your understanding of these tools. You should be able to do this without any loops.\n",
    "\n",
    "First, split the 2D array into 2x2 quadrants using array slicing. Call them a, b, c, and d as shown.\n",
    "a\tb\n",
    "c\td\n",
    "Compute the standard matrix multiplication a*c (hint: matmul). Call this result e.\n",
    "Compute the element-wise multiplication b*d. Call this result f.\n",
    "Note - the prior instructions said to use np.dot(), but this is incorrect. Use \"f=b*d\" for element-wise multiplication.\n",
    "Compute the sum of all elements in e. Call this result x.\n",
    "Compute the maximum value in f. Call this result y.\n",
    "Return the difference between x and y."
   ]
  },
  {
   "cell_type": "code",
   "execution_count": null,
   "id": "71b5317a",
   "metadata": {},
   "outputs": [],
   "source": [
    "import numpy as np\n",
    "\n",
    "def np2dOperations(arr):\n",
    "    a = arr[0:2,0:2].copy()\n",
    "    b = arr[0:2, 2:4].copy()\n",
    "    c = arr[2:4, 0:2].copy()\n",
    "    d = arr[2:4, 2:4].copy()\n",
    "    e = np.matmul(a,c)\n",
    "    f = b*d\n",
    "    x = e.sum()\n",
    "    y = f.max()\n",
    "return x-y"
   ]
  },
  {
   "cell_type": "code",
   "execution_count": 24,
   "id": "5c1a20cf",
   "metadata": {},
   "outputs": [
    {
     "name": "stdout",
     "output_type": "stream",
     "text": [
      "[[ 0.  1.  2.  3.]\n",
      " [ 4.  5.  6.  7.]\n",
      " [ 8.  9. 10. 11.]\n",
      " [12. 13. 14. 15.]] \n",
      "\n",
      "[[0. 1.]\n",
      " [4. 5.]] \n",
      " [[2. 3.]\n",
      " [6. 7.]] \n",
      " [[ 8.  9.]\n",
      " [12. 13.]] \n",
      " [[10. 11.]\n",
      " [14. 15.]] \n",
      "\n",
      "[[ 12.  13.]\n",
      " [ 92. 101.]]\n",
      "[[ 20.  33.]\n",
      " [ 84. 105.]]\n",
      "113.0\n"
     ]
    }
   ],
   "source": [
    "import numpy as np\n",
    "\n",
    "nRow, nCol = 4, 4\n",
    "arr = np.arange(nRow*nCol, dtype=float).reshape([nRow, nCol], order='C')\n",
    "print(arr, '\\n')\n",
    "\n",
    "a = arr[0:2,0:2].copy()\n",
    "b = arr[0:2, 2:4].copy()\n",
    "c = arr[2:4, 0:2].copy()\n",
    "d = arr[2:4, 2:4].copy()\n",
    "print(a, '\\n', b, '\\n', c, '\\n', d, '\\n')\n",
    "\n",
    "e = np.matmul(a,c)\n",
    "print(e)\n",
    "\n",
    "f = b*d\n",
    "print(f)\n",
    "\n",
    "x = e.sum()\n",
    "y = f.max()\n",
    "print(x-y)"
   ]
  }
 ],
 "metadata": {
  "kernelspec": {
   "display_name": "Python 3 (ipykernel)",
   "language": "python",
   "name": "python3"
  },
  "language_info": {
   "codemirror_mode": {
    "name": "ipython",
    "version": 3
   },
   "file_extension": ".py",
   "mimetype": "text/x-python",
   "name": "python",
   "nbconvert_exporter": "python",
   "pygments_lexer": "ipython3",
   "version": "3.9.2"
  }
 },
 "nbformat": 4,
 "nbformat_minor": 5
}
