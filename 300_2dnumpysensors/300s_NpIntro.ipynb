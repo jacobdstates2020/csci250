{
 "cells": [
  {
   "cell_type": "markdown",
   "metadata": {
    "slideshow": {
     "slide_type": "slide"
    }
   },
   "source": [
    "<img src=\"https://www.mines.edu/webcentral/wp-content/uploads/sites/267/2019/02/horizontallightbackground.jpg\" width=\"100%\"> \n",
    "### CSCI250 Python Computing: Building a Sensor System\n",
    "<hr style=\"height:5px\" width=\"100%\" align=\"left\">\n",
    "\n",
    "# Introduction to `numpy`"
   ]
  },
  {
   "cell_type": "markdown",
   "metadata": {
    "slideshow": {
     "slide_type": "slide"
    }
   },
   "source": [
    "# Objective\n",
    "* introduce the `numpy` library\n",
    "* motivate its use for sensing and data analysis\n",
    "\n",
    "<img src=\"https://numpy.org/images/logos/numpy.svg\" width=\"40%\" align=\"left\">"
   ]
  },
  {
   "cell_type": "markdown",
   "metadata": {
    "slideshow": {
     "slide_type": "slide"
    }
   },
   "source": [
    "# Resources\n",
    "* [numpy.org](http://www.numpy.org)\n",
    "* [`numpy` user guide](https://docs.scipy.org/doc/numpy/user)\n",
    "* [`numpy` reference](https://docs.scipy.org/doc/numpy/reference)"
   ]
  },
  {
   "cell_type": "markdown",
   "metadata": {
    "slideshow": {
     "slide_type": "slide"
    }
   },
   "source": [
    "# Definition\n",
    "`numpy` is a Python package designed for **efficient computing** on **multidimensional arrays** of identical numeric items. \n",
    "* Python is attractive because of its **simplicity**.\n",
    "* `numpy` ads storage and execution **efficiency**."
   ]
  },
  {
   "cell_type": "markdown",
   "metadata": {
    "slideshow": {
     "slide_type": "slide"
    }
   },
   "source": [
    "\n",
    "`numpy` comes with many functions optimized for numeric calculations.\n",
    "\n",
    "`numpy` is conventionally imported with the **alias** `np`. "
   ]
  },
  {
   "cell_type": "code",
   "execution_count": null,
   "metadata": {
    "slideshow": {
     "slide_type": "-"
    }
   },
   "outputs": [],
   "source": [
    "import numpy as np"
   ]
  },
  {
   "cell_type": "markdown",
   "metadata": {
    "slideshow": {
     "slide_type": "slide"
    }
   },
   "source": [
    "# Python arrays\n",
    "\n",
    "Python `list` types could be used to represent arrays of numbers. \n",
    "\n",
    "The `list` representation is inefficient:\n",
    "* **storage**: Python lists require more memory than `numpy` arrays.\n",
    "* **speed**: access to Python lists is slower than for `numpy` arrays."
   ]
  },
  {
   "cell_type": "markdown",
   "metadata": {
    "slideshow": {
     "slide_type": "slide"
    }
   },
   "source": [
    "<img src=\"https://www.dropbox.com/s/u628vjn2uc5h3ua/notebook.png?raw=1\" width=\"10%\" align=\"right\">\n",
    "\n",
    "See the [arrays1D notebook](s_NpArray1D.ipynb) for info on 1D `numpy` arrays.\n",
    "\n",
    "See the [arrays2D notebook](s_NpArray2D.ipynb) for info on 2D `numpy` arrays."
   ]
  },
  {
   "cell_type": "markdown",
   "metadata": {
    "slideshow": {
     "slide_type": "slide"
    }
   },
   "source": [
    "# `ndarray`\n",
    "\n",
    "`numpy` arrays are represented by the `ndarray` type.\n",
    "\n",
    "* all elements are of the same type and size\n",
    "* the access to array elements is more efficient\n",
    "* the memory occupied by the array is smaller"
   ]
  },
  {
   "cell_type": "code",
   "execution_count": null,
   "metadata": {
    "slideshow": {
     "slide_type": "slide"
    }
   },
   "outputs": [],
   "source": [
    "n = 1000000\n",
    "\n",
    "# python array (a list)\n",
    "a = [i for i in range(n)]\n",
    "\n",
    "print('type of a=',type(a))"
   ]
  },
  {
   "cell_type": "code",
   "execution_count": null,
   "metadata": {
    "scrolled": true
   },
   "outputs": [],
   "source": [
    "# numpy array\n",
    "b = np.arange(n)\n",
    "\n",
    "print('type of b=',type(b))"
   ]
  },
  {
   "cell_type": "markdown",
   "metadata": {
    "slideshow": {
     "slide_type": "slide"
    }
   },
   "source": [
    "# `ndarray` size\n",
    "`numpy` arrays occupy less space in memory than `list` arrays.\n",
    "\n",
    "* `ndarray`: homogeneous \n",
    "    * specialized for numeric operations\n",
    "* `list`: heterogeneous\n",
    "    * can handle arbitrary elements (`float`,`string`, etc)"
   ]
  },
  {
   "cell_type": "code",
   "execution_count": null,
   "metadata": {},
   "outputs": [],
   "source": [
    "import sys\n",
    "\n",
    "# python array\n",
    "print('size of a =',sys.getsizeof(a))"
   ]
  },
  {
   "cell_type": "code",
   "execution_count": null,
   "metadata": {
    "scrolled": true
   },
   "outputs": [],
   "source": [
    "# numpy array\n",
    "print('size of b =',sys.getsizeof(b))"
   ]
  },
  {
   "cell_type": "markdown",
   "metadata": {
    "slideshow": {
     "slide_type": "slide"
    }
   },
   "source": [
    "# `ndarray` access\n",
    "`numpy` arrays have shorter access time than `list` arrays."
   ]
  },
  {
   "cell_type": "code",
   "execution_count": null,
   "metadata": {},
   "outputs": [],
   "source": [
    "import time"
   ]
  },
  {
   "cell_type": "code",
   "execution_count": null,
   "metadata": {},
   "outputs": [],
   "source": [
    "tick = time.time()                           # start clock\n",
    "a = [i for i in range(n)]\n",
    "tock = time.time()                           #  stop clock\n",
    "dtList = (tock-tick)*1e6                     # time difference \n",
    "print('elapsed time =',int(dtList),'(us)')   # micro seconds"
   ]
  },
  {
   "cell_type": "code",
   "execution_count": null,
   "metadata": {},
   "outputs": [],
   "source": [
    "tick = time.time()                          # start clock\n",
    "b = np.arange(n)\n",
    "tock = time.time()                          #  stop clock\n",
    "dtNumpy = (tock-tick)*1e6                   # time difference \n",
    "print('elapsed time =',int(dtNumpy),'(us)') # micro seconds"
   ]
  },
  {
   "cell_type": "code",
   "execution_count": null,
   "metadata": {
    "scrolled": true
   },
   "outputs": [],
   "source": [
    "# time ratio\n",
    "int(dtList/dtNumpy)"
   ]
  },
  {
   "cell_type": "markdown",
   "metadata": {
    "slideshow": {
     "slide_type": "slide"
    }
   },
   "source": [
    "We can also evaluate the access times using **magic commands**."
   ]
  },
  {
   "cell_type": "code",
   "execution_count": null,
   "metadata": {},
   "outputs": [],
   "source": [
    "%%timeit\n",
    "a = [i for i in range(n)]"
   ]
  },
  {
   "cell_type": "code",
   "execution_count": null,
   "metadata": {},
   "outputs": [],
   "source": [
    "%%timeit\n",
    "b = np.arange(n)"
   ]
  },
  {
   "cell_type": "markdown",
   "metadata": {
    "slideshow": {
     "slide_type": "slide"
    }
   },
   "source": [
    "# execution time\n",
    "`numpy` arrays facilitate faster processing than `list` arrays."
   ]
  },
  {
   "cell_type": "code",
   "execution_count": null,
   "metadata": {},
   "outputs": [],
   "source": [
    "tick = time.time()\n",
    "sa = [i**2 for i in a]\n",
    "tock = time.time()\n",
    "dtList = (tock-tick)*1e6\n",
    "print('elapsed time =',int(dtList),'(us)')"
   ]
  },
  {
   "cell_type": "code",
   "execution_count": null,
   "metadata": {},
   "outputs": [],
   "source": [
    "tick = time.time()\n",
    "sb = b**2\n",
    "tock = time.time()\n",
    "dtNumpy = (tock-tick)*1e6\n",
    "print('elapsed time =',int(dtNumpy),'(us)')"
   ]
  },
  {
   "cell_type": "code",
   "execution_count": null,
   "metadata": {
    "scrolled": true
   },
   "outputs": [],
   "source": [
    "# time ratio\n",
    "int(dtList/dtNumpy)"
   ]
  },
  {
   "cell_type": "markdown",
   "metadata": {
    "slideshow": {
     "slide_type": "slide"
    }
   },
   "source": [
    "We can also evaluate the access times using **magic commands**."
   ]
  },
  {
   "cell_type": "code",
   "execution_count": null,
   "metadata": {},
   "outputs": [],
   "source": [
    "%%timeit\n",
    "sa = [i**2 for i in a]"
   ]
  },
  {
   "cell_type": "code",
   "execution_count": null,
   "metadata": {},
   "outputs": [],
   "source": [
    "%%timeit\n",
    "sb = b**2"
   ]
  },
  {
   "cell_type": "markdown",
   "metadata": {
    "slideshow": {
     "slide_type": "slide"
    }
   },
   "source": [
    "**`numpy` calculations are much more efficient than `list` calculations**\n",
    "***\n",
    "\n",
    "<img src=\"https://www.dropbox.com/s/u628vjn2uc5h3ua/notebook.png?raw=1\" width=\"10%\" align=\"right\">\n",
    "\n",
    "See the [vectorize1D notebook](s_NpVectorize1D.ipynb) for info on fast 1D computing.\n",
    "\n",
    "See the [vectorize2D notebook](s_NpVectorize2D.ipynb) for info on fast 2D computing."
   ]
  },
  {
   "cell_type": "markdown",
   "metadata": {
    "slideshow": {
     "slide_type": "slide"
    }
   },
   "source": [
    "<img src=\"http://www.dropbox.com/s/fcucolyuzdjl80k/todo.jpg?raw=1\" width=\"10%\" align=\"right\">\n",
    "\n",
    "Check how storage and access time depend on the array size. \n",
    "\n",
    "Evaluate \n",
    "* access time and \n",
    "* processing time \n",
    "\n",
    "ratios for array sizes from $n=10^1$ to $n=10^9$."
   ]
  },
  {
   "cell_type": "markdown",
   "metadata": {
    "slideshow": {
     "slide_type": "slide"
    }
   },
   "source": [
    "# `numpy` data types\n",
    "\n",
    "`numpy` supports additional data types relative to Python.\n",
    "\n",
    "They are useful for analysis of data provided by physical systems."
   ]
  },
  {
   "cell_type": "markdown",
   "metadata": {
    "slideshow": {
     "slide_type": "slide"
    }
   },
   "source": [
    "# `numpy` `int`\n",
    "The `int` type can be represented by a different number of bits\n",
    "\n",
    "* `int8`\n",
    "* `int16`\n",
    "* `int32`\n",
    "* `int64`\n",
    "\n",
    "which correspond to `int`'s in different ranges. \n",
    "\n",
    "*** \n",
    "Choose the appropriate `int` type that \n",
    "* covers the range needed by data representation, \n",
    "* while minimizing data storage."
   ]
  },
  {
   "cell_type": "code",
   "execution_count": null,
   "metadata": {
    "scrolled": true,
    "slideshow": {
     "slide_type": "slide"
    }
   },
   "outputs": [],
   "source": [
    "print(np.iinfo(np.int8))\n",
    "print(np.iinfo(np.int16))\n",
    "print(np.iinfo(np.int32))\n",
    "print(np.iinfo(np.int64))"
   ]
  },
  {
   "cell_type": "code",
   "execution_count": null,
   "metadata": {
    "slideshow": {
     "slide_type": "slide"
    }
   },
   "outputs": [],
   "source": [
    "i = 1\n",
    "\n",
    "i08 = np.int8(i)\n",
    "print('size of i08 =',sys.getsizeof(i08))\n",
    "\n",
    "i16 = np.int16(i)\n",
    "print('size of i16 =',sys.getsizeof(i16))\n",
    "\n",
    "i32 = np.int32(i)\n",
    "print('size of i32 =',sys.getsizeof(i32))\n",
    "\n",
    "i64 = np.int64(i)\n",
    "print('size of i64 =',sys.getsizeof(i64))"
   ]
  },
  {
   "cell_type": "code",
   "execution_count": null,
   "metadata": {
    "scrolled": true,
    "slideshow": {
     "slide_type": "slide"
    }
   },
   "outputs": [],
   "source": [
    "xmin = 0\n",
    "xmax = 1e6\n",
    "dx = 1\n",
    "\n",
    "x08 = np.arange(xmin,xmax,dx, dtype=np.int8)\n",
    "print('size of x08 =',sys.getsizeof(x08))\n",
    "\n",
    "x16 = np.arange(xmin,xmax,dx, dtype=np.int16)\n",
    "print('size of x16 =',sys.getsizeof(x16))\n",
    "\n",
    "x32 = np.arange(xmin,xmax,dx, dtype=np.int32)\n",
    "print('size of x32 =',sys.getsizeof(x32))\n",
    "\n",
    "x64 = np.arange(xmin,xmax,dx, dtype=np.int64)\n",
    "print('size of x64 =',sys.getsizeof(x64))"
   ]
  },
  {
   "cell_type": "code",
   "execution_count": null,
   "metadata": {},
   "outputs": [],
   "source": [
    "print( np.min(x08), np.max(x08) ) # this type is insufficient\n",
    "print( np.min(x16), np.max(x16) ) # this type is insufficient\n",
    "print( np.min(x32), np.max(x32) )\n",
    "print( np.min(x64), np.max(x64) )"
   ]
  },
  {
   "cell_type": "markdown",
   "metadata": {
    "slideshow": {
     "slide_type": "slide"
    }
   },
   "source": [
    "<img src=\"http://www.dropbox.com/s/fcucolyuzdjl80k/todo.jpg?raw=1\" width=\"10%\" align=\"right\">\n",
    "\n",
    "Use `np.iinfo?` to explore the `numpy` `int` types."
   ]
  },
  {
   "cell_type": "code",
   "execution_count": null,
   "metadata": {},
   "outputs": [],
   "source": [
    "np.iinfo?"
   ]
  },
  {
   "cell_type": "markdown",
   "metadata": {
    "slideshow": {
     "slide_type": "slide"
    }
   },
   "source": [
    "# `numpy` `float`\n",
    "The`float` type can be represented by different number of bits\n",
    "* `float16`\n",
    "* `float32`\n",
    "* `float64`\n",
    "\n",
    "which correspond to floating point numbers of different ranges. \n",
    "\n",
    "*** \n",
    "Choose the appropriate `float` type that \n",
    "* covers the range needed by data representation, \n",
    "* while minimizing data storage."
   ]
  },
  {
   "cell_type": "code",
   "execution_count": null,
   "metadata": {
    "slideshow": {
     "slide_type": "slide"
    }
   },
   "outputs": [],
   "source": [
    "print(np.finfo(np.float16))\n",
    "print(np.finfo(np.float32))\n",
    "print(np.finfo(np.float64))"
   ]
  },
  {
   "cell_type": "code",
   "execution_count": null,
   "metadata": {
    "slideshow": {
     "slide_type": "slide"
    }
   },
   "outputs": [],
   "source": [
    "f = 1.0\n",
    "\n",
    "f16 = np.float16(f)\n",
    "print('size of f16 =',sys.getsizeof(f16))\n",
    "\n",
    "f32 = np.float32(f)\n",
    "print('size of f32 =',sys.getsizeof(f32))\n",
    "\n",
    "f64 = np.float64(f)\n",
    "print('size of f64 =',sys.getsizeof(f64))"
   ]
  },
  {
   "cell_type": "code",
   "execution_count": null,
   "metadata": {
    "slideshow": {
     "slide_type": "slide"
    }
   },
   "outputs": [],
   "source": [
    "xmin = 0.0\n",
    "xmax = 1.0\n",
    "dx = 1e-6\n",
    "\n",
    "x16 = np.arange(xmin,xmax,dx, dtype=np.float16)\n",
    "print('size of x16 =',sys.getsizeof(x16))\n",
    "\n",
    "x32 = np.arange(xmin,xmax,dx, dtype=np.float32)\n",
    "print('size of x32 =',sys.getsizeof(x32))\n",
    "\n",
    "x64 = np.arange(xmin,xmax,dx, dtype=np.float64)\n",
    "print('size of x64 =',sys.getsizeof(x64))"
   ]
  },
  {
   "cell_type": "code",
   "execution_count": null,
   "metadata": {},
   "outputs": [],
   "source": [
    "print( np.min(x16), np.max(x16) ) # this type is not sufficient\n",
    "print( np.min(x32), np.max(x32) )\n",
    "print( np.min(x64), np.max(x64) )"
   ]
  },
  {
   "cell_type": "markdown",
   "metadata": {
    "slideshow": {
     "slide_type": "slide"
    }
   },
   "source": [
    "<img src=\"http://www.dropbox.com/s/fcucolyuzdjl80k/todo.jpg?raw=1\" width=\"10%\" align=\"right\">\n",
    "\n",
    "Use `np.finfo?` to explore the `numpy` `float` types."
   ]
  },
  {
   "cell_type": "code",
   "execution_count": null,
   "metadata": {},
   "outputs": [],
   "source": [
    "np.finfo?"
   ]
  }
 ],
 "metadata": {
  "celltoolbar": "Slideshow",
  "kernelspec": {
   "display_name": "Python 3",
   "language": "python",
   "name": "python3"
  },
  "language_info": {
   "codemirror_mode": {
    "name": "ipython",
    "version": 3
   },
   "file_extension": ".py",
   "mimetype": "text/x-python",
   "name": "python",
   "nbconvert_exporter": "python",
   "pygments_lexer": "ipython3",
   "version": "3.8.3"
  },
  "varInspector": {
   "cols": {
    "lenName": 16,
    "lenType": 16,
    "lenVar": 40
   },
   "kernels_config": {
    "python": {
     "delete_cmd_postfix": "",
     "delete_cmd_prefix": "del ",
     "library": "var_list.py",
     "varRefreshCmd": "print(var_dic_list())"
    },
    "r": {
     "delete_cmd_postfix": ") ",
     "delete_cmd_prefix": "rm(",
     "library": "var_list.r",
     "varRefreshCmd": "cat(var_dic_list()) "
    }
   },
   "types_to_exclude": [
    "module",
    "function",
    "builtin_function_or_method",
    "instance",
    "_Feature"
   ],
   "window_display": false
  }
 },
 "nbformat": 4,
 "nbformat_minor": 2
}
