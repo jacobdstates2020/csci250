{
 "cells": [
  {
   "cell_type": "markdown",
   "metadata": {
    "slideshow": {
     "slide_type": "slide"
    }
   },
   "source": [
    "<img src=\"https://www.mines.edu/webcentral/wp-content/uploads/sites/267/2019/02/horizontallightbackground.jpg\" width=\"100%\"> \n",
    "### CSCI250 Python Computing: Building a Sensor System\n",
    "<hr style=\"height:5px\" width=\"100%\" align=\"left\">\n",
    "\n",
    "# `numpy`: 2D arrays"
   ]
  },
  {
   "cell_type": "markdown",
   "metadata": {
    "slideshow": {
     "slide_type": "slide"
    }
   },
   "source": [
    "# Objectives\n",
    "* introduce 2D `numpy` arrays and operations\n",
    "* discuss `numpy` array \n",
    "    * attributes\n",
    "    * reshaping\n",
    "    * slicing & striding"
   ]
  },
  {
   "cell_type": "markdown",
   "metadata": {
    "slideshow": {
     "slide_type": "slide"
    }
   },
   "source": [
    "# Resources\n",
    "* [numpy.org](http://www.numpy.org)\n",
    "* [`numpy` user guide](https://docs.scipy.org/doc/numpy/user)\n",
    "* [`numpy` reference](https://docs.scipy.org/doc/numpy/reference)"
   ]
  },
  {
   "cell_type": "markdown",
   "metadata": {
    "slideshow": {
     "slide_type": "slide"
    }
   },
   "source": [
    "# `import`\n",
    "`numpy` comes with methods optimized for array operations. \n",
    "\n",
    "Can be accessed by typing a variable name, followed by `.` and **TAB**. \n",
    "\n",
    "The name of the method followed by `?` returns the selfdoc. "
   ]
  },
  {
   "cell_type": "code",
   "execution_count": 1,
   "metadata": {},
   "outputs": [],
   "source": [
    "import numpy as np"
   ]
  },
  {
   "cell_type": "markdown",
   "metadata": {
    "slideshow": {
     "slide_type": "slide"
    }
   },
   "source": [
    "# array creation\n",
    "There are multiple mechanisms to define 2D `numpy` arrays."
   ]
  },
  {
   "cell_type": "markdown",
   "metadata": {
    "slideshow": {
     "slide_type": "slide"
    }
   },
   "source": [
    "## `np.array()`\n",
    "Create a `numpy` array from a Python list of lists."
   ]
  },
  {
   "cell_type": "code",
   "execution_count": 5,
   "metadata": {
    "scrolled": true
   },
   "outputs": [
    {
     "name": "stdout",
     "output_type": "stream",
     "text": [
      "[[2. 3. 4. 5.]\n",
      " [3. 4. 5. 6.]\n",
      " [4. 5. 6. 7.]]\n"
     ]
    },
    {
     "data": {
      "text/plain": [
       "numpy.ndarray"
      ]
     },
     "execution_count": 5,
     "metadata": {},
     "output_type": "execute_result"
    }
   ],
   "source": [
    "x = np.array( [ [2,3,4,5], [3,4,5,6], [4,5,6,7] ], dtype=float)\n",
    "print(x)\n",
    "type(x)"
   ]
  },
  {
   "cell_type": "markdown",
   "metadata": {
    "slideshow": {
     "slide_type": "slide"
    }
   },
   "source": [
    "## `np.empty()`\n",
    "Form an array of given shape and type, without initializing entries."
   ]
  },
  {
   "cell_type": "code",
   "execution_count": 6,
   "metadata": {},
   "outputs": [
    {
     "name": "stdout",
     "output_type": "stream",
     "text": [
      "[[2. 3. 4. 5.]\n",
      " [3. 4. 5. 6.]\n",
      " [4. 5. 6. 7.]]\n"
     ]
    }
   ],
   "source": [
    "nRows = 3 # number of rows\n",
    "nCols = 4 # number of columns\n",
    "\n",
    "a = np.empty( [nRows,nCols] )\n",
    "print(a)"
   ]
  },
  {
   "cell_type": "markdown",
   "metadata": {
    "slideshow": {
     "slide_type": "slide"
    }
   },
   "source": [
    "## `np.zeros()`\n",
    "Returns a new array of given shape and type, filled with zeros."
   ]
  },
  {
   "cell_type": "code",
   "execution_count": 7,
   "metadata": {},
   "outputs": [],
   "source": [
    "zI = np.zeros( [nRows,nCols], dtype=int)\n",
    "zF = np.zeros( [nRows,nCols], dtype=float)\n",
    "zB = np.zeros( [nRows,nCols], dtype=bool)\n",
    "zC = np.zeros( [nRows,nCols], dtype=complex)"
   ]
  },
  {
   "cell_type": "code",
   "execution_count": 8,
   "metadata": {
    "scrolled": true
   },
   "outputs": [
    {
     "name": "stdout",
     "output_type": "stream",
     "text": [
      "[[0 0 0 0]\n",
      " [0 0 0 0]\n",
      " [0 0 0 0]]\n",
      "[[0. 0. 0. 0.]\n",
      " [0. 0. 0. 0.]\n",
      " [0. 0. 0. 0.]]\n",
      "[[False False False False]\n",
      " [False False False False]\n",
      " [False False False False]]\n",
      "[[0.+0.j 0.+0.j 0.+0.j 0.+0.j]\n",
      " [0.+0.j 0.+0.j 0.+0.j 0.+0.j]\n",
      " [0.+0.j 0.+0.j 0.+0.j 0.+0.j]]\n"
     ]
    }
   ],
   "source": [
    "print(zI)\n",
    "print(zF)\n",
    "print(zB)\n",
    "print(zC)"
   ]
  },
  {
   "cell_type": "markdown",
   "metadata": {
    "slideshow": {
     "slide_type": "slide"
    }
   },
   "source": [
    "## `np.ones()`\n",
    "Returns a new array of given shape and type, filled with ones."
   ]
  },
  {
   "cell_type": "code",
   "execution_count": 9,
   "metadata": {},
   "outputs": [],
   "source": [
    "oI = np.ones( [nRows,nCols], dtype=int)\n",
    "oF = np.ones( [nRows,nCols], dtype=float)\n",
    "oB = np.ones( [nRows,nCols], dtype=bool)\n",
    "oC = np.ones( [nRows,nCols], dtype=complex)"
   ]
  },
  {
   "cell_type": "code",
   "execution_count": 10,
   "metadata": {
    "scrolled": true
   },
   "outputs": [
    {
     "name": "stdout",
     "output_type": "stream",
     "text": [
      "[[1 1 1 1]\n",
      " [1 1 1 1]\n",
      " [1 1 1 1]]\n",
      "[[1. 1. 1. 1.]\n",
      " [1. 1. 1. 1.]\n",
      " [1. 1. 1. 1.]]\n",
      "[[ True  True  True  True]\n",
      " [ True  True  True  True]\n",
      " [ True  True  True  True]]\n",
      "[[1.+0.j 1.+0.j 1.+0.j 1.+0.j]\n",
      " [1.+0.j 1.+0.j 1.+0.j 1.+0.j]\n",
      " [1.+0.j 1.+0.j 1.+0.j 1.+0.j]]\n"
     ]
    }
   ],
   "source": [
    "print(oI)\n",
    "print(oF)\n",
    "print(oB)\n",
    "print(oC)"
   ]
  },
  {
   "cell_type": "markdown",
   "metadata": {
    "slideshow": {
     "slide_type": "slide"
    }
   },
   "source": [
    "# array indexing\n",
    "\n",
    "Access `numpy` array elements with a list of indexes (start with `0`).\n",
    "\n",
    "`ndarray` type is **mutable**."
   ]
  },
  {
   "cell_type": "code",
   "execution_count": 11,
   "metadata": {},
   "outputs": [
    {
     "name": "stdout",
     "output_type": "stream",
     "text": [
      "[[1 1 1 1]\n",
      " [1 1 1 1]\n",
      " [1 1 1 1]]\n",
      "2907027080\n"
     ]
    }
   ],
   "source": [
    "a = np.ones( [nRows,nCols], dtype=int)\n",
    "print(a)\n",
    "print( id(a) )"
   ]
  },
  {
   "cell_type": "markdown",
   "metadata": {
    "slideshow": {
     "slide_type": "slide"
    }
   },
   "source": [
    "We can use negative indexes - count from the start of the array."
   ]
  },
  {
   "cell_type": "code",
   "execution_count": 12,
   "metadata": {},
   "outputs": [
    {
     "name": "stdout",
     "output_type": "stream",
     "text": [
      "[[1 1 1 1]\n",
      " [1 1 1 1]\n",
      " [1 1 1 1]]\n",
      "[[ 1  1  1  1]\n",
      " [ 1  1  1  1]\n",
      " [ 1  1 -9  1]]\n",
      "2907027080\n"
     ]
    }
   ],
   "source": [
    "print(a)\n",
    "\n",
    "a[+2,+2] = -9\n",
    "print(a)\n",
    "print( id(a) )"
   ]
  },
  {
   "cell_type": "markdown",
   "metadata": {
    "slideshow": {
     "slide_type": "-"
    }
   },
   "source": [
    "We can use negative indexes - count from the end of the array."
   ]
  },
  {
   "cell_type": "code",
   "execution_count": 13,
   "metadata": {},
   "outputs": [
    {
     "name": "stdout",
     "output_type": "stream",
     "text": [
      "[[ 1  1  1  1]\n",
      " [ 1  1  1  1]\n",
      " [ 1  1 -9  1]]\n",
      "[[ 1  1  1  1]\n",
      " [ 1  1  9  1]\n",
      " [ 1  1 -9  1]]\n",
      "2907027080\n"
     ]
    }
   ],
   "source": [
    "print(a)\n",
    "\n",
    "a[-2,-2] = +9\n",
    "print(a)\n",
    "print( id(a) )"
   ]
  },
  {
   "cell_type": "markdown",
   "metadata": {
    "slideshow": {
     "slide_type": "slide"
    }
   },
   "source": [
    "# array slicing\n",
    "\n",
    "We can access/modify a range of elements in an 2D `numpy` array."
   ]
  },
  {
   "cell_type": "code",
   "execution_count": 14,
   "metadata": {},
   "outputs": [
    {
     "name": "stdout",
     "output_type": "stream",
     "text": [
      "[[1 1 1 1]\n",
      " [1 1 1 1]\n",
      " [1 1 1 1]]\n"
     ]
    }
   ],
   "source": [
    "a = np.ones( [nRows,nCols] , dtype=int)\n",
    "print(a)"
   ]
  },
  {
   "cell_type": "code",
   "execution_count": 15,
   "metadata": {
    "scrolled": true
   },
   "outputs": [
    {
     "name": "stdout",
     "output_type": "stream",
     "text": [
      "[[1 1 1 1]\n",
      " [1 0 0 1]\n",
      " [1 0 0 1]]\n"
     ]
    }
   ],
   "source": [
    "a[ 1:3, 1:3 ] = 0\n",
    "print(a)"
   ]
  },
  {
   "cell_type": "markdown",
   "metadata": {
    "slideshow": {
     "slide_type": "slide"
    }
   },
   "source": [
    "# array attributes\n",
    "Reflect information that is intrinsic to the array.  "
   ]
  },
  {
   "cell_type": "markdown",
   "metadata": {
    "slideshow": {
     "slide_type": "-"
    }
   },
   "source": [
    "<img src=\"http://www.dropbox.com/s/fcucolyuzdjl80k/todo.jpg?raw=1\" width=\"10%\" align=\"right\">\n",
    "\n",
    "Explain the **attributes** associated with 2D `ndarray`.\n",
    "* Add comments explaining their purpose. \n",
    "* Include examples demonstrating their usage."
   ]
  },
  {
   "cell_type": "code",
   "execution_count": 16,
   "metadata": {
    "slideshow": {
     "slide_type": "slide"
    }
   },
   "outputs": [],
   "source": [
    "# Makes an array filled with ones\n",
    "o = np.ones( [nRows,nCols] )"
   ]
  },
  {
   "cell_type": "code",
   "execution_count": 27,
   "metadata": {},
   "outputs": [
    {
     "data": {
      "text/plain": [
       "2"
      ]
     },
     "execution_count": 27,
     "metadata": {},
     "output_type": "execute_result"
    }
   ],
   "source": [
    "# Gives the dimension of an array\n",
    "o.ndim"
   ]
  },
  {
   "cell_type": "code",
   "execution_count": 28,
   "metadata": {
    "scrolled": false
   },
   "outputs": [
    {
     "data": {
      "text/plain": [
       "(3, 4)"
      ]
     },
     "execution_count": 28,
     "metadata": {},
     "output_type": "execute_result"
    }
   ],
   "source": [
    "# Gives the length of each dimension (rows, columns, depth, ...)\n",
    "o.shape"
   ]
  },
  {
   "cell_type": "code",
   "execution_count": 40,
   "metadata": {},
   "outputs": [
    {
     "data": {
      "text/plain": [
       "4"
      ]
     },
     "execution_count": 40,
     "metadata": {},
     "output_type": "execute_result"
    }
   ],
   "source": [
    "## Gives number of elements along an axis o.size or np.size(o, axis=) \n",
    "## if no axis is given then gives number of elements in the entire array\n",
    "o.size\n",
    "np.size(o, axis=1)"
   ]
  },
  {
   "cell_type": "code",
   "execution_count": 42,
   "metadata": {
    "scrolled": true
   },
   "outputs": [
    {
     "data": {
      "text/plain": [
       "dtype('float64')"
      ]
     },
     "execution_count": 42,
     "metadata": {},
     "output_type": "execute_result"
    }
   ],
   "source": [
    "# Returns data type\n",
    "o.dtype"
   ]
  },
  {
   "cell_type": "code",
   "execution_count": 43,
   "metadata": {
    "scrolled": false
   },
   "outputs": [
    {
     "data": {
      "text/plain": [
       "96"
      ]
     },
     "execution_count": 43,
     "metadata": {},
     "output_type": "execute_result"
    }
   ],
   "source": [
    "o.nbytes"
   ]
  },
  {
   "cell_type": "code",
   "execution_count": 44,
   "metadata": {},
   "outputs": [
    {
     "data": {
      "text/plain": [
       "8"
      ]
     },
     "execution_count": 44,
     "metadata": {},
     "output_type": "execute_result"
    }
   ],
   "source": [
    "o.itemsize"
   ]
  },
  {
   "cell_type": "markdown",
   "metadata": {
    "slideshow": {
     "slide_type": "slide"
    }
   },
   "source": [
    "# array methods\n",
    "Array methods facilitate efficient operations on `numpy` arrays. \n",
    "\n",
    "2D `numpy` arrays \n",
    "* inherit the methods discussed for 1D `numpy` arrays\n",
    "* add methods tuned for multidimensional arrays."
   ]
  },
  {
   "cell_type": "markdown",
   "metadata": {},
   "source": [
    "<img src=\"http://www.dropbox.com/s/fcucolyuzdjl80k/todo.jpg?raw=1\" width=\"10%\" align=\"right\">\n",
    "\n",
    "Explain the **methods** associated with 2D `ndarray`s.\n",
    "* Add comments explaining their purpose. \n",
    "* Include examples demonstrating their usage."
   ]
  },
  {
   "cell_type": "code",
   "execution_count": null,
   "metadata": {},
   "outputs": [],
   "source": [
    "#ndarray.all(axis=, out=, keepdims=, *, where=)"
   ]
  },
  {
   "cell_type": "code",
   "execution_count": null,
   "metadata": {},
   "outputs": [],
   "source": [
    "#np.append(array, values, axis=)"
   ]
  },
  {
   "cell_type": "code",
   "execution_count": null,
   "metadata": {},
   "outputs": [],
   "source": [
    "#np.insert(arr, obj, values, axis=)"
   ]
  },
  {
   "cell_type": "code",
   "execution_count": 6,
   "metadata": {},
   "outputs": [
    {
     "name": "stdout",
     "output_type": "stream",
     "text": [
      "Help on function insert in numpy:\n",
      "\n",
      "numpy.insert = insert(arr, obj, values, axis=None)\n",
      "    Insert values along the given axis before the given indices.\n",
      "    \n",
      "    Parameters\n",
      "    ----------\n",
      "    arr : array_like\n",
      "        Input array.\n",
      "    obj : int, slice or sequence of ints\n",
      "        Object that defines the index or indices before which `values` is\n",
      "        inserted.\n",
      "    \n",
      "        .. versionadded:: 1.8.0\n",
      "    \n",
      "        Support for multiple insertions when `obj` is a single scalar or a\n",
      "        sequence with one element (similar to calling insert multiple\n",
      "        times).\n",
      "    values : array_like\n",
      "        Values to insert into `arr`. If the type of `values` is different\n",
      "        from that of `arr`, `values` is converted to the type of `arr`.\n",
      "        `values` should be shaped so that ``arr[...,obj,...] = values``\n",
      "        is legal.\n",
      "    axis : int, optional\n",
      "        Axis along which to insert `values`.  If `axis` is None then `arr`\n",
      "        is flattened first.\n",
      "    \n",
      "    Returns\n",
      "    -------\n",
      "    out : ndarray\n",
      "        A copy of `arr` with `values` inserted.  Note that `insert`\n",
      "        does not occur in-place: a new array is returned. If\n",
      "        `axis` is None, `out` is a flattened array.\n",
      "    \n",
      "    See Also\n",
      "    --------\n",
      "    append : Append elements at the end of an array.\n",
      "    concatenate : Join a sequence of arrays along an existing axis.\n",
      "    delete : Delete elements from an array.\n",
      "    \n",
      "    Notes\n",
      "    -----\n",
      "    Note that for higher dimensional inserts `obj=0` behaves very different\n",
      "    from `obj=[0]` just like `arr[:,0,:] = values` is different from\n",
      "    `arr[:,[0],:] = values`.\n",
      "    \n",
      "    Examples\n",
      "    --------\n",
      "    >>> a = np.array([[1, 1], [2, 2], [3, 3]])\n",
      "    >>> a\n",
      "    array([[1, 1],\n",
      "           [2, 2],\n",
      "           [3, 3]])\n",
      "    >>> np.insert(a, 1, 5)\n",
      "    array([1, 5, 1, ..., 2, 3, 3])\n",
      "    >>> np.insert(a, 1, 5, axis=1)\n",
      "    array([[1, 5, 1],\n",
      "           [2, 5, 2],\n",
      "           [3, 5, 3]])\n",
      "    \n",
      "    Difference between sequence and scalars:\n",
      "    \n",
      "    >>> np.insert(a, [1], [[1],[2],[3]], axis=1)\n",
      "    array([[1, 1, 1],\n",
      "           [2, 2, 2],\n",
      "           [3, 3, 3]])\n",
      "    >>> np.array_equal(np.insert(a, 1, [1, 2, 3], axis=1),\n",
      "    ...                np.insert(a, [1], [[1],[2],[3]], axis=1))\n",
      "    True\n",
      "    \n",
      "    >>> b = a.flatten()\n",
      "    >>> b\n",
      "    array([1, 1, 2, 2, 3, 3])\n",
      "    >>> np.insert(b, [2, 2], [5, 6])\n",
      "    array([1, 1, 5, ..., 2, 3, 3])\n",
      "    \n",
      "    >>> np.insert(b, slice(2, 4), [5, 6])\n",
      "    array([1, 1, 5, ..., 2, 3, 3])\n",
      "    \n",
      "    >>> np.insert(b, [2, 2], [7.13, False]) # type casting\n",
      "    array([1, 1, 7, ..., 2, 3, 3])\n",
      "    \n",
      "    >>> x = np.arange(8).reshape(2, 4)\n",
      "    >>> idx = (1, 3)\n",
      "    >>> np.insert(x, idx, 999, axis=1)\n",
      "    array([[  0, 999,   1,   2, 999,   3],\n",
      "           [  4, 999,   5,   6, 999,   7]])\n",
      "\n"
     ]
    }
   ],
   "source": [
    "import numpy as np\n",
    "help('numpy.insert')"
   ]
  },
  {
   "cell_type": "markdown",
   "metadata": {
    "slideshow": {
     "slide_type": "slide"
    }
   },
   "source": [
    "## array ordering\n",
    "`numpy` arrays can be ordered in different ways:\n",
    "* **row major**: row elements are contiguous in memory (quick!)\n",
    "* **column major**: column elements are contiguous in memory"
   ]
  },
  {
   "cell_type": "markdown",
   "metadata": {},
   "source": [
    "## array access\n",
    "`numpy` arrays are accessed efficiently by caching:\n",
    "* **row major**: loop over columns first (external), then over rows (internal)\n",
    "* **column major**: loop over rows first, then over columns"
   ]
  },
  {
   "cell_type": "markdown",
   "metadata": {
    "slideshow": {
     "slide_type": "slide"
    }
   },
   "source": [
    "## `ndarray.reshape()`\n",
    "Gives a new shape to an array without changing its data.\n",
    "\n",
    "Specifies how the elements of the `numpy` array are organized.\n",
    "* `order='C'`: column index changing fastest (**C**) - row major\n",
    "* `order='F'`: row index changing fastest (**Fortran**) - column major"
   ]
  },
  {
   "cell_type": "markdown",
   "metadata": {
    "slideshow": {
     "slide_type": "slide"
    }
   },
   "source": [
    "### C convention - row major ordering"
   ]
  },
  {
   "cell_type": "code",
   "execution_count": 52,
   "metadata": {
    "scrolled": false
   },
   "outputs": [
    {
     "name": "stdout",
     "output_type": "stream",
     "text": [
      "[ 0  1  2  3  4  5  6  7  8  9 10 11]\n"
     ]
    }
   ],
   "source": [
    "a = np.arange( nRows*nCols, dtype=int)\n",
    "print(a)"
   ]
  },
  {
   "cell_type": "code",
   "execution_count": 53,
   "metadata": {},
   "outputs": [
    {
     "name": "stdout",
     "output_type": "stream",
     "text": [
      "[[ 0  1  2  3]\n",
      " [ 4  5  6  7]\n",
      " [ 8  9 10 11]]\n"
     ]
    }
   ],
   "source": [
    "bC = a.reshape( [nRows,nCols], order='C')\n",
    "print(bC)"
   ]
  },
  {
   "cell_type": "code",
   "execution_count": 54,
   "metadata": {
    "scrolled": true
   },
   "outputs": [
    {
     "name": "stdout",
     "output_type": "stream",
     "text": [
      "[ 0  1  2  3  4  5  6  7  8  9 10 11]\n"
     ]
    }
   ],
   "source": [
    "cC = bC.reshape( nRows*nCols, order='C')\n",
    "print(cC)"
   ]
  },
  {
   "cell_type": "markdown",
   "metadata": {
    "slideshow": {
     "slide_type": "slide"
    }
   },
   "source": [
    "### Fortran convention - column major ordering"
   ]
  },
  {
   "cell_type": "code",
   "execution_count": 55,
   "metadata": {},
   "outputs": [
    {
     "name": "stdout",
     "output_type": "stream",
     "text": [
      "[ 0  1  2  3  4  5  6  7  8  9 10 11]\n"
     ]
    }
   ],
   "source": [
    "a = np.arange( nRows*nCols, dtype=int)\n",
    "print(a)"
   ]
  },
  {
   "cell_type": "code",
   "execution_count": 56,
   "metadata": {},
   "outputs": [
    {
     "name": "stdout",
     "output_type": "stream",
     "text": [
      "[[ 0  3  6  9]\n",
      " [ 1  4  7 10]\n",
      " [ 2  5  8 11]]\n"
     ]
    }
   ],
   "source": [
    "bF = a.reshape( [nRows,nCols], order='F')\n",
    "print(bF)"
   ]
  },
  {
   "cell_type": "code",
   "execution_count": 57,
   "metadata": {
    "scrolled": false
   },
   "outputs": [
    {
     "name": "stdout",
     "output_type": "stream",
     "text": [
      "[ 0  1  2  3  4  5  6  7  8  9 10 11]\n"
     ]
    }
   ],
   "source": [
    "cF = bF.reshape( nRows*nCols, order='F')\n",
    "print(cF)"
   ]
  },
  {
   "cell_type": "markdown",
   "metadata": {
    "slideshow": {
     "slide_type": "slide"
    }
   },
   "source": [
    "### C convention - column index changing fastest"
   ]
  },
  {
   "cell_type": "code",
   "execution_count": 58,
   "metadata": {
    "slideshow": {
     "slide_type": "-"
    }
   },
   "outputs": [
    {
     "name": "stdout",
     "output_type": "stream",
     "text": [
      "r c\n",
      "\n",
      "0 0 \t 0\n",
      "0 1 \t 1\n",
      "0 2 \t 2\n",
      "0 3 \t 3\n",
      "\n",
      "1 0 \t 4\n",
      "1 1 \t 5\n",
      "1 2 \t 6\n",
      "1 3 \t 7\n",
      "\n",
      "2 0 \t 8\n",
      "2 1 \t 9\n",
      "2 2 \t 10\n",
      "2 3 \t 11\n"
     ]
    }
   ],
   "source": [
    "print('r c')\n",
    "for iRow in range(nRows):                   # slow axis\n",
    "    print('')\n",
    "    for iCol in range(nCols):               # fast axis - cols\n",
    "        print( iRow,iCol,'\\t', bC[iRow,iCol] )"
   ]
  },
  {
   "cell_type": "markdown",
   "metadata": {
    "slideshow": {
     "slide_type": "slide"
    }
   },
   "source": [
    "### Fortran convention - row index changing fastest"
   ]
  },
  {
   "cell_type": "code",
   "execution_count": 59,
   "metadata": {
    "scrolled": true,
    "slideshow": {
     "slide_type": "-"
    }
   },
   "outputs": [
    {
     "name": "stdout",
     "output_type": "stream",
     "text": [
      "r c\n",
      "\n",
      "0 0 \t 0\n",
      "1 0 \t 1\n",
      "2 0 \t 2\n",
      "\n",
      "0 1 \t 3\n",
      "1 1 \t 4\n",
      "2 1 \t 5\n",
      "\n",
      "0 2 \t 6\n",
      "1 2 \t 7\n",
      "2 2 \t 8\n",
      "\n",
      "0 3 \t 9\n",
      "1 3 \t 10\n",
      "2 3 \t 11\n"
     ]
    }
   ],
   "source": [
    "print('r c')\n",
    "for iCol in range(nCols):                   # slow axis\n",
    "    print('')\n",
    "    for iRow in range(nRows):               # fast axis - rows\n",
    "        print( iRow,iCol,'\\t', bF[iRow,iCol] )"
   ]
  },
  {
   "cell_type": "markdown",
   "metadata": {
    "slideshow": {
     "slide_type": "slide"
    }
   },
   "source": [
    "# array ordering/access summary\n",
    "\n",
    "* array access is by `ndarray[iRow,iCol]`\n",
    "* `numpy` defaults to the C convention (row major) \n",
    "* fastest access is achieved using \n",
    "    * exterior loop over rows\n",
    "    * interior loop over columns"
   ]
  },
  {
   "cell_type": "code",
   "execution_count": 60,
   "metadata": {
    "slideshow": {
     "slide_type": "slide"
    }
   },
   "outputs": [
    {
     "name": "stdout",
     "output_type": "stream",
     "text": [
      "(10240, 10240) 800.0 Mb\n"
     ]
    }
   ],
   "source": [
    "import time\n",
    "nR,nC = 1024*10,1024*10\n",
    "\n",
    "# construct a row-major array (C convention)\n",
    "a = np.ones( [nR,nC], dtype=float, order='C')\n",
    "a /= (nR*nC)\n",
    "\n",
    "print(a.shape, a.nbytes/1024/1024,'Mb')"
   ]
  },
  {
   "cell_type": "code",
   "execution_count": 61,
   "metadata": {
    "slideshow": {
     "slide_type": "-"
    }
   },
   "outputs": [
    {
     "name": "stdout",
     "output_type": "stream",
     "text": [
      "1.000\n",
      "121 s\n"
     ]
    }
   ],
   "source": [
    "tick = time.time()\n",
    "s = 0\n",
    "for iR in range(nR):     # outer loop over rows  \n",
    "    for iC in range(nC): # inner loop over columns (efficient) \n",
    "        s += a[iR,iC]\n",
    "tock = time.time()\n",
    "\n",
    "print( format( s,'.3f') )\n",
    "print( format( (tock-tick),'.0f'),'s' )"
   ]
  },
  {
   "cell_type": "code",
   "execution_count": null,
   "metadata": {},
   "outputs": [],
   "source": [
    "tick = time.time()\n",
    "s = 0\n",
    "for iC in range(nC):     # outer loop over columns\n",
    "    for iR in range(nR): # inner loop over rows (inefficient)\n",
    "        s += a[iR,iC]\n",
    "tock = time.time()\n",
    "       \n",
    "print( format( s,'.3f') )\n",
    "print( format( (tock-tick),'.0f'),'s' )"
   ]
  },
  {
   "cell_type": "markdown",
   "metadata": {
    "slideshow": {
     "slide_type": "slide"
    }
   },
   "source": [
    "# `ndarray.reshape()`\n",
    "\n",
    "**N.B.**: Transformation is in-place:\n",
    "* efficient use of memory, but\n",
    "* can lead to confusion."
   ]
  },
  {
   "cell_type": "code",
   "execution_count": 62,
   "metadata": {
    "scrolled": true,
    "slideshow": {
     "slide_type": "slide"
    }
   },
   "outputs": [
    {
     "name": "stdout",
     "output_type": "stream",
     "text": [
      "[ 0  1  2  3  4  5  6  7  8  9 10 11]\n"
     ]
    }
   ],
   "source": [
    "a = np.arange( nRows*nCols , dtype=int)\n",
    "print(a)"
   ]
  },
  {
   "cell_type": "code",
   "execution_count": 63,
   "metadata": {},
   "outputs": [
    {
     "name": "stdout",
     "output_type": "stream",
     "text": [
      "[[ 0  1  2  3]\n",
      " [ 4  5  6  7]\n",
      " [ 8  9 10 11]]\n"
     ]
    }
   ],
   "source": [
    "b = a.reshape( [nRows,nCols] )\n",
    "print(b)"
   ]
  },
  {
   "cell_type": "code",
   "execution_count": 64,
   "metadata": {
    "scrolled": true
   },
   "outputs": [
    {
     "name": "stdout",
     "output_type": "stream",
     "text": [
      "[[-1 -1  2  3]\n",
      " [-1 -1  6  7]\n",
      " [ 8  9 10 11]]\n"
     ]
    }
   ],
   "source": [
    "b[0:2,0:2] = -1\n",
    "print(b)"
   ]
  },
  {
   "cell_type": "code",
   "execution_count": 67,
   "metadata": {},
   "outputs": [
    {
     "name": "stdout",
     "output_type": "stream",
     "text": [
      "[ 0  1  2  3  4  5  6  7  8  9 10 11]\n"
     ]
    }
   ],
   "source": [
    "# The change to b changed a and thats not very good\n",
    "print(a)"
   ]
  },
  {
   "cell_type": "markdown",
   "metadata": {
    "slideshow": {
     "slide_type": "slide"
    }
   },
   "source": [
    "## `ndarray.copy()`\n",
    "\n",
    "Makes an explicit copy of an array at another location in memory."
   ]
  },
  {
   "cell_type": "code",
   "execution_count": 68,
   "metadata": {
    "slideshow": {
     "slide_type": "slide"
    }
   },
   "outputs": [
    {
     "name": "stdout",
     "output_type": "stream",
     "text": [
      "[ 0  1  2  3  4  5  6  7  8  9 10 11]\n"
     ]
    }
   ],
   "source": [
    "a = np.arange( nRows*nCols , dtype=int)\n",
    "print(a)"
   ]
  },
  {
   "cell_type": "code",
   "execution_count": 69,
   "metadata": {},
   "outputs": [
    {
     "name": "stdout",
     "output_type": "stream",
     "text": [
      "[[ 0  1  2  3]\n",
      " [ 4  5  6  7]\n",
      " [ 8  9 10 11]]\n"
     ]
    }
   ],
   "source": [
    "b = a.reshape( [nRows,nCols] ).copy()\n",
    "print(b)"
   ]
  },
  {
   "cell_type": "code",
   "execution_count": 71,
   "metadata": {},
   "outputs": [
    {
     "name": "stdout",
     "output_type": "stream",
     "text": [
      "[[-1 -1  2  3]\n",
      " [-1 -1  6  7]\n",
      " [ 8  9 10 11]]\n"
     ]
    }
   ],
   "source": [
    "b[0:2,0:2] = -1\n",
    "print(b)"
   ]
  },
  {
   "cell_type": "code",
   "execution_count": 73,
   "metadata": {},
   "outputs": [
    {
     "name": "stdout",
     "output_type": "stream",
     "text": [
      "[ 0  1  2  3  4  5  6  7  8  9 10 11]\n"
     ]
    }
   ],
   "source": [
    "# a is not changed since we copied b to a new place in memory\n",
    "print(a)"
   ]
  },
  {
   "cell_type": "markdown",
   "metadata": {
    "slideshow": {
     "slide_type": "slide"
    }
   },
   "source": [
    "## `ndarray.ravel()`\n",
    "Returns a contiguous flattened array.\n",
    "\n",
    "**N.B.**: Does not make a copy of the array."
   ]
  },
  {
   "cell_type": "code",
   "execution_count": 74,
   "metadata": {},
   "outputs": [
    {
     "name": "stdout",
     "output_type": "stream",
     "text": [
      "[[ 0  1  2  3]\n",
      " [ 4  5  6  7]\n",
      " [ 8  9 10 11]]\n"
     ]
    }
   ],
   "source": [
    "a = np.arange( nRows*nCols , dtype=int).reshape( [nRows,nCols])\n",
    "print(a)"
   ]
  },
  {
   "cell_type": "code",
   "execution_count": 75,
   "metadata": {},
   "outputs": [
    {
     "name": "stdout",
     "output_type": "stream",
     "text": [
      "[ 0  1  2  3  4  5  6  7  8  9 10 11]\n"
     ]
    }
   ],
   "source": [
    "b = a.ravel()\n",
    "print(b)"
   ]
  },
  {
   "cell_type": "markdown",
   "metadata": {
    "slideshow": {
     "slide_type": "slide"
    }
   },
   "source": [
    "## `ndarray.flatten()`\n",
    "Returns a copy of the array collapsed into one dimension.\n",
    "\n",
    "**N.B.**: Makes a copy of the array. "
   ]
  },
  {
   "cell_type": "code",
   "execution_count": 76,
   "metadata": {},
   "outputs": [
    {
     "name": "stdout",
     "output_type": "stream",
     "text": [
      "[[ 0  1  2  3]\n",
      " [ 4  5  6  7]\n",
      " [ 8  9 10 11]]\n"
     ]
    }
   ],
   "source": [
    "a = np.arange( nRows*nCols , dtype=int).reshape( [nRows,nCols], order='C')\n",
    "print(a)"
   ]
  },
  {
   "cell_type": "code",
   "execution_count": 77,
   "metadata": {
    "scrolled": true
   },
   "outputs": [
    {
     "name": "stdout",
     "output_type": "stream",
     "text": [
      "[ 0  1  2  3  4  5  6  7  8  9 10 11]\n"
     ]
    }
   ],
   "source": [
    "b = a.flatten()\n",
    "print(b)"
   ]
  },
  {
   "cell_type": "markdown",
   "metadata": {
    "slideshow": {
     "slide_type": "slide"
    }
   },
   "source": [
    "The ordering of elements in the array matters."
   ]
  },
  {
   "cell_type": "code",
   "execution_count": 78,
   "metadata": {
    "slideshow": {
     "slide_type": "-"
    }
   },
   "outputs": [
    {
     "name": "stdout",
     "output_type": "stream",
     "text": [
      "[[ 0  3  6  9]\n",
      " [ 1  4  7 10]\n",
      " [ 2  5  8 11]]\n"
     ]
    }
   ],
   "source": [
    "a = np.arange( nRows*nCols , dtype=int).reshape( [nRows,nCols], order='F')\n",
    "print(a)"
   ]
  },
  {
   "cell_type": "code",
   "execution_count": 80,
   "metadata": {},
   "outputs": [
    {
     "name": "stdout",
     "output_type": "stream",
     "text": [
      "[ 0  3  6  9  1  4  7 10  2  5  8 11]\n"
     ]
    }
   ],
   "source": [
    "# Notice the rows are mod(3) then 1mod(3) then 2mod(3)\n",
    "b = a.flatten()\n",
    "print(b)"
   ]
  },
  {
   "cell_type": "markdown",
   "metadata": {
    "slideshow": {
     "slide_type": "slide"
    }
   },
   "source": [
    "## `ndarray.resize()`\n",
    "Change the shape and size of an array in place."
   ]
  },
  {
   "cell_type": "code",
   "execution_count": 81,
   "metadata": {},
   "outputs": [
    {
     "name": "stdout",
     "output_type": "stream",
     "text": [
      "[[ 0  1  2  3]\n",
      " [ 4  5  6  7]\n",
      " [ 8  9 10 11]]\n"
     ]
    }
   ],
   "source": [
    "a = np.arange( nRows*nCols , dtype=int).reshape( [nRows,nCols]).copy()\n",
    "print(a)"
   ]
  },
  {
   "cell_type": "code",
   "execution_count": 82,
   "metadata": {},
   "outputs": [
    {
     "name": "stdout",
     "output_type": "stream",
     "text": [
      "[[0 1]\n",
      " [2 3]\n",
      " [4 5]]\n"
     ]
    }
   ],
   "source": [
    "a.resize([3,2])\n",
    "print(a)"
   ]
  },
  {
   "cell_type": "markdown",
   "metadata": {
    "slideshow": {
     "slide_type": "slide"
    }
   },
   "source": [
    "## `ndarray.compress()`\n",
    "Returns selected slices of an array along a given axis."
   ]
  },
  {
   "cell_type": "code",
   "execution_count": 83,
   "metadata": {
    "scrolled": true
   },
   "outputs": [
    {
     "name": "stdout",
     "output_type": "stream",
     "text": [
      "[[ 0  1  2  3]\n",
      " [ 4  5  6  7]\n",
      " [ 8  9 10 11]] \n",
      "\n",
      "[[ 4  5  6  7]\n",
      " [ 8  9 10 11]]\n"
     ]
    }
   ],
   "source": [
    "a = np.arange( nRows*nCols , dtype=int).reshape( [nRows,nCols]).copy()\n",
    "print(a,'\\n')\n",
    "\n",
    "b = a.compress( [False,True,True], axis=0 )       # select rows\n",
    "print(b)"
   ]
  },
  {
   "cell_type": "code",
   "execution_count": 84,
   "metadata": {
    "scrolled": true
   },
   "outputs": [
    {
     "name": "stdout",
     "output_type": "stream",
     "text": [
      "[[ 0  1  2  3]\n",
      " [ 4  5  6  7]\n",
      " [ 8  9 10 11]] \n",
      "\n",
      "[[ 1  2]\n",
      " [ 5  6]\n",
      " [ 9 10]]\n"
     ]
    }
   ],
   "source": [
    "a = np.arange( nRows*nCols , dtype=int).reshape( [nRows,nCols]).copy()\n",
    "print(a,'\\n')\n",
    "\n",
    "c = a.compress( [False,True,True,False], axis=1 ) # select columns\n",
    "print(c)"
   ]
  },
  {
   "cell_type": "code",
   "execution_count": 85,
   "metadata": {
    "slideshow": {
     "slide_type": "slide"
    }
   },
   "outputs": [
    {
     "name": "stdout",
     "output_type": "stream",
     "text": [
      "[[ 0  1  2  3]\n",
      " [ 4  5  6  7]\n",
      " [ 8  9 10 11]] \n",
      "\n",
      "[[ 4  5  6  7]\n",
      " [ 8  9 10 11]]\n"
     ]
    }
   ],
   "source": [
    "a = np.arange( nRows*nCols , dtype=int).reshape( [nRows,nCols]).copy()\n",
    "print(a,'\\n')\n",
    "\n",
    "d = a.compress( [0,1,1], axis=0 )     # select rows\n",
    "print(d)"
   ]
  },
  {
   "cell_type": "code",
   "execution_count": 86,
   "metadata": {},
   "outputs": [
    {
     "name": "stdout",
     "output_type": "stream",
     "text": [
      "[[ 0  1  2  3]\n",
      " [ 4  5  6  7]\n",
      " [ 8  9 10 11]] \n",
      "\n",
      "[[ 1  2]\n",
      " [ 5  6]\n",
      " [ 9 10]]\n"
     ]
    }
   ],
   "source": [
    "a = np.arange( nRows*nCols , dtype=int).reshape( [nRows,nCols]).copy()\n",
    "print(a,'\\n')\n",
    "\n",
    "c = a.compress( [0,1,1,0], axis=1 )   # select columns\n",
    "print(c)"
   ]
  },
  {
   "cell_type": "markdown",
   "metadata": {
    "slideshow": {
     "slide_type": "slide"
    }
   },
   "source": [
    "## `ndarray.squeeze()`\n",
    "Remove 1D components from the shape of an array."
   ]
  },
  {
   "cell_type": "code",
   "execution_count": 87,
   "metadata": {},
   "outputs": [
    {
     "name": "stdout",
     "output_type": "stream",
     "text": [
      "[[[ 0  1  2  3  4  5]]\n",
      "\n",
      " [[ 6  7  8  9 10 11]]] \n",
      "\n",
      "(2, 1, 6)\n"
     ]
    }
   ],
   "source": [
    "a = np.arange( nRows*nCols , dtype=int).reshape( [2,1,int(nRows*nCols/2)] )\n",
    "print(a,'\\n')\n",
    "print(a.shape)"
   ]
  },
  {
   "cell_type": "code",
   "execution_count": 88,
   "metadata": {},
   "outputs": [
    {
     "name": "stdout",
     "output_type": "stream",
     "text": [
      "[[ 0  1  2  3  4  5]\n",
      " [ 6  7  8  9 10 11]] \n",
      "\n",
      "(2, 6)\n"
     ]
    }
   ],
   "source": [
    "b = a.squeeze( 1 )\n",
    "print(b,'\\n')\n",
    "print(b.shape)"
   ]
  },
  {
   "cell_type": "markdown",
   "metadata": {
    "slideshow": {
     "slide_type": "slide"
    }
   },
   "source": [
    "## `ndarray.swapaxes()`\n",
    "Interchange two axes of an array."
   ]
  },
  {
   "cell_type": "code",
   "execution_count": 89,
   "metadata": {},
   "outputs": [
    {
     "name": "stdout",
     "output_type": "stream",
     "text": [
      "[[[ 0  1  2  3  4  5]]\n",
      "\n",
      " [[ 6  7  8  9 10 11]]] \n",
      "\n",
      "(2, 1, 6)\n"
     ]
    }
   ],
   "source": [
    "a = np.arange( nRows*nCols , dtype=int).reshape( [2,1,int(nRows*nCols/2)])\n",
    "print(a,'\\n')\n",
    "print(a.shape)"
   ]
  },
  {
   "cell_type": "code",
   "execution_count": 90,
   "metadata": {},
   "outputs": [
    {
     "name": "stdout",
     "output_type": "stream",
     "text": [
      "[[[ 0]\n",
      "  [ 1]\n",
      "  [ 2]\n",
      "  [ 3]\n",
      "  [ 4]\n",
      "  [ 5]]\n",
      "\n",
      " [[ 6]\n",
      "  [ 7]\n",
      "  [ 8]\n",
      "  [ 9]\n",
      "  [10]\n",
      "  [11]]] \n",
      "\n",
      "(2, 6, 1)\n"
     ]
    }
   ],
   "source": [
    "b = a.swapaxes(1,2)\n",
    "print(b,'\\n')\n",
    "print(b.shape)"
   ]
  },
  {
   "cell_type": "code",
   "execution_count": 95,
   "metadata": {},
   "outputs": [
    {
     "name": "stdout",
     "output_type": "stream",
     "text": [
      "[[ 0  1  2  3  4  5]\n",
      " [ 6  7  8  9 10 11]]\n"
     ]
    }
   ],
   "source": [
    "c = a.squeeze( 1 )\n",
    "print(c)"
   ]
  },
  {
   "cell_type": "markdown",
   "metadata": {
    "heading_collapsed": true,
    "slideshow": {
     "slide_type": "slide"
    }
   },
   "source": [
    "## `ndarray.transpose()`\n",
    "Permute the dimensions of an array."
   ]
  },
  {
   "cell_type": "code",
   "execution_count": 96,
   "metadata": {
    "hidden": true,
    "scrolled": true
   },
   "outputs": [
    {
     "name": "stdout",
     "output_type": "stream",
     "text": [
      "[[[ 0  1  2  3  4  5]]\n",
      "\n",
      " [[ 6  7  8  9 10 11]]] \n",
      "\n",
      "(2, 1, 6)\n"
     ]
    }
   ],
   "source": [
    "a = np.arange( nRows*nCols , dtype=int).reshape( [2,1,int(nRows*nCols/2)])\n",
    "print(a,'\\n')\n",
    "print(a.shape)"
   ]
  },
  {
   "cell_type": "code",
   "execution_count": 97,
   "metadata": {
    "hidden": true
   },
   "outputs": [
    {
     "name": "stdout",
     "output_type": "stream",
     "text": [
      "[[[ 0  6]]\n",
      "\n",
      " [[ 1  7]]\n",
      "\n",
      " [[ 2  8]]\n",
      "\n",
      " [[ 3  9]]\n",
      "\n",
      " [[ 4 10]]\n",
      "\n",
      " [[ 5 11]]] \n",
      "\n",
      "(6, 1, 2)\n"
     ]
    }
   ],
   "source": [
    "b = a.transpose()\n",
    "print(b,'\\n')\n",
    "print(b.shape)"
   ]
  },
  {
   "cell_type": "markdown",
   "metadata": {
    "slideshow": {
     "slide_type": "slide"
    }
   },
   "source": [
    "## `ndarray.diagonal()`\n",
    "Return specified diagonals."
   ]
  },
  {
   "cell_type": "code",
   "execution_count": 98,
   "metadata": {},
   "outputs": [
    {
     "name": "stdout",
     "output_type": "stream",
     "text": [
      "[[ 0  1  2  3]\n",
      " [ 4  5  6  7]\n",
      " [ 8  9 10 11]]\n"
     ]
    }
   ],
   "source": [
    "a = np.arange( nRows*nCols , dtype=int).reshape( [nRows,nCols])\n",
    "print(a)"
   ]
  },
  {
   "cell_type": "code",
   "execution_count": 99,
   "metadata": {
    "scrolled": true
   },
   "outputs": [
    {
     "name": "stdout",
     "output_type": "stream",
     "text": [
      "[ 1  6 11]\n"
     ]
    }
   ],
   "source": [
    "b = a.diagonal(1)\n",
    "print(b)"
   ]
  },
  {
   "cell_type": "markdown",
   "metadata": {
    "slideshow": {
     "slide_type": "slide"
    }
   },
   "source": [
    "## `ndarray.trace()`\n",
    "Return the sum along diagonals of the array."
   ]
  },
  {
   "cell_type": "code",
   "execution_count": 100,
   "metadata": {},
   "outputs": [
    {
     "name": "stdout",
     "output_type": "stream",
     "text": [
      "[[ 0  1  2  3]\n",
      " [ 4  5  6  7]\n",
      " [ 8  9 10 11]]\n"
     ]
    }
   ],
   "source": [
    "a = np.arange( nRows*nCols , dtype=int).reshape( [nRows,nCols] )\n",
    "print(a)"
   ]
  },
  {
   "cell_type": "code",
   "execution_count": 101,
   "metadata": {
    "scrolled": false
   },
   "outputs": [
    {
     "name": "stdout",
     "output_type": "stream",
     "text": [
      "18\n"
     ]
    }
   ],
   "source": [
    "print(a.trace(1))"
   ]
  },
  {
   "cell_type": "code",
   "execution_count": null,
   "metadata": {},
   "outputs": [],
   "source": []
  }
 ],
 "metadata": {
  "celltoolbar": "Slideshow",
  "kernelspec": {
   "display_name": "Python 3 (ipykernel)",
   "language": "python",
   "name": "python3"
  },
  "language_info": {
   "codemirror_mode": {
    "name": "ipython",
    "version": 3
   },
   "file_extension": ".py",
   "mimetype": "text/x-python",
   "name": "python",
   "nbconvert_exporter": "python",
   "pygments_lexer": "ipython3",
   "version": "3.9.2"
  },
  "varInspector": {
   "cols": {
    "lenName": 16,
    "lenType": 16,
    "lenVar": 40
   },
   "kernels_config": {
    "python": {
     "delete_cmd_postfix": "",
     "delete_cmd_prefix": "del ",
     "library": "var_list.py",
     "varRefreshCmd": "print(var_dic_list())"
    },
    "r": {
     "delete_cmd_postfix": ") ",
     "delete_cmd_prefix": "rm(",
     "library": "var_list.r",
     "varRefreshCmd": "cat(var_dic_list()) "
    }
   },
   "types_to_exclude": [
    "module",
    "function",
    "builtin_function_or_method",
    "instance",
    "_Feature"
   ],
   "window_display": false
  }
 },
 "nbformat": 4,
 "nbformat_minor": 2
}
