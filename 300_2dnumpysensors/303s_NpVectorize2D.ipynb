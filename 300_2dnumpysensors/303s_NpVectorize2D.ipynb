{
 "cells": [
  {
   "cell_type": "markdown",
   "metadata": {
    "slideshow": {
     "slide_type": "slide"
    }
   },
   "source": [
    "<img src=\"https://www.mines.edu/webcentral/wp-content/uploads/sites/267/2019/02/horizontallightbackground.jpg\" width=\"100%\"> \n",
    "### CSCI250 Python Computing: Building a Sensor System\n",
    "<hr style=\"height:5px\" width=\"100%\" align=\"left\">\n",
    "\n",
    "# `numpy`: 2D vectorization"
   ]
  },
  {
   "cell_type": "markdown",
   "metadata": {
    "heading_collapsed": true,
    "slideshow": {
     "slide_type": "slide"
    }
   },
   "source": [
    "# Objectives\n",
    "* introduce fast vectorized `numpy` array operations\n",
    "* evaluate computational speed-up relative to loops\n",
    "* use multidimensional `numpy` matrix/vector operations "
   ]
  },
  {
   "cell_type": "markdown",
   "metadata": {
    "heading_collapsed": true,
    "slideshow": {
     "slide_type": "slide"
    }
   },
   "source": [
    "# Resources\n",
    "* [numpy.org](http://www.numpy.org)\n",
    "* [`numpy` user guide](https://docs.scipy.org/doc/numpy/user)\n",
    "* [`numpy` reference](https://docs.scipy.org/doc/numpy/reference)"
   ]
  },
  {
   "cell_type": "markdown",
   "metadata": {
    "slideshow": {
     "slide_type": "slide"
    }
   },
   "source": [
    "# Definition\n",
    "\n",
    "**Vectorization**: a computational style in which multiple operations are executed at once, i.e. execute a single global operation instead of multiple smaller operations in a loop. \n",
    "\n",
    "Has multiple advantages:\n",
    "* **compact appearance**: the code resembles math\n",
    "* **error reduction**: the code is shorter, less complex\n",
    "* **execution performance**: the code runs much faster"
   ]
  },
  {
   "cell_type": "markdown",
   "metadata": {
    "slideshow": {
     "slide_type": "slide"
    }
   },
   "source": [
    "# Multi-dimensional vectorization\n",
    "\n",
    "Evaluate the function\n",
    "\n",
    "$z = \\sqrt{x^2 + y^2}$ \n",
    "\n",
    "$x$ and $y$ are `numpy` arrays of different dimensions."
   ]
  },
  {
   "cell_type": "code",
   "execution_count": null,
   "metadata": {
    "slideshow": {
     "slide_type": "slide"
    }
   },
   "outputs": [],
   "source": [
    "import numpy as np\n",
    "import time\n",
    "import matplotlib.pyplot as plt"
   ]
  },
  {
   "cell_type": "code",
   "execution_count": null,
   "metadata": {},
   "outputs": [],
   "source": [
    "dx = 1.0\n",
    "dy = 1.0\n",
    "\n",
    "ox = 0.0\n",
    "oy = 0.0\n",
    "\n",
    "nx = 51\n",
    "ny = 31"
   ]
  },
  {
   "cell_type": "code",
   "execution_count": null,
   "metadata": {},
   "outputs": [],
   "source": [
    "x = np.arange(ox, ox+nx*dx, dx)\n",
    "y = np.arange(oy, oy+ny*dy, dy)"
   ]
  },
  {
   "cell_type": "markdown",
   "metadata": {
    "slideshow": {
     "slide_type": "-"
    }
   },
   "source": [
    "The arrays have different sizes - cannot be vectorized."
   ]
  },
  {
   "cell_type": "code",
   "execution_count": null,
   "metadata": {
    "scrolled": false
   },
   "outputs": [],
   "source": [
    "# this does not work\n",
    "z = np.sqrt( x**2 + y**2 )"
   ]
  },
  {
   "cell_type": "markdown",
   "metadata": {
    "slideshow": {
     "slide_type": "slide"
    }
   },
   "source": [
    "Loops could generate a 2D $z$ array from 1D $x$ and $y$ arrays:"
   ]
  },
  {
   "cell_type": "code",
   "execution_count": null,
   "metadata": {},
   "outputs": [],
   "source": [
    "z = np.zeros( [ny,nx] , dtype=float)"
   ]
  },
  {
   "cell_type": "markdown",
   "metadata": {},
   "source": [
    "but are slow."
   ]
  },
  {
   "cell_type": "code",
   "execution_count": null,
   "metadata": {},
   "outputs": [],
   "source": [
    "tick = time.time()         # start clock\n",
    "\n",
    "for ix in range(nx):\n",
    "    for iy in range(ny):\n",
    "        z[iy,ix] = np.sqrt(x[ix]**2 + y[iy]**2)\n",
    "        \n",
    "tock = time.time()         #  stop clock\n",
    "dtLOOP = (tock-tick)*1e6   # time difference \n",
    "\n",
    "print('LOOP time =',int(dtLOOP),'(us)')"
   ]
  },
  {
   "cell_type": "markdown",
   "metadata": {
    "slideshow": {
     "slide_type": "slide"
    }
   },
   "source": [
    "## `np.meshgrid()`\n",
    "Returns coordinate matrices from coordinate vectors.\n",
    "\n",
    "Facilitate fast two-dimensional calculations."
   ]
  },
  {
   "cell_type": "code",
   "execution_count": null,
   "metadata": {},
   "outputs": [],
   "source": [
    "X, Y = np.meshgrid(x, y)"
   ]
  },
  {
   "cell_type": "code",
   "execution_count": null,
   "metadata": {
    "slideshow": {
     "slide_type": "slide"
    }
   },
   "outputs": [],
   "source": [
    "print(type(X))"
   ]
  },
  {
   "cell_type": "code",
   "execution_count": null,
   "metadata": {
    "slideshow": {
     "slide_type": "-"
    }
   },
   "outputs": [],
   "source": [
    "print(X.shape)"
   ]
  },
  {
   "cell_type": "code",
   "execution_count": null,
   "metadata": {
    "slideshow": {
     "slide_type": "-"
    }
   },
   "outputs": [],
   "source": [
    "print(x)"
   ]
  },
  {
   "cell_type": "code",
   "execution_count": null,
   "metadata": {
    "scrolled": false,
    "slideshow": {
     "slide_type": "-"
    }
   },
   "outputs": [],
   "source": [
    "print(X)"
   ]
  },
  {
   "cell_type": "code",
   "execution_count": null,
   "metadata": {
    "slideshow": {
     "slide_type": "slide"
    }
   },
   "outputs": [],
   "source": [
    "print(type(Y))"
   ]
  },
  {
   "cell_type": "code",
   "execution_count": null,
   "metadata": {
    "slideshow": {
     "slide_type": "-"
    }
   },
   "outputs": [],
   "source": [
    "print(Y.shape)"
   ]
  },
  {
   "cell_type": "code",
   "execution_count": null,
   "metadata": {
    "slideshow": {
     "slide_type": "-"
    }
   },
   "outputs": [],
   "source": [
    "print(y)"
   ]
  },
  {
   "cell_type": "code",
   "execution_count": null,
   "metadata": {
    "slideshow": {
     "slide_type": "-"
    }
   },
   "outputs": [],
   "source": [
    "print(Y)"
   ]
  },
  {
   "cell_type": "markdown",
   "metadata": {
    "slideshow": {
     "slide_type": "slide"
    }
   },
   "source": [
    "**non-vectorized code** (uses loops)"
   ]
  },
  {
   "cell_type": "code",
   "execution_count": null,
   "metadata": {},
   "outputs": [],
   "source": [
    "Z = np.empty( [ny,nx] )\n",
    "\n",
    "tick = time.time()           # start clock\n",
    "\n",
    "for ix in range(nx):\n",
    "    for iy in range(ny):\n",
    "        Z[iy,ix] = np.sqrt(X[iy,ix]**2 + Y[iy,ix]**2)\n",
    "            \n",
    "tock = time.time()           #  stop clock\n",
    "dLOOP = int((tock-tick)*1e6) # time difference     \n",
    "\n",
    "print( int(np.sum(Z)), dLOOP,'us' )"
   ]
  },
  {
   "cell_type": "markdown",
   "metadata": {
    "slideshow": {
     "slide_type": "slide"
    }
   },
   "source": [
    "**vectorized code** (does not use loops)"
   ]
  },
  {
   "cell_type": "code",
   "execution_count": null,
   "metadata": {},
   "outputs": [],
   "source": [
    "Z = np.empty( [ny,nx] )\n",
    "\n",
    "tick = time.time()           # start clock\n",
    "\n",
    "Z = np.sqrt(X**2 + Y**2)\n",
    "\n",
    "tock = time.time()           #  stop clock\n",
    "dVECT = int((tock-tick)*1e6) # time difference \n",
    "\n",
    "print( int(np.sum(Z)), dVECT,'us' )"
   ]
  },
  {
   "cell_type": "markdown",
   "metadata": {},
   "source": [
    "The **execution time** ratio is"
   ]
  },
  {
   "cell_type": "code",
   "execution_count": null,
   "metadata": {},
   "outputs": [],
   "source": [
    "int(dLOOP/dVECT)"
   ]
  },
  {
   "cell_type": "markdown",
   "metadata": {
    "slideshow": {
     "slide_type": "slide"
    }
   },
   "source": [
    "# matrix/vector multiplication"
   ]
  },
  {
   "cell_type": "markdown",
   "metadata": {
    "slideshow": {
     "slide_type": "-"
    }
   },
   "source": [
    "Define matrix $\\mathbf{A}$:"
   ]
  },
  {
   "cell_type": "code",
   "execution_count": null,
   "metadata": {},
   "outputs": [],
   "source": [
    "n1 = 200\n",
    "n2 = 400"
   ]
  },
  {
   "cell_type": "code",
   "execution_count": null,
   "metadata": {},
   "outputs": [],
   "source": [
    "T = np.arange(0,1,1/(n1*n2), dtype=float)"
   ]
  },
  {
   "cell_type": "code",
   "execution_count": null,
   "metadata": {
    "scrolled": true
   },
   "outputs": [],
   "source": [
    "A = T.reshape([n1,n2])\n",
    "\n",
    "print(A.shape)"
   ]
  },
  {
   "cell_type": "markdown",
   "metadata": {
    "slideshow": {
     "slide_type": "slide"
    }
   },
   "source": [
    "Define vector $\\mathbf{x}$:"
   ]
  },
  {
   "cell_type": "code",
   "execution_count": null,
   "metadata": {},
   "outputs": [],
   "source": [
    "x = np.arange( 0,1,1/n2, dtype='float')\n",
    "print(x.shape)"
   ]
  },
  {
   "cell_type": "markdown",
   "metadata": {},
   "source": [
    "Define vector $\\mathbf{b}$:"
   ]
  },
  {
   "cell_type": "code",
   "execution_count": null,
   "metadata": {},
   "outputs": [],
   "source": [
    "b = np.zeros(n2)\n",
    "print(b.shape)"
   ]
  },
  {
   "cell_type": "markdown",
   "metadata": {
    "slideshow": {
     "slide_type": "slide"
    }
   },
   "source": [
    "**non-vectorized code** (uses loops)"
   ]
  },
  {
   "cell_type": "code",
   "execution_count": null,
   "metadata": {
    "scrolled": true
   },
   "outputs": [],
   "source": [
    "tick = time.time()           # start clock\n",
    "\n",
    "for i1 in range(n1):\n",
    "    b[i1] = 0\n",
    "    for i2 in range(n2):\n",
    "        b[i1] += A[i1,i2] * x[i2] \n",
    "        \n",
    "tock = time.time()           #  stop clock\n",
    "dLOOP = int((tock-tick)*1e6) # time difference     \n",
    "\n",
    "print( int(np.sum(b)), dLOOP,'us' )"
   ]
  },
  {
   "cell_type": "markdown",
   "metadata": {
    "slideshow": {
     "slide_type": "slide"
    }
   },
   "source": [
    "# `.dot()`\n",
    "**vectorized code** (does not use loops)"
   ]
  },
  {
   "cell_type": "code",
   "execution_count": null,
   "metadata": {
    "slideshow": {
     "slide_type": "-"
    }
   },
   "outputs": [],
   "source": [
    "tick = time.time()           # start clock\n",
    "\n",
    "b = A.dot(x)\n",
    "\n",
    "tock = time.time()           #  stop clock\n",
    "dVECT = int((tock-tick)*1e6) # time difference \n",
    "\n",
    "print( int(np.sum(b)), dVECT,'us' )"
   ]
  },
  {
   "cell_type": "markdown",
   "metadata": {
    "slideshow": {
     "slide_type": "slide"
    }
   },
   "source": [
    "# `@`\n",
    "**vectorized code** (does not use loops)"
   ]
  },
  {
   "cell_type": "code",
   "execution_count": null,
   "metadata": {},
   "outputs": [],
   "source": [
    "tick = time.time()           # start clock\n",
    "\n",
    "b = A @ x\n",
    "\n",
    "tock = time.time()           #  stop clock\n",
    "dVECT = int((tock-tick)*1e6) # time difference \n",
    "\n",
    "print( int(np.sum(b)), dVECT,'us' )"
   ]
  },
  {
   "cell_type": "markdown",
   "metadata": {
    "slideshow": {
     "slide_type": "slide"
    }
   },
   "source": [
    "# `np.matmul()`\n",
    "**vectorized code** (does not use loops)"
   ]
  },
  {
   "cell_type": "code",
   "execution_count": null,
   "metadata": {
    "scrolled": false
   },
   "outputs": [],
   "source": [
    "tick = time.time()           # start clock\n",
    "\n",
    "b = np.matmul(A,x)\n",
    "\n",
    "tock = time.time()           #  stop clock\n",
    "dVECT = int((tock-tick)*1e6) # time difference \n",
    "\n",
    "print( int(np.sum(b)), dVECT,'us' )"
   ]
  },
  {
   "cell_type": "markdown",
   "metadata": {
    "slideshow": {
     "slide_type": "slide"
    }
   },
   "source": [
    "<img src=\"https://www.dropbox.com/s/7vd3ezqkyhdxmap/demo.png?raw=1\" width=\"10%\" align=\"left\">\n",
    "\n",
    "# Demo\n",
    "A 2D uncorrelated **Gaussian function** with center $c_x$,$c_y$ and standard deviations $\\sigma_x,\\sigma_y$ is defined by the formula:\n",
    "\n",
    "$$\n",
    "f(x,y) = \\dfrac{1}{2\\pi\\sigma_x\\sigma_y} \n",
    "e^{ -\\dfrac{1}{2} \n",
    "\\left[\n",
    "\\left( \\dfrac{x-c_x}{\\sigma_x} \\right)^2 +\n",
    "\\left( \\dfrac{y-c_y}{\\sigma_y} \\right)^2\n",
    "\\right]\n",
    "}\n",
    "$$\n",
    "\n",
    "* Compute the function for $x\\in[-4,+4]$ and $y\\in[-2,+2]$.\n",
    "* Find the index of the maximum value of the function."
   ]
  },
  {
   "cell_type": "markdown",
   "metadata": {
    "slideshow": {
     "slide_type": "slide"
    }
   },
   "source": [
    "Define coordinates $x$ and $y$."
   ]
  },
  {
   "cell_type": "code",
   "execution_count": null,
   "metadata": {},
   "outputs": [],
   "source": [
    "xMin, xMax, dx = -4.0, +4.0, 0.04\n",
    "yMin, yMax, dy = -2.0, +2.0, 0.04\n",
    "\n",
    "x = np.arange(xMin, xMax + dx, dx)\n",
    "y = np.arange(yMin, yMax + dy, dy)"
   ]
  },
  {
   "cell_type": "markdown",
   "metadata": {},
   "source": [
    "Generate 2D $X$ and $Y$ arrays for fast vectorized calculations."
   ]
  },
  {
   "cell_type": "code",
   "execution_count": null,
   "metadata": {},
   "outputs": [],
   "source": [
    "X, Y = np.meshgrid(x, y)"
   ]
  },
  {
   "cell_type": "markdown",
   "metadata": {
    "slideshow": {
     "slide_type": "slide"
    }
   },
   "source": [
    "Build the 2D Gaussian function."
   ]
  },
  {
   "cell_type": "code",
   "execution_count": null,
   "metadata": {},
   "outputs": [],
   "source": [
    "# Gaussian center\n",
    "cx = +0.5\n",
    "cy = -0.5\n",
    "\n",
    "# Gaussian standard deviation\n",
    "sx = 0.50\n",
    "sy = 0.25"
   ]
  },
  {
   "cell_type": "code",
   "execution_count": null,
   "metadata": {
    "slideshow": {
     "slide_type": "-"
    }
   },
   "outputs": [],
   "source": [
    "# scaling\n",
    "A = np.power(2*np.pi*sx*sy,-1)\n",
    "\n",
    "# exponent\n",
    "E = np.power( (X-cx)/sx,2 ) + np.power( (Y-cy)/sy,2 )\n",
    "\n",
    "# Gaussian\n",
    "G = A * np.exp(-0.5*E)"
   ]
  },
  {
   "cell_type": "code",
   "execution_count": null,
   "metadata": {
    "slideshow": {
     "slide_type": "slide"
    }
   },
   "outputs": [],
   "source": [
    "plt.figure(figsize=(15,7.5))\n",
    "\n",
    "plt.contourf(X, Y, G, 50, cmap='jet', origin='lower')\n",
    "plt.axis('tight');\n",
    "plt.xlabel('x');\n",
    "plt.ylabel('y');"
   ]
  },
  {
   "cell_type": "code",
   "execution_count": null,
   "metadata": {
    "slideshow": {
     "slide_type": "slide"
    }
   },
   "outputs": [],
   "source": [
    "# find the shape of the Gaussian array\n",
    "\n",
    "print(G.shape)"
   ]
  },
  {
   "cell_type": "code",
   "execution_count": null,
   "metadata": {},
   "outputs": [],
   "source": [
    "# find the index of the maximum value in the flattened array\n",
    "\n",
    "i = np.argmax(G, axis=None)\n",
    "print(i)"
   ]
  },
  {
   "cell_type": "code",
   "execution_count": null,
   "metadata": {},
   "outputs": [],
   "source": [
    "# convert a flat index i into a tuple of x,y indexes\n",
    "iy,ix = np.unravel_index(i, G.shape)\n",
    "print(ix,iy)"
   ]
  },
  {
   "cell_type": "code",
   "execution_count": null,
   "metadata": {},
   "outputs": [],
   "source": [
    "# compute center coordinates\n",
    "xcen = xMin + ix * dx\n",
    "ycen = yMin + iy * dy\n",
    "print( format(xcen,'.2f'),format(ycen,'.2f'))"
   ]
  },
  {
   "cell_type": "code",
   "execution_count": null,
   "metadata": {
    "slideshow": {
     "slide_type": "slide"
    }
   },
   "outputs": [],
   "source": [
    "plt.figure(figsize=(15,7.5))\n",
    "\n",
    "plt.contourf(X, Y, G, 50, cmap='jet', origin='lower')\n",
    "plt.axis('tight');\n",
    "plt.xlabel('x');\n",
    "plt.ylabel('y');\n",
    "\n",
    "plt.plot(xcen,ycen,'w*',markersize=10);"
   ]
  },
  {
   "cell_type": "markdown",
   "metadata": {
    "slideshow": {
     "slide_type": "slide"
    }
   },
   "source": [
    "<img src=\"https://www.dropbox.com/s/7vd3ezqkyhdxmap/demo.png?raw=1\" width=\"10%\" align=\"left\">\n",
    "\n",
    "# Demo\n",
    "\n",
    "The **Mandelbrot set** is the collection of complex numbers $c$ for which \n",
    "\n",
    "$z_{n+1} = z_n^2 + c$\n",
    "\n",
    "does not diverge when iterated from $z_0=0$."
   ]
  },
  {
   "cell_type": "markdown",
   "metadata": {
    "slideshow": {
     "slide_type": "slide"
    }
   },
   "source": [
    "## The escape algorithm\n",
    "\n",
    "Facilitates a convenient representation of the Mandelbrot set. \n",
    "\n",
    "The algorithm is initiated at every point in a plane (i.e. scan over all possible $c$ values) and the behavior of $z$ as a function of $n$ determines the color associated with the starting coordinates. \n",
    "\n",
    "For example, we could associate with the starting point a color that is proportional with the number of iteration before $z$ starts diverging by more than a set value."
   ]
  },
  {
   "cell_type": "markdown",
   "metadata": {
    "slideshow": {
     "slide_type": "slide"
    }
   },
   "source": [
    "`myMandelbrot()` iterates using $z_{n+1} = z_n^2 + c$ from $z_0=0$."
   ]
  },
  {
   "cell_type": "code",
   "execution_count": null,
   "metadata": {},
   "outputs": [],
   "source": [
    "def myMandelbrot(c, nIter=10):\n",
    "    m = np.zeros(nIter+1, dtype=complex)\n",
    "    \n",
    "    z = 0 +1j * 0                             # z = 0\n",
    "    \n",
    "    for iIter in range(nIter):\n",
    "        z = z**2 + c                          # z^2 + c\n",
    "        m[iIter] = z\n",
    "        \n",
    "    return m"
   ]
  },
  {
   "cell_type": "markdown",
   "metadata": {
    "slideshow": {
     "slide_type": "slide"
    }
   },
   "source": [
    "We can understand the divergent behavior with 3 starting points:"
   ]
  },
  {
   "cell_type": "code",
   "execution_count": null,
   "metadata": {},
   "outputs": [],
   "source": [
    "x1,y1 = 0.20,0.20  # starting coordinate (Cartesian)\n",
    "x2,y2 = 0.30,0.30\n",
    "x3,y3 = 0.40,0.40\n",
    "\n",
    "c1 = x1 +1j * y1   # starting coordinates (complex number)\n",
    "c2 = x2 +1j * y2\n",
    "c3 = x3 +1j * y3"
   ]
  },
  {
   "cell_type": "markdown",
   "metadata": {
    "slideshow": {
     "slide_type": "slide"
    }
   },
   "source": [
    "The starting points are close to one-another."
   ]
  },
  {
   "cell_type": "code",
   "execution_count": null,
   "metadata": {
    "slideshow": {
     "slide_type": "-"
    }
   },
   "outputs": [],
   "source": [
    "plt.figure(figsize=(6,6))\n",
    "\n",
    "plt.plot(c1.real,c1.imag,'r.')\n",
    "plt.plot(c2.real,c2.imag,'g.')\n",
    "plt.plot(c3.real,c3.imag,'b.') \n",
    "\n",
    "plt.axis('equal')\n",
    "plt.grid()\n",
    "plt.xlim( -2.5,+1.5 )\n",
    "plt.ylim( -2,+2 )\n",
    "plt.show()"
   ]
  },
  {
   "cell_type": "markdown",
   "metadata": {
    "slideshow": {
     "slide_type": "slide"
    }
   },
   "source": [
    "`myMandelbrot()` gives the values of $z$ as a function of iteration:"
   ]
  },
  {
   "cell_type": "code",
   "execution_count": null,
   "metadata": {},
   "outputs": [],
   "source": [
    "nIter = 10\n",
    "\n",
    "m1 = np.zeros(nIter, dtype=complex)\n",
    "m1 = myMandelbrot(c1,nIter)\n",
    "\n",
    "m2 = np.zeros(nIter, dtype=complex)\n",
    "m2 = myMandelbrot(c2,nIter)\n",
    "\n",
    "m3 = np.zeros(nIter, dtype=complex)\n",
    "m3 = myMandelbrot(c3,nIter)"
   ]
  },
  {
   "cell_type": "markdown",
   "metadata": {
    "slideshow": {
     "slide_type": "slide"
    }
   },
   "source": [
    "The iteration curves show increasingly unstable behavior: "
   ]
  },
  {
   "cell_type": "code",
   "execution_count": null,
   "metadata": {
    "scrolled": true
   },
   "outputs": [],
   "source": [
    "plt.figure(figsize=(6,6))\n",
    "\n",
    "plt.plot(m1.real,m1.imag,'r')  #   stable\n",
    "plt.plot(m2.real,m2.imag,'g')  #   stable\n",
    "plt.plot(m3.real,m3.imag,'b')  # unstable\n",
    "\n",
    "plt.axis('equal')\n",
    "plt.grid()\n",
    "plt.xlim( -2.5,+1.5 )\n",
    "plt.ylim( -2,+2 )\n",
    "plt.show()"
   ]
  },
  {
   "cell_type": "markdown",
   "metadata": {
    "slideshow": {
     "slide_type": "slide"
    }
   },
   "source": [
    "We can use a similar strategy for many points in the $x-y$ plane and assign different colors at the respective coordinates depending on whether the iteration diverges or not. \n",
    "\n",
    "For example, we can assign a color corresponding to the iteration at which the absolute value of $z$ exceeds a given threshold."
   ]
  },
  {
   "cell_type": "code",
   "execution_count": null,
   "metadata": {},
   "outputs": [],
   "source": [
    "xMin, xMax, dx = -2.5, +1.5, 0.005\n",
    "yMin, yMax, dy = -2.0, +2.0, 0.005\n",
    "\n",
    "x = np.arange(xMin, xMax + dx, dx)\n",
    "y = np.arange(yMin, yMax + dy, dy)\n",
    "\n",
    "X, Y = np.meshgrid(x, y)"
   ]
  },
  {
   "cell_type": "markdown",
   "metadata": {
    "slideshow": {
     "slide_type": "slide"
    }
   },
   "source": [
    "Execute $z_{n+1} = z_n^2 + c$ for a larger number of iterations:"
   ]
  },
  {
   "cell_type": "code",
   "execution_count": null,
   "metadata": {},
   "outputs": [],
   "source": [
    "nIter = 32"
   ]
  },
  {
   "cell_type": "markdown",
   "metadata": {
    "slideshow": {
     "slide_type": "slide"
    }
   },
   "source": [
    "**non-vectorized code** (uses loops)"
   ]
  },
  {
   "cell_type": "code",
   "execution_count": null,
   "metadata": {},
   "outputs": [],
   "source": [
    "M1 = np.zeros( [y.size,x.size], dtype='uint' )      # Mandelbrot set\n",
    "\n",
    "tick = time.time()                                  # start clock\n",
    "\n",
    "for iy in range(y.size):\n",
    "    for ix in range(x.size):                        # loop over all coordinates\n",
    "        \n",
    "        c = x[ix] +1j * y[iy]                       # define c(x,y)\n",
    "        z = 0     +1j * 0                           # initialize z(x,y)\n",
    "        \n",
    "        for iIter in range(nIter):                  # iterate over n\n",
    "            if(abs(z) < 2.0):                       # check escape condition\n",
    "                z = z**2 + c                        # update z(x,y)\n",
    "                M1[iy,ix] += 1                      # escape index \n",
    "            else:\n",
    "                break\n",
    "        \n",
    "tock = time.time()                                  # stop clock\n",
    "dLOOP = int((tock-tick)*1e3)                        # time difference     \n",
    "\n",
    "print( int(M1.sum()), dLOOP,'ms' )"
   ]
  },
  {
   "cell_type": "markdown",
   "metadata": {
    "slideshow": {
     "slide_type": "slide"
    }
   },
   "source": [
    "**vectorized code** (does not use loops)"
   ]
  },
  {
   "cell_type": "code",
   "execution_count": null,
   "metadata": {},
   "outputs": [],
   "source": [
    "M2 = np.zeros( [y.size,x.size], dtype='uint' )       # Mandelbrot set\n",
    "\n",
    "tick = time.time()                                   # start clock\n",
    "\n",
    "C = X + 1j * Y\n",
    "Z = 0 * C\n",
    "\n",
    "B = np.full ( (y.size,x.size), True, dtype='bool')   # space for escape condition\n",
    "\n",
    "for iIter in range(nIter):                           # iterate over n\n",
    "    B = abs(Z) < 2.0                                 # check escape condition        \n",
    "    Z[ B ] = Z[ B ]**2 + C[ B ]                      # update Z    \n",
    "    M2[ B ] += 1                                     # escape index\n",
    "    \n",
    "tock = time.time()                                   #  stop clock\n",
    "dVECT = int((tock-tick)*1e3)                         # time difference     \n",
    "\n",
    "print( int(M2.sum()), dVECT,'ms' )"
   ]
  },
  {
   "cell_type": "markdown",
   "metadata": {
    "slideshow": {
     "slide_type": "slide"
    }
   },
   "source": [
    "Plot Mandelbrot sets for both implementations:"
   ]
  },
  {
   "cell_type": "code",
   "execution_count": null,
   "metadata": {
    "scrolled": false
   },
   "outputs": [],
   "source": [
    "plt.figure(figsize=(12,5.5))\n",
    "\n",
    "plt.subplot(1,2,1)\n",
    "plt.contourf(X, Y, M1, 50, cmap='jet', origin='lower')\n",
    "plt.axis('equal')\n",
    "plt.xlabel('x')\n",
    "plt.ylabel('y')\n",
    "\n",
    "plt.subplot(1,2,2)\n",
    "plt.contourf(X, Y, M2, 50, cmap='jet', origin='lower')\n",
    "plt.axis('equal')\n",
    "plt.xlabel('x')\n",
    "plt.ylabel('y')\n",
    "\n",
    "plt.show()"
   ]
  },
  {
   "cell_type": "markdown",
   "metadata": {
    "slideshow": {
     "slide_type": "slide"
    }
   },
   "source": [
    "<img src=\"https://www.dropbox.com/s/wj23ce93pa9j8pe/demo.png?raw=1\" width=\"10%\" align=\"left\">\n",
    "\n",
    "# Exercise\n",
    "\n",
    "Generate generalized Mandelbrot sets of parameter $k$:\n",
    "\n",
    "$z_{n+1} = z_n^k + c$.\n",
    "    \n",
    "Evaluate $z$ for $k=2,3,4,5$ and make a $2\\times2$ plots of the $4$ sets."
   ]
  }
 ],
 "metadata": {
  "celltoolbar": "Slideshow",
  "kernelspec": {
   "display_name": "Python 3 (ipykernel)",
   "language": "python",
   "name": "python3"
  },
  "language_info": {
   "codemirror_mode": {
    "name": "ipython",
    "version": 3
   },
   "file_extension": ".py",
   "mimetype": "text/x-python",
   "name": "python",
   "nbconvert_exporter": "python",
   "pygments_lexer": "ipython3",
   "version": "3.9.2"
  }
 },
 "nbformat": 4,
 "nbformat_minor": 2
}
