{
 "cells": [
  {
   "cell_type": "markdown",
   "metadata": {
    "slideshow": {
     "slide_type": "slide"
    }
   },
   "source": [
    "<img src=\"https://www.mines.edu/webcentral/wp-content/uploads/sites/267/2019/02/horizontallightbackground.jpg\" width=\"100%\"> \n",
    "\n",
    "### CSCI250 Python Computing: Building a Sensor System\n",
    "<hr style=\"height:5px\" width=\"100%\" align=\"left\">\n",
    "\n",
    "# Microphone"
   ]
  },
  {
   "cell_type": "markdown",
   "metadata": {
    "heading_collapsed": true,
    "slideshow": {
     "slide_type": "slide"
    }
   },
   "source": [
    "# Introduction\n",
    "\n",
    "<img src=\"https://cdn.sparkfun.com//assets/parts/1/0/5/7/0/14262-01.jpg\" width=\"30%\" align=\"right\">\n",
    "\n",
    "The sound detector consists of a **microphone** producing voltages that depend on the air pressure variation caused by sound waves. \n",
    "\n",
    "Such sensors use a magnet attached to a thin membrane. Pressure waves hitting the membrane cause the magnet to move in and out of a coil of wire, thus producing a voltage by induction. \n",
    "\n",
    "You can learn more about microphones on [this page](https://en.wikipedia.org/wiki/Microphone)."
   ]
  },
  {
   "cell_type": "markdown",
   "metadata": {
    "slideshow": {
     "slide_type": "slide"
    }
   },
   "source": [
    "# Wiring\n",
    "\n",
    "The sound detector connects through several pins:\n",
    "* the audio pin\n",
    "* the envelope pin\n",
    "* the gate pin\n",
    "\n",
    "*** \n",
    "See [SparkFun's hookup guide](https://learn.sparkfun.com/tutorials/sound-detector-hookup-guide) for more information."
   ]
  },
  {
   "cell_type": "markdown",
   "metadata": {
    "slideshow": {
     "slide_type": "slide"
    }
   },
   "source": [
    "## the audio pin \n",
    "**analog output**: returns raw voltage from the microphone\n",
    "\n",
    "* Connect by the [ADC](h_ADC.ipynb) (cannot measure negative voltage).\n",
    "* The audio **is biased** by the supply voltage \n",
    "    * it returns voltage around ~$1.65V$"
   ]
  },
  {
   "cell_type": "markdown",
   "metadata": {
    "slideshow": {
     "slide_type": "slide"
    }
   },
   "source": [
    "## the envelope pin\n",
    "**analog output**: returns a voltage that tracks the audio peaks\n",
    "\n",
    "* Connect by the [ADC](h_ADC.ipynb) (cannot measure negative voltage).\n",
    "* The envelope pin **is not biased** by the supply voltage\n",
    "    * when it's quiet, the envelope outputs ~$0$V"
   ]
  },
  {
   "cell_type": "markdown",
   "metadata": {
    "slideshow": {
     "slide_type": "slide"
    }
   },
   "source": [
    "<img src=\"https://upload.wikimedia.org/wikipedia/commons/4/4d/C_Envelope_follower.png\" width=\"100%\">"
   ]
  },
  {
   "cell_type": "markdown",
   "metadata": {
    "slideshow": {
     "slide_type": "slide"
    }
   },
   "source": [
    "## the gate pin\n",
    "**digital output**: returns 1 when sound is detected; 0 otherwise\n",
    "\n",
    "* Connect by [GPIO](h_GPIO.ipynb).\n",
    "* It detects when the envelope goes above some threshold.\n",
    "* Can also be synthesized in software from the envelope."
   ]
  },
  {
   "cell_type": "markdown",
   "metadata": {
    "slideshow": {
     "slide_type": "slide"
    }
   },
   "source": [
    "The remaining pins are **VCC** and **GND**, which are connected to $3.3V$ and GND on the wedge, respectively.\n",
    "\n",
    "**N.B.**: the wiring for the ADC is omitted for clarity.\n",
    "\n",
    "<img src=\"https://www.dropbox.com/s/3cxkbj3lr40jm4g/wiring_sound_detector.PNG?raw=1\" align=\"left\" width=\"70%\">\n",
    "\n",
    "<img src=\"https://www.dropbox.com/s/8s6fax3mmr0c0d3/circuit_sound_detector.jpg?raw=1\" align=\"right\" width=\"30%\">"
   ]
  },
  {
   "cell_type": "markdown",
   "metadata": {
    "slideshow": {
     "slide_type": "slide"
    }
   },
   "source": [
    "# Programming\n",
    "\n",
    "Follow the [ADC notebook](h_ADC.ipynb) to set-up the analog/digital converter. "
   ]
  },
  {
   "cell_type": "code",
   "execution_count": 1,
   "metadata": {
    "ExecuteTime": {
     "end_time": "2020-10-04T01:30:18.848605Z",
     "start_time": "2020-10-04T01:30:18.675311Z"
    }
   },
   "outputs": [],
   "source": [
    "import adcUtil as adc"
   ]
  },
  {
   "cell_type": "markdown",
   "metadata": {
    "slideshow": {
     "slide_type": "slide"
    }
   },
   "source": [
    "The voltages measured from the audio pin represent  samples of a continually changing time series. \n",
    "\n",
    "Confirm the behavior of the pins:\n",
    "* the audio voltage is ~$1.65V$ when it is quiet\n",
    "* the envelope returns higher voltage when it gets louder\n",
    "* the gate goes HIGH when the envelope passes a threshold\n",
    "\n",
    "Take many measurements and plot the data to see the waveform."
   ]
  },
  {
   "cell_type": "code",
   "execution_count": 3,
   "metadata": {
    "ExecuteTime": {
     "end_time": "2020-10-04T01:30:20.023557Z",
     "start_time": "2020-10-04T01:30:20.013399Z"
    },
    "slideshow": {
     "slide_type": "slide"
    }
   },
   "outputs": [],
   "source": [
    "# import GPIO library\n",
    "import RPi.GPIO as GPIO\n",
    "\n",
    "# setup GPIO as input for the gate pin\n",
    "GPIO.setmode(GPIO.BCM)\n",
    "gatePin = 21\n",
    "GPIO.setup(gatePin, GPIO.IN)"
   ]
  },
  {
   "cell_type": "code",
   "execution_count": 6,
   "metadata": {
    "ExecuteTime": {
     "end_time": "2020-10-04T01:30:30.792612Z",
     "start_time": "2020-10-04T01:30:20.700832Z"
    },
    "slideshow": {
     "slide_type": "slide"
    }
   },
   "outputs": [
    {
     "name": "stdout",
     "output_type": "stream",
     "text": [
      "0.00 1 1.655 0.045\n",
      "0.51 1 1.629 0.042\n",
      "1.01 0 1.652 0.039\n",
      "1.51 0 1.648 0.039\n",
      "2.01 1 1.642 0.042\n",
      "2.51 1 1.648 0.039\n",
      "3.02 1 1.471 0.877\n",
      "3.52 1 1.613 0.406\n",
      "4.02 1 1.603 0.245\n",
      "4.52 0 1.681 0.084\n",
      "5.02 0 1.655 0.177\n",
      "5.53 0 1.645 0.045\n",
      "6.03 1 1.645 0.039\n",
      "6.53 1 1.642 0.039\n",
      "7.03 1 1.635 0.042\n",
      "7.53 1 1.655 0.039\n",
      "8.03 0 1.652 0.039\n",
      "8.54 0 1.648 0.039\n",
      "9.04 0 1.648 0.039\n",
      "9.54 0 1.635 0.042\n"
     ]
    }
   ],
   "source": [
    "import time\n",
    "\n",
    "to = time.time()\n",
    "t = to\n",
    "while t < to + 10: # loop for 10s\n",
    "    gateState = GPIO.input(gatePin)              #     gate channel (digital)\n",
    "    Vaudio    = adc.readADC(channel=0, device=0) #    audio channel (analog)\n",
    "    Venvelope = adc.readADC(channel=1, device=0) # envelope channel (analog)\n",
    "    \n",
    "    print(format(     t-to,'.2f'),\n",
    "          format(gateState,  'd'),\n",
    "          format(   Vaudio,'.3f'),\n",
    "          format(Venvelope,'.3f'))\n",
    "    \n",
    "    time.sleep(0.5)\n",
    "    t = time.time()"
   ]
  },
  {
   "cell_type": "markdown",
   "metadata": {
    "slideshow": {
     "slide_type": "slide"
    }
   },
   "source": [
    "<img src=\"http://www.dropbox.com/s/fcucolyuzdjl80k/todo.jpg?raw=1\" width=\"10%\" align=\"left\">\n",
    "\n",
    "Test the behavior of the microphone by running the test code and speaking close to the sensor."
   ]
  },
  {
   "cell_type": "code",
   "execution_count": 7,
   "metadata": {
    "ExecuteTime": {
     "end_time": "2020-10-04T01:32:45.042334Z",
     "start_time": "2020-10-04T01:32:45.030694Z"
    },
    "slideshow": {
     "slide_type": "slide"
    }
   },
   "outputs": [],
   "source": [
    "# return GPIO to a base state\n",
    "GPIO.cleanup()"
   ]
  },
  {
   "cell_type": "markdown",
   "metadata": {
    "slideshow": {
     "slide_type": "skip"
    }
   },
   "source": [
    "# Troubleshooting\n",
    "\n",
    "* **I get error messages when I run my code.**\n",
    "    * There's probably an issue with your code, not any of the components. Read the error message and try to understand what it's telling you in order to fix it.\n",
    "\n",
    "* **The ADC always returns 0.**\n",
    "    * You're probably having an issue communicating with the ADC, which would most likely come from a wiring problem. Double check your wiring of the ADC to make sure the connections are correct. Also double check your code for any bugs, and that the channel you're measuring isn't just connected to 0V.\n",
    "    * Make sure your sensor is wired correctly. The outer pins need to be connected to 3.3V and GND, and the center pin connected to one of the ADC channel pins.\n",
    "    \n",
    "* **I get funky numbers from the ADC when I read from the sound detector.**\n",
    "    * Because the sound detector is essentially a microphone, the output is always going to be a bit noisy because there's always some audio that the microphone picks up (unless you're in an anechoic chamber). If you think it's something other than normal audio noise, try connecting something else to the ADC like a potentiometer. If you still get abnormal values with the potentiometer, then there is likely an issue with the ADC (also make sure the measurement pin isn't floating). You can double check by swapping your ADC with another.\n",
    "    * If the ADC is working fine, then your sound detector is probably also fine. If you want to double check this, swap your sound detector with your neighbor's. If you get similar data, then there probably isn't an issue with your sound detector."
   ]
  },
  {
   "cell_type": "markdown",
   "metadata": {
    "slideshow": {
     "slide_type": "slide"
    }
   },
   "source": [
    "<img src=\"https://www.dropbox.com/s/wj23ce93pa9j8pe/demo.png?raw=1\" width=\"10%\" align=\"left\">\n",
    "\n",
    "# Exercise\n",
    "\n",
    "Capture and display the raw data from all the microphone pins. Make sound close to the microphone to produce obvious results, and plot the data."
   ]
  }
 ],
 "metadata": {
  "celltoolbar": "Slideshow",
  "hide_input": false,
  "kernelspec": {
   "display_name": "Python 3 (ipykernel)",
   "language": "python",
   "name": "python3"
  },
  "language_info": {
   "codemirror_mode": {
    "name": "ipython",
    "version": 3
   },
   "file_extension": ".py",
   "mimetype": "text/x-python",
   "name": "python",
   "nbconvert_exporter": "python",
   "pygments_lexer": "ipython3",
   "version": "3.9.2"
  },
  "varInspector": {
   "cols": {
    "lenName": 16,
    "lenType": 16,
    "lenVar": 40
   },
   "kernels_config": {
    "python": {
     "delete_cmd_postfix": "",
     "delete_cmd_prefix": "del ",
     "library": "var_list.py",
     "varRefreshCmd": "print(var_dic_list())"
    },
    "r": {
     "delete_cmd_postfix": ") ",
     "delete_cmd_prefix": "rm(",
     "library": "var_list.r",
     "varRefreshCmd": "cat(var_dic_list()) "
    }
   },
   "types_to_exclude": [
    "module",
    "function",
    "builtin_function_or_method",
    "instance",
    "_Feature"
   ],
   "window_display": false
  }
 },
 "nbformat": 4,
 "nbformat_minor": 4
}
