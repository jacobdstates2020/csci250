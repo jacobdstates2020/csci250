{
 "cells": [
  {
   "cell_type": "markdown",
   "metadata": {
    "slideshow": {
     "slide_type": "slide"
    }
   },
   "source": [
    "<img src=\"https://www.mines.edu/webcentral/wp-content/uploads/sites/267/2019/02/horizontallightbackground.jpg\" width=\"100%\"> \n",
    "### CSCI250 Python Computing: Building a Sensor System\n",
    "<hr style=\"height:5px\" width=\"100%\" align=\"left\">\n",
    "\n",
    "# `numpy`: file I/O"
   ]
  },
  {
   "cell_type": "markdown",
   "metadata": {
    "slideshow": {
     "slide_type": "slide"
    }
   },
   "source": [
    "# Objective\n",
    "* introduce `numpy` file I/O operations"
   ]
  },
  {
   "cell_type": "markdown",
   "metadata": {
    "slideshow": {
     "slide_type": "slide"
    }
   },
   "source": [
    "# Resources\n",
    "* [numpy.org](http://www.numpy.org)\n",
    "* [`numpy` I/O](https://docs.scipy.org/doc/numpy/reference/routines.io.html)"
   ]
  },
  {
   "cell_type": "code",
   "execution_count": 1,
   "metadata": {
    "slideshow": {
     "slide_type": "slide"
    }
   },
   "outputs": [],
   "source": [
    "import numpy as np\n",
    "import numpy.random as rng\n",
    "\n",
    "nRow = 3\n",
    "nCol = 2"
   ]
  },
  {
   "cell_type": "code",
   "execution_count": 2,
   "metadata": {
    "slideshow": {
     "slide_type": "-"
    }
   },
   "outputs": [
    {
     "name": "stdout",
     "output_type": "stream",
     "text": [
      "[[0.3518084  0.77910418]\n",
      " [0.75008715 0.17712058]\n",
      " [0.18355787 0.06227917]]\n"
     ]
    }
   ],
   "source": [
    "x = rng.rand(nRow,nCol)\n",
    "print(x)"
   ]
  },
  {
   "cell_type": "code",
   "execution_count": 3,
   "metadata": {
    "slideshow": {
     "slide_type": "-"
    }
   },
   "outputs": [
    {
     "name": "stdout",
     "output_type": "stream",
     "text": [
      "[[0.3518084  0.75008715 0.18355787]\n",
      " [0.77910418 0.17712058 0.06227917]]\n"
     ]
    }
   ],
   "source": [
    "y = x.transpose()\n",
    "print(y)"
   ]
  },
  {
   "cell_type": "markdown",
   "metadata": {
    "slideshow": {
     "slide_type": "slide"
    }
   },
   "source": [
    "# `np.save()`\n",
    "Save a single array to a binary file in `.npy` format."
   ]
  },
  {
   "cell_type": "code",
   "execution_count": 4,
   "metadata": {},
   "outputs": [],
   "source": [
    "np.save('foo.npy', x)"
   ]
  },
  {
   "cell_type": "code",
   "execution_count": 5,
   "metadata": {},
   "outputs": [
    {
     "name": "stdout",
     "output_type": "stream",
     "text": [
      "-rw-r--r-- 1 pi pi 176 Oct 10 20:41 foo.npy\r\n"
     ]
    }
   ],
   "source": [
    "# access the files by magic\n",
    "%ls -l foo.npy"
   ]
  },
  {
   "cell_type": "code",
   "execution_count": 6,
   "metadata": {},
   "outputs": [
    {
     "name": "stdout",
     "output_type": "stream",
     "text": [
      "�NUMPY\u0001\u0000v\u0000{'descr': '<f8', 'fortran_order': False, 'shape': (3, 2), }                                                          \r\n",
      "r�^_\u0007��?%C��k��?�ٙĶ\u0000�?�[�\"��?\\e�\b�~�?�@\r\n",
      "\u000e�?"
     ]
    }
   ],
   "source": [
    "# display file content by magic\n",
    "%cat foo.npy"
   ]
  },
  {
   "cell_type": "code",
   "execution_count": 7,
   "metadata": {},
   "outputs": [
    {
     "name": "stdout",
     "output_type": "stream",
     "text": [
      "CPU times: user 116 µs, sys: 39.7 ms, total: 39.8 ms\n",
      "Wall time: 40 ms\n"
     ]
    }
   ],
   "source": [
    "# binary save is fast\n",
    "a = rng.rand(1000,1000)\n",
    "%time np.save('a.npy', a)"
   ]
  },
  {
   "cell_type": "markdown",
   "metadata": {
    "slideshow": {
     "slide_type": "slide"
    }
   },
   "source": [
    "# `np.savetxt()`\n",
    "Save an array to a text file."
   ]
  },
  {
   "cell_type": "code",
   "execution_count": 8,
   "metadata": {},
   "outputs": [],
   "source": [
    "np.savetxt('foo.csv', x, fmt='%4.1f', delimiter=',')"
   ]
  },
  {
   "cell_type": "code",
   "execution_count": 9,
   "metadata": {},
   "outputs": [
    {
     "name": "stdout",
     "output_type": "stream",
     "text": [
      "-rw-r--r-- 1 pi pi 30 Oct 10 20:43 foo.csv\r\n"
     ]
    }
   ],
   "source": [
    "# access the files by magic\n",
    "%ls -l *.csv"
   ]
  },
  {
   "cell_type": "code",
   "execution_count": 10,
   "metadata": {},
   "outputs": [
    {
     "name": "stdout",
     "output_type": "stream",
     "text": [
      " 0.4, 0.8\r\n",
      " 0.8, 0.2\r\n",
      " 0.2, 0.1\r\n"
     ]
    }
   ],
   "source": [
    "# display file content by magic\n",
    "%cat foo.csv"
   ]
  },
  {
   "cell_type": "code",
   "execution_count": 12,
   "metadata": {},
   "outputs": [
    {
     "name": "stdout",
     "output_type": "stream",
     "text": [
      "CPU times: user 675 ms, sys: 37.3 ms, total: 713 ms\n",
      "Wall time: 722 ms\n"
     ]
    }
   ],
   "source": [
    "# text save is slow\n",
    "a = rng.rand(1000,1000)\n",
    "%time np.savetxt('a.csv', a, fmt='%f', delimiter=',')"
   ]
  },
  {
   "cell_type": "markdown",
   "metadata": {
    "slideshow": {
     "slide_type": "slide"
    }
   },
   "source": [
    "# `np.savez()`\n",
    "\n",
    "Save multiple arrays to a binary file in uncompressed `.npz` format."
   ]
  },
  {
   "cell_type": "code",
   "execution_count": 13,
   "metadata": {},
   "outputs": [],
   "source": [
    "np.savez('foo.npz', x,y)"
   ]
  },
  {
   "cell_type": "code",
   "execution_count": 14,
   "metadata": {},
   "outputs": [
    {
     "name": "stdout",
     "output_type": "stream",
     "text": [
      "-rw-r--r-- 1 pi pi 602 Oct 10 20:44 foo.npz\r\n"
     ]
    }
   ],
   "source": [
    "# access the files by magic\n",
    "%ls -l *.npz"
   ]
  },
  {
   "cell_type": "code",
   "execution_count": 15,
   "metadata": {},
   "outputs": [
    {
     "name": "stdout",
     "output_type": "stream",
     "text": [
      "PK\u0003\u0004\u0014\u0000\u0000\u0000\u0000\u0000\u0000\u0000!\u0000\u000f\u0018�̰\u0000\u0000\u0000�\u0000\u0000\u0000\t\u0000\u0014\u0000arr_0.npy\u0001\u0000\u0010\u0000�\u0000\u0000\u0000\u0000\u0000\u0000\u0000�\u0000\u0000\u0000\u0000\u0000\u0000\u0000�NUMPY\u0001\u0000v\u0000{'descr': '<f8', 'fortran_order': False, 'shape': (3, 2), }                                                          \r\n",
      "r�^_\u0007��?%C��k��?�ٙĶ\u0000�?�[�\"��?\\e�\b�~�?�@\r\n",
      "\u000e�?PK\u0003\u0004\u0014\u0000\u0000\u0000\u0000\u0000\u0000\u0000!\u0000<\u0012���\u0000\u0000\u0000�\u0000\u0000\u0000\t\u0000\u0014\u0000arr_1.npy\u0001\u0000\u0010\u0000�\u0000\u0000\u0000\u0000\u0000\u0000\u0000�\u0000\u0000\u0000\u0000\u0000\u0000\u0000�NUMPY\u0001\u0000v\u0000{'descr': '<f8', 'fortran_order': True, 'shape': (2, 3), }                                                           \r\n",
      "r�^_\u0007��?%C��k��?�ٙĶ\u0000�?�[�\"��?\\e�\b�~�?�@\r\n",
      "\u000e�?PK\u0001\u0002\u0014\u0003\u0014\u0000\u0000\u0000\u0000\u0000\u0000\u0000!\u0000\u000f\u0018�̰\u0000\u0000\u0000�\u0000\u0000\u0000\t\u0000\u0000\u0000\u0000\u0000\u0000\u0000\u0000\u0000\u0000\u0000�\u0001\u0000\u0000\u0000\u0000arr_0.npyPK\u0001\u0002\u0014\u0003\u0014\u0000\u0000\u0000\u0000\u0000\u0000\u0000!\u0000<\u0012���\u0000\u0000\u0000�\u0000\u0000\u0000\t\u0000\u0000\u0000\u0000\u0000\u0000\u0000\u0000\u0000\u0000\u0000�\u0001�\u0000\u0000\u0000arr_1.npyPK\u0005\u0006\u0000\u0000\u0000\u0000\u0002\u0000\u0002\u0000n\u0000\u0000\u0000�\u0001\u0000\u0000\u0000\u0000"
     ]
    }
   ],
   "source": [
    "# display file content by magic\n",
    "%cat foo.npz"
   ]
  },
  {
   "cell_type": "markdown",
   "metadata": {
    "slideshow": {
     "slide_type": "slide"
    }
   },
   "source": [
    "# `np.load()`\n",
    "Load arrays from files stored in `numpy` .npy format."
   ]
  },
  {
   "cell_type": "code",
   "execution_count": 16,
   "metadata": {},
   "outputs": [
    {
     "name": "stdout",
     "output_type": "stream",
     "text": [
      "x= [[0.3518084  0.77910418]\n",
      " [0.75008715 0.17712058]\n",
      " [0.18355787 0.06227917]]\n"
     ]
    }
   ],
   "source": [
    "print('x=',x)"
   ]
  },
  {
   "cell_type": "code",
   "execution_count": 17,
   "metadata": {
    "scrolled": false
   },
   "outputs": [
    {
     "name": "stdout",
     "output_type": "stream",
     "text": [
      "t= [[0.3518084  0.77910418]\n",
      " [0.75008715 0.17712058]\n",
      " [0.18355787 0.06227917]]\n"
     ]
    }
   ],
   "source": [
    "t = np.load('foo.npy')\n",
    "print('t=',t)"
   ]
  },
  {
   "cell_type": "code",
   "execution_count": 18,
   "metadata": {
    "slideshow": {
     "slide_type": "slide"
    }
   },
   "outputs": [
    {
     "name": "stdout",
     "output_type": "stream",
     "text": [
      "['arr_0', 'arr_1']\n"
     ]
    }
   ],
   "source": [
    "# load multiple arrays at once\n",
    "t = np.load('foo.npz')\n",
    "\n",
    "# list the arrays available in t\n",
    "print(t.files)"
   ]
  },
  {
   "cell_type": "code",
   "execution_count": 19,
   "metadata": {
    "scrolled": true
   },
   "outputs": [
    {
     "name": "stdout",
     "output_type": "stream",
     "text": [
      "[[0.3518084  0.77910418]\n",
      " [0.75008715 0.17712058]\n",
      " [0.18355787 0.06227917]] \n",
      "\n",
      "[[0.3518084  0.75008715 0.18355787]\n",
      " [0.77910418 0.17712058 0.06227917]] \n",
      "\n"
     ]
    }
   ],
   "source": [
    "# extract the arrays from t\n",
    "t1 = t['arr_0']\n",
    "t2 = t['arr_1']\n",
    "\n",
    "print(t1,'\\n')\n",
    "print(t2,'\\n')"
   ]
  },
  {
   "cell_type": "markdown",
   "metadata": {
    "slideshow": {
     "slide_type": "slide"
    }
   },
   "source": [
    "# `np.loadtxt()`\n",
    "Load data from a text file."
   ]
  },
  {
   "cell_type": "code",
   "execution_count": 20,
   "metadata": {},
   "outputs": [
    {
     "name": "stdout",
     "output_type": "stream",
     "text": [
      "z= [[0.4 0.8]\n",
      " [0.8 0.2]\n",
      " [0.2 0.1]]\n"
     ]
    }
   ],
   "source": [
    "z = np.loadtxt('foo.csv', delimiter=',')\n",
    "\n",
    "print('z=',z)"
   ]
  },
  {
   "cell_type": "markdown",
   "metadata": {
    "slideshow": {
     "slide_type": "slide"
    }
   },
   "source": [
    "# `tempfile` module\n",
    "\n",
    "Generates temporary files or directories for short-term data storage."
   ]
  },
  {
   "cell_type": "code",
   "execution_count": 22,
   "metadata": {},
   "outputs": [],
   "source": [
    "import tempfile"
   ]
  },
  {
   "cell_type": "code",
   "execution_count": 23,
   "metadata": {},
   "outputs": [
    {
     "name": "stdout",
     "output_type": "stream",
     "text": [
      "/tmp/tmp5tommuz8.npy\n"
     ]
    }
   ],
   "source": [
    "# open a temp file and do not delete it after use\n",
    "fp = tempfile.NamedTemporaryFile( delete=False ) \n",
    "\n",
    "# get the temp file name\n",
    "# must append .npy extension!\n",
    "fname = fp.name + '.npy' \n",
    "print(fname)"
   ]
  },
  {
   "cell_type": "code",
   "execution_count": 24,
   "metadata": {
    "slideshow": {
     "slide_type": "slide"
    }
   },
   "outputs": [
    {
     "name": "stdout",
     "output_type": "stream",
     "text": [
      "[[0.3518084  0.77910418]\n",
      " [0.75008715 0.17712058]\n",
      " [0.18355787 0.06227917]]\n"
     ]
    }
   ],
   "source": [
    "print(x)\n",
    "\n",
    "# write to temp file\n",
    "np.save(fname, x)"
   ]
  },
  {
   "cell_type": "code",
   "execution_count": 25,
   "metadata": {
    "scrolled": false,
    "slideshow": {
     "slide_type": "-"
    }
   },
   "outputs": [
    {
     "name": "stdout",
     "output_type": "stream",
     "text": [
      "[[0.3518084  0.77910418]\n",
      " [0.75008715 0.17712058]\n",
      " [0.18355787 0.06227917]]\n"
     ]
    }
   ],
   "source": [
    "# read from temp file\n",
    "t = np.load(fname)\n",
    "\n",
    "print(t)"
   ]
  },
  {
   "cell_type": "code",
   "execution_count": 26,
   "metadata": {
    "scrolled": true
   },
   "outputs": [],
   "source": [
    "import os\n",
    "\n",
    "# remove temp file\n",
    "os.remove(fname)"
   ]
  },
  {
   "cell_type": "markdown",
   "metadata": {
    "slideshow": {
     "slide_type": "slide"
    }
   },
   "source": [
    "<img src=\"https://www.dropbox.com/s/7vd3ezqkyhdxmap/demo.png?raw=1\" width=\"10%\" align=\"left\">\n",
    "\n",
    "# Demo\n",
    "A 2D uncorrelated Gaussian function with center at ($c_x$,$c_y$) and standard deviations $\\sigma_x,\\sigma_y$ is defined as:\n",
    "\n",
    "$$\n",
    "f(x,y) = \\dfrac{1}{2\\pi\\sigma_x\\sigma_y} \n",
    "e^{ -\\dfrac{1}{2} \n",
    "\\left[\n",
    "\\left( \\dfrac{x-c_x}{\\sigma_x} \\right)^2 +\n",
    "\\left( \\dfrac{y-c_y}{\\sigma_y} \\right)^2\n",
    "\\right]\n",
    "}\n",
    "$$\n",
    "\n",
    "* Generate and plot the Gaussian function. \n",
    "* Save the Gaussian decimated by a factor of $10$ in both $x$ and $y$. \n",
    "* Read the decimated Gaussian and plot it. \n",
    "* Verify that file sizes are consistent with the decimation factor."
   ]
  },
  {
   "cell_type": "markdown",
   "metadata": {
    "slideshow": {
     "slide_type": "slide"
    }
   },
   "source": [
    "Define coordinates $x$ and $y$."
   ]
  },
  {
   "cell_type": "code",
   "execution_count": 27,
   "metadata": {
    "slideshow": {
     "slide_type": "-"
    }
   },
   "outputs": [],
   "source": [
    "xMin, xMax, dx = -2.0, +2.0, 0.02\n",
    "yMin, yMax, dy = -2.0, +2.0, 0.02\n",
    "\n",
    "x = np.arange(xMin, xMax + dx, dx)\n",
    "y = np.arange(yMin, yMax + dx, dy)\n",
    "\n",
    "X, Y = np.meshgrid(x,y)"
   ]
  },
  {
   "cell_type": "markdown",
   "metadata": {
    "slideshow": {
     "slide_type": "slide"
    }
   },
   "source": [
    "Build the Gaussian function."
   ]
  },
  {
   "cell_type": "code",
   "execution_count": 28,
   "metadata": {},
   "outputs": [],
   "source": [
    "# center\n",
    "cx = +0.5\n",
    "cy = -0.5\n",
    "\n",
    "# standard deviation\n",
    "sx = 1.0\n",
    "sy = 1.0"
   ]
  },
  {
   "cell_type": "code",
   "execution_count": 29,
   "metadata": {},
   "outputs": [],
   "source": [
    "# compute Gaussian\n",
    "A = np.power(2*np.pi*sx*sy,-1)\n",
    "E = np.power( (X-cx)/sx,2 ) + np.power( (Y-cy)/sy,2 )\n",
    "\n",
    "G = A * np.exp(-0.5*E)"
   ]
  },
  {
   "cell_type": "code",
   "execution_count": 31,
   "metadata": {
    "slideshow": {
     "slide_type": "slide"
    }
   },
   "outputs": [],
   "source": [
    "import matplotlib.pyplot as plt"
   ]
  },
  {
   "cell_type": "code",
   "execution_count": 33,
   "metadata": {
    "scrolled": true
   },
   "outputs": [
    {
     "data": {
      "image/png": "[encoded data removed]",
      "text/plain": [
       "<Figure size 500x500 with 1 Axes>"
      ]
     },
     "metadata": {},
     "output_type": "display_data"
    }
   ],
   "source": [
    "plt.figure(figsize=(5,5))\n",
    "plt.imshow(G)\n",
    "plt.axis('equal');"
   ]
  },
  {
   "cell_type": "markdown",
   "metadata": {
    "slideshow": {
     "slide_type": "slide"
    }
   },
   "source": [
    "Save the undecimated Gaussian."
   ]
  },
  {
   "cell_type": "code",
   "execution_count": 34,
   "metadata": {
    "slideshow": {
     "slide_type": "-"
    }
   },
   "outputs": [
    {
     "name": "stdout",
     "output_type": "stream",
     "text": [
      "(201, 201)\n"
     ]
    }
   ],
   "source": [
    "print(np.shape(G))\n",
    "\n",
    "np.save('gau.npy', G)"
   ]
  },
  {
   "cell_type": "markdown",
   "metadata": {
    "slideshow": {
     "slide_type": "slide"
    }
   },
   "source": [
    "Decimate the Gaussian and save."
   ]
  },
  {
   "cell_type": "code",
   "execution_count": 35,
   "metadata": {
    "slideshow": {
     "slide_type": "-"
    }
   },
   "outputs": [],
   "source": [
    "j = 10 # Decimation factor\n",
    "\n",
    "D = G[ ::j, ::j ] # decimate by slicing"
   ]
  },
  {
   "cell_type": "code",
   "execution_count": 36,
   "metadata": {},
   "outputs": [
    {
     "name": "stdout",
     "output_type": "stream",
     "text": [
      "(21, 21)\n"
     ]
    }
   ],
   "source": [
    "print(np.shape(D))\n",
    "\n",
    "np.save('dec.npy',D)"
   ]
  },
  {
   "cell_type": "markdown",
   "metadata": {
    "slideshow": {
     "slide_type": "slide"
    }
   },
   "source": [
    "Compare the file sizes."
   ]
  },
  {
   "cell_type": "code",
   "execution_count": 37,
   "metadata": {
    "hide_input": false,
    "scrolled": true
   },
   "outputs": [
    {
     "name": "stdout",
     "output_type": "stream",
     "text": [
      "-rw-r--r-- 1 pi pi 323336 Oct 10 21:00 gau.npy\n",
      "-rw-r--r-- 1 pi pi 3656 Oct 10 21:01 dec.npy\n"
     ]
    }
   ],
   "source": [
    "%ls -latr gau.npy\n",
    "%ls -latr dec.npy"
   ]
  },
  {
   "cell_type": "markdown",
   "metadata": {
    "slideshow": {
     "slide_type": "slide"
    }
   },
   "source": [
    "Read and plot the decimated Gaussian"
   ]
  },
  {
   "cell_type": "code",
   "execution_count": 39,
   "metadata": {},
   "outputs": [
    {
     "name": "stdout",
     "output_type": "stream",
     "text": [
      "(21, 21)\n"
     ]
    }
   ],
   "source": [
    "H = np.load('dec.npy')\n",
    "\n",
    "print(np.shape(H))"
   ]
  },
  {
   "cell_type": "code",
   "execution_count": 40,
   "metadata": {
    "scrolled": true
   },
   "outputs": [
    {
     "data": {
      "image/png": "[encoded data removed]",
      "text/plain": [
       "<Figure size 500x500 with 1 Axes>"
      ]
     },
     "metadata": {},
     "output_type": "display_data"
    }
   ],
   "source": [
    "plt.figure(figsize=(5,5))\n",
    "plt.imshow(H)\n",
    "plt.axis('equal');"
   ]
  },
  {
   "cell_type": "markdown",
   "metadata": {
    "slideshow": {
     "slide_type": "slide"
    }
   },
   "source": [
    "<img src=\"https://www.dropbox.com/s/wj23ce93pa9j8pe/demo.png?raw=1\" width=\"10%\" align=\"left\">\n",
    "\n",
    "# Exercise\n",
    "\n",
    "<br> <br>\n",
    "* Make two large time series $u_1$ and $u_2$ and fill them with random numbers from a uniform distribution. Save them to `uu.npz`. \n",
    "* Make two other  time series $n_1$ and $n_2$ and fill them with random numbers from a normal distribution. Save them to `nn.npz`.\n",
    "\n",
    "Read `uu.npz` and `nn.npz` and save two other `.npz` files containing $u_1$ & $n_1$, and $u_2$ & $n_2$, respectively."
   ]
  }
 ],
 "metadata": {
  "celltoolbar": "Slideshow",
  "kernelspec": {
   "display_name": "Python 3 (ipykernel)",
   "language": "python",
   "name": "python3"
  },
  "language_info": {
   "codemirror_mode": {
    "name": "ipython",
    "version": 3
   },
   "file_extension": ".py",
   "mimetype": "text/x-python",
   "name": "python",
   "nbconvert_exporter": "python",
   "pygments_lexer": "ipython3",
   "version": "3.9.2"
  },
  "varInspector": {
   "cols": {
    "lenName": 16,
    "lenType": 16,
    "lenVar": 40
   },
   "kernels_config": {
    "python": {
     "delete_cmd_postfix": "",
     "delete_cmd_prefix": "del ",
     "library": "var_list.py",
     "varRefreshCmd": "print(var_dic_list())"
    },
    "r": {
     "delete_cmd_postfix": ") ",
     "delete_cmd_prefix": "rm(",
     "library": "var_list.r",
     "varRefreshCmd": "cat(var_dic_list()) "
    }
   },
   "types_to_exclude": [
    "module",
    "function",
    "builtin_function_or_method",
    "instance",
    "_Feature"
   ],
   "window_display": false
  }
 },
 "nbformat": 4,
 "nbformat_minor": 2
}
