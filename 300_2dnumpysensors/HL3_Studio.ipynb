{
 "cells": [
  {
   "cell_type": "markdown",
   "metadata": {
    "slideshow": {
     "slide_type": "slide"
    }
   },
   "source": [
    "<img src=\"https://www.mines.edu/webcentral/wp-content/uploads/sites/267/2019/02/horizontallightbackground.jpg\" width=\"100%\"> \n",
    "\n",
    "### CSCI250 Python Computing: Building a Sensor System\n",
    "<hr style=\"height:5px\" width=\"100%\" align=\"left\">\n",
    "\n",
    "# LAB: Recording studio \n",
    "## Bart Simpson"
   ]
  },
  {
   "cell_type": "markdown",
   "metadata": {
    "slideshow": {
     "slide_type": "slide"
    }
   },
   "source": [
    "# Introduction\n",
    "\n",
    "The goal for this lab is to collect a large volume of data from all output pins of a microphone and store them in `numpy` arrays. \n",
    "\n",
    "Once the recording is complete, you will perform basic data analysis, storage and visualization. "
   ]
  },
  {
   "cell_type": "markdown",
   "metadata": {
    "slideshow": {
     "slide_type": "slide"
    }
   },
   "source": [
    "<img src=\"https://www.dropbox.com/s/u628vjn2uc5h3ua/notebook.png?raw=1\" width=\"10%\" align=\"right\">\n",
    "\n",
    "Read through\n",
    "* the [GPIO notebook](h_GPIO.ipynb) to learn about the General Purpose IO interface;\n",
    "* the [ADC notebook](h_ADC.ipynb)  to learn how to measure analog voltages;\n",
    "* the [microphone notebook](h_Microphone.ipynb) to learn about a device with both digital and analog outputs;\n",
    "* the [flex sensor notebook](h_FlexSensor.ipynb) to learn about a device with analog output.\n",
    "\n",
    "**Build the circuits in all notebooks to ensure that everything works correctly.**"
   ]
  },
  {
   "cell_type": "markdown",
   "metadata": {
    "slideshow": {
     "slide_type": "skip"
    }
   },
   "source": [
    "# Pre-lab questions\n",
    "\n",
    "### Microphone\n",
    "1. How must the microphone be wired in order to use it?\n",
    "    * Your answer here\n",
    "2. How do the different analog outputs of the microphone represent?\n",
    "    * Your answer here\n",
    "3. What is the meaning of the microphone \"gate\"?\n",
    "    * Your answer here\n",
    "    \n",
    "### Flex Sensor\n",
    "1. How must the flex sensor be wired in order to use it?\n",
    "    * Your answer here\n",
    "2. Why is it necessary to use a separate ADCs for the flex sensor?\n",
    "    * Your answer here\n",
    "3. What is the expected flex sensor resistance range?\n",
    "    * Your answer here"
   ]
  },
  {
   "cell_type": "markdown",
   "metadata": {
    "slideshow": {
     "slide_type": "slide"
    }
   },
   "source": [
    "# Directions\n",
    "\n",
    "Your goal for this lab capture analog data provided by a microphone, convert that to digital data, store them on the RPi in `numpy` arrays, and then perform basic data processing and visualization. You will use the flex sensor to control the start and duration of data acquisition."
   ]
  },
  {
   "cell_type": "markdown",
   "metadata": {
    "slideshow": {
     "slide_type": "slide"
    }
   },
   "source": [
    "* Use the flex sensor to triger on and off data collection from the microphone.\n",
    "    * Start data acquisition when the flex sensor is bent.\n",
    "    * Stop data acquisition when the flex sensor is straight.\n",
    "    * Use a threshold resistance to define what \"straight sensor\" means.\n",
    "    \n",
    "* Collect raw data from all pins and store them in `numpy` arrays.\n",
    "    * Collect data as fast as possible, do not use `time.sleep()` in your loop.\n",
    "    * Use appending into the `numpy` arrays during the loop.\n",
    "    * Also collect the measurement time in a separate `numpy` array.\n",
    "\n",
    "* Plot all the raw data vs. time.\n",
    "    * Overlap data on the same plot and differentiate them by color.\n",
    "    * Add axis labels, title and legend.\n",
    "    \n",
    "* Save raw data arrays to a file using `numpy.savez()`."
   ]
  },
  {
   "cell_type": "markdown",
   "metadata": {
    "slideshow": {
     "slide_type": "slide"
    }
   },
   "source": [
    "* Load the data from that file into different `numpy` arrays.\n",
    "    \n",
    "* Calculate the mean of the audio data, and subtract that value from the audio data to remove the bias.\n",
    "* For periods when the gate pin returns 0, set the audio data to 0 to remove noise during quiet time.\n",
    "\n",
    "* Plot the modified data vs. time.\n",
    "    * Overlap data on the same plot and differentiate them by color.\n",
    "    * Add axis labels, title and legend."
   ]
  },
  {
   "cell_type": "markdown",
   "metadata": {
    "slideshow": {
     "slide_type": "slide"
    }
   },
   "source": [
    "* Apply a moving average filter and moving stdev filter to the envelope data. \n",
    "    * You may use an external module for the filters, or write your own filtering code.\n",
    "\n",
    "* Plot the raw envelope and filtered envelope data as a function of time.\n",
    "    * Overlap data on the same plot and differentiate them by color.\n",
    "    * Shade the area between the $mean-stdev$ and $mean+stdev$ using `plt.fill_between()`.\n",
    "    * Add axis labels, title and legend.\n",
    "\n",
    "**Use vectorization instead of loops whenever possible.**"
   ]
  },
  {
   "cell_type": "markdown",
   "metadata": {
    "slideshow": {
     "slide_type": "slide"
    }
   },
   "source": [
    "# Your code\n",
    "\n",
    "No starter code is provided for this lab. Use comments throughout your code so we can understand what it does. Even if you can't figure out how to write the code for something, a comment explaining what you wanted will get partial credit."
   ]
  },
  {
   "cell_type": "code",
   "execution_count": null,
   "metadata": {
    "slideshow": {
     "slide_type": "-"
    }
   },
   "outputs": [],
   "source": [
    "# Your code here"
   ]
  },
  {
   "cell_type": "markdown",
   "metadata": {
    "slideshow": {
     "slide_type": "skip"
    }
   },
   "source": [
    "# Post lab\n",
    "\n",
    "<img src=\"http://www.dropbox.com/s/fcucolyuzdjl80k/todo.jpg?raw=1\" width=\"10%\" align=\"right\">\n",
    "\n",
    "Before you submit the lab, make sure everything works as you expect by restarting the kernel: select **Kernel > Restart & Run All**.\n",
    "\n",
    "Answer the following questions.\n",
    "\n",
    "1. What elements of this lab did you find easy/challenging?\n",
    "    * Your answer here\n",
    "2. What did you like/dislike about this lab?\n",
    "    * Your answer here\n",
    "3. If you did anything worthy of extra credit, tell us about it here!\n",
    "    * Your answer here"
   ]
  },
  {
   "cell_type": "markdown",
   "metadata": {
    "slideshow": {
     "slide_type": "skip"
    }
   },
   "source": [
    "# Submit\n",
    "* Make sure to update your name and department in the top markdown cell.\n",
    "\n",
    "* Rename the Jupyter notebook with the following convention:\n",
    "**HL?-FirstLast.ipynb** (replace ? with the lab number)\n",
    "\n",
    "* Turn in your Jupyter notebook on Canvas. Email submissions don't count.\n",
    "\n",
    "* Include pictures of all the circuits you made."
   ]
  },
  {
   "cell_type": "markdown",
   "metadata": {
    "slideshow": {
     "slide_type": "slide"
    }
   },
   "source": [
    "# Honor code\n",
    "Unless explicitly specified, labs are **individual exercises**. Your submission is subject to the [**Mines Honor Code**](http://inside.mines.edu/~epoeter/_GW/CSMHonorCodeUndergradHandbook.pdf)."
   ]
  }
 ],
 "metadata": {
  "celltoolbar": "Slideshow",
  "hide_input": false,
  "kernelspec": {
   "display_name": "Python 3",
   "language": "python",
   "name": "python3"
  },
  "language_info": {
   "codemirror_mode": {
    "name": "ipython",
    "version": 3
   },
   "file_extension": ".py",
   "mimetype": "text/x-python",
   "name": "python",
   "nbconvert_exporter": "python",
   "pygments_lexer": "ipython3",
   "version": "3.8.5"
  },
  "varInspector": {
   "cols": {
    "lenName": 16,
    "lenType": 16,
    "lenVar": 40
   },
   "kernels_config": {
    "python": {
     "delete_cmd_postfix": "",
     "delete_cmd_prefix": "del ",
     "library": "var_list.py",
     "varRefreshCmd": "print(var_dic_list())"
    },
    "r": {
     "delete_cmd_postfix": ") ",
     "delete_cmd_prefix": "rm(",
     "library": "var_list.r",
     "varRefreshCmd": "cat(var_dic_list()) "
    }
   },
   "types_to_exclude": [
    "module",
    "function",
    "builtin_function_or_method",
    "instance",
    "_Feature"
   ],
   "window_display": false
  }
 },
 "nbformat": 4,
 "nbformat_minor": 4
}
