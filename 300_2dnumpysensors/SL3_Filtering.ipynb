{
 "cells": [
  {
   "cell_type": "markdown",
   "metadata": {
    "slideshow": {
     "slide_type": "slide"
    }
   },
   "source": [
    "<img src=\"https://www.mines.edu/webcentral/wp-content/uploads/sites/267/2019/02/horizontallightbackground.jpg\" width=\"100%\"> \n",
    "### CSCI250 Python Computing: Building a Sensor System\n",
    "<hr style=\"height:5px\" width=\"100%\" align=\"left\">\n",
    "\n",
    "# LAB: Digital filtering\n",
    "## Lisa Simpson"
   ]
  },
  {
   "cell_type": "markdown",
   "metadata": {
    "slideshow": {
     "slide_type": "slide"
    }
   },
   "source": [
    "# Introduction\n",
    "\n",
    "The goal of this lab is write code for filtering noise out of a time series.\n",
    "\n",
    "* Implement your own mean and median filters. \n",
    "* Compare their behavior with functions available in `scipy`."
   ]
  },
  {
   "cell_type": "markdown",
   "metadata": {
    "slideshow": {
     "slide_type": "slide"
    }
   },
   "source": [
    "<img src=\"https://www.dropbox.com/s/u628vjn2uc5h3ua/notebook.png?raw=1\" width=\"10%\" align=\"right\">\n",
    "\n",
    "Read through\n",
    "* the  [`numpy` notebook](s_NpIntro.ipynb)\n",
    "* the  [1D arrays notebook](s_NpArrays1D.ipynb) \n",
    "* the  [1D plot notebook](s_NpPlots1D.ipynb)\n",
    "* the  [vectorization notebook](s_NpVectorization.ipynb)"
   ]
  },
  {
   "cell_type": "markdown",
   "metadata": {
    "slideshow": {
     "slide_type": "slide"
    }
   },
   "source": [
    "# Data noise\n",
    "\n",
    "Data provided by physical sensors are often corrupted by noise. \n",
    "\n",
    "Two common types of noise are \n",
    "* **random**, i.e. continuous small fluctuations, and\n",
    "* **spiky**, i.e. occasional large fluctuations."
   ]
  },
  {
   "cell_type": "markdown",
   "metadata": {
    "slideshow": {
     "slide_type": "slide"
    }
   },
   "source": [
    "# Data denoising\n",
    "\n",
    "We can denoise data using digital filtering:\n",
    "* **mean filters** - replace a value of the time series with an average of the neighbor values within a specified window. \n",
    "\n",
    "* **median filters** - replace a value of the time series with the median of the neighbor values within a specified window. "
   ]
  },
  {
   "cell_type": "markdown",
   "metadata": {
    "slideshow": {
     "slide_type": "slide"
    }
   },
   "source": [
    "Consider the time series defined below representing a damped oscillatory signal, \n",
    "\n",
    "$$\n",
    "a(t) = e^{-kt} \\sin(2 \\pi f t)\n",
    "$$\n",
    "\n",
    "corrupted by uniform random noise and lots of large spikes. \n",
    "\n",
    "Your task is to filter the data using mean and median filters (use a window equal to 1/4 of the signal period). "
   ]
  },
  {
   "cell_type": "markdown",
   "metadata": {
    "slideshow": {
     "slide_type": "slide"
    }
   },
   "source": [
    "# Assignment \n",
    "\n",
    "1. Write your own filtering functions using mean and median functions from`numpy` and separately call corresponding filters from `scipy`. (Look up documentation online.) Store the functions in an external module for future use.\n",
    "\n",
    "2. Plot the noisy input and overlay\n",
    "    * the result of applying the **mean** filters and\n",
    "    * the result of applying the **median** filters.\n",
    "    * Plots should have axis labels, title, and legend.\n",
    "\n",
    "3. Comment on the filter effectiveness for both kinds of noise.\n",
    "\n",
    "4. Comment on filtering windows comparable with the period."
   ]
  },
  {
   "cell_type": "code",
   "execution_count": null,
   "metadata": {
    "slideshow": {
     "slide_type": "slide"
    }
   },
   "outputs": [],
   "source": [
    "import numpy as np\n",
    "import matplotlib.pyplot as plt\n",
    "from math import *\n",
    "\n",
    "import numpy.random as rng\n",
    "rng.seed(1001)"
   ]
  },
  {
   "cell_type": "code",
   "execution_count": null,
   "metadata": {
    "slideshow": {
     "slide_type": "slide"
    }
   },
   "outputs": [],
   "source": [
    "T = 10                     # [s]  total time\n",
    "F = 0.01                   # [Hz] sampling rate\n",
    "\n",
    "nt = int(T/F)              # samples\n",
    "f  = 0.5                   # signal frequency\n",
    "k  = 0.2                   # signal damping \n",
    "\n",
    "t = np.linspace(0,10,nt)   # time axis"
   ]
  },
  {
   "cell_type": "code",
   "execution_count": null,
   "metadata": {
    "slideshow": {
     "slide_type": "slide"
    }
   },
   "outputs": [],
   "source": [
    "s = np.sin(2*pi*f*t) * np.exp(-k*t)\n",
    "\n",
    "# start with the signal\n",
    "a = s.copy()\n",
    "\n",
    "# add white noise\n",
    "wn = rng.uniform(-0.2,+0.2, nt)\n",
    "a += wn\n",
    "\n",
    "# add spiky noise\n",
    "ns = 51\n",
    "sn = np.zeros(nt)\n",
    "sn[ rng.randint(1,nt,ns) ] = rng.uniform(-5.0,+5.0,ns)\n",
    "a += sn"
   ]
  },
  {
   "cell_type": "code",
   "execution_count": null,
   "metadata": {
    "slideshow": {
     "slide_type": "slide"
    }
   },
   "outputs": [],
   "source": [
    "plt.figure(figsize=(15,5))\n",
    "\n",
    "plt.plot(t,a,'k')\n",
    "plt.xlabel('t') \n",
    "plt.ylabel('a') \n",
    "plt.ylim(-5.1,+5.1);"
   ]
  },
  {
   "cell_type": "markdown",
   "metadata": {
    "slideshow": {
     "slide_type": "slide"
    }
   },
   "source": [
    "# Extra credit\n",
    "\n",
    "* Define filtering functions for arbitrary window shape and size."
   ]
  },
  {
   "cell_type": "markdown",
   "metadata": {
    "slideshow": {
     "slide_type": "skip"
    }
   },
   "source": [
    "# Post lab\n",
    "\n",
    "<img src=\"http://www.dropbox.com/s/fcucolyuzdjl80k/todo.jpg?raw=1\" width=\"10%\" align=\"right\">\n",
    "\n",
    "Before you submit the lab, make sure everything works as you expect by restarting the kernel: select **Kernel > Restart & Run All**.\n",
    "\n",
    "Answer the following questions.\n",
    "\n",
    "1. What elements of this lab did you find easy/challenging?\n",
    "    * Your answer here\n",
    "2. What did you like/dislike about this lab?\n",
    "    * Your answer here\n",
    "3. If you did anything worthy of extra credit, tell us about it here!\n",
    "    * Your answer here"
   ]
  },
  {
   "cell_type": "markdown",
   "metadata": {
    "slideshow": {
     "slide_type": "skip"
    }
   },
   "source": [
    "# Submit\n",
    "* Make sure to update your name and department in the top markdown cell.\n",
    "\n",
    "* Rename the Jupyter notebook with the following convention:\n",
    "**SL?-FirstLast.ipynb** (replace ? with the lab number)\n",
    "\n",
    "* Turn in your Jupyter notebook on Canvas. Email submissions don't count."
   ]
  },
  {
   "cell_type": "markdown",
   "metadata": {
    "slideshow": {
     "slide_type": "slide"
    }
   },
   "source": [
    "# Honor code\n",
    "Unless explicitly specified, labs are **individual exercises**. Your submission is subject to the [**Mines Honor Code**](http://inside.mines.edu/~epoeter/_GW/CSMHonorCodeUndergradHandbook.pdf)."
   ]
  },
  {
   "cell_type": "code",
   "execution_count": null,
   "metadata": {},
   "outputs": [],
   "source": []
  }
 ],
 "metadata": {
  "celltoolbar": "Slideshow",
  "kernelspec": {
   "display_name": "Python 3 (ipykernel)",
   "language": "python",
   "name": "python3"
  },
  "language_info": {
   "codemirror_mode": {
    "name": "ipython",
    "version": 3
   },
   "file_extension": ".py",
   "mimetype": "text/x-python",
   "name": "python",
   "nbconvert_exporter": "python",
   "pygments_lexer": "ipython3",
   "version": "3.9.2"
  },
  "varInspector": {
   "cols": {
    "lenName": 16,
    "lenType": 16,
    "lenVar": 40
   },
   "kernels_config": {
    "python": {
     "delete_cmd_postfix": "",
     "delete_cmd_prefix": "del ",
     "library": "var_list.py",
     "varRefreshCmd": "print(var_dic_list())"
    },
    "r": {
     "delete_cmd_postfix": ") ",
     "delete_cmd_prefix": "rm(",
     "library": "var_list.r",
     "varRefreshCmd": "cat(var_dic_list()) "
    }
   },
   "types_to_exclude": [
    "module",
    "function",
    "builtin_function_or_method",
    "instance",
    "_Feature"
   ],
   "window_display": false
  }
 },
 "nbformat": 4,
 "nbformat_minor": 4
}
