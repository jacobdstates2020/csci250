{
 "cells": [
  {
   "cell_type": "markdown",
   "metadata": {
    "slideshow": {
     "slide_type": "slide"
    }
   },
   "source": [
    "<img src=\"https://www.mines.edu/webcentral/wp-content/uploads/sites/267/2019/02/horizontallightbackground.jpg\" width=\"100%\"> \n",
    "### CSCI250 Python Computing: Building a Sensor System\n",
    "<hr style=\"height:5px\" width=\"100%\" align=\"left\">\n",
    "\n",
    "# Object-oriented programming: demo"
   ]
  },
  {
   "cell_type": "markdown",
   "metadata": {
    "heading_collapsed": true,
    "slideshow": {
     "slide_type": "slide"
    }
   },
   "source": [
    "# Objective\n",
    "* demonstrate **object-oriented programming**"
   ]
  },
  {
   "cell_type": "markdown",
   "metadata": {
    "slideshow": {
     "slide_type": "slide"
    }
   },
   "source": [
    "# Resources\n",
    "* [Python introduction](https://docs.python.org/3/tutorial)\n",
    "* [Python reference](https://docs.python.org/3/tutorial/classes.html)\n",
    "* [Programiz Python tutorial](https://www.programiz.com/python-programming/object-oriented-programming)"
   ]
  },
  {
   "cell_type": "markdown",
   "metadata": {
    "slideshow": {
     "slide_type": "slide"
    }
   },
   "source": [
    "<img src=\"https://www.dropbox.com/s/7vd3ezqkyhdxmap/demo.png?raw=1\" width=\"10%\" align=\"left\">\n",
    "\n",
    "# Demo\n",
    "\n",
    "Develop a generic **analog sensor class** with methods and attributes. \n",
    "\n",
    "Construct derived classes for the specific analog sensors. \n",
    "\n",
    "Use inheritance to reuse methods defined in the base analog sensor class. \n",
    "\n",
    "Use the derived classes to build objects for different sensors.\n",
    "\n",
    "Collect and analyze data."
   ]
  },
  {
   "cell_type": "code",
   "execution_count": null,
   "metadata": {
    "slideshow": {
     "slide_type": "slide"
    }
   },
   "outputs": [],
   "source": [
    "import adcUtil as adc\n",
    "\n",
    "# generic analog sensor class \n",
    "# uses baseADC() from adcUtil.py\n",
    "class AnalogSensor:\n",
    "    '''class AnalogSensors provides basic interaction with analog sensors'''\n",
    "        \n",
    "    # class variables (private)\n",
    "    _supplyVoltage = 3.3\n",
    "    _adcDigits     = 1023\n",
    "    \n",
    "    # initialize the sensor channel number\n",
    "    def __init__(self, channel):\n",
    "        self.channel = channel\n",
    "    \n",
    "    # grab the raw number from the ADC: ranges from 0-1023 (2^10-1)\n",
    "    def getRaw(self):\n",
    "        return adc.baseADC(self.channel)\n",
    "    \n",
    "    # convert raw ADC number to voltage\n",
    "    def getVoltage(self):\n",
    "        return self.getRaw() * self._supplyVoltage / self._adcDigits"
   ]
  },
  {
   "cell_type": "markdown",
   "metadata": {
    "slideshow": {
     "slide_type": "slide"
    }
   },
   "source": [
    "### Inheritance demo\n",
    "`Photoresistor` inherits attributes & methods from `AnalogSensor`."
   ]
  },
  {
   "cell_type": "code",
   "execution_count": null,
   "metadata": {},
   "outputs": [],
   "source": [
    "class Photoresistor(AnalogSensor):\n",
    "    '''Photoresistors are analog sensors that change their resistance with light intensity'''\n",
    "        \n",
    "    # initializes photoresistor\n",
    "    def __init__(self, channel, dividerResistance=1e4):\n",
    "        super().__init__(channel) # provide channel number to AnalogSensor's constructor\n",
    "    \n",
    "        # other resistance for the voltage divider\n",
    "        # constructed with the photoresistor\n",
    "        self.dividerResistance = dividerResistance # instance variable \n",
    "    \n",
    "    # calculate resistance of photoresistor \n",
    "    def getResistance(self):\n",
    "        return self.dividerResistance * (self._supplyVoltage / self.getVoltage() - 1)"
   ]
  },
  {
   "cell_type": "markdown",
   "metadata": {
    "slideshow": {
     "slide_type": "slide"
    }
   },
   "source": [
    "### Encapsulation demo\n",
    "`Photoresistor` uses the private variable `_supplyVoltage`, inherited from `AnalogSensor`."
   ]
  },
  {
   "cell_type": "code",
   "execution_count": null,
   "metadata": {},
   "outputs": [],
   "source": [
    "# create an instance of the AnalogSensor class for the potentiometer on channel 0\n",
    "pot = AnalogSensor(0)\n",
    "\n",
    "# create an instance of the Photoresistor class for the photoresistor on channel 1\n",
    "pho = Photoresistor(1) # use default value for the divider resistance"
   ]
  },
  {
   "cell_type": "code",
   "execution_count": null,
   "metadata": {
    "scrolled": true
   },
   "outputs": [],
   "source": [
    "# print the voltage for the potentiometer\n",
    "print(pot.getVoltage())\n",
    "\n",
    "# print the voltage and resistance for the photoresistor\n",
    "# method getVoltage is inherited from class AnalogSensor\n",
    "# method getResistance is specific for class Photoresistor\n",
    "print(pho.getVoltage(),pho.getResistance())"
   ]
  },
  {
   "cell_type": "markdown",
   "metadata": {
    "slideshow": {
     "slide_type": "slide"
    }
   },
   "source": [
    "### Polymorphism demo\n",
    "The function `bigData` returns a `numpy` array with voltages collected with an unspecified sensor object."
   ]
  },
  {
   "cell_type": "code",
   "execution_count": null,
   "metadata": {},
   "outputs": [],
   "source": [
    "import numpy as np"
   ]
  },
  {
   "cell_type": "code",
   "execution_count": null,
   "metadata": {},
   "outputs": [],
   "source": [
    "def bigData( n,sensor ):\n",
    "    data = np.zeros(n)\n",
    "    \n",
    "    for i in range(n):\n",
    "        data[i] = sensor.getVoltage()\n",
    "\n",
    "    return data"
   ]
  },
  {
   "cell_type": "code",
   "execution_count": null,
   "metadata": {},
   "outputs": [],
   "source": [
    "ndata = 10\n",
    "\n",
    "potData = bigData(ndata,pot) # call the function with an AnalogSensor object\n",
    "print(potData)\n",
    "\n",
    "phoData = bigData(ndata,pho) # call the function with a Photoresistor object \n",
    "print(phoData)"
   ]
  },
  {
   "cell_type": "code",
   "execution_count": null,
   "metadata": {},
   "outputs": [],
   "source": [
    "# delete the objects\n",
    "del(pot)\n",
    "del(pho)"
   ]
  },
  {
   "cell_type": "markdown",
   "metadata": {
    "slideshow": {
     "slide_type": "slide"
    }
   },
   "source": [
    "<img src=\"https://www.dropbox.com/s/wj23ce93pa9j8pe/demo.png?raw=1\" width=\"10%\" align=\"left\">\n",
    "\n",
    "# Sound detector class\n",
    "\n",
    "Create a class for the microphone that inherits the `AnalogSensor` class. Create the following methods:\n",
    "\n",
    "* `getAudio()`: Returns voltage from the audio pin. \n",
    "    * Include correction for the voltage bias. \n",
    "    * Use private class attributes.\n",
    "* `getEnvelope()`: Returns voltage from the envelope pin.\n",
    "* `getGate()`: Returns the state of the gate pin.\n",
    "    \n",
    "Call the function `bigData` to collect a large data volume."
   ]
  }
 ],
 "metadata": {
  "celltoolbar": "Slideshow",
  "kernelspec": {
   "display_name": "Python 3",
   "language": "python",
   "name": "python3"
  },
  "language_info": {
   "codemirror_mode": {
    "name": "ipython",
    "version": 3
   },
   "file_extension": ".py",
   "mimetype": "text/x-python",
   "name": "python",
   "nbconvert_exporter": "python",
   "pygments_lexer": "ipython3",
   "version": "3.7.6"
  }
 },
 "nbformat": 4,
 "nbformat_minor": 2
}
