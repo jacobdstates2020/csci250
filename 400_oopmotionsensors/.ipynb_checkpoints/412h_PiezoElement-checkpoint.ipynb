{
 "cells": [
  {
   "cell_type": "markdown",
   "metadata": {
    "slideshow": {
     "slide_type": "slide"
    }
   },
   "source": [
    "<img src=\"https://www.mines.edu/webcentral/wp-content/uploads/sites/267/2019/02/horizontallightbackground.jpg\" width=\"100%\"> \n",
    "### CSCI250 Python Computing: Building a Sensor System\n",
    "<hr style=\"height:5px\" width=\"100%\" align=\"left\">\n",
    "\n",
    "# Piezo element"
   ]
  },
  {
   "cell_type": "markdown",
   "metadata": {
    "slideshow": {
     "slide_type": "slide"
    }
   },
   "source": [
    "# Introduction\n",
    "\n",
    "<img src=\"https://cdn.sparkfun.com//assets/parts/4/6/8/9/10293_01.jpg\" width=\"30%\" align=right>\n",
    "\n",
    "The piezoelectric effect causes certain materials to generate a voltage when deformed. This process is reversible, meaning the material can be deformed by applying a voltage across it. \n",
    "\n",
    "You can learn more about piezoelectricity on [this page](https://en.wikipedia.org/wiki/Piezoelectricity)."
   ]
  },
  {
   "cell_type": "markdown",
   "metadata": {
    "slideshow": {
     "slide_type": "slide"
    }
   },
   "source": [
    "# Wiring\n",
    "\n",
    "The wires connected to the piezo elements are very thin and **don't make good electrical connections in the breadboard**. To fix this, you can insert the jumper wires or resistor legs into the same holes as the piezo element wires.\n",
    "\n",
    "Piezo elements have a small capacitance, so they build up undesirable charge. To fix this, include a 1M$\\Omega$ (color bands: **brown/black/green/gold**) pull-down resistor between the wires of the piezo element. "
   ]
  },
  {
   "cell_type": "markdown",
   "metadata": {
    "slideshow": {
     "slide_type": "slide"
    }
   },
   "source": [
    "The piezo element outputs an analog voltage and connects to the [ADC](h_ADC.ipynb).\n",
    "\n",
    "**N.B.**: the wiring for the ADC is omitted for clarity.\n",
    "\n",
    "<img src=\"https://www.dropbox.com/s/f0s3midn8kdnd0r/wiring_piezo.PNG?raw=1\" align=\"left\" width=\"65%\">\n",
    "\n",
    "<img src=\"https://www.dropbox.com/s/h47hsh440npsi4t/circuit_piezo.jpg?raw=1\" align=\"right\" width=\"35%\">"
   ]
  },
  {
   "cell_type": "markdown",
   "metadata": {
    "slideshow": {
     "slide_type": "slide"
    }
   },
   "source": [
    "# Programming\n",
    "\n",
    "Follow the [ADC notebook](h_ADC.ipynb) to set-up the analog/digital converter."
   ]
  },
  {
   "cell_type": "code",
   "execution_count": null,
   "metadata": {
    "ExecuteTime": {
     "end_time": "2020-10-20T17:25:19.457039Z",
     "start_time": "2020-10-20T17:25:11.900707Z"
    }
   },
   "outputs": [],
   "source": [
    "import adcUtil as adc"
   ]
  },
  {
   "cell_type": "markdown",
   "metadata": {
    "slideshow": {
     "slide_type": "slide"
    }
   },
   "source": [
    "The piezo element outputs a short voltage spike when tapped, so we recommend rapidly sampling it and plotting."
   ]
  },
  {
   "cell_type": "code",
   "execution_count": null,
   "metadata": {
    "ExecuteTime": {
     "end_time": "2020-10-20T17:25:20.584486Z",
     "start_time": "2020-10-20T17:25:19.520905Z"
    },
    "slideshow": {
     "slide_type": "-"
    }
   },
   "outputs": [],
   "source": [
    "import numpy as np\n",
    "import matplotlib.pyplot as plt"
   ]
  },
  {
   "cell_type": "code",
   "execution_count": null,
   "metadata": {
    "ExecuteTime": {
     "end_time": "2020-10-20T17:26:15.937670Z",
     "start_time": "2020-10-20T17:26:13.303115Z"
    },
    "slideshow": {
     "slide_type": "-"
    }
   },
   "outputs": [],
   "source": [
    "nDATA  = 10000\n",
    "dPIEZO = np.zeros(nDATA,dtype='float') # allocate array for data storage\n",
    "\n",
    "for i in range(nDATA):                 # loop a set number of times\n",
    "    dPIEZO[i] = adc.readADC(channel=0) # return voltage from the piezoelement"
   ]
  },
  {
   "cell_type": "code",
   "execution_count": null,
   "metadata": {
    "ExecuteTime": {
     "end_time": "2020-10-20T17:26:17.982859Z",
     "start_time": "2020-10-20T17:26:17.415744Z"
    },
    "slideshow": {
     "slide_type": "-"
    }
   },
   "outputs": [],
   "source": [
    "plt.figure(figsize=(15,5))\n",
    "plt.plot(dPIEZO,'k');\n",
    "plt.show()"
   ]
  },
  {
   "cell_type": "markdown",
   "metadata": {
    "slideshow": {
     "slide_type": "skip"
    }
   },
   "source": [
    "# Troubleshooting\n",
    "\n",
    "* **I get error messages when I run my code.**\n",
    "    * There's probably an issue with your code, not any of the components. Read the error message and try to understand what it's telling you in order to fix it.\n",
    "    \n",
    "* **The ADC always returns 0**.\n",
    "    * You're probably having an issue communicating with the ADC, which would most likely come from a wiring problem. Double check your wiring with ADC notebook to make sure the connections are correct. Also double check your code for any bugs, and that you're using the same channel that the piezo element is connected to.\n",
    "    * Make sure you have decent electrical connections from the piezo element. Its wires are very thin and don't stay well connected in the breadboards, so it can be useful to insert something else into the same breadboard hole to ensure there's a connection, such as a resistor leg or jumper wire.\n",
    "    * Make sure your pull-down resistor is 1M Ohm. Smaller resistors like 330 Ohms will pull-down much more dramatically, meaning you won't be able to make good measurements.\n",
    "    * Ensure that the wires haven't broken off the piezo element. \n",
    "\n",
    "* **I get funky numbers from the ADC test the piezo element**.\n",
    "    * As stated in the wiring section, the voltage across the piezo element doesn't always rest at 0V, which can give you weird values. Be sure to include the 1M Ohm pull-down resistor if you're having problems with this.\n",
    "    * It's possible that the measurement pin of the ADC is left floating because it's not connected to anything; simply moving your hand near the ADC can cause the values to change! Make sure your piezo element is connected to one of the channel pins of the ADC, and make sure your code is getting data from the same channel.\n",
    "    * If the above doesn't help, try swapping your piezo element with a neighbor's. If the new one works, yours is likely broken.\n",
    "    * If your neighbor's piezo element still gives you funky values, try your neighbor's ADC. If the new one works, yours is likely broken."
   ]
  },
  {
   "cell_type": "markdown",
   "metadata": {
    "slideshow": {
     "slide_type": "slide"
    }
   },
   "source": [
    "<img src=\"https://www.dropbox.com/s/wj23ce93pa9j8pe/demo.png?raw=1\" width=\"10%\" align=\"left\">\n",
    "\n",
    "# Exercise\n",
    "\n",
    "Setup a circuit with a piezoelememt and an LED. Program the LED to light-up whenever the piezo element voltage passes some threshold."
   ]
  }
 ],
 "metadata": {
  "celltoolbar": "Slideshow",
  "kernelspec": {
   "display_name": "Python 3",
   "language": "python",
   "name": "python3"
  },
  "language_info": {
   "codemirror_mode": {
    "name": "ipython",
    "version": 3
   },
   "file_extension": ".py",
   "mimetype": "text/x-python",
   "name": "python",
   "nbconvert_exporter": "python",
   "pygments_lexer": "ipython3",
   "version": "3.7.6"
  },
  "varInspector": {
   "cols": {
    "lenName": 16,
    "lenType": 16,
    "lenVar": 40
   },
   "kernels_config": {
    "python": {
     "delete_cmd_postfix": "",
     "delete_cmd_prefix": "del ",
     "library": "var_list.py",
     "varRefreshCmd": "print(var_dic_list())"
    },
    "r": {
     "delete_cmd_postfix": ") ",
     "delete_cmd_prefix": "rm(",
     "library": "var_list.r",
     "varRefreshCmd": "cat(var_dic_list()) "
    }
   },
   "types_to_exclude": [
    "module",
    "function",
    "builtin_function_or_method",
    "instance",
    "_Feature"
   ],
   "window_display": false
  }
 },
 "nbformat": 4,
 "nbformat_minor": 4
}
