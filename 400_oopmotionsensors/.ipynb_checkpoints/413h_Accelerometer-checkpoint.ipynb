{
 "cells": [
  {
   "cell_type": "markdown",
   "metadata": {
    "slideshow": {
     "slide_type": "slide"
    }
   },
   "source": [
    "<img src=\"https://www.mines.edu/webcentral/wp-content/uploads/sites/267/2019/02/horizontallightbackground.jpg\" width=\"100%\"> \n",
    "\n",
    "### CSCI250 Python Computing: Building a Sensor System\n",
    "<hr style=\"height:5px\" width=\"100%\" align=\"left\">\n",
    "\n",
    "# Accelerometer"
   ]
  },
  {
   "cell_type": "markdown",
   "metadata": {
    "heading_collapsed": true,
    "slideshow": {
     "slide_type": "slide"
    }
   },
   "source": [
    "# Introduction\n",
    "\n",
    "<img src=\"https://cdn.sparkfun.com//assets/parts/1/1/6/8/0/13963-02.jpg\" width=\"25%\" align=right>\n",
    "<img src=\"https://cdn.sparkfun.com//assets/parts/1/0/0/0/2/13926-02.jpg\" width=\"20%\" align=right>\n",
    "\n",
    "Simple accelerometers are mass-spring systems, where [Hooke's Law](https://en.wikipedia.org/wiki/Hooke%27s_law) can determine the acceleration by measuring the length of the spring. \n",
    "\n",
    "Modern accelerometers are made on tiny silicon chips, but work on the same principle. Many have 3 \"springs\" to measure acceleration in all directions.\n",
    "\n",
    "You can learn more about accelerometers on [this page](https://en.wikipedia.org/wiki/Accelerometer)."
   ]
  },
  {
   "cell_type": "markdown",
   "metadata": {
    "slideshow": {
     "slide_type": "slide"
    }
   },
   "source": [
    "# Wiring\n",
    "\n",
    "The SparkFun kits come with the **LIS3DH** accelerometer. It's useful to read through the [datasheet](https://cdn.sparkfun.com/assets/b/c/1/3/a/CD00274221.pdf) for this sensor, which contains key information. You can also find information under the documents tab of [the LIS3DH accelerometer](https://www.sparkfun.com/products/13963) page or just by Googling \"LIS3DH datasheet\"."
   ]
  },
  {
   "cell_type": "markdown",
   "metadata": {},
   "source": [
    "We also use the **MMA8452Q** accelerometer as backup. It's useful to read through the [datasheet](https://cdn.sparkfun.com/datasheets/Sensors/Accelerometers/MMA8452Q-rev8.1.pdf) for this sensor, which contains key information. You can also find information under the documents tab of [the MMA8452Q accelerometer](https://www.sparkfun.com/products/13926) page or just by Googling \"MMA8452Q datasheet\"."
   ]
  },
  {
   "cell_type": "markdown",
   "metadata": {
    "slideshow": {
     "slide_type": "slide"
    }
   },
   "source": [
    "The accelerometer we are using communicates over I<sup>2</sup>C (explained in the [I2C LIS3DH notebook](h_I2C_LIS3DH.ipynb)) for the LIS3DH accelerometer, or in the [I2C MMA8452Q notebook](h_I2C_MMA8452Q.ipynb)) for the MMA8452Q, using two wires for communication\n",
    "* **SDA** for serial data, and \n",
    "* **SCL** for serial clock, \n",
    "\n",
    "and two wires for power \n",
    "\n",
    "* **3.3V** and \n",
    "* **GND**. "
   ]
  },
  {
   "cell_type": "markdown",
   "metadata": {
    "slideshow": {
     "slide_type": "slide"
    }
   },
   "source": [
    "The I<sup>2</sup>C pins on the Wedge are named the same as on the accelerometer. You can ignore all other pins.\n",
    "\n",
    "<img src=\"https://www.dropbox.com/s/8tvxlasu3csxemj/wiring_accelerometer.PNG?raw=1\" width=\"60%\" align=\"left\">\n",
    "\n",
    "<img src=\"https://www.dropbox.com/s/v0gp3p7u7phm39l/circuitAccelerometerLIS3DH.jpg?raw=1\" width=\"35%\" align=\"right\">"
   ]
  },
  {
   "cell_type": "markdown",
   "metadata": {},
   "source": [
    "The I<sup>2</sup>C pins on the Wedge are named the same as on the accelerometer. You can ignore pins I<sub>1</sub> and I<sub>2</sub>.\n",
    "\n",
    "<img src=\"https://www.dropbox.com/s/8tvxlasu3csxemj/wiring_accelerometer.PNG?raw=1\" width=\"60%\" align=\"left\">\n",
    "\n",
    "<img src=\"https://www.dropbox.com/s/e4c87okt6vc4yx1/circuit_accelerometer.jpg?raw=1\" width=\"35%\" align=\"right\">"
   ]
  },
  {
   "cell_type": "markdown",
   "metadata": {
    "slideshow": {
     "slide_type": "slide"
    }
   },
   "source": [
    "# I2C interface\n",
    "\n",
    "The accelerometer communicates with the RPi over the protocol called [Inter-Integrated Circuit (I2C)](https://en.wikipedia.org/wiki/I%C2%B2C) (pronounced *I-squared-C*). \n",
    "\n",
    "In order to use this protocol, we need to enable the I2C interface on the RPi: go to the RPi Configuration from Preferences, then on the Interfaces tab for I2C click enable, then OK.\n",
    "\n",
    "**N.B.**: This should be already done from setup day."
   ]
  },
  {
   "cell_type": "markdown",
   "metadata": {
    "heading_collapsed": true,
    "slideshow": {
     "slide_type": "slide"
    }
   },
   "source": [
    "# I2C protocol\n",
    "\n",
    "I2C is one example of a digital communication protocol, which allows devices to talk to each other. I2C includes 2 wires that go HIGH/LOW at specific times to send a stream of bits as shown in the figure. \n",
    "\n",
    "<img src=\"https://cdn.sparkfun.com/assets/6/4/7/1/e/51ae0000ce395f645d000000.png\">\n",
    "\n",
    "Every device on an I2C bus has its own address, which are first bits sent to indicate which device is being communicated with."
   ]
  },
  {
   "cell_type": "markdown",
   "metadata": {
    "slideshow": {
     "slide_type": "slide"
    }
   },
   "source": [
    "# Accelerometer reader\n",
    "For ease of use, we have created a module with a function that enables data collection from sensors connected via I2C. \n",
    "\n",
    "The function is `readACC()`, included in the module `accUtil.py`. "
   ]
  },
  {
   "cell_type": "code",
   "execution_count": null,
   "metadata": {
    "ExecuteTime": {
     "end_time": "2020-10-20T17:27:53.653160Z",
     "start_time": "2020-10-20T17:27:53.597026Z"
    },
    "slideshow": {
     "slide_type": "-"
    }
   },
   "outputs": [],
   "source": [
    "import accUtil as acc"
   ]
  },
  {
   "cell_type": "markdown",
   "metadata": {
    "slideshow": {
     "slide_type": "slide"
    }
   },
   "source": [
    "# Testing\n",
    "\n",
    "Call the `readACC()` function to check that it returns 3 numbers representing acceleration in m/s$^2$. The returned values come in the form of a tuple."
   ]
  },
  {
   "cell_type": "code",
   "execution_count": null,
   "metadata": {
    "ExecuteTime": {
     "end_time": "2020-10-20T17:28:47.117383Z",
     "start_time": "2020-10-20T17:28:47.083797Z"
    },
    "scrolled": true,
    "slideshow": {
     "slide_type": "-"
    }
   },
   "outputs": [],
   "source": [
    "ax,ay,az = acc.readACC()\n",
    "print(ax,ay,az)"
   ]
  },
  {
   "cell_type": "markdown",
   "metadata": {
    "slideshow": {
     "slide_type": "skip"
    }
   },
   "source": [
    "# Troubleshooting\n",
    "\n",
    "* **I get error messages when I run my code**.\n",
    "    * There's probably/likely an issue with the code, not with the electronic components. Read the error message and try to understand what it is telling. If you're not sure, ask for help.\n",
    "    \n",
    "* **The accelerometer always returns 0**.\n",
    "    * You're probably having an issue communicating with the sensor, which would most likely come from a wiring problem. Double check your wiring with the accelerometer notebook to make sure the connections are correct. Also double check your code for any bugs.\n",
    "    * If you can't figure out the problem, raise your hand and we'll come help you.\n",
    "    \n",
    "* **I get funky numbers from the accelerometer**.\n",
    "    * Make sure that you're interpreting the bits correctly and making the conversions as described in the accelerometer notebook. If you don't convert from 2's complement, you will get some very weird behavior. Double check your code for any bugs related to this.\n",
    "    * If you can't find any errors, go back to basics! Recreate the circuit and run the code from this notebook to see if your accelerometer still works as expected. If it does, the problem is with your code, not the sensor.\n",
    "    * If you still get funky values, try your neighbor's accelerometer. If the new one works, yours is likely broken."
   ]
  },
  {
   "cell_type": "markdown",
   "metadata": {
    "slideshow": {
     "slide_type": "slide"
    }
   },
   "source": [
    "<img src=\"https://www.dropbox.com/s/wj23ce93pa9j8pe/demo.png?raw=1\" width=\"10%\" align=\"left\">\n",
    "\n",
    "# Exercise\n",
    "\n",
    "Record the acceleration from all 3 axes for a few seconds and plot the data."
   ]
  },
  {
   "cell_type": "code",
   "execution_count": null,
   "metadata": {},
   "outputs": [],
   "source": []
  }
 ],
 "metadata": {
  "celltoolbar": "Slideshow",
  "hide_input": false,
  "kernelspec": {
   "display_name": "Python 3 (ipykernel)",
   "language": "python",
   "name": "python3"
  },
  "language_info": {
   "codemirror_mode": {
    "name": "ipython",
    "version": 3
   },
   "file_extension": ".py",
   "mimetype": "text/x-python",
   "name": "python",
   "nbconvert_exporter": "python",
   "pygments_lexer": "ipython3",
   "version": "3.7.3"
  },
  "varInspector": {
   "cols": {
    "lenName": 16,
    "lenType": 16,
    "lenVar": 40
   },
   "kernels_config": {
    "python": {
     "delete_cmd_postfix": "",
     "delete_cmd_prefix": "del ",
     "library": "var_list.py",
     "varRefreshCmd": "print(var_dic_list())"
    },
    "r": {
     "delete_cmd_postfix": ") ",
     "delete_cmd_prefix": "rm(",
     "library": "var_list.r",
     "varRefreshCmd": "cat(var_dic_list()) "
    }
   },
   "types_to_exclude": [
    "module",
    "function",
    "builtin_function_or_method",
    "instance",
    "_Feature"
   ],
   "window_display": false
  }
 },
 "nbformat": 4,
 "nbformat_minor": 4
}
