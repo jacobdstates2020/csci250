{
 "cells": [
  {
   "cell_type": "markdown",
   "metadata": {
    "slideshow": {
     "slide_type": "slide"
    }
   },
   "source": [
    "<img src=\"https://www.mines.edu/webcentral/wp-content/uploads/sites/267/2019/02/horizontallightbackground.jpg\" width=\"100%\"> \n",
    "\n",
    "### CSCI250 Python Computing: Building a Sensor System\n",
    "<hr style=\"height:5px\" width=\"100%\" align=\"left\">\n",
    "\n",
    "# LAB: Course management\n",
    "## Lisa Simpson"
   ]
  },
  {
   "cell_type": "markdown",
   "metadata": {
    "slideshow": {
     "slide_type": "slide"
    }
   },
   "source": [
    "# Introduction\n",
    "\n",
    "The goal of this lab is practice with OOP by designing a collection of classes to manage your assignments (times and scores) for this entire course. \n",
    "\n",
    "You will use \n",
    "* inheritance and encapsulation\n",
    "* public and private variables\n",
    "* instance and class methods"
   ]
  },
  {
   "cell_type": "markdown",
   "metadata": {
    "slideshow": {
     "slide_type": "slide"
    }
   },
   "source": [
    "<img src=\"https://www.dropbox.com/s/u628vjn2uc5h3ua/notebook.png?raw=1\" width=\"10%\" align=\"right\">\n",
    "\n",
    "Read through\n",
    "* the  [OOP basics notebook](s_PyOOPBasics.ipynb)\n",
    "* the  [OOP extensions notebook](s_PyOOPExtensions.ipynb) "
   ]
  },
  {
   "cell_type": "markdown",
   "metadata": {
    "slideshow": {
     "slide_type": "slide"
    }
   },
   "source": [
    "# Instructions\n",
    "\n",
    "Implement the following:\n",
    "* base class `Status`\n",
    "    * derived class `Quiz`\n",
    "    * derived class `Lab`\n",
    "* class `Course`.\n",
    "\n",
    "Test the behavior of the classes by creating a `Course` object for CSCI250 using your own scores."
   ]
  },
  {
   "cell_type": "markdown",
   "metadata": {
    "slideshow": {
     "slide_type": "slide"
    }
   },
   "source": [
    "## class `Status`\n",
    "\n",
    "Required methods:\n",
    "* `__init__(aDate, dDate)`\n",
    "    * Sets the value of `self.aDate` to value given by `aDate`.\n",
    "    * Sets the value of `self.dDate` to value given by `dDate`.\n",
    "    * Sets the value of `self.sDate` to `None`.\n",
    "    * Sets the value of `self.score` to `None`.\n",
    "* `setScore(score)`\n",
    "    * Sets the value of `self.score` to value given by `score`.\n",
    "* `getScore()`\n",
    "    * Returns the value of `self.score`.\n",
    "* `getStats()`\n",
    "    * Prints (with a clean format) all values in `self` that are not `None`."
   ]
  },
  {
   "cell_type": "markdown",
   "metadata": {},
   "source": [
    "**Hint**: the `datetime` module provides date and time functions"
   ]
  },
  {
   "cell_type": "markdown",
   "metadata": {
    "heading_collapsed": true,
    "slideshow": {
     "slide_type": "slide"
    }
   },
   "source": [
    "## derived class `Lab` extending `Status`\n",
    "\n",
    "Required **class variable**:\n",
    "* `__lCount`\n",
    "    * Should initially be set to 0.\n",
    "\n",
    "Required **class method**:\n",
    "* `reset()`\n",
    "    * Sets value of `__lCount` to 0.\n",
    "\n",
    "Required **instance methods**:\n",
    "* `__init__(aDate, dDate, kind)`\n",
    "    * Call the `super.__init__()` function to save the values of `aDate` and `dDate`.\n",
    "    * Sets the value of `self.kind` to value given by `kind`.\n",
    "    * Sets the value of `self.parts` (representing the electronic parts used) to `None`.\n",
    "    * Increments the value of `__lCount` by 1.\n",
    "    * Sets the value of `self.lCount` to value given by `__lCount` after incrementing.\n",
    "* `setParts(parts)`\n",
    "    * Sets the value of `self.parts` to value given by `parts`.\n",
    "* `getParts()`\n",
    "    * Returns the value of `self.parts`.\n",
    "* `report()`\n",
    "    * Calls  the inherited  `getStats()` method.\n",
    "    * Prints all remaining values in `self` that are not `None`."
   ]
  },
  {
   "cell_type": "markdown",
   "metadata": {
    "slideshow": {
     "slide_type": "slide"
    }
   },
   "source": [
    "## derived class `Quiz` extending `Status`\n",
    "\n",
    "Required **class variable**:\n",
    "* `__qCount`\n",
    "    * Should initially be set to 0.\n",
    "\n",
    "Required **class method**:\n",
    "* `reset()`\n",
    "    * Sets value of `__qCount` to 0.\n",
    "\n",
    "Required **instance methods**:\n",
    "* `__init__(aDate, dDate)`\n",
    "    * Call the `super.__init__()` function to save the values of `aDate` and `dDate`.\n",
    "    * Increments the value of `__qCount` by 1.\n",
    "    * Sets the value of `self.qCount` to value given by `__qCount` after incrementing.\n",
    "* `report()`\n",
    "    * Calls  the inherited `getStats()` method.\n",
    "    * Prints all remaining values in `self` that are not `None`."
   ]
  },
  {
   "cell_type": "markdown",
   "metadata": {
    "slideshow": {
     "slide_type": "slide"
    }
   },
   "source": [
    "## class `Course`\n",
    "\n",
    "Required **class variables**:\n",
    "* `__qWeight`\n",
    "    * Should be set to 0.1.\n",
    "* `__lWeight`\n",
    "    * Should be set to 0.7.\n",
    "* `__pWeight`\n",
    "    * Should be set to 0.2.\n",
    "\n",
    "Required **instance methods**:\n",
    "* `__init__(name, course, dept)`\n",
    "    * Sets the value of `self.name` to value given by `name`.\n",
    "    * Sets the value of `self.course` to value given by `course`.\n",
    "    * Sets the value of `self.dept` to value given by `dept`.\n",
    "        * Should be given a default value of `None` if not specified.\n",
    "    * Sets `self.quiz` as an empty list.\n",
    "    * Sets `self.slab` as an empty list.\n",
    "    * Sets `self.hlab` as an empty list.\n",
    "    * Sets `self.proj` as an empty list.\n",
    "    * reset counts for the `Quiz` and `Lab` classes. \n",
    "* `addQuiz(aDate, dDate, sDate, score)`\n",
    "    * Creates new `Quiz` object with all the necessary parameters.\n",
    "        * `score` should be given a default value of `0` if not specified.\n",
    "    * Appends the new `Quiz` object to `self.quiz`.\n",
    "* `addSlab(aDate, dDate, sDate, score)`\n",
    "    * Creates new `Lab` object with all the necessary parameters.\n",
    "        * `score` should be given a default value of `0` if not specified.\n",
    "        * The `kind` should be set to `'s'`.\n",
    "    * Appends the new `Lab` object to `self.slab`.\n",
    "* `addHlab(aDate, dDate, sDate, score, parts)`\n",
    "    * Creates new `Lab` object with all the necessary parameters.\n",
    "        * `score` should be given a default value of `0` if not specified.\n",
    "        * `parts` should be given a default value of `None` if not specified.\n",
    "        * The `kind` should be set to `'h'`.\n",
    "    * Appends the new `Lab` object to `self.hlab`.\n",
    "* `addProj(aDate, dDate, sDate, score, parts)`\n",
    "    * Creates new `Lab` object with all the necessary parameters.\n",
    "        * `score` should be given a default value of `0` if not specified.\n",
    "        * `parts` should be given a default value of `None` if not specified.\n",
    "        * The `kind` should be set to `'p'`.\n",
    "    * Appends the new `Lab` object to `self.proj`.\n",
    "* `courseReport()`\n",
    "    * Prints the student name, the course name, and the department name.\n",
    "    * Prints the current date.\n",
    "    * For every quiz, software lab, hardware lab, and project, calls their corresponding `report()` functions.\n",
    "* `allScores()`\n",
    "    * For every quiz, software lab, hardware lab, and project, calls their corresponding `getScore()` functions and prints the returned values.\n",
    "* `totalScore()`\n",
    "    * Calculates and prints the final weighted score for all assignments (see below).\n",
    "    * Prints the final grade letter (see below)."
   ]
  },
  {
   "cell_type": "markdown",
   "metadata": {
    "slideshow": {
     "slide_type": "slide"
    }
   },
   "source": [
    "## Scoring\n",
    "Compute the total score as\n",
    "\n",
    "$ T = w_q Q + w_l L + w_p P $\n",
    "\n",
    "where $Q$, $L$ and $P$ are the average quiz, labs and project scores,\n",
    "\n",
    "and the weights are $w_q=0.1$, $w_l=0.7$ and $w_p=0.2$."
   ]
  },
  {
   "cell_type": "markdown",
   "metadata": {
    "slideshow": {
     "slide_type": "-"
    }
   },
   "source": [
    "The grades are based on the total score:\n",
    "\n",
    "A: $T\\in[90,100]$\n",
    "\n",
    "B: $T\\in[80,90)$\n",
    "\n",
    "C: $T\\in[70,80)$\n",
    "\n",
    "D: $T\\in[60,70)$\n",
    "\n",
    "F: $T<60$\n",
    "  "
   ]
  },
  {
   "cell_type": "code",
   "execution_count": null,
   "metadata": {},
   "outputs": [],
   "source": [
    "# Your code here"
   ]
  },
  {
   "cell_type": "markdown",
   "metadata": {
    "slideshow": {
     "slide_type": "skip"
    }
   },
   "source": [
    "# Post lab\n",
    "\n",
    "<img src=\"http://www.dropbox.com/s/fcucolyuzdjl80k/todo.jpg?raw=1\" width=\"10%\" align=\"right\">\n",
    "\n",
    "Before you submit the lab, make sure everything works as you expect by restarting the kernel: select **Kernel > Restart & Run All**.\n",
    "\n",
    "Answer the following questions.\n",
    "\n",
    "1. What elements of this lab did you find easy/challenging?\n",
    "    * Your answer here\n",
    "2. What did you like/dislike about this lab?\n",
    "    * Your answer here\n",
    "3. If you did anything worthy of extra credit, tell us about it here!\n",
    "    * Your answer here"
   ]
  },
  {
   "cell_type": "markdown",
   "metadata": {
    "slideshow": {
     "slide_type": "skip"
    }
   },
   "source": [
    "# Submit\n",
    "* Make sure to update your name and department in the top markdown cell.\n",
    "\n",
    "* Rename the Jupyter notebook with the following convention:\n",
    "**SL?-FirstLast.ipynb** (replace ? with the lab number)\n",
    "\n",
    "* Turn in your Jupyter notebook on Canvas. Email submissions don't count."
   ]
  },
  {
   "cell_type": "markdown",
   "metadata": {
    "slideshow": {
     "slide_type": "slide"
    }
   },
   "source": [
    "# Honor code\n",
    "Unless explicitly specified, labs are **individual exercises**. Your submission is subject to the [**Mines Honor Code**](http://inside.mines.edu/~epoeter/_GW/CSMHonorCodeUndergradHandbook.pdf)."
   ]
  }
 ],
 "metadata": {
  "celltoolbar": "Slideshow",
  "hide_input": false,
  "kernelspec": {
   "display_name": "Python 3",
   "language": "python",
   "name": "python3"
  },
  "language_info": {
   "codemirror_mode": {
    "name": "ipython",
    "version": 3
   },
   "file_extension": ".py",
   "mimetype": "text/x-python",
   "name": "python",
   "nbconvert_exporter": "python",
   "pygments_lexer": "ipython3",
   "version": "3.8.5"
  },
  "varInspector": {
   "cols": {
    "lenName": 16,
    "lenType": 16,
    "lenVar": 40
   },
   "kernels_config": {
    "python": {
     "delete_cmd_postfix": "",
     "delete_cmd_prefix": "del ",
     "library": "var_list.py",
     "varRefreshCmd": "print(var_dic_list())"
    },
    "r": {
     "delete_cmd_postfix": ") ",
     "delete_cmd_prefix": "rm(",
     "library": "var_list.r",
     "varRefreshCmd": "cat(var_dic_list()) "
    }
   },
   "types_to_exclude": [
    "module",
    "function",
    "builtin_function_or_method",
    "instance",
    "_Feature"
   ],
   "window_display": false
  }
 },
 "nbformat": 4,
 "nbformat_minor": 4
}
