{
 "cells": [
  {
   "cell_type": "markdown",
   "metadata": {
    "slideshow": {
     "slide_type": "slide"
    }
   },
   "source": [
    "<img src=\"https://www.mines.edu/webcentral/wp-content/uploads/sites/267/2019/02/horizontallightbackground.jpg\" width=\"100%\"> \n",
    "### CSCI250 Python Computing: Building a Sensor System\n",
    "<hr style=\"height:5px\" width=\"100%\" align=\"left\">\n",
    "\n",
    "# Object-oriented programming: extensions"
   ]
  },
  {
   "cell_type": "markdown",
   "metadata": {
    "slideshow": {
     "slide_type": "slide"
    }
   },
   "source": [
    "# Objective\n",
    "introduce **object-oriented programming** extensions"
   ]
  },
  {
   "cell_type": "markdown",
   "metadata": {
    "slideshow": {
     "slide_type": "slide"
    }
   },
   "source": [
    "# Resources\n",
    "* [Python introduction](https://docs.python.org/3/tutorial)\n",
    "* [Python reference](https://docs.python.org/3/tutorial/classes.html)\n",
    "* [Programiz Python tutorial](https://www.programiz.com/python-programming/object-oriented-programming)"
   ]
  },
  {
   "cell_type": "markdown",
   "metadata": {
    "slideshow": {
     "slide_type": "slide"
    }
   },
   "source": [
    "# Class extensions\n",
    "Classes allow code extension by: \n",
    "1. **Inheritance**\n",
    "2. **Encapsulation**\n",
    "3. **Polymorphism**\n",
    "\n",
    "***\n",
    "These OOP properties enable \n",
    "* faster code development\n",
    "* clearer and reusable code"
   ]
  },
  {
   "cell_type": "markdown",
   "metadata": {
    "slideshow": {
     "slide_type": "slide"
    }
   },
   "source": [
    "* The base class: `Person`."
   ]
  },
  {
   "cell_type": "code",
   "execution_count": 1,
   "metadata": {
    "slideshow": {
     "slide_type": "-"
    }
   },
   "outputs": [],
   "source": [
    "class Person:                                       # class definition \n",
    "    '''class Person describes persons'''            # class documentation\n",
    "    \n",
    "    species = 'Home Sapiens'                        # class variables\n",
    "    planet  = 'Terra'                               #\n",
    "    \n",
    "    def __init__(self, first,last,age ):            # constructor\n",
    "        self.first = first                          # instance variables\n",
    "        self.last  = last                           #\n",
    "        self.age   = age                            #\n",
    "        \n",
    "    def identity(self):                             # instance method\n",
    "        '''displays the identity of a person'''     # method documentation\n",
    "        print(self.first,self.last,', age',self.age)\n",
    "        \n",
    "    @classmethod                                    # class method declarator \n",
    "    def location(cls,planet):                       # class method\n",
    "        '''modifies the class variable planet'''    # method documentation\n",
    "        cls.planet = planet\n",
    "        \n",
    "    @staticmethod                                   # static method declarator\n",
    "    def creator():                                  # static method\n",
    "        '''displays the Simpsons creator'''         # method documentation\n",
    "        print('Matt Groening')"
   ]
  },
  {
   "cell_type": "markdown",
   "metadata": {
    "slideshow": {
     "slide_type": "slide"
    }
   },
   "source": [
    "<div class=\"alert alert-block alert-info\">\n",
    "    \n",
    "# Inheritance\n",
    "\n",
    "A new (**derived**) class can be defined based on another (**base**) class. \n",
    "\n",
    "The attributes and methods of the base class are inherited by the derived class.\n",
    "\n",
    "</div>"
   ]
  },
  {
   "cell_type": "markdown",
   "metadata": {
    "slideshow": {
     "slide_type": "slide"
    }
   },
   "source": [
    "* The base class: `Person`\n",
    "* The derived class: `Student`"
   ]
  },
  {
   "cell_type": "code",
   "execution_count": 2,
   "metadata": {
    "slideshow": {
     "slide_type": "-"
    }
   },
   "outputs": [],
   "source": [
    "class Student(Person):                               # derived class - Student; base class - Person\n",
    "    '''class Student describes Students'''"
   ]
  },
  {
   "cell_type": "code",
   "execution_count": 3,
   "metadata": {
    "scrolled": true
   },
   "outputs": [
    {
     "name": "stdout",
     "output_type": "stream",
     "text": [
      "<class '__main__.Student'>\n"
     ]
    }
   ],
   "source": [
    "lisa = Student('Lisa','Simpson', 8)\n",
    "print(type(lisa))"
   ]
  },
  {
   "cell_type": "code",
   "execution_count": 5,
   "metadata": {
    "scrolled": true
   },
   "outputs": [
    {
     "name": "stdout",
     "output_type": "stream",
     "text": [
      "Lisa Simpson , age 8\n"
     ]
    }
   ],
   "source": [
    "# call a method inherited from the base class Person\n",
    "lisa.identity()"
   ]
  },
  {
   "cell_type": "markdown",
   "metadata": {
    "slideshow": {
     "slide_type": "slide"
    }
   },
   "source": [
    "`help()` provides info about all attributes and methods."
   ]
  },
  {
   "cell_type": "code",
   "execution_count": 6,
   "metadata": {
    "slideshow": {
     "slide_type": "-"
    }
   },
   "outputs": [
    {
     "name": "stdout",
     "output_type": "stream",
     "text": [
      "Help on class Student in module __main__:\n",
      "\n",
      "class Student(Person)\n",
      " |  Student(first, last, age)\n",
      " |  \n",
      " |  class Student describes Students\n",
      " |  \n",
      " |  Method resolution order:\n",
      " |      Student\n",
      " |      Person\n",
      " |      builtins.object\n",
      " |  \n",
      " |  Methods inherited from Person:\n",
      " |  \n",
      " |  __init__(self, first, last, age)\n",
      " |      Initialize self.  See help(type(self)) for accurate signature.\n",
      " |  \n",
      " |  identity(self)\n",
      " |      displays the identity of a person\n",
      " |  \n",
      " |  ----------------------------------------------------------------------\n",
      " |  Class methods inherited from Person:\n",
      " |  \n",
      " |  location(planet) from builtins.type\n",
      " |      modifies the class variable planet\n",
      " |  \n",
      " |  ----------------------------------------------------------------------\n",
      " |  Static methods inherited from Person:\n",
      " |  \n",
      " |  creator()\n",
      " |      displays the Simpsons creator\n",
      " |  \n",
      " |  ----------------------------------------------------------------------\n",
      " |  Data descriptors inherited from Person:\n",
      " |  \n",
      " |  __dict__\n",
      " |      dictionary for instance variables (if defined)\n",
      " |  \n",
      " |  __weakref__\n",
      " |      list of weak references to the object (if defined)\n",
      " |  \n",
      " |  ----------------------------------------------------------------------\n",
      " |  Data and other attributes inherited from Person:\n",
      " |  \n",
      " |  planet = 'Terra'\n",
      " |  \n",
      " |  species = 'Home Sapiens'\n",
      "\n"
     ]
    }
   ],
   "source": [
    "help(Student)"
   ]
  },
  {
   "cell_type": "markdown",
   "metadata": {
    "slideshow": {
     "slide_type": "slide"
    }
   },
   "source": [
    "The derived class can have its own constructor.\n",
    "\n",
    "It can call the base class constructor."
   ]
  },
  {
   "cell_type": "code",
   "execution_count": 9,
   "metadata": {},
   "outputs": [],
   "source": [
    "class Student(Person):\n",
    "    '''class Student describes students'''\n",
    "    \n",
    "    def __init__(self, first, last, age):    # Can define a constructure for the derived class\n",
    "        super().__init__(first, last, age)   # Calls constructure of the base class, Person so we can define other instance vars\n",
    "        \n",
    "        self.scores = dict()                 # another instance variable only in derived class"
   ]
  },
  {
   "cell_type": "code",
   "execution_count": 10,
   "metadata": {},
   "outputs": [
    {
     "name": "stdout",
     "output_type": "stream",
     "text": [
      "<class '__main__.Student'>\n"
     ]
    }
   ],
   "source": [
    "bart = Student('Bart','Simpson',8)\n",
    "print(type(bart))"
   ]
  },
  {
   "cell_type": "code",
   "execution_count": 11,
   "metadata": {},
   "outputs": [
    {
     "name": "stdout",
     "output_type": "stream",
     "text": [
      "Bart Simpson , age 8\n",
      "{}\n"
     ]
    }
   ],
   "source": [
    "bart.identity() # recall this identity is a method only defined in the Person class and inherited in the Student class\n",
    "\n",
    "# access an instance variable from the derived class Student\n",
    "print(bart.scores)"
   ]
  },
  {
   "cell_type": "markdown",
   "metadata": {
    "slideshow": {
     "slide_type": "slide"
    }
   },
   "source": [
    "The derived class can have its own attributes and methods."
   ]
  },
  {
   "cell_type": "code",
   "execution_count": 27,
   "metadata": {
    "slideshow": {
     "slide_type": "-"
    }
   },
   "outputs": [],
   "source": [
    "                                           # derived class - Student\n",
    "class Student(Person):                     #    base class - Person\n",
    "    '''class Student describes students'''\n",
    "    \n",
    "    school = 'Springfield Elementary'      # class variable\n",
    "    \n",
    "    def __init__(self, first, last, age):  # the derived class constructor\n",
    "        super().__init__(first, last, age) # calls the base class constructor to prevent redundancy\n",
    "        \n",
    "        self.scores = dict()             # additional instance variable\n",
    "        \n",
    "    def grade(self):\n",
    "        gr = self.age - 6\n",
    "        if(gr >= 1):\n",
    "            print('grade',gr,'at',self.school)\n",
    "        else:\n",
    "            print('kindergarden')\n",
    "    \n",
    "    def addScore(self, key, val):\n",
    "        self.scores[key] = val\n",
    "        \n",
    "    def getScores(self):\n",
    "        print(self.first, self.last, self.scores)"
   ]
  },
  {
   "cell_type": "code",
   "execution_count": 28,
   "metadata": {
    "slideshow": {
     "slide_type": "slide"
    }
   },
   "outputs": [],
   "source": [
    "lisa = Student('Lisa','Simpson',8)"
   ]
  },
  {
   "cell_type": "code",
   "execution_count": 29,
   "metadata": {
    "scrolled": true,
    "slideshow": {
     "slide_type": "-"
    }
   },
   "outputs": [
    {
     "name": "stdout",
     "output_type": "stream",
     "text": [
      "Lisa Simpson , age 8\n",
      "grade 2 at Springfield Elementary\n"
     ]
    }
   ],
   "source": [
    "lisa.identity()        # method inherited from class Person\n",
    "\n",
    "lisa.grade()           # method defined in class Student "
   ]
  },
  {
   "cell_type": "code",
   "execution_count": 30,
   "metadata": {},
   "outputs": [
    {
     "name": "stdout",
     "output_type": "stream",
     "text": [
      "Lisa Simpson {}\n",
      "Lisa Simpson {'MA': 97, 'SS': 92, 'EN': 94}\n"
     ]
    }
   ],
   "source": [
    "lisa.getScores()\n",
    "\n",
    "lisa.addScore('MA', 97)\n",
    "lisa.addScore('SS', 92)\n",
    "lisa.addScore('EN', 94)\n",
    "\n",
    "lisa.getScores()"
   ]
  },
  {
   "cell_type": "markdown",
   "metadata": {
    "slideshow": {
     "slide_type": "slide"
    }
   },
   "source": [
    "<img src=\"http://www.dropbox.com/s/fcucolyuzdjl80k/todo.jpg?raw=1\" width=\"10%\" align=\"right\">\n",
    "\n",
    "Define another class to demonstrate OOP **inheritance**.\n",
    "\n",
    "Practice deriving a class from Person and from deriving a class from Student."
   ]
  },
  {
   "cell_type": "markdown",
   "metadata": {
    "slideshow": {
     "slide_type": "slide"
    }
   },
   "source": [
    "<div class=\"alert alert-block alert-info\">\n",
    "    \n",
    "# Encapsulation\n",
    "\n",
    "A class can restrict access to methods or attributes. \n",
    "\n",
    "</div>"
   ]
  },
  {
   "cell_type": "markdown",
   "metadata": {},
   "source": [
    "* **protected member**: denote by single `_`\n",
    "    * access from within the class and subclasses\n",
    "* **private member**: denote by double `__`\n",
    "    * cannot be accessed outside the class"
   ]
  },
  {
   "cell_type": "code",
   "execution_count": 31,
   "metadata": {
    "slideshow": {
     "slide_type": "slide"
    }
   },
   "outputs": [],
   "source": [
    "                                           # derived class - Student\n",
    "class Student(Person):                     #    base class - Person\n",
    "    '''class Student describes students'''\n",
    "    \n",
    "    school = 'Springfield Elementary'      # class variable\n",
    "    \n",
    "    def __init__(self, first, last, age):  # the derived class constructor\n",
    "        super().__init__(first, last, age) # calls the base class constructor to prevent redundancy\n",
    "        \n",
    "        self.scores = dict()               # additional instance variable\n",
    "        \n",
    "                                           # member functions of the Student Class\n",
    "    def grade(self):\n",
    "        gr = self.age - 6\n",
    "        if(gr >= 1):\n",
    "            print('grade',gr,'at',self.school)\n",
    "        else:\n",
    "            print('kindergarden')\n",
    "    \n",
    "    def addScore(self, key, val):\n",
    "        self.scores[key] = val\n",
    "        \n",
    "    def getScores(self):\n",
    "        print(self.first, self.last, self.scores)"
   ]
  },
  {
   "cell_type": "code",
   "execution_count": 32,
   "metadata": {},
   "outputs": [
    {
     "data": {
      "text/plain": [
       "'Lisa'"
      ]
     },
     "execution_count": 32,
     "metadata": {},
     "output_type": "execute_result"
    }
   ],
   "source": [
    "lisa.first"
   ]
  },
  {
   "cell_type": "code",
   "execution_count": 34,
   "metadata": {
    "scrolled": true,
    "slideshow": {
     "slide_type": "slide"
    }
   },
   "outputs": [
    {
     "name": "stdout",
     "output_type": "stream",
     "text": [
      "grade 2 at Springfield Elementary\n",
      "grade 2 at Colorado School of Mines\n"
     ]
    }
   ],
   "source": [
    "# create an object of class Student\n",
    "lisa = Student('Lisa','Simpson',8)\n",
    "\n",
    "# call a method defined in class Student\n",
    "lisa.grade()\n",
    "\n",
    "# access and change the public variable 'school'\n",
    "lisa.school = 'Colorado School of Mines'\n",
    "\n",
    "# the school name has changed\n",
    "lisa.grade()\n",
    "\n",
    "# Now all students in the class Student go to Colorado School of Mines if gr >= 1"
   ]
  },
  {
   "cell_type": "code",
   "execution_count": 35,
   "metadata": {
    "slideshow": {
     "slide_type": "slide"
    }
   },
   "outputs": [],
   "source": [
    "                                           # derived class - Student\n",
    "class Student(Person):                     #    base class - Person\n",
    "    '''class Student describes students'''\n",
    "    \n",
    "    __school = 'Springfield Elementary'    # class variable (Now Private because of __)\n",
    "    \n",
    "    def __init__(self, first, last, age):  # the derived class constructor\n",
    "        super().__init__(first, last, age) # calls the base class constructor to prevent redundancy\n",
    "        \n",
    "        self.scores = dict()               # additional instance variable (dict)\n",
    "        \n",
    "                                           # member functions of the Student Class\n",
    "    def grade(self):\n",
    "        gr = self.age - 6\n",
    "        if(gr >= 1):\n",
    "            print('grade',gr,'at',self.__school)\n",
    "        else:\n",
    "            print('kindergarden')\n",
    "    \n",
    "    def addScore(self, key, val):\n",
    "        self.scores[key] = val\n",
    "        \n",
    "    def getScores(self):\n",
    "        print(self.first, self.last, self.scores)"
   ]
  },
  {
   "cell_type": "code",
   "execution_count": 36,
   "metadata": {
    "slideshow": {
     "slide_type": "slide"
    }
   },
   "outputs": [
    {
     "name": "stdout",
     "output_type": "stream",
     "text": [
      "grade 2 at Springfield Elementary\n",
      "grade 2 at Springfield Elementary\n"
     ]
    }
   ],
   "source": [
    "# create an object of class Student\n",
    "lisa = Student('Lisa','Simpson',8)\n",
    "\n",
    "# call a method defined in class Student\n",
    "lisa.grade()\n",
    "\n",
    "# access and change the public variable 'school'\n",
    "lisa.school = 'Colorado School of Mines'\n",
    "\n",
    "# the school name has NOT changed\n",
    "lisa.grade() "
   ]
  },
  {
   "cell_type": "code",
   "execution_count": 37,
   "metadata": {},
   "outputs": [
    {
     "name": "stdout",
     "output_type": "stream",
     "text": [
      "grade 4 at Springfield Elementary\n"
     ]
    }
   ],
   "source": [
    "bart = Student('Bart', 'Simpson', 10)\n",
    "bart.grade()\n",
    "\n",
    "# Even newly initialized objects of class Student are unaffected so the school variable never changed."
   ]
  },
  {
   "cell_type": "markdown",
   "metadata": {
    "slideshow": {
     "slide_type": "slide"
    }
   },
   "source": [
    "<img src=\"http://www.dropbox.com/s/fcucolyuzdjl80k/todo.jpg?raw=1\" width=\"10%\" align=\"right\">\n",
    "\n",
    "Define other attributes that demonstrate OOP **encapsulation**."
   ]
  },
  {
   "cell_type": "markdown",
   "metadata": {
    "slideshow": {
     "slide_type": "slide"
    }
   },
   "source": [
    "<div class=\"alert alert-block alert-info\">\n",
    "    \n",
    "# Polymorphism\n",
    "\n",
    "Python functions have the ability to process objects differently depending on their class.\n",
    "\n",
    "</div>"
   ]
  },
  {
   "cell_type": "markdown",
   "metadata": {},
   "source": [
    "Polymorphism allows us to define functions of classes with the same name (ex: getScores()) and receive different results depending on the class of the object. Student.getScores() will return dictionary vs Athletes.getScores() which will return a list."
   ]
  },
  {
   "cell_type": "code",
   "execution_count": 38,
   "metadata": {
    "slideshow": {
     "slide_type": "slide"
    }
   },
   "outputs": [],
   "source": [
    "                                         # derived class - Student\n",
    "class Student(Person):                   #    base class - Person\n",
    "    '''class Student describes students'''\n",
    "    \n",
    "    __school = 'Springfield Elementary'  # class variable (private)\n",
    "    \n",
    "    def __init__(self, first,last,age):  #    the derived class constructor\n",
    "        super().__init__(first,last,age) # calls the base class constructor\n",
    "        \n",
    "        self.scores = dict()             # instance variable (dict)\n",
    "            \n",
    "                                         #  member functions of the Student class\n",
    "    def grade(self):        \n",
    "        gr = self.age - 6\n",
    "        if(gr >= 1):\n",
    "            print('grade',gr,'at',self.__school)\n",
    "        else:\n",
    "            print('kindergarden')        \n",
    "        \n",
    "    def addScore(self, key,val):\n",
    "        self.scores[key] = val\n",
    "        \n",
    "    def getScores(self):\n",
    "        print(self.first,self.last,self.scores)"
   ]
  },
  {
   "cell_type": "code",
   "execution_count": 39,
   "metadata": {
    "slideshow": {
     "slide_type": "slide"
    }
   },
   "outputs": [],
   "source": [
    "                                         # derived class - Athlete\n",
    "class Athlete(Person):                   #    base class - Person  \n",
    "    '''class Athlete describes athletes'''\n",
    "    \n",
    "    def __init__(self,first,last,age):   # derived class constructor\n",
    "        super().__init__(first,last,age) #    base class contructor - called by derived to reduce redundancy\n",
    "        \n",
    "        self.times = []                  # instance variable (list NOT dict)\n",
    "        \n",
    "                                         # member functions of the Athlete class are different from the functions with\n",
    "    def addScore(self, key,val):         # same names in the class Student\n",
    "        \n",
    "        self.times.append(key)\n",
    "        self.times.append(val)\n",
    "        \n",
    "    def getScores(self):\n",
    "        print(self.first,self.last,self.times)"
   ]
  },
  {
   "cell_type": "markdown",
   "metadata": {
    "slideshow": {
     "slide_type": "slide"
    }
   },
   "source": [
    "Define objects that belong to different classes."
   ]
  },
  {
   "cell_type": "code",
   "execution_count": 40,
   "metadata": {},
   "outputs": [
    {
     "name": "stdout",
     "output_type": "stream",
     "text": [
      "<class '__main__.Student'>\n"
     ]
    }
   ],
   "source": [
    "lisa = Student('Lisa','Simpson',8)\n",
    "lisa.addScore('EN','94')\n",
    "print(type(lisa))"
   ]
  },
  {
   "cell_type": "code",
   "execution_count": 41,
   "metadata": {
    "scrolled": true
   },
   "outputs": [
    {
     "name": "stdout",
     "output_type": "stream",
     "text": [
      "<class '__main__.Athlete'>\n"
     ]
    }
   ],
   "source": [
    "maggie = Athlete('Maggie','Simpson',1)\n",
    "maggie.addScore('50m free','5s')\n",
    "print(type(maggie))"
   ]
  },
  {
   "cell_type": "markdown",
   "metadata": {
    "slideshow": {
     "slide_type": "slide"
    }
   },
   "source": [
    "The custom function `enquire()` accepts input from different classes."
   ]
  },
  {
   "cell_type": "code",
   "execution_count": 42,
   "metadata": {},
   "outputs": [],
   "source": [
    "# common interface - works on different classes\n",
    "# we do not specify upfront the class of object 'kid'\n",
    "def enquire( kid ):\n",
    "    kid.identity()\n",
    "    kid.getScores()"
   ]
  },
  {
   "cell_type": "code",
   "execution_count": 43,
   "metadata": {},
   "outputs": [
    {
     "name": "stdout",
     "output_type": "stream",
     "text": [
      "Lisa Simpson , age 8\n",
      "Lisa Simpson {'EN': '94'}\n"
     ]
    }
   ],
   "source": [
    "# call on an object from class Student\n",
    "# - getScores() returns a dict\n",
    "enquire(lisa)"
   ]
  },
  {
   "cell_type": "code",
   "execution_count": 44,
   "metadata": {
    "scrolled": true
   },
   "outputs": [
    {
     "name": "stdout",
     "output_type": "stream",
     "text": [
      "Maggie Simpson , age 1\n",
      "Maggie Simpson ['50m free', '5s']\n"
     ]
    }
   ],
   "source": [
    "# call on an object from class Athlete\n",
    "# - getScores() returns a list\n",
    "enquire(maggie)"
   ]
  },
  {
   "cell_type": "markdown",
   "metadata": {
    "slideshow": {
     "slide_type": "slide"
    }
   },
   "source": [
    "<img src=\"http://www.dropbox.com/s/fcucolyuzdjl80k/todo.jpg?raw=1\" width=\"10%\" align=\"right\">\n",
    "\n",
    "Define other methods that demonstrate OOP **polymorphism**."
   ]
  }
 ],
 "metadata": {
  "celltoolbar": "Slideshow",
  "kernelspec": {
   "display_name": "Python 3 (ipykernel)",
   "language": "python",
   "name": "python3"
  },
  "language_info": {
   "codemirror_mode": {
    "name": "ipython",
    "version": 3
   },
   "file_extension": ".py",
   "mimetype": "text/x-python",
   "name": "python",
   "nbconvert_exporter": "python",
   "pygments_lexer": "ipython3",
   "version": "3.9.2"
  }
 },
 "nbformat": 4,
 "nbformat_minor": 2
}
