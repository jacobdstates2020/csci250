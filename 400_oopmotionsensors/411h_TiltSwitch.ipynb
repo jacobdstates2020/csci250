{
 "cells": [
  {
   "cell_type": "markdown",
   "metadata": {
    "slideshow": {
     "slide_type": "slide"
    }
   },
   "source": [
    "<img src=\"https://www.mines.edu/webcentral/wp-content/uploads/sites/267/2019/02/horizontallightbackground.jpg\" width=\"100%\"> \n",
    "### CSCI250 Python Computing: Building a Sensor System\n",
    "<hr style=\"height:5px\" width=\"100%\" align=\"left\">\n",
    "\n",
    "# Tilt switch"
   ]
  },
  {
   "cell_type": "markdown",
   "metadata": {
    "heading_collapsed": true,
    "slideshow": {
     "slide_type": "slide"
    }
   },
   "source": [
    "# Introduction\n",
    "\n",
    "<img src=\"https://cdn.sparkfun.com//assets/parts/4/6/8/5/10289-01.jpg\" width=\"30%\" align=right>\n",
    "\n",
    "Tilt switches are like push buttons, except that they are activated by turning them upside-down. \n",
    "\n",
    "Inside the case is a small metal ball that makes contact between two pins when rotated, and disconnects otherwise. "
   ]
  },
  {
   "cell_type": "markdown",
   "metadata": {
    "hidden": true,
    "slideshow": {
     "slide_type": "slide"
    }
   },
   "source": [
    "<img src=\"https://www.dropbox.com/s/u628vjn2uc5h3ua/notebook.png?raw=1\" width=\"10%\" align=\"left\">\n",
    "\n",
    "See the [button notebook](h_PushButton.ipynb) for more info on a simple digital input device."
   ]
  },
  {
   "cell_type": "markdown",
   "metadata": {
    "slideshow": {
     "slide_type": "slide"
    }
   },
   "source": [
    "# Wiring\n",
    "\n",
    "Be careful with the tilt switches, **the legs are very thin and can break easily**. Connect them to M/F wires to facilitate easy rotation.\n",
    "\n",
    "Tilt switches are simple GPIO input devices:\n",
    "* one side should be connected to a GPIO pin\n",
    "* the other side to HIGH or LOW (3.3V / 0V) voltage. \n",
    "\n",
    "**N.B.**: We need to set-up pull-up/pull-down resistors to fix the floating state when contact is broken."
   ]
  },
  {
   "cell_type": "markdown",
   "metadata": {
    "slideshow": {
     "slide_type": "slide"
    }
   },
   "source": [
    "# Programming\n",
    "\n",
    "In order to use the tilt switch as an input, first  configure the GPIO pin to input mode and activate the internal resistor."
   ]
  },
  {
   "cell_type": "code",
   "execution_count": null,
   "metadata": {
    "ExecuteTime": {
     "end_time": "2020-10-20T17:17:13.488591Z",
     "start_time": "2020-10-20T17:17:13.469391Z"
    },
    "slideshow": {
     "slide_type": "-"
    }
   },
   "outputs": [],
   "source": [
    "# import the GPIO library\n",
    "import RPi.GPIO as GPIO\n",
    "\n",
    "# use GPIO numbering\n",
    "GPIO.setmode(GPIO.BCM)\n",
    "\n",
    "# the pin number\n",
    "switchPin = 25"
   ]
  },
  {
   "cell_type": "markdown",
   "metadata": {
    "slideshow": {
     "slide_type": "slide"
    }
   },
   "source": [
    "## Internal pull-down resistor \n",
    "   * if the ball **breaks contact**, the pin is connected to **LOW voltage** - it is pulled down.\n",
    "   * if the ball **makes contact**, the pin is connected to **HIGH voltage**\n",
    "\n",
    "One side of the switch needs to be connected to **HIGH voltage**.\n",
    "\n",
    "<img src=\"https://www.dropbox.com/s/k807ry12h6fg2do/wiring_button_pull_down.PNG?raw=1\" width=\"35%\" align=\"center\">"
   ]
  },
  {
   "cell_type": "code",
   "execution_count": null,
   "metadata": {
    "ExecuteTime": {
     "end_time": "2020-10-20T17:13:32.061970Z",
     "start_time": "2020-10-20T17:13:32.034192Z"
    },
    "slideshow": {
     "slide_type": "-"
    }
   },
   "outputs": [],
   "source": [
    "# use an internal pull-down resistor\n",
    "# connect the switch to 3.3V\n",
    "GPIO.setup(switchPin, GPIO.IN, pull_up_down=GPIO.PUD_DOWN)\n",
    "print(GPIO.input(switchPin))"
   ]
  },
  {
   "cell_type": "markdown",
   "metadata": {
    "slideshow": {
     "slide_type": "slide"
    }
   },
   "source": [
    "## Internal pull-up resistor\n",
    "   * if the ball **breaks contact**, the pin is connected to **HIGH voltage** - it is pulled up.\n",
    "   * if the ball **makes contact**, the pin is connected to **LOW voltage**.\n",
    "\n",
    "One side of the switch needs to be connected to **LOW voltage**.\n",
    "\n",
    "<img src=\"https://www.dropbox.com/s/192uurde4dlpuz3/wiring_button.PNG?raw=1\" width=\"35%\" align=\"center\">"
   ]
  },
  {
   "cell_type": "code",
   "execution_count": null,
   "metadata": {
    "ExecuteTime": {
     "end_time": "2020-10-20T17:18:37.511560Z",
     "start_time": "2020-10-20T17:18:37.488543Z"
    },
    "slideshow": {
     "slide_type": "-"
    }
   },
   "outputs": [],
   "source": [
    "# use an internal pull-up resistor\n",
    "# connect the switch to GND\n",
    "GPIO.setup(switchPin, GPIO.IN, pull_up_down=GPIO.PUD_UP)\n",
    "print(GPIO.input(switchPin))"
   ]
  },
  {
   "cell_type": "markdown",
   "metadata": {
    "slideshow": {
     "slide_type": "slide"
    }
   },
   "source": [
    "We can pick-up the switch state over a period of time."
   ]
  },
  {
   "cell_type": "code",
   "execution_count": null,
   "metadata": {
    "ExecuteTime": {
     "end_time": "2020-10-20T17:19:06.836730Z",
     "start_time": "2020-10-20T17:18:56.811264Z"
    }
   },
   "outputs": [],
   "source": [
    "import time\n",
    "\n",
    "for i in range(10):\n",
    "    \n",
    "    print(GPIO.input(switchPin)) # get switch state\n",
    "    time.sleep(1)                # wait 1s"
   ]
  },
  {
   "cell_type": "markdown",
   "metadata": {
    "slideshow": {
     "slide_type": "slide"
    }
   },
   "source": [
    "Finally, when done we can clean-up and shutdown GPIO."
   ]
  },
  {
   "cell_type": "code",
   "execution_count": null,
   "metadata": {
    "ExecuteTime": {
     "end_time": "2020-10-20T17:19:12.195340Z",
     "start_time": "2020-10-20T17:19:12.188600Z"
    },
    "slideshow": {
     "slide_type": "-"
    }
   },
   "outputs": [],
   "source": [
    "# clean-up GPIO\n",
    "GPIO.cleanup()"
   ]
  },
  {
   "cell_type": "markdown",
   "metadata": {
    "slideshow": {
     "slide_type": "skip"
    }
   },
   "source": [
    "# Troubleshooting\n",
    "\n",
    "* **I get error messages when I run my code**.\n",
    "    * There's probably/likely an issue with the code, not with the electronic components. Read the error message and try to understand what it is telling. If you're not sure, ask for help.\n",
    "    \n",
    "* **Nothing happens when I flip the tilt switch**.\n",
    "    * There's a good chance that you've done your wiring incorrectly or there's a bug in your code. Double check both of these for any errors first! Remember that the legs of the tilt switch are thin, so make sure there's a good electrical connection.\n",
    "    * If you can't find any errors, go back to basics! Recreate the circuit and run the code from this notebook to see if your tilt switch still works. If it's not working, try another switch that you know is working. If the new one works, then the old one is probably broken."
   ]
  },
  {
   "cell_type": "markdown",
   "metadata": {
    "slideshow": {
     "slide_type": "slide"
    }
   },
   "source": [
    "<img src=\"https://www.dropbox.com/s/wj23ce93pa9j8pe/demo.png?raw=1\" width=\"10%\" align=\"left\">\n",
    "\n",
    "# Exercise\n",
    "\n",
    "Setup a circuit with a tilt switch and graph the state of the switch over a period of 10s. "
   ]
  }
 ],
 "metadata": {
  "celltoolbar": "Slideshow",
  "kernelspec": {
   "display_name": "Python 3 (ipykernel)",
   "language": "python",
   "name": "python3"
  },
  "language_info": {
   "codemirror_mode": {
    "name": "ipython",
    "version": 3
   },
   "file_extension": ".py",
   "mimetype": "text/x-python",
   "name": "python",
   "nbconvert_exporter": "python",
   "pygments_lexer": "ipython3",
   "version": "3.9.2"
  },
  "varInspector": {
   "cols": {
    "lenName": 16,
    "lenType": 16,
    "lenVar": 40
   },
   "kernels_config": {
    "python": {
     "delete_cmd_postfix": "",
     "delete_cmd_prefix": "del ",
     "library": "var_list.py",
     "varRefreshCmd": "print(var_dic_list())"
    },
    "r": {
     "delete_cmd_postfix": ") ",
     "delete_cmd_prefix": "rm(",
     "library": "var_list.r",
     "varRefreshCmd": "cat(var_dic_list()) "
    }
   },
   "types_to_exclude": [
    "module",
    "function",
    "builtin_function_or_method",
    "instance",
    "_Feature"
   ],
   "window_display": false
  }
 },
 "nbformat": 4,
 "nbformat_minor": 4
}
