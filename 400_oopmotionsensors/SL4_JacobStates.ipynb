{
 "cells": [
  {
   "cell_type": "markdown",
   "metadata": {
    "slideshow": {
     "slide_type": "slide"
    }
   },
   "source": [
    "<img src=\"https://www.mines.edu/webcentral/wp-content/uploads/sites/267/2019/02/horizontallightbackground.jpg\" width=\"100%\"> \n",
    "\n",
    "### CSCI250 Python Computing: Building a Sensor System\n",
    "<hr style=\"height:5px\" width=\"100%\" align=\"left\">\n",
    "\n",
    "# LAB: Course management\n",
    "## Jacob States"
   ]
  },
  {
   "cell_type": "markdown",
   "metadata": {
    "slideshow": {
     "slide_type": "slide"
    }
   },
   "source": [
    "# Introduction\n",
    "\n",
    "The goal of this lab is practice with OOP by designing a collection of classes to manage your assignments (times and scores) for this entire course. \n",
    "\n",
    "You will use \n",
    "* inheritance and encapsulation\n",
    "* public and private variables\n",
    "* instance and class methods"
   ]
  },
  {
   "cell_type": "markdown",
   "metadata": {
    "slideshow": {
     "slide_type": "slide"
    }
   },
   "source": [
    "<img src=\"https://www.dropbox.com/s/u628vjn2uc5h3ua/notebook.png?raw=1\" width=\"10%\" align=\"right\">\n",
    "\n",
    "Read through\n",
    "* the  [OOP basics notebook](s_PyOOPBasics.ipynb)\n",
    "* the  [OOP extensions notebook](s_PyOOPExtensions.ipynb) "
   ]
  },
  {
   "cell_type": "markdown",
   "metadata": {
    "slideshow": {
     "slide_type": "slide"
    }
   },
   "source": [
    "# Instructions\n",
    "\n",
    "Implement the following:\n",
    "* base class `Status`\n",
    "    * derived class `Quiz`\n",
    "    * derived class `Lab`\n",
    "* class `Course`.\n",
    "\n",
    "Test the behavior of the classes by creating a `Course` object for CSCI250 using your own scores."
   ]
  },
  {
   "cell_type": "markdown",
   "metadata": {
    "slideshow": {
     "slide_type": "slide"
    }
   },
   "source": [
    "## class `Status`\n",
    "\n",
    "Required methods:\n",
    "* `__init__(aDate, dDate)`\n",
    "    * Sets the value of `self.aDate` to value given by `aDate`.\n",
    "    * Sets the value of `self.dDate` to value given by `dDate`.\n",
    "    * Sets the value of `self.sDate` to `None`.\n",
    "    * Sets the value of `self.score` to `None`.\n",
    "* `setScore(score)`\n",
    "    * Sets the value of `self.score` to value given by `score`.\n",
    "* `getScore()`\n",
    "    * Returns the value of `self.score`.\n",
    "* `getStats()`\n",
    "    * Prints (with a clean format) all values in `self` that are not `None`."
   ]
  },
  {
   "cell_type": "markdown",
   "metadata": {},
   "source": [
    "**Hint**: the `datetime` module provides date and time functions"
   ]
  },
  {
   "cell_type": "markdown",
   "metadata": {
    "heading_collapsed": true,
    "slideshow": {
     "slide_type": "slide"
    }
   },
   "source": [
    "## derived class `Lab` extending `Status`\n",
    "\n",
    "Required **class variable**:\n",
    "* `__lCount`\n",
    "    * Should initially be set to 0.\n",
    "\n",
    "Required **class method**:\n",
    "* `reset()`\n",
    "    * Sets value of `__lCount` to 0.\n",
    "\n",
    "Required **instance methods**:\n",
    "* `__init__(aDate, dDate, kind)`\n",
    "    * Call the `super.__init__()` function to save the values of `aDate` and `dDate`.\n",
    "    * Sets the value of `self.kind` to value given by `kind`.\n",
    "    * Sets the value of `self.parts` (representing the electronic parts used) to `None`.\n",
    "    * Increments the value of `__lCount` by 1.\n",
    "    * Sets the value of `self.lCount` to value given by `__lCount` after incrementing.\n",
    "* `setParts(parts)`\n",
    "    * Sets the value of `self.parts` to value given by `parts`.\n",
    "* `getParts()`\n",
    "    * Returns the value of `self.parts`.\n",
    "* `report()`\n",
    "    * Calls  the inherited  `getStats()` method.\n",
    "    * Prints all remaining values in `self` that are not `None`."
   ]
  },
  {
   "cell_type": "markdown",
   "metadata": {
    "slideshow": {
     "slide_type": "slide"
    }
   },
   "source": [
    "## derived class `Quiz` extending `Status`\n",
    "\n",
    "Required **class variable**:\n",
    "* `__qCount`\n",
    "    * Should initially be set to 0.\n",
    "\n",
    "Required **class method**:\n",
    "* `reset()`\n",
    "    * Sets value of `__qCount` to 0.\n",
    "\n",
    "Required **instance methods**:\n",
    "* `__init__(aDate, dDate)`\n",
    "    * Call the `super.__init__()` function to save the values of `aDate` and `dDate`.\n",
    "    * Increments the value of `__qCount` by 1.\n",
    "    * Sets the value of `self.qCount` to value given by `__qCount` after incrementing.\n",
    "* `report()`\n",
    "    * Calls  the inherited `getStats()` method.\n",
    "    * Prints all remaining values in `self` that are not `None`."
   ]
  },
  {
   "cell_type": "markdown",
   "metadata": {
    "slideshow": {
     "slide_type": "slide"
    }
   },
   "source": [
    "## class `Course`\n",
    "\n",
    "Required **class variables**:\n",
    "* `__qWeight`\n",
    "    * Should be set to 0.1.\n",
    "* `__lWeight`\n",
    "    * Should be set to 0.7.\n",
    "* `__pWeight`\n",
    "    * Should be set to 0.2.\n",
    "\n",
    "Required **instance methods**:\n",
    "* `__init__(name, course, dept)`\n",
    "    * Sets the value of `self.name` to value given by `name`.\n",
    "    * Sets the value of `self.course` to value given by `course`.\n",
    "    * Sets the value of `self.dept` to value given by `dept`.\n",
    "        * Should be given a default value of `None` if not specified.\n",
    "    * Sets `self.quiz` as an empty list.\n",
    "    * Sets `self.slab` as an empty list.\n",
    "    * Sets `self.hlab` as an empty list.\n",
    "    * Sets `self.proj` as an empty list.\n",
    "    * reset counts for the `Quiz` and `Lab` classes. \n",
    "* `addQuiz(aDate, dDate, sDate, score)`\n",
    "    * Creates new `Quiz` object with all the necessary parameters.\n",
    "        * `score` should be given a default value of `0` if not specified.\n",
    "    * Appends the new `Quiz` object to `self.quiz`.\n",
    "* `addSlab(aDate, dDate, sDate, score)`\n",
    "    * Creates new `Lab` object with all the necessary parameters.\n",
    "        * `score` should be given a default value of `0` if not specified.\n",
    "        * The `kind` should be set to `'s'`.\n",
    "    * Appends the new `Lab` object to `self.slab`.\n",
    "* `addHlab(aDate, dDate, sDate, score, parts)`\n",
    "    * Creates new `Lab` object with all the necessary parameters.\n",
    "        * `score` should be given a default value of `0` if not specified.\n",
    "        * `parts` should be given a default value of `None` if not specified.\n",
    "        * The `kind` should be set to `'h'`.\n",
    "    * Appends the new `Lab` object to `self.hlab`.\n",
    "* `addProj(aDate, dDate, sDate, score, parts)`\n",
    "    * Creates new `Lab` object with all the necessary parameters.\n",
    "        * `score` should be given a default value of `0` if not specified.\n",
    "        * `parts` should be given a default value of `None` if not specified.\n",
    "        * The `kind` should be set to `'p'`.\n",
    "    * Appends the new `Lab` object to `self.proj`.\n",
    "* `courseReport()`\n",
    "    * Prints the student name, the course name, and the department name.\n",
    "    * Prints the current date.\n",
    "    * For every quiz, software lab, hardware lab, and project, calls their corresponding `report()` functions.\n",
    "* `allScores()`\n",
    "    * For every quiz, software lab, hardware lab, and project, calls their corresponding `getScore()` functions and prints the returned values.\n",
    "* `totalScore()`\n",
    "    * Calculates and prints the final weighted score for all assignments (see below).\n",
    "    * Prints the final grade letter (see below)."
   ]
  },
  {
   "cell_type": "markdown",
   "metadata": {
    "slideshow": {
     "slide_type": "slide"
    }
   },
   "source": [
    "## Scoring\n",
    "Compute the total score as\n",
    "\n",
    "$ T = w_q Q + w_l L + w_p P $\n",
    "\n",
    "where $Q$, $L$ and $P$ are the average quiz, labs and project scores,\n",
    "\n",
    "and the weights are $w_q=0.1$, $w_l=0.7$ and $w_p=0.2$."
   ]
  },
  {
   "cell_type": "markdown",
   "metadata": {
    "slideshow": {
     "slide_type": "-"
    }
   },
   "source": [
    "The grades are based on the total score:\n",
    "\n",
    "A: $T\\in[90,100]$\n",
    "\n",
    "B: $T\\in[80,90)$\n",
    "\n",
    "C: $T\\in[70,80)$\n",
    "\n",
    "D: $T\\in[60,70)$\n",
    "\n",
    "F: $T<60$\n",
    "  "
   ]
  },
  {
   "cell_type": "code",
   "execution_count": 1,
   "metadata": {},
   "outputs": [],
   "source": [
    "import datetime\n",
    "from datetime import date\n",
    "\n",
    "# Class Status\n",
    "class Status:\n",
    "    '''class Status describes the status of an object'''\n",
    "    \n",
    "    def __init__(self, aDate, dDate, sDate = None, score = None):\n",
    "        self.aDate = aDate\n",
    "        self.dDate = dDate\n",
    "        self.sDate = sDate\n",
    "        if self.sDate != None:\n",
    "            self.sDate = sDate\n",
    "        else:\n",
    "            self.sDate = None\n",
    "        self.score = score\n",
    "        if self.score != None:\n",
    "            self.score = score\n",
    "        else:\n",
    "            self.score = None\n",
    "    \n",
    "    def setScore(self, score):\n",
    "        if self.sDate != None:\n",
    "            pass\n",
    "        else:\n",
    "            self.sDate = date.today()\n",
    "        self.score = score\n",
    "        \n",
    "    def getScore(self):\n",
    "        print(self.score)\n",
    "        \n",
    "    def getStats(self):\n",
    "        print('Assigned: ', self.aDate)\n",
    "        print('Due:      ', self.dDate)\n",
    "        if self.sDate != None:\n",
    "            print('Graded on:', self.sDate)\n",
    "        else:\n",
    "            print('Assignment is ungraded')\n",
    "        if self.score != None:\n",
    "            print('Score:    ', self.score)\n",
    "        else:\n",
    "            pass"
   ]
  },
  {
   "cell_type": "code",
   "execution_count": 2,
   "metadata": {},
   "outputs": [
    {
     "name": "stdout",
     "output_type": "stream",
     "text": [
      "Assigned:  2022-10-30\n",
      "Due:       2022-11-02\n",
      "Assignment is ungraded\n",
      "Score:     87\n",
      "Assigned:  2022-10-30\n",
      "Due:       2022-11-02\n",
      "Graded on: 2022-10-31\n",
      "Score:     90\n"
     ]
    }
   ],
   "source": [
    "# Testing Status class\n",
    "s = Status(aDate = datetime.date(2022, 10, 30), dDate = datetime.date(2022, 11, 2), score = 87)\n",
    "\n",
    "s.getStats()\n",
    "s.setScore(90)\n",
    "s.getStats()"
   ]
  },
  {
   "cell_type": "code",
   "execution_count": 3,
   "metadata": {},
   "outputs": [],
   "source": [
    "# Class Lab\n",
    "class Lab(Status):\n",
    "    \n",
    "    __lCount = 0\n",
    "    \n",
    "    def __init__(self, aDate, dDate, kind):\n",
    "        super().__init__(aDate, dDate)\n",
    "        self.kind = kind\n",
    "        self.parts = None\n",
    "        Lab.__lCount += 1\n",
    "        self.__lCount = Lab.__lCount\n",
    "        \n",
    "    def setParts(self, parts):\n",
    "        self.parts = parts\n",
    "        \n",
    "    def getParts(self):\n",
    "        print('Parts needed:', self.parts)\n",
    "        \n",
    "    def report(self):\n",
    "        print('Lab Type: ', self.kind)\n",
    "        if self.parts == None:\n",
    "            pass\n",
    "        else:\n",
    "            print('Parts:    ', self.parts)\n",
    "        self.getStats()\n",
    "        \n",
    "    @classmethod\n",
    "    def reset(cls):\n",
    "        Lab.__lCount = 0"
   ]
  },
  {
   "cell_type": "code",
   "execution_count": 4,
   "metadata": {},
   "outputs": [
    {
     "name": "stdout",
     "output_type": "stream",
     "text": [
      "<class '__main__.Lab'>\n",
      "Lab Type:  s\n",
      "Assigned:  2022-10-31\n",
      "Due:       2022-11-02\n",
      "Assignment is ungraded\n",
      "Lab Type:  s\n",
      "Assigned:  2022-10-31\n",
      "Due:       2022-11-02\n",
      "Graded on: 2022-10-31\n",
      "Score:     80\n",
      "Parts needed: potentiometer\n",
      "Lab Type:  s\n",
      "Parts:     potentiometer\n",
      "Assigned:  2022-10-31\n",
      "Due:       2022-11-02\n",
      "Graded on: 2022-10-31\n",
      "Score:     80\n"
     ]
    }
   ],
   "source": [
    "# Testing l class\n",
    "l = Lab(aDate = datetime.date(2022, 10, 31), dDate = datetime.date(2022, 11, 2), kind = 's')\n",
    "\n",
    "print(type(l))\n",
    "l.report()\n",
    "l.setScore(80)\n",
    "l.report()\n",
    "l.setParts('potentiometer')\n",
    "l.getParts()\n",
    "l.report()"
   ]
  },
  {
   "cell_type": "code",
   "execution_count": 5,
   "metadata": {},
   "outputs": [],
   "source": [
    "class Quiz(Status):\n",
    "    '''class Quiz describes quiz assignments'''\n",
    "    \n",
    "    __qCount = 0\n",
    "    \n",
    "    def __init__(self, aDate, dDate, sDate = None):\n",
    "        super().__init__(aDate, dDate, sDate)\n",
    "        Quiz.__qCount += 1\n",
    "        self.__qCount = Quiz.__qCount\n",
    "        \n",
    "    def report(self):\n",
    "        self.getStats()\n",
    "        \n",
    "    @classmethod\n",
    "    def reset(cls):\n",
    "        Quiz.__qCount = 0\n",
    "    \n",
    "    @classmethod\n",
    "    def qCount(cls):\n",
    "        print(cls.__qCount)"
   ]
  },
  {
   "cell_type": "code",
   "execution_count": 10,
   "metadata": {},
   "outputs": [],
   "source": [
    "# Testing class q\n",
    "q.reset()\n",
    "del(q)"
   ]
  },
  {
   "cell_type": "code",
   "execution_count": 11,
   "metadata": {},
   "outputs": [
    {
     "name": "stdout",
     "output_type": "stream",
     "text": [
      "Assigned:  2022-10-31\n",
      "Due:       2022-11-04\n",
      "Assignment is ungraded\n",
      "Assigned:  2022-10-31\n",
      "Due:       2022-11-04\n",
      "Graded on: 2022-10-31\n",
      "Score:     99\n",
      "1\n"
     ]
    }
   ],
   "source": [
    "q = Quiz(datetime.date(2022, 10, 31), datetime.date(2022, 11, 4))\n",
    "\n",
    "q.report()\n",
    "q.setScore(99)\n",
    "q.report()\n",
    "q.qCount()"
   ]
  },
  {
   "cell_type": "code",
   "execution_count": 12,
   "metadata": {},
   "outputs": [
    {
     "name": "stdout",
     "output_type": "stream",
     "text": [
      "1\n",
      "0\n"
     ]
    }
   ],
   "source": [
    "# Testing reset function\n",
    "Quiz.qCount()\n",
    "Quiz.reset()\n",
    "Quiz.qCount()"
   ]
  },
  {
   "cell_type": "code",
   "execution_count": 13,
   "metadata": {},
   "outputs": [],
   "source": [
    "import math\n",
    "\n",
    "class Course():\n",
    "    \n",
    "    __qWeight = 0.1\n",
    "    __lWeight = 0.7\n",
    "    __pWeight = 0.2\n",
    "    \n",
    "    def __init__(self, name, course, dept = None):\n",
    "        self.name = name\n",
    "        self.course = course\n",
    "        self.dept = dept\n",
    "        if self.dept != None:\n",
    "            self.dept = dept\n",
    "        else:\n",
    "            self.dept = None\n",
    "        self.quiz = list()\n",
    "        self.slab = list()\n",
    "        self.hlab = list()\n",
    "        self.proj = list()\n",
    "        Lab.reset()\n",
    "        Quiz.reset()\n",
    "    \n",
    "    def addQuiz(self, aDate, dDate, sDate = None, score = 0):\n",
    "        q = Quiz(aDate, dDate)\n",
    "        self.score = score\n",
    "        if self.score != 0:\n",
    "            self.score = score\n",
    "        else:\n",
    "            self.score = 0\n",
    "        self.quiz.append(q)\n",
    "    \n",
    "    def addSlab(self, aDate, dDate, sDate = None, score = 0, parts = None):\n",
    "        slab = Lab(aDate, dDate, kind = 's')\n",
    "        self.score = score\n",
    "        if self.score != 0:\n",
    "            self.score = score\n",
    "        else:\n",
    "            self.score = 0\n",
    "        self.parts = parts\n",
    "        if self.parts != None:\n",
    "            self.parts = parts\n",
    "        else:\n",
    "            self.parts = None\n",
    "        self.slab.append(slab)\n",
    "\n",
    "    def addHlab(self, aDate, dDate, sDate = None, score = 0, parts = None):\n",
    "        hlab = Lab(aDate, dDate, kind = 'h')\n",
    "        self.score = score\n",
    "        if self.score != 0:\n",
    "            self.score = score\n",
    "        else:\n",
    "            self.score = 0\n",
    "        self.parts = parts\n",
    "        if self.parts != None:\n",
    "            self.parts = parts\n",
    "        else:\n",
    "            self.parts = None\n",
    "        self.hlab.append(hlab)\n",
    "\n",
    "    def addProj(self, aDate, dDate, sDate = None, score = 0, parts = None):\n",
    "        proj = Lab(aDate, dDate, kind = 'p')\n",
    "        self.score = score\n",
    "        if self.score != 0:\n",
    "            self.score = score\n",
    "        else:\n",
    "            self.score = 0\n",
    "        self.parts = parts\n",
    "        if self.parts != None:\n",
    "            self.parts = parts\n",
    "        else:\n",
    "            self.parts = None\n",
    "        self.proj.append(proj)\n",
    "        \n",
    "    def courseReport(self):\n",
    "        print('Jacob States')\n",
    "        print(date.today())\n",
    "        print(self.quiz, self.slab, self.hlab, self.proj)\n",
    "        for i in range(len(self.quiz)):\n",
    "            self.quiz[i].report()\n",
    "        for i in range(len(self.slab)):\n",
    "            self.slab[i].report()\n",
    "        for i in range(len(self.hlab)):\n",
    "            self.hlab[i].report()\n",
    "        for i in range(len(self.proj)):\n",
    "            self.proj[i].report()\n",
    "    \n",
    "    def totalScore(self):\n",
    "        for i in range(len(self.quiz)):\n",
    "            qsum = sum(self.quiz[i].getScore())\n",
    "        qscore = (self.__qWeight)*(qSum)"
   ]
  },
  {
   "cell_type": "code",
   "execution_count": 14,
   "metadata": {},
   "outputs": [
    {
     "name": "stdout",
     "output_type": "stream",
     "text": [
      "0\n",
      "0\n"
     ]
    }
   ],
   "source": [
    "# Testing reset function on initialization\n",
    "Quiz.qCount()\n",
    "csci250 = Course(name = 'Sensor Systems', course = 'csci250', dept = 'Computer Science')\n",
    "Quiz.qCount()"
   ]
  },
  {
   "cell_type": "code",
   "execution_count": 15,
   "metadata": {},
   "outputs": [
    {
     "name": "stdout",
     "output_type": "stream",
     "text": [
      "Sensor Systems csci250 Computer Science\n"
     ]
    }
   ],
   "source": [
    "# Testing object variables\n",
    "print(csci250.name, csci250.course, csci250.dept)"
   ]
  },
  {
   "cell_type": "code",
   "execution_count": 16,
   "metadata": {},
   "outputs": [
    {
     "name": "stdout",
     "output_type": "stream",
     "text": [
      "0\n",
      "1\n"
     ]
    }
   ],
   "source": [
    "# Testing qCount incrementation\n",
    "Quiz.qCount()\n",
    "csci250.addQuiz(datetime.date(2022, 10, 31), datetime.date(2022, 11, 4))\n",
    "Quiz.qCount()"
   ]
  },
  {
   "cell_type": "code",
   "execution_count": 17,
   "metadata": {},
   "outputs": [
    {
     "name": "stdout",
     "output_type": "stream",
     "text": [
      "<__main__.Quiz object at 0xae0b7358>\n",
      "Assigned:  2022-10-31\n",
      "Due:       2022-11-04\n",
      "Assignment is ungraded\n",
      "Assigned:  2022-10-31\n",
      "Due:       2022-11-04\n",
      "Graded on: 2022-10-31\n",
      "Score:     100\n",
      "1\n"
     ]
    }
   ],
   "source": [
    "# Testing inheritance\n",
    "q8 = csci250.quiz[0]\n",
    "print(q8)\n",
    "q8.report()\n",
    "q8.setScore(100)\n",
    "q8.report()\n",
    "q8.qCount()"
   ]
  },
  {
   "cell_type": "code",
   "execution_count": 18,
   "metadata": {},
   "outputs": [],
   "source": [
    "# Creating and testing slab, hlab, proj\n",
    "csci250.addSlab(datetime.date(2022, 10, 29), datetime.date(2022, 10, 31))\n",
    "csci250.addHlab(datetime.date(2022, 11, 10), datetime.date(2022, 11, 14))\n",
    "csci250.addProj(datetime.date(2022, 9, 20), datetime.date(2022, 12, 1))"
   ]
  },
  {
   "cell_type": "code",
   "execution_count": 19,
   "metadata": {},
   "outputs": [
    {
     "name": "stdout",
     "output_type": "stream",
     "text": [
      "Lab Type:  s\n",
      "Assigned:  2022-10-29\n",
      "Due:       2022-10-31\n",
      "Assignment is ungraded\n",
      "Lab Type:  s\n",
      "Parts:     sensor\n",
      "Assigned:  2022-10-29\n",
      "Due:       2022-10-31\n",
      "Assignment is ungraded\n"
     ]
    }
   ],
   "source": [
    "sl4 = csci250.slab[0]\n",
    "sl4.report()\n",
    "sl4.setParts('sensor')\n",
    "sl4.report()"
   ]
  },
  {
   "cell_type": "code",
   "execution_count": 20,
   "metadata": {},
   "outputs": [
    {
     "name": "stdout",
     "output_type": "stream",
     "text": [
      "Jacob States\n",
      "2022-10-31\n",
      "[<__main__.Quiz object at 0xae0b7358>] [<__main__.Lab object at 0xb371ef40>] [<__main__.Lab object at 0xae0b7a60>] [<__main__.Lab object at 0xae0b7cb8>]\n",
      "Assigned:  2022-10-31\n",
      "Due:       2022-11-04\n",
      "Graded on: 2022-10-31\n",
      "Score:     100\n",
      "Lab Type:  s\n",
      "Parts:     sensor\n",
      "Assigned:  2022-10-29\n",
      "Due:       2022-10-31\n",
      "Assignment is ungraded\n",
      "Lab Type:  h\n",
      "Assigned:  2022-11-10\n",
      "Due:       2022-11-14\n",
      "Assignment is ungraded\n",
      "Lab Type:  p\n",
      "Assigned:  2022-09-20\n",
      "Due:       2022-12-01\n",
      "Assignment is ungraded\n"
     ]
    }
   ],
   "source": [
    "csci250.courseReport()"
   ]
  },
  {
   "cell_type": "code",
   "execution_count": 21,
   "metadata": {},
   "outputs": [
    {
     "name": "stdout",
     "output_type": "stream",
     "text": [
      "100\n"
     ]
    },
    {
     "ename": "TypeError",
     "evalue": "'NoneType' object is not iterable",
     "output_type": "error",
     "traceback": [
      "\u001b[0;31m---------------------------------------------------------------------------\u001b[0m",
      "\u001b[0;31mTypeError\u001b[0m                                 Traceback (most recent call last)",
      "Input \u001b[0;32mIn [21]\u001b[0m, in \u001b[0;36m<cell line: 2>\u001b[0;34m()\u001b[0m\n\u001b[1;32m      1\u001b[0m \u001b[38;5;66;03m# Did not get totalscore to work\u001b[39;00m\n\u001b[0;32m----> 2\u001b[0m \u001b[43mcsci250\u001b[49m\u001b[38;5;241;43m.\u001b[39;49m\u001b[43mtotalScore\u001b[49m\u001b[43m(\u001b[49m\u001b[43m)\u001b[49m\n",
      "Input \u001b[0;32mIn [13]\u001b[0m, in \u001b[0;36mCourse.totalScore\u001b[0;34m(self)\u001b[0m\n\u001b[1;32m     88\u001b[0m \u001b[38;5;28;01mdef\u001b[39;00m \u001b[38;5;21mtotalScore\u001b[39m(\u001b[38;5;28mself\u001b[39m):\n\u001b[1;32m     89\u001b[0m     \u001b[38;5;28;01mfor\u001b[39;00m i \u001b[38;5;129;01min\u001b[39;00m \u001b[38;5;28mrange\u001b[39m(\u001b[38;5;28mlen\u001b[39m(\u001b[38;5;28mself\u001b[39m\u001b[38;5;241m.\u001b[39mquiz)):\n\u001b[0;32m---> 90\u001b[0m         qsum \u001b[38;5;241m=\u001b[39m \u001b[38;5;28;43msum\u001b[39;49m\u001b[43m(\u001b[49m\u001b[38;5;28;43mself\u001b[39;49m\u001b[38;5;241;43m.\u001b[39;49m\u001b[43mquiz\u001b[49m\u001b[43m[\u001b[49m\u001b[43mi\u001b[49m\u001b[43m]\u001b[49m\u001b[38;5;241;43m.\u001b[39;49m\u001b[43mgetScore\u001b[49m\u001b[43m(\u001b[49m\u001b[43m)\u001b[49m\u001b[43m)\u001b[49m\n\u001b[1;32m     91\u001b[0m     qscore \u001b[38;5;241m=\u001b[39m (\u001b[38;5;28mself\u001b[39m\u001b[38;5;241m.\u001b[39m__qWeight)\u001b[38;5;241m*\u001b[39m(qSum)\n",
      "\u001b[0;31mTypeError\u001b[0m: 'NoneType' object is not iterable"
     ]
    }
   ],
   "source": [
    "# Did not get totalscore to work\n",
    "csci250.totalScore()"
   ]
  },
  {
   "cell_type": "markdown",
   "metadata": {
    "slideshow": {
     "slide_type": "skip"
    }
   },
   "source": [
    "# Post lab\n",
    "\n",
    "<img src=\"http://www.dropbox.com/s/fcucolyuzdjl80k/todo.jpg?raw=1\" width=\"10%\" align=\"right\">\n",
    "\n",
    "Before you submit the lab, make sure everything works as you expect by restarting the kernel: select **Kernel > Restart & Run All**.\n",
    "\n",
    "Answer the following questions.\n",
    "\n",
    "1. What elements of this lab did you find easy/challenging?\n",
    "    * I though this lab was a good difficulty, requires consistent testing and organization though.\n",
    "2. What did you like/dislike about this lab?\n",
    "    * I would have saved a lot of time if I had known how to display the qCount and lCount. I didn't realize I would need a class method to print the qCount in order to check.\n",
    "3. If you did anything worthy of extra credit, tell us about it here!\n",
    "    * I made it so if you dont enter a score date the assignment prints that it hasn't been graded. Later on if you add a score, the score date is automatically updated to today."
   ]
  },
  {
   "cell_type": "markdown",
   "metadata": {
    "slideshow": {
     "slide_type": "skip"
    }
   },
   "source": [
    "# Submit\n",
    "* Make sure to update your name and department in the top markdown cell.\n",
    "\n",
    "* Rename the Jupyter notebook with the following convention:\n",
    "**SL?-FirstLast.ipynb** (replace ? with the lab number)\n",
    "\n",
    "* Turn in your Jupyter notebook on Canvas. Email submissions don't count."
   ]
  },
  {
   "cell_type": "markdown",
   "metadata": {
    "slideshow": {
     "slide_type": "slide"
    }
   },
   "source": [
    "# Honor code\n",
    "Unless explicitly specified, labs are **individual exercises**. Your submission is subject to the [**Mines Honor Code**](http://inside.mines.edu/~epoeter/_GW/CSMHonorCodeUndergradHandbook.pdf)."
   ]
  }
 ],
 "metadata": {
  "celltoolbar": "Slideshow",
  "hide_input": false,
  "kernelspec": {
   "display_name": "Python 3 (ipykernel)",
   "language": "python",
   "name": "python3"
  },
  "language_info": {
   "codemirror_mode": {
    "name": "ipython",
    "version": 3
   },
   "file_extension": ".py",
   "mimetype": "text/x-python",
   "name": "python",
   "nbconvert_exporter": "python",
   "pygments_lexer": "ipython3",
   "version": "3.9.2"
  },
  "varInspector": {
   "cols": {
    "lenName": 16,
    "lenType": 16,
    "lenVar": 40
   },
   "kernels_config": {
    "python": {
     "delete_cmd_postfix": "",
     "delete_cmd_prefix": "del ",
     "library": "var_list.py",
     "varRefreshCmd": "print(var_dic_list())"
    },
    "r": {
     "delete_cmd_postfix": ") ",
     "delete_cmd_prefix": "rm(",
     "library": "var_list.r",
     "varRefreshCmd": "cat(var_dic_list()) "
    }
   },
   "types_to_exclude": [
    "module",
    "function",
    "builtin_function_or_method",
    "instance",
    "_Feature"
   ],
   "window_display": false
  }
 },
 "nbformat": 4,
 "nbformat_minor": 4
}
