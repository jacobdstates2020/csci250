{
 "cells": [
  {
   "cell_type": "markdown",
   "metadata": {
    "slideshow": {
     "slide_type": "slide"
    }
   },
   "source": [
    "<img src=\"https://www.mines.edu/webcentral/wp-content/uploads/sites/267/2019/02/horizontallightbackground.jpg\" width=\"100%\"> \n",
    "### CSCI250 Python Computing: Building a Sensor System\n",
    "<hr style=\"height:5px\" width=\"100%\" align=\"left\">\n",
    "\n",
    "# Concurrent code execution"
   ]
  },
  {
   "cell_type": "markdown",
   "metadata": {
    "slideshow": {
     "slide_type": "slide"
    }
   },
   "source": [
    "# Objective\n",
    "* introduce concurrent code execution\n",
    "* use Python threads\n",
    "* use Python queues"
   ]
  },
  {
   "cell_type": "markdown",
   "metadata": {
    "slideshow": {
     "slide_type": "slide"
    }
   },
   "source": [
    "# Resources\n",
    "* [Python threading](https://docs.python.org/3/library/threading.html)\n",
    "* [Python queuing](https://docs.python.org/3/library/queue.html)"
   ]
  },
  {
   "cell_type": "markdown",
   "metadata": {
    "slideshow": {
     "slide_type": "slide"
    }
   },
   "source": [
    "# Definition\n",
    "\n",
    "**Concurrency** means that \n",
    "* multiple tasks are executed within the same time frame\n",
    "* the tasks are unrelated and may be dependent on one-another"
   ]
  },
  {
   "cell_type": "code",
   "execution_count": null,
   "metadata": {
    "slideshow": {
     "slide_type": "slide"
    }
   },
   "outputs": [],
   "source": [
    "import numpy as np\n",
    "import matplotlib.pyplot as plt\n",
    "import time, threading, queue"
   ]
  },
  {
   "cell_type": "markdown",
   "metadata": {
    "slideshow": {
     "slide_type": "slide"
    }
   },
   "source": [
    "# `threading` module\n",
    "\n",
    "Implements a system that enables execution in concurrent threads.\n",
    "\n",
    "**Threads** use code sequences executed independently.\n",
    "\n",
    "`threading` functions provide access to thread information."
   ]
  },
  {
   "cell_type": "markdown",
   "metadata": {
    "slideshow": {
     "slide_type": "slide"
    }
   },
   "source": [
    "## `threading.active_count()`\n",
    "Returns the number of `Thread` objects currently alive."
   ]
  },
  {
   "cell_type": "code",
   "execution_count": null,
   "metadata": {
    "scrolled": true
   },
   "outputs": [],
   "source": [
    "threading.active_count()"
   ]
  },
  {
   "cell_type": "markdown",
   "metadata": {
    "slideshow": {
     "slide_type": "slide"
    }
   },
   "source": [
    "## `threading.main_thread()`\n",
    "Returns the main `Thread` object (from which Python was started)."
   ]
  },
  {
   "cell_type": "code",
   "execution_count": null,
   "metadata": {
    "slideshow": {
     "slide_type": "-"
    }
   },
   "outputs": [],
   "source": [
    "threading.main_thread()"
   ]
  },
  {
   "cell_type": "markdown",
   "metadata": {
    "slideshow": {
     "slide_type": "slide"
    }
   },
   "source": [
    "## `threading.current_thread()`\n",
    "Return the current `Thread` controlled by the user."
   ]
  },
  {
   "cell_type": "code",
   "execution_count": null,
   "metadata": {
    "scrolled": true,
    "slideshow": {
     "slide_type": "-"
    }
   },
   "outputs": [],
   "source": [
    "threading.current_thread()"
   ]
  },
  {
   "cell_type": "markdown",
   "metadata": {
    "slideshow": {
     "slide_type": "slide"
    }
   },
   "source": [
    "## `threading.get_ident()`\n",
    "Return a non-zero integer that uniquely identifies the current thread."
   ]
  },
  {
   "cell_type": "code",
   "execution_count": null,
   "metadata": {
    "slideshow": {
     "slide_type": "-"
    }
   },
   "outputs": [],
   "source": [
    "threading.get_ident()"
   ]
  },
  {
   "cell_type": "markdown",
   "metadata": {
    "slideshow": {
     "slide_type": "slide"
    }
   },
   "source": [
    "## `threading.enumerate()`\n",
    "Returns a list of all `Thread` objects currently alive."
   ]
  },
  {
   "cell_type": "code",
   "execution_count": null,
   "metadata": {
    "scrolled": true,
    "slideshow": {
     "slide_type": "-"
    }
   },
   "outputs": [],
   "source": [
    "threading.enumerate()"
   ]
  },
  {
   "cell_type": "markdown",
   "metadata": {
    "slideshow": {
     "slide_type": "slide"
    }
   },
   "source": [
    "# `threading` demo\n",
    "We will use a function that simply waits for a specified time."
   ]
  },
  {
   "cell_type": "code",
   "execution_count": null,
   "metadata": {},
   "outputs": [],
   "source": [
    "def myFunc(i,t):              # receives a task ID and the wait time\n",
    "    time.sleep(t)             # wait the specified time\n",
    "    print(\"%3d %6.2f\"%(i,t))  # display the ID and the wait time"
   ]
  },
  {
   "cell_type": "code",
   "execution_count": null,
   "metadata": {
    "scrolled": true
   },
   "outputs": [],
   "source": [
    "i = 0    # task ID\n",
    "t = 2.0  # delay time\n",
    "myFunc(i, t)"
   ]
  },
  {
   "cell_type": "markdown",
   "metadata": {
    "slideshow": {
     "slide_type": "slide"
    }
   },
   "source": [
    "## `threading.Thread()`\n",
    "A class that defines threads and thread operations.\n",
    "\n",
    "`threading.Thread(target, name, args)`\n",
    "\n",
    "* `target`: a function\n",
    "* `name`: the thread name\n",
    "* `args`: an argument tuple for the function invocation\n",
    "\n",
    "We will work primarily with `target` and `args`."
   ]
  },
  {
   "cell_type": "code",
   "execution_count": null,
   "metadata": {
    "slideshow": {
     "slide_type": "slide"
    }
   },
   "outputs": [],
   "source": [
    "threading.Thread?"
   ]
  },
  {
   "cell_type": "code",
   "execution_count": null,
   "metadata": {},
   "outputs": [],
   "source": [
    "# define a thread\n",
    "t = threading.Thread( target = myFunc, args = (0,1) )\n",
    "print(t)"
   ]
  },
  {
   "cell_type": "markdown",
   "metadata": {
    "slideshow": {
     "slide_type": "slide"
    }
   },
   "source": [
    "## `Thread.start()`\n",
    "Starts the activity of a thread object.\n",
    "\n",
    "A thread is considered **alive** once its activity starts. "
   ]
  },
  {
   "cell_type": "code",
   "execution_count": null,
   "metadata": {
    "scrolled": true
   },
   "outputs": [],
   "source": [
    "# define a thread (waits for 1s)\n",
    "t = threading.Thread( target = myFunc, args = (0,1) )\n",
    "\n",
    "print('# of threads before thread start = ',threading.active_count())\n",
    "t.start()\n",
    "print('# of threads  after thread start = ',threading.active_count())\n",
    "time.sleep(2)\n",
    "print('# of threads  after thread end   = ',threading.active_count())"
   ]
  },
  {
   "cell_type": "markdown",
   "metadata": {
    "slideshow": {
     "slide_type": "slide"
    }
   },
   "source": [
    "## `Thread.is_alive()`\n",
    "Returns a boolean indicating whether a thread is alive."
   ]
  },
  {
   "cell_type": "code",
   "execution_count": null,
   "metadata": {},
   "outputs": [],
   "source": [
    "# define a thread (waits for 2s)\n",
    "t = threading.Thread( target = myFunc, args = (0,2) )\n",
    "\n",
    "# start the thread\n",
    "t.start()\n",
    "\n",
    "# check thread status \n",
    "for i in range(5):\n",
    "    print( i, t.is_alive() )\n",
    "    time.sleep(1)       # check every 1s"
   ]
  },
  {
   "cell_type": "markdown",
   "metadata": {
    "slideshow": {
     "slide_type": "slide"
    }
   },
   "source": [
    "We can define multiple threads, then initiate them at once."
   ]
  },
  {
   "cell_type": "code",
   "execution_count": null,
   "metadata": {
    "slideshow": {
     "slide_type": "-"
    }
   },
   "outputs": [],
   "source": [
    "ta = threading.Thread( target = myFunc, args = (0,2.0) )\n",
    "tb = threading.Thread( target = myFunc, args = (1,3.0) )\n",
    "tc = threading.Thread( target = myFunc, args = (2,5.0) )"
   ]
  },
  {
   "cell_type": "code",
   "execution_count": null,
   "metadata": {
    "scrolled": true,
    "slideshow": {
     "slide_type": "-"
    }
   },
   "outputs": [],
   "source": [
    "print('alive threads',threading.active_count())\n",
    "\n",
    "# start all threads in close succession\n",
    "ta.start() #  short time\n",
    "tb.start() # medium time\n",
    "tc.start() #   long time\n",
    "\n",
    "print('alive threads',threading.active_count())"
   ]
  },
  {
   "cell_type": "markdown",
   "metadata": {
    "slideshow": {
     "slide_type": "slide"
    }
   },
   "source": [
    "We can check thread status over time."
   ]
  },
  {
   "cell_type": "code",
   "execution_count": null,
   "metadata": {},
   "outputs": [],
   "source": [
    "ta = threading.Thread( target = myFunc, args = (0,2.0) )\n",
    "tb = threading.Thread( target = myFunc, args = (1,3.0) )\n",
    "tc = threading.Thread( target = myFunc, args = (2,5.0) )"
   ]
  },
  {
   "cell_type": "code",
   "execution_count": null,
   "metadata": {
    "scrolled": true,
    "slideshow": {
     "slide_type": "-"
    }
   },
   "outputs": [],
   "source": [
    "# start all threads in close succession\n",
    "ta.start() #  short time\n",
    "tb.start() # medium time\n",
    "tc.start() #   long time\n",
    "\n",
    "for i in range(10):     # loop 10 times\n",
    "    print( i, ta.is_alive(),tb.is_alive(),tc.is_alive())\n",
    "    time.sleep(1)       # check every 1s"
   ]
  },
  {
   "cell_type": "markdown",
   "metadata": {
    "slideshow": {
     "slide_type": "slide"
    }
   },
   "source": [
    "# `queue` module\n",
    "Implements a multi-producer, multi-consumer system.\n",
    "* **producers**: add elements to a queue\n",
    "* **consumers**: remove elements from a queue\n",
    "\n",
    "Used to pass data between code executed in separate threads."
   ]
  },
  {
   "cell_type": "markdown",
   "metadata": {
    "heading_collapsed": true,
    "slideshow": {
     "slide_type": "slide"
    }
   },
   "source": [
    "## `Queue` class\n",
    "A class that defines a FIFO queue and associated operations."
   ]
  },
  {
   "cell_type": "markdown",
   "metadata": {
    "slideshow": {
     "slide_type": "slide"
    }
   },
   "source": [
    "## `Queue.put()`\n",
    "Put an item into the queue."
   ]
  },
  {
   "cell_type": "markdown",
   "metadata": {
    "slideshow": {
     "slide_type": "slide"
    }
   },
   "source": [
    "## `Queue.get()`\n",
    "Remove and return an item from the queue."
   ]
  },
  {
   "cell_type": "markdown",
   "metadata": {
    "slideshow": {
     "slide_type": "slide"
    }
   },
   "source": [
    "## `Queue.task_done()`\n",
    "Indicate that a formerly enqueued task is complete."
   ]
  },
  {
   "cell_type": "markdown",
   "metadata": {
    "slideshow": {
     "slide_type": "slide"
    }
   },
   "source": [
    "##  `Queue.join()`\n",
    "Blocks execution until all items in the `Queue` have been processed."
   ]
  },
  {
   "cell_type": "markdown",
   "metadata": {
    "slideshow": {
     "slide_type": "slide"
    }
   },
   "source": [
    "Experiment with the `queue` class using a **fast producer** function,..."
   ]
  },
  {
   "cell_type": "code",
   "execution_count": null,
   "metadata": {},
   "outputs": [],
   "source": [
    "import string\n",
    "def myA(Q): # puts items into a queue named Q\n",
    "    message = 'Hello Colorado School of Mines students enrolled in CSCI 250!'\n",
    "    \n",
    "    for item in (message.split()):\n",
    "        Q.put(item)                          # put into the queue\n",
    "        print('>A>',item)                    # announce a 'put' action\n",
    "        time.sleep(0.5)                      # short delay"
   ]
  },
  {
   "cell_type": "markdown",
   "metadata": {
    "slideshow": {
     "slide_type": "slide"
    }
   },
   "source": [
    "...,and a couple of **slow consumer** functions:"
   ]
  },
  {
   "cell_type": "code",
   "execution_count": null,
   "metadata": {},
   "outputs": [],
   "source": [
    "def myB(Q): # gets items from a queue named Q\n",
    "    while True:        \n",
    "        item = Q.get()                       # get from the queue\n",
    "        print('\\t <B<',item)                 # announce a 'get' action\n",
    "        time.sleep(1.0)                      # medium delay between get   \n",
    "        Q.task_done()                        # mark task completion\n",
    "        \n",
    "def myC(Q): # gets items from a queue named Q\n",
    "    while True:        \n",
    "        item = Q.get()                       # get from the queue        \n",
    "        print('\\t <C<',item)                 # announce a 'get' action\n",
    "        time.sleep(3.0)                      # long delay between get \n",
    "        Q.task_done()                        # mark task completion"
   ]
  },
  {
   "cell_type": "markdown",
   "metadata": {
    "slideshow": {
     "slide_type": "slide"
    }
   },
   "source": [
    "We will start all threads in close succession (\"at once\"):\n",
    "* A ads to Q faster than B and C can extract from Q\n",
    "* Q gets longer because the consumers cannot keep up\n",
    "* when A is done, B and C continue to consume from Q\n",
    "* B (medium delay) extracts more from Q than C (long delay)"
   ]
  },
  {
   "cell_type": "code",
   "execution_count": null,
   "metadata": {},
   "outputs": [],
   "source": [
    "# define a queue\n",
    "Q = queue.Queue()\n",
    "\n",
    "# define threads for producer (A) and consumers (B,C)\n",
    "tA = threading.Thread(target=myA, args=(Q,)) # put   in Q;  short delay\n",
    "tB = threading.Thread(target=myB, args=(Q,)) # get from Q; medium delay\n",
    "tC = threading.Thread(target=myC, args=(Q,)) # get from Q;   long delay"
   ]
  },
  {
   "cell_type": "code",
   "execution_count": null,
   "metadata": {
    "slideshow": {
     "slide_type": "slide"
    }
   },
   "outputs": [],
   "source": [
    "# start all programs as independent threads\n",
    "tA.start() \n",
    "tB.start() \n",
    "tC.start()\n",
    "\n",
    "# keep all threads working until the queue is empty\n",
    "Q.join() "
   ]
  },
  {
   "cell_type": "markdown",
   "metadata": {
    "slideshow": {
     "slide_type": "slide"
    }
   },
   "source": [
    "<img src=\"https://www.dropbox.com/s/7vd3ezqkyhdxmap/demo.png?raw=1\" width=\"10%\" align=\"left\">\n",
    "\n",
    "# Demo\n",
    "Set-up a producer and a consumer, and pass data between them:\n",
    "\n",
    "* the producer adds to the queue and waits;\n",
    "* the consumer gets from the queue when data are available;\n",
    "* the process ends when the queue is empty."
   ]
  },
  {
   "cell_type": "code",
   "execution_count": null,
   "metadata": {
    "slideshow": {
     "slide_type": "slide"
    }
   },
   "outputs": [],
   "source": [
    "# define producer\n",
    "def myPROD(Q, n):\n",
    "\n",
    "    for i in range(n):\n",
    "        print('P: put',i*i)  # announce a 'put' action\n",
    "        Q.put(i*i)           # put into the queue\n",
    "        time.sleep(1)        # wait 1s\n",
    "        \n",
    "# define consumer\n",
    "def myCONS(Q, n):\n",
    "    \n",
    "    for i in range(n):\n",
    "        h = Q.get()           # get from the queue\n",
    "        print('C: get',h)     # announce a 'get' action\n",
    "        Q.task_done()         # mark task completion"
   ]
  },
  {
   "cell_type": "code",
   "execution_count": null,
   "metadata": {
    "slideshow": {
     "slide_type": "slide"
    }
   },
   "outputs": [],
   "source": [
    "# create the queue to pass messages\n",
    "Q = queue.Queue()\n",
    "\n",
    "# set how many messages to pass\n",
    "n = 5\n",
    "\n",
    "# define the threads\n",
    "tP = threading.Thread(target=myPROD, args=(Q,n)) # producer\n",
    "tC = threading.Thread(target=myCONS, args=(Q,n)) # consumer\n",
    "\n",
    "# start the threads\n",
    "tP.start()\n",
    "tC.start()\n",
    "\n",
    "# keep working until the queue is empty\n",
    "Q.join()"
   ]
  },
  {
   "cell_type": "markdown",
   "metadata": {
    "slideshow": {
     "slide_type": "slide"
    }
   },
   "source": [
    "<img src=\"https://www.dropbox.com/s/7vd3ezqkyhdxmap/demo.png?raw=1\" width=\"10%\" align=\"left\">\n",
    "\n",
    "# Demo\n",
    "Set-up three processes: a producer, a consumer, and an observer. \n",
    "\n",
    "* the producer passes data to the consumer through a queue\n",
    "* the observer monitors the queue status (length)"
   ]
  },
  {
   "cell_type": "code",
   "execution_count": null,
   "metadata": {
    "slideshow": {
     "slide_type": "slide"
    }
   },
   "outputs": [],
   "source": [
    "# define the producer\n",
    "# completes task in workT, waits for dt     \n",
    "def myPRO(Q, workT, dt):\n",
    "    \n",
    "    t = 0.0\n",
    "    while t < workT:\n",
    "        Q.put(t)       # add to queue\n",
    "        time.sleep(dt)\n",
    "        t += dt"
   ]
  },
  {
   "cell_type": "code",
   "execution_count": null,
   "metadata": {
    "slideshow": {
     "slide_type": "slide"
    }
   },
   "outputs": [],
   "source": [
    "# define consumer:\n",
    "# completes task in workT; waits for dt\n",
    "def myCON(Q, workT, dt):\n",
    "    \n",
    "    t = 0.0\n",
    "    while t < workT:\n",
    "        h = Q.get()    # extract from queue\n",
    "        time.sleep(dt)\n",
    "        Q.task_done()    \n",
    "        t += dt"
   ]
  },
  {
   "cell_type": "code",
   "execution_count": null,
   "metadata": {
    "slideshow": {
     "slide_type": "slide"
    }
   },
   "outputs": [],
   "source": [
    "# define observer\n",
    "# executes task for workT; waits for dt\n",
    "def myOBS(Q, workT, dt):\n",
    "    nt = int(workT / dt)\n",
    "    \n",
    "    t = np.empty(nt)              # time\n",
    "    q = np.empty(nt)              # queue size\n",
    "    \n",
    "    to = time.time()\n",
    "    for i in range(nt):\n",
    "        q[i] = len(Q.queue)       # get queue size\n",
    "        t[i] = time.time() - to   # record the time\n",
    "        time.sleep(dt)\n",
    "    \n",
    "    # plot queue size vs. time\n",
    "    plt.figure(figsize=(15,5))\n",
    "    plt.plot(t,q,'r.')\n",
    "\n",
    "    plt.title('queue monitor')\n",
    "    plt.xlabel('t(s)')\n",
    "    plt.ylabel('Q')\n",
    "    \n",
    "    plt.ylim([0,200])\n",
    "    plt.xlim([0,workT])\n",
    "    plt.grid()\n",
    "    \n",
    "    plt.show()"
   ]
  },
  {
   "cell_type": "markdown",
   "metadata": {
    "slideshow": {
     "slide_type": "slide"
    }
   },
   "source": [
    "### 1 producer, 1 consumer"
   ]
  },
  {
   "cell_type": "code",
   "execution_count": null,
   "metadata": {
    "slideshow": {
     "slide_type": "slide"
    }
   },
   "outputs": [],
   "source": [
    "pDURATION = 1.0   # producer time\n",
    "pDELAY    = 0.01  # producer delay\n",
    "\n",
    "cDURATION = 3.0   # consumer time\n",
    "cDELAY    = 0.03  # consumer delay\n",
    "\n",
    "oDURATION = 6.0   # observer time\n",
    "oDELAY    = 0.001 # observer delay"
   ]
  },
  {
   "cell_type": "code",
   "execution_count": null,
   "metadata": {},
   "outputs": [],
   "source": [
    "Q = queue.Queue() \n",
    "\n",
    "O  = threading.Thread(target=myOBS, args=(Q, oDURATION, oDELAY)) # observer\n",
    "P  = threading.Thread(target=myPRO, args=(Q, pDURATION, pDELAY)) # producer\n",
    "C  = threading.Thread(target=myCON, args=(Q, cDURATION, cDELAY)) # consumer\n",
    "\n",
    "O.start()    # observer\n",
    "P.start()    # producer\n",
    "C.start()    # consumer\n",
    "\n",
    "Q.join()"
   ]
  },
  {
   "cell_type": "markdown",
   "metadata": {
    "slideshow": {
     "slide_type": "slide"
    }
   },
   "source": [
    "### 2 producers, 2 consumers"
   ]
  },
  {
   "cell_type": "code",
   "execution_count": null,
   "metadata": {
    "scrolled": false
   },
   "outputs": [],
   "source": [
    "Q = queue.Queue() \n",
    "\n",
    "O  = threading.Thread(target=myOBS, args=(Q, oDURATION, oDELAY)) # observer\n",
    "P1 = threading.Thread(target=myPRO, args=(Q, pDURATION, pDELAY)) # producer 1\n",
    "P2 = threading.Thread(target=myPRO, args=(Q, pDURATION, pDELAY)) # producer 2\n",
    "C1 = threading.Thread(target=myCON, args=(Q, cDURATION, cDELAY)) # consumer 1\n",
    "C2 = threading.Thread(target=myCON, args=(Q, cDURATION, cDELAY)) # consumer 2\n",
    "\n",
    "O.start()    # observer\n",
    "P1.start()   # producer 1\n",
    "time.sleep(0.5)\n",
    "P2.start()   # producer 2\n",
    "C1.start()   # consumer 1\n",
    "time.sleep(1.0)\n",
    "C2.start()   # consumer 2\n",
    "\n",
    "Q.join()"
   ]
  }
 ],
 "metadata": {
  "celltoolbar": "Slideshow",
  "kernelspec": {
   "display_name": "Python 3",
   "language": "python",
   "name": "python3"
  },
  "language_info": {
   "codemirror_mode": {
    "name": "ipython",
    "version": 3
   },
   "file_extension": ".py",
   "mimetype": "text/x-python",
   "name": "python",
   "nbconvert_exporter": "python",
   "pygments_lexer": "ipython3",
   "version": "3.8.3"
  }
 },
 "nbformat": 4,
 "nbformat_minor": 2
}
