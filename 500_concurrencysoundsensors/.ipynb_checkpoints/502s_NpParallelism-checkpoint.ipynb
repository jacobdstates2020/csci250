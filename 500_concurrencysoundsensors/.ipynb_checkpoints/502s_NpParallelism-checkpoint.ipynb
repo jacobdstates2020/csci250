{
 "cells": [
  {
   "cell_type": "markdown",
   "metadata": {
    "slideshow": {
     "slide_type": "slide"
    }
   },
   "source": [
    "<img src=\"https://www.mines.edu/webcentral/wp-content/uploads/sites/267/2019/02/horizontallightbackground.jpg\" width=\"100%\"> \n",
    "### CSCI250 Python Computing: Building a Sensor System\n",
    "<hr style=\"height:5px\" width=\"100%\" align=\"left\">\n",
    "\n",
    "# Parallel code execution"
   ]
  },
  {
   "cell_type": "markdown",
   "metadata": {
    "slideshow": {
     "slide_type": "slide"
    }
   },
   "source": [
    "# Objective\n",
    "* introduce parallel code execution\n",
    "* use Python threads\n",
    "* use Python logging"
   ]
  },
  {
   "cell_type": "markdown",
   "metadata": {
    "slideshow": {
     "slide_type": "slide"
    }
   },
   "source": [
    "# Resources\n",
    "* [Python threading](https://docs.python.org/3/library/threading.html)\n",
    "* [Python logging](https://docs.python.org/3/library/logging.html)"
   ]
  },
  {
   "cell_type": "markdown",
   "metadata": {
    "slideshow": {
     "slide_type": "slide"
    }
   },
   "source": [
    "# Definition\n",
    "\n",
    "**Parallelism** means that \n",
    "* multiple tasks are executed simultaneously\n",
    "* the tasks divide a large calculation into smaller chunks"
   ]
  },
  {
   "cell_type": "code",
   "execution_count": null,
   "metadata": {
    "slideshow": {
     "slide_type": "slide"
    }
   },
   "outputs": [],
   "source": [
    "import numpy as np\n",
    "import matplotlib.pyplot as plt\n",
    "import time, threading, logging\n",
    "import numpy.random as rng"
   ]
  },
  {
   "cell_type": "markdown",
   "metadata": {
    "slideshow": {
     "slide_type": "slide"
    }
   },
   "source": [
    "# `threading` module\n",
    "\n",
    "Implements a system that enables execution in concurrent threads.\n",
    "\n",
    "**Threads** use code sequences executed independently.\n",
    "\n",
    "`threading` functions provide access to thread information."
   ]
  },
  {
   "cell_type": "markdown",
   "metadata": {
    "slideshow": {
     "slide_type": "slide"
    }
   },
   "source": [
    "`threading.active_count()`\n",
    "\n",
    " `threading.main_thread()`\n",
    " \n",
    " `threading.current_thread()`\n",
    " \n",
    " `threading.get_ident()`\n",
    " \n",
    " `threading.enumerate()`"
   ]
  },
  {
   "cell_type": "markdown",
   "metadata": {
    "slideshow": {
     "slide_type": "slide"
    }
   },
   "source": [
    "## `Thread` class\n",
    "Defines threads and thread operations.\n",
    "\n",
    "`threading.Thread(target, name, args)`\n",
    "\n",
    "`Thread.start()`\n",
    "\n",
    "`Thread.is_alive()`"
   ]
  },
  {
   "cell_type": "markdown",
   "metadata": {
    "slideshow": {
     "slide_type": "slide"
    }
   },
   "source": [
    "<img src=\"https://www.dropbox.com/s/u628vjn2uc5h3ua/notebook.png?raw=1\" width=\"10%\" align=\"right\">\n",
    "\n",
    "See the [concurrency notebook](./s_NpConcurrency.ipynb) to get more info."
   ]
  },
  {
   "cell_type": "markdown",
   "metadata": {
    "slideshow": {
     "slide_type": "slide"
    }
   },
   "source": [
    "# serial vs. parallel execution\n",
    "\n",
    "Consider a set of tasks that we can pass to the function.\n",
    "\n",
    "We can execute all the tasks using \n",
    "* one thread (serial execution)\n",
    "* multiple threads (parallel execution)"
   ]
  },
  {
   "cell_type": "code",
   "execution_count": null,
   "metadata": {
    "slideshow": {
     "slide_type": "slide"
    }
   },
   "outputs": [],
   "source": [
    "def myFunc(i,t):\n",
    "    print(\"%2d >>      %5.2f\"%(i,t))\n",
    "    time.sleep(t)\n",
    "    print(\"   <<%2d         \"%(i  ))"
   ]
  },
  {
   "cell_type": "code",
   "execution_count": null,
   "metadata": {},
   "outputs": [],
   "source": [
    "myFunc(0,2.0)"
   ]
  },
  {
   "cell_type": "code",
   "execution_count": null,
   "metadata": {
    "slideshow": {
     "slide_type": "slide"
    }
   },
   "outputs": [],
   "source": [
    "nTASKS = 6\n",
    "\n",
    "TASKS = [iTASK for iTASK in range(nTASKS)] # job indices\n",
    "TIMES = rng.uniform(0.1,1.0,nTASKS)        # time delays\n",
    "\n",
    "for iTASK in range(nTASKS):\n",
    "    print( format(TASKS[iTASK],'2d'), format(TIMES[iTASK],'5.2f') )"
   ]
  },
  {
   "cell_type": "markdown",
   "metadata": {
    "slideshow": {
     "slide_type": "slide"
    }
   },
   "source": [
    "### Serial execution\n",
    "\n",
    "The function is called sequentially for different inputs."
   ]
  },
  {
   "cell_type": "code",
   "execution_count": null,
   "metadata": {
    "scrolled": true
   },
   "outputs": [],
   "source": [
    "for iTASK in TASKS:\n",
    "    myFunc( iTASK, TIMES[iTASK] )"
   ]
  },
  {
   "cell_type": "markdown",
   "metadata": {
    "slideshow": {
     "slide_type": "slide"
    }
   },
   "source": [
    "### Parallel execution\n",
    "\n",
    "The function is called at once on multiple inputs (multiple threads)."
   ]
  },
  {
   "cell_type": "code",
   "execution_count": null,
   "metadata": {},
   "outputs": [],
   "source": [
    "for iTASK in TASKS:\n",
    "    # define thread\n",
    "    t = threading.Thread(target = myFunc, args = (iTASK, TIMES[iTASK]))\n",
    "    \n",
    "    # start thread\n",
    "    t.start()                                  "
   ]
  },
  {
   "cell_type": "markdown",
   "metadata": {
    "slideshow": {
     "slide_type": "slide"
    }
   },
   "source": [
    "# `logging` module\n",
    "Implements a flexible system for monitoring parallel execution. \n",
    "\n",
    "Can be used with multiple threads executed in parallel.\n",
    "\n",
    "Logging can be configured for different levels.\n",
    "\n",
    "The logging message can also be customized."
   ]
  },
  {
   "cell_type": "markdown",
   "metadata": {
    "slideshow": {
     "slide_type": "slide"
    }
   },
   "source": [
    "# `logging.basicConfig()`\n",
    "\n",
    "There are several levels of logging (`WARNING` is default):\n",
    "* `DEBUG`: detailed information for diagnosing problems\n",
    "* `INFO`: confirmation that all works as expected\n",
    "* `WARNING`: something happened - software still working\n",
    "* `ERROR`: something happened - software not completed\n",
    "* `CRITICAL`: a serious error - software may be unable to run"
   ]
  },
  {
   "cell_type": "code",
   "execution_count": null,
   "metadata": {},
   "outputs": [],
   "source": [
    "logging.basicConfig(level = logging.DEBUG,\n",
    "                    format='[%(levelname)s] (%(threadName)-10s) %(message)s',\n",
    "                    )"
   ]
  },
  {
   "cell_type": "markdown",
   "metadata": {
    "slideshow": {
     "slide_type": "slide"
    }
   },
   "source": [
    "# `logging.debug()`\n",
    "\n",
    "Logging messages indicate when we enter and leave a function:"
   ]
  },
  {
   "cell_type": "code",
   "execution_count": null,
   "metadata": {},
   "outputs": [],
   "source": [
    "def myFunc(i,t):\n",
    "    logging.debug(\"%2d >>      %5.2f\"%(i,t))\n",
    "    time.sleep(t)\n",
    "    logging.debug(\"   <<%2d         \"%(i  ))"
   ]
  },
  {
   "cell_type": "code",
   "execution_count": null,
   "metadata": {
    "scrolled": false
   },
   "outputs": [],
   "source": [
    "myFunc(0,2.0)"
   ]
  },
  {
   "cell_type": "markdown",
   "metadata": {
    "slideshow": {
     "slide_type": "slide"
    }
   },
   "source": [
    "### Serial execution\n",
    "\n",
    "The function is called sequentially for different inputs."
   ]
  },
  {
   "cell_type": "code",
   "execution_count": null,
   "metadata": {
    "scrolled": false,
    "slideshow": {
     "slide_type": "-"
    }
   },
   "outputs": [],
   "source": [
    "for iTASK in TASKS:\n",
    "    myFunc( iTASK, TIMES[iTASK] )"
   ]
  },
  {
   "cell_type": "markdown",
   "metadata": {
    "slideshow": {
     "slide_type": "slide"
    }
   },
   "source": [
    "### Parallel execution\n",
    "\n",
    "The function is called at once on multiple inputs (multiple threads)."
   ]
  },
  {
   "cell_type": "code",
   "execution_count": null,
   "metadata": {
    "scrolled": false,
    "slideshow": {
     "slide_type": "-"
    }
   },
   "outputs": [],
   "source": [
    "for iTASK in TASKS:\n",
    "    # define thread\n",
    "    t = threading.Thread(target = myFunc, args = (iTASK, TIMES[iTASK]))\n",
    "    \n",
    "    # start thread\n",
    "    t.start()                           "
   ]
  },
  {
   "cell_type": "markdown",
   "metadata": {
    "slideshow": {
     "slide_type": "slide"
    }
   },
   "source": [
    "Sending tasks to multiple threads at once could be problematic because we may not have enough cores on the computer. \n",
    "\n",
    "We should work with as many threads as the number of cores:\n",
    "* form a group of threads equal to the number of cores;\n",
    "* start all threads in a group at once;\n",
    "* wait until this group of tasks complete; \n",
    "* form and start similar groups of the remaining tasks."
   ]
  },
  {
   "cell_type": "markdown",
   "metadata": {
    "slideshow": {
     "slide_type": "slide"
    }
   },
   "source": [
    "## `Thread.join()`\n",
    "The function blocks the calling thread until the thread whose `join` method is called terminates. \n",
    "\n",
    "*** \n",
    "\n",
    "This can be used to synchronize execution of a group of threads. \n",
    "\n",
    "For example, we can initiate a limited number of threads equal to the actual number of compute cores available, instead of initiating a large number of threads for all tasks to be executed."
   ]
  },
  {
   "cell_type": "code",
   "execution_count": null,
   "metadata": {
    "slideshow": {
     "slide_type": "slide"
    }
   },
   "outputs": [],
   "source": [
    "nCORES = 3                # number of available cores\n",
    "\n",
    "tGROUP = [None] * nCORES  # list of threads in a group"
   ]
  },
  {
   "cell_type": "code",
   "execution_count": null,
   "metadata": {},
   "outputs": [],
   "source": [
    "iTASK = 0\n",
    "while iTASK < nTASKS:                              # loop over tasks\n",
    "    iCORE = iTASK%nCORES      \n",
    "    \n",
    "    tGROUP[iCORE] = threading.Thread(target = myFunc, args=(iTASK, 1.0) ) \n",
    "    tGROUP[iCORE].start()                          # start current thread\n",
    "    \n",
    "    if(iCORE == nCORES-1 or                        # completed the group\n",
    "       iTASK == nTASKS-1):                         # ran out of tasks\n",
    "        \n",
    "        for t in tGROUP:     \n",
    "            if t != None:\n",
    "                t.join()                           # wait to complete group\n",
    "            \n",
    "        tGROUP = [None] * nCORES                   # reset thread group\n",
    "    iTASK += 1"
   ]
  },
  {
   "cell_type": "markdown",
   "metadata": {
    "slideshow": {
     "slide_type": "slide"
    }
   },
   "source": [
    "We can monitor of the number of threads active at various moments."
   ]
  },
  {
   "cell_type": "code",
   "execution_count": null,
   "metadata": {},
   "outputs": [],
   "source": [
    "MONITOR = []                                        # init thread count monitor\n",
    "\n",
    "iTASK = 0                                           # loop over tasks\n",
    "while iTASK < nTASKS:\n",
    "    iCORE = iTASK%nCORES      \n",
    "    \n",
    "    tGROUP[iCORE] = threading.Thread(target = myFunc, args=(iTASK, 1.0) ) \n",
    "    tGROUP[iCORE].start()                           # start current thread\n",
    "    MONITOR.append(threading.active_count())        # monitor the thread count\n",
    "    \n",
    "    if(iCORE == nCORES-1 or                         # completed the group\n",
    "       iTASK == nTASKS-1):                          # ran out of tasks\n",
    "        \n",
    "        for t in tGROUP:     \n",
    "            if t != None:\n",
    "                t.join()                            # wait to complete group\n",
    "                \n",
    "        MONITOR.append(threading.active_count())    # monitor the thread count        \n",
    "        tGROUP = [None] * nCORES                    # reset thread group  \n",
    "    iTASK += 1\n",
    "\n",
    "print(MONITOR)                                      # show thread count monitor"
   ]
  },
  {
   "cell_type": "markdown",
   "metadata": {
    "slideshow": {
     "slide_type": "slide"
    }
   },
   "source": [
    "<img src=\"https://www.dropbox.com/s/7vd3ezqkyhdxmap/demo.png?raw=1\" width=\"10%\" align=\"left\">\n",
    "\n",
    "# Demo\n",
    "Imagine that you would like to simulate a 2D function defined by\n",
    "\n",
    "$g(x,y) = \\dfrac{1}{\\sqrt{2\\pi}\\sigma_x} \n",
    "e^{ -\\dfrac{1}{2} \n",
    "\\left( \\dfrac{x-c_x}{\\sigma_x} \\right)^2\n",
    "}\n",
    "$\n",
    "\n",
    "where \n",
    "\n",
    "$c_x(y) = y$\n",
    "\n",
    "and \n",
    "\n",
    "$\\sigma_x(y) = 0.05(1+|y|)$\n",
    "\n",
    "We want to take advantage of multi-threading and generate the function $g(x,y)$ by parallelizing its calculation over $y$."
   ]
  },
  {
   "cell_type": "markdown",
   "metadata": {
    "slideshow": {
     "slide_type": "slide"
    }
   },
   "source": [
    "Define the variables $x$ and $y$ over the computation space:"
   ]
  },
  {
   "cell_type": "code",
   "execution_count": null,
   "metadata": {},
   "outputs": [],
   "source": [
    "nx,ox,dx = 201,-1.0,0.01\n",
    "ny,oy,dy = 201,-1.0,0.01\n",
    "\n",
    "xx = np.linspace(ox, ox+nx*dx, nx)\n",
    "yy = np.linspace(oy, oy+ny*dy, ny)\n",
    "\n",
    "X, Y = np.meshgrid(xx, yy)"
   ]
  },
  {
   "cell_type": "markdown",
   "metadata": {
    "slideshow": {
     "slide_type": "slide"
    }
   },
   "source": [
    "Define a function that computes a 1D Gaussian for a given $y$ at all values of $x$. Slow down the function execution using `sleep` to emphasize the difference between serial and parallel execution:"
   ]
  },
  {
   "cell_type": "code",
   "execution_count": null,
   "metadata": {},
   "outputs": [],
   "source": [
    "def makeGaussian(g, y, xx):\n",
    "    \n",
    "    cx = y                       # Gaussian center\n",
    "    sx = 0.05 * (1 + np.abs(y))  # Gaussian standard deviation\n",
    "    \n",
    "    i = int((y-oy)/dy)\n",
    "    \n",
    "    logging.debug(\"%2dG >>     %6.3f\"%(i,cx))\n",
    "        \n",
    "    g[:] = 1/( np.sqrt(2*np.pi) * sx) * np.exp( -( 0.5*(xx-cx)/(sx) )**2 )\n",
    "    \n",
    "    time.sleep(1e-2)             # simulate longer function execution\n",
    "        \n",
    "    logging.debug(\"    <<%2dG \"%(i))"
   ]
  },
  {
   "cell_type": "code",
   "execution_count": null,
   "metadata": {
    "slideshow": {
     "slide_type": "slide"
    }
   },
   "outputs": [],
   "source": [
    "gONE = np.zeros(nx, dtype=float) # allocate output space\n",
    "\n",
    "makeGaussian(gONE, 0.0, xx)      # call Gaussian function"
   ]
  },
  {
   "cell_type": "code",
   "execution_count": null,
   "metadata": {
    "scrolled": false,
    "slideshow": {
     "slide_type": "-"
    }
   },
   "outputs": [],
   "source": [
    "plt.figure(figsize=(15,5))\n",
    "plt.plot(xx,gONE)                # plot Gaussian function\n",
    "plt.xlabel('x')\n",
    "plt.ylabel('g')\n",
    "\n",
    "plt.show();"
   ]
  },
  {
   "cell_type": "markdown",
   "metadata": {
    "slideshow": {
     "slide_type": "slide"
    }
   },
   "source": [
    "For a function of both $x$ and $y$, we can allocate 2D `numpy` arrays:"
   ]
  },
  {
   "cell_type": "code",
   "execution_count": null,
   "metadata": {},
   "outputs": [],
   "source": [
    "gSRL = np.zeros( [ny,nx], dtype=float) # for   serial execution\n",
    "gPAR = np.zeros( [ny,nx], dtype=float) # for parallel execution"
   ]
  },
  {
   "cell_type": "markdown",
   "metadata": {
    "slideshow": {
     "slide_type": "slide"
    }
   },
   "source": [
    "The serial code is simply a series of function calls inside a `while` loop: "
   ]
  },
  {
   "cell_type": "code",
   "execution_count": null,
   "metadata": {
    "slideshow": {
     "slide_type": "-"
    }
   },
   "outputs": [],
   "source": [
    "# serial code\n",
    "\n",
    "tick = time.time()       # start the clock\n",
    "\n",
    "iy = 0\n",
    "while iy < ny:\n",
    "    y = oy + iy*dy\n",
    "    makeGaussian(gSRL[iy,:], y, xx)\n",
    "\n",
    "    iy += 1\n",
    "    \n",
    "tock = time.time()       #  stop the clock\n",
    "dtSRL = (tock-tick)*1e3  # time difference "
   ]
  },
  {
   "cell_type": "code",
   "execution_count": null,
   "metadata": {},
   "outputs": [],
   "source": [
    "print('elapsed time =',int(dtSRL),'(ms)')"
   ]
  },
  {
   "cell_type": "markdown",
   "metadata": {
    "slideshow": {
     "slide_type": "slide"
    }
   },
   "source": [
    "The parallel code uses the `threading` module to define, start and join threads. All threads share the same array, but work on different parts of it to avoid **race conditions** (i.e. a situation when multiple threads try to change the same data at the same time)."
   ]
  },
  {
   "cell_type": "code",
   "execution_count": null,
   "metadata": {
    "slideshow": {
     "slide_type": "-"
    }
   },
   "outputs": [],
   "source": [
    "nCORES = 4                                          # number of available cores\n",
    "tGROUP = [None] * nCORES                            # list of threads in a group\n",
    "\n",
    "tick = time.time()                                  # start the clock\n",
    "\n",
    "iy = 0\n",
    "while iy < ny:                                      # loop over tasks\n",
    "    y = oy + iy*dy\n",
    "        \n",
    "    iCORE = iy%nCORES      \n",
    "    \n",
    "    tGROUP[iCORE] = threading.Thread( target = makeGaussian, args = (gPAR[iy,:], y, xx))    \n",
    "    tGROUP[iCORE].start()                           # start current thread\n",
    "    \n",
    "    if(iCORE == nCORES-1 or                         # completed the group\n",
    "          iy == ny-1):                              # ran out of tasks\n",
    "        \n",
    "        for t in tGROUP:     \n",
    "            if t != None:\n",
    "                t.join()\n",
    "            \n",
    "        tGROUP = [None] * nCORES                    # reset thread group\n",
    "    \n",
    "    iy += 1\n",
    "    \n",
    "tock = time.time()                                      # stop the clock\n",
    "dtPAR = (tock-tick)*1e3                                 # time difference "
   ]
  },
  {
   "cell_type": "code",
   "execution_count": null,
   "metadata": {},
   "outputs": [],
   "source": [
    "print('elapsed time =',int(dtPAR),'(ms)')"
   ]
  },
  {
   "cell_type": "markdown",
   "metadata": {
    "slideshow": {
     "slide_type": "slide"
    }
   },
   "source": [
    "The serial and parallel calculations produce identical output."
   ]
  },
  {
   "cell_type": "code",
   "execution_count": null,
   "metadata": {
    "slideshow": {
     "slide_type": "-"
    }
   },
   "outputs": [],
   "source": [
    "plt.figure(figsize=(14,7))\n",
    "\n",
    "plt.subplot(1,2,1)\n",
    "plt.contourf(X, Y, gSRL, 50);\n",
    "plt.xlabel('x');\n",
    "plt.ylabel('y');\n",
    "plt.axis('equal');\n",
    "plt.axis('tight');\n",
    "\n",
    "plt.subplot(1,2,2)\n",
    "plt.contourf(X, Y, gPAR, 50);\n",
    "plt.xlabel('x');\n",
    "plt.ylabel('y');\n",
    "plt.axis('equal');\n",
    "plt.axis('tight');"
   ]
  },
  {
   "cell_type": "markdown",
   "metadata": {
    "slideshow": {
     "slide_type": "slide"
    }
   },
   "source": [
    "The speed-up $t_{SRL}/t_{PAR}$ is:"
   ]
  },
  {
   "cell_type": "code",
   "execution_count": null,
   "metadata": {
    "scrolled": false
   },
   "outputs": [],
   "source": [
    "print('speed-up = %4.2f'%(dtSRL/dtPAR) )"
   ]
  },
  {
   "cell_type": "markdown",
   "metadata": {},
   "source": [
    "Ideally the speed-up is close to the number of cores used."
   ]
  },
  {
   "cell_type": "code",
   "execution_count": null,
   "metadata": {},
   "outputs": [],
   "source": [
    "print('cores used =',nCORES)"
   ]
  }
 ],
 "metadata": {
  "celltoolbar": "Slideshow",
  "kernelspec": {
   "display_name": "Python 3",
   "language": "python",
   "name": "python3"
  },
  "language_info": {
   "codemirror_mode": {
    "name": "ipython",
    "version": 3
   },
   "file_extension": ".py",
   "mimetype": "text/x-python",
   "name": "python",
   "nbconvert_exporter": "python",
   "pygments_lexer": "ipython3",
   "version": "3.8.3"
  }
 },
 "nbformat": 4,
 "nbformat_minor": 2
}
