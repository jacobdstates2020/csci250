{
 "cells": [
  {
   "cell_type": "markdown",
   "metadata": {
    "slideshow": {
     "slide_type": "slide"
    }
   },
   "source": [
    "<img src=\"https://www.mines.edu/webcentral/wp-content/uploads/sites/267/2019/02/horizontallightbackground.jpg\" width=\"100%\"> \n",
    "\n",
    "### CSCI250 Python Computing: Building a Sensor System\n",
    "<hr style=\"height:5px\" width=\"100%\" align=\"left\">\n",
    "\n",
    "# Reed switch"
   ]
  },
  {
   "cell_type": "markdown",
   "metadata": {
    "slideshow": {
     "slide_type": "slide"
    }
   },
   "source": [
    "# Introduction\n",
    "\n",
    "<img src=\"https://cdn.sparkfun.com//assets/parts/5/1/2/3/10601-01.jpg\" width=\"30%\" align=\"right\">\n",
    "\n",
    "As a circuit element, reed switches act just like push buttons, except that they are activated by magnets. Inside the reed switch are ferrous materials that make an electrical connection when a magnet is brought nearby. \n",
    "\n",
    "Here is more information about [Reed switches](https://en.wikipedia.org/wiki/Reed_switch). "
   ]
  },
  {
   "cell_type": "markdown",
   "metadata": {
    "slideshow": {
     "slide_type": "slide"
    }
   },
   "source": [
    "# Wiring\n",
    "\n",
    "In order to use a Reed switch as an input for a GPIO pin, the voltage on the pin needs to be 3.3V (logical high voltage) when the switch is in one state, and 0V (logical low voltage) when the switch is in the other state. \n",
    "\n",
    "Assuming one side of the switch is the only thing connected to the GPIO pin, it will be left in a floating state when the switch is open (no magnet), which can return random noise and random behavior. \n",
    "\n",
    "To fix this, we need to make use of a pull-up or pull-down resistor."
   ]
  },
  {
   "cell_type": "markdown",
   "metadata": {
    "slideshow": {
     "slide_type": "slide"
    }
   },
   "source": [
    "Connect one side of the Reed switch to a GPIO pin, and the other to either GND or 3.3V depending on what configuration you use.\n",
    "\n",
    "<img src=\"https://www.dropbox.com/s/hxgzd4hseoyzfhp/wiring_reed.jpg?raw=1\" width=\"100%\" align=\"left\">"
   ]
  },
  {
   "cell_type": "markdown",
   "metadata": {
    "slideshow": {
     "slide_type": "slide"
    }
   },
   "source": [
    "# Programming\n",
    "\n",
    "In order to use the Reed switch as an input, we need to configure the GPIO pin to input mode and activate the internal resistor. \n",
    "\n",
    "This requires the usual setup of importing the GPIO library and setting it to use the GPIO numbering."
   ]
  },
  {
   "cell_type": "code",
   "execution_count": null,
   "metadata": {
    "slideshow": {
     "slide_type": "slide"
    }
   },
   "outputs": [],
   "source": [
    "# import the GPIO library\n",
    "import RPi.GPIO as GPIO\n",
    "\n",
    "# set GPIO numbering\n",
    "GPIO.setmode(GPIO.BCM)\n",
    "\n",
    "# the pin number (choose another pin if 25 is occupied by another device)\n",
    "switchPin = 25"
   ]
  },
  {
   "cell_type": "markdown",
   "metadata": {
    "slideshow": {
     "slide_type": "slide"
    }
   },
   "source": [
    "## Configuration\n",
    "\n",
    "We can set up Reed switches in 2 different configurations:\n",
    "* internal pull-down resistor\n",
    "* internal pull-up resistor\n",
    "\n",
    "**N.B.**: Choose one of the configurations."
   ]
  },
  {
   "cell_type": "markdown",
   "metadata": {
    "slideshow": {
     "slide_type": "slide"
    }
   },
   "source": [
    "## Internal pull-down resistor \n",
    "   * if the Reed switch is **ON**, the pin is connected to **LOW voltage**) - it is pulled down.\n",
    "   * if the Reed switch is **OFF**, the pin is connected to **HIGH voltage**.\n",
    "\n",
    "The other side of the Reed switch needs to be connected to **HIGH voltage**.\n",
    "\n",
    "<img src=\"https://www.dropbox.com/s/k807ry12h6fg2do/wiring_button_pull_down.PNG?raw=1\" width=\"35%\" align=\"center\">"
   ]
  },
  {
   "cell_type": "code",
   "execution_count": null,
   "metadata": {
    "slideshow": {
     "slide_type": "slide"
    }
   },
   "outputs": [],
   "source": [
    "# use an internal pull-down resistor - returns 0 when no magnet activates the switch\n",
    "GPIO.setup(switchPin, GPIO.IN, pull_up_down = GPIO.PUD_DOWN)\n",
    "\n",
    "print(GPIO.input(switchPin))"
   ]
  },
  {
   "cell_type": "markdown",
   "metadata": {
    "slideshow": {
     "slide_type": "slide"
    }
   },
   "source": [
    "We can also pick-up the Reed switch state over a period of time."
   ]
  },
  {
   "cell_type": "code",
   "execution_count": null,
   "metadata": {},
   "outputs": [],
   "source": [
    "import time\n",
    "\n",
    "for i in range(10):\n",
    "    \n",
    "    print(GPIO.input(switchPin)) # get switch state\n",
    "    time.sleep(1)                # wait 1s"
   ]
  },
  {
   "cell_type": "markdown",
   "metadata": {
    "slideshow": {
     "slide_type": "slide"
    }
   },
   "source": [
    "## Internal pull-up resistor\n",
    "   * if the Reed switch is **ON**, the pin is connected to **HIGH voltage** - it is pulled up.\n",
    "   * if the Reed switch is **OFF**, the pin is connected to **LOW voltage**.\n",
    "\n",
    "The other side of the Reed switch needs to be connected to **LOW voltage**.\n",
    "\n",
    "<img src=\"https://www.dropbox.com/s/192uurde4dlpuz3/wiring_button.PNG?raw=1\" width=\"35%\" align=\"center\">"
   ]
  },
  {
   "cell_type": "code",
   "execution_count": null,
   "metadata": {
    "slideshow": {
     "slide_type": "slide"
    }
   },
   "outputs": [],
   "source": [
    "# use an internal pull-up resistor - returns 1 when no magnet activates the switch\n",
    "GPIO.setup(switchPin, GPIO.IN, pull_up_down = GPIO.PUD_UP)\n",
    "\n",
    "print(GPIO.input(switchPin))"
   ]
  },
  {
   "cell_type": "markdown",
   "metadata": {
    "slideshow": {
     "slide_type": "slide"
    }
   },
   "source": [
    "We can also pick-up the Reed switch state over a period of time."
   ]
  },
  {
   "cell_type": "code",
   "execution_count": null,
   "metadata": {},
   "outputs": [],
   "source": [
    "import time\n",
    "\n",
    "for i in range(10):\n",
    "    \n",
    "    print(GPIO.input(switchPin)) # get switch state\n",
    "    time.sleep(1)                # wait 1s"
   ]
  },
  {
   "cell_type": "markdown",
   "metadata": {
    "slideshow": {
     "slide_type": "slide"
    }
   },
   "source": [
    "When done we can clean-up and shutdown GPIO."
   ]
  },
  {
   "cell_type": "code",
   "execution_count": null,
   "metadata": {},
   "outputs": [],
   "source": [
    "# clean-up GPIO\n",
    "GPIO.cleanup()"
   ]
  },
  {
   "cell_type": "markdown",
   "metadata": {
    "slideshow": {
     "slide_type": "skip"
    }
   },
   "source": [
    "# Troubleshooting\n",
    "\n",
    "* **I get error messages when I run my code**.\n",
    "    * There's probably/likely an issue with the code, not with the electronic components. Read the error message and try to understand what it is telling. If you're not sure, ask for help.\n",
    "    \n",
    "* **Nothing happens when I bring the magnet near the Reed switch**.\n",
    "    * There's a good chance that you've done your wiring incorrectly or there's a bug in your code. Double check both of these for any errors first!\n",
    "    * If you can't find any errors, go back to basics! Recreate the circuit and run the code from this notebook to see if your reed switch still works. If it's not working, try another switch that you know is working. If the new one works, then the old one is probably broken."
   ]
  },
  {
   "cell_type": "markdown",
   "metadata": {
    "slideshow": {
     "slide_type": "slide"
    }
   },
   "source": [
    "<img src=\"https://www.dropbox.com/s/wj23ce93pa9j8pe/demo.png?raw=1\" width=\"10%\" align=\"left\">\n",
    "\n",
    "# Exercise\n",
    "\n",
    "Setup a circuit with a Reed switch and an LED controlled through an infinite loop. Set the LED to turn ON when the Reed switch is activated, and OFF otherwise"
   ]
  }
 ],
 "metadata": {
  "celltoolbar": "Slideshow",
  "hide_input": false,
  "kernelspec": {
   "display_name": "Python 3 (ipykernel)",
   "language": "python",
   "name": "python3"
  },
  "language_info": {
   "codemirror_mode": {
    "name": "ipython",
    "version": 3
   },
   "file_extension": ".py",
   "mimetype": "text/x-python",
   "name": "python",
   "nbconvert_exporter": "python",
   "pygments_lexer": "ipython3",
   "version": "3.9.7"
  },
  "varInspector": {
   "cols": {
    "lenName": 16,
    "lenType": 16,
    "lenVar": 40
   },
   "kernels_config": {
    "python": {
     "delete_cmd_postfix": "",
     "delete_cmd_prefix": "del ",
     "library": "var_list.py",
     "varRefreshCmd": "print(var_dic_list())"
    },
    "r": {
     "delete_cmd_postfix": ") ",
     "delete_cmd_prefix": "rm(",
     "library": "var_list.r",
     "varRefreshCmd": "cat(var_dic_list()) "
    }
   },
   "types_to_exclude": [
    "module",
    "function",
    "builtin_function_or_method",
    "instance",
    "_Feature"
   ],
   "window_display": false
  }
 },
 "nbformat": 4,
 "nbformat_minor": 2
}
