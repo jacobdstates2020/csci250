{
 "cells": [
  {
   "cell_type": "markdown",
   "metadata": {
    "slideshow": {
     "slide_type": "slide"
    }
   },
   "source": [
    "<img src=\"https://www.mines.edu/webcentral/wp-content/uploads/sites/267/2019/02/horizontallightbackground.jpg\" width=\"100%\"> \n",
    "### CSCI250 Python Computing: Building a Sensor System\n",
    "<hr style=\"height:5px\" width=\"100%\" align=\"left\">\n",
    "\n",
    "# LAB: Game of Life\n",
    "## Lisa Simpson"
   ]
  },
  {
   "cell_type": "markdown",
   "metadata": {
    "slideshow": {
     "slide_type": "slide"
    }
   },
   "source": [
    "# Introduction\n",
    "\n",
    "The goal of this lab is to simulate the concept of parallel worlds based on the famous [Game of Life](https://en.wikipedia.org/wiki/Conway%27s_Game_of_Life). We will simulate a scenario of two parallel universes which function based on the rules of the game, but which exchange information (in one direction) at various times. This scenario will give us an opportunity to use Python concurrent execution, i.e. use separate threads to simulate \"life\" in each universe, and use queues to exchange information between the universes."
   ]
  },
  {
   "cell_type": "markdown",
   "metadata": {
    "slideshow": {
     "slide_type": "slide"
    }
   },
   "source": [
    "<img src=\"https://www.dropbox.com/s/u628vjn2uc5h3ua/notebook.png?raw=1\" width=\"10%\" align=\"right\">\n",
    "\n",
    "Read through\n",
    "* the  [2D arrays notebook](s_NpArrays2D.ipynb) \n",
    "* the  [2D plot notebook](s_NpPlots2D.ipynb)\n",
    "* the  [concurrency notebook](s_NpConcurrency.ipynb)\n",
    "* the  [animation notebook](s_MpAnimation.ipynb)"
   ]
  },
  {
   "cell_type": "markdown",
   "metadata": {
    "slideshow": {
     "slide_type": "slide"
    }
   },
   "source": [
    "# Game of Life\n",
    "\n",
    "The game is a [cellular automaton](https://en.wikipedia.org/wiki/Cellular_automaton) based on the following rules:\n",
    "1. Any live cell with fewer than two live neighbors dies, as if by underpopulation.\n",
    "* Any live cell with two or three live neighbors **lives** on to the next generation.\n",
    "* Any live cell with more than three live neighbors dies, as if by overpopulation.\n",
    "* Any dead cell with exactly three live neighbors becomes a **live** cell, as if by reproduction."
   ]
  },
  {
   "cell_type": "markdown",
   "metadata": {},
   "source": [
    "# Assignment\n",
    "\n",
    "1. Implement the basic logic of the Game of Life. In this step, you will work with a single universe and you do not need to use concurrency (we will later use threading to simulate the game in multiple universes). Use vectorization whenever possible to achieve the fastest implementation possible.\n",
    "    * simulate the transformation of the game field from one generation to another\n",
    "    * generate an entire cube representing the field at multiple generations (e.g. 100).\n",
    "    * plot an animation of the simulation (see below).\n",
    "    \n",
    "2. Implement separate functions corresponding to a producer and a consumer that share information using a queue. The logic is the following:\n",
    "    * The **producer** inserts a specific shape at random locations in its field\n",
    "        * for simplicity, the producer uses only the \"glider\" shape (see below)\n",
    "        * add the glider to the field only at 10% of the time steps selected randomly\n",
    "        \n",
    "    and puts into a queue at every generation its index and a flag\n",
    "        * the boolean flag specifies if at least 25 cells are alive in its field at that time\n",
    "\n",
    "    * The **consumer** receives the information from the queue and\n",
    "        * inserts a glider into the field at a random position every time the received flag is `True`.\n",
    "        * Once a glider is inserted, the consumer does not insert another one for at least 5 generations\n",
    "    \n",
    "    and advances using the GoL logic, like the producer.\n",
    "    \n",
    "Thus, the producer and the consumer fields evolve by the same rules. \n",
    "\n",
    "They also exchange information (from the producer to the consumer) at specific times according to the rules specified before (i.e. the flag is `True` at all generations when the producer field has 25 live cells).\n",
    "\n",
    "3. Launch the producer and the consumer in separate threads\n",
    "    * use a queue to pass information from one thread to another\n",
    "    * start both threads at the same time (i.e. in very close succession)\n",
    "\n",
    "4. Plot side-by-side an animation of the two fields, thus visualizing the moments when information is exchanged  between the two universes (from the producer to the consumer)."
   ]
  },
  {
   "cell_type": "markdown",
   "metadata": {},
   "source": [
    "# Glider\n",
    "\n",
    "Is a specific shape we will insert into the GoL field. This shape has properties that make the animation interesting, i.e. the shape moves as it changes over generations."
   ]
  },
  {
   "cell_type": "code",
   "execution_count": null,
   "metadata": {
    "slideshow": {
     "slide_type": "slide"
    }
   },
   "outputs": [],
   "source": [
    "import numpy as np\n",
    "import matplotlib.pyplot as plt\n",
    "import numpy.random as rng\n",
    "\n",
    "import matplotlib.animation as ani\n",
    "from IPython.display import HTML\n",
    "\n",
    "plt.set_cmap('Blues')"
   ]
  },
  {
   "cell_type": "code",
   "execution_count": null,
   "metadata": {},
   "outputs": [],
   "source": [
    "def glider(A, iR,iC):\n",
    "    A[iR  ,iC-2] += 1\n",
    "    A[iR  ,iC-1] += 1\n",
    "    A[iR  ,iC  ] += 1\n",
    "    A[iR-1,iC  ] += 1\n",
    "    A[iR-2,iC-1] += 1"
   ]
  },
  {
   "cell_type": "code",
   "execution_count": null,
   "metadata": {},
   "outputs": [],
   "source": [
    "nR,nC = 8,8\n",
    "\n",
    "A = np.zeros( [nR,nC], dtype=int)\n",
    "\n",
    "glider(A, 4,4)\n",
    "\n",
    "plt.imshow(A)"
   ]
  },
  {
   "cell_type": "markdown",
   "metadata": {
    "slideshow": {
     "slide_type": "slide"
    }
   },
   "source": [
    "# Animation\n",
    "\n",
    "Upon completion of the GoL simulation you should have a 3D `numpy` array called `MOVIE` with  $nR$ rows, $nC$ columns, and nSteps slices. \n",
    "\n",
    "The following demonstrates how to animate a 3D array - in this case, we will simply add random numbers at various steps. "
   ]
  },
  {
   "cell_type": "code",
   "execution_count": null,
   "metadata": {
    "slideshow": {
     "slide_type": "slide"
    }
   },
   "outputs": [],
   "source": [
    "nR = 31\n",
    "nC = 31\n",
    "nT = 101\n",
    "\n",
    "MOVIE = np.zeros( [nR,nC,nT], dtype=int)\n",
    "\n",
    "for iT in range(nT-1):\n",
    "    iR = rng.randint(1,nR-1)\n",
    "    iC = rng.randint(1,nC-1)\n",
    "    MOVIE[iR,iC,iT] = 1"
   ]
  },
  {
   "cell_type": "code",
   "execution_count": null,
   "metadata": {
    "slideshow": {
     "slide_type": "slide"
    }
   },
   "outputs": [],
   "source": [
    "golFig = plt.figure(figsize=(5,5)); # create figure\n",
    "\n",
    "golPlot = plt.imshow(MOVIE[:,:,0]);   # make a plot\n",
    "plt.axis('off');"
   ]
  },
  {
   "cell_type": "code",
   "execution_count": null,
   "metadata": {
    "slideshow": {
     "slide_type": "slide"
    }
   },
   "outputs": [],
   "source": [
    "# define animation function\n",
    "def golAnimate(i, MOVIE, golP):\n",
    "    golP.set_data( MOVIE[:,:,i] )\n",
    "    plt.axis('off')"
   ]
  },
  {
   "cell_type": "code",
   "execution_count": null,
   "metadata": {
    "slideshow": {
     "slide_type": "slide"
    }
   },
   "outputs": [],
   "source": [
    "# create inline animation\n",
    "golMovie = ani.FuncAnimation(fig    = golFig, \n",
    "                             func   = golAnimate, \n",
    "                             frames = nT,\n",
    "                             fargs  = (MOVIE,golPlot)\n",
    "                             );\n",
    "\n",
    "HTML(golMovie.to_jshtml())       # Java script version (don't use on RPi)\n",
    "# HTML(rawkMovie.to_html5_video()) # HTML 5 (use on RPi)"
   ]
  },
  {
   "cell_type": "markdown",
   "metadata": {
    "slideshow": {
     "slide_type": "slide"
    }
   },
   "source": [
    "# Extra credit\n",
    "\n",
    "Implement the logic of this exercise using more than 2 universes.\n",
    "\n",
    "Pass information in both directions between two communicating universes."
   ]
  },
  {
   "cell_type": "markdown",
   "metadata": {
    "slideshow": {
     "slide_type": "skip"
    }
   },
   "source": [
    "# Post lab\n",
    "\n",
    "<img src=\"http://www.dropbox.com/s/fcucolyuzdjl80k/todo.jpg?raw=1\" width=\"10%\" align=\"right\">\n",
    "\n",
    "Before you submit the lab, make sure everything works as you expect by restarting the kernel: select **Kernel > Restart & Run All**.\n",
    "\n",
    "Answer the following questions.\n",
    "\n",
    "1. What elements of this lab did you find easy/challenging?\n",
    "    * Your answer here\n",
    "2. What did you like/dislike about this lab?\n",
    "    * Your answer here\n",
    "3. If you did anything worthy of extra credit, tell us about it here!\n",
    "    * Your answer here"
   ]
  },
  {
   "cell_type": "markdown",
   "metadata": {
    "slideshow": {
     "slide_type": "skip"
    }
   },
   "source": [
    "# Submit\n",
    "* Make sure to update your name and department in the top markdown cell.\n",
    "\n",
    "* Rename the Jupyter notebook with the following convention:\n",
    "**SL?-FirstLast.ipynb** (replace ? with the lab number)\n",
    "\n",
    "* Turn in your Jupyter notebook on Canvas. Email submissions don't count."
   ]
  },
  {
   "cell_type": "markdown",
   "metadata": {
    "slideshow": {
     "slide_type": "slide"
    }
   },
   "source": [
    "# Honor code\n",
    "Unless explicitly specified, labs are **individual exercises**. Your submission is subject to the [**Mines Honor Code**](http://inside.mines.edu/~epoeter/_GW/CSMHonorCodeUndergradHandbook.pdf)."
   ]
  }
 ],
 "metadata": {
  "celltoolbar": "Slideshow",
  "kernelspec": {
   "display_name": "Python 3",
   "language": "python",
   "name": "python3"
  },
  "language_info": {
   "codemirror_mode": {
    "name": "ipython",
    "version": 3
   },
   "file_extension": ".py",
   "mimetype": "text/x-python",
   "name": "python",
   "nbconvert_exporter": "python",
   "pygments_lexer": "ipython3",
   "version": "3.8.3"
  },
  "varInspector": {
   "cols": {
    "lenName": 16,
    "lenType": 16,
    "lenVar": 40
   },
   "kernels_config": {
    "python": {
     "delete_cmd_postfix": "",
     "delete_cmd_prefix": "del ",
     "library": "var_list.py",
     "varRefreshCmd": "print(var_dic_list())"
    },
    "r": {
     "delete_cmd_postfix": ") ",
     "delete_cmd_prefix": "rm(",
     "library": "var_list.r",
     "varRefreshCmd": "cat(var_dic_list()) "
    }
   },
   "types_to_exclude": [
    "module",
    "function",
    "builtin_function_or_method",
    "instance",
    "_Feature"
   ],
   "window_display": false
  }
 },
 "nbformat": 4,
 "nbformat_minor": 4
}
