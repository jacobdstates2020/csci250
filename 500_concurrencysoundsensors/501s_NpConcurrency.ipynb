{
 "cells": [
  {
   "cell_type": "markdown",
   "metadata": {
    "slideshow": {
     "slide_type": "slide"
    }
   },
   "source": [
    "<img src=\"https://www.mines.edu/webcentral/wp-content/uploads/sites/267/2019/02/horizontallightbackground.jpg\" width=\"100%\"> \n",
    "### CSCI250 Python Computing: Building a Sensor System\n",
    "<hr style=\"height:5px\" width=\"100%\" align=\"left\">\n",
    "\n",
    "# Concurrent code execution"
   ]
  },
  {
   "cell_type": "markdown",
   "metadata": {
    "slideshow": {
     "slide_type": "slide"
    }
   },
   "source": [
    "# Objective\n",
    "* introduce concurrent code execution\n",
    "* use Python threads\n",
    "* use Python queues"
   ]
  },
  {
   "cell_type": "markdown",
   "metadata": {
    "slideshow": {
     "slide_type": "slide"
    }
   },
   "source": [
    "# Resources\n",
    "* [Python threading](https://docs.python.org/3/library/threading.html)\n",
    "* [Python queuing](https://docs.python.org/3/library/queue.html)"
   ]
  },
  {
   "cell_type": "markdown",
   "metadata": {
    "slideshow": {
     "slide_type": "slide"
    }
   },
   "source": [
    "# Definition\n",
    "\n",
    "**Concurrency** means that \n",
    "* multiple tasks are executed within the same time frame\n",
    "* the tasks are unrelated and may be dependent on one-another"
   ]
  },
  {
   "cell_type": "code",
   "execution_count": 1,
   "metadata": {
    "slideshow": {
     "slide_type": "slide"
    }
   },
   "outputs": [],
   "source": [
    "import numpy as np\n",
    "import matplotlib.pyplot as plt\n",
    "import time, threading, queue"
   ]
  },
  {
   "cell_type": "markdown",
   "metadata": {
    "slideshow": {
     "slide_type": "slide"
    }
   },
   "source": [
    "# `threading` module\n",
    "\n",
    "Implements a system that enables execution in concurrent threads.\n",
    "\n",
    "**Threads** use code sequences executed independently.\n",
    "\n",
    "`threading` functions provide access to thread information."
   ]
  },
  {
   "cell_type": "code",
   "execution_count": 2,
   "metadata": {},
   "outputs": [
    {
     "name": "stdout",
     "output_type": "stream",
     "text": [
      "Help on module threading:\n",
      "\n",
      "NAME\n",
      "    threading - Thread module emulating a subset of Java's threading model.\n",
      "\n",
      "MODULE REFERENCE\n",
      "    https://docs.python.org/3.9/library/threading\n",
      "    \n",
      "    The following documentation is automatically generated from the Python\n",
      "    source files.  It may be incomplete, incorrect or include features that\n",
      "    are considered implementation detail and may vary between Python\n",
      "    implementations.  When in doubt, consult the module reference at the\n",
      "    location listed above.\n",
      "\n",
      "CLASSES\n",
      "    builtins.Exception(builtins.BaseException)\n",
      "        builtins.RuntimeError\n",
      "            BrokenBarrierError\n",
      "    builtins.object\n",
      "        _thread._local\n",
      "        Barrier\n",
      "        Condition\n",
      "        Event\n",
      "        Semaphore\n",
      "            BoundedSemaphore\n",
      "        Thread\n",
      "            Timer\n",
      "    builtins.tuple(builtins.object)\n",
      "        _thread.ExceptHookArgs\n",
      "    \n",
      "    class Barrier(builtins.object)\n",
      "     |  Barrier(parties, action=None, timeout=None)\n",
      "     |  \n",
      "     |  Implements a Barrier.\n",
      "     |  \n",
      "     |  Useful for synchronizing a fixed number of threads at known synchronization\n",
      "     |  points.  Threads block on 'wait()' and are simultaneously awoken once they\n",
      "     |  have all made that call.\n",
      "     |  \n",
      "     |  Methods defined here:\n",
      "     |  \n",
      "     |  __init__(self, parties, action=None, timeout=None)\n",
      "     |      Create a barrier, initialised to 'parties' threads.\n",
      "     |      \n",
      "     |      'action' is a callable which, when supplied, will be called by one of\n",
      "     |      the threads after they have all entered the barrier and just prior to\n",
      "     |      releasing them all. If a 'timeout' is provided, it is used as the\n",
      "     |      default for all subsequent 'wait()' calls.\n",
      "     |  \n",
      "     |  abort(self)\n",
      "     |      Place the barrier into a 'broken' state.\n",
      "     |      \n",
      "     |      Useful in case of error.  Any currently waiting threads and threads\n",
      "     |      attempting to 'wait()' will have BrokenBarrierError raised.\n",
      "     |  \n",
      "     |  reset(self)\n",
      "     |      Reset the barrier to the initial state.\n",
      "     |      \n",
      "     |      Any threads currently waiting will get the BrokenBarrier exception\n",
      "     |      raised.\n",
      "     |  \n",
      "     |  wait(self, timeout=None)\n",
      "     |      Wait for the barrier.\n",
      "     |      \n",
      "     |      When the specified number of threads have started waiting, they are all\n",
      "     |      simultaneously awoken. If an 'action' was provided for the barrier, one\n",
      "     |      of the threads will have executed that callback prior to returning.\n",
      "     |      Returns an individual index number from 0 to 'parties-1'.\n",
      "     |  \n",
      "     |  ----------------------------------------------------------------------\n",
      "     |  Readonly properties defined here:\n",
      "     |  \n",
      "     |  broken\n",
      "     |      Return True if the barrier is in a broken state.\n",
      "     |  \n",
      "     |  n_waiting\n",
      "     |      Return the number of threads currently waiting at the barrier.\n",
      "     |  \n",
      "     |  parties\n",
      "     |      Return the number of threads required to trip the barrier.\n",
      "     |  \n",
      "     |  ----------------------------------------------------------------------\n",
      "     |  Data descriptors defined here:\n",
      "     |  \n",
      "     |  __dict__\n",
      "     |      dictionary for instance variables (if defined)\n",
      "     |  \n",
      "     |  __weakref__\n",
      "     |      list of weak references to the object (if defined)\n",
      "    \n",
      "    class BoundedSemaphore(Semaphore)\n",
      "     |  BoundedSemaphore(value=1)\n",
      "     |  \n",
      "     |  Implements a bounded semaphore.\n",
      "     |  \n",
      "     |  A bounded semaphore checks to make sure its current value doesn't exceed its\n",
      "     |  initial value. If it does, ValueError is raised. In most situations\n",
      "     |  semaphores are used to guard resources with limited capacity.\n",
      "     |  \n",
      "     |  If the semaphore is released too many times it's a sign of a bug. If not\n",
      "     |  given, value defaults to 1.\n",
      "     |  \n",
      "     |  Like regular semaphores, bounded semaphores manage a counter representing\n",
      "     |  the number of release() calls minus the number of acquire() calls, plus an\n",
      "     |  initial value. The acquire() method blocks if necessary until it can return\n",
      "     |  without making the counter negative. If not given, value defaults to 1.\n",
      "     |  \n",
      "     |  Method resolution order:\n",
      "     |      BoundedSemaphore\n",
      "     |      Semaphore\n",
      "     |      builtins.object\n",
      "     |  \n",
      "     |  Methods defined here:\n",
      "     |  \n",
      "     |  __init__(self, value=1)\n",
      "     |      Initialize self.  See help(type(self)) for accurate signature.\n",
      "     |  \n",
      "     |  release(self, n=1)\n",
      "     |      Release a semaphore, incrementing the internal counter by one or more.\n",
      "     |      \n",
      "     |      When the counter is zero on entry and another thread is waiting for it\n",
      "     |      to become larger than zero again, wake up that thread.\n",
      "     |      \n",
      "     |      If the number of releases exceeds the number of acquires,\n",
      "     |      raise a ValueError.\n",
      "     |  \n",
      "     |  ----------------------------------------------------------------------\n",
      "     |  Methods inherited from Semaphore:\n",
      "     |  \n",
      "     |  __enter__ = acquire(self, blocking=True, timeout=None)\n",
      "     |  \n",
      "     |  __exit__(self, t, v, tb)\n",
      "     |  \n",
      "     |  acquire(self, blocking=True, timeout=None)\n",
      "     |      Acquire a semaphore, decrementing the internal counter by one.\n",
      "     |      \n",
      "     |      When invoked without arguments: if the internal counter is larger than\n",
      "     |      zero on entry, decrement it by one and return immediately. If it is zero\n",
      "     |      on entry, block, waiting until some other thread has called release() to\n",
      "     |      make it larger than zero. This is done with proper interlocking so that\n",
      "     |      if multiple acquire() calls are blocked, release() will wake exactly one\n",
      "     |      of them up. The implementation may pick one at random, so the order in\n",
      "     |      which blocked threads are awakened should not be relied on. There is no\n",
      "     |      return value in this case.\n",
      "     |      \n",
      "     |      When invoked with blocking set to true, do the same thing as when called\n",
      "     |      without arguments, and return true.\n",
      "     |      \n",
      "     |      When invoked with blocking set to false, do not block. If a call without\n",
      "     |      an argument would block, return false immediately; otherwise, do the\n",
      "     |      same thing as when called without arguments, and return true.\n",
      "     |      \n",
      "     |      When invoked with a timeout other than None, it will block for at\n",
      "     |      most timeout seconds.  If acquire does not complete successfully in\n",
      "     |      that interval, return false.  Return true otherwise.\n",
      "     |  \n",
      "     |  ----------------------------------------------------------------------\n",
      "     |  Data descriptors inherited from Semaphore:\n",
      "     |  \n",
      "     |  __dict__\n",
      "     |      dictionary for instance variables (if defined)\n",
      "     |  \n",
      "     |  __weakref__\n",
      "     |      list of weak references to the object (if defined)\n",
      "    \n",
      "    class BrokenBarrierError(builtins.RuntimeError)\n",
      "     |  # exception raised by the Barrier class\n",
      "     |  \n",
      "     |  Method resolution order:\n",
      "     |      BrokenBarrierError\n",
      "     |      builtins.RuntimeError\n",
      "     |      builtins.Exception\n",
      "     |      builtins.BaseException\n",
      "     |      builtins.object\n",
      "     |  \n",
      "     |  Data descriptors defined here:\n",
      "     |  \n",
      "     |  __weakref__\n",
      "     |      list of weak references to the object (if defined)\n",
      "     |  \n",
      "     |  ----------------------------------------------------------------------\n",
      "     |  Methods inherited from builtins.RuntimeError:\n",
      "     |  \n",
      "     |  __init__(self, /, *args, **kwargs)\n",
      "     |      Initialize self.  See help(type(self)) for accurate signature.\n",
      "     |  \n",
      "     |  ----------------------------------------------------------------------\n",
      "     |  Static methods inherited from builtins.RuntimeError:\n",
      "     |  \n",
      "     |  __new__(*args, **kwargs) from builtins.type\n",
      "     |      Create and return a new object.  See help(type) for accurate signature.\n",
      "     |  \n",
      "     |  ----------------------------------------------------------------------\n",
      "     |  Methods inherited from builtins.BaseException:\n",
      "     |  \n",
      "     |  __delattr__(self, name, /)\n",
      "     |      Implement delattr(self, name).\n",
      "     |  \n",
      "     |  __getattribute__(self, name, /)\n",
      "     |      Return getattr(self, name).\n",
      "     |  \n",
      "     |  __reduce__(...)\n",
      "     |      Helper for pickle.\n",
      "     |  \n",
      "     |  __repr__(self, /)\n",
      "     |      Return repr(self).\n",
      "     |  \n",
      "     |  __setattr__(self, name, value, /)\n",
      "     |      Implement setattr(self, name, value).\n",
      "     |  \n",
      "     |  __setstate__(...)\n",
      "     |  \n",
      "     |  __str__(self, /)\n",
      "     |      Return str(self).\n",
      "     |  \n",
      "     |  with_traceback(...)\n",
      "     |      Exception.with_traceback(tb) --\n",
      "     |      set self.__traceback__ to tb and return self.\n",
      "     |  \n",
      "     |  ----------------------------------------------------------------------\n",
      "     |  Data descriptors inherited from builtins.BaseException:\n",
      "     |  \n",
      "     |  __cause__\n",
      "     |      exception cause\n",
      "     |  \n",
      "     |  __context__\n",
      "     |      exception context\n",
      "     |  \n",
      "     |  __dict__\n",
      "     |  \n",
      "     |  __suppress_context__\n",
      "     |  \n",
      "     |  __traceback__\n",
      "     |  \n",
      "     |  args\n",
      "    \n",
      "    class Condition(builtins.object)\n",
      "     |  Condition(lock=None)\n",
      "     |  \n",
      "     |  Class that implements a condition variable.\n",
      "     |  \n",
      "     |  A condition variable allows one or more threads to wait until they are\n",
      "     |  notified by another thread.\n",
      "     |  \n",
      "     |  If the lock argument is given and not None, it must be a Lock or RLock\n",
      "     |  object, and it is used as the underlying lock. Otherwise, a new RLock object\n",
      "     |  is created and used as the underlying lock.\n",
      "     |  \n",
      "     |  Methods defined here:\n",
      "     |  \n",
      "     |  __enter__(self)\n",
      "     |  \n",
      "     |  __exit__(self, *args)\n",
      "     |  \n",
      "     |  __init__(self, lock=None)\n",
      "     |      Initialize self.  See help(type(self)) for accurate signature.\n",
      "     |  \n",
      "     |  __repr__(self)\n",
      "     |      Return repr(self).\n",
      "     |  \n",
      "     |  notify(self, n=1)\n",
      "     |      Wake up one or more threads waiting on this condition, if any.\n",
      "     |      \n",
      "     |      If the calling thread has not acquired the lock when this method is\n",
      "     |      called, a RuntimeError is raised.\n",
      "     |      \n",
      "     |      This method wakes up at most n of the threads waiting for the condition\n",
      "     |      variable; it is a no-op if no threads are waiting.\n",
      "     |  \n",
      "     |  notifyAll = notify_all(self)\n",
      "     |  \n",
      "     |  notify_all(self)\n",
      "     |      Wake up all threads waiting on this condition.\n",
      "     |      \n",
      "     |      If the calling thread has not acquired the lock when this method\n",
      "     |      is called, a RuntimeError is raised.\n",
      "     |  \n",
      "     |  wait(self, timeout=None)\n",
      "     |      Wait until notified or until a timeout occurs.\n",
      "     |      \n",
      "     |      If the calling thread has not acquired the lock when this method is\n",
      "     |      called, a RuntimeError is raised.\n",
      "     |      \n",
      "     |      This method releases the underlying lock, and then blocks until it is\n",
      "     |      awakened by a notify() or notify_all() call for the same condition\n",
      "     |      variable in another thread, or until the optional timeout occurs. Once\n",
      "     |      awakened or timed out, it re-acquires the lock and returns.\n",
      "     |      \n",
      "     |      When the timeout argument is present and not None, it should be a\n",
      "     |      floating point number specifying a timeout for the operation in seconds\n",
      "     |      (or fractions thereof).\n",
      "     |      \n",
      "     |      When the underlying lock is an RLock, it is not released using its\n",
      "     |      release() method, since this may not actually unlock the lock when it\n",
      "     |      was acquired multiple times recursively. Instead, an internal interface\n",
      "     |      of the RLock class is used, which really unlocks it even when it has\n",
      "     |      been recursively acquired several times. Another internal interface is\n",
      "     |      then used to restore the recursion level when the lock is reacquired.\n",
      "     |  \n",
      "     |  wait_for(self, predicate, timeout=None)\n",
      "     |      Wait until a condition evaluates to True.\n",
      "     |      \n",
      "     |      predicate should be a callable which result will be interpreted as a\n",
      "     |      boolean value.  A timeout may be provided giving the maximum time to\n",
      "     |      wait.\n",
      "     |  \n",
      "     |  ----------------------------------------------------------------------\n",
      "     |  Data descriptors defined here:\n",
      "     |  \n",
      "     |  __dict__\n",
      "     |      dictionary for instance variables (if defined)\n",
      "     |  \n",
      "     |  __weakref__\n",
      "     |      list of weak references to the object (if defined)\n",
      "    \n",
      "    class Event(builtins.object)\n",
      "     |  Class implementing event objects.\n",
      "     |  \n",
      "     |  Events manage a flag that can be set to true with the set() method and reset\n",
      "     |  to false with the clear() method. The wait() method blocks until the flag is\n",
      "     |  true.  The flag is initially false.\n",
      "     |  \n",
      "     |  Methods defined here:\n",
      "     |  \n",
      "     |  __init__(self)\n",
      "     |      Initialize self.  See help(type(self)) for accurate signature.\n",
      "     |  \n",
      "     |  clear(self)\n",
      "     |      Reset the internal flag to false.\n",
      "     |      \n",
      "     |      Subsequently, threads calling wait() will block until set() is called to\n",
      "     |      set the internal flag to true again.\n",
      "     |  \n",
      "     |  isSet = is_set(self)\n",
      "     |  \n",
      "     |  is_set(self)\n",
      "     |      Return true if and only if the internal flag is true.\n",
      "     |  \n",
      "     |  set(self)\n",
      "     |      Set the internal flag to true.\n",
      "     |      \n",
      "     |      All threads waiting for it to become true are awakened. Threads\n",
      "     |      that call wait() once the flag is true will not block at all.\n",
      "     |  \n",
      "     |  wait(self, timeout=None)\n",
      "     |      Block until the internal flag is true.\n",
      "     |      \n",
      "     |      If the internal flag is true on entry, return immediately. Otherwise,\n",
      "     |      block until another thread calls set() to set the flag to true, or until\n",
      "     |      the optional timeout occurs.\n",
      "     |      \n",
      "     |      When the timeout argument is present and not None, it should be a\n",
      "     |      floating point number specifying a timeout for the operation in seconds\n",
      "     |      (or fractions thereof).\n",
      "     |      \n",
      "     |      This method returns the internal flag on exit, so it will always return\n",
      "     |      True except if a timeout is given and the operation times out.\n",
      "     |  \n",
      "     |  ----------------------------------------------------------------------\n",
      "     |  Data descriptors defined here:\n",
      "     |  \n",
      "     |  __dict__\n",
      "     |      dictionary for instance variables (if defined)\n",
      "     |  \n",
      "     |  __weakref__\n",
      "     |      list of weak references to the object (if defined)\n",
      "    \n",
      "    class ExceptHookArgs(builtins.tuple)\n",
      "     |  ExceptHookArgs(iterable=(), /)\n",
      "     |  \n",
      "     |  ExceptHookArgs\n",
      "     |  \n",
      "     |  Type used to pass arguments to threading.excepthook.\n",
      "     |  \n",
      "     |  Method resolution order:\n",
      "     |      ExceptHookArgs\n",
      "     |      builtins.tuple\n",
      "     |      builtins.object\n",
      "     |  \n",
      "     |  Methods defined here:\n",
      "     |  \n",
      "     |  __reduce__(...)\n",
      "     |      Helper for pickle.\n",
      "     |  \n",
      "     |  __repr__(self, /)\n",
      "     |      Return repr(self).\n",
      "     |  \n",
      "     |  ----------------------------------------------------------------------\n",
      "     |  Static methods defined here:\n",
      "     |  \n",
      "     |  __new__(*args, **kwargs) from builtins.type\n",
      "     |      Create and return a new object.  See help(type) for accurate signature.\n",
      "     |  \n",
      "     |  ----------------------------------------------------------------------\n",
      "     |  Data descriptors defined here:\n",
      "     |  \n",
      "     |  exc_traceback\n",
      "     |      Exception traceback\n",
      "     |  \n",
      "     |  exc_type\n",
      "     |      Exception type\n",
      "     |  \n",
      "     |  exc_value\n",
      "     |      Exception value\n",
      "     |  \n",
      "     |  thread\n",
      "     |      Thread\n",
      "     |  \n",
      "     |  ----------------------------------------------------------------------\n",
      "     |  Data and other attributes defined here:\n",
      "     |  \n",
      "     |  n_fields = 4\n",
      "     |  \n",
      "     |  n_sequence_fields = 4\n",
      "     |  \n",
      "     |  n_unnamed_fields = 0\n",
      "     |  \n",
      "     |  ----------------------------------------------------------------------\n",
      "     |  Methods inherited from builtins.tuple:\n",
      "     |  \n",
      "     |  __add__(self, value, /)\n",
      "     |      Return self+value.\n",
      "     |  \n",
      "     |  __contains__(self, key, /)\n",
      "     |      Return key in self.\n",
      "     |  \n",
      "     |  __eq__(self, value, /)\n",
      "     |      Return self==value.\n",
      "     |  \n",
      "     |  __ge__(self, value, /)\n",
      "     |      Return self>=value.\n",
      "     |  \n",
      "     |  __getattribute__(self, name, /)\n",
      "     |      Return getattr(self, name).\n",
      "     |  \n",
      "     |  __getitem__(self, key, /)\n",
      "     |      Return self[key].\n",
      "     |  \n",
      "     |  __getnewargs__(self, /)\n",
      "     |  \n",
      "     |  __gt__(self, value, /)\n",
      "     |      Return self>value.\n",
      "     |  \n",
      "     |  __hash__(self, /)\n",
      "     |      Return hash(self).\n",
      "     |  \n",
      "     |  __iter__(self, /)\n",
      "     |      Implement iter(self).\n",
      "     |  \n",
      "     |  __le__(self, value, /)\n",
      "     |      Return self<=value.\n",
      "     |  \n",
      "     |  __len__(self, /)\n",
      "     |      Return len(self).\n",
      "     |  \n",
      "     |  __lt__(self, value, /)\n",
      "     |      Return self<value.\n",
      "     |  \n",
      "     |  __mul__(self, value, /)\n",
      "     |      Return self*value.\n",
      "     |  \n",
      "     |  __ne__(self, value, /)\n",
      "     |      Return self!=value.\n",
      "     |  \n",
      "     |  __rmul__(self, value, /)\n",
      "     |      Return value*self.\n",
      "     |  \n",
      "     |  count(self, value, /)\n",
      "     |      Return number of occurrences of value.\n",
      "     |  \n",
      "     |  index(self, value, start=0, stop=2147483647, /)\n",
      "     |      Return first index of value.\n",
      "     |      \n",
      "     |      Raises ValueError if the value is not present.\n",
      "     |  \n",
      "     |  ----------------------------------------------------------------------\n",
      "     |  Class methods inherited from builtins.tuple:\n",
      "     |  \n",
      "     |  __class_getitem__(...) from builtins.type\n",
      "     |      See PEP 585\n",
      "    \n",
      "    class Semaphore(builtins.object)\n",
      "     |  Semaphore(value=1)\n",
      "     |  \n",
      "     |  This class implements semaphore objects.\n",
      "     |  \n",
      "     |  Semaphores manage a counter representing the number of release() calls minus\n",
      "     |  the number of acquire() calls, plus an initial value. The acquire() method\n",
      "     |  blocks if necessary until it can return without making the counter\n",
      "     |  negative. If not given, value defaults to 1.\n",
      "     |  \n",
      "     |  Methods defined here:\n",
      "     |  \n",
      "     |  __enter__ = acquire(self, blocking=True, timeout=None)\n",
      "     |  \n",
      "     |  __exit__(self, t, v, tb)\n",
      "     |  \n",
      "     |  __init__(self, value=1)\n",
      "     |      Initialize self.  See help(type(self)) for accurate signature.\n",
      "     |  \n",
      "     |  acquire(self, blocking=True, timeout=None)\n",
      "     |      Acquire a semaphore, decrementing the internal counter by one.\n",
      "     |      \n",
      "     |      When invoked without arguments: if the internal counter is larger than\n",
      "     |      zero on entry, decrement it by one and return immediately. If it is zero\n",
      "     |      on entry, block, waiting until some other thread has called release() to\n",
      "     |      make it larger than zero. This is done with proper interlocking so that\n",
      "     |      if multiple acquire() calls are blocked, release() will wake exactly one\n",
      "     |      of them up. The implementation may pick one at random, so the order in\n",
      "     |      which blocked threads are awakened should not be relied on. There is no\n",
      "     |      return value in this case.\n",
      "     |      \n",
      "     |      When invoked with blocking set to true, do the same thing as when called\n",
      "     |      without arguments, and return true.\n",
      "     |      \n",
      "     |      When invoked with blocking set to false, do not block. If a call without\n",
      "     |      an argument would block, return false immediately; otherwise, do the\n",
      "     |      same thing as when called without arguments, and return true.\n",
      "     |      \n",
      "     |      When invoked with a timeout other than None, it will block for at\n",
      "     |      most timeout seconds.  If acquire does not complete successfully in\n",
      "     |      that interval, return false.  Return true otherwise.\n",
      "     |  \n",
      "     |  release(self, n=1)\n",
      "     |      Release a semaphore, incrementing the internal counter by one or more.\n",
      "     |      \n",
      "     |      When the counter is zero on entry and another thread is waiting for it\n",
      "     |      to become larger than zero again, wake up that thread.\n",
      "     |  \n",
      "     |  ----------------------------------------------------------------------\n",
      "     |  Data descriptors defined here:\n",
      "     |  \n",
      "     |  __dict__\n",
      "     |      dictionary for instance variables (if defined)\n",
      "     |  \n",
      "     |  __weakref__\n",
      "     |      list of weak references to the object (if defined)\n",
      "    \n",
      "    class Thread(builtins.object)\n",
      "     |  Thread(group=None, target=None, name=None, args=(), kwargs=None, *, daemon=None)\n",
      "     |  \n",
      "     |  A class that represents a thread of control.\n",
      "     |  \n",
      "     |  This class can be safely subclassed in a limited fashion. There are two ways\n",
      "     |  to specify the activity: by passing a callable object to the constructor, or\n",
      "     |  by overriding the run() method in a subclass.\n",
      "     |  \n",
      "     |  Methods defined here:\n",
      "     |  \n",
      "     |  __init__(self, group=None, target=None, name=None, args=(), kwargs=None, *, daemon=None)\n",
      "     |      This constructor should always be called with keyword arguments. Arguments are:\n",
      "     |      \n",
      "     |      *group* should be None; reserved for future extension when a ThreadGroup\n",
      "     |      class is implemented.\n",
      "     |      \n",
      "     |      *target* is the callable object to be invoked by the run()\n",
      "     |      method. Defaults to None, meaning nothing is called.\n",
      "     |      \n",
      "     |      *name* is the thread name. By default, a unique name is constructed of\n",
      "     |      the form \"Thread-N\" where N is a small decimal number.\n",
      "     |      \n",
      "     |      *args* is the argument tuple for the target invocation. Defaults to ().\n",
      "     |      \n",
      "     |      *kwargs* is a dictionary of keyword arguments for the target\n",
      "     |      invocation. Defaults to {}.\n",
      "     |      \n",
      "     |      If a subclass overrides the constructor, it must make sure to invoke\n",
      "     |      the base class constructor (Thread.__init__()) before doing anything\n",
      "     |      else to the thread.\n",
      "     |  \n",
      "     |  __repr__(self)\n",
      "     |      Return repr(self).\n",
      "     |  \n",
      "     |  getName(self)\n",
      "     |  \n",
      "     |  isDaemon(self)\n",
      "     |  \n",
      "     |  is_alive(self)\n",
      "     |      Return whether the thread is alive.\n",
      "     |      \n",
      "     |      This method returns True just before the run() method starts until just\n",
      "     |      after the run() method terminates. The module function enumerate()\n",
      "     |      returns a list of all alive threads.\n",
      "     |  \n",
      "     |  join(self, timeout=None)\n",
      "     |      Wait until the thread terminates.\n",
      "     |      \n",
      "     |      This blocks the calling thread until the thread whose join() method is\n",
      "     |      called terminates -- either normally or through an unhandled exception\n",
      "     |      or until the optional timeout occurs.\n",
      "     |      \n",
      "     |      When the timeout argument is present and not None, it should be a\n",
      "     |      floating point number specifying a timeout for the operation in seconds\n",
      "     |      (or fractions thereof). As join() always returns None, you must call\n",
      "     |      is_alive() after join() to decide whether a timeout happened -- if the\n",
      "     |      thread is still alive, the join() call timed out.\n",
      "     |      \n",
      "     |      When the timeout argument is not present or None, the operation will\n",
      "     |      block until the thread terminates.\n",
      "     |      \n",
      "     |      A thread can be join()ed many times.\n",
      "     |      \n",
      "     |      join() raises a RuntimeError if an attempt is made to join the current\n",
      "     |      thread as that would cause a deadlock. It is also an error to join() a\n",
      "     |      thread before it has been started and attempts to do so raises the same\n",
      "     |      exception.\n",
      "     |  \n",
      "     |  run(self)\n",
      "     |      Method representing the thread's activity.\n",
      "     |      \n",
      "     |      You may override this method in a subclass. The standard run() method\n",
      "     |      invokes the callable object passed to the object's constructor as the\n",
      "     |      target argument, if any, with sequential and keyword arguments taken\n",
      "     |      from the args and kwargs arguments, respectively.\n",
      "     |  \n",
      "     |  setDaemon(self, daemonic)\n",
      "     |  \n",
      "     |  setName(self, name)\n",
      "     |  \n",
      "     |  start(self)\n",
      "     |      Start the thread's activity.\n",
      "     |      \n",
      "     |      It must be called at most once per thread object. It arranges for the\n",
      "     |      object's run() method to be invoked in a separate thread of control.\n",
      "     |      \n",
      "     |      This method will raise a RuntimeError if called more than once on the\n",
      "     |      same thread object.\n",
      "     |  \n",
      "     |  ----------------------------------------------------------------------\n",
      "     |  Readonly properties defined here:\n",
      "     |  \n",
      "     |  ident\n",
      "     |      Thread identifier of this thread or None if it has not been started.\n",
      "     |      \n",
      "     |      This is a nonzero integer. See the get_ident() function. Thread\n",
      "     |      identifiers may be recycled when a thread exits and another thread is\n",
      "     |      created. The identifier is available even after the thread has exited.\n",
      "     |  \n",
      "     |  native_id\n",
      "     |      Native integral thread ID of this thread, or None if it has not been started.\n",
      "     |      \n",
      "     |      This is a non-negative integer. See the get_native_id() function.\n",
      "     |      This represents the Thread ID as reported by the kernel.\n",
      "     |  \n",
      "     |  ----------------------------------------------------------------------\n",
      "     |  Data descriptors defined here:\n",
      "     |  \n",
      "     |  __dict__\n",
      "     |      dictionary for instance variables (if defined)\n",
      "     |  \n",
      "     |  __weakref__\n",
      "     |      list of weak references to the object (if defined)\n",
      "     |  \n",
      "     |  daemon\n",
      "     |      A boolean value indicating whether this thread is a daemon thread.\n",
      "     |      \n",
      "     |      This must be set before start() is called, otherwise RuntimeError is\n",
      "     |      raised. Its initial value is inherited from the creating thread; the\n",
      "     |      main thread is not a daemon thread and therefore all threads created in\n",
      "     |      the main thread default to daemon = False.\n",
      "     |      \n",
      "     |      The entire Python program exits when only daemon threads are left.\n",
      "     |  \n",
      "     |  name\n",
      "     |      A string used for identification purposes only.\n",
      "     |      \n",
      "     |      It has no semantics. Multiple threads may be given the same name. The\n",
      "     |      initial name is set by the constructor.\n",
      "    \n",
      "    ThreadError = class RuntimeError(Exception)\n",
      "     |  Unspecified run-time error.\n",
      "     |  \n",
      "     |  Method resolution order:\n",
      "     |      RuntimeError\n",
      "     |      Exception\n",
      "     |      BaseException\n",
      "     |      object\n",
      "     |  \n",
      "     |  Built-in subclasses:\n",
      "     |      NotImplementedError\n",
      "     |      RecursionError\n",
      "     |  \n",
      "     |  Methods defined here:\n",
      "     |  \n",
      "     |  __init__(self, /, *args, **kwargs)\n",
      "     |      Initialize self.  See help(type(self)) for accurate signature.\n",
      "     |  \n",
      "     |  ----------------------------------------------------------------------\n",
      "     |  Static methods defined here:\n",
      "     |  \n",
      "     |  __new__(*args, **kwargs) from builtins.type\n",
      "     |      Create and return a new object.  See help(type) for accurate signature.\n",
      "     |  \n",
      "     |  ----------------------------------------------------------------------\n",
      "     |  Methods inherited from BaseException:\n",
      "     |  \n",
      "     |  __delattr__(self, name, /)\n",
      "     |      Implement delattr(self, name).\n",
      "     |  \n",
      "     |  __getattribute__(self, name, /)\n",
      "     |      Return getattr(self, name).\n",
      "     |  \n",
      "     |  __reduce__(...)\n",
      "     |      Helper for pickle.\n",
      "     |  \n",
      "     |  __repr__(self, /)\n",
      "     |      Return repr(self).\n",
      "     |  \n",
      "     |  __setattr__(self, name, value, /)\n",
      "     |      Implement setattr(self, name, value).\n",
      "     |  \n",
      "     |  __setstate__(...)\n",
      "     |  \n",
      "     |  __str__(self, /)\n",
      "     |      Return str(self).\n",
      "     |  \n",
      "     |  with_traceback(...)\n",
      "     |      Exception.with_traceback(tb) --\n",
      "     |      set self.__traceback__ to tb and return self.\n",
      "     |  \n",
      "     |  ----------------------------------------------------------------------\n",
      "     |  Data descriptors inherited from BaseException:\n",
      "     |  \n",
      "     |  __cause__\n",
      "     |      exception cause\n",
      "     |  \n",
      "     |  __context__\n",
      "     |      exception context\n",
      "     |  \n",
      "     |  __dict__\n",
      "     |  \n",
      "     |  __suppress_context__\n",
      "     |  \n",
      "     |  __traceback__\n",
      "     |  \n",
      "     |  args\n",
      "    \n",
      "    class Timer(Thread)\n",
      "     |  Timer(interval, function, args=None, kwargs=None)\n",
      "     |  \n",
      "     |  Call a function after a specified number of seconds:\n",
      "     |  \n",
      "     |  t = Timer(30.0, f, args=None, kwargs=None)\n",
      "     |  t.start()\n",
      "     |  t.cancel()     # stop the timer's action if it's still waiting\n",
      "     |  \n",
      "     |  Method resolution order:\n",
      "     |      Timer\n",
      "     |      Thread\n",
      "     |      builtins.object\n",
      "     |  \n",
      "     |  Methods defined here:\n",
      "     |  \n",
      "     |  __init__(self, interval, function, args=None, kwargs=None)\n",
      "     |      This constructor should always be called with keyword arguments. Arguments are:\n",
      "     |      \n",
      "     |      *group* should be None; reserved for future extension when a ThreadGroup\n",
      "     |      class is implemented.\n",
      "     |      \n",
      "     |      *target* is the callable object to be invoked by the run()\n",
      "     |      method. Defaults to None, meaning nothing is called.\n",
      "     |      \n",
      "     |      *name* is the thread name. By default, a unique name is constructed of\n",
      "     |      the form \"Thread-N\" where N is a small decimal number.\n",
      "     |      \n",
      "     |      *args* is the argument tuple for the target invocation. Defaults to ().\n",
      "     |      \n",
      "     |      *kwargs* is a dictionary of keyword arguments for the target\n",
      "     |      invocation. Defaults to {}.\n",
      "     |      \n",
      "     |      If a subclass overrides the constructor, it must make sure to invoke\n",
      "     |      the base class constructor (Thread.__init__()) before doing anything\n",
      "     |      else to the thread.\n",
      "     |  \n",
      "     |  cancel(self)\n",
      "     |      Stop the timer if it hasn't finished yet.\n",
      "     |  \n",
      "     |  run(self)\n",
      "     |      Method representing the thread's activity.\n",
      "     |      \n",
      "     |      You may override this method in a subclass. The standard run() method\n",
      "     |      invokes the callable object passed to the object's constructor as the\n",
      "     |      target argument, if any, with sequential and keyword arguments taken\n",
      "     |      from the args and kwargs arguments, respectively.\n",
      "     |  \n",
      "     |  ----------------------------------------------------------------------\n",
      "     |  Methods inherited from Thread:\n",
      "     |  \n",
      "     |  __repr__(self)\n",
      "     |      Return repr(self).\n",
      "     |  \n",
      "     |  getName(self)\n",
      "     |  \n",
      "     |  isDaemon(self)\n",
      "     |  \n",
      "     |  is_alive(self)\n",
      "     |      Return whether the thread is alive.\n",
      "     |      \n",
      "     |      This method returns True just before the run() method starts until just\n",
      "     |      after the run() method terminates. The module function enumerate()\n",
      "     |      returns a list of all alive threads.\n",
      "     |  \n",
      "     |  join(self, timeout=None)\n",
      "     |      Wait until the thread terminates.\n",
      "     |      \n",
      "     |      This blocks the calling thread until the thread whose join() method is\n",
      "     |      called terminates -- either normally or through an unhandled exception\n",
      "     |      or until the optional timeout occurs.\n",
      "     |      \n",
      "     |      When the timeout argument is present and not None, it should be a\n",
      "     |      floating point number specifying a timeout for the operation in seconds\n",
      "     |      (or fractions thereof). As join() always returns None, you must call\n",
      "     |      is_alive() after join() to decide whether a timeout happened -- if the\n",
      "     |      thread is still alive, the join() call timed out.\n",
      "     |      \n",
      "     |      When the timeout argument is not present or None, the operation will\n",
      "     |      block until the thread terminates.\n",
      "     |      \n",
      "     |      A thread can be join()ed many times.\n",
      "     |      \n",
      "     |      join() raises a RuntimeError if an attempt is made to join the current\n",
      "     |      thread as that would cause a deadlock. It is also an error to join() a\n",
      "     |      thread before it has been started and attempts to do so raises the same\n",
      "     |      exception.\n",
      "     |  \n",
      "     |  setDaemon(self, daemonic)\n",
      "     |  \n",
      "     |  setName(self, name)\n",
      "     |  \n",
      "     |  start(self)\n",
      "     |      Start the thread's activity.\n",
      "     |      \n",
      "     |      It must be called at most once per thread object. It arranges for the\n",
      "     |      object's run() method to be invoked in a separate thread of control.\n",
      "     |      \n",
      "     |      This method will raise a RuntimeError if called more than once on the\n",
      "     |      same thread object.\n",
      "     |  \n",
      "     |  ----------------------------------------------------------------------\n",
      "     |  Readonly properties inherited from Thread:\n",
      "     |  \n",
      "     |  ident\n",
      "     |      Thread identifier of this thread or None if it has not been started.\n",
      "     |      \n",
      "     |      This is a nonzero integer. See the get_ident() function. Thread\n",
      "     |      identifiers may be recycled when a thread exits and another thread is\n",
      "     |      created. The identifier is available even after the thread has exited.\n",
      "     |  \n",
      "     |  native_id\n",
      "     |      Native integral thread ID of this thread, or None if it has not been started.\n",
      "     |      \n",
      "     |      This is a non-negative integer. See the get_native_id() function.\n",
      "     |      This represents the Thread ID as reported by the kernel.\n",
      "     |  \n",
      "     |  ----------------------------------------------------------------------\n",
      "     |  Data descriptors inherited from Thread:\n",
      "     |  \n",
      "     |  __dict__\n",
      "     |      dictionary for instance variables (if defined)\n",
      "     |  \n",
      "     |  __weakref__\n",
      "     |      list of weak references to the object (if defined)\n",
      "     |  \n",
      "     |  daemon\n",
      "     |      A boolean value indicating whether this thread is a daemon thread.\n",
      "     |      \n",
      "     |      This must be set before start() is called, otherwise RuntimeError is\n",
      "     |      raised. Its initial value is inherited from the creating thread; the\n",
      "     |      main thread is not a daemon thread and therefore all threads created in\n",
      "     |      the main thread default to daemon = False.\n",
      "     |      \n",
      "     |      The entire Python program exits when only daemon threads are left.\n",
      "     |  \n",
      "     |  name\n",
      "     |      A string used for identification purposes only.\n",
      "     |      \n",
      "     |      It has no semantics. Multiple threads may be given the same name. The\n",
      "     |      initial name is set by the constructor.\n",
      "    \n",
      "    local = class _local(builtins.object)\n",
      "     |  Thread-local data\n",
      "     |  \n",
      "     |  Methods defined here:\n",
      "     |  \n",
      "     |  __delattr__(self, name, /)\n",
      "     |      Implement delattr(self, name).\n",
      "     |  \n",
      "     |  __getattribute__(self, name, /)\n",
      "     |      Return getattr(self, name).\n",
      "     |  \n",
      "     |  __setattr__(self, name, value, /)\n",
      "     |      Implement setattr(self, name, value).\n",
      "     |  \n",
      "     |  ----------------------------------------------------------------------\n",
      "     |  Static methods defined here:\n",
      "     |  \n",
      "     |  __new__(*args, **kwargs) from builtins.type\n",
      "     |      Create and return a new object.  See help(type) for accurate signature.\n",
      "\n",
      "FUNCTIONS\n",
      "    Lock = allocate_lock(...)\n",
      "        allocate_lock() -> lock object\n",
      "        (allocate() is an obsolete synonym)\n",
      "        \n",
      "        Create a new lock object. See help(type(threading.Lock())) for\n",
      "        information about locks.\n",
      "    \n",
      "    RLock(*args, **kwargs)\n",
      "        Factory function that returns a new reentrant lock.\n",
      "        \n",
      "        A reentrant lock must be released by the thread that acquired it. Once a\n",
      "        thread has acquired a reentrant lock, the same thread may acquire it again\n",
      "        without blocking; the thread must release it once for each time it has\n",
      "        acquired it.\n",
      "    \n",
      "    active_count()\n",
      "        Return the number of Thread objects currently alive.\n",
      "        \n",
      "        The returned count is equal to the length of the list returned by\n",
      "        enumerate().\n",
      "    \n",
      "    current_thread()\n",
      "        Return the current Thread object, corresponding to the caller's thread of control.\n",
      "        \n",
      "        If the caller's thread of control was not created through the threading\n",
      "        module, a dummy thread object with limited functionality is returned.\n",
      "    \n",
      "    enumerate()\n",
      "        Return a list of all Thread objects currently alive.\n",
      "        \n",
      "        The list includes daemonic threads, dummy thread objects created by\n",
      "        current_thread(), and the main thread. It excludes terminated threads and\n",
      "        threads that have not yet been started.\n",
      "    \n",
      "    excepthook = _excepthook(...)\n",
      "        excepthook(exc_type, exc_value, exc_traceback, thread)\n",
      "        \n",
      "        Handle uncaught Thread.run() exception.\n",
      "    \n",
      "    get_ident(...)\n",
      "        get_ident() -> integer\n",
      "        \n",
      "        Return a non-zero integer that uniquely identifies the current thread\n",
      "        amongst other threads that exist simultaneously.\n",
      "        This may be used to identify per-thread resources.\n",
      "        Even though on some platforms threads identities may appear to be\n",
      "        allocated consecutive numbers starting at 1, this behavior should not\n",
      "        be relied upon, and the number should be seen purely as a magic cookie.\n",
      "        A thread's identity may be reused for another thread after it exits.\n",
      "    \n",
      "    get_native_id(...)\n",
      "        get_native_id() -> integer\n",
      "        \n",
      "        Return a non-negative integer identifying the thread as reported\n",
      "        by the OS (kernel). This may be used to uniquely identify a\n",
      "        particular thread within a system.\n",
      "    \n",
      "    main_thread()\n",
      "        Return the main thread object.\n",
      "        \n",
      "        In normal conditions, the main thread is the thread from which the\n",
      "        Python interpreter was started.\n",
      "    \n",
      "    setprofile(func)\n",
      "        Set a profile function for all threads started from the threading module.\n",
      "        \n",
      "        The func will be passed to sys.setprofile() for each thread, before its\n",
      "        run() method is called.\n",
      "    \n",
      "    settrace(func)\n",
      "        Set a trace function for all threads started from the threading module.\n",
      "        \n",
      "        The func will be passed to sys.settrace() for each thread, before its run()\n",
      "        method is called.\n",
      "    \n",
      "    stack_size(...)\n",
      "        stack_size([size]) -> size\n",
      "        \n",
      "        Return the thread stack size used when creating new threads.  The\n",
      "        optional size argument specifies the stack size (in bytes) to be used\n",
      "        for subsequently created threads, and must be 0 (use platform or\n",
      "        configured default) or a positive integer value of at least 32,768 (32k).\n",
      "        If changing the thread stack size is unsupported, a ThreadError\n",
      "        exception is raised.  If the specified size is invalid, a ValueError\n",
      "        exception is raised, and the stack size is unmodified.  32k bytes\n",
      "         currently the minimum supported stack size value to guarantee\n",
      "        sufficient stack space for the interpreter itself.\n",
      "        \n",
      "        Note that some platforms may have particular restrictions on values for\n",
      "        the stack size, such as requiring a minimum stack size larger than 32 KiB or\n",
      "        requiring allocation in multiples of the system memory page size\n",
      "        - platform documentation should be referred to for more information\n",
      "        (4 KiB pages are common; using multiples of 4096 for the stack size is\n",
      "        the suggested approach in the absence of more specific information).\n",
      "\n",
      "DATA\n",
      "    TIMEOUT_MAX = 9223372036.0\n",
      "    __all__ = ['get_ident', 'active_count', 'Condition', 'current_thread',...\n",
      "\n",
      "FILE\n",
      "    /usr/lib/python3.9/threading.py\n",
      "\n",
      "\n"
     ]
    }
   ],
   "source": [
    "help(threading)"
   ]
  },
  {
   "cell_type": "markdown",
   "metadata": {
    "slideshow": {
     "slide_type": "slide"
    }
   },
   "source": [
    "## `threading.active_count()`\n",
    "Returns the number of `Thread` objects currently alive."
   ]
  },
  {
   "cell_type": "code",
   "execution_count": 5,
   "metadata": {
    "scrolled": true
   },
   "outputs": [
    {
     "data": {
      "text/plain": [
       "8"
      ]
     },
     "execution_count": 5,
     "metadata": {},
     "output_type": "execute_result"
    }
   ],
   "source": [
    "# Returns number of thread objects currently running\n",
    "threading.active_count()"
   ]
  },
  {
   "cell_type": "markdown",
   "metadata": {
    "slideshow": {
     "slide_type": "slide"
    }
   },
   "source": [
    "## `threading.main_thread()`\n",
    "Returns the main `Thread` object (from which Python was started)."
   ]
  },
  {
   "cell_type": "code",
   "execution_count": 6,
   "metadata": {
    "slideshow": {
     "slide_type": "-"
    }
   },
   "outputs": [
    {
     "data": {
      "text/plain": [
       "<_MainThread(MainThread, started 3069909376)>"
      ]
     },
     "execution_count": 6,
     "metadata": {},
     "output_type": "execute_result"
    }
   ],
   "source": [
    "# Gives ID to the object from which python was started\n",
    "threading.main_thread()"
   ]
  },
  {
   "cell_type": "markdown",
   "metadata": {
    "slideshow": {
     "slide_type": "slide"
    }
   },
   "source": [
    "## `threading.current_thread()`\n",
    "Return the current `Thread` controlled by the user."
   ]
  },
  {
   "cell_type": "code",
   "execution_count": 8,
   "metadata": {
    "scrolled": true,
    "slideshow": {
     "slide_type": "-"
    }
   },
   "outputs": [
    {
     "data": {
      "text/plain": [
       "<_MainThread(MainThread, started 3069909376)>"
      ]
     },
     "execution_count": 8,
     "metadata": {},
     "output_type": "execute_result"
    }
   ],
   "source": [
    "# Returns current thread controlled by user may or may not be the main thread\n",
    "threading.current_thread()"
   ]
  },
  {
   "cell_type": "markdown",
   "metadata": {
    "slideshow": {
     "slide_type": "slide"
    }
   },
   "source": [
    "## `threading.get_ident()`\n",
    "Return a non-zero integer that uniquely identifies the current thread."
   ]
  },
  {
   "cell_type": "code",
   "execution_count": 11,
   "metadata": {
    "slideshow": {
     "slide_type": "-"
    }
   },
   "outputs": [
    {
     "data": {
      "text/plain": [
       "3069909376"
      ]
     },
     "execution_count": 11,
     "metadata": {},
     "output_type": "execute_result"
    }
   ],
   "source": [
    "# Returns identity of the current thread\n",
    "threading.get_ident()\n",
    "# Important for conditions that only certain threads can run"
   ]
  },
  {
   "cell_type": "markdown",
   "metadata": {
    "slideshow": {
     "slide_type": "slide"
    }
   },
   "source": [
    "## `threading.enumerate()`\n",
    "Returns a list of all `Thread` objects currently alive."
   ]
  },
  {
   "cell_type": "code",
   "execution_count": 12,
   "metadata": {
    "scrolled": true,
    "slideshow": {
     "slide_type": "-"
    }
   },
   "outputs": [
    {
     "data": {
      "text/plain": [
       "[<_MainThread(MainThread, started 3069909376)>,\n",
       " <Thread(IOPub, started daemon 3010458688)>,\n",
       " <Heartbeat(Heartbeat, started daemon 2999972928)>,\n",
       " <Thread(Thread-3, started daemon 2970612800)>,\n",
       " <Thread(Thread-4, started daemon 2960127040)>,\n",
       " <ControlThread(Control, started daemon 2949641280)>,\n",
       " <HistorySavingThread(IPythonHistorySavingThread, started 2939155520)>,\n",
       " <ParentPollerUnix(Thread-2, started daemon 2930762816)>]"
      ]
     },
     "execution_count": 12,
     "metadata": {},
     "output_type": "execute_result"
    }
   ],
   "source": [
    "# Returns list of all the threads alive\n",
    "threading.enumerate()"
   ]
  },
  {
   "cell_type": "markdown",
   "metadata": {
    "slideshow": {
     "slide_type": "slide"
    }
   },
   "source": [
    "# `threading` demo\n",
    "We will use a function that simply waits for a specified time."
   ]
  },
  {
   "cell_type": "code",
   "execution_count": 13,
   "metadata": {},
   "outputs": [],
   "source": [
    "def myFunc(i,t):              # receives a task ID and a wait time\n",
    "    time.sleep(t)             # wait the specified time\n",
    "    print(\"%3d %6.2f\"%(i,t))  # display the ID and wait time"
   ]
  },
  {
   "cell_type": "code",
   "execution_count": 14,
   "metadata": {
    "scrolled": true
   },
   "outputs": [
    {
     "name": "stdout",
     "output_type": "stream",
     "text": [
      "  0   2.00\n"
     ]
    }
   ],
   "source": [
    "i = 0    # task ID\n",
    "t = 2.0  # delay time\n",
    "myFunc(i, t)"
   ]
  },
  {
   "cell_type": "markdown",
   "metadata": {
    "slideshow": {
     "slide_type": "slide"
    }
   },
   "source": [
    "## `threading.Thread()`\n",
    "A class that defines threads and thread operations.\n",
    "\n",
    "`threading.Thread(target, name, args)`\n",
    "\n",
    "* `target`: a function\n",
    "* `name`: the thread name\n",
    "* `args`: an argument tuple for the function invocation\n",
    "\n",
    "We will work primarily with `target` and `args`."
   ]
  },
  {
   "cell_type": "code",
   "execution_count": 15,
   "metadata": {
    "slideshow": {
     "slide_type": "slide"
    }
   },
   "outputs": [],
   "source": [
    "threading.Thread?"
   ]
  },
  {
   "cell_type": "code",
   "execution_count": 17,
   "metadata": {},
   "outputs": [
    {
     "name": "stdout",
     "output_type": "stream",
     "text": [
      "<Thread(Thread-6, initial)>\n"
     ]
    }
   ],
   "source": [
    "# Defining a thread\n",
    "# target = a function previously defined, args = inputs passed into previously defined function\n",
    "t = threading.Thread( target = myFunc, args = (0,1))\n",
    "print(t)"
   ]
  },
  {
   "cell_type": "markdown",
   "metadata": {
    "slideshow": {
     "slide_type": "slide"
    }
   },
   "source": [
    "## `Thread.start()`\n",
    "Starts the activity of a thread object.\n",
    "\n",
    "A thread is considered **alive** once its activity starts. "
   ]
  },
  {
   "cell_type": "code",
   "execution_count": 18,
   "metadata": {
    "scrolled": true
   },
   "outputs": [
    {
     "name": "stdout",
     "output_type": "stream",
     "text": [
      "# of threads before thread start = 8\n",
      "# of threads after thread start = 9\n",
      "  0   1.00\n",
      "# of threads after thread start = 8\n"
     ]
    }
   ],
   "source": [
    "# define a thread that waits for 1 second\n",
    "t = threading.Thread( target = myFunc, args=(0,1))\n",
    "\n",
    "print('# of threads before thread start =', threading.active_count())\n",
    "t.start() # starts thread\n",
    "print('# of threads after thread start =', threading.active_count())\n",
    "time.sleep(2)\n",
    "print('# of threads after thread start =', threading.active_count())"
   ]
  },
  {
   "cell_type": "markdown",
   "metadata": {
    "slideshow": {
     "slide_type": "slide"
    }
   },
   "source": [
    "## `Thread.is_alive()`\n",
    "Returns a boolean indicating whether a thread is alive."
   ]
  },
  {
   "cell_type": "code",
   "execution_count": 19,
   "metadata": {},
   "outputs": [
    {
     "name": "stdout",
     "output_type": "stream",
     "text": [
      "0 True\n",
      "1 True\n",
      "  0   2.00\n",
      "2 False\n",
      "3 False\n",
      "4 False\n"
     ]
    }
   ],
   "source": [
    "# define thread (waits for 2 seconds)\n",
    "t = threading.Thread( target = myFunc, args = (0,2))\n",
    "\n",
    "# start the thread\n",
    "t.start()\n",
    "\n",
    "# check thread status\n",
    "for i in range(5):\n",
    "    print( i, t.is_alive()) # prints time and bool if alive\n",
    "    time.sleep(1)           # check every 1 second"
   ]
  },
  {
   "cell_type": "markdown",
   "metadata": {
    "slideshow": {
     "slide_type": "slide"
    }
   },
   "source": [
    "We can define multiple threads, then initiate them at once."
   ]
  },
  {
   "cell_type": "code",
   "execution_count": 20,
   "metadata": {
    "slideshow": {
     "slide_type": "-"
    }
   },
   "outputs": [],
   "source": [
    "ta = threading.Thread( target = myFunc, args = (0,2.0))\n",
    "tb = threading.Thread( target = myFunc, args = (1,3.0))\n",
    "tc = threading.Thread( target = myFunc, args = (2,5.0))"
   ]
  },
  {
   "cell_type": "code",
   "execution_count": 21,
   "metadata": {
    "scrolled": true,
    "slideshow": {
     "slide_type": "-"
    }
   },
   "outputs": [
    {
     "name": "stdout",
     "output_type": "stream",
     "text": [
      "alive threads 8\n",
      "alive threads 11\n",
      "  0   2.00\n",
      "  1   3.00\n",
      "  2   5.00\n"
     ]
    }
   ],
   "source": [
    "# Check how many threads are alive\n",
    "print('alive threads', threading.active_count())\n",
    "\n",
    "# start all threads in close succession\n",
    "ta.start() #  short time\n",
    "tb.start() # medium time\n",
    "tc.start() #   long time\n",
    "\n",
    "print('alive threads', threading.active_count())"
   ]
  },
  {
   "cell_type": "markdown",
   "metadata": {
    "slideshow": {
     "slide_type": "slide"
    }
   },
   "source": [
    "We can check thread status over time."
   ]
  },
  {
   "cell_type": "code",
   "execution_count": 23,
   "metadata": {},
   "outputs": [],
   "source": [
    "ta = threading.Thread( target = myFunc, args = (0,2.0) )\n",
    "tb = threading.Thread( target = myFunc, args = (1,3.0) )\n",
    "tc = threading.Thread( target = myFunc, args = (2,5.0) )"
   ]
  },
  {
   "cell_type": "code",
   "execution_count": 24,
   "metadata": {
    "scrolled": true,
    "slideshow": {
     "slide_type": "-"
    }
   },
   "outputs": [
    {
     "name": "stdout",
     "output_type": "stream",
     "text": [
      "0 True True True\n",
      "1 True True True\n",
      "  0   2.00\n",
      "2 False True True\n",
      "  1   3.00\n",
      "3 False False True\n",
      "4 False False True\n",
      "5 False False True\n",
      "  2   5.00\n",
      "6 False False False\n",
      "7 False False False\n",
      "8 False False False\n",
      "9 False False False\n"
     ]
    }
   ],
   "source": [
    "# start all threads in close succession\n",
    "ta.start() #  short time\n",
    "tb.start() # medium time\n",
    "tc.start() #   long time\n",
    "\n",
    "for i in range(10):\n",
    "    print(i, ta.is_alive(), tb.is_alive(), tc.is_alive())\n",
    "    time.sleep(1)"
   ]
  },
  {
   "cell_type": "code",
   "execution_count": null,
   "metadata": {},
   "outputs": [],
   "source": [
    "## Quick Review\n",
    "## threading.main_thread()          - returns main thread\n",
    "## threading.current_thread()       - returns current thread\n",
    "## threading.get_ident()            - returns thread ID\n",
    "## threading.enumerate()            - lists all active therads\n",
    "## threading.Thread(target, name, args) - target is a previously defined function, args are passed into that function\n",
    "## Thread.is_alive()                - returns bool if thread is active\n",
    "## theading.active_count()          - returns number of threads active\n",
    "## Thread.start()                   - Thread begins running program defined in target untill complete"
   ]
  },
  {
   "cell_type": "markdown",
   "metadata": {
    "slideshow": {
     "slide_type": "slide"
    }
   },
   "source": [
    "# `queue` module\n",
    "Implements a multi-producer, multi-consumer system.\n",
    "* **producers**: add elements to a queue\n",
    "* **consumers**: remove elements from a queue\n",
    "\n",
    "Used to pass data between code executed in separate threads."
   ]
  },
  {
   "cell_type": "markdown",
   "metadata": {
    "heading_collapsed": true,
    "slideshow": {
     "slide_type": "slide"
    }
   },
   "source": [
    "## `Queue` class\n",
    "A class that defines a FIFO queue and associated operations."
   ]
  },
  {
   "cell_type": "markdown",
   "metadata": {
    "slideshow": {
     "slide_type": "slide"
    }
   },
   "source": [
    "## `Queue.put()`\n",
    "Put an item into the queue."
   ]
  },
  {
   "cell_type": "markdown",
   "metadata": {
    "slideshow": {
     "slide_type": "slide"
    }
   },
   "source": [
    "## `Queue.get()`\n",
    "Remove and return an item from the queue."
   ]
  },
  {
   "cell_type": "markdown",
   "metadata": {
    "slideshow": {
     "slide_type": "slide"
    }
   },
   "source": [
    "## `Queue.task_done()`\n",
    "Indicate that a formerly enqueued task is complete."
   ]
  },
  {
   "cell_type": "markdown",
   "metadata": {
    "slideshow": {
     "slide_type": "slide"
    }
   },
   "source": [
    "##  `Queue.join()`\n",
    "Blocks execution until all items in the `Queue` have been processed."
   ]
  },
  {
   "cell_type": "markdown",
   "metadata": {
    "slideshow": {
     "slide_type": "slide"
    }
   },
   "source": [
    "Experiment with the `queue` class using a **fast producer** function,..."
   ]
  },
  {
   "cell_type": "code",
   "execution_count": 25,
   "metadata": {},
   "outputs": [],
   "source": [
    "import string\n",
    "def myA(Q): # puts items into a queue named Q\n",
    "    message = 'Hello Colorado School of Mines students enrolled in CSCI 250'\n",
    "    \n",
    "    for item in (message.split()):\n",
    "        Q.put(item)                     # put into the queue\n",
    "        print('>A>', item)              # announce a 'put' action\n",
    "        time.sleep(0.5)                 # short delay"
   ]
  },
  {
   "cell_type": "markdown",
   "metadata": {
    "slideshow": {
     "slide_type": "slide"
    }
   },
   "source": [
    "...,and a couple of **slow consumer** functions:"
   ]
  },
  {
   "cell_type": "code",
   "execution_count": 28,
   "metadata": {},
   "outputs": [],
   "source": [
    "def myB(Q): # gets items from a queue named Q\n",
    "    while True:        \n",
    "        item = Q.get()                       # get from the queue\n",
    "        print('\\t <B<',item)                 # announce a 'get' action\n",
    "        time.sleep(1.0)                      # medium delay between get   \n",
    "        Q.task_done()                        # mark task completion\n",
    "        \n",
    "def myC(Q): # gets items from a queue named Q\n",
    "    while True:        \n",
    "        item = Q.get()                       # get from the queue        \n",
    "        print('\\t <C<',item)                 # announce a 'get' action\n",
    "        time.sleep(3.0)                      # long delay between get \n",
    "        Q.task_done()                        # mark task completion"
   ]
  },
  {
   "cell_type": "markdown",
   "metadata": {
    "slideshow": {
     "slide_type": "slide"
    }
   },
   "source": [
    "We will start all threads in close succession (\"at once\"):\n",
    "* A ads to Q faster than B and C can extract from Q\n",
    "* Q gets longer because the consumers cannot keep up\n",
    "* when A is done, B and C continue to consume from Q\n",
    "* B (medium delay) extracts more from Q than C (long delay)"
   ]
  },
  {
   "cell_type": "code",
   "execution_count": 32,
   "metadata": {},
   "outputs": [],
   "source": [
    "# define a queue\n",
    "Q = queue.Queue()\n",
    "\n",
    "# define threads for producer (A) and consumers (B,C)\n",
    "tA = threading.Thread(target=myA, args=(Q,)) # put   in Q;  short delay\n",
    "tB = threading.Thread(target=myB, args=(Q,)) # get from Q; medium delay\n",
    "tC = threading.Thread(target=myC, args=(Q,)) # get from Q;   long delay"
   ]
  },
  {
   "cell_type": "code",
   "execution_count": 33,
   "metadata": {
    "slideshow": {
     "slide_type": "slide"
    }
   },
   "outputs": [
    {
     "name": "stdout",
     "output_type": "stream",
     "text": [
      ">A> Hello\n",
      "\t <B< Hello\n",
      ">A> Colorado\n",
      "\t <C< Colorado\n",
      ">A> School\n",
      "\t <B< School\n",
      ">A> of\n",
      ">A> Mines\n",
      "\t <B< of\n",
      ">A> students\n",
      ">A> enrolled\n",
      "\t <B< Mines\n",
      "\t <C< students\n",
      ">A> in\n",
      ">A> CSCI\n",
      "\t <B< enrolled\n",
      ">A> 250\n",
      "\t <B< in\n",
      "\t <B< CSCI\n",
      "\t <C< 250\n"
     ]
    }
   ],
   "source": [
    "# start all programs as independent threads\n",
    "tA.start() \n",
    "tB.start() \n",
    "tC.start()\n",
    "\n",
    "# keep all threads working until the queue is empty\n",
    "Q.join() "
   ]
  },
  {
   "cell_type": "markdown",
   "metadata": {
    "slideshow": {
     "slide_type": "slide"
    }
   },
   "source": [
    "<img src=\"https://www.dropbox.com/s/7vd3ezqkyhdxmap/demo.png?raw=1\" width=\"10%\" align=\"left\">\n",
    "\n",
    "# Demo\n",
    "Set-up a producer and a consumer, and pass data between them:\n",
    "\n",
    "* the producer adds to the queue and waits;\n",
    "* the consumer gets from the queue when data are available;\n",
    "* the process ends when the queue is empty."
   ]
  },
  {
   "cell_type": "code",
   "execution_count": 34,
   "metadata": {
    "slideshow": {
     "slide_type": "slide"
    }
   },
   "outputs": [],
   "source": [
    "# define producer\n",
    "def myPROD(Q, n):\n",
    "\n",
    "    for i in range(n):\n",
    "        print('P: put',i*i)  # announce a 'put' action\n",
    "        Q.put(i*i)           # put into the queue\n",
    "        time.sleep(1)        # wait 1s\n",
    "        \n",
    "# define consumer\n",
    "def myCONS(Q, n):\n",
    "    \n",
    "    for i in range(n):\n",
    "        h = Q.get()           # get from the queue\n",
    "        print('C: get',h)     # announce a 'get' action\n",
    "        Q.task_done()         # mark task completion"
   ]
  },
  {
   "cell_type": "code",
   "execution_count": 35,
   "metadata": {
    "slideshow": {
     "slide_type": "slide"
    }
   },
   "outputs": [
    {
     "name": "stdout",
     "output_type": "stream",
     "text": [
      "P: put 0\n",
      "C: get 0\n",
      "P: put 1\n",
      "C: get 1\n",
      "P: put 4\n",
      "C: get 4\n",
      "P: put 9\n",
      "C: get 9\n",
      "P: put 16\n",
      "C: get 16\n"
     ]
    }
   ],
   "source": [
    "# create the queue to pass messages\n",
    "Q = queue.Queue()\n",
    "\n",
    "# set how many messages to pass\n",
    "n = 5\n",
    "\n",
    "# define the threads\n",
    "tP = threading.Thread(target=myPROD, args=(Q,n)) # producer\n",
    "tC = threading.Thread(target=myCONS, args=(Q,n)) # consumer\n",
    "\n",
    "# start the threads\n",
    "tP.start()\n",
    "tC.start()\n",
    "\n",
    "# keep working until the queue is empty\n",
    "Q.join()"
   ]
  },
  {
   "cell_type": "markdown",
   "metadata": {
    "slideshow": {
     "slide_type": "slide"
    }
   },
   "source": [
    "<img src=\"https://www.dropbox.com/s/7vd3ezqkyhdxmap/demo.png?raw=1\" width=\"10%\" align=\"left\">\n",
    "\n",
    "# Demo\n",
    "Set-up three processes: a producer, a consumer, and an observer. \n",
    "\n",
    "* the producer passes data to the consumer through a queue\n",
    "* the observer monitors the queue status (length)"
   ]
  },
  {
   "cell_type": "code",
   "execution_count": 36,
   "metadata": {
    "slideshow": {
     "slide_type": "slide"
    }
   },
   "outputs": [],
   "source": [
    "# define the producer\n",
    "# completes task in workT, waits for dt     \n",
    "def myPRO(Q, workT, dt):\n",
    "    \n",
    "    t = 0.0\n",
    "    while t < workT:\n",
    "        Q.put(t)       # add to queue\n",
    "        time.sleep(dt)\n",
    "        t += dt"
   ]
  },
  {
   "cell_type": "code",
   "execution_count": 37,
   "metadata": {
    "slideshow": {
     "slide_type": "slide"
    }
   },
   "outputs": [],
   "source": [
    "# define consumer:\n",
    "# completes task in workT; waits for dt\n",
    "def myCON(Q, workT, dt):\n",
    "    \n",
    "    t = 0.0\n",
    "    while t < workT:\n",
    "        h = Q.get()    # extract from queue\n",
    "        time.sleep(dt)\n",
    "        Q.task_done()    \n",
    "        t += dt"
   ]
  },
  {
   "cell_type": "code",
   "execution_count": 38,
   "metadata": {
    "slideshow": {
     "slide_type": "slide"
    }
   },
   "outputs": [],
   "source": [
    "# define observer\n",
    "# executes task for workT; waits for dt\n",
    "def myOBS(Q, workT, dt):\n",
    "    nt = int(workT / dt)\n",
    "    \n",
    "    t = np.empty(nt)              # time\n",
    "    q = np.empty(nt)              # queue size\n",
    "    \n",
    "    to = time.time()\n",
    "    for i in range(nt):\n",
    "        q[i] = len(Q.queue)       # get queue size\n",
    "        t[i] = time.time() - to   # record the time\n",
    "        time.sleep(dt)\n",
    "    \n",
    "    # plot queue size vs. time\n",
    "    plt.figure(figsize=(15,5))\n",
    "    plt.plot(t,q,'r.')\n",
    "\n",
    "    plt.title('queue monitor')\n",
    "    plt.xlabel('t(s)')\n",
    "    plt.ylabel('Q')\n",
    "    \n",
    "    plt.ylim([0,200])\n",
    "    plt.xlim([0,workT])\n",
    "    plt.grid()\n",
    "    \n",
    "    plt.show()"
   ]
  },
  {
   "cell_type": "markdown",
   "metadata": {
    "slideshow": {
     "slide_type": "slide"
    }
   },
   "source": [
    "### 1 producer, 1 consumer"
   ]
  },
  {
   "cell_type": "code",
   "execution_count": 39,
   "metadata": {
    "slideshow": {
     "slide_type": "slide"
    }
   },
   "outputs": [],
   "source": [
    "pDURATION = 1.0   # producer time\n",
    "pDELAY    = 0.01  # producer delay\n",
    "\n",
    "cDURATION = 3.0   # consumer time\n",
    "cDELAY    = 0.03  # consumer delay\n",
    "\n",
    "oDURATION = 6.0   # observer time\n",
    "oDELAY    = 0.001 # observer delay"
   ]
  },
  {
   "cell_type": "code",
   "execution_count": 40,
   "metadata": {},
   "outputs": [
    {
     "data": {
      "image/png": "[encoded data removed]",
      "text/plain": [
       "<Figure size 1500x500 with 1 Axes>"
      ]
     },
     "metadata": {},
     "output_type": "display_data"
    }
   ],
   "source": [
    "Q = queue.Queue() \n",
    "\n",
    "O  = threading.Thread(target=myOBS, args=(Q, oDURATION, oDELAY)) # observer\n",
    "P  = threading.Thread(target=myPRO, args=(Q, pDURATION, pDELAY)) # producer\n",
    "C  = threading.Thread(target=myCON, args=(Q, cDURATION, cDELAY)) # consumer\n",
    "\n",
    "O.start()    # observer\n",
    "P.start()    # producer\n",
    "C.start()    # consumer\n",
    "\n",
    "Q.join()"
   ]
  },
  {
   "cell_type": "markdown",
   "metadata": {
    "slideshow": {
     "slide_type": "slide"
    }
   },
   "source": [
    "### 2 producers, 2 consumers"
   ]
  },
  {
   "cell_type": "code",
   "execution_count": 41,
   "metadata": {
    "scrolled": false
   },
   "outputs": [
    {
     "data": {
      "image/png": "[encoded data removed]",
      "text/plain": [
       "<Figure size 1500x500 with 1 Axes>"
      ]
     },
     "metadata": {},
     "output_type": "display_data"
    }
   ],
   "source": [
    "Q = queue.Queue() \n",
    "\n",
    "O  = threading.Thread(target=myOBS, args=(Q, oDURATION, oDELAY)) # observer\n",
    "P1 = threading.Thread(target=myPRO, args=(Q, pDURATION, pDELAY)) # producer 1\n",
    "P2 = threading.Thread(target=myPRO, args=(Q, pDURATION, pDELAY)) # producer 2\n",
    "C1 = threading.Thread(target=myCON, args=(Q, cDURATION, cDELAY)) # consumer 1\n",
    "C2 = threading.Thread(target=myCON, args=(Q, cDURATION, cDELAY)) # consumer 2\n",
    "\n",
    "O.start()    # observer\n",
    "P1.start()   # producer 1\n",
    "time.sleep(0.5)\n",
    "P2.start()   # producer 2\n",
    "C1.start()   # consumer 1\n",
    "time.sleep(1.0)\n",
    "C2.start()   # consumer 2\n",
    "\n",
    "Q.join()"
   ]
  },
  {
   "cell_type": "code",
   "execution_count": null,
   "metadata": {},
   "outputs": [],
   "source": []
  }
 ],
 "metadata": {
  "celltoolbar": "Slideshow",
  "kernelspec": {
   "display_name": "Python 3 (ipykernel)",
   "language": "python",
   "name": "python3"
  },
  "language_info": {
   "codemirror_mode": {
    "name": "ipython",
    "version": 3
   },
   "file_extension": ".py",
   "mimetype": "text/x-python",
   "name": "python",
   "nbconvert_exporter": "python",
   "pygments_lexer": "ipython3",
   "version": "3.9.2"
  }
 },
 "nbformat": 4,
 "nbformat_minor": 2
}
