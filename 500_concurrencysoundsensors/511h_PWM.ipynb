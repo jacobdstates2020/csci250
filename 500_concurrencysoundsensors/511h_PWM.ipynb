{
 "cells": [
  {
   "cell_type": "markdown",
   "metadata": {
    "slideshow": {
     "slide_type": "slide"
    }
   },
   "source": [
    "<img src=\"https://www.mines.edu/webcentral/wp-content/uploads/sites/267/2019/02/horizontallightbackground.jpg\" width=\"100%\"> \n",
    "\n",
    "### CSCI250 Python Computing: Building a Sensor System\n",
    "<hr style=\"height:5px\" width=\"100%\" align=\"left\">\n",
    "\n",
    "# Pulse Width Modulation"
   ]
  },
  {
   "cell_type": "markdown",
   "metadata": {
    "slideshow": {
     "slide_type": "slide"
    }
   },
   "source": [
    "# Introduction\n",
    "\n",
    "[Pulse width modulation](https://en.wikipedia.org/wiki/Pulse-width_modulation) is a process that generates square waves of specified frequency and duty cycle:\n",
    "* the **frequency** is how often the signal repeats (given in Hz)\n",
    "* the **duty cycle** is a percentage of high signal within a cycle.\n",
    "\n",
    "<img src=\"https://cdn.sparkfun.com/assets/f/9/c/8/a/512e869bce395fbc64000002.JPG\" width=40%>"
   ]
  },
  {
   "cell_type": "markdown",
   "metadata": {
    "slideshow": {
     "slide_type": "slide"
    }
   },
   "source": [
    "# Simple PWM\n",
    "\n",
    "Make a GPIO pin output high and low voltages in a regular pattern. "
   ]
  },
  {
   "cell_type": "code",
   "execution_count": 4,
   "metadata": {
    "ExecuteTime": {
     "end_time": "2020-11-02T15:07:24.207779Z",
     "start_time": "2020-11-02T15:07:24.186580Z"
    },
    "slideshow": {
     "slide_type": "-"
    }
   },
   "outputs": [],
   "source": [
    "import RPi.GPIO as GPIO\n",
    "import time\n",
    "\n",
    "# use GPIO numbering\n",
    "GPIO.setmode(GPIO.BCM)"
   ]
  },
  {
   "cell_type": "code",
   "execution_count": 5,
   "metadata": {
    "ExecuteTime": {
     "end_time": "2020-11-02T15:07:26.746653Z",
     "start_time": "2020-11-02T15:07:24.959814Z"
    },
    "slideshow": {
     "slide_type": "slide"
    }
   },
   "outputs": [],
   "source": [
    "# simple PWM for set duration\n",
    "def doPWM(pin, frequency, dutyCycle, duration):\n",
    "        \n",
    "    to = time.time()\n",
    "    while time.time() < to + duration:\n",
    "        \n",
    "        GPIO.output(pin, True)              # output high\n",
    "        time.sleep(   dutyCycle /frequency) # wait for a fraction of a cycle\n",
    "\n",
    "        GPIO.output(pin, False)             # output low\n",
    "        time.sleep((1-dutyCycle)/frequency) # wait for the remainder of the cycle"
   ]
  },
  {
   "cell_type": "code",
   "execution_count": 6,
   "metadata": {
    "ExecuteTime": {
     "end_time": "2020-11-02T15:07:31.913647Z",
     "start_time": "2020-11-02T15:07:26.846972Z"
    },
    "slideshow": {
     "slide_type": "slide"
    }
   },
   "outputs": [
    {
     "name": "stderr",
     "output_type": "stream",
     "text": [
      "/tmp/ipykernel_12566/107472123.py:3: RuntimeWarning: This channel is already in use, continuing anyway.  Use GPIO.setwarnings(False) to disable warnings.\n",
      "  GPIO.setup(ledPin, GPIO.OUT)\n"
     ]
    }
   ],
   "source": [
    "# Setup LED pin\n",
    "ledPin = 13\n",
    "GPIO.setup(ledPin, GPIO.OUT)\n",
    "\n",
    "# PWM parameters\n",
    "freq = 60      # [Hz] frequency\n",
    "duty = 0.1   # [ ]  duty cycle\n",
    "duration = 1  # [s]  duration\n",
    "\n",
    "# Flash the LED\n",
    "doPWM(ledPin, freq, duty, duration)"
   ]
  },
  {
   "cell_type": "markdown",
   "metadata": {
    "slideshow": {
     "slide_type": "-"
    }
   },
   "source": [
    "<img src=\"http://www.dropbox.com/s/fcucolyuzdjl80k/todo.jpg?raw=1\" width=\"10%\" align=\"right\">\n",
    "\n",
    "Experiment by changing the frequency and the duty cycle."
   ]
  },
  {
   "cell_type": "markdown",
   "metadata": {
    "slideshow": {
     "slide_type": "slide"
    }
   },
   "source": [
    "### Problem with simple PWM\n",
    "\n",
    "Connect the [buzzer](h_Buzzer.ipynb) and run the following code. \n",
    "\n",
    "It attempts to create a musical A note (440Hz). \n",
    "\n",
    "Notice that the signal is inconsistent, like a cracking voice. "
   ]
  },
  {
   "cell_type": "code",
   "execution_count": 4,
   "metadata": {
    "ExecuteTime": {
     "end_time": "2020-11-02T15:07:37.026126Z",
     "start_time": "2020-11-02T15:07:32.002937Z"
    },
    "slideshow": {
     "slide_type": "slide"
    }
   },
   "outputs": [],
   "source": [
    "# Setup buzzer pin\n",
    "buzPin = 19\n",
    "GPIO.setup(buzPin, GPIO.OUT)\n",
    "\n",
    "# PWM parameters\n",
    "freq = 440    # [Hz] frequency\n",
    "duty = 0.1  # [ ]  duty cycle\n",
    "duration = 1  # [s]  duration\n",
    "\n",
    "# Run buzzer\n",
    "doPWM(buzPin, freq, duty, duration)"
   ]
  },
  {
   "cell_type": "markdown",
   "metadata": {
    "slideshow": {
     "slide_type": "slide"
    }
   },
   "source": [
    "This problem is caused by the `time` module; it gets information from the OS kernel, which is slow with Python on an RPi. \n",
    "\n",
    "It is only accurate to a few ms, which is insufficient for playing musical notes at 100s or 1000s of Hz."
   ]
  },
  {
   "cell_type": "markdown",
   "metadata": {
    "slideshow": {
     "slide_type": "slide"
    }
   },
   "source": [
    "Measure `time.sleep()` by testing how long $1$ms takes. \n",
    "* It takes more than $1$ms on RPis: ~$2-10$ms.\n",
    "\n",
    "For making music with a buzzer, we need something better."
   ]
  },
  {
   "cell_type": "code",
   "execution_count": 47,
   "metadata": {
    "ExecuteTime": {
     "end_time": "2020-11-02T15:07:37.113559Z",
     "start_time": "2020-11-02T15:07:37.097668Z"
    },
    "slideshow": {
     "slide_type": "-"
    }
   },
   "outputs": [
    {
     "name": "stdout",
     "output_type": "stream",
     "text": [
      "2.4673938751220703 ms\n"
     ]
    }
   ],
   "source": [
    "t1 = time.time() # start timer\n",
    "time.sleep(.001) # wait 1 ms\n",
    "t2 = time.time() # stop timer\n",
    "\n",
    "# print actual time taken\n",
    "print((t2-t1)*1000,'ms')"
   ]
  },
  {
   "cell_type": "code",
   "execution_count": 48,
   "metadata": {
    "ExecuteTime": {
     "end_time": "2020-11-02T15:07:37.921001Z",
     "start_time": "2020-11-02T15:07:37.911581Z"
    },
    "slideshow": {
     "slide_type": "-"
    }
   },
   "outputs": [],
   "source": [
    "# clean-up GPIO\n",
    "GPIO.cleanup()"
   ]
  },
  {
   "cell_type": "markdown",
   "metadata": {
    "slideshow": {
     "slide_type": "slide"
    }
   },
   "source": [
    "# Accurate PWM by `pigpio`\n",
    "\n",
    "There are two options for creating more accurate PWM: \n",
    "* **software** timing with code written in C, or \n",
    "* **hardware** timing built-in on selected GPIO pins. \n",
    "\n",
    "The library [`pigpio`](http://abyz.me.uk/rpi/pigpio/python.html) provides access to both, plus many other useful features.\n",
    "\n",
    "We cover only the most essential PWM features here."
   ]
  },
  {
   "cell_type": "markdown",
   "metadata": {
    "slideshow": {
     "slide_type": "slide"
    }
   },
   "source": [
    "### `pigpio` daemon\n",
    "The `pigio` library requires its [daemon](https://en.wikipedia.org/wiki/Daemon_(computing)) to be running. \n",
    "\n",
    "To start the daemon, type the following command into the terminal:\n",
    "\n",
    "[`sudo pigpiod -p 8887`](http://abyz.me.uk/rpi/pigpio/pigpiod.html)\n",
    "\n",
    "**Restart the `pigpio` daemon every time you restart the RPi.**"
   ]
  },
  {
   "cell_type": "markdown",
   "metadata": {
    "slideshow": {
     "slide_type": "slide"
    }
   },
   "source": [
    "Import the `pigpio` library and get a reference to the daemon."
   ]
  },
  {
   "cell_type": "code",
   "execution_count": 4,
   "metadata": {
    "ExecuteTime": {
     "end_time": "2020-11-02T15:07:40.316720Z",
     "start_time": "2020-11-02T15:07:40.293184Z"
    },
    "slideshow": {
     "slide_type": "-"
    }
   },
   "outputs": [],
   "source": [
    "# import pigpio library\n",
    "import pigpio\n",
    "import time\n",
    "\n",
    "# create reference to pigpio daemon\n",
    "pi = pigpio.pi(port = 8887)"
   ]
  },
  {
   "cell_type": "markdown",
   "metadata": {
    "slideshow": {
     "slide_type": "slide"
    }
   },
   "source": [
    "## Hardware timing\n",
    "\n",
    "Creates accurate PWM but is available just on **some** GPIO pins:\n",
    "\n",
    "`12`, `13`, `18`, `19`.\n",
    "\n",
    "Can generate **any** frequency."
   ]
  },
  {
   "cell_type": "markdown",
   "metadata": {
    "slideshow": {
     "slide_type": "slide"
    }
   },
   "source": [
    "[`pi.hardware_PWM(pin, frequency, duty_cycle)`](http://abyz.me.uk/rpi/pigpio/python.html#hardware_PWM) sets the frequency and duty cycle\n",
    "\n",
    "* `pin` is the pin number written on the wedge\n",
    "* `frequency`: integer in Hz\n",
    "* `duty_cycle`: integer 0-1,000,000"
   ]
  },
  {
   "cell_type": "markdown",
   "metadata": {
    "slideshow": {
     "slide_type": "slide"
    }
   },
   "source": [
    "Connect the buzzer and run the following code. \n",
    "\n",
    "It sounds much better than the code based on `time.sleep()`."
   ]
  },
  {
   "cell_type": "code",
   "execution_count": 5,
   "metadata": {
    "ExecuteTime": {
     "end_time": "2020-11-02T15:07:48.200649Z",
     "start_time": "2020-11-02T15:07:43.178313Z"
    },
    "slideshow": {
     "slide_type": "-"
    }
   },
   "outputs": [
    {
     "data": {
      "text/plain": [
       "0"
      ]
     },
     "execution_count": 5,
     "metadata": {},
     "output_type": "execute_result"
    }
   ],
   "source": [
    "buzPin = 19\n",
    "\n",
    "# PWM parameters\n",
    "freq = 440    # [Hz] frequency\n",
    "duty = 0.50   #      duty cycle\n",
    "duration = 1  # [s]  duration\n",
    "\n",
    "# turn the buzzer on\n",
    "pi.hardware_PWM(buzPin, freq, int(duty * 1e6))\n",
    "\n",
    "time.sleep(duration)\n",
    "\n",
    "# turn the buzzer off\n",
    "pi.hardware_PWM(buzPin, 0, 0)"
   ]
  },
  {
   "cell_type": "markdown",
   "metadata": {
    "slideshow": {
     "slide_type": "slide"
    }
   },
   "source": [
    "## Software timing\n",
    "\n",
    "Creates accurate PWM for **some** frequencies (Hz):\n",
    "\n",
    "`8000, 4000, 2000, 1600, 1000, 800, 500, 400, 320, 250, 200, 160, 100, 80, 50, 40, 20, 10`.\n",
    "\n",
    "Can be used on **any** GPIO pin."
   ]
  },
  {
   "cell_type": "markdown",
   "metadata": {
    "slideshow": {
     "slide_type": "slide"
    }
   },
   "source": [
    "[`pi.set_PWM_frequency(pin, frequency)`](http://abyz.me.uk/rpi/pigpio/python.html#set_PWM_frequency). \n",
    "\n",
    "[`pi.set_PWM_dutycycle(pin, duty_cycle)`](http://abyz.me.uk/rpi/pigpio/python.html#set_PWM_dutycycle). \n",
    "\n",
    "* `pin` is the pin number written on the wedge\n",
    "* `frequency` is an integer in Hz\n",
    "* `duty_cycle` is an integer that goes from 0-255"
   ]
  },
  {
   "cell_type": "markdown",
   "metadata": {
    "slideshow": {
     "slide_type": "slide"
    }
   },
   "source": [
    "Connect the buzzer and run the following code. \n",
    "\n",
    "It sounds much better than the code based on `time.sleep()`."
   ]
  },
  {
   "cell_type": "code",
   "execution_count": 7,
   "metadata": {
    "ExecuteTime": {
     "end_time": "2020-11-02T15:07:56.713076Z",
     "start_time": "2020-11-02T15:07:51.676816Z"
    },
    "slideshow": {
     "slide_type": "-"
    }
   },
   "outputs": [
    {
     "data": {
      "text/plain": [
       "0"
      ]
     },
     "execution_count": 7,
     "metadata": {},
     "output_type": "execute_result"
    }
   ],
   "source": [
    "buzPin = 19\n",
    "\n",
    "# PWM parameters\n",
    "freq = 440    # [Hz] frequency\n",
    "duty = 0.50   #      duty cycle\n",
    "duration = 5  # [s]  duration\n",
    "\n",
    "# turn the buzzer on\n",
    "pi.set_PWM_frequency(buzPin,freq)             # set frequency\n",
    "pi.set_PWM_dutycycle(buzPin, int(duty * 255)) # set duty cycle\n",
    "\n",
    "time.sleep(duration)\n",
    "\n",
    "# turn the buzzer off\n",
    "pi.set_PWM_dutycycle(buzPin, 0)"
   ]
  },
  {
   "cell_type": "markdown",
   "metadata": {
    "slideshow": {
     "slide_type": "slide"
    }
   },
   "source": [
    "# Termination\n",
    "\n",
    "Release the resources being used by `pigpio` using [`pi_stop()`](http://abyz.me.uk/rpi/pigpio/python.html#stop)."
   ]
  },
  {
   "cell_type": "code",
   "execution_count": 8,
   "metadata": {
    "ExecuteTime": {
     "end_time": "2020-11-02T15:08:04.830962Z",
     "start_time": "2020-11-02T15:08:04.823095Z"
    },
    "slideshow": {
     "slide_type": "-"
    }
   },
   "outputs": [],
   "source": [
    "# release pigpio resources\n",
    "pi.stop()"
   ]
  },
  {
   "cell_type": "markdown",
   "metadata": {
    "heading_collapsed": true,
    "slideshow": {
     "slide_type": "slide"
    }
   },
   "source": [
    "# PWM Uses\n",
    "\n",
    "* **Buzzer**\n",
    "    * Play tones for user feedback, music, alarms, etc.\n",
    "    * Frequency has more noticeable effect than duty cycle\n",
    "* **LED**\n",
    "    * Create user feedback, indicate the state of something.\n",
    "    * For fast frequencies, duty cycle affects brightness. \n",
    "    * Slower frequencies can create strobing effects."
   ]
  },
  {
   "cell_type": "code",
   "execution_count": null,
   "metadata": {
    "hidden": true
   },
   "outputs": [],
   "source": []
  }
 ],
 "metadata": {
  "celltoolbar": "Slideshow",
  "hide_input": false,
  "kernelspec": {
   "display_name": "Python 3 (ipykernel)",
   "language": "python",
   "name": "python3"
  },
  "language_info": {
   "codemirror_mode": {
    "name": "ipython",
    "version": 3
   },
   "file_extension": ".py",
   "mimetype": "text/x-python",
   "name": "python",
   "nbconvert_exporter": "python",
   "pygments_lexer": "ipython3",
   "version": "3.9.2"
  },
  "varInspector": {
   "cols": {
    "lenName": 16,
    "lenType": 16,
    "lenVar": 40
   },
   "kernels_config": {
    "python": {
     "delete_cmd_postfix": "",
     "delete_cmd_prefix": "del ",
     "library": "var_list.py",
     "varRefreshCmd": "print(var_dic_list())"
    },
    "r": {
     "delete_cmd_postfix": ") ",
     "delete_cmd_prefix": "rm(",
     "library": "var_list.r",
     "varRefreshCmd": "cat(var_dic_list()) "
    }
   },
   "types_to_exclude": [
    "module",
    "function",
    "builtin_function_or_method",
    "instance",
    "_Feature"
   ],
   "window_display": false
  }
 },
 "nbformat": 4,
 "nbformat_minor": 4
}
