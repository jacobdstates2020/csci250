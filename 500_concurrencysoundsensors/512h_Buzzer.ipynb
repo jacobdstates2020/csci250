{
 "cells": [
  {
   "cell_type": "markdown",
   "metadata": {
    "slideshow": {
     "slide_type": "slide"
    }
   },
   "source": [
    "<img src=\"https://www.mines.edu/webcentral/wp-content/uploads/sites/267/2019/02/horizontallightbackground.jpg\" width=\"100%\"> \n",
    "\n",
    "### CSCI250 Python Computing: Building a Sensor System\n",
    "<hr style=\"height:5px\" width=\"100%\" align=\"left\">\n",
    "\n",
    "# Buzzer"
   ]
  },
  {
   "cell_type": "markdown",
   "metadata": {
    "slideshow": {
     "slide_type": "slide"
    }
   },
   "source": [
    "# Introduction\n",
    "\n",
    "<img src=\"https://cdn.sparkfun.com//assets/parts/6/2/3/07950-Mini_Speaker_-_PC_Mount_12mm_2.048kHz_-01.jpg\" width=\"30%\" align=\"right\">\n",
    "\n",
    "Buzzers are small **speakers** designed to produce sound at one frequency at a time, often with a square wave instead of a sine wave. \n",
    "\n",
    "They are useful for user feedback or more general sound output. \n",
    "\n",
    "You can learn more about buzzers on [this page](https://en.wikipedia.org/wiki/Buzzer)."
   ]
  },
  {
   "cell_type": "markdown",
   "metadata": {
    "slideshow": {
     "slide_type": "slide"
    }
   },
   "source": [
    "# Wiring\n",
    "\n",
    "Buzzers have only 2 pins at the bottom. \n",
    "* the one labeled `-` connects to GND\n",
    "* the one labeled `+` connects to a GPIO pin.\n",
    "\n",
    "<img src=\"https://www.dropbox.com/s/n08rc2o9ycgbr2y/wiring_buzzer.PNG?raw=1\" width=\"30%\" align=\"left\">\n",
    "\n",
    "<img src=\"https://www.dropbox.com/s/9aw460t1laupu4o/circuit_buzzer.jpg?raw=1\" width=\"30%\" align=\"right\">"
   ]
  },
  {
   "cell_type": "markdown",
   "metadata": {
    "slideshow": {
     "slide_type": "slide"
    }
   },
   "source": [
    "# Programming\n",
    "\n",
    "In order to sound the buzzer, we need to input a square wave into it. \n",
    "\n",
    "Take a look at the [PWM notebook](h_PWM.ipynb) to learn about creating pulse-width modulation signals to drive the buzzer with `pigpio`."
   ]
  },
  {
   "cell_type": "markdown",
   "metadata": {
    "slideshow": {
     "slide_type": "slide"
    }
   },
   "source": [
    "### `pigpio` daemon\n",
    "The `pigio` library requires its [daemon](https://en.wikipedia.org/wiki/Daemon_(computing)) to be running. \n",
    "\n",
    "To start the daemon, type the following command into the terminal:\n",
    "\n",
    "[`sudo pigpiod -p 8887`](http://abyz.me.uk/rpi/pigpio/pigpiod.html)\n",
    "\n",
    "**Restart the `pigpio` daemon every time you restart the RPi.**"
   ]
  },
  {
   "cell_type": "code",
   "execution_count": 6,
   "metadata": {
    "ExecuteTime": {
     "end_time": "2020-11-02T14:45:20.365313Z",
     "start_time": "2020-11-02T14:45:20.354881Z"
    },
    "slideshow": {
     "slide_type": "slide"
    }
   },
   "outputs": [],
   "source": [
    "# import pigpio library\n",
    "import pigpio\n",
    "import time\n",
    "\n",
    "# create reference to pigpio daemon\n",
    "pi = pigpio.pi(port = 8887)"
   ]
  },
  {
   "cell_type": "code",
   "execution_count": 7,
   "metadata": {
    "ExecuteTime": {
     "end_time": "2020-11-02T14:46:03.317316Z",
     "start_time": "2020-11-02T14:45:58.256973Z"
    },
    "slideshow": {
     "slide_type": "slide"
    }
   },
   "outputs": [
    {
     "data": {
      "text/plain": [
       "0"
      ]
     },
     "execution_count": 7,
     "metadata": {},
     "output_type": "execute_result"
    }
   ],
   "source": [
    "buzPin = 18\n",
    "\n",
    "# PWM parameters\n",
    "freq = 440    # [Hz] frequency\n",
    "duty = 0.50   # [ ]  duty cycle\n",
    "duration = 5  # [s]  duration\n",
    "\n",
    "# turn the buzzer on\n",
    "pi.hardware_PWM(buzPin, freq, int(duty * 1e6))\n",
    "\n",
    "time.sleep(duration)\n",
    "\n",
    "# turn the buzzer off\n",
    "pi.hardware_PWM(buzPin, 0, 0)"
   ]
  },
  {
   "cell_type": "code",
   "execution_count": 3,
   "metadata": {
    "ExecuteTime": {
     "end_time": "2020-11-02T14:46:03.424312Z",
     "start_time": "2020-11-02T14:46:03.404629Z"
    },
    "slideshow": {
     "slide_type": "slide"
    }
   },
   "outputs": [],
   "source": [
    "# release pigpio resources\n",
    "pi.stop()"
   ]
  },
  {
   "cell_type": "markdown",
   "metadata": {
    "slideshow": {
     "slide_type": "skip"
    }
   },
   "source": [
    "# Troubleshooting\n",
    "\n",
    "* **I get error messages when I run my code.**\n",
    "    * There's probably an issue with your code, not any of the components. Read the error message and try to understand what it's telling you in order to fix it.\n",
    "    \n",
    "* **The buzzer doesn't make any sounds.**\n",
    "    * There's a good chance that you've done your wiring incorrectly or there's a bug in your code.\n",
    "    * Make sure that you output an alternating square wave for the buzzer, and not just setting it to a high voltage.\n",
    "    * If you're convinced that your buzzer is broken, try using your neighbor's buzzer. If the new one works, yours is likely broken."
   ]
  },
  {
   "cell_type": "markdown",
   "metadata": {
    "slideshow": {
     "slide_type": "slide"
    }
   },
   "source": [
    "<img src=\"https://www.dropbox.com/s/wj23ce93pa9j8pe/demo.png?raw=1\" width=\"10%\" align=\"left\">\n",
    "\n",
    "# Exercise\n",
    "\n",
    "Setup a circuit with a buzzer and play tones from C5 to C6 for 1 second each. Use [this website](https://pages.mtu.edu/~suits/notefreqs.html) for the frequencies of notes, store them in a dictionary."
   ]
  }
 ],
 "metadata": {
  "celltoolbar": "Slideshow",
  "hide_input": false,
  "kernelspec": {
   "display_name": "Python 3 (ipykernel)",
   "language": "python",
   "name": "python3"
  },
  "language_info": {
   "codemirror_mode": {
    "name": "ipython",
    "version": 3
   },
   "file_extension": ".py",
   "mimetype": "text/x-python",
   "name": "python",
   "nbconvert_exporter": "python",
   "pygments_lexer": "ipython3",
   "version": "3.9.2"
  },
  "varInspector": {
   "cols": {
    "lenName": 16,
    "lenType": 16,
    "lenVar": 40
   },
   "kernels_config": {
    "python": {
     "delete_cmd_postfix": "",
     "delete_cmd_prefix": "del ",
     "library": "var_list.py",
     "varRefreshCmd": "print(var_dic_list())"
    },
    "r": {
     "delete_cmd_postfix": ") ",
     "delete_cmd_prefix": "rm(",
     "library": "var_list.r",
     "varRefreshCmd": "cat(var_dic_list()) "
    }
   },
   "types_to_exclude": [
    "module",
    "function",
    "builtin_function_or_method",
    "instance",
    "_Feature"
   ],
   "window_display": false
  }
 },
 "nbformat": 4,
 "nbformat_minor": 4
}
