{
 "cells": [
  {
   "cell_type": "markdown",
   "metadata": {
    "slideshow": {
     "slide_type": "slide"
    }
   },
   "source": [
    "<img src=\"https://www.mines.edu/webcentral/wp-content/uploads/sites/267/2019/02/horizontallightbackground.jpg\" width=\"100%\"> \n",
    "\n",
    "### CSCI250 Python Computing: Building a Sensor System\n",
    "<hr style=\"height:5px\" width=\"100%\" align=\"left\">\n",
    "\n",
    "# LAB: Music player\n",
    "## Jacob States"
   ]
  },
  {
   "cell_type": "markdown",
   "metadata": {
    "slideshow": {
     "slide_type": "slide"
    }
   },
   "source": [
    "# Introduction\n",
    "\n",
    "The goal of this lab is to learn about creating square wave outputs with the RPi in order to make sound through a buzzer. This lab will have you play music read from a data file."
   ]
  },
  {
   "cell_type": "markdown",
   "metadata": {
    "slideshow": {
     "slide_type": "slide"
    }
   },
   "source": [
    "<img src=\"https://www.dropbox.com/s/u628vjn2uc5h3ua/notebook.png?raw=1\" width=\"10%\" align=\"right\">\n",
    "\n",
    "Read through\n",
    "* the [PWM notebook](h_PWM.ipynb) to learn about square wave outputs\n",
    "* the [buzzer notebook](h_Buzzer.ipynb) to learn how to connect a buzzer.\n",
    "* the [Reed switch notebook](h_ReedSwitch.ipynb) to learn how to connect a Reed switch. \n",
    "\n",
    "**Build the circuits in all notebooks to ensure that everything works correctly.**"
   ]
  },
  {
   "cell_type": "code",
   "execution_count": 1,
   "metadata": {},
   "outputs": [],
   "source": [
    "# Function that plays audio\n",
    "# The interrupt with the reed switch\n",
    "# Then incorporate concurrency"
   ]
  },
  {
   "cell_type": "markdown",
   "metadata": {
    "slideshow": {
     "slide_type": "skip"
    }
   },
   "source": [
    "# Pre-lab questions\n",
    "\n",
    "### Buzzer\n",
    "1. Why is the `pigpio` library better than writing your own PWM code?\n",
    "    * Because the time module is inaccurate for measuring microsecond time intervals\n",
    "2. How does the duty cycle affect the sound of the buzzer?\n",
    "    * It impacts the amount of time in one cycle a signal is on which can be perceived as continuous sound or beating.\n",
    "3. Using an LED, slowly increase the PWM frequency; at what frequency can you no longer tell if it is flashing?\n",
    "    * 60 Hz which is why most screens are minimum 60 hz to avoid flickering."
   ]
  },
  {
   "cell_type": "markdown",
   "metadata": {
    "slideshow": {
     "slide_type": "slide"
    }
   },
   "source": [
    "# Directions\n",
    "\n",
    "You goal is to read audio data from a file (format described below) and play the audio through a buzzer. \n",
    "\n",
    "You will also use an LED to visually indicate the pitch of the sound being played by dimming the LED with PWM.\n",
    "\n",
    "You will then generate stereo sound by playing the same song in different octaves in different speakers.\n",
    "\n",
    "You will use a Reed switch to initiate or interrupt code execution, including during parallel runs."
   ]
  },
  {
   "cell_type": "markdown",
   "metadata": {
    "slideshow": {
     "slide_type": "slide"
    }
   },
   "source": [
    "* Read audio data from file.\n",
    "    * The data are in a 2D array with 2 columns: \n",
    "        1. the frequency of the note in Hz, and \n",
    "        2. the duration of the note in s.\n",
    "    * The array elements are `float` type, but the `pigpio` PWM functions require `int` type.\n",
    "    \n",
    "* Play the sound through a buzzer with  the correct pitch and duration as specified in the data file."
   ]
  },
  {
   "cell_type": "markdown",
   "metadata": {
    "slideshow": {
     "slide_type": "slide"
    }
   },
   "source": [
    "* Indicate the pitch visually with an LED:\n",
    "    * As each note is played through the buzzer, dim the LED to indicate the pitch of the note being played. \n",
    "    * Low frequencies correspond to a darker LED, and higher pitches to a brighter LED.\n",
    "    "
   ]
  },
  {
   "cell_type": "markdown",
   "metadata": {
    "slideshow": {
     "slide_type": "slide"
    }
   },
   "source": [
    "* Use `threading` to play the song on two buzzers:\n",
    "    * **left**: take the song one octave down\n",
    "    * **right**: take the song one octave up"
   ]
  },
  {
   "cell_type": "markdown",
   "metadata": {},
   "source": [
    "* initiate/interrupt the song using a Reed switch\n",
    "    * play the tune only while the Reed switch is on\n",
    "    * turn off the buzzer(s) when the Reed switch is off"
   ]
  },
  {
   "cell_type": "markdown",
   "metadata": {
    "slideshow": {
     "slide_type": "slide"
    }
   },
   "source": [
    "### `pigpio` daemon\n",
    "\n",
    "Before you begin, start the `pigpio` daemon using the command\n",
    "\n",
    "[`sudo pigpiod -p 8887`](http://abyz.me.uk/rpi/pigpio/pigpiod.html)."
   ]
  },
  {
   "cell_type": "markdown",
   "metadata": {
    "slideshow": {
     "slide_type": "skip"
    }
   },
   "source": [
    "# Extra credit:\n",
    "\n",
    "* Create sheet music from the song provided using `matplotlib`. If you're unfamiliar with sheet music, [this webpage](https://www.musicnotes.com/now/tips/how-to-read-sheet-music/) provides some good instructions. Your sheet music does not need to be perfect, but should have the basic features such as the horizontal lines and notes placed correctly on them.\n",
    "\n",
    "<img src=\"http://www.simplifyingtheory.com/wp-content/uploads/2015/07/how-to-learn-sheet-music.png\" width=\"40%\">\n",
    "\n",
    "* Recreate the audio data you saved in the [Studio lab](l_Studio.ipynb) using your buzzer. Because that data are analog but the buzzer only produces square waves, you'll have to do some approximations of the real audio, such as in the following image:\n",
    "\n",
    "<img src=\"http://www.zelect.in/assets/inverter/articles/square-wave-vs-sine-wave-inverter-a37f5c5a23b20d24113b9311ebf12822a11e4e9f4ffd10762380bce2b65d66a0.jpg\" width=\"50%\">\n",
    "\n",
    "**Hint**: this exercise requires an understanding of Fourier transforms and time-frequency analysis. Use ready-made functions like `specgram`.\n"
   ]
  },
  {
   "cell_type": "markdown",
   "metadata": {
    "slideshow": {
     "slide_type": "slide"
    }
   },
   "source": [
    "* Create your own jingle or song:\n",
    "    * Use something simple, e.g. *Marry Had a Little Lamb*.\n",
    "    * Save your jingle to a `numpy` file. \n",
    "    * Make sure you use the same format described before."
   ]
  },
  {
   "cell_type": "markdown",
   "metadata": {
    "slideshow": {
     "slide_type": "slide"
    }
   },
   "source": [
    "# Your code\n",
    "\n",
    "No starter code is provided for this lab. Use comments throughout your code so we can understand what it does. Even if you can't figure out how to write the code for something, a comment explaining what you wanted will get partial credit."
   ]
  },
  {
   "cell_type": "code",
   "execution_count": 2,
   "metadata": {
    "slideshow": {
     "slide_type": "-"
    }
   },
   "outputs": [
    {
     "name": "stdout",
     "output_type": "stream",
     "text": [
      "[262. 370. 392.   0. 262. 330.   0. 370.   0. 440. 392. 330.   0. 262.\n",
      "   0. 220. 185.   0. 185.   0. 185.   0. 196.   0. 185.   0. 185.   0.\n",
      " 185.   0. 196. 233. 262.   0. 262.   0. 262.   0. 262.   0.]\n",
      "[0.71428571 0.71428571 0.71428571 0.71428571 0.53571429 0.17857143\n",
      " 0.17857143 0.17857143 0.17857143 0.17857143 0.53571429 0.17857143\n",
      " 0.17857143 0.17857143 0.17857143 0.17857143 0.08928571 0.08928571\n",
      " 0.08928571 0.08928571 0.08928571 0.08928571 0.17857143 0.80357143\n",
      " 0.08928571 0.08928571 0.08928571 0.08928571 0.08928571 0.08928571\n",
      " 0.17857143 0.53571429 0.08928571 0.08928571 0.08928571 0.08928571\n",
      " 0.08928571 0.08928571 0.08928571 0.71428571]\n"
     ]
    }
   ],
   "source": [
    "# Imports Song File\n",
    "import numpy as np\n",
    "import time\n",
    "import RPi.GPIO as GPIO\n",
    "# Load Audio Data\n",
    "s = np.load('song.npy')\n",
    "#print(s)\n",
    "f = s[:,0]\n",
    "t = s[:,1]\n",
    "print(f)\n",
    "print(t)"
   ]
  },
  {
   "cell_type": "code",
   "execution_count": 4,
   "metadata": {},
   "outputs": [],
   "source": [
    "# Plays Song File\n",
    "\n",
    "import pigpio\n",
    "import time\n",
    "pi = pigpio.pi(port=8887)\n",
    "\n",
    "buzPin = 19\n",
    "i = 0\n",
    "while i < len(f):\n",
    "        #PWM parameters\n",
    "        \n",
    "        freq = int(f[i])\n",
    "        duty = 0.3\n",
    "        duration = t[i]\n",
    "        pi.hardware_PWM(buzPin, freq, int(duty * 1e6))\n",
    "        time.sleep(duration)\n",
    "        i += 1\n",
    "pi.hardware_PWM(buzPin, 0, 0)\n",
    "pi.stop()"
   ]
  },
  {
   "cell_type": "raw",
   "metadata": {
    "slideshow": {
     "slide_type": "skip"
    }
   },
   "source": [
    "# Post lab\n",
    "\n",
    "<img src=\"http://www.dropbox.com/s/fcucolyuzdjl80k/todo.jpg?raw=1\" width=\"10%\" align=\"right\">\n",
    "\n",
    "Before you submit the lab, make sure everything works as you expect by restarting the kernel: select **Kernel > Restart & Run All**.\n",
    "\n",
    "Answer the following questions.\n",
    "\n",
    "1. What elements of this lab did you find easy/challenging?\n",
    "    * Coming up with a plan of attack or organizing the code\n",
    "2. What did you like/dislike about this lab?\n",
    "    * Im not sure I think I would have had a lot of fun if this hadnt been such a hellish week. Sorry for the short attempt I have not had the time to go through this weeks content. I really wanted to do the pokemon red, blue, or yellow gba themes :(.\n",
    "3. If you did anything worthy of extra credit, tell us about it here!\n",
    "    * Nope"
   ]
  },
  {
   "cell_type": "markdown",
   "metadata": {
    "slideshow": {
     "slide_type": "skip"
    }
   },
   "source": [
    "# Submit\n",
    "* Make sure to update your name and department in the top markdown cell.\n",
    "\n",
    "* Rename the Jupyter notebook with the following convention:\n",
    "**HL?-FirstLast.ipynb** (replace ? with the lab number)\n",
    "\n",
    "* Turn in your Jupyter notebook on Canvas. Email submissions don't count.\n",
    "\n",
    "* Include pictures of all the circuits you made."
   ]
  },
  {
   "cell_type": "markdown",
   "metadata": {
    "slideshow": {
     "slide_type": "slide"
    }
   },
   "source": [
    "# Honor code\n",
    "Unless explicitly specified, labs are **individual exercises**. Your submission is subject to the [**Mines Honor Code**](http://inside.mines.edu/~epoeter/_GW/CSMHonorCodeUndergradHandbook.pdf)."
   ]
  }
 ],
 "metadata": {
  "celltoolbar": "Slideshow",
  "hide_input": false,
  "kernelspec": {
   "display_name": "Python 3 (ipykernel)",
   "language": "python",
   "name": "python3"
  },
  "language_info": {
   "codemirror_mode": {
    "name": "ipython",
    "version": 3
   },
   "file_extension": ".py",
   "mimetype": "text/x-python",
   "name": "python",
   "nbconvert_exporter": "python",
   "pygments_lexer": "ipython3",
   "version": "3.9.2"
  },
  "varInspector": {
   "cols": {
    "lenName": 16,
    "lenType": 16,
    "lenVar": 40
   },
   "kernels_config": {
    "python": {
     "delete_cmd_postfix": "",
     "delete_cmd_prefix": "del ",
     "library": "var_list.py",
     "varRefreshCmd": "print(var_dic_list())"
    },
    "r": {
     "delete_cmd_postfix": ") ",
     "delete_cmd_prefix": "rm(",
     "library": "var_list.r",
     "varRefreshCmd": "cat(var_dic_list()) "
    }
   },
   "types_to_exclude": [
    "module",
    "function",
    "builtin_function_or_method",
    "instance",
    "_Feature"
   ],
   "window_display": false
  }
 },
 "nbformat": 4,
 "nbformat_minor": 4
}
