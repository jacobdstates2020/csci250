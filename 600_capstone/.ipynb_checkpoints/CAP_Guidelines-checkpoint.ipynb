{
 "cells": [
  {
   "cell_type": "markdown",
   "metadata": {},
   "source": [
    "<img src=\"https://www.mines.edu/webcentral/wp-content/uploads/sites/267/2019/02/horizontallightbackground.jpg\" width=\"100%\"> \n",
    "\n",
    "### CSCI250 Python Computing: Building a Sensor System\n",
    "<hr style=\"height:5px\" width=\"100%\" align=\"left\">\n",
    "\n",
    "# Capstone project guidelines"
   ]
  },
  {
   "cell_type": "markdown",
   "metadata": {},
   "source": [
    "# Introduction\n",
    "This is a hands-on class, and therefore its final act will not be a final exam, but a **capstone project**. This will give you an opportunity to apply concepts and techniques learned in class to a project of your choice. We are setting-up a few rules in order to facilitate evaluation consistency, but otherwise we would like to see your ideas at work. We hope that you will turn this project into something practical and of interest to you, rather than just something you do for course credit."
   ]
  },
  {
   "cell_type": "markdown",
   "metadata": {},
   "source": [
    "# Sensors\n",
    "The scope of possible projects is broad and open-ended. We have listed some example projects at the end of this notebook to provide some inspiration. If you need or would like to use additional sensors that are not available in the class kit, we can order parts for you from [SparkFun](https://www.sparkfun.com/). <b>Any sensors we order for you must be returned by the end of the semester.</b> If you want to keep the extra sensors, you may purchase them yourself.\n",
    "\n",
    "<div class=\"alert alert-block alert-warning\">\n",
    "    \n",
    "**Let us know right away what sensors you need and make the case for why costs are justified.**\n",
    "\n",
    "</div>"
   ]
  },
  {
   "cell_type": "markdown",
   "metadata": {},
   "source": [
    "# Rules"
   ]
  },
  {
   "cell_type": "markdown",
   "metadata": {},
   "source": [
    "### 1. Work in teams of 2-4 students.\n",
    "> **Divide tasks** among group members and clearly indicate who is responsible for what.\n",
    "\n",
    "<div class=\"alert alert-block alert-warning\">\n",
    "    \n",
    "**Decide right away on a group leader who will coordinate activities and submit progress reports.**\n",
    "\n",
    "</div>"
   ]
  },
  {
   "cell_type": "markdown",
   "metadata": {},
   "source": [
    "### 2. Design projects to include the following components:\n",
    "> Make use of **at least 3 unique types of sensors**. Sensor provides access to data, so resistors do not count.\n",
    "* **Collect** and store data (or status info) in external files.\n",
    "* **Process** data using `numpy` arrays and efficient (vectorized, concurrent) calculations.\n",
    "* **Display** data in the final report to demonstrate the project functionality.\n",
    "* **Interpret** the project data and provide a discussion on the project outcome/success.\n",
    "    \n",
    "<div class=\"alert alert-block alert-warning\">\n",
    "    \n",
    "**Speak up early if you would like to pursue a cool project that may not meet all stated requirements.**\n",
    "\n",
    "</div>"
   ]
  },
  {
   "cell_type": "markdown",
   "metadata": {},
   "source": [
    "### 3. Conclude the project with a group report in the form of a Jupyter notebook.\n",
    "Notebooks will be graded on the following criteria:\n",
    "* **Complete** - Does the report explain what you did and how?\n",
    "* **Correct** - Is your (hardware and software) implementation correct?\n",
    "* **Clear** - Is your (written and oral) presentation clear and easy to understand?\n",
    "* **Concise** - Did the report contain only relevant information for the project?\n",
    "       \n",
    "<div class=\"alert alert-block alert-warning\">\n",
    "       \n",
    "**The report should include a statement of the contribution made by each team member.**\n",
    "\n",
    "</div>"
   ]
  },
  {
   "cell_type": "markdown",
   "metadata": {},
   "source": [
    "###  4. Demonstrate the project features and functionality in a short video.\n",
    "> We will play the videos in class at the end of the semester for peer review.\n",
    "* The videos should be uploaded to a public site (YouTube, Google Drive, Dropbox, etc.).\n",
    "* A link to the video should be included in the notebook. Do not upload the video through Canvas.\n",
    "* The video should be no longer than $5$min.\n",
    "* Videos will be evaluated on **the 4 C's** listed for the reports.\n",
    "\n",
    "<div class=\"alert alert-block alert-warning\">\n",
    "    \n",
    "**All team members should be featured in and contribute to the project video presentation.**\n",
    "\n",
    "</div>"
   ]
  },
  {
   "cell_type": "markdown",
   "metadata": {},
   "source": [
    "# Timeline"
   ]
  },
  {
   "cell_type": "markdown",
   "metadata": {},
   "source": [
    "### Nov 5/Nov 8 - Project proposal\n",
    "* Provide the title and description of the project.\n",
    "* List the names and roles of all team members.\n",
    "* State how the project requirements will be met.\n",
    "* Give the project timeline and milestones.\n",
    "* List hardware elements you intend to use (or acquire)."
   ]
  },
  {
   "cell_type": "markdown",
   "metadata": {},
   "source": [
    "### Nov 22/Nov 29 - Progress update\n",
    "* Explain how much progress you have made on your project.\n",
    "* Discuss if you are you ahead or behind your original timeline.\n",
    "* List challenges and the steps you are taking to address them."
   ]
  },
  {
   "cell_type": "markdown",
   "metadata": {},
   "source": [
    "### Dec 6/Dec 8 - Final reports due\n",
    "* Submit the final and complete project notebook."
   ]
  },
  {
   "cell_type": "markdown",
   "metadata": {},
   "source": [
    "### Dec 9/Dec 11 - Presentation video due\n",
    "* Submit the link to the presentation video."
   ]
  },
  {
   "cell_type": "markdown",
   "metadata": {},
   "source": [
    "### Dec 13 + Dec 15 - Final presentations\n",
    "* All videos will be played in class.\n",
    "* All students will provide peer review."
   ]
  },
  {
   "cell_type": "markdown",
   "metadata": {},
   "source": [
    "# Examples\n",
    "\n",
    "These following examples do not necessarily meet all the requirements listed above. We are including them here for your inspiration. There are plenty of project ideas are available on website like [this one](https://www.hackster.io/raspberry-pi/projects).\n",
    "\n",
    "### [Line following robot](https://circuitdigest.com/microcontroller-projects/raspberry-pi-line-follower-robot)\n",
    "<img src=\"https://circuitdigest.com/sites/default/files/projectimage_mic/Raspberry-pi-line-follower-robot.jpg\" width=\"40%\" />\n",
    "\n",
    "### [Bop It](https://www.instructables.com/id/Bop-It-with-FPGA-Board/)\n",
    "<img src=\"https://upload.wikimedia.org/wikipedia/commons/thumb/b/b1/Bop-It_Extreme_2_%28Green_Side%29.jpg/220px-Bop-It_Extreme_2_%28Green_Side%29.jpg\" width=\"40%\" />\n",
    "\n",
    "### [Maze solving robot](https://www.zagrosrobotics.com/shop/custom.aspx?recid=69)\n",
    "<img src=\"https://img.youtube.com/vi/JFrexM1UKO4/0.jpg\" width=\"40%\" />\n",
    "\n",
    "### [Automatic plant watering](http://www.takecareofmyplant.com/)\n",
    "<img src=\"https://video-images.vice.com/articles/5d3091b5c0fe940008acb061/lede/1563464539830-takecareofmyplant.png?crop=1xw:0.8503xh;0xw,0.0404xh&resize=700:*\" width=\"40%\" />\n",
    "\n",
    "### [Home security](https://www.raspberrypi.org/blog/smartphone-connected-door-lock/)\n",
    "<img src=\"https://www.raspberrypi.org/app/uploads/2017/01/FVET3BKIYB2E8K7.LARGE_-500x281.jpg\" width=\"40%\" />\n",
    "\n",
    "### [Weather station](https://projects.raspberrypi.org/en/projects/build-your-own-weather-station)\n",
    "<img src=\"https://projects-static.raspberrypi.org/projects/build-your-own-weather-station/8c3ce668f4ad4d0bdc20ef24c8e7f3d35c41cf1b/en/images/BYOWS.png\" width=\"40%\" />"
   ]
  }
 ],
 "metadata": {
  "hide_input": false,
  "kernelspec": {
   "display_name": "Python 3",
   "language": "python",
   "name": "python3"
  },
  "language_info": {
   "codemirror_mode": {
    "name": "ipython",
    "version": 3
   },
   "file_extension": ".py",
   "mimetype": "text/x-python",
   "name": "python",
   "nbconvert_exporter": "python",
   "pygments_lexer": "ipython3",
   "version": "3.8.5"
  },
  "varInspector": {
   "cols": {
    "lenName": 16,
    "lenType": 16,
    "lenVar": 40
   },
   "kernels_config": {
    "python": {
     "delete_cmd_postfix": "",
     "delete_cmd_prefix": "del ",
     "library": "var_list.py",
     "varRefreshCmd": "print(var_dic_list())"
    },
    "r": {
     "delete_cmd_postfix": ") ",
     "delete_cmd_prefix": "rm(",
     "library": "var_list.r",
     "varRefreshCmd": "cat(var_dic_list()) "
    }
   },
   "types_to_exclude": [
    "module",
    "function",
    "builtin_function_or_method",
    "instance",
    "_Feature"
   ],
   "window_display": false
  }
 },
 "nbformat": 4,
 "nbformat_minor": 2
}
