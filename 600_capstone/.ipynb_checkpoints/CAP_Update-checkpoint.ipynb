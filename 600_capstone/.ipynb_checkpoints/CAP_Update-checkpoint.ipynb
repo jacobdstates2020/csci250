{
 "cells": [
  {
   "cell_type": "markdown",
   "metadata": {},
   "source": [
    "<img src=\"https://3a2vzv37nkuw3esf6a3u2t7s-wpengine.netdna-ssl.com/webcentral/wp-content/uploads/sites/267/2019/02/horizontaldarkbackground.jpg\" width=\"55%\" align=\"left\"> \n",
    "<br><br><br><br><br>\n",
    "<font size=3 color='#08088A'>\n",
    "<b>CSCI250 Python Computing: Building a Sensor System</b> <br><br>\n",
    "Capstone progress report\n",
    "</font>\n",
    "<hr style=\"height:5px\" width=\"55%\" align=\"left\">"
   ]
  },
  {
   "cell_type": "markdown",
   "metadata": {},
   "source": [
    "# Project title and members\n",
    "\n",
    "### Recording musical scales from a trombone with piezoelement and microphone\n",
    "\n",
    "##### Members: Carston Erlander and Jacob States"
   ]
  },
  {
   "cell_type": "markdown",
   "metadata": {},
   "source": [
    "# What tasks have you completed thus far?\n",
    "\n",
    "We currently have a two seperate loops to record piezoelement and audio data upon pressing a recording button. The loop records data for a given time interval and while a button is held. We have also implemented an escape/stop recording button that immediately exits the loop. I have also created graphs of the raw audio data."
   ]
  },
  {
   "cell_type": "markdown",
   "metadata": {},
   "source": [
    "# What tasks are yet to be completed? \n",
    "\n",
    "##### We still need to\n",
    "- Filter audio and piezo data\n",
    "- Compare audio and piezo data graphs\n",
    "- Store arrays to numpy files\n",
    "- Record scales from trombone\n",
    "- Report Video\n",
    "\n",
    "##### Additionally as stretch goals\n",
    "- Concurrency for recording the piezo and audio \n",
    "- Potentially fourier transform audio and piezo data to get frequencys\n",
    "- Play back frequencies on a buzzer "
   ]
  },
  {
   "cell_type": "markdown",
   "metadata": {},
   "source": [
    "# What is your (revised) timeline to completion?\n",
    "\n",
    "We are currently on time. But here is our timeline:\n",
    "\n",
    "##### December 2\n",
    "- Filtered audio and piezo data\n",
    "- Stored data in retrievable files\n",
    "- Displayed graphs for both data sets\n",
    "\n",
    "##### December 4\n",
    "- If possible concurrency, fourier transformed data, and buzzer to play back notes\n",
    "- Recorded scales from trombone\n",
    "- Recorded video for report\n",
    "\n",
    "##### December 6\n",
    "- Assembled and complete notebook\n",
    "\n",
    "##### December 10\n",
    "- Edited and completed video"
   ]
  },
  {
   "cell_type": "code",
   "execution_count": null,
   "metadata": {},
   "outputs": [],
   "source": []
  }
 ],
 "metadata": {
  "kernelspec": {
   "display_name": "Python 3 (ipykernel)",
   "language": "python",
   "name": "python3"
  },
  "language_info": {
   "codemirror_mode": {
    "name": "ipython",
    "version": 3
   },
   "file_extension": ".py",
   "mimetype": "text/x-python",
   "name": "python",
   "nbconvert_exporter": "python",
   "pygments_lexer": "ipython3",
   "version": "3.9.2"
  },
  "varInspector": {
   "cols": {
    "lenName": 16,
    "lenType": 16,
    "lenVar": 40
   },
   "kernels_config": {
    "python": {
     "delete_cmd_postfix": "",
     "delete_cmd_prefix": "del ",
     "library": "var_list.py",
     "varRefreshCmd": "print(var_dic_list())"
    },
    "r": {
     "delete_cmd_postfix": ") ",
     "delete_cmd_prefix": "rm(",
     "library": "var_list.r",
     "varRefreshCmd": "cat(var_dic_list()) "
    }
   },
   "types_to_exclude": [
    "module",
    "function",
    "builtin_function_or_method",
    "instance",
    "_Feature"
   ],
   "window_display": false
  }
 },
 "nbformat": 4,
 "nbformat_minor": 2
}
