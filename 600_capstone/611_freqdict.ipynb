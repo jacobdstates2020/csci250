{
 "cells": [
  {
   "cell_type": "code",
   "execution_count": 7,
   "id": "fe047f57",
   "metadata": {},
   "outputs": [],
   "source": [
    "#Note names, index is how many pitches above C0 the note is\n",
    "#frequency converted to index value by index=12log(base2)(frequency)-48\n",
    "pitches=['C0','Db0','D0','Eb0','E0','F0','Gb0','G0','Ab0','A0','Bb0','B0',\n",
    "         'C1','Db1','D1','Eb1','E1','F1','Gb1','G1','Ab1','A1','Bb1','B1',\n",
    "         'C2','Db2','D2','Eb2','E2','F2','Gb2','G2','Ab2','A2','Bb2','B2',\n",
    "         'C3','Db3','D3','Eb3','E3','F3','Gb3','G3','Ab3','A3','Bb3','B3',\n",
    "         'C4','Db4','D4','Eb4','E4','F4','Gb4','G4','Ab4','A4','Bb4','B4',\n",
    "         'C5','Db5','D5','Eb5','E5','F5','Gb5','G5','Ab5','A5','Bb5','B5',\n",
    "         'C6','Db6','D6','Eb6','E6','F6','Gb6','G6','Ab6','A6','Bb6','B6',\n",
    "         'C7','Db7','D7','Eb7','E7','F7','Gb7','G7','Ab7','A7','Bb7','B7',\n",
    "         'C8','Db8','D8','Eb8','E8','F8','Gb8','G8','Ab8','A8','Bb8','B8']"
   ]
  },
  {
   "cell_type": "code",
   "execution_count": 15,
   "id": "88b788a6",
   "metadata": {},
   "outputs": [],
   "source": [
    "import math\n",
    "\n",
    "def noteName(freq):                     #function to convert frequency to note name\n",
    "    index=int(12*math.log2(freq)-48)    #convert frequency to index value of pitches list\n",
    "    return pitches[index]               #return note name at index "
   ]
  },
  {
   "cell_type": "code",
   "execution_count": 18,
   "id": "9838c9b2",
   "metadata": {},
   "outputs": [
    {
     "name": "stdout",
     "output_type": "stream",
     "text": [
      "C3\n"
     ]
    }
   ],
   "source": [
    "print(noteName(130))"
   ]
  },
  {
   "cell_type": "code",
   "execution_count": null,
   "id": "076701a5",
   "metadata": {},
   "outputs": [],
   "source": []
  }
 ],
 "metadata": {
  "kernelspec": {
   "display_name": "Python 3 (ipykernel)",
   "language": "python",
   "name": "python3"
  },
  "language_info": {
   "codemirror_mode": {
    "name": "ipython",
    "version": 3
   },
   "file_extension": ".py",
   "mimetype": "text/x-python",
   "name": "python",
   "nbconvert_exporter": "python",
   "pygments_lexer": "ipython3",
   "version": "3.9.2"
  }
 },
 "nbformat": 4,
 "nbformat_minor": 5
}
